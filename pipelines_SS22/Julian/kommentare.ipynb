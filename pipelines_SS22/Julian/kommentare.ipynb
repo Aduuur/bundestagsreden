{
 "cells": [
  {
   "cell_type": "code",
   "execution_count": 1,
   "id": "1e401b4d-8523-42f1-b512-4df63092da46",
   "metadata": {},
   "outputs": [],
   "source": [
    "import json\n",
    "import re\n",
    "import collections"
   ]
  },
  {
   "cell_type": "code",
   "execution_count": 2,
   "id": "88ea7a1d-5d57-4348-9af1-f9fa4291924a",
   "metadata": {},
   "outputs": [],
   "source": [
    "with open('../../bundestagsreden parser/speeches_20.jsonl', 'r', encoding='utf8') as fp:\n",
    "    data = list(fp)"
   ]
  },
  {
   "cell_type": "code",
   "execution_count": 3,
   "id": "7c980422-4834-42be-8486-45a627919aa7",
   "metadata": {},
   "outputs": [],
   "source": [
    "speeches = []\n",
    "for line in data:\n",
    "    speeches.append(json.loads(line))"
   ]
  },
  {
   "cell_type": "code",
   "execution_count": 4,
   "id": "0b1932d7-54fe-4256-bef7-10f3dc468c58",
   "metadata": {},
   "outputs": [
    {
     "data": {
      "text/plain": [
       "{'id': 'ID20100200',\n",
       " 'period': '20',\n",
       " 'date': '2021-10-26',\n",
       " 'name': 'Stefan Müller',\n",
       " 'party': 'CDU/CSU',\n",
       " 'redner_id': '11003597',\n",
       " 'text': 'Herr Präsident! Liebe Kolleginnen und Kollegen! Die Konstituierung des Bundestages ist ein Festtag der Demokratie. Und wenn man sich auf der Welt mal umsieht und sich anschaut, wie die Situation anderswo ist, dann muss und darf man festhalten: Dass hier und heute ein unabhängiges, ein frei gewähltes, starkes Parlament zusammenkommt, ist ein Geschenk – ein Geschenk, auf das wir stolz sein und für das wir dankbar sein können, liebe Kolleginnen und Kollegen. {(Beifall bei der CDU/CSU sowie bei Abgeordneten der SPD, des BÜNDNISSES 90/DIE GRÜNEN und der FDP)} Ich sage das deswegen, weil Demokratie ja immer auch ein Streit nach Regeln ist, und diese Regeln geben wir uns mit der Geschäftsordnung, die wir gleich beschließen. Diese Geschäftsordnung hat sich insgesamt bewährt, unser parlamentarisches Miteinander zu organisieren; deswegen werden wir den Antrag der SPD auch unterstützen. Dieses Bewähren gilt insbesondere auch für die Kernaufgaben, die dieses Parlament hat, nämlich die Gesetzgebung und die Regierungskontrolle. Natürlich kann man der Auffassung sein, dass manche der Regeln, die schon einige Jahrzehnte alt sind – die Geschäftsordnung ist, glaube ich, in den 80er-Jahren zum letzten Mal wirklich grundlegend überarbeitet worden –, nicht mehr zeitgemäß sind; darüber herrscht, so denke ich jedenfalls, auch fraktionsübergreifend Übereinstimmung. Frau Kollegin Katzmarek hat es gerade angesprochen: Bundestagspräsident Wolfgang Schäuble hat vor Kurzem angeregt, diese Regeln einer Überarbeitung zu unterziehen. Dem Vorschlag, das im zuständigen Geschäftsordnungsausschuss zu tun, schließen wir uns ausdrücklich an. Nicht überarbeitungsbedürftig ist die Geschäftsordnung für uns allerdings bei der Wahl des Bundeskanzlers. Wir werden ja gleich auch über Änderungsanträge der AfD entscheiden; deswegen möchte ich dazu auch gerne Stellung nehmen und die Position der CDU/CSU hier vortragen. Wir glauben, diese Regelungen haben sich in der Vergangenheit bewährt. Um es in aller Klarheit zu sagen: Eine Kanzlerwahl dient nicht der persönlichen Profilierung einer Fraktion, sondern sie dient dazu, diesem Land eine stabile Regierung zu geben. Deshalb soll ja nach dem Willen der Mütter und Väter des Grundgesetzes eine solche Wahl nur auf die Tagesordnung dürfen, wenn erkennbar ist, dass sich für eine erfolgreiche Kanzlerwahl auch eine erkennbare Mehrheit im Bundestag organisiert hat. Daran orientiert sich auch unsere Geschäftsordnung: Der Bundespräsident macht einen Wahlvorschlag; scheitert dieser Vorschlag, muss ein neuer Vorschlag von mindestens einem Viertel der Abgeordneten im Bundestag unterzeichnet sein. Genau da setzt die AfD an, möchte das ändern, möchte gewissermaßen eine Sonderregel für sich selbst einführen. Man stellt sich die Frage, warum das jetzt ausgerechnet am heutigen Tag stattfindet, wo die Kanzlerwahl gar nicht zur Diskussion steht. {(Beatrix von Storch [AfD]: Aber die Geschäftsordnung!)} Wer sich einmal die letzte Wahlperiode anschaut, der weiß ganz genau: Es geht gar nicht um die Sache, sondern es geht darum, für Social Media die richtigen Videoclips zu produzieren. Es geht darum, hier die große politische Bühne zu haben, um sich inszenieren zu können; es geht um nicht mehr und nicht weniger. {(Beifall bei der CDU/CSU, der SPD, dem BÜNDNIS 90/DIE GRÜNEN, der FDP und der LINKEN)} Die AfD versucht seit mittlerweile vier Jahren, die Bundestagssitzungen für ihren parteipolitischen Klamauk zu missbrauchen. Wir werden nicht zulassen, {(Zuruf von der AfD: Frechheit!)} dass Sie das auch bei der Kanzlerwahl so machen. Die AfD möchte als Fraktion Misstrauensanträge ohne Mindestzahl von Unterstützern stellen können. Hier gilt das Gleiche: Dies ist der Plenarsaal des Bundestages, nicht der Spielplatz für Ihre destruktive Propaganda. {(Beifall bei der CDU/CSU, der SPD, dem BÜNDNIS 90/DIE GRÜNEN und der LINKEN sowie bei Abgeordneten der FDP)} Es würde Ihnen bei diesen Misstrauensanträgen nur darum gehen, permanentes Misstrauen in die Institutionen und in unseren Staat zu säen. Das werden wir nicht zulassen. Deswegen werden wir als CDU/CSU Ihre Anträge ablehnen. {(Beifall bei der CDU/CSU sowie bei Abgeordneten der SPD und der FDP – Dr. Alice Weidel [AfD]: Dafür haben Sie auch die Quittung gekriegt! – Jan Korte [DIE LINKE]: Das war ganz gut! – Gegenruf der Abg. Dr. Alice Weidel [AfD]: Na ja!)} Britta Haßelmann, Bündnis 90/Die Grünen, hat als Nächste das Wort. {(Beifall beim BÜNDNIS\\xa090/DIE GRÜNEN)} ',\n",
       " 'discussion_title': 'Tagesordnungspunkt 2 2021-10-26'}"
      ]
     },
     "execution_count": 4,
     "metadata": {},
     "output_type": "execute_result"
    }
   ],
   "source": [
    "speeches[1]"
   ]
  },
  {
   "cell_type": "code",
   "execution_count": 14,
   "id": "43bbe77c-1249-4f2c-8d16-ba4b65593be2",
   "metadata": {},
   "outputs": [
    {
     "name": "stdout",
     "output_type": "stream",
     "text": [
      "22099\n",
      "['(Beifall bei der SPD sowie bei Abgeordneten des BÜNDNISSES 90/DIE GRÜNEN und der FDP)', '(Beifall bei der CDU/CSU)', '(Beifall bei der CDU/CSU sowie bei Abgeordneten der SPD, des BÜNDNISSES 90/DIE GRÜNEN und der FDP)', '(Beatrix von Storch [AfD]: Aber die Geschäftsordnung!)', '(Beifall bei der CDU/CSU, der SPD, dem BÜNDNIS 90/DIE GRÜNEN, der FDP und der LINKEN)']\n"
     ]
    }
   ],
   "source": [
    "kommentare = []\n",
    "for speech in speeches:\n",
    "    text = speech['text']\n",
    "    matches = re.findall(\"{(.*?)}\", text)\n",
    "\n",
    "    kommentare.extend(matches)\n",
    "    \n",
    "print(len(kommentare))\n",
    "print(kommentare[:5])"
   ]
  },
  {
   "cell_type": "code",
   "execution_count": 15,
   "id": "82861aa6-0f43-4a14-a36e-e24c294945b7",
   "metadata": {},
   "outputs": [],
   "source": [
    "zähler = collections.Counter(kommentare).most_common()\n",
    "# print(zähler)"
   ]
  },
  {
   "cell_type": "code",
   "execution_count": null,
   "id": "a2ae6736-4ddc-4d6a-be22-60545f02b3f6",
   "metadata": {},
   "outputs": [],
   "source": []
  }
 ],
 "metadata": {
  "kernelspec": {
   "display_name": "Python 3",
   "language": "python",
   "name": "python3"
  },
  "language_info": {
   "codemirror_mode": {
    "name": "ipython",
    "version": 3
   },
   "file_extension": ".py",
   "mimetype": "text/x-python",
   "name": "python",
   "nbconvert_exporter": "python",
   "pygments_lexer": "ipython3",
   "version": "3.8.3"
  }
 },
 "nbformat": 4,
 "nbformat_minor": 5
}
