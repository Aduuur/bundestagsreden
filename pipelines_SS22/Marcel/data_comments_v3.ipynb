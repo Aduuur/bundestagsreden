{
 "cells": [
  {
   "cell_type": "code",
   "execution_count": 1,
   "id": "54b24631",
   "metadata": {},
   "outputs": [],
   "source": [
    "import collections\n",
    "import requests\n",
    "import json\n",
    "import re\n",
    "import os\n",
    "import sys\n",
    "import numpy as np\n",
    "import matplotlib.pyplot as plt"
   ]
  },
  {
   "cell_type": "markdown",
   "id": "cfe65297",
   "metadata": {},
   "source": [
    "# Test"
   ]
  },
  {
   "cell_type": "code",
   "execution_count": 2,
   "id": "304b3cb4",
   "metadata": {},
   "outputs": [],
   "source": [
    "with open('../../data/speeches_20.jsonl', 'r', encoding = 'utf8') as fp:\n",
    "    data = list(fp)\n",
    "speeches = []\n",
    "for line in data:\n",
    "    speeches.append(json.loads(line))"
   ]
  },
  {
   "cell_type": "code",
   "execution_count": 3,
   "id": "ea8666f4",
   "metadata": {},
   "outputs": [],
   "source": [
    "def groupSpeechesByParty(speeches):\n",
    "    groupedSpeeches = {}\n",
    "    for speech in speeches:\n",
    "        tpo = speech['party']\n",
    "        if tpo in groupedSpeeches:\n",
    "            groupedSpeeches[tpo].append(speech)\n",
    "        else:\n",
    "            groupedSpeeches[tpo] = [speech]\n",
    "    return groupedSpeeches"
   ]
  },
  {
   "cell_type": "code",
   "execution_count": 4,
   "id": "1d01395f",
   "metadata": {},
   "outputs": [],
   "source": [
    "def clean_partyname(speeches):\n",
    "    for speech in speeches:\n",
    "        if 'BÜNDNIS\\xa090/DIE GRÜNEN'.lower() in speech['party']:\n",
    "            speech.update({'party': 'BÜNDNIS 90/DIE GRÜNEN'})\n",
    "clean_partyname(speeches)"
   ]
  },
  {
   "cell_type": "code",
   "execution_count": 5,
   "id": "bfcb6fed",
   "metadata": {},
   "outputs": [
    {
     "name": "stdout",
     "output_type": "stream",
     "text": [
      "alle Reden: 4684\n"
     ]
    }
   ],
   "source": [
    "groupbyparty = groupSpeechesByParty(speeches)\n",
    "print(f'alle Reden: {len(speeches)}') # Anzahl aller Reden\n",
    "#for ele in groupbyparty:\n",
    "#    print(len(groupbyparty[ele]))\n",
    "# Überprüfung mit bspw.: len(groupbyparty['SPD'])"
   ]
  },
  {
   "cell_type": "code",
   "execution_count": 6,
   "id": "f654e5a8",
   "metadata": {},
   "outputs": [],
   "source": [
    "def extract_comments(speeches):\n",
    "    regex = \"{(.*?)}\" # hier die genaue Definition der Kommentare vom Parser <<< >\n",
    "    comments = []\n",
    "    modified_speeches = []\n",
    "    for speech in speeches:\n",
    "        text = speech['text']\n",
    "        matches = re.findall(regex,text)\n",
    "        speech['comments'] = matches\n",
    "        modified_speeches.append(speech)\n",
    "    return modified_speeches\n",
    "# Funktionsaufruf: speeches_comments = extract_comments(speeches)\n",
    "speeches_comments = extract_comments(speeches)\n",
    "# Funktionsausgabe: print(speeches_comments[0]['comments'])\n",
    "#                   print(speeches_comments[0]['party'])"
   ]
  },
  {
   "cell_type": "code",
   "execution_count": 7,
   "id": "99f15c55",
   "metadata": {},
   "outputs": [
    {
     "name": "stdout",
     "output_type": "stream",
     "text": [
      "Gesamtsumme aller Kommentare: 37975\n"
     ]
    }
   ],
   "source": [
    "# filter: comments per party with contain words and not contain words\n",
    "def filter_with_complex_non_words(search_terms , non_words , speeches_comments):\n",
    "    filtered_speeches = []\n",
    "    for speech in speeches:\n",
    "        for comment in speech['comments']:\n",
    "            if all([term in comment for term in search_terms]) and not any([term in comment for term in non_words]):\n",
    "                filtered_speeches.append(speech)\n",
    "    return filtered_speeches\n",
    "# Funktionsaufruf:  specific_and_non_search = filter_with_complex_non_words(['Beifall','CDU'],['Zuruf'],speeches_comments)\n",
    "# Funktionsausgabe: print(specific_and_non_search[0])                               enthält AND enthält nicht\n",
    "#                   print(len(specific_and_non_search))\n",
    "specific_and_non_search = filter_with_complex_non_words([],[],speeches)\n",
    "print(f'Gesamtsumme aller Kommentare: {len(specific_and_non_search)}')"
   ]
  },
  {
   "cell_type": "code",
   "execution_count": 8,
   "id": "141d8446",
   "metadata": {
    "scrolled": true
   },
   "outputs": [
    {
     "name": "stdout",
     "output_type": "stream",
     "text": [
      "Anzahl Kommentare mit Beteiligung von Linke:        4935\n",
      "Anzahl Kommentare mit Beteiligung von SPD:          17575\n",
      "Anzahl Kommentare mit Beteiligung von Grünen:       17200\n",
      "Anzahl Kommentare mit Beteiligung von CDU/CSU:      11610\n",
      "Anzahl Kommentare mit Beteiligung von FDP:          14697\n",
      "Anzahl Kommentare mit Beteiligung von AfD:          7464\n",
      "Anzahl Kommentare mit Beteiligung von Fraktionslos: 68\n"
     ]
    }
   ],
   "source": [
    "specific_and_non_search = filter_with_complex_non_words(['LINKE'],[],speeches_comments)\n",
    "print(f'Anzahl Kommentare mit Beteiligung von Linke:        {len(specific_and_non_search)}')\n",
    "specific_and_non_search = filter_with_complex_non_words(['SPD'],[],speeches_comments)\n",
    "print(f'Anzahl Kommentare mit Beteiligung von SPD:          {len(specific_and_non_search)}')\n",
    "specific_and_non_search = filter_with_complex_non_words(['DIE GRÜNEN'],[],speeches_comments)\n",
    "print(f'Anzahl Kommentare mit Beteiligung von Grünen:       {len(specific_and_non_search)}')\n",
    "specific_and_non_search = filter_with_complex_non_words(['CDU/CSU'],[],speeches_comments)\n",
    "print(f'Anzahl Kommentare mit Beteiligung von CDU/CSU:      {len(specific_and_non_search)}')\n",
    "specific_and_non_search = filter_with_complex_non_words(['FDP'],[],speeches_comments)\n",
    "print(f'Anzahl Kommentare mit Beteiligung von FDP:          {len(specific_and_non_search)}')\n",
    "specific_and_non_search = filter_with_complex_non_words(['AfD'],[],speeches_comments)\n",
    "print(f'Anzahl Kommentare mit Beteiligung von AfD:          {len(specific_and_non_search)}')\n",
    "specific_and_non_search = filter_with_complex_non_words(['fraktionslos'],[],speeches_comments)\n",
    "print(f'Anzahl Kommentare mit Beteiligung von Fraktionslos: {len(specific_and_non_search)}')"
   ]
  },
  {
   "cell_type": "code",
   "execution_count": 9,
   "id": "c653cef4",
   "metadata": {},
   "outputs": [],
   "source": [
    "# function: speeches_of_party\n",
    "def filter_party (party , speeches_comments):\n",
    "    speeches_of_party = []\n",
    "    for speech in speeches:\n",
    "        if speech['party'] == party:\n",
    "            speeches_of_party.append(speech)\n",
    "    return speeches_of_party\n",
    "\n",
    "# function: speeches_of_party_with_keywords\n",
    "def filter_speeches_of_party(search_terms , non_words , speeches_of_party):\n",
    "    comments_speaker_of_party = []\n",
    "    for speech in speeches_of_party:\n",
    "        for comment in speech['comments']:\n",
    "            if all([term in comment for term in search_terms]) and not any([term in comment for term in non_words]):\n",
    "                comments_speaker_of_party.append(comment)\n",
    "    return comments_speaker_of_party"
   ]
  },
  {
   "cell_type": "code",
   "execution_count": 10,
   "id": "36c92844",
   "metadata": {},
   "outputs": [],
   "source": [
    "keywords = ['Beifall','Zuruf','lachen','Widerspruch','Heiterkeit','Unsinn','Gegenruf']\n",
    "list_party = ['DIE LINKE','SPD','BÜNDNIS 90/DIE GRÜNEN','CDU/CSU','FDP','AfD','fraktionslos']"
   ]
  },
  {
   "cell_type": "code",
   "execution_count": 28,
   "id": "4ae99688",
   "metadata": {},
   "outputs": [
    {
     "name": "stdout",
     "output_type": "stream",
     "text": [
      "Redner von DIE LINKE erhielt insgesamt Beifall: 0\n",
      "Redner von DIE LINKE erhielt Beifall von der DIE LINKE: 0\n",
      "Redner von DIE LINKE erhielt Beifall von der SPD: 0\n",
      "Redner von DIE LINKE erhielt Beifall von der BÜNDNIS 90/DIE GRÜNEN: 0\n",
      "Redner von DIE LINKE erhielt Beifall von der CDU/CSU: 0\n",
      "Redner von DIE LINKE erhielt Beifall von der FDP: 0\n",
      "Redner von DIE LINKE erhielt Beifall von der AfD: 0\n",
      "Redner von DIE LINKE erhielt Beifall von der fraktionslos: 0\n",
      "Redner von BÜNDNIS 90/DIE GRÜNEN erhielt Beifall von der BÜNDNIS 90/DIE GRÜNEN: 4186\n"
     ]
    }
   ],
   "source": [
    "speeches_of_party = filter_party(list_party[0],speeches_comments)\n",
    "speeches_of_party_with_keywords = filter_speeches_of_party( keywords[0] , [] , speeches_of_party)\n",
    "print(f'Redner von {list_party[0]} erhielt insgesamt {keywords[0]}: {len(speeches_of_party_with_keywords)}')\n",
    "\n",
    "speeches_of_party = filter_party(list_party[0],speeches_comments)\n",
    "speeches_of_party_with_keywords = filter_speeches_of_party([keywords[0],'LINKE'] , [] , speeches_of_party)\n",
    "print(f'Redner von {list_party[0]} erhielt {keywords[0]} von der {list_party[0]}: {len(speeches_of_party_with_keywords)}')\n",
    "\n",
    "speeches_of_party = filter_party(list_party[0],speeches_comments)\n",
    "speeches_of_party_with_keywords = filter_speeches_of_party([keywords[0],'SPD'] , [] , speeches_of_party)\n",
    "print(f'Redner von {list_party[0]} erhielt {keywords[0]} von der {list_party[1]}: {len(speeches_of_party_with_keywords)}')\n",
    "\n",
    "speeches_of_party = filter_party(list_party[0],speeches_comments)\n",
    "speeches_of_party_with_keywords = filter_speeches_of_party([keywords[0],'GRÜNE'] , [] , speeches_of_party)\n",
    "print(f'Redner von {list_party[0]} erhielt {keywords[0]} von der {list_party[2]}: {len(speeches_of_party_with_keywords)}')\n",
    "\n",
    "speeches_of_party = filter_party(list_party[0],speeches_comments)\n",
    "speeches_of_party_with_keywords = filter_speeches_of_party([keywords[0],'CDU'] , [] , speeches_of_party)\n",
    "print(f'Redner von {list_party[0]} erhielt {keywords[0]} von der {list_party[3]}: {len(speeches_of_party_with_keywords)}')\n",
    "\n",
    "speeches_of_party = filter_party(list_party[0],speeches_comments)\n",
    "speeches_of_party_with_keywords = filter_speeches_of_party([keywords[0],list_party[4]] , [] , speeches_of_party)\n",
    "print(f'Redner von {list_party[0]} erhielt {keywords[0]} von der {list_party[4]}: {len(speeches_of_party_with_keywords)}')\n",
    "\n",
    "speeches_of_party = filter_party(list_party[0],speeches_comments)\n",
    "speeches_of_party_with_keywords = filter_speeches_of_party([keywords[0],list_party[5]] , [] , speeches_of_party)\n",
    "print(f'Redner von {list_party[0]} erhielt {keywords[0]} von der {list_party[5]}: {len(speeches_of_party_with_keywords)}')\n",
    "\n",
    "speeches_of_party = filter_party(list_party[0],speeches_comments)\n",
    "speeches_of_party_with_keywords = filter_speeches_of_party([keywords[0],'raktionslos'] , [] , speeches_of_party)\n",
    "print(f'Redner von {list_party[0]} erhielt {keywords[0]} von der {list_party[6]}: {len(speeches_of_party_with_keywords)}')\n",
    "\n",
    "speeches_of_party = filter_party(list_party[2],speeches_comments)\n",
    "speeches_of_party_with_keywords = filter_speeches_of_party([keywords[0],'GRÜNE'] , [] , speeches_of_party)\n",
    "print(f'Redner von {list_party[2]} erhielt {keywords[0]} von der {list_party[2]}: {len(speeches_of_party_with_keywords)}')\n",
    "\n",
    "#MD: Hier noch mal das angleich vom Printbefehl und des Filters"
   ]
  },
  {
   "cell_type": "code",
   "execution_count": 33,
   "id": "6e815843",
   "metadata": {},
   "outputs": [
    {
     "name": "stdout",
     "output_type": "stream",
     "text": [
      "DIE LINKE\n",
      "158\n",
      "Redner von DIE LINKE erhielt Beifall von der DIE LINKE: 158\n"
     ]
    }
   ],
   "source": [
    "speeches_of_party = filter_party(list_party[2],speeches)\n",
    "print(list_party[0])\n",
    "speeches_of_party_with_keywords = filter_speeches_of_party([keywords[0],list_party[0]] , [] , speeches_of_party)\n",
    "print(len(speeches_of_party_with_keywords))\n",
    "print(f'Redner von {list_party[0]} erhielt {keywords[0]} von der {list_party[0]}: {len(speeches_of_party_with_keywords)}')"
   ]
  },
  {
   "cell_type": "code",
   "execution_count": 13,
   "id": "b0c57297",
   "metadata": {},
   "outputs": [
    {
     "data": {
      "text/plain": [
       "26917"
      ]
     },
     "execution_count": 13,
     "metadata": {},
     "output_type": "execute_result"
    }
   ],
   "source": [
    "# Alle Kommentare mit Beifall\n",
    "#speeches_of_party = filter_party(list_party[0],speeches_comments)\n",
    "speeches_of_party_with_keywords = filter_speeches_of_party([keywords[0]] ,[], speeches_comments) # Achtung: speeches_comments statt speeches_of_party  \n",
    "len(speeches_of_party_with_keywords)"
   ]
  },
  {
   "cell_type": "code",
   "execution_count": 14,
   "id": "4bfea396",
   "metadata": {},
   "outputs": [
    {
     "data": {
      "text/plain": [
       "{'BÜNDNIS 90/DIE GRÜNEN': ['all comments to Grüne'],\n",
       " 'CDU/CSU': ['all comments to '],\n",
       " 'Fraktionslos': ['all comments to '],\n",
       " 'AfD': ['all comments to '],\n",
       " 'SPD': ['all comments to '],\n",
       " 'FDP': ['all comments to '],\n",
       " 'DIE LINKE': ['all comments to Linke']}"
      ]
     },
     "execution_count": 14,
     "metadata": {},
     "output_type": "execute_result"
    }
   ],
   "source": [
    "comments_to = {'BÜNDNIS 90/DIE GRÜNEN' : ['all comments to Grüne'], \n",
    "               'CDU/CSU'               : ['all comments to '],\n",
    "               'Fraktionslos'          : ['all comments to '],\n",
    "               'AfD'                   : ['all comments to '],\n",
    "               'SPD'                   : ['all comments to '],\n",
    "               'FDP'                   : ['all comments to '],\n",
    "               'DIE LINKE'             : ['all comments to Linke'] }\n",
    "comments_to"
   ]
  },
  {
   "cell_type": "code",
   "execution_count": 15,
   "id": "ff919257",
   "metadata": {},
   "outputs": [
    {
     "data": {
      "text/plain": [
       "['SPD',\n",
       " 'CSU',\n",
       " 'BÜNDNIS 90/DIE GRÜNEN',\n",
       " 'FDP',\n",
       " 'AfD',\n",
       " 'DIE LINKE.',\n",
       " 'CDU',\n",
       " 'unknown',\n",
       " 'SSW',\n",
       " 'Plos']"
      ]
     },
     "execution_count": 15,
     "metadata": {},
     "output_type": "execute_result"
    }
   ],
   "source": [
    "party_names = []\n",
    "for speech in speeches:\n",
    "    if speech['party'] in party_names:\n",
    "        pass\n",
    "    else:\n",
    "        party_names.append(speech['party'])  \n",
    "party_names"
   ]
  },
  {
   "cell_type": "code",
   "execution_count": 16,
   "id": "fdf7eb5d",
   "metadata": {},
   "outputs": [
    {
     "name": "stdout",
     "output_type": "stream",
     "text": [
      "(Beifall bei der SPD, dem BÜNDNIS 90/DIE GRÜNEN und der FDP)\n"
     ]
    }
   ],
   "source": [
    "comments_to = {}\n",
    "for party in party_names:\n",
    "    comments_to.update({ party : [] })\n",
    "for speech in speeches:\n",
    "    if len(speech['comments']) > 0:\n",
    "        for comment in speech['comments']:\n",
    "            for split_comment in comment.split('–'):\n",
    "                comments_to[speech['party']].append(split_comment)\n",
    "print(split_comment)"
   ]
  },
  {
   "cell_type": "code",
   "execution_count": 17,
   "id": "5be44640",
   "metadata": {},
   "outputs": [],
   "source": [
    "nParties = len(party_names)\n",
    "relations_beifall = np.zeros((nParties,nParties))\n",
    "party_search_string = ['LINKE','SPD','GRÜNE','CDU','FDP','AfD','raktionslos']\n",
    "px = 0\n",
    "py = 0\n",
    "for xparty in comments_to:\n",
    "    for comment in comments_to[xparty]:\n",
    "        for py,yparty in enumerate(party_search_string):\n",
    "            if yparty in comment:\n",
    "                if 'Beifall' in comment:\n",
    "                    relations_beifall[px,py] = relations_beifall[px,py] + 1\n",
    "    px = px + 1\n",
    "#plt.imshow(relations_beifall)\n",
    "#plt.colorbar()\n",
    "#plt.show()"
   ]
  },
  {
   "cell_type": "code",
   "execution_count": 18,
   "id": "f172dac2",
   "metadata": {},
   "outputs": [
    {
     "name": "stdout",
     "output_type": "stream",
     "text": [
      "Beifall für Redner LINKE von Partei LINKE: 630.0\n",
      "Beifall für Redner P von Partei SPD: 5989.0\n",
      "Beifall für Redner P von Partei GRÜNE: 5296.0\n",
      "Beifall für Redner P von Partei CDU: 773.0\n",
      "Beifall für Redner P von Partei FDP: 4371.0\n",
      "Beifall für Redner P von Partei AfD: 267.0\n",
      "Beifall für Redner P von Partei raktionslos: 6.0\n"
     ]
    }
   ],
   "source": [
    "print(f'Beifall für Redner {party_search_string[0]} von Partei {party_search_string[0]}: {relations_beifall[0,0]}')\n",
    "print(f'Beifall für Redner {xparty[0]} von Partei {party_search_string[1]}: {relations_beifall[0,1]}')\n",
    "print(f'Beifall für Redner {xparty[0]} von Partei {party_search_string[2]}: {relations_beifall[0,2]}')\n",
    "print(f'Beifall für Redner {xparty[0]} von Partei {party_search_string[3]}: {relations_beifall[0,3]}')\n",
    "print(f'Beifall für Redner {xparty[0]} von Partei {party_search_string[4]}: {relations_beifall[0,4]}')\n",
    "print(f'Beifall für Redner {xparty[0]} von Partei {party_search_string[5]}: {relations_beifall[0,5]}')\n",
    "print(f'Beifall für Redner {xparty[0]} von Partei {party_search_string[6]}: {relations_beifall[0,6]}')"
   ]
  },
  {
   "cell_type": "code",
   "execution_count": 19,
   "id": "baa8e096",
   "metadata": {
    "scrolled": true
   },
   "outputs": [
    {
     "name": "stdout",
     "output_type": "stream",
     "text": [
      "2307.0\n"
     ]
    }
   ],
   "source": [
    "# Idee zur Programmierung: gehe beide Listen durch und iteriere\n",
    "nParties = len(list_party)\n",
    "relations_Beifall = np.zeros((nParties,nParties))\n",
    "party_search_string = ['GRÜNEN','CDU/CSU','raktionslos','AfD','SPD','FDP','LINKE']\n",
    "for px,x_party in enumerate(list_party): # for px,party in enumerate(list_party) = weist einer Liste eine lfd. Nummer zu \n",
    "    for py,y_party in enumerate(list_party):\n",
    "        speeches_of_party = filter_party(list_party[px],speeches_comments)\n",
    "        speeches_of_party_with_keywords = filter_speeches_of_party([keywords[0],list_party[py]],keywords[1:5],speeches_of_party)\n",
    "        relations_Beifall[px,py] = len(speeches_of_party_with_keywords)\n",
    "print(relations_Beifall[4,1])"
   ]
  },
  {
   "cell_type": "code",
   "execution_count": 20,
   "id": "7b82fd81",
   "metadata": {},
   "outputs": [
    {
     "data": {
      "image/png": "[encoded data removed]",
      "text/plain": [
       "<Figure size 432x288 with 2 Axes>"
      ]
     },
     "metadata": {
      "needs_background": "light"
     },
     "output_type": "display_data"
    }
   ],
   "source": [
    "plt.imshow(relations_Beifall)\n",
    "plt.colorbar()\n",
    "plt.show()"
   ]
  },
  {
   "cell_type": "code",
   "execution_count": 21,
   "id": "13f25a28",
   "metadata": {},
   "outputs": [
    {
     "name": "stdout",
     "output_type": "stream",
     "text": [
      "Redner von FDP erhielt Beifall von der SPD: 2307\n",
      "Redner von SPD erhielt Beifall von der FDP: 4180\n",
      "Redner von DIE LINKE erhielt Beifall von der DIE LINKE: 0\n"
     ]
    }
   ],
   "source": [
    "speeches_of_party = filter_party(list_party[4],speeches_comments)\n",
    "speeches_of_party_with_keywords = filter_speeches_of_party([keywords[0],list_party[1]] , keywords[1:5] , speeches_of_party)\n",
    "print(f'Redner von {list_party[4]} erhielt {keywords[0]} von der {list_party[1]}: {len(speeches_of_party_with_keywords)}')\n",
    "\n",
    "speeches_of_party = filter_party(list_party[1],speeches_comments)\n",
    "speeches_of_party_with_keywords = filter_speeches_of_party([keywords[0],list_party[4]] , keywords[1:5] , speeches_of_party)\n",
    "print(f'Redner von {list_party[1]} erhielt {keywords[0]} von der {list_party[4]}: {len(speeches_of_party_with_keywords)}')\n",
    "\n",
    "speeches_of_party = filter_party(list_party[0],speeches_comments)\n",
    "speeches_of_party_with_keywords = filter_speeches_of_party([keywords[0],list_party[0]] , keywords[1:5] , speeches_of_party)\n",
    "print(f'Redner von {list_party[0]} erhielt {keywords[0]} von der {list_party[0]}: {len(speeches_of_party_with_keywords)}')"
   ]
  },
  {
   "cell_type": "code",
   "execution_count": 22,
   "id": "e5776194",
   "metadata": {},
   "outputs": [
    {
     "ename": "TypeError",
     "evalue": "Invalid shape (2,) for image data",
     "output_type": "error",
     "traceback": [
      "\u001b[1;31m---------------------------------------------------------------------------\u001b[0m",
      "\u001b[1;31mTypeError\u001b[0m                                 Traceback (most recent call last)",
      "\u001b[1;32m~\\AppData\\Local\\Temp/ipykernel_4232/1768300734.py\u001b[0m in \u001b[0;36m<module>\u001b[1;34m\u001b[0m\n\u001b[0;32m      6\u001b[0m \u001b[1;31m#np.random.randint(0, 10, size=(len(list_party), len(list_party)))\u001b[0m\u001b[1;33m\u001b[0m\u001b[1;33m\u001b[0m\u001b[0m\n\u001b[0;32m      7\u001b[0m \u001b[1;33m\u001b[0m\u001b[0m\n\u001b[1;32m----> 8\u001b[1;33m \u001b[0max\u001b[0m\u001b[1;33m.\u001b[0m\u001b[0mmatshow\u001b[0m\u001b[1;33m(\u001b[0m\u001b[0mintersection_matrix\u001b[0m\u001b[1;33m,\u001b[0m \u001b[0mcmap\u001b[0m\u001b[1;33m=\u001b[0m\u001b[0mplt\u001b[0m\u001b[1;33m.\u001b[0m\u001b[0mcm\u001b[0m\u001b[1;33m.\u001b[0m\u001b[0mBlues\u001b[0m\u001b[1;33m)\u001b[0m\u001b[1;33m\u001b[0m\u001b[1;33m\u001b[0m\u001b[0m\n\u001b[0m\u001b[0;32m      9\u001b[0m \u001b[1;33m\u001b[0m\u001b[0m\n\u001b[0;32m     10\u001b[0m \u001b[1;32mfor\u001b[0m \u001b[0mpx\u001b[0m \u001b[1;32min\u001b[0m \u001b[0mrange\u001b[0m\u001b[1;33m(\u001b[0m\u001b[1;36m7\u001b[0m\u001b[1;33m)\u001b[0m\u001b[1;33m:\u001b[0m\u001b[1;33m\u001b[0m\u001b[1;33m\u001b[0m\u001b[0m\n",
      "\u001b[1;32mC:\\_Programme\\_Anaconda\\lib\\site-packages\\matplotlib\\axes\\_axes.py\u001b[0m in \u001b[0;36mmatshow\u001b[1;34m(self, Z, **kwargs)\u001b[0m\n\u001b[0;32m   7929\u001b[0m               \u001b[1;34m'aspect'\u001b[0m\u001b[1;33m:\u001b[0m \u001b[1;34m'equal'\u001b[0m\u001b[1;33m,\u001b[0m          \u001b[1;31m# (already the imshow default)\u001b[0m\u001b[1;33m\u001b[0m\u001b[1;33m\u001b[0m\u001b[0m\n\u001b[0;32m   7930\u001b[0m               **kwargs}\n\u001b[1;32m-> 7931\u001b[1;33m         \u001b[0mim\u001b[0m \u001b[1;33m=\u001b[0m \u001b[0mself\u001b[0m\u001b[1;33m.\u001b[0m\u001b[0mimshow\u001b[0m\u001b[1;33m(\u001b[0m\u001b[0mZ\u001b[0m\u001b[1;33m,\u001b[0m \u001b[1;33m**\u001b[0m\u001b[0mkw\u001b[0m\u001b[1;33m)\u001b[0m\u001b[1;33m\u001b[0m\u001b[1;33m\u001b[0m\u001b[0m\n\u001b[0m\u001b[0;32m   7932\u001b[0m         \u001b[0mself\u001b[0m\u001b[1;33m.\u001b[0m\u001b[0mtitle\u001b[0m\u001b[1;33m.\u001b[0m\u001b[0mset_y\u001b[0m\u001b[1;33m(\u001b[0m\u001b[1;36m1.05\u001b[0m\u001b[1;33m)\u001b[0m\u001b[1;33m\u001b[0m\u001b[1;33m\u001b[0m\u001b[0m\n\u001b[0;32m   7933\u001b[0m         \u001b[0mself\u001b[0m\u001b[1;33m.\u001b[0m\u001b[0mxaxis\u001b[0m\u001b[1;33m.\u001b[0m\u001b[0mtick_top\u001b[0m\u001b[1;33m(\u001b[0m\u001b[1;33m)\u001b[0m\u001b[1;33m\u001b[0m\u001b[1;33m\u001b[0m\u001b[0m\n",
      "\u001b[1;32mC:\\_Programme\\_Anaconda\\lib\\site-packages\\matplotlib\\__init__.py\u001b[0m in \u001b[0;36minner\u001b[1;34m(ax, data, *args, **kwargs)\u001b[0m\n\u001b[0;32m   1359\u001b[0m     \u001b[1;32mdef\u001b[0m \u001b[0minner\u001b[0m\u001b[1;33m(\u001b[0m\u001b[0max\u001b[0m\u001b[1;33m,\u001b[0m \u001b[1;33m*\u001b[0m\u001b[0margs\u001b[0m\u001b[1;33m,\u001b[0m \u001b[0mdata\u001b[0m\u001b[1;33m=\u001b[0m\u001b[1;32mNone\u001b[0m\u001b[1;33m,\u001b[0m \u001b[1;33m**\u001b[0m\u001b[0mkwargs\u001b[0m\u001b[1;33m)\u001b[0m\u001b[1;33m:\u001b[0m\u001b[1;33m\u001b[0m\u001b[1;33m\u001b[0m\u001b[0m\n\u001b[0;32m   1360\u001b[0m         \u001b[1;32mif\u001b[0m \u001b[0mdata\u001b[0m \u001b[1;32mis\u001b[0m \u001b[1;32mNone\u001b[0m\u001b[1;33m:\u001b[0m\u001b[1;33m\u001b[0m\u001b[1;33m\u001b[0m\u001b[0m\n\u001b[1;32m-> 1361\u001b[1;33m             \u001b[1;32mreturn\u001b[0m \u001b[0mfunc\u001b[0m\u001b[1;33m(\u001b[0m\u001b[0max\u001b[0m\u001b[1;33m,\u001b[0m \u001b[1;33m*\u001b[0m\u001b[0mmap\u001b[0m\u001b[1;33m(\u001b[0m\u001b[0msanitize_sequence\u001b[0m\u001b[1;33m,\u001b[0m \u001b[0margs\u001b[0m\u001b[1;33m)\u001b[0m\u001b[1;33m,\u001b[0m \u001b[1;33m**\u001b[0m\u001b[0mkwargs\u001b[0m\u001b[1;33m)\u001b[0m\u001b[1;33m\u001b[0m\u001b[1;33m\u001b[0m\u001b[0m\n\u001b[0m\u001b[0;32m   1362\u001b[0m \u001b[1;33m\u001b[0m\u001b[0m\n\u001b[0;32m   1363\u001b[0m         \u001b[0mbound\u001b[0m \u001b[1;33m=\u001b[0m \u001b[0mnew_sig\u001b[0m\u001b[1;33m.\u001b[0m\u001b[0mbind\u001b[0m\u001b[1;33m(\u001b[0m\u001b[0max\u001b[0m\u001b[1;33m,\u001b[0m \u001b[1;33m*\u001b[0m\u001b[0margs\u001b[0m\u001b[1;33m,\u001b[0m \u001b[1;33m**\u001b[0m\u001b[0mkwargs\u001b[0m\u001b[1;33m)\u001b[0m\u001b[1;33m\u001b[0m\u001b[1;33m\u001b[0m\u001b[0m\n",
      "\u001b[1;32mC:\\_Programme\\_Anaconda\\lib\\site-packages\\matplotlib\\axes\\_axes.py\u001b[0m in \u001b[0;36mimshow\u001b[1;34m(self, X, cmap, norm, aspect, interpolation, alpha, vmin, vmax, origin, extent, filternorm, filterrad, resample, url, **kwargs)\u001b[0m\n\u001b[0;32m   5607\u001b[0m                               resample=resample, **kwargs)\n\u001b[0;32m   5608\u001b[0m \u001b[1;33m\u001b[0m\u001b[0m\n\u001b[1;32m-> 5609\u001b[1;33m         \u001b[0mim\u001b[0m\u001b[1;33m.\u001b[0m\u001b[0mset_data\u001b[0m\u001b[1;33m(\u001b[0m\u001b[0mX\u001b[0m\u001b[1;33m)\u001b[0m\u001b[1;33m\u001b[0m\u001b[1;33m\u001b[0m\u001b[0m\n\u001b[0m\u001b[0;32m   5610\u001b[0m         \u001b[0mim\u001b[0m\u001b[1;33m.\u001b[0m\u001b[0mset_alpha\u001b[0m\u001b[1;33m(\u001b[0m\u001b[0malpha\u001b[0m\u001b[1;33m)\u001b[0m\u001b[1;33m\u001b[0m\u001b[1;33m\u001b[0m\u001b[0m\n\u001b[0;32m   5611\u001b[0m         \u001b[1;32mif\u001b[0m \u001b[0mim\u001b[0m\u001b[1;33m.\u001b[0m\u001b[0mget_clip_path\u001b[0m\u001b[1;33m(\u001b[0m\u001b[1;33m)\u001b[0m \u001b[1;32mis\u001b[0m \u001b[1;32mNone\u001b[0m\u001b[1;33m:\u001b[0m\u001b[1;33m\u001b[0m\u001b[1;33m\u001b[0m\u001b[0m\n",
      "\u001b[1;32mC:\\_Programme\\_Anaconda\\lib\\site-packages\\matplotlib\\image.py\u001b[0m in \u001b[0;36mset_data\u001b[1;34m(self, A)\u001b[0m\n\u001b[0;32m    707\u001b[0m         if not (self._A.ndim == 2\n\u001b[0;32m    708\u001b[0m                 or self._A.ndim == 3 and self._A.shape[-1] in [3, 4]):\n\u001b[1;32m--> 709\u001b[1;33m             raise TypeError(\"Invalid shape {} for image data\"\n\u001b[0m\u001b[0;32m    710\u001b[0m                             .format(self._A.shape))\n\u001b[0;32m    711\u001b[0m \u001b[1;33m\u001b[0m\u001b[0m\n",
      "\u001b[1;31mTypeError\u001b[0m: Invalid shape (2,) for image data"
     ]
    },
    {
     "data": {
      "image/png": "[encoded data removed]",
      "text/plain": [
       "<Figure size 432x288 with 1 Axes>"
      ]
     },
     "metadata": {
      "needs_background": "light"
     },
     "output_type": "display_data"
    }
   ],
   "source": [
    "fig, ax = plt.subplots()\n",
    "\n",
    "intersection_matrix = relations_Beifall[px,py],size=(len(list_party), len(list_party))\n",
    "\n",
    "\n",
    "#np.random.randint(0, 10, size=(len(list_party), len(list_party)))\n",
    "\n",
    "ax.matshow(intersection_matrix, cmap=plt.cm.Blues)\n",
    "\n",
    "for px in range(7):\n",
    "    for py in range(7):\n",
    "        c = intersection_matrix[px,py]\n",
    "        ax.text(px, py, str(c), va='center', ha='center')"
   ]
  },
  {
   "cell_type": "code",
   "execution_count": null,
   "id": "6449a20a",
   "metadata": {},
   "outputs": [],
   "source": []
  },
  {
   "cell_type": "code",
   "execution_count": null,
   "id": "f3104d2e",
   "metadata": {},
   "outputs": [],
   "source": []
  }
 ],
 "metadata": {
  "kernelspec": {
   "display_name": "Python 3 (ipykernel)",
   "language": "python",
   "name": "python3"
  },
  "language_info": {
   "codemirror_mode": {
    "name": "ipython",
    "version": 3
   },
   "file_extension": ".py",
   "mimetype": "text/x-python",
   "name": "python",
   "nbconvert_exporter": "python",
   "pygments_lexer": "ipython3",
   "version": "3.9.7"
  }
 },
 "nbformat": 4,
 "nbformat_minor": 5
}
