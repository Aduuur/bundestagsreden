{
 "cells": [
  {
   "cell_type": "code",
   "execution_count": 1,
   "metadata": {},
   "outputs": [
    {
     "name": "stdout",
     "output_type": "stream",
     "text": [
      "Die Liste enthält 25187 Reden\n",
      "\n",
      "\n"
     ]
    }
   ],
   "source": [
    "\n",
    "import json\n",
    "import jsonlines\n",
    "\n",
    "# Das (natural language toolkit) müsst ihr bestimmt installieren.\n",
    "# Weiß noch jemand, wie das geht?\n",
    "import nltk\n",
    "\n",
    "# Die collections.Counter package müsst ihr bestimmt auch installieren.\n",
    "# Die brauchen wir später, um Worte zu zählen.\n",
    "from collections import Counter\n",
    "\n",
    "\n",
    "\n",
    "# Hier legen wir fest, welche Daten (Wahlperiode 19 oder 20) wir laden:\n",
    "legislatur = 19\n",
    "\n",
    "# Wir generieren eine leere Liste:\n",
    "alleReden = []\n",
    "\n",
    "# Wir öffnen den entsprechende File (Dateipfad anpassen!):\n",
    "with jsonlines.open(f'../../data/speeches_{legislatur}.jsonl') as f:\n",
    "    for line in f.iter():\n",
    "    # Wir packen alles Zeile für Zeile zu unserer Liste:\n",
    "        alleReden.append(line)\n",
    "        \n",
    "# Wir sortieren nach Datum:\n",
    "alleReden.sort(key = lambda x:x['date'])\n",
    "\n",
    "# Wir lassen uns zeigen, wie viele Reden enthalten sind.\n",
    "print(f'Die Liste enthält {len(alleReden)} Reden')\n",
    "# Neue Zeile auf der Konsole:\n",
    "print(f'\\n')\n",
    "\n",
    "\n",
    "\n"
   ]
  },
  {
   "cell_type": "code",
   "execution_count": 2,
   "metadata": {},
   "outputs": [
    {
     "name": "stdout",
     "output_type": "stream",
     "text": [
      "3\n",
      "Diese Liste enthält 3 Reden.\n",
      "\n",
      "\n"
     ]
    }
   ],
   "source": [
    "## Zunächst brauchen wir eine Funktion, die uns die Reden gibt, die ein bestimmtes Wort enthalten. \n",
    "#  Funktion für Textsuche: \n",
    "#  Gibt eine Untermenge an Reden zurück, die einen bestimmten String (Wort) enthalten.\n",
    "\n",
    "def find_speeches_with_word(search_term, speeches):\n",
    "    filtered_speeches = []\n",
    "    for speech in speeches:\n",
    "        if ( search_term in speech['text'] ):\n",
    "            filtered_speeches.append(speech)\n",
    "    return filtered_speeches\n",
    "\n",
    "\n",
    "such_wort1 = 'Nachhaltigkeit'\n",
    "untermenge = find_speeches_with_word(such_wort1,alleReden)\n",
    "such_wort2 = 'Kapitalismus'\n",
    "untermenge = find_speeches_with_word(such_wort2,untermenge)\n",
    "print(len(untermenge))\n",
    "\n",
    "\n",
    "# Wir lassen uns zeigen, wie viele Reden enthalten sind.\n",
    "print(f'Diese Liste enthält { len(untermenge) } Reden.')\n",
    "# Neue Zeile auf der Konsole:\n",
    "print(f'\\n')"
   ]
  },
  {
   "cell_type": "code",
   "execution_count": 3,
   "metadata": {},
   "outputs": [
    {
     "name": "stdout",
     "output_type": "stream",
     "text": [
      "Es gibt 3 Sätze zu Kapitalismus:\n",
      "\n",
      "\n"
     ]
    }
   ],
   "source": [
    "## Reden sind lang und die Worte tauchen in verschiedenen Kontexten auf.\n",
    "#  Wir würden gerne alle Sätze sehen, in denen der Suchbegriff vorkommt.\n",
    "#  Aber natürlich kommt unser Suchstring nur in Sätzen vor, die in de Untermenge an Reden sind. \n",
    "\n",
    "def find_sentences_with_word(search_term, speeches):\n",
    "    sents_with_word = []\n",
    "    for speech in speeches:\n",
    "        sent_list = nltk.sent_tokenize(speech['text'])\n",
    "        for sent in sent_list:\n",
    "            if search_term in sent:\n",
    "                sents_with_word.append(sent)\n",
    "    return sents_with_word\n",
    "                \n",
    "# Probieren wir diese Funktion einmal aus:\n",
    "satz_liste = find_sentences_with_word(such_wort2,untermenge)\n",
    "\n",
    "print(f'Es gibt {len(satz_liste)} Sätze zu {such_wort2}:')\n",
    "print('\\n')\n",
    "\n",
    "# Wollen wir uns die alle anzeigen lassen? Ja oder Nein?\n",
    "wir_wollen = False\n",
    "if wir_wollen:\n",
    "    for satz in satz_liste:\n",
    "        print(satz)\n",
    "        print('\\n')\n"
   ]
  },
  {
   "cell_type": "code",
   "execution_count": 4,
   "metadata": {},
   "outputs": [
    {
     "name": "stdout",
     "output_type": "stream",
     "text": [
      "Diese Liste (Suche nach Olaf Scholz) enthält 183 Reden\n",
      "\n",
      "\n"
     ]
    }
   ],
   "source": [
    "\n",
    "\n",
    "## Nun wäre es doch spannend, die Reden einer Partei oder eines Politikers zu sehen.\n",
    "#  Dazu entwickeln wir eine Funktion, die es erlaubt, in den anderen Felder (keys) zu suchen.\n",
    "#  Funktion, mit der man eine Menge an Reden nach verschiedenen Kriterien filtern kann.\n",
    "#  Es wird die entsprechende Untermenge zurückgegeben.\n",
    "#  'what' enthält den Key, wo gesucht werden soll. Interessant vor allem: 'name' und 'party'\n",
    "\n",
    "def filter_speeches_for(what, search_term, speeches):\n",
    "    filtered_speeches = []\n",
    "    for speech in speeches:\n",
    "        if search_term in speech[what]:\n",
    "            filtered_speeches.append(speech)\n",
    "        \n",
    "    filtered_speeches.sort(key = lambda x:x['date'])   \n",
    "    return filtered_speeches\n",
    "\n",
    "# Beispiel: Für alle Reden von Olaf Scholz:\n",
    "suche_nach = 'Olaf Scholz'\n",
    "#suche_nach = 'SPD'\n",
    "untermenge = filter_speeches_for('name', suche_nach, alleReden)\n",
    "# Wir lassen uns zeigen, wie viele Reden enthalten sind.\n",
    "print(f'Diese Liste (Suche nach {suche_nach}) enthält {len(untermenge)} Reden')\n",
    "print(f'\\n')\n",
    "\n",
    "\n"
   ]
  },
  {
   "cell_type": "code",
   "execution_count": 5,
   "metadata": {},
   "outputs": [
    {
     "name": "stdout",
     "output_type": "stream",
     "text": [
      "Die SPD hat 638 Reden mit \"Klima\" gehalten.\n",
      "Die FDP hat 303 Reden mit \"Klima\" gehalten.\n",
      "Die CDU hat 860 Reden mit \"Klima\" gehalten.\n",
      "Die LINKE hat 379 Reden mit \"Klima\" gehalten.\n",
      "Die GRÜNEN hat 609 Reden mit \"Klima\" gehalten.\n",
      "Die AfD hat 382 Reden mit \"Klima\" gehalten.\n",
      "Die unknown hat 133 Reden mit \"Klima\" gehalten.\n",
      "\n",
      "\n",
      "Die SPD hat 431 Reden mit \"Energie\" gehalten.\n",
      "Die FDP hat 195 Reden mit \"Energie\" gehalten.\n",
      "Die CDU hat 534 Reden mit \"Energie\" gehalten.\n",
      "Die LINKE hat 187 Reden mit \"Energie\" gehalten.\n",
      "Die GRÜNEN hat 243 Reden mit \"Energie\" gehalten.\n",
      "Die AfD hat 337 Reden mit \"Energie\" gehalten.\n",
      "Die unknown hat 82 Reden mit \"Energie\" gehalten.\n"
     ]
    }
   ],
   "source": [
    "## Ich probiere etwas aus\n",
    "\n",
    "## Ich muss aber wissen, wie die Parteien geschrieben werden!\n",
    "#for speech in alleReden:\n",
    "#    print(speech['party'])\n",
    "\n",
    "such_wort1 = 'Klimawandel'\n",
    "such_wort2 = 'Klimakrise'\n",
    "\n",
    "such_wort1 = 'Klima'\n",
    "such_wort2 = 'Energie'\n",
    "\n",
    "parties = ['SPD','FDP','CDU','LINKE','GRÜNEN','AfD','unknown'] # sind die richtig geschrieben?\n",
    "\n",
    "frequencies1 = []\n",
    "for party in parties:\n",
    "    untermenge = find_speeches_with_word(such_wort1,alleReden)\n",
    "    untermenge = filter_speeches_for('party', party, untermenge)\n",
    "    print(f'Die {party} hat {len(untermenge)} Reden mit \"{such_wort1}\" gehalten.')\n",
    "    frequencies1.append(len(untermenge))\n",
    "\n",
    "print('\\n')    \n",
    "frequencies2 = []\n",
    "for party in parties:\n",
    "    untermenge = find_speeches_with_word(such_wort2,alleReden)\n",
    "    untermenge = filter_speeches_for('party', party, untermenge)\n",
    "    print(f'Die {party} hat {len(untermenge)} Reden mit \"{such_wort2}\" gehalten.')\n",
    "    frequencies2.append(len(untermenge))\n",
    "    \n",
    "#print(frequencies1)"
   ]
  },
  {
   "cell_type": "code",
   "execution_count": 6,
   "metadata": {},
   "outputs": [
    {
     "data": {
      "image/png": "[encoded data removed]",
      "text/plain": [
       "<Figure size 432x288 with 1 Axes>"
      ]
     },
     "metadata": {
      "needs_background": "light"
     },
     "output_type": "display_data"
    }
   ],
   "source": [
    "\n",
    "import matplotlib.pyplot as plt\n",
    "\n",
    "#mpl.rcParams[\"figure.figsize\"] = (8,8)\n",
    "        \n",
    "plt.bar(parties,frequencies1,label=f'{such_wort1}')\n",
    "plt.bar(parties,frequencies2,bottom=frequencies1,label=f'{such_wort2}')\n",
    "plt.title(\"Verteilung der Häufigkeiten\")\n",
    "plt.xlabel(\"Partei\")\n",
    "plt.ylabel(\"Anzahl der Reden\")\n",
    "plt.legend(loc=\"upper left\")\n",
    "\n",
    "#plt.hist(freq_array, bins ='auto')\n",
    "plt.show()\n",
    "\n"
   ]
  },
  {
   "cell_type": "code",
   "execution_count": null,
   "metadata": {},
   "outputs": [],
   "source": [
    "\n",
    "\n",
    "\n"
   ]
  },
  {
   "cell_type": "code",
   "execution_count": null,
   "metadata": {},
   "outputs": [],
   "source": [
    "\n"
   ]
  },
  {
   "cell_type": "code",
   "execution_count": null,
   "metadata": {},
   "outputs": [],
   "source": [
    "\n"
   ]
  },
  {
   "cell_type": "code",
   "execution_count": null,
   "metadata": {},
   "outputs": [],
   "source": []
  }
 ],
 "metadata": {
  "kernelspec": {
   "display_name": "Python 3",
   "language": "python",
   "name": "python3"
  },
  "language_info": {
   "codemirror_mode": {
    "name": "ipython",
    "version": 3
   },
   "file_extension": ".py",
   "mimetype": "text/x-python",
   "name": "python",
   "nbconvert_exporter": "python",
   "pygments_lexer": "ipython3",
   "version": "3.7.3"
  }
 },
 "nbformat": 4,
 "nbformat_minor": 4
}
