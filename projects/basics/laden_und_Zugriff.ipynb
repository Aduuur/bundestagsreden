{
 "cells": [
  {
   "cell_type": "markdown",
   "metadata": {},
   "source": [
    "# Laden der Daten und Zugriff auf einzelne Reden\n"
   ]
  },
  {
   "cell_type": "code",
   "execution_count": 1,
   "metadata": {
    "ExecuteTime": {
     "end_time": "2024-04-25T10:00:10.958049Z",
     "start_time": "2024-04-25T10:00:10.943287Z"
    }
   },
   "outputs": [],
   "source": [
    "import json\n",
    "import jsonlines"
   ]
  },
  {
   "cell_type": "code",
   "execution_count": 2,
   "metadata": {
    "ExecuteTime": {
     "end_time": "2024-04-25T10:00:12.714389Z",
     "start_time": "2024-04-25T10:00:12.578772Z"
    }
   },
   "outputs": [],
   "source": [
    "legislatur = 20\n",
    "\n",
    "alleReden = []\n",
    "with jsonlines.open(f'../../data/speeches_{legislatur}.jsonl') as f:\n",
    "    for line in f.iter():\n",
    "    #for line in list(f):\n",
    "        alleReden.append(line)\n",
    "\n",
    "alleReden.sort(key = lambda x:x['date'])"
   ]
  },
  {
   "cell_type": "code",
   "execution_count": 3,
   "metadata": {
    "ExecuteTime": {
     "end_time": "2024-04-25T10:00:14.930340Z",
     "start_time": "2024-04-25T10:00:14.927821Z"
    }
   },
   "outputs": [
    {
     "name": "stdout",
     "output_type": "stream",
     "text": [
      "10791\n"
     ]
    }
   ],
   "source": [
    "print(len(alleReden))"
   ]
  },
  {
   "cell_type": "code",
   "execution_count": 5,
   "metadata": {
    "ExecuteTime": {
     "end_time": "2024-04-25T10:00:31.163477Z",
     "start_time": "2024-04-25T10:00:31.138047Z"
    }
   },
   "outputs": [
    {
     "name": "stdout",
     "output_type": "stream",
     "text": [
      "{'text': 'Sehr geehrter Herr Alterspräsident! So muss ich es jetzt sagen, genau; ich muss mich daran gewöhnen. Nicht lange. Nicht lange; da haben Sie schon recht. – Liebe Kolleginnen und Kollegen! Meine sehr geehrten Damen und Herren! Die Übernahme der Geschäftsordnung ist eine der ersten wichtigen Entscheidungen, die wir heute zu Beginn der Wahlperiode treffen müssen. Die Geschäftsordnung ist Grundlage für unsere gemeinsame Arbeit. Sie hat sich über viele Wahlperioden bewährt und wird uns auch durch die neue Wahlperiode tragen. Es ist gute Tradition, dass wir die Geschäftsordnung am Anfang einer Wahlperiode mit breiter parlamentarischer Mehrheit übernehmen, und das sollten wir auch heute tun. Sie ist nicht in Stein gemeißelt – das wissen diejenigen, die bereits in der letzten Wahlperiode hier im Bundestag tätig waren –, sondern die Geschäftsordnung ist immer ein, ich sage mal, lebendiges Dokument, das sich den Gegebenheiten des Parlamentarismus, aber auch den Gegebenheiten der Arbeit hier im Deutschen Bundestag anpassen muss. Das muss eine Geschäftsordnung dann auch immer wieder in ihrer Entwicklung nachvollziehen. Wir haben dieses bereits in der letzten Wahlperiode bewiesen und einige grundlegende Änderungen beschlossen, vor allem und vorangestellt die überfällige Reform der Verhaltensregeln. Wir begrüßen auch ausdrücklich die Initiative des scheidenden Präsidenten Herrn Schäuble, die Geschäftsordnung in dieser Wahlperiode einer Generalüberholung zu unterziehen. Wir sind gerne bereit, diese Impulse aufzunehmen, und laden auch alle anderen Fraktionen dazu ein, diesen Weg mit uns gemeinsam zu gehen. Die Vorschläge der Opposition sind ernst zu nehmen. Wir möchten sie aufgreifen und möchten gemeinsam mit Ihnen darüber diskutieren, wie eine Geschäftsordnung überarbeitet werden und in der nächsten Zeit auch wirken kann. Wir plädieren allerdings auch dafür, dass wir die in der letzten Legislaturperiode eingeführten Regelungen für das digitale Tagen von Ausschüssen – vorerst zeitlich möglichst kurz – beibehalten; das können Sie auch unserem Antrag entnehmen. Und wir plädieren dafür, das eingeführte coronabedingte Absenken der Quoren, das notwendig war für die Beschlussfähigkeit des Deutschen Bundestages, in die neue Geschäftsordnung nicht mehr aufzunehmen. Ich bitte, wir bitten Sie um Zustimmung zum vorliegenden Antrag zur Weitergeltung der Geschäftsordnung, damit wir in der erforderlichen Zeit, die wir dann haben, die notwendigen Änderungen gemeinsam diskutieren und hier verabschieden können. Herzlichen Dank. Stefan Müller, CDU/CSU, hat als Nächster das Wort. ', 'id': 'ID20100100', 'period': '18', 'date': '2021-10-26', 'name': 'Gabriele Katzmarek', 'party': 'SPD', 'redner_id': '11004325', 'discussion_title': 'Tagesordnungspunkt 2 2021-10-26'}\n"
     ]
    }
   ],
   "source": [
    "print(alleReden[0])"
   ]
  },
  {
   "cell_type": "code",
   "execution_count": 5,
   "metadata": {},
   "outputs": [
    {
     "name": "stdout",
     "output_type": "stream",
     "text": [
      "Gabriele Katzmarek SPD\n",
      "Rolf Mützenich SPD\n",
      "Bärbel Bas SPD\n",
      "Aydan Özoğuz SPD\n"
     ]
    }
   ],
   "source": [
    "for rede in alleReden[0:11]:\n",
    "    if rede['party'] == 'SPD':\n",
    "        print(rede['name'],rede['party'])"
   ]
  },
  {
   "cell_type": "code",
   "execution_count": null,
   "metadata": {},
   "outputs": [],
   "source": []
  },
  {
   "cell_type": "code",
   "execution_count": null,
   "metadata": {},
   "outputs": [],
   "source": []
  }
 ],
 "metadata": {
  "kernelspec": {
   "display_name": "Python 3",
   "language": "python",
   "name": "python3"
  },
  "language_info": {
   "codemirror_mode": {
    "name": "ipython",
    "version": 3
   },
   "file_extension": ".py",
   "mimetype": "text/x-python",
   "name": "python",
   "nbconvert_exporter": "python",
   "pygments_lexer": "ipython3",
   "version": "3.7.3"
  }
 },
 "nbformat": 4,
 "nbformat_minor": 4
}
