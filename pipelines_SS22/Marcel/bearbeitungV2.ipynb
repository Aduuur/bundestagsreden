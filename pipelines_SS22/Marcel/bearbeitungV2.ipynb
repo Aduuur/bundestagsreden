{
 "cells": [
  {
   "cell_type": "code",
   "execution_count": 1,
   "metadata": {},
   "outputs": [],
   "source": [
    "import collections\n",
    "import requests\n",
    "import json\n",
    "import re\n",
    "import os\n",
    "import sys\n",
    "\n",
    "with open('../../bundestagsreden parser/speeches_20.jsonl', 'r', encoding = 'utf8') as fp:\n",
    "    data = list(fp)\n",
    "speeches = []\n",
    "for line in data:\n",
    "    speeches.append(json.loads(line))"
   ]
  },
  {
   "cell_type": "code",
   "execution_count": 2,
   "metadata": {},
   "outputs": [],
   "source": [
    "# globale items\n",
    "regex = \"{(.*?)}\" # hier die genaue Definition der Kommentare vom Parser <<< >>>\n",
    "kommentare = []"
   ]
  },
  {
   "cell_type": "code",
   "execution_count": 3,
   "metadata": {},
   "outputs": [],
   "source": [
    "# Funktion: speeches_comments\n",
    "def extract_comments(speeches):\n",
    "    comments = []\n",
    "    modified_speeches = []\n",
    "    for speech in speeches:\n",
    "        text = speech['text']\n",
    "        matches = re.findall(regex,text)\n",
    "        speech['comments'] = matches\n",
    "        modified_speeches.append(speech)\n",
    "    return modified_speeches\n",
    "# Funktionsaufruf:\n",
    "speeches_comments = extract_comments(speeches)\n",
    "# Funktionsausgabe: print(speeches_comments[0]['comments'])\n",
    "#                   print(speeches_comments[0]['party'])"
   ]
  },
  {
   "cell_type": "code",
   "execution_count": 4,
   "metadata": {},
   "outputs": [],
   "source": [
    "# Funktion: specific_and_non_search\n",
    "def filter_with_complex_non_words(search_terms,non_words,speeches):\n",
    "    filtered_speeches = []\n",
    "    for speech in speeches:\n",
    "        for comment in speech['comments']:\n",
    "            if all([term in comment for term in search_terms]) and not any([term in comment for term in non_words]):\n",
    "                filtered_speeches.append(speech)\n",
    "                break\n",
    "    return filtered_speeches\n",
    "# Funktionsaufruf:  specific_and_non_search = filter_with_complex_non_words(['Beifall','CDU'],['Zuruf'],speeches_comments)\n",
    "# Funktionsausgabe: print(specific_and_non_search[0])                               enthält AND enthält nicht\n",
    "#                   print(len(specific_and_non_search))"
   ]
  },
  {
   "cell_type": "code",
   "execution_count": 5,
   "metadata": {},
   "outputs": [],
   "source": [
    "# Funktion: speech_of_party\n",
    "def filter_party (party,speeches):\n",
    "    speeches_of_party = []\n",
    "    for speech in speeches:\n",
    "        if speech['party'] == party:\n",
    "            speeches_of_party.append(speech)\n",
    "    return speeches_of_party\n",
    "# Funktionsaufruf:  speech_of_party = filter_party(['SPD'],speeches)"
   ]
  },
  {
   "cell_type": "code",
   "execution_count": 6,
   "metadata": {
    "scrolled": true
   },
   "outputs": [
    {
     "name": "stdout",
     "output_type": "stream",
     "text": [
      "Zuruf von u.a. der CDU: 233\n"
     ]
    }
   ],
   "source": [
    "# Anzeige von Zuruf die u.a. diese Partei enthält\n",
    "specific_and_non_search = filter_with_complex_non_words(['Zuruf','CDU'],['Beifall'],speeches_comments)\n",
    "print(f'Zuruf von u.a. der CDU: {len(specific_and_non_search)}')"
   ]
  },
  {
   "cell_type": "code",
   "execution_count": 7,
   "metadata": {},
   "outputs": [
    {
     "data": {
      "text/plain": [
       "0"
      ]
     },
     "execution_count": 7,
     "metadata": {},
     "output_type": "execute_result"
    }
   ],
   "source": [
    "speech_of_party = filter_party(['CDU'],speeches)\n",
    "len(speech_of_party)"
   ]
  },
  {
   "cell_type": "code",
   "execution_count": 8,
   "metadata": {},
   "outputs": [
    {
     "name": "stdout",
     "output_type": "stream",
     "text": [
      "Zuruf aus der CDU:       233\n",
      "Zuruf aus der SPD:       244\n",
      "Beifall & Zuruf aus SPD: 333\n"
     ]
    }
   ],
   "source": [
    "# Anzeige von Zuruf die u.a. diese Partei enthält\n",
    "specific_and_non_search = filter_with_complex_non_words(['Zuruf','CDU'],['Beifall'],speeches_comments)\n",
    "print(f'Zuruf aus der CDU:       {len(specific_and_non_search)}')\n",
    "specific_and_non_search = filter_with_complex_non_words(['Zuruf','SPD'],['Beifall'],speeches_comments)\n",
    "print(f'Zuruf aus der SPD:       {len(specific_and_non_search)}')\n",
    "# Anzeige von Beifall und Zuruf die u.a. diese Partei enthält\n",
    "specific_and_non_search = filter_with_complex_non_words(['Zuruf','Beifall','SPD'],[],speeches_comments)\n",
    "print(f'Beifall & Zuruf aus SPD: {len(specific_and_non_search)}')"
   ]
  },
  {
   "cell_type": "code",
   "execution_count": 9,
   "metadata": {},
   "outputs": [],
   "source": [
    "Beifall_and_CDU   = ['Beifall','CDU']\n",
    "Beifall_and_SPD   = ['Beifall','SPD']\n",
    "Beifall_and_Linke = ['Beifall','LINKE']\n",
    "Beifall_and_GRÜNE = ['Beifall','GRÜNE']\n",
    "Beifall_and_FDP   = ['Beifall','FDP']\n",
    "Beifall_and_AfD   = ['Beifall','AfD']\n",
    "and_not_Zuruf     = ['Zuruf']\n",
    "mega_list_beifall = [Beifall_and_CDU,Beifall_and_SPD,Beifall_and_Linke,Beifall_and_GRÜNE,Beifall_and_AfD,Beifall_and_FDP]\n",
    "Zuruf_and_CDU     = ['Zuruf','CDU']\n",
    "Zuruf_and_SPD     = ['Zuruf','SPD']\n",
    "Zuruf_and_Linke   = ['Zuruf','LINKE']\n",
    "Zuruf_and_GRÜNE   = ['Zuruf','GRÜNE']\n",
    "Zuruf_and_FDP     = ['Zuruf','FDP']\n",
    "Zuruf_and_AfD     = ['Zuruf','AfD']\n",
    "and_not_beifall   = ['Beifall']\n",
    "mega_list_zuruf   = [Zuruf_and_CDU,Zuruf_and_SPD,Zuruf_and_Linke,Zuruf_and_GRÜNE,Zuruf_and_FDP,Zuruf_and_AfD]\n",
    "both_CDU          = ['Beifall','Zuruf','CDU']\n",
    "both_SPD          = ['Beifall','Zuruf','SPD']\n",
    "both_Linke        = ['Beifall','Zuruf','LINKE']\n",
    "both_GRÜNE        = ['Beifall','Zuruf','GRÜNE']\n",
    "both_FDP          = ['Beifall','Zuruf','FDP']\n",
    "both_AfD          = ['Beifall','Zuruf','AfD']\n",
    "and_not_nothing   = []\n",
    "mega_list_both    = [both_CDU,both_SPD,both_Linke,both_GRÜNE,both_FDP,both_AfD]\n",
    "laugh_CDU         = ['Lachen','CDU']\n",
    "laugh_SPD         = ['Lachen','SPD']\n",
    "laugh_Linke       = ['Lachen','LINKE']\n",
    "laugh_GRÜNE       = ['Lachen','GRÜNE']\n",
    "laugh_FDP         = ['Lachen','FDP']\n",
    "laugh_AfD         = ['Lachen','AfD']\n",
    "and_not_beifall_and_zuruf = ['Beifall','Zuruf']\n",
    "mega_list_laugh    = [laugh_CDU,laugh_SPD,laugh_Linke,laugh_GRÜNE,laugh_FDP,laugh_AfD]\n",
    "\n",
    "Beifall = ['Beifall']\n",
    "Zuruf   = ['Zuruf']\n",
    "Lachen  = ['lachen','Lachen','lache','Lache']"
   ]
  },
  {
   "cell_type": "code",
   "execution_count": 10,
   "metadata": {},
   "outputs": [],
   "source": [
    "result_list_beifall = []\n",
    "for subList_beifall in mega_list_beifall:\n",
    "    result_list_beifall.append (filter_with_complex_non_words(subList_beifall,and_not_Zuruf,speeches_comments))\n",
    "result_list_zuruf = []\n",
    "for subList_zuruf in mega_list_zuruf:\n",
    "    result_list_zuruf.append (filter_with_complex_non_words(subList_zuruf,and_not_beifall,speeches_comments))\n",
    "result_list_both = []\n",
    "for subList_both in mega_list_both:\n",
    "    result_list_both.append (filter_with_complex_non_words(subList_both,and_not_nothing,speeches_comments))\n",
    "result_list_laugh = []\n",
    "for sublist_laugh in mega_list_laugh:\n",
    "    result_list_laugh.append (filter_with_complex_non_words(sublist_laugh,and_not_beifall_and_zuruf,speeches_comments)) "
   ]
  },
  {
   "cell_type": "code",
   "execution_count": 11,
   "metadata": {},
   "outputs": [
    {
     "name": "stdout",
     "output_type": "stream",
     "text": [
      "Anzahl Kommentaren 'Beifall' für 'CDU' UND ohne 'Zuruf' ist: 1497\n",
      "Anzahl Kommentaren 'Beifall' für 'SPD' UND ohne 'Zuruf' ist: 2237\n",
      "Anzahl Kommentaren 'Beifall' für 'LINKE' UND ohne 'Zuruf' ist: 905\n",
      "Anzahl Kommentaren 'Beifall' für 'GRÜNE' UND ohne 'Zuruf' ist: 2190\n",
      "Anzahl Kommentaren 'Beifall' für 'AfD' UND ohne 'Zuruf' ist: 940\n",
      "Anzahl Kommentaren 'Beifall' für 'FDP' UND ohne 'Zuruf' ist: 2145\n",
      "Anzahl Kommentaren 'Zuruf' für 'CDU' UND ohne 'Beifall' ist: 233\n",
      "Anzahl Kommentaren 'Zuruf' für 'SPD' UND ohne 'Beifall' ist: 244\n",
      "Anzahl Kommentaren 'Zuruf' für 'LINKE' UND ohne 'Beifall' ist: 86\n",
      "Anzahl Kommentaren 'Zuruf' für 'GRÜNE' UND ohne 'Beifall' ist: 191\n",
      "Anzahl Kommentaren 'Zuruf' für 'FDP' UND ohne 'Beifall' ist: 133\n",
      "Anzahl Kommentaren 'Zuruf' für 'AfD' UND ohne 'Beifall' ist: 335\n",
      "Anzahl Kommentaren mit 'Beifall' UND 'Zuruf' für 'CDU' ist: 285\n",
      "Anzahl Kommentaren mit 'Beifall' UND 'Zuruf' für 'SPD' ist: 333\n",
      "Anzahl Kommentaren mit 'Beifall' UND 'Zuruf' für 'LINKE' ist: 101\n",
      "Anzahl Kommentaren mit 'Beifall' UND 'Zuruf' für 'GRÜNE' ist: 319\n",
      "Anzahl Kommentaren mit 'Beifall' UND 'Zuruf' für 'FDP' ist: 262\n",
      "Anzahl Kommentaren mit 'Beifall' UND 'Zuruf' für 'AfD' ist: 246\n",
      "Anzahl Kommentaren 'Lachen' für 'CDU' UND ohne 'Beifall','Zuruf' ist: 47\n",
      "Anzahl Kommentaren 'Lachen' für 'SPD' UND ohne 'Beifall','Zuruf' ist: 59\n",
      "Anzahl Kommentaren 'Lachen' für 'LINKE' UND ohne 'Beifall','Zuruf' ist: 7\n",
      "Anzahl Kommentaren 'Lachen' für 'GRÜNE' UND ohne 'Beifall','Zuruf' ist: 42\n",
      "Anzahl Kommentaren 'Lachen' für 'FDP' UND ohne 'Beifall','Zuruf' ist: 28\n",
      "Anzahl Kommentaren 'Lachen' für 'AfD' UND ohne 'Beifall','Zuruf' ist: 59\n"
     ]
    }
   ],
   "source": [
    "for (results_beifall,subList_beifall) in zip (result_list_beifall,mega_list_beifall):\n",
    "    print(f'Anzahl Kommentaren \\'{subList_beifall[0]}\\' für \\'{subList_beifall[1]}\\' UND ohne \\'{and_not_Zuruf[0]}\\' ist: {len(results_beifall)}')\n",
    "for (results_zuruf,subList_zuruf) in zip (result_list_zuruf,mega_list_zuruf):\n",
    "    print(f'Anzahl Kommentaren \\'{subList_zuruf[0]}\\' für \\'{subList_zuruf[1]}\\' UND ohne \\'{and_not_beifall[0]}\\' ist: {len(results_zuruf)}')\n",
    "for (results_both,subList_both) in zip (result_list_both,mega_list_both):\n",
    "    print(f'Anzahl Kommentaren mit \\'{subList_both[0]}\\' UND \\'{subList_both[1]}\\' für \\'{subList_both[2]}\\' ist: {len(results_both)}')\n",
    "for (results_laugh,sublist_laugh) in zip (result_list_laugh,mega_list_laugh):\n",
    "    print(f'Anzahl Kommentaren \\'{sublist_laugh[0]}\\' für \\'{sublist_laugh[1]}\\' UND ohne \\'{and_not_beifall_and_zuruf[0]}\\',\\'{and_not_beifall_and_zuruf[1]}\\' ist: {len(results_laugh)}')"
   ]
  },
  {
   "cell_type": "code",
   "execution_count": 12,
   "metadata": {},
   "outputs": [
    {
     "name": "stdout",
     "output_type": "stream",
     "text": [
      "SPD\n"
     ]
    }
   ],
   "source": [
    "print(result_list_beifall[0][0]['party'])"
   ]
  },
  {
   "cell_type": "code",
   "execution_count": null,
   "metadata": {},
   "outputs": [],
   "source": []
  }
 ],
 "metadata": {
  "kernelspec": {
   "display_name": "Python 3 (ipykernel)",
   "language": "python",
   "name": "python3"
  },
  "language_info": {
   "codemirror_mode": {
    "name": "ipython",
    "version": 3
   },
   "file_extension": ".py",
   "mimetype": "text/x-python",
   "name": "python",
   "nbconvert_exporter": "python",
   "pygments_lexer": "ipython3",
   "version": "3.9.7"
  }
 },
 "nbformat": 4,
 "nbformat_minor": 4
}
