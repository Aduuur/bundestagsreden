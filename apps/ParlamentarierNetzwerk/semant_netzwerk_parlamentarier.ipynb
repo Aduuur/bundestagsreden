{
 "cells": [
  {
   "cell_type": "markdown",
   "metadata": {},
   "source": [
    "Importieren der benötigten packages"
   ]
  },
  {
   "cell_type": "code",
   "execution_count": 1,
   "metadata": {},
   "outputs": [],
   "source": [
    "import json\n",
    "import requests\n",
    "#import collections\n",
    "from collections import Counter\n",
    "import numpy as np\n",
    "from tqdm import tqdm\n",
    "from sklearn.feature_extraction.text import TfidfVectorizer"
   ]
  },
  {
   "cell_type": "markdown",
   "metadata": {},
   "source": [
    "Laden der bereits gereinigten Daten aus einer JSON-Datei"
   ]
  },
  {
   "cell_type": "code",
   "execution_count": 2,
   "metadata": {},
   "outputs": [],
   "source": [
    "with open('../../data/speeches_20_preprocessed.json', 'r') as fp:\n",
    "    data = json.load(fp)"
   ]
  },
  {
   "cell_type": "code",
   "execution_count": 3,
   "metadata": {},
   "outputs": [],
   "source": [
    "alleReden = data.copy()"
   ]
  },
  {
   "cell_type": "code",
   "execution_count": 4,
   "metadata": {},
   "outputs": [],
   "source": [
    "for rede in alleReden:\n",
    "    if rede['name']=='Albert H. Weiler':\n",
    "        rede['name']='Albert Weiler'\n",
    "    if rede['name']=='Eva-Maria Elisabeth Schreiber':\n",
    "        rede['name']='Eva-Maria Schreiber'\n",
    "    if rede['name']=='Heidrun Bluhm-Förster':\n",
    "        rede['name']='Heidrun Bluhm'\n",
    "    if rede['name']==' in der Beek':\n",
    "        rede['name']='Olaf in der Beek'\n",
    "    if rede['name']==' ':\n",
    "        rede['name']='Unbekannt'\n",
    "    if rede['name']=='Eberhardt Alexander Gauland':\n",
    "        rede['name']='Alexander Gauland'\n",
    "    if rede['name']=='Joana Eleonora Cotar':\n",
    "        rede['name']='Joana Cotar'\n",
    "    if rede['name']=='Wolfgang Schäuble':\n",
    "        rede['name']='Dr. Wolfgang Schäuble'\n",
    "    if rede['name']=='Thomas de Maizière':\n",
    "        rede['name']='Thomas Maizière'\n",
    "    if rede['name']=='Alterspräsident Dr. Hermann Otto Solms':\n",
    "        rede['name']='Hermann Otto Solms'\n",
    "    if rede['name']=='Konstantin Elias Kuhle':\n",
    "        rede['name']='Konstantin Kuhle'\n",
    "    if rede['name']=='Konstantin Elias Kuhle':\n",
    "        rede['name']='Konstantin Kuhle'\n",
    "    if rede['name']=='Elvan Korkmaz':\n",
    "        rede['name']='Elvan Korkmaz-Emre'"
   ]
  },
  {
   "cell_type": "markdown",
   "metadata": {},
   "source": [
    "Es werden nur Nomen berücksichtigt"
   ]
  },
  {
   "cell_type": "code",
   "execution_count": 5,
   "metadata": {},
   "outputs": [
    {
     "name": "stderr",
     "output_type": "stream",
     "text": [
      "100%|██████████| 4866/4866 [00:00<00:00, 5240.12it/s]\n"
     ]
    }
   ],
   "source": [
    "consider = ['NOUN']\n",
    "for rede in tqdm(alleReden):\n",
    "    rel_lemmata = [ ele for ex,ele in enumerate(rede['text_lem']) if rede['text_pos'][ex] in consider ]\n",
    "    rede['text_lem'] = rel_lemmata\n",
    "    rede['text_pos'] = [ele for ele in rede['text_pos'] if ele in consider]"
   ]
  },
  {
   "cell_type": "code",
   "execution_count": 8,
   "metadata": {},
   "outputs": [],
   "source": [
    "reden_clean = alleReden"
   ]
  },
  {
   "cell_type": "markdown",
   "metadata": {},
   "source": [
    "Erstellt eine Liste aller Parlamentarier, sowie ihrer dazugehörigen Parteien"
   ]
  },
  {
   "cell_type": "code",
   "execution_count": 9,
   "metadata": {},
   "outputs": [],
   "source": [
    "\n",
    "def get_names_and_parties(reden_clean):\n",
    "    names = []\n",
    "    parties = []\n",
    "    for rede in reden_clean:\n",
    "        if rede['name'] not in names:\n",
    "            names.append(rede['name'])\n",
    "            parties.append(rede['party'])\n",
    "    return names, parties"
   ]
  },
  {
   "cell_type": "code",
   "execution_count": 10,
   "metadata": {},
   "outputs": [],
   "source": [
    "names, parties = get_names_and_parties(reden_clean)"
   ]
  },
  {
   "cell_type": "markdown",
   "metadata": {},
   "source": [
    "Erzeugt eine liste von dicts, welche jeweils einen der Parlamentarier enthalten. In den jeweiligen dicts sind außerdem ein Index, und die Parteizugehörigkeit des jeweiligen Parlamentariers gespeichert."
   ]
  },
  {
   "cell_type": "code",
   "execution_count": 11,
   "metadata": {},
   "outputs": [],
   "source": [
    "def get_text_clean(name, reden):\n",
    "    text = ''\n",
    "    nReden = 0\n",
    "    nWorte = 0\n",
    "    for rede in reden:\n",
    "        if rede['name'] == name:\n",
    "            nReden += 1\n",
    "            nWorte += len(rede['text_lem'])\n",
    "            text += ' '.join(rede['text_lem'])\n",
    "    return text, nReden, nWorte\n",
    "   "
   ]
  },
  {
   "cell_type": "code",
   "execution_count": 12,
   "metadata": {},
   "outputs": [],
   "source": [
    "def liste_von_parla_mit_dict_text(reden, names, parties):\n",
    "    \n",
    "    parlamentarier = []\n",
    "\n",
    "    for count,name in enumerate(names):\n",
    "        hilf = {\n",
    "            'id':count+1,\n",
    "            'name': names[count],\n",
    "            'party': parties[count]\n",
    "        }\n",
    "        \n",
    "        text, nReden, nWorte = get_text_clean(name, reden) \n",
    "            \n",
    "        hilf.update({'text_lem': text, 'nReden': nReden, 'nWorte': nWorte})\n",
    "        \n",
    "        parlamentarier.append(hilf)\n",
    "    \n",
    "    return parlamentarier"
   ]
  },
  {
   "cell_type": "code",
   "execution_count": 13,
   "metadata": {},
   "outputs": [],
   "source": [
    "parlamentarier = liste_von_parla_mit_dict_text(reden_clean, names, parties)"
   ]
  },
  {
   "cell_type": "markdown",
   "metadata": {},
   "source": [
    "Erstellt eine Matrix, welche als Zeilen die einzelnen Parlamentarier enthält. Die Zeilen sind gegeben durch die von allen Rednern gesagten Worte. \n",
    "Die einzelnen Eniträge sind die tf-idf Gewichte des von einem Parlamentarier gesagten Wortes.\n",
    "Die Berechnung der tfidf erfolgt folgerndermaßen:\n",
    "\n",
    "tf-idf(t, d) = tf(t, d) * idf(t)\n",
    "\n",
    "tf(t,d) = termfrequency des Terms t im Dokument d\n",
    "\n",
    "idf(t,d) = log [ (1 + n) / (1 + df(t)) ] + 1 inverse \n",
    "\n",
    "wobei df(t) die document frequency eines Wortes ist, also in wie vielen Worten eine Dokument vorkommt."
   ]
  },
  {
   "cell_type": "code",
   "execution_count": 14,
   "metadata": {},
   "outputs": [],
   "source": [
    "corpus = [ parla['text_lem'] for parla in parlamentarier ]\n",
    "vectorizer = TfidfVectorizer(max_df=0.8, min_df=(2/781))\n",
    "tf_idf_matrix  = vectorizer.fit_transform(corpus)"
   ]
  },
  {
   "cell_type": "markdown",
   "metadata": {},
   "source": [
    "erstelllt eine liste von dicts, wobei jedes dict folgende Info enthält:\n",
    "        - index\n",
    "        \n",
    "        - name des parlamentariers\n",
    "        \n",
    "        - Partei des Parlamentareirs\n",
    "        \n",
    "        - Anzahl der gehaltenen Reden\n",
    "        \n",
    "        - lemmatisiter Text aus allen Reden deíe der Parlamentarier gehalten hat\n",
    "        \n",
    "        - vec_number vektor der tfidf gewichte aus der tfidf matrix\n",
    "        \n",
    "        - msw ist das wort, welches das höchste gewicht im tfidf vetkro erhalten hat\n",
    "        "
   ]
  },
  {
   "cell_type": "code",
   "execution_count": 15,
   "metadata": {},
   "outputs": [],
   "source": [
    "def liste_von_parla_mit_dict_vec(reden, parlamentarier, X_csr, vectorizer):\n",
    "    \n",
    "    parlamentarier_vec = []\n",
    "\n",
    "    for count, parla in enumerate(parlamentarier):\n",
    "        hilf = {\n",
    "            'id':count+1,\n",
    "            'name': parla['name'],\n",
    "            'party': parla['party'],\n",
    "            'nReden': parla['nReden'],\n",
    "            'nWorte':parla['nWorte'],\n",
    "            'text': parla['text_lem']\n",
    "        }\n",
    "        \n",
    "        vec_numbers = np.array(X_csr.getrow(count).toarray()[0])\n",
    "        \n",
    "        maxWX = np.argmax(vec_numbers)\n",
    "          \n",
    "        #vec_numbers = vec_numbers/np.linalg.norm(vec_numbers)\n",
    "        \n",
    "        hilf.update({'vec_numbers': vec_numbers})\n",
    "        msw = list(vectorizer.vocabulary_.keys())[list(vectorizer.vocabulary_.values()).index(np.argmax(vec_numbers))]\n",
    "        hilf.update({'maxTFIDF': msw})\n",
    "        \n",
    "        \n",
    "        parlamentarier_vec.append(hilf)\n",
    "    \n",
    "    return parlamentarier_vec"
   ]
  },
  {
   "cell_type": "code",
   "execution_count": 16,
   "metadata": {},
   "outputs": [],
   "source": [
    "parlamentarier_vec = liste_von_parla_mit_dict_vec(reden_clean, parlamentarier, tf_idf_matrix.copy(), vectorizer)"
   ]
  },
  {
   "cell_type": "markdown",
   "metadata": {},
   "source": [
    "Berechnet die Cosinusähnlichkeit zweier Parlamentarier anhand des Skalarproduktes zweier Parlamentarier"
   ]
  },
  {
   "cell_type": "code",
   "execution_count": 17,
   "metadata": {},
   "outputs": [],
   "source": [
    "pairwise_similarity = tf_idf_matrix * tf_idf_matrix.T \n",
    "\n",
    "similarity = pairwise_similarity.toarray()"
   ]
  },
  {
   "cell_type": "markdown",
   "metadata": {},
   "source": [
    "Erstellt den Graphen. Die Knoten sind die Parlamentarier und das Gewicht ist die semantische Ähnlichkeit zweier Parlamentarier"
   ]
  },
  {
   "cell_type": "code",
   "execution_count": 18,
   "metadata": {},
   "outputs": [],
   "source": [
    "def cos_sim(vec_a, vec_b):\n",
    "    \n",
    "    return np.dot(vec_a, vec_b) /(np.linalg.norm(vec_a) * np.linalg.norm(vec_b))"
   ]
  },
  {
   "cell_type": "code",
   "execution_count": 19,
   "metadata": {},
   "outputs": [],
   "source": [
    "def cotop_graph_erstellen(parlamentarier, min_weight, similarity):\n",
    "\n",
    "    graph = {\n",
    "        'directed': False,\n",
    "        'graph': 'semant_graph',\n",
    "        'links': [],\n",
    "        'nodes': parlamentarier,\n",
    "    }\n",
    "\n",
    "    for ix,nodeI in enumerate(graph['nodes']):\n",
    "        for jx,nodeJ in enumerate(graph['nodes']):\n",
    "            if nodeI['id'] < nodeJ['id']:\n",
    "                source = nodeI['id']\n",
    "                target = nodeJ['id']\n",
    "                #weight = cos_sim(nodeI['vec_numbers'], nodeJ['vec_numbers'])\n",
    "                #r = np.corrcoef(nodeI['vec_numbers'], nodeJ['vec_numbers'])\n",
    "                #weight = r[0,1]\n",
    "                weight = similarity[ix,jx]\n",
    "                if weight > min_weight:\n",
    "                    link_dict = {\n",
    "                        'source':source,\n",
    "                        'target':target,\n",
    "                        'weight':weight       \n",
    "                    }\n",
    "                    graph['links'].append(link_dict)\n",
    "    return graph"
   ]
  },
  {
   "cell_type": "code",
   "execution_count": 20,
   "metadata": {},
   "outputs": [],
   "source": [
    "graph = cotop_graph_erstellen(parlamentarier_vec, 0.25, similarity)"
   ]
  },
  {
   "cell_type": "code",
   "execution_count": 21,
   "metadata": {},
   "outputs": [
    {
     "name": "stdout",
     "output_type": "stream",
     "text": [
      "This graph has 725 nodes and 4650 links.\n"
     ]
    },
    {
     "data": {
      "image/png": "[encoded data removed]",
      "text/plain": [
       "<Figure size 432x288 with 1 Axes>"
      ]
     },
     "metadata": {
      "needs_background": "light"
     },
     "output_type": "display_data"
    }
   ],
   "source": [
    "nn = len(graph['nodes'])\n",
    "ne = len(graph['links'])\n",
    "print( f\"This graph has {nn} nodes and {ne} links.\")\n",
    "\n",
    "import matplotlib.pyplot as plt\n",
    "\n",
    "weights=[]\n",
    "for link in graph['links']:\n",
    "    weights.append(link['weight'])\n",
    "#print(sum(weights))\n",
    "\n",
    "plt.hist(weights, bins=25)\n",
    "plt.title(\"Distribution of Weights\")\n",
    "plt.xlabel(\"Wert\")\n",
    "plt.ylabel(\"Häufigkeit\")\n",
    "plt.show()"
   ]
  },
  {
   "cell_type": "markdown",
   "metadata": {},
   "source": [
    "Überführt den Graphen in einen Graphen, der mithilfe von Gephi verarbeitet werden kann."
   ]
  },
  {
   "cell_type": "code",
   "execution_count": 22,
   "metadata": {},
   "outputs": [],
   "source": [
    "import networkx as nx\n",
    "\n",
    "graphforgephi = nx.Graph()\n",
    "for node in graph['nodes']:\n",
    "    graphforgephi.add_node(node['id'],name=node['name'],party=node['party'],msw=node['maxTFIDF'],nReden=node['nReden'],nWorte=node['nWorte']);\n",
    "\n",
    "for link in graph['links']:\n",
    "    if link['weight'] >= 0.25:\n",
    "        graphforgephi.add_edge(link['source'],link['target'],weight = link['weight'], community=0)"
   ]
  },
  {
   "cell_type": "markdown",
   "metadata": {},
   "source": [
    "Berechnet die vorhandenen Nachbarschaften im Graohen anhand des Louivain-Algorithmusses und fügt sie den Knoten hinzu."
   ]
  },
  {
   "cell_type": "code",
   "execution_count": 23,
   "metadata": {},
   "outputs": [
    {
     "ename": "AttributeError",
     "evalue": "module 'community' has no attribute 'best_partition'",
     "output_type": "error",
     "traceback": [
      "\u001b[0;31m---------------------------------------------------------------------------\u001b[0m",
      "\u001b[0;31mAttributeError\u001b[0m                            Traceback (most recent call last)",
      "\u001b[0;32m<ipython-input-23-45547a98403c>\u001b[0m in \u001b[0;36m<module>\u001b[0;34m\u001b[0m\n\u001b[1;32m      1\u001b[0m \u001b[0;32mimport\u001b[0m \u001b[0mcommunity\u001b[0m \u001b[0;32mas\u001b[0m \u001b[0mcommunity_louvain\u001b[0m\u001b[0;34m\u001b[0m\u001b[0;34m\u001b[0m\u001b[0m\n\u001b[1;32m      2\u001b[0m \u001b[0;31m# compute the best partition\u001b[0m\u001b[0;34m\u001b[0m\u001b[0;34m\u001b[0m\u001b[0;34m\u001b[0m\u001b[0m\n\u001b[0;32m----> 3\u001b[0;31m \u001b[0mpartition\u001b[0m \u001b[0;34m=\u001b[0m \u001b[0mcommunity_louvain\u001b[0m\u001b[0;34m.\u001b[0m\u001b[0mbest_partition\u001b[0m\u001b[0;34m(\u001b[0m\u001b[0mgraphforgephi\u001b[0m\u001b[0;34m)\u001b[0m\u001b[0;34m\u001b[0m\u001b[0;34m\u001b[0m\u001b[0m\n\u001b[0m",
      "\u001b[0;31mAttributeError\u001b[0m: module 'community' has no attribute 'best_partition'"
     ]
    }
   ],
   "source": [
    "import community as community_louvain\n",
    "# compute the best partition\n",
    "partition = community_louvain.best_partition(graphforgephi)"
   ]
  },
  {
   "cell_type": "code",
   "execution_count": 23,
   "metadata": {},
   "outputs": [],
   "source": [
    "#Update der Knoten mit der dazugehörigen community\n",
    "for i,node in enumerate(graphforgephi):\n",
    "    graphforgephi.add_node(node, partition_val=list(partition.values())[i])"
   ]
  },
  {
   "cell_type": "code",
   "execution_count": 24,
   "metadata": {},
   "outputs": [],
   "source": [
    "#speichern des Graphen, damit er in Gephi genutzt werden kann\n",
    "nx.write_gexf(graphforgephi, \"graphforgephi_20.gexf\")"
   ]
  },
  {
   "cell_type": "markdown",
   "metadata": {},
   "source": [
    "### Write Graph Data for JS/HTML \n"
   ]
  },
  {
   "cell_type": "code",
   "execution_count": 27,
   "metadata": {},
   "outputs": [
    {
     "data": {
      "text/plain": [
       "{'id': 11,\n",
       " 'name': 'Thomas Oppermann',\n",
       " 'party': 'SPD',\n",
       " 'nReden': 6,\n",
       " 'nWorte': 643,\n",
       " 'text': 'Herr Präsident Wahl Zusammenarbeit Herr Kollege WahlHerr Präsident Dame Herr Fußballweltmeisterschaft Timing Antragsteller Million Mensch Welt Fußballspiele Freude Rede Herr Woche Abend Fernseher Mannschaft Konsens Debatte Fußball Sport Sport Waffe Weg Ordnung Anlass Fußballweltmeisterschaft Situation Gastgeberland Russland Debatte Bundeskanzlerin Treffen Präsident Putin Interesse Beziehung Russland Russland Nachbar Union Land Welt Deutsche Hinsicht Land Million Mensch Weltkrieg Jahrzehnt Besatzungsmacht Weg Einheit Gewalt Blutvergießen Grund Russe Beziehung Jahr Differenz Russland Annexion Krim Völkerrecht Eskalation Ostukraine Bewertung Cyberangriffen Institution Finanzierung Partei Rolle Bürgerkrieg Verständnis Demokratie Menschenrechten Russland Pressefreiheit Pressefreiheit Seppelt Angst Reporter Russland Russland Land Atomwaffen Verhältnis Belehrungen Antrag Idee Weltmeisterschaft Gespräch Vorteil Deutsche Russe Zivilgesellschaft Interesse Zeit Jahr Sprache Literatur Auftaktveranstaltung Mensch Eremitage-Garten Russe Hoffnung Land Russe Idee Kollege Visaerleichterungen Mensch Möglichkeit Kontakt Beziehung Gespräch Russland Spielräume Zivilgesellschaft Wochenend Fußballspiel FC Bundestag Duma-Mannschaft Augenhöhe Situation Gespräch Stunde Sportplatz Eindruck Vorrat Interesse Vorrat Wert Wertvorstellungen Situation Dialog Frage Russland Lösung Minsker Abkomme Blutvergießen Bedrohung Nachkriegsordnung Grund Beziehung Russland Dank Rednerin Kollegin FDP-FraktionHerr Präsident Kollege Kollegin Land Mensch Spenderorgan Not Lebensgefahr Hoffnung Spenderorgane Zustand Gesellschaft Haus Gesetzentwürfe Verbesserung Situation Ärztekammer Anreiz Empfang Spenderorgans Spendebereitschaft Motto Vorschlag Richtung Organspende Handel Sinn Leistung Gegenleistung Organspende Beziehung Organspende Akt Nächstenliebe Solidarität Gesetzgeber Verantwortung Regelung Solidarität Widerspruchsregelung Widerspruchsregelung Spenderorgane Land Widerspruchsregelung Gesetzentwurf Regelfall Organspende Ausnahme Normalität Paradigmenwechsel Mentalitätswechsel Gesellschaft 16-Jährigen Organspender Ablehnung Begründung Rechtfertigung Ablehnung Ausübung Selbstbestimmungsrechtes Nachteil Frage Mitwirkungspflicht Ausübung Selbstbestimmung Widerspruchsregelung Druck Druck Organspender Gewebespenderegister Nein Pflicht Organspende Pflicht Solidarität Druck Leben Thema Organspende Entscheidung Dame Herr Widerspruchsregelung Entscheidungsregelung Entscheidungsregelung Druck Ansprache Bitte Solidarität Ende Zustimmungsregelung Appellativcharakter Zustand Widerspruchsregelung Recht Schweigen Recht Ruhe Seite Recht Leben Bitte Hilfe Seite letzter Wert Bewertung Menschenbild Grundgesetzes Individuum Mittelpunkt Bundesverfassungsgericht Mensch Bürger Bürger Bürgerin Widerspruchsregelung Mensch Unterstützung Gesetzentwurf Dank Herr Kollege Redner Wort KollegeHerr Präsident Dame Herr Woche Lage Golfregion Vorangegangen Jahr Stellvertreterkriegen Region Verlust Zivilbevölkerung Zeit Lichtblick Atomabkommen Jahr Deal Aufhebung Sanktion Ermöglichung Entwicklung Verzicht Fortführung Atomprogramms Vertrag Außenminister Erfolg Deeskalation Außenpolitik Diplomatie Feststellung Atomenergiebehörde Abkomme Abkomme Problem Jahr Faktor Region Rakete Vernichtung Miliz Bürgerkrieg Revolutionsgarden Huthi-Rebellen Jemen Gemeinschaft Mittel Weg Einhalt Atomabkommen Gegenteil Fehler Präsident Sanktion Atomabkommen Schritt Schritt Europäer Vertrag Zweck Vertrages Strategie Druck Eskalation Gang Höhepunkt Terrorangriff Ölanlagen Ergebnis Scherbenhaufen Desaster Rang Bündnispartner Militäretats Welt Lage Angriff Situation Ziel Seite Gesichtsverlust Seite Gesichtsverlust Vertrag Woche Gesichtsverlust Vertrag Aktion Lösung Konflikt Politik Osten Druck Einschüchterung Verhandlungsbereitschaft Diplomatie Schritt Angriff Nuklearvertrag Linie Konflikt Deeskalation Lage Nation Jahr Veto-Erklärungen Sicherheitsrat Hauptversammlung Wert Akteur Vertrag Verhandlungsansatz Umsetzung Atomvertrages Thema Sicherheit DankHerr Präsident Dame Herr Entscheidung Tragweite Mensch Debatte Aufmerksamkeit Mensch Spenderorgan Mensch Teil Lebensgefahr Not Angehörige Freund Tag Leid Abstimmung Hoffnung Hoffnung Zustimmungsregelung Weiter-so Land Widerspruchsregelung EU-Länder Bereitschaft Organspende Chance Leben Nachbarland Spende Million Einwohner Eurotransplant-Verbund Land Widerspruchsregelung Mensch Widerspruchsregelung Unbehagen Tod Konsequenz Tod Selbstbestimmungsrecht Mensch Gegenteil Widerspruchsregelung Mensch Selbstbestimmungsrecht Spender Nichtspender Gesetzgeber Spender Widerspruch Verstoß Grundrechte Auffassung Ethikrates Hinsicht Regelung Staat Ruhe Staat Pflicht Leben Rahmen Möglichkeit Organspende Moment Prozent Deutsche Haltung Organspende Jahr Mensch Warteliste Spenderorgane Regel Organspende Sicht Fehler Recht Ausnahmecharakter Organspende Widerspruchsregelung Organspende Regelfall Normalität Ausnahme Akt Menschlichkeit Paradigmenwechsel Mentalitätswechsel Folge Mentalität Nächstenliebe Hilfsbereitschaft Solidarität Vordergrund Recht Ruhe Supergrundrecht Belange Ende Kultur Hilfsbereitschaft Nächstenliebe Absolutes Recht Schweigen Recht Ruhe Seite Bitte Hilfe Recht Leben Seite Letzteres Stellenwert Bewertung Einklang Menschenbild Grundgesetzes Individuum Mittelpunkt Mensch Bundesverfassungsgericht Bundesverfassungsgericht Menschenbild Widerspruchsregelung Redner KollegeFrau Dame Herr Gesetzentwurf Änderung Abgeordnetengesetzes Änderung Verhaltensrichtlinien Angelegenheit Vorgabe Bundesverfassungsgerichtes Steuermitteln Mitarbeiter Abgeordnete Arbeitszeit Wahlkampf Abgeordnete Ordnungsgeld Spende Zuwendung Fortschritt Selbstverständlichkeiten Anmerkung Nachricht Neuregelung Transparenz Nachricht Verbesserung Transparenzregeln Prozess Vorsitzender Rechtsstellungskommission Regel Rüge Bundesverfassungsgerichtes Europarat Defizit Skandal Aufmerksamkeit Vorgang Kollege Einräumung Aktienoptionen Regelungslücke Teil Novelle Erwartung Wahlperiode Verhaltensregeln Abgeordnete Integrität Vertrauenswürdigkeit Demokratie Bürgerin Bürger Rechtsordnung Abgeordnete Position Interesse Ausübung Mandat Abgeordnete Berufstätigkeit Interessenkollisionen Verhaltensregeln Transparenz Offenheit Anmerkung Jahr Flickschusterei Regelwerk Abgeordnetengesetz Verhaltensregeln Ausführungsbestimmungen Verhaltensregeln Transparenzregeln Mitglied Rechtsstellungskommission Regelwerk Wahlperiode Überarbeitung Vereinfachung Regel Abgeordnete Öffentlichkeit Einholung Rechtsgutachtens Abgeordnete Beispiel Wirtschaft Unternehmen Compliance-Regeln Integrität Geschäft Compliance-Regeln Wirtschaft Vertrauen Kapital Demokratie Umgang Dank Wort Dr. FDP-Fraktion',\n",
       " 'vec_numbers': array([0., 0., 0., ..., 0., 0., 0.]),\n",
       " 'maxTFIDF': 'widerspruchsregelung'}"
      ]
     },
     "execution_count": 27,
     "metadata": {},
     "output_type": "execute_result"
    }
   ],
   "source": [
    "graph['nodes'][10]"
   ]
  },
  {
   "cell_type": "code",
   "execution_count": 28,
   "metadata": {},
   "outputs": [],
   "source": [
    "\n",
    "for node in graph['nodes']:\n",
    "    node.pop('vec_numbers', None)\n",
    "\n",
    "\n",
    "with open('networkdata.json', 'w') as fp:\n",
    "    json.dump(graph, fp)"
   ]
  },
  {
   "cell_type": "code",
   "execution_count": null,
   "metadata": {},
   "outputs": [],
   "source": []
  }
 ],
 "metadata": {
  "kernelspec": {
   "display_name": "Python 3",
   "language": "python",
   "name": "python3"
  },
  "language_info": {
   "codemirror_mode": {
    "name": "ipython",
    "version": 3
   },
   "file_extension": ".py",
   "mimetype": "text/x-python",
   "name": "python",
   "nbconvert_exporter": "python",
   "pygments_lexer": "ipython3",
   "version": "3.7.3"
  }
 },
 "nbformat": 4,
 "nbformat_minor": 4
}
