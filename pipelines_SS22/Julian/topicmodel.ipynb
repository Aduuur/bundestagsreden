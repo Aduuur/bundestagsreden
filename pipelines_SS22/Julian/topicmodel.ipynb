{
 "cells": [
  {
   "cell_type": "code",
   "execution_count": null,
   "id": "1ccf562d-82f5-40af-accb-9955a979202e",
   "metadata": {
    "pycharm": {
     "name": "#%%\n",
     "is_executing": true
    }
   },
   "outputs": [],
   "source": [
    "import os\n",
    "import sys\n",
    "import numpy as np\n",
    "import matplotlib.pyplot as plt\n",
    "import spacy\n",
    "import json\n",
    "import tqdm\n",
    "\n",
    "from utilities.BTTools import groupSpeechesByDiscussionTitle\n",
    "\n",
    "from sklearn.feature_extraction.text import TfidfVectorizer\n",
    "from sklearn.decomposition import NMF\n",
    "from sklearn.preprocessing import normalize\n",
    "from sklearn.metrics.pairwise import cosine_similarity"
   ]
  },
  {
   "cell_type": "code",
   "execution_count": null,
   "outputs": [],
   "source": [
    "def get_speeches():\n",
    "    speeches = []\n",
    "    with open('../../bundestagsreden parser/speeches_20.jsonl', 'r', encoding='utf8') as fp:\n",
    "        for line in list(fp):\n",
    "            speeches.append(json.loads(line))\n",
    "\n",
    "    return speeches"
   ],
   "metadata": {
    "collapsed": false,
    "pycharm": {
     "name": "#%%\n",
     "is_executing": true
    }
   }
  },
  {
   "cell_type": "code",
   "execution_count": null,
   "outputs": [],
   "source": [
    "original_speeches = get_speeches()\n",
    "print(f'loaded {len(original_speeches)}')"
   ],
   "metadata": {
    "collapsed": false,
    "pycharm": {
     "name": "#%%\n",
     "is_executing": true
    }
   }
  },
  {
   "cell_type": "code",
   "execution_count": null,
   "outputs": [],
   "source": [
    "grouped_speeches_by_tops = groupSpeechesByDiscussionTitle(original_speeches)\n",
    "print(f'grouped speeches to {len(grouped_speeches_by_tops)} \"TagesOrnungsPunkten\"')"
   ],
   "metadata": {
    "collapsed": false,
    "pycharm": {
     "name": "#%%\n",
     "is_executing": true
    }
   }
  },
  {
   "cell_type": "code",
   "execution_count": null,
   "outputs": [],
   "source": [
    "def get_corpus(tops):\n",
    "    corpus = []\n",
    "\n",
    "    for top in tops.values():\n",
    "        aggregate = []\n",
    "\n",
    "        for speech in top:\n",
    "            aggregate.append(speech['text'])\n",
    "        corpus.append(' '.join(aggregate))\n",
    "\n",
    "    return corpus"
   ],
   "metadata": {
    "collapsed": false,
    "pycharm": {
     "name": "#%%\n",
     "is_executing": true
    }
   }
  },
  {
   "cell_type": "code",
   "execution_count": null,
   "outputs": [],
   "source": [
    "corpus = get_corpus(grouped_speeches_by_tops)\n",
    "print(f'created corpus with {len(corpus)} entries')"
   ],
   "metadata": {
    "collapsed": false,
    "pycharm": {
     "name": "#%%\n",
     "is_executing": true
    }
   }
  },
  {
   "cell_type": "code",
   "execution_count": null,
   "outputs": [],
   "source": [
    "nlp = spacy.load('de_core_news_sm')"
   ],
   "metadata": {
    "collapsed": false,
    "pycharm": {
     "name": "#%%\n",
     "is_executing": true
    }
   }
  },
  {
   "cell_type": "code",
   "execution_count": null,
   "outputs": [],
   "source": [
    "def corpus_by_POS(corpus, consider):\n",
    "    groups = []\n",
    "    for row in tqdm.tqdm(corpus):\n",
    "        doc = nlp(row)\n",
    "        new_row = []\n",
    "        for token in doc:\n",
    "            if token.pos_ in consider:\n",
    "                new_row.append(token.lemma_)\n",
    "        groups.append(' '.join(new_row))\n",
    "\n",
    "    return groups"
   ],
   "metadata": {
    "collapsed": false,
    "pycharm": {
     "name": "#%%\n",
     "is_executing": true
    }
   }
  },
  {
   "cell_type": "code",
   "execution_count": null,
   "outputs": [
    {
     "name": "stderr",
     "output_type": "stream",
     "text": [
      " 73%|███████▎  | 151/208 [09:25<02:35,  2.72s/it]"
     ]
    }
   ],
   "source": [
    "consider = ['NOUN']\n",
    "noun_groups = corpus_by_POS(corpus, consider)"
   ],
   "metadata": {
    "collapsed": false,
    "pycharm": {
     "name": "#%%\n",
     "is_executing": true
    }
   }
  },
  {
   "cell_type": "code",
   "execution_count": null,
   "outputs": [],
   "source": [
    "print(f'got {len(noun_groups)} noun_groups')\n",
    "print(noun_groups[0])"
   ],
   "metadata": {
    "collapsed": false,
    "pycharm": {
     "name": "#%%\n",
     "is_executing": true
    }
   }
  },
  {
   "cell_type": "code",
   "execution_count": null,
   "outputs": [],
   "source": [
    "tfidf_vectorizer = TfidfVectorizer(max_df=0.8, min_df=0.01, lowercase=False)\n",
    "tfidf_matrix = tfidf_vectorizer.fit_transform(noun_groups)\n",
    "feature_names = tfidf_vectorizer.get_feature_names_out()\n",
    "\n",
    "tf_vectorizer = TfidfVectorizer(vocabulary=feature_names, use_idf=False, norm='l1')\n",
    "tf_matrix = tf_vectorizer.fit_transform(noun_groups)"
   ],
   "metadata": {
    "collapsed": false,
    "pycharm": {
     "name": "#%%\n",
     "is_executing": true
    }
   }
  },
  {
   "cell_type": "code",
   "execution_count": null,
   "outputs": [],
   "source": [
    "print(tfidf_matrix.shape)\n",
    "print(tf_matrix.shape)"
   ],
   "metadata": {
    "collapsed": false,
    "pycharm": {
     "name": "#%%\n",
     "is_executing": true
    }
   }
  },
  {
   "cell_type": "code",
   "execution_count": null,
   "outputs": [],
   "source": [
    "def create_model(matrix):\n",
    "    n_topics = 10\n",
    "    m = NMF(n_components=n_topics)\n",
    "    m.fit(tfidf_matrix)\n",
    "\n",
    "    return m"
   ],
   "metadata": {
    "collapsed": false,
    "pycharm": {
     "name": "#%%\n",
     "is_executing": true
    }
   }
  },
  {
   "cell_type": "code",
   "execution_count": null,
   "outputs": [],
   "source": [
    "model = create_model(tfidf_matrix)"
   ],
   "metadata": {
    "collapsed": false,
    "pycharm": {
     "name": "#%%\n",
     "is_executing": true
    }
   }
  },
  {
   "cell_type": "code",
   "execution_count": null,
   "outputs": [],
   "source": [
    "def get_topic_word_lists(topic_model):\n",
    "    n_words = 10\n",
    "    n_words_features = 100\n",
    "\n",
    "    topic_list = []\n",
    "    extended_topic_list = []\n",
    "    topic_words = []\n",
    "\n",
    "    for idx, topic in enumerate(model.components_):\n",
    "        top_n = [feature_names[i] for i in topic.argsort()[-n_words:]][::-1]\n",
    "        top_features = ' '.join(top_n)\n",
    "        topic_list.append(f\"topic_{'_'.join(top_n[:3])}\")\n",
    "        extended_topic_list.append(top_features)\n",
    "\n",
    "        top_n = [feature_names[i] for i in topic.argsort()[-n_words_features:]][::-1]\n",
    "\n",
    "        topic_words.append(top_n)\n",
    "\n",
    "        print(f\"Topic {idx}: {top_features}\")\n",
    "\n",
    "    return topic_list, extended_topic_list, topic_words"
   ],
   "metadata": {
    "collapsed": false,
    "pycharm": {
     "name": "#%%\n",
     "is_executing": true
    }
   }
  },
  {
   "cell_type": "code",
   "execution_count": null,
   "outputs": [],
   "source": [
    "tl, etl, tw = get_topic_word_lists(model)\n",
    "print(f'got {len(tl)} topics, {len(etl)} extended topics and {len(tw)} words.')"
   ],
   "metadata": {
    "collapsed": false,
    "pycharm": {
     "name": "#%%\n",
     "is_executing": true
    }
   }
  },
  {
   "cell_type": "code",
   "execution_count": null,
   "outputs": [],
   "source": [
    "topic2word = model.components_ # TW\n",
    "doc2topic = (tf_matrix * topic2word.T) # TN\n",
    "\n",
    "print(f'tf_matrix: {tf_matrix.shape}')\n",
    "print(f'topic2word: {topic2word.shape}')\n",
    "print(f'doc2topic: {doc2topic.shape}')"
   ],
   "metadata": {
    "collapsed": false,
    "pycharm": {
     "name": "#%%\n",
     "is_executing": true
    }
   }
  },
  {
   "cell_type": "code",
   "execution_count": null,
   "outputs": [],
   "source": [
    "def get_topic2_topic(tm):\n",
    "    normalized_matrix = normalize(tm.components_, axis=1, norm='l1')\n",
    "    print(f'normalized_matrix: {normalized_matrix.shape}')\n",
    "\n",
    "    topic_to_topic = cosine_similarity(normalized_matrix)\n",
    "    print(f'topic2topic: {topic_to_topic.shape}')\n",
    "\n",
    "    return topic_to_topic"
   ],
   "metadata": {
    "collapsed": false,
    "pycharm": {
     "name": "#%%\n",
     "is_executing": true
    }
   }
  },
  {
   "cell_type": "code",
   "execution_count": null,
   "outputs": [],
   "source": [
    "topic2topic = get_topic2_topic(model)\n",
    "\n",
    "plt.matshow(topic2topic)\n",
    "plt.show()"
   ],
   "metadata": {
    "collapsed": false,
    "pycharm": {
     "name": "#%%\n",
     "is_executing": true
    }
   }
  },
  {
   "cell_type": "code",
   "execution_count": null,
   "outputs": [],
   "source": [
    "def create_topic2topic_graph(t2t, extended_topic_list):\n",
    "    nodes = []\n",
    "    count = 1\n",
    "\n",
    "    for i, topic in enumerate(t2t):\n",
    "        nodes.append({\n",
    "            'id': count,\n",
    "            'topicname': extended_topic_list[i]\n",
    "        })\n",
    "        count += 1\n",
    "\n",
    "    graph = {\n",
    "        'directed': False,\n",
    "        'graph': 'semant_graph',\n",
    "        'links': [],\n",
    "        'nodes': nodes\n",
    "    }\n",
    "\n",
    "    for i, node_i in enumerate(graph['nodes']):\n",
    "        for j, node_j in enumerate(graph['nodes']):\n",
    "            if i < j:\n",
    "                source = node_i['id']\n",
    "                target = node_j['id']\n",
    "                weight = t2t[i, j]\n",
    "                if weight > 0.15:\n",
    "                    link = {\n",
    "                        'source': source,\n",
    "                        'target': target,\n",
    "                        'weight': weight\n",
    "                    }\n",
    "                    graph['links'].append(link)\n",
    "\n",
    "    return graph"
   ],
   "metadata": {
    "collapsed": false,
    "pycharm": {
     "name": "#%%\n",
     "is_executing": true
    }
   }
  },
  {
   "cell_type": "code",
   "execution_count": null,
   "outputs": [],
   "source": [
    "t2t_graph = create_topic2topic_graph(topic2topic, etl)\n",
    "\n",
    "print(f\"got a graph with {len(t2t_graph['nodes'])} nodes.\")\n",
    "print('the first node:')\n",
    "print(t2t_graph['nodes'][0])"
   ],
   "metadata": {
    "collapsed": false,
    "pycharm": {
     "name": "#%%\n",
     "is_executing": true
    }
   }
  },
  {
   "cell_type": "code",
   "execution_count": null,
   "outputs": [],
   "source": [
    "def get_graph_template(graph, properties):\n",
    "    node_label = properties['nodelabel']\n",
    "    node_coloring = properties['nodecoloring']\n",
    "\n",
    "    lv = '//' if properties['edgevisibility'] else ''\n",
    "    parts = '//' if not properties['particles'] else ''\n",
    "    dm = '//' if not properties['darkmode'] else ''\n",
    "\n",
    "    d3graph = {\n",
    "        'nodes': graph['nodes'],\n",
    "        'links': graph['links']\n",
    "    }\n",
    "\n",
    "    htmlcode = f\"\"\"<head>\n",
    "        <style>\n",
    "            body {{\n",
    "                margin: 0;\n",
    "                font-family: Arial;\n",
    "            }}\n",
    "            h3 {{text-align: center;}}\n",
    "            .center {{\n",
    "              display: block;\n",
    "              margin-left: auto;\n",
    "              margin-right: auto;\n",
    "            }}\n",
    "        </style>\n",
    "        <script src=\"https://unpkg.com/force-graph\"></script>\n",
    "        <meta charset=\"UTF-8\">\n",
    "    </head>\n",
    "    <body>\n",
    "    <img src=\"Logo.png\" height=\"150\" width=\"300\" class=\"center\">\n",
    "    <h3>DebSearch ist eine statistische Website, welche die aktuelle Legislaturperiode</h3>\n",
    "    <h3>in verschiedenen Kategorieren auswertet und visualisiert.</h3>\n",
    "    <div id=\"graph\"></div>\n",
    "    <script>\n",
    "        var data = {d3graph};\n",
    "        const elem = document.getElementById('graph');\n",
    "        const Graph = ForceGraph()(elem)\n",
    "            .graphData(data)\n",
    "            .nodeLabel('{node_label}')\n",
    "            .nodeRelSize(3)\n",
    "            .nodeVal('nReden')\n",
    "            .nodeAutoColorBy('{node_coloring}')\n",
    "            {dm}.backgroundColor('#000000')\n",
    "            {dm}.linkColor(() => 'rgba(255,255,255,0.2)')\n",
    "            {lv}.linkVisibility('false')\n",
    "            {parts}.linkDirectionalParticles(2)\n",
    "            {parts}.linkDirectionalParticleWidth(1.4)\n",
    "            .onNodeClick (node => {{window.open(`wordnet.html`, '_blank')}})\n",
    "            //.onNodeHover(node => elem.style.cursor = node ? 'pointer' : null)\n",
    "            .onNodeRightClick(node => {{\n",
    "                // Center/zoom on node\n",
    "                Graph.centerAt(node.x, node.y, 1000);\n",
    "                Graph.zoom(4, 2000);\n",
    "            }});\n",
    "    </script>\n",
    "    </body>\n",
    "    \"\"\"\n",
    "\n",
    "    return { 'graph': htmlcode }"
   ],
   "metadata": {
    "collapsed": false,
    "pycharm": {
     "name": "#%%\n",
     "is_executing": true
    }
   }
  },
  {
   "cell_type": "code",
   "execution_count": null,
   "outputs": [],
   "source": [
    "properties = {\n",
    "    'nodecoloring':'topicname',\n",
    "    'nodelabel': 'topicname',\n",
    "    \"darkmode\": False,\n",
    "    \"edgevisibility\": True,\n",
    "    \"particles\": False\n",
    "}\n",
    "\n",
    "html_graph = get_graph_template(t2t_graph, properties)"
   ],
   "metadata": {
    "collapsed": false,
    "pycharm": {
     "name": "#%%\n",
     "is_executing": true
    }
   }
  },
  {
   "cell_type": "code",
   "execution_count": null,
   "outputs": [],
   "source": [
    "def write_html_file(html):\n",
    "    with open(f'./topic_network.html', 'w') as f:\n",
    "        f.write(html['graph'])"
   ],
   "metadata": {
    "collapsed": false,
    "pycharm": {
     "name": "#%%\n",
     "is_executing": true
    }
   }
  },
  {
   "cell_type": "code",
   "execution_count": null,
   "outputs": [],
   "source": [
    "write_html_file(html_graph)"
   ],
   "metadata": {
    "collapsed": false,
    "pycharm": {
     "name": "#%%\n",
     "is_executing": true
    }
   }
  },
  {
   "cell_type": "code",
   "execution_count": null,
   "outputs": [],
   "source": [],
   "metadata": {
    "collapsed": false,
    "pycharm": {
     "name": "#%%\n",
     "is_executing": true
    }
   }
  }
 ],
 "metadata": {
  "kernelspec": {
   "display_name": "Python 3",
   "language": "python",
   "name": "python3"
  },
  "language_info": {
   "codemirror_mode": {
    "name": "ipython",
    "version": 3
   },
   "file_extension": ".py",
   "mimetype": "text/x-python",
   "name": "python",
   "nbconvert_exporter": "python",
   "pygments_lexer": "ipython3",
   "version": "3.8.3"
  }
 },
 "nbformat": 4,
 "nbformat_minor": 5
}