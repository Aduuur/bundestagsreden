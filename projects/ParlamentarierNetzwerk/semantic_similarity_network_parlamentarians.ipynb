{
 "cells": [
  {
   "cell_type": "markdown",
   "metadata": {},
   "source": [
    "Importieren der benötigten packages"
   ]
  },
  {
   "cell_type": "code",
   "execution_count": 1,
   "metadata": {
    "ExecuteTime": {
     "start_time": "2023-04-28T17:29:33.490303Z",
     "end_time": "2023-04-28T17:29:35.503406Z"
    }
   },
   "outputs": [],
   "source": [
    "import json\n",
    "import requests\n",
    "from collections import Counter\n",
    "import numpy as np\n",
    "from tqdm import tqdm\n",
    "from sklearn.feature_extraction.text import TfidfVectorizer"
   ]
  },
  {
   "cell_type": "markdown",
   "metadata": {},
   "source": [
    "Laden der bereits gereinigten und preprocesseden Daten aus einer JSON-Datei"
   ]
  },
  {
   "cell_type": "code",
   "execution_count": 5,
   "outputs": [],
   "source": [
    "path = '../../data/'\n",
    "name_of_file = 'speeches_preprocessed_20.json'"
   ],
   "metadata": {
    "collapsed": false,
    "ExecuteTime": {
     "start_time": "2023-04-28T17:32:21.157219Z",
     "end_time": "2023-04-28T17:32:21.176217Z"
    }
   }
  },
  {
   "cell_type": "code",
   "execution_count": 6,
   "metadata": {
    "ExecuteTime": {
     "start_time": "2023-04-28T17:32:22.161071Z",
     "end_time": "2023-04-28T17:32:27.201335Z"
    }
   },
   "outputs": [],
   "source": [
    "with open(f\"{path}{name_of_file}\", 'r') as fp:\n",
    "    data = json.load(fp)"
   ]
  },
  {
   "cell_type": "code",
   "execution_count": 7,
   "metadata": {
    "ExecuteTime": {
     "start_time": "2023-04-28T17:35:39.996961Z",
     "end_time": "2023-04-28T17:35:40.009952Z"
    }
   },
   "outputs": [],
   "source": [
    "alleReden = data.copy()"
   ]
  },
  {
   "cell_type": "code",
   "execution_count": 8,
   "metadata": {
    "ExecuteTime": {
     "start_time": "2023-04-28T17:35:41.077046Z",
     "end_time": "2023-04-28T17:35:41.129578Z"
    }
   },
   "outputs": [],
   "source": [
    "for rede in alleReden:\n",
    "    if rede['name']=='Albert H. Weiler':\n",
    "        rede['name']='Albert Weiler'\n",
    "    if rede['name']=='Eva-Maria Elisabeth Schreiber':\n",
    "        rede['name']='Eva-Maria Schreiber'\n",
    "    if rede['name']=='Heidrun Bluhm-Förster':\n",
    "        rede['name']='Heidrun Bluhm'\n",
    "    if rede['name']==' in der Beek':\n",
    "        rede['name']='Olaf in der Beek'\n",
    "    if rede['name']==' ':\n",
    "        rede['name']='Unbekannt'\n",
    "    if rede['name']=='Eberhardt Alexander Gauland':\n",
    "        rede['name']='Alexander Gauland'\n",
    "    if rede['name']=='Joana Eleonora Cotar':\n",
    "        rede['name']='Joana Cotar'\n",
    "    if rede['name']=='Wolfgang Schäuble':\n",
    "        rede['name']='Dr. Wolfgang Schäuble'\n",
    "    if rede['name']=='Thomas de Maizière':\n",
    "        rede['name']='Thomas Maizière'\n",
    "    if rede['name']=='Alterspräsident Dr. Hermann Otto Solms':\n",
    "        rede['name']='Hermann Otto Solms'\n",
    "    if rede['name']=='Konstantin Elias Kuhle':\n",
    "        rede['name']='Konstantin Kuhle'\n",
    "    if rede['name']=='Konstantin Elias Kuhle':\n",
    "        rede['name']='Konstantin Kuhle'\n",
    "    if rede['name']=='Elvan Korkmaz':\n",
    "        rede['name']='Elvan Korkmaz-Emre'"
   ]
  },
  {
   "cell_type": "markdown",
   "metadata": {},
   "source": [
    "Für dieses Netzwerk werden nur die Nomen berücksichtigt"
   ]
  },
  {
   "cell_type": "code",
   "execution_count": 6,
   "metadata": {},
   "outputs": [
    {
     "name": "stderr",
     "output_type": "stream",
     "text": [
      "100%|██████████████████████████████████████████████████████████████████████████| 10803/10803 [00:02<00:00, 5009.24it/s]\n"
     ]
    }
   ],
   "source": [
    "consider = ['NOUN']\n",
    "for rede in tqdm(alleReden):\n",
    "    rel_lemmata = [ ele for ex,ele in enumerate(rede['text_lem']) if rede['text_pos'][ex] in consider ]\n",
    "    rede['text_lem'] = rel_lemmata\n",
    "    rede['text_pos'] = [ele for ele in rede['text_pos'] if ele in consider]"
   ]
  },
  {
   "cell_type": "code",
   "execution_count": 7,
   "metadata": {},
   "outputs": [],
   "source": [
    "reden_clean = alleReden"
   ]
  },
  {
   "cell_type": "markdown",
   "metadata": {},
   "source": [
    "Erstellt eine Liste aller Parlamentarier, sowie ihrer dazugehörigen Parteien"
   ]
  },
  {
   "cell_type": "code",
   "execution_count": 8,
   "metadata": {},
   "outputs": [],
   "source": [
    "\n",
    "def get_names_and_parties(reden_clean):\n",
    "    names = []\n",
    "    parties = []\n",
    "    for rede in reden_clean:\n",
    "        if rede['name'] not in names:\n",
    "            names.append(rede['name'])\n",
    "            parties.append(rede['party'])\n",
    "    return names, parties"
   ]
  },
  {
   "cell_type": "code",
   "execution_count": 9,
   "metadata": {},
   "outputs": [],
   "source": [
    "names, parties = get_names_and_parties(reden_clean)"
   ]
  },
  {
   "cell_type": "markdown",
   "metadata": {},
   "source": [
    "Erzeugt eine liste von dicts, welche jeweils einen der Parlamentarier enthalten. In den jeweiligen dicts sind außerdem ein Index, und die Parteizugehörigkeit des jeweiligen Parlamentariers gespeichert."
   ]
  },
  {
   "cell_type": "code",
   "execution_count": 10,
   "metadata": {},
   "outputs": [],
   "source": [
    "def get_text_clean(name, reden):\n",
    "    text = ''\n",
    "    nReden = 0\n",
    "    nWorte = 0\n",
    "    for rede in reden:\n",
    "        if rede['name'] == name:\n",
    "            nReden += 1\n",
    "            nWorte += len(rede['text_lem'])\n",
    "            text += ' '.join(rede['text_lem'])\n",
    "    return text, nReden, nWorte\n",
    "   "
   ]
  },
  {
   "cell_type": "code",
   "execution_count": 11,
   "metadata": {},
   "outputs": [],
   "source": [
    "def liste_von_parla_mit_dict_text(reden, names, parties):\n",
    "    \n",
    "    parlamentarier = []\n",
    "\n",
    "    for count,name in enumerate(names):\n",
    "        hilf = {\n",
    "            'id':count+1,\n",
    "            'name': names[count],\n",
    "            'party': parties[count]\n",
    "        }\n",
    "        \n",
    "        text, nReden, nWorte = get_text_clean(name, reden) \n",
    "            \n",
    "        hilf.update({'text_lem': text, 'nReden': nReden, 'nWorte': nWorte})\n",
    "        \n",
    "        parlamentarier.append(hilf)\n",
    "    \n",
    "    return parlamentarier"
   ]
  },
  {
   "cell_type": "code",
   "execution_count": 12,
   "metadata": {},
   "outputs": [],
   "source": [
    "parlamentarier = liste_von_parla_mit_dict_text(reden_clean, names, parties)"
   ]
  },
  {
   "cell_type": "markdown",
   "metadata": {},
   "source": [
    "Erstellt eine Matrix, welche als Zeilen die einzelnen Parlamentarier enthält. Die Zeilen sind gegeben durch die von allen Rednern gesagten Worte. \n",
    "Die einzelnen Eniträge sind die tf-idf Gewichte des von einem Parlamentarier gesagten Wortes.\n",
    "Die Berechnung der tfidf erfolgt folgerndermaßen:\n",
    "\n",
    "tf-idf(t, d) = tf(t, d) * idf(t)\n",
    "\n",
    "tf(t,d) = termfrequency des Terms t im Dokument d\n",
    "\n",
    "idf(t,d) = log [ (1 + n) / (1 + df(t)) ] + 1 inverse \n",
    "\n",
    "wobei df(t) die document frequency eines Wortes ist, also in wie vielen Worten eine Dokument vorkommt."
   ]
  },
  {
   "cell_type": "code",
   "execution_count": 13,
   "metadata": {},
   "outputs": [
    {
     "name": "stdout",
     "output_type": "stream",
     "text": [
      "(752, 31055)\n"
     ]
    }
   ],
   "source": [
    "corpus = [ parla['text_lem'] for parla in parlamentarier ]\n",
    "vectorizer = TfidfVectorizer(max_df=0.8, min_df=(2/781))\n",
    "tf_idf_matrix  = vectorizer.fit_transform(corpus)\n",
    "print(tf_idf_matrix.shape)"
   ]
  },
  {
   "cell_type": "markdown",
   "metadata": {},
   "source": [
    "erstelllt eine liste von dicts, wobei jedes dict folgende Info enthält:\n",
    "        - index\n",
    "        \n",
    "        - name des parlamentariers\n",
    "        \n",
    "        - Partei des Parlamentareirs\n",
    "        \n",
    "        - Anzahl der gehaltenen Reden\n",
    "        \n",
    "        - lemmatisiter Text aus allen Reden deíe der Parlamentarier gehalten hat\n",
    "        \n",
    "        - vec_number vektor der tfidf gewichte aus der tfidf matrix\n",
    "        \n",
    "        - msw ist das wort, welches das höchste gewicht im tfidf vetkro erhalten hat\n",
    "        "
   ]
  },
  {
   "cell_type": "code",
   "execution_count": 14,
   "metadata": {},
   "outputs": [],
   "source": [
    "def liste_von_parla_mit_dict_vec(reden, parlamentarier, X_csr, vectorizer):\n",
    "    \n",
    "    parlamentarier_vec = []\n",
    "\n",
    "    for count, parla in enumerate(parlamentarier):\n",
    "        hilf = {\n",
    "            'id':count+1,\n",
    "            'name': parla['name'],\n",
    "            'party': parla['party'],\n",
    "            'nReden': parla['nReden'],\n",
    "            'nWorte':parla['nWorte'],\n",
    "            'text': parla['text_lem']\n",
    "        }\n",
    "        \n",
    "        vec_numbers = np.array(X_csr.getrow(count).toarray()[0])\n",
    "        \n",
    "        maxWX = np.argmax(vec_numbers)\n",
    "          \n",
    "        #vec_numbers = vec_numbers/np.linalg.norm(vec_numbers)\n",
    "        \n",
    "        hilf.update({'vec_numbers': vec_numbers})\n",
    "        msw = list(vectorizer.vocabulary_.keys())[list(vectorizer.vocabulary_.values()).index(np.argmax(vec_numbers))]\n",
    "        hilf.update({'maxTFIDF': msw})\n",
    "        \n",
    "        ### added by Sven (21.03)\n",
    "        \n",
    "        wordcounts = Counter(parla['text_lem']).most_common(1)\n",
    "        mfws = ''\n",
    "        for wx,word in enumerate(wordcounts):\n",
    "            if(wx == 1):\n",
    "                mfws = word\n",
    "            else:\n",
    "                mfws = ' | '+mfws\n",
    "        hilf.update({'mfws': msw})\n",
    "        \n",
    "        ### end add\n",
    "        \n",
    "        parlamentarier_vec.append(hilf)\n",
    "    \n",
    "    return parlamentarier_vec"
   ]
  },
  {
   "cell_type": "code",
   "execution_count": 15,
   "metadata": {},
   "outputs": [],
   "source": [
    "parlamentarier_vec = liste_von_parla_mit_dict_vec(reden_clean, parlamentarier, tf_idf_matrix.copy(), vectorizer)"
   ]
  },
  {
   "cell_type": "code",
   "execution_count": 16,
   "metadata": {},
   "outputs": [
    {
     "name": "stdout",
     "output_type": "stream",
     "text": [
      "{'id': 1, 'name': 'Gabriele Katzmarek', 'party': 'SPD', 'nReden': 3, 'nWorte': 264, 'text': 'Herr recht Kollegin Kollege Dame Herr Übernahme Geschäftsordnung Entscheidung Beginn Wahlperiode Geschäftsordnung Grundlage Arbeit Wahlperioden Wahlperiode Tradition Geschäftsordnung Anfang Wahlperiode Mehrheit Stein Wahlperiode Bundestag Geschäftsordnung Dokument Gegebenheit Parlamentarismus Gegebenheit Arbeit Bundestag Geschäftsordnung Entwicklung Wahlperiode Änderung Reform Verhaltensregeln Initiative Präsident Geschäftsordnung Wahlperiode Generalüberholung Impuls Fraktion Weg Vorschlag Opposition Geschäftsordnung Zeit Legislaturperiode Regelung Tag Ausschuß Antrag Absenken Quoren Beschlussfähigkeit Bundestag Geschäftsordnung Zustimmung Antrag Weitergeltung Geschäftsordnung Zeit Änderung Dank Nächster WortFrau Präsidentin Herr Minister Dame Herr Nachbar Häuschen Zeit Heizung PV‑Anlage Dach Ähnliches Handwerker Monat Material Nachbar Jahreswirtschaftsbericht Mensch Mensch Bereich Industriebetriebe Dienstleistung Handwerk Fachkräfte Material Aspekt Jahreswirtschaftsbericht Rede Arbeitskräfte Handelskammer Million Arbeitsplätze Verlust Wertschöpfung Milliarde Euro Volkswirtschaft Transformation Wirtschaft Ampel Dame Herr Ampel Ziel Bekämpfung Fachkräftemangels Arbeitskräftemangels Indikator Bundesminister Woche Fachkräftestrategie Punkt Sorge Mensch System Hochschule Jugendliche Strecke Dame Herr Unternehmen Arbeitnehmerinnen Arbeitnehmer Wandel Herausforderung Veränderung Arbeitswelt Problem Arbeitnehmerinnen Arbeitnehmer Weg Zuwanderung Ausland Modernisierung Einwanderung Arbeitskräften Muss Integration Aufgabe Mensch Familie Weg Fachkräfteland Frage Handel Punkt Bericht Medikament Verfügung Kindermedizin Medikament Krebsbehandlung Nachholbedarf Dame Herr Versorgungssicherheit Bereich Produktion Weg Maßnahme Mensch Land Apotheke Medikament Frau Präsidentin Punkt Veränderung Weiche Weg Nachbar Haus Produkt Medizin Zukunft Verfügung Dank Redner AbgeordneteFrau Präsidentin Dame Herr Thema Forschung Bereich Beispiel Kind Masern Glück Krankheit Nachbarkind Folge Masernerkrankung Hirnschäden Impfstoff Forschung Innovation Impfkommission Empfehlung Masernimpfstoff Masern Erfolg Gesundheitswirtschaft Erfolg Forschung Entwicklung Wirtschaftssektor Covid‑19-Pandemie Potenzial Biotechnologie Wettbewerb Weltspitze Zukunftsstrategie Dame Herr Opposition Land Innovation Rahmenbedingungen Frau Frau Gräßle Konkretes Sammlung Punkt Blick Kiste Frau Wirtschaftsausschuss Forschung Entwicklung Bereich Projekt Weg Morgen Punkt IPCEI-Projekte Anhörung Geld Ebene Frau Gräßle Ebene Forschung Entwicklung Kenntnis Dame Herr Ampelkoalition Hightech-Strategie Zukunftsstrategie Thema Weg Aufmerksamkeit', 'vec_numbers': array([0., 0., 0., ..., 0., 0., 0.]), 'maxTFIDF': 'geschäftsordnung', 'mfws': 'geschäftsordnung'}\n"
     ]
    }
   ],
   "source": [
    "\n",
    "print(parlamentarier_vec[0])"
   ]
  },
  {
   "cell_type": "markdown",
   "metadata": {},
   "source": [
    "Berechnet die Cosinusähnlichkeit zweier Parlamentarier anhand des Skalarproduktes zweier Parlamentarier"
   ]
  },
  {
   "cell_type": "code",
   "execution_count": 17,
   "metadata": {},
   "outputs": [],
   "source": [
    "pairwise_similarity = tf_idf_matrix * tf_idf_matrix.T \n",
    "\n",
    "similarity = pairwise_similarity.toarray()"
   ]
  },
  {
   "cell_type": "markdown",
   "metadata": {},
   "source": [
    "Erstellt den Graphen. Die Knoten sind die Parlamentarier und das Gewicht ist die semantische Ähnlichkeit zweier Parlamentarier"
   ]
  },
  {
   "cell_type": "code",
   "execution_count": 19,
   "metadata": {},
   "outputs": [],
   "source": [
    "def cos_sim(vec_a, vec_b):\n",
    "    \n",
    "    return np.dot(vec_a, vec_b) /(np.linalg.norm(vec_a) * np.linalg.norm(vec_b))"
   ]
  },
  {
   "cell_type": "code",
   "execution_count": 20,
   "metadata": {},
   "outputs": [],
   "source": [
    "def cotop_graph_erstellen(parlamentarier, min_weight, similarity):\n",
    "\n",
    "    graph = {\n",
    "        'directed': False,\n",
    "        'graph': 'semant_graph',\n",
    "        'links': [],\n",
    "        'nodes': parlamentarier,\n",
    "    }\n",
    "\n",
    "    for ix,nodeI in enumerate(graph['nodes']):\n",
    "        for jx,nodeJ in enumerate(graph['nodes']):\n",
    "            if nodeI['id'] < nodeJ['id']:\n",
    "                source = nodeI['id']\n",
    "                target = nodeJ['id']\n",
    "                #weight = cos_sim(nodeI['vec_numbers'], nodeJ['vec_numbers'])\n",
    "                #r = np.corrcoef(nodeI['vec_numbers'], nodeJ['vec_numbers'])\n",
    "                #weight = r[0,1]\n",
    "                weight = similarity[ix,jx]\n",
    "                if weight > min_weight:\n",
    "                    link_dict = {\n",
    "                        'source':source,\n",
    "                        'target':target,\n",
    "                        'weight':weight       \n",
    "                    }\n",
    "                    graph['links'].append(link_dict)\n",
    "    return graph"
   ]
  },
  {
   "cell_type": "code",
   "execution_count": 21,
   "metadata": {},
   "outputs": [],
   "source": [
    "graph = cotop_graph_erstellen(parlamentarier_vec, 0.25, similarity)"
   ]
  },
  {
   "cell_type": "code",
   "execution_count": 22,
   "metadata": {},
   "outputs": [
    {
     "name": "stdout",
     "output_type": "stream",
     "text": [
      "This graph has 752 nodes and 5482 links.\n"
     ]
    },
    {
     "data": {
      "image/png": "[encoded data removed]",
      "text/plain": [
       "<Figure size 640x480 with 1 Axes>"
      ]
     },
     "metadata": {},
     "output_type": "display_data"
    }
   ],
   "source": [
    "nn = len(graph['nodes'])\n",
    "ne = len(graph['links'])\n",
    "print( f\"This graph has {nn} nodes and {ne} links.\")\n",
    "\n",
    "import matplotlib.pyplot as plt\n",
    "\n",
    "weights=[]\n",
    "for link in graph['links']:\n",
    "    weights.append(link['weight'])\n",
    "#print(sum(weights))\n",
    "\n",
    "plt.hist(weights, bins=25)\n",
    "plt.title(\"Distribution of Weights\")\n",
    "plt.xlabel(\"Wert\")\n",
    "plt.ylabel(\"Häufigkeit\")\n",
    "plt.show()"
   ]
  },
  {
   "cell_type": "code",
   "execution_count": 23,
   "metadata": {},
   "outputs": [],
   "source": [
    "#print(graph['nodes'][0])"
   ]
  },
  {
   "cell_type": "markdown",
   "metadata": {},
   "source": [
    "Überführt den Graphen in einen Graphen, der mithilfe von Gephi verarbeitet werden kann."
   ]
  },
  {
   "cell_type": "code",
   "execution_count": 24,
   "metadata": {},
   "outputs": [
    {
     "name": "stdout",
     "output_type": "stream",
     "text": [
      "nodes done\n",
      "links done\n"
     ]
    }
   ],
   "source": [
    "import networkx as nx\n",
    "\n",
    "graphforgephi = nx.Graph()\n",
    "for node in graph['nodes']:\n",
    "    graphforgephi.add_node(node['id'],\n",
    "                           name=node['name'],\n",
    "                           party=node['party'],\n",
    "                           msw=node['maxTFIDF'],\n",
    "                           mfw=node['mfws'],\n",
    "                           nReden=node['nReden'],\n",
    "                           nWorte=node['nWorte']);\n",
    "    #if(node['name'] == 'Angela Merkel'):\n",
    "    #    print(node['tops'])\n",
    "\n",
    "print('nodes done')\n",
    "for link in graph['links']:\n",
    "    if link['weight'] >= 0.25:\n",
    "        graphforgephi.add_edge(link['source'],link['target'],weight = link['weight'], community=0)\n",
    "print('links done') "
   ]
  },
  {
   "cell_type": "markdown",
   "metadata": {},
   "source": [
    "Berechnet die vorhandenen Nachbarschaften im Graohen anhand des Louivain-Algorithmusses und fügt sie den Knoten hinzu."
   ]
  },
  {
   "cell_type": "code",
   "execution_count": 25,
   "metadata": {},
   "outputs": [
    {
     "name": "stdout",
     "output_type": "stream",
     "text": [
      "Graph with 752 nodes and 5482 edges\n"
     ]
    }
   ],
   "source": [
    "print(graphforgephi)"
   ]
  },
  {
   "cell_type": "code",
   "execution_count": 26,
   "metadata": {},
   "outputs": [],
   "source": [
    "import community as community_louvain\n",
    "# compute the best partition\n",
    "partition = community_louvain.best_partition(graphforgephi)"
   ]
  },
  {
   "cell_type": "code",
   "execution_count": 27,
   "metadata": {},
   "outputs": [],
   "source": [
    "#Update der Knoten mit der dazugehörigen community\n",
    "for i,node in enumerate(graphforgephi):\n",
    "    graphforgephi.add_node(node, partition_val=list(partition.values())[i])"
   ]
  },
  {
   "cell_type": "code",
   "execution_count": 28,
   "metadata": {},
   "outputs": [
    {
     "name": "stdout",
     "output_type": "stream",
     "text": [
      "save done\n"
     ]
    }
   ],
   "source": [
    "#speichern des Graphen, damit er in Gephi genutzt werden kann\n",
    "nx.write_gexf(graphforgephi, \"graphforgephi_08_v2.gexf\")\n",
    "print('save done')"
   ]
  },
  {
   "cell_type": "markdown",
   "metadata": {},
   "source": [
    "#### Berechnen der msw pro partition"
   ]
  },
  {
   "cell_type": "code",
   "execution_count": null,
   "metadata": {},
   "outputs": [],
   "source": [
    "#fügt die entsprechende Community dem parlamentarier_vec datensatz hinzu\n",
    "for i, parla in enumerate(parlamentarier_vec):\n",
    "    parla.update({'partition':list(partition.values())[i]})"
   ]
  },
  {
   "cell_type": "code",
   "execution_count": null,
   "metadata": {},
   "outputs": [],
   "source": [
    "import collections\n",
    "c_partitions = collections.Counter(partition.values())"
   ]
  },
  {
   "cell_type": "code",
   "execution_count": null,
   "metadata": {},
   "outputs": [],
   "source": [
    "text_partition = {'part_val': [],\n",
    "                 'text_list':[]}\n",
    "\n",
    "#erstellt für jede Community einen String, mit allen Texten von den Parlamentariern, die in einer Community sind. \n",
    "for partition in c_partitions.keys():\n",
    "    if c_partitions[partition] > 10:\n",
    "        hilf = ''\n",
    "        for parla in parlamentarier_vec:\n",
    "            if partition == parla['partition']:\n",
    "                hilf = hilf + parla['text']\n",
    "        text_partition['part_val'].append(partition)\n",
    "        text_partition['text_list'].append(hilf)"
   ]
  },
  {
   "cell_type": "code",
   "execution_count": null,
   "metadata": {},
   "outputs": [],
   "source": [
    "vectorizer = TfidfVectorizer(max_df=0.80, min_df=2/len(c_partitions.keys()))"
   ]
  },
  {
   "cell_type": "code",
   "execution_count": null,
   "metadata": {},
   "outputs": [],
   "source": [
    "tf_idf_matrix  = vectorizer.fit_transform(text_partition['text_list'])"
   ]
  },
  {
   "cell_type": "code",
   "execution_count": null,
   "metadata": {},
   "outputs": [],
   "source": [
    "tf_idf_matrix"
   ]
  },
  {
   "cell_type": "code",
   "execution_count": null,
   "metadata": {},
   "outputs": [],
   "source": [
    "for i, text in enumerate(text_partition['text_list']):\n",
    "    \n",
    "    vec_numbers = np.array(tf_idf_matrix.getrow(i).toarray()[0])\n",
    "    msw = list(vectorizer.vocabulary_.keys())[list(vectorizer.vocabulary_.values()).index(np.argmax(vec_numbers))]\n",
    "    print(msw, text_partition['part_val'][i])"
   ]
  },
  {
   "cell_type": "markdown",
   "metadata": {},
   "source": [
    "Diese Ergebnisse sind auf jeden Fall glaube ich nicht so aussagekräftig, wie wenn wir uns selbst passende Themen überlegen. Ist aber vielleicht trotzdem ganz interessant :) \n",
    "Die Zahl hinter dem Wort, entspricht der Nummer der nachbarschaft. Das hilft ganz gut, wenn wir in Gephi die Knoten entsprechend Partition_val einfärben."
   ]
  },
  {
   "cell_type": "code",
   "execution_count": null,
   "metadata": {},
   "outputs": [],
   "source": []
  },
  {
   "cell_type": "code",
   "execution_count": null,
   "metadata": {},
   "outputs": [],
   "source": []
  },
  {
   "cell_type": "code",
   "execution_count": null,
   "metadata": {},
   "outputs": [],
   "source": []
  }
 ],
 "metadata": {
  "kernelspec": {
   "display_name": "Python 3",
   "language": "python",
   "name": "python3"
  },
  "language_info": {
   "codemirror_mode": {
    "name": "ipython",
    "version": 3
   },
   "file_extension": ".py",
   "mimetype": "text/x-python",
   "name": "python",
   "nbconvert_exporter": "python",
   "pygments_lexer": "ipython3",
   "version": "3.7.3"
  }
 },
 "nbformat": 4,
 "nbformat_minor": 4
}
