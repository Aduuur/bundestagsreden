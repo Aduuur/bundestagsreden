{
 "cells": [
  {
   "cell_type": "markdown",
   "source": [
    "# Laden"
   ],
   "metadata": {
    "collapsed": false
   }
  },
  {
   "cell_type": "code",
   "execution_count": 2,
   "metadata": {
    "collapsed": true,
    "ExecuteTime": {
     "end_time": "2023-06-13T06:40:11.654550Z",
     "start_time": "2023-06-13T06:40:11.406443Z"
    }
   },
   "outputs": [
    {
     "name": "stdout",
     "output_type": "stream",
     "text": [
      "Die Liste enthält 10791 Reden\n",
      "\n",
      "\n"
     ]
    }
   ],
   "source": [
    "import jsonlines\n",
    "\n",
    "# Hier legen wir fest, welche Daten (Wahlperiode 19 oder 20) wir laden:\n",
    "legislatur = 20\n",
    "\n",
    "# Wir generieren eine leere Liste:\n",
    "alleReden = []\n",
    "\n",
    "# Wir öffnen den entsprechende File (Dateipfad anpassen!):\n",
    "with jsonlines.open(f'../../data/speeches_{legislatur}.jsonl') as f:\n",
    "    for line in f.iter():\n",
    "        # Wir packen alles Zeile für Zeile zu unserer Liste:\n",
    "        alleReden.append(line)\n",
    "\n",
    "# Wir sortieren nach Datum:\n",
    "alleReden.sort(key = lambda x:x['date'])\n",
    "\n",
    "# Wir lassen uns zeigen, wie viele Reden enthalten sind.\n",
    "print(f'Die Liste enthält {len(alleReden)} Reden')\n",
    "# Neue Zeile auf der Konsole:\n",
    "print(f'\\n')\n"
   ]
  },
  {
   "cell_type": "markdown",
   "source": [
    "# Filtern pythonisch flexibel\n",
    "\n",
    "Danke Leon für den Hinweis!"
   ],
   "metadata": {
    "collapsed": false
   }
  },
  {
   "cell_type": "code",
   "execution_count": 12,
   "outputs": [
    {
     "name": "stdout",
     "output_type": "stream",
     "text": [
      "Die Suche nach \"Klimakrise\" ergab 303 Reden\n",
      "\n",
      "\n"
     ]
    }
   ],
   "source": [
    "such_wort = 'Klimakrise'\n",
    "untermenge = [ rede for rede in alleReden if such_wort in rede['text']]\n",
    "\n",
    "print(f'Die Suche nach \"{such_wort}\" ergab {len(untermenge)} Reden')\n",
    "print(f'\\n')\n"
   ],
   "metadata": {
    "collapsed": false,
    "ExecuteTime": {
     "end_time": "2023-05-25T23:51:43.158222Z",
     "start_time": "2023-05-25T23:51:43.100004Z"
    }
   }
  },
  {
   "cell_type": "code",
   "execution_count": 31,
   "outputs": [
    {
     "name": "stdout",
     "output_type": "stream",
     "text": [
      "Die Suche nach \"Klimakrise\" ODER \"Klimawandel\" ergab 1027 Reden\n",
      "Die Suche nach \"Klimakrise\" UND \"Klimawandel\" ergab 44 Reden\n",
      "\n",
      "\n"
     ]
    }
   ],
   "source": [
    "such_worte = ['Klimakrise','Klimawandel']\n",
    "\n",
    "untermengeOR = [ rede for rede in alleReden if any(wort in rede['text'] for wort in such_worte)]\n",
    "print(f'Die Suche nach \"{such_worte[0]}\" ODER \"{such_worte[1]}\" ergab {len(untermengeOR)} Reden')\n",
    "\n",
    "untermengeAND = [ rede for rede in alleReden if all(wort in rede['text'] for wort in such_worte)]\n",
    "print(f'Die Suche nach \"{such_worte[0]}\" UND \"{such_worte[1]}\" ergab {len(untermengeAND)} Reden')\n",
    "print(f'\\n')"
   ],
   "metadata": {
    "collapsed": false,
    "ExecuteTime": {
     "end_time": "2023-05-26T00:09:36.083818Z",
     "start_time": "2023-05-26T00:09:35.937415Z"
    }
   }
  },
  {
   "cell_type": "code",
   "execution_count": 3,
   "outputs": [
    {
     "name": "stdout",
     "output_type": "stream",
     "text": [
      "Die Suche nach Reden von \"Olaf Scholz\" zu \"Klima\" ergab 26 Reden\n"
     ]
    }
   ],
   "source": [
    "untermengeScholzZuKlima = [ rede for rede in alleReden if 'Olaf Scholz' in rede['name'] and 'Klima' in rede['text']]\n",
    "print(f'Die Suche nach Reden von \"Olaf Scholz\" zu \"Klima\" ergab {len(untermengeScholzZuKlima)} Reden')"
   ],
   "metadata": {
    "collapsed": false,
    "ExecuteTime": {
     "end_time": "2023-06-13T06:40:52.124452Z",
     "start_time": "2023-06-13T06:40:52.119375Z"
    }
   }
  },
  {
   "cell_type": "markdown",
   "source": [
    "# Aufgaben zur Wissensüberprüfung\n",
    "\n",
    "1. Finde alle Reden, die 2021 gehalten wurden. Wie viele waren das?"
   ],
   "metadata": {
    "collapsed": false
   }
  }
 ],
 "metadata": {
  "kernelspec": {
   "display_name": "Python 3",
   "language": "python",
   "name": "python3"
  },
  "language_info": {
   "codemirror_mode": {
    "name": "ipython",
    "version": 2
   },
   "file_extension": ".py",
   "mimetype": "text/x-python",
   "name": "python",
   "nbconvert_exporter": "python",
   "pygments_lexer": "ipython2",
   "version": "2.7.6"
  }
 },
 "nbformat": 4,
 "nbformat_minor": 0
}
