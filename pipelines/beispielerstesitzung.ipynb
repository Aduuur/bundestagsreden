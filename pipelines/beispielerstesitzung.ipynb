{
 "cells": [
  {
   "cell_type": "markdown",
   "metadata": {},
   "source": [
    "# Was man mit relativ wenig schon machen kann: Semantische Beziehungen in den Bundestagsdebatten.\n",
    "\n",
    "In diesem Beispiel für unsere erste Sitzung möchte ich die prinzipielle Idee vorstellen, wie man mit ein wenig Wissen, mit wenig Progarmmierkenntnissen schon einiges machen kann. Technische Hürden abzubauen war ein wesentliches Bestreben in unserem EU-Projekt namens Odycceus (www.odycceus.eu) und der dort entwickelten software platform Penelope (https://penelope.digitalmethods.net/). Viele weitere Projekte (A) tragen zu einer sich entwickelnden, verteilten Softwareölologie bei, die es erlaubt, verschiedene technische Komponenten zu komplexeren Observatorien und Analyseinstrumenten zu verbinden.\n",
    "\n",
    "## Jupyter Notebook\n",
    "\n",
    "Dies ist ein Jupyter Notebook. Es erlaubt einzelne, in Python geschriebene Programmteile als Skripte auszuführen und ist damit für die Entwicklung von Algorithmen und Exploration von Daten sehr gut geeignet.\n",
    "\n",
    "## Wir fangen einfach an!\n",
    "\n",
    "In Python fangen wir eigentlich immer damit an uns aus dem Pool der verfügbaren Dinge zu bedienen. Wir importieren also Bibliotheken (libraries), die wir brauchen werden. \"requests\" brauchen wir um Komponenten über das Web aus Penelope aufzurufen. \"json\" ist ein sehr verbreitetes Datenformat, welches sich in der Regel sehr gut mit den Datenstrukturen in Python verträgt.\n"
   ]
  },
  {
   "cell_type": "code",
   "execution_count": 24,
   "metadata": {},
   "outputs": [],
   "source": [
    "\n",
    "import requests\n",
    "import json\n"
   ]
  },
  {
   "cell_type": "markdown",
   "metadata": {},
   "source": [
    "## Bundestagsreden laden\n",
    "\n",
    "Zunächst einmal wollen wir die Bundestagsdaten in unser Notebook laden. Dazu nutzen wir die Parliament Dataset API aus Penelope (https://penelope.digitalmethods.net/). Dazu schreiben wir ein Funktion (laden), die die API aufruft und uns dann das Resultat in eine Liste packt und zurückgibt. Wir rufen sie nach der Definition mit alleReden = laden() gleich auf.\n",
    "\n",
    "Das dauert eine ganze Weile, weil wir die gesamten Daten erst einmal einlesen. "
   ]
  },
  {
   "cell_type": "code",
   "execution_count": 25,
   "metadata": {},
   "outputs": [],
   "source": [
    "# Funktion zum Laden aller Reden\n",
    "def laden():\n",
    "    # Aufruf der Parliament Dataset API aus Penelope\n",
    "    result = requests.get('https://penelope.vub.be/parliament-data/get-speeches/deu/2016-01-01/2021-01-01/%20/1000000000000')\n",
    "    # Hier packen wir alles in eine Liste ...\n",
    "    all_speeches = []\n",
    "    for speech in result.json()[\"speeches\"]:\n",
    "        all_speeches.append(speech)\n",
    "    # ... die wir hier bezüglich des Datums sortieren. \n",
    "    all_speeches.sort(key = lambda x:x['date'])\n",
    "\n",
    "    return all_speeches\n",
    "\n",
    "# Hier wird die Funktion aufgerufen.\n",
    "alleReden = laden()"
   ]
  },
  {
   "cell_type": "code",
   "execution_count": 3,
   "metadata": {},
   "outputs": [
    {
     "data": {
      "text/plain": [
       "17577"
      ]
     },
     "execution_count": 3,
     "metadata": {},
     "output_type": "execute_result"
    }
   ],
   "source": [
    "len(alleReden)"
   ]
  },
  {
   "cell_type": "code",
   "execution_count": null,
   "metadata": {},
   "outputs": [],
   "source": [
    "alleReden[0]"
   ]
  },
  {
   "cell_type": "markdown",
   "metadata": {},
   "source": [
    "## Stichwort suchen\n",
    "\n",
    "Wir haben alle Reden nun in einer Liste und schreiben hier eine Funktion, um nur diejenigen zu bekommen, die ein bestimmtes Wort enthalten. Wie eben auch, definieren wir zunächst die Funktion und es folgt der Aufruf."
   ]
  },
  {
   "cell_type": "code",
   "execution_count": 30,
   "metadata": {},
   "outputs": [],
   "source": [
    "def suche(such_term):\n",
    "    speeches = []\n",
    "    for speech in alleReden:\n",
    "        if such_term in speech['text'] :\n",
    "            speeches.append(speech)\n",
    "    speeches.sort(key = lambda x:x['date']) \n",
    "    return speeches\n",
    "\n",
    "Stichwort = \"gendern\"\n",
    "Reden = []\n",
    "Reden = suche(Stichwort)"
   ]
  },
  {
   "cell_type": "markdown",
   "metadata": {},
   "source": [
    "Schauen wir doch mal, wie viele Reden das sind ..."
   ]
  },
  {
   "cell_type": "code",
   "execution_count": 31,
   "metadata": {},
   "outputs": [
    {
     "data": {
      "text/plain": [
       "5"
      ]
     },
     "execution_count": 31,
     "metadata": {},
     "output_type": "execute_result"
    }
   ],
   "source": [
    "len(Reden)"
   ]
  },
  {
   "cell_type": "markdown",
   "metadata": {},
   "source": [
    "... und was drin ist:"
   ]
  },
  {
   "cell_type": "code",
   "execution_count": null,
   "metadata": {},
   "outputs": [],
   "source": [
    "Reden"
   ]
  },
  {
   "cell_type": "markdown",
   "metadata": {},
   "source": [
    "# Ziel:\n",
    "\n",
    "## <font color='red'>Es wäre super, wenn nächste Woche alle bis hier hin kommen und die Daten in ein Notebook laden können!</font>\n"
   ]
  },
  {
   "cell_type": "markdown",
   "metadata": {},
   "source": [
    "# Semantische Netzwerke von Bundestagsreden\n",
    "\n",
    "Semantische Netzwerke (A) können diesen groben Überblick ein wenig schärfen, denn sie geben einen Einblick in die semantischen Beziehungen zwischen den Reden. In den meisten Fällen (und so auch hier) wird die Ähnlichkeit zwischen zwei Reden definiert über die Anzahl der Worte, die in beiden Reden vorkommen (A). Hier generieren wir zunächst ein Netzwerk, in dem die Knoten, einzelne Reden sind, und die Kanten die Anzahl der geteilten Worte enthalten.\n",
    "\n",
    "## StatementGraphGenerator\n",
    "\n",
    "Genau das macht die entsprechende Penelope Komponente StatementGraphGenerator, die auf https://penelope.digitalmethods.net/ unter Network Tools gelistet ist. Wir müssen zunächst eine Transformation durchführen, da die Penelope-Komponente, die wir aufrufen wollen, nicht alle Informationen benötigt/versteht (A). "
   ]
  },
  {
   "cell_type": "code",
   "execution_count": 32,
   "metadata": {},
   "outputs": [],
   "source": [
    "input_list = []\n",
    "for rede in Reden:\n",
    "            input_dict = {\n",
    "                'name'  : rede[\"name\"],\n",
    "                'party' : rede[\"party\"],\n",
    "                'text'  : rede[\"text\"]\n",
    "            }\n",
    "            input_list.append(input_dict)    "
   ]
  },
  {
   "cell_type": "markdown",
   "metadata": {},
   "source": [
    "Diese neue Liste wird nun dem StatementGraphGenerator aus Penelope übergeben. Außerdem sagen wir der Komponente, dass es sich um Deutsche Sprache handelt (\"de\"), dass wir nur Nomen berücksichtigen wollen und, dass wir gewisse Worte (z.B. die immer gleiche Anrede am Anfang) eigentlich nicht berücksichtigen wollen. Auch das Stichwort ist ja in allen Reden enthalten und also für diese Analyse nicht interessant.\n",
    "\n",
    "Je nach Anzahl der Reden und Schnelligkeit der Internetverbindung, kann dieser Aufruf einige Zeit in Anspruch nehmen."
   ]
  },
  {
   "cell_type": "code",
   "execution_count": 33,
   "metadata": {},
   "outputs": [
    {
     "data": {
      "text/plain": [
       "<Response [200]>"
      ]
     },
     "execution_count": 33,
     "metadata": {},
     "output_type": "execute_result"
    }
   ],
   "source": [
    "json = {\n",
    "          \"data\": input_list,\n",
    "          \"language\": \"de\",\n",
    "          \"relevant_pos\": [\"NOUN\",\"PROPN\"],\n",
    "          \"ignore\": [Stichwort,'Herr','Frau','Präsident','Präsidentin', 'Damen', 'Herren']\n",
    "}\n",
    "\n",
    "result = requests.post('https://penelope.vub.be/network-components/statementgraphgenerator', json=json)\n",
    "result"
   ]
  },
  {
   "cell_type": "markdown",
   "metadata": {},
   "source": [
    "Zum Schluss übergeben wird das Resultat und schauen uns einmal an, wie viele Knoten und Kanten das enthält."
   ]
  },
  {
   "cell_type": "code",
   "execution_count": 34,
   "metadata": {},
   "outputs": [
    {
     "name": "stdout",
     "output_type": "stream",
     "text": [
      "10 5\n"
     ]
    },
    {
     "data": {
      "text/plain": [
       "{'directed': False,\n",
       " 'graph': 'statement_graph',\n",
       " 'links': [{'source': 1, 'target': 2, 'weight': 71},\n",
       "  {'source': 1, 'target': 3, 'weight': 54},\n",
       "  {'source': 1, 'target': 4, 'weight': 55},\n",
       "  {'source': 1, 'target': 5, 'weight': 48},\n",
       "  {'source': 2, 'target': 3, 'weight': 67},\n",
       "  {'source': 2, 'target': 4, 'weight': 53},\n",
       "  {'source': 2, 'target': 5, 'weight': 51},\n",
       "  {'source': 3, 'target': 4, 'weight': 53},\n",
       "  {'source': 3, 'target': 5, 'weight': 46},\n",
       "  {'source': 4, 'target': 5, 'weight': 40}],\n",
       " 'nodes': [{'id': 1,\n",
       "   'mfic': 'und der ist das den Sie für auf von dass wie sich nicht wir zu Menschen Das werden Menschenrechte Deutschland aber mit des Welt zum ein auch China es Wir bei denn noch eine sind als können alle wenn dann FDP war ganz klar oder vor Dank Millionen waren uns geht dem sein zur Vielen Meine Der gegen viel akzeptieren Beispiel Teilen Denn Weg aus Lage Erklärung Rechte viele Freiheit du überall wert man mehr großes ihre einer Angriff Werte Schwulen Lesben Transgendern Europa einem etwas muss Jahren Fraktion Sehr ihren Stadt offen Menschenrechtserklärung Regeln sagen immer Heute wieder Immer wird dort massiv besser betrifft bestimmt entgegenstellen abgelehnt Identität Manche Länder allen solchen Andere gestellt Italien verbessert dazu geeignet Teil unserer Hoffnung erreichen bringen Redner Dr.',\n",
       "   'name': 'Gabriela Heinrich',\n",
       "   'party': 'SPD',\n",
       "   'text': 'Sehr geehrte Frau Präsidentin! Meine Damen und Herren! 1948: Millionen Menschen waren tot. Millionen Menschen waren auf der Suche nach ihren Familien. Millionen waren heimatlos. Der Kalte Krieg war in vollem Gange, und diese Stadt Berlin, die musste aus der Luft versorgt werden. Und trotzdem war die Weltgemeinschaft zum ersten Mal in der Lage, etwas absolut Unglaubliches zu tun: Sie gestand mit der Allgemeinen Erklärung der Menschenrechte in 30 Artikeln jedem einzelnen Menschen die gleichen elementaren Rechte zu – und das, obwohl noch so viele verfeindet waren. Das war eine Zäsur. Die Wunden des Zweiten Weltkriegs waren noch offen; aber die Menschenrechtserklärung führte die Menschen zusammen. Sie war und ist Ordnungspolitik – für ein gutes Zusammenleben und für die individuelle Freiheit. Sie liefert Regeln gegen Diskriminierung, Hass und Gewalt, Regeln, die uns ganz klar sagen: Der, den du nicht kennst, auch der, den du nicht magst, der ist immer und überall ganz genauso viel wert wie du. Heute wächst der Widerstand derjenigen wieder, die die Menschenrechte eben nicht für alle akzeptieren. Immer wieder wurde und wird versucht, die Menschenrechte zu relativieren. Häufig wird ein Gegensatz konstruiert: Man müsse sich entweder für soziale oder für individuelle Menschenrechte entscheiden. Beispiel China. Dort gingen Hunger und Armut massiv zurück. Immer mehr Menschen geht es dort wirtschaftlich besser. Das ist ein Fortschritt. Aber warum müssen Religionsfreiheit, Meinungsfreiheit und Rechtsstaatlichkeit dahinter zurückstehen? Ein weiteres großes Problem unserer Zeit betrifft den Widerstreit zwischen wirtschaftlichen Interessen und der Bewahrung der Umwelt. Indigene Völker verlieren ihre Lebensgrundlagen, wenn reines Profitdenken das Handeln bestimmt. Umweltaktivisten, die sich zum Beispiel in Lateinamerika dem entgegenstellen, sind massiv gefährdet. Viele werden getötet, und viele verschwinden. Oder: Menschenrechte werden als unvereinbar mit einer bestimmten Kultur, Tradition, Religion abgelehnt und Veränderungen als Angriff auf Identität verstanden, als westliche Werte. Manche islamische Länder neigen hierzu. Wir erleben das aber auch in allen Teilen der Welt, auch in Teilen Afrikas. Besonders Frauenrechte und die Rechte von Schwulen, Lesben, Transgendern sind von solchen kulturellen Relativierungen betroffen. Aber – und hier sind wir in Europa angekommen –: Identitätsbildung wird auch gerne benutzt, um sich abzugrenzen. Andere Kulturen und Menschen sind dann plötzlich weniger wert. Andere Meinungen gelten nicht, und zentrale Werte wie die Gleichheit aller Menschen werden offen infrage gestellt. Zu beobachten ist das auch in Ungarn, in Polen, in Italien und bei Rechtspopulisten in Österreich und Deutschland. Und dem müssen wir Demokratinnen und Demokraten uns entgegenstellen, in Deutschland wie in Europa. Denn ein Angriff auf die Menschenrechte ist immer auch ein Angriff auf die Demokratie. Das Konzept der universellen, unveräußerlichen und unteilbaren Menschenrechte ist es wert, davon begeistert zu sein; denn es verbessert das Leben von allen Menschen – in Europa und auf der Welt. Die Menschenrechte sind besser dazu geeignet, Identität zu stiften, als Ausgrenzung. In meiner Heimatstadt Nürnberg, der Stadt des Friedens und der Menschenrechte, ist das so. Die Auseinandersetzung mit der Menschenrechtserklärung ist zu einem wichtigen Teil unserer Stadtidentität geworden; das ist auch ein Teil unserer Verantwortung. Aber es geht auch um Hoffnung, um die Hoffnung, dass wir gemeinsam etwas erreichen können auf dem Weg, die 30 Artikel der Erklärung der Menschenrechte für alle zur Geltung zu bringen. Denn wenn wir uns die Welt heute anschauen, dann muss man sagen: Heute brauchen wir die Allgemeine Erklärung der Menschenrechte ganz bestimmt genauso wie vor 70 Jahren. Vielen Dank. Vielen Dank, Gabriela Heinrich. – Nächster Redner für die FDP-Fraktion: Dr. Lukas Köhler. '},\n",
       "  {'id': 2,\n",
       "   'mfic': 'und der ist das den Sie für auf von dass wie sich nicht wir zu Menschen Das werden Menschenrechte Deutschland aber sie des Welt hat zum ein auch es Wir noch eine sind können alle wenn dann war klar vor Dank leben wollen müssen Frage haben waren uns geht dem sein zur Vielen kann keine AfD Meine gegen akzeptieren Teilen Denn Weg mus lieben Staaten sondern Es dieser deutlich nur Lage Rechte überall ihre einer Schwulen Lesben Transgendern einem etwas muss Jahren Fraktion jeder möchte denen weil ander machen selbst bis Liebe stehen Operationen Kollege betrifft gestellt verbessert dazu bringen Dr. sehr Bisexuellen Transsexuellen Intersexuellen Kern wichtige wissen beinahe verfolgt Menschenrechten darf jemand Geschichte die gleichgeschlechtlich homosexuelle Handlungen gibt Todesstrafe gar Da kein hin letzten gleichgeschlechtliche Wenn letzte Brasilien gehen kämpfen Thema geschlechtszuweisende Herzlichen Wort Kollegin',\n",
       "   'name': 'Volker Ullrich',\n",
       "   'party': 'CDU/CSU',\n",
       "   'text': 'Herr Präsident! Meine sehr verehrten Damen und Herren! Die internationale Lage der Menschenrechte von Lesben, Schwulen, Bisexuellen, Transsexuellen, Transgendern, Intersexuellen geht uns alle an, zu jeder Stunde. Denn es geht um den Kern der Menschlichkeit und den Kern der Würde des Menschen. Nach unserem Menschenbild darf und muss jeder Mensch so leben können, wie er möchte. Und er muss so lieben können, wie er das will. Das muss die wichtige Botschaft dieses Bundestages sein. Wir wissen, dass in vielen Teilen der Welt – in beinahe 70 Staaten, in denen beinahe die Hälfte der Menschheit lebt – Menschen nicht so leben und lieben dürfen, wie sie das gerne wollen – sie werden verfolgt, diskriminiert, weil sie vermeintlich anders sind. Aber sie sind nicht anders, sondern sie lieben anders; das ist etwas, was jeder auf der Welt akzeptieren muss. Es gehört zu den unveränderlichen Menschenrechten, dass es keinen Unterschied geben darf, wie jemand liebt und wie jemand ist. Eine lange, leidvolle Geschichte der Menschheit hat sich an dieser Frage entzündet. Aber wir müssen klar und deutlich machen, dass die Frage des Respekts vor Menschen, die gleichgeschlechtlich leben, eine Frage ist, die auf die Agenda der Weltpolitik muss, weil wir nicht akzeptieren, dass Menschen verfolgt werden, weil sie anders lieben. Besonders betroffen macht uns, dass homosexuelle Handlungen in manchen Teilen der Welt nicht nur unter Strafe gestellt sind, sondern dass es Staaten gibt, die dafür die Todesstrafe verhängen. Das muss in besonderer Art und Weise geächtet werden. Das betrifft selbst Staaten, von denen wir es gar nicht annehmen. Selbst in einem Land wie den Vereinigten Arabischen Emiraten ist auf dem Papier die Todesstrafe für homosexuelle Handlungen möglich. Da zeigt sich, dass manchmal auch hinter einer Glitzerfassade der Geist einer unfreien und zutiefst menschenverachtenden Gesellschaft herrschen kann; das müssen wir deutlich machen. Wir werden nicht ruhen, bis sich die Menschenrechtslage dieser Menschen überall auf der Welt verbessert. Das ist kein leichter Weg. Wir wissen aus unseren eigenen Erfahrungen in Deutschland, dass es ein langer Weg ist von der Strafbarkeit – noch in den 50er- und 60er-Jahren – bis hin zur Rehabilitation in den letzten Jahren, wo wir klar gesagt haben, dass es Unrecht war, dass dieser Staat Menschen bestraft hat, die gleichgeschlechtlich verliebt waren. Aber es gibt auch positive Signale. Ich finde, wir müssen froh sein, wenn überall auf der Welt Staaten gleichgeschlechtliche Liebe entkriminalisieren, dazu stehen, dass Menschen lieben können, wen sie wollen. Wenn wie letztes Wochenende in Brasilien Hunderttausende Menschen auf die Straße gehen, um für ihre Rechte und für ihre Gleichstellung zu kämpfen, dann ist das etwas, was Unterstützung und auch Solidarität aus diesem Hause verdient. Ich möchte noch kurz das zweite Thema ansprechen: ein Verbot von geschlechtszuweisenden Operationen. Hier ist es notwendig, dass bald ein Gesetzentwurf kommt. Wir stehen zum Koalitionsvertrag und bringen klar und deutlich zum Ausdruck, dass geschlechtszuweisende Operationen an Kindern gegen die Menschenwürde und gegen die Menschenrechte verstoßen. Es ist kein Fehler und keine Krankheit, wenn ein Kind intersexuell ist, sondern das ist normal, das ist zu akzeptieren. Darauf werden wir klar und deutlich hinweisen und geschlechtszuweisende Operationen verbieten; Sie können sich darauf verlassen, dass wir diesen Schritt gehen werden. Herzlichen Dank. Vielen Dank, Herr Kollege Dr. Ullrich. – Als nächste Rednerin hat das Wort die Kollegin Beatrix von Storch, AfD-Fraktion. '},\n",
       "  {'id': 3,\n",
       "   'mfic': 'und der ist das den Sie für auf von dass wie sich nicht wir zu Das werden Menschenrechte Deutschland aber sie mit des Welt hat zum ein auch es Wir denn Grünen noch eine können alle wenn dann ganz oder vor leben wollen müssen Frage haben Antrag ich geht sein zur kann keine Bundesregierung Der Beispiel Denn Weg dieser nur über Lage Freiheit man Schwulen Lesben Transgendern denen Liebe Kollegen Regierung nach zitiere Geschlechtes schon lassen afd Sehr Italien Redner Bisexuellen Transsexuellen Intersexuellen wichtige Menschenrechten darf gar Da gleichgeschlechtliche kämpfen Thema Anfrage Schutz link anderen ihrer grünen gut beschäftigen Botschaften soll deutschen Steuerzahler ob Asylbewerber Darüber liegen Erkenntnisse junge Geschlecht dritten al Zahl hoch bisher jetzt globale Absolventen Gender genau weder könnte',\n",
       "   'name': 'Beatrix von Storch',\n",
       "   'party': 'AfD',\n",
       "   'text': 'Sehr geehrter Herr Präsident! Liebe Kollegen! Wir reden über den Antrag und die Große Anfrage der Grünen zur internationalen Lage der Menschenrechte von Lesben, Schwulen, Bisexuellen, Transsexuellen, Transgendern und Intersexuellen. – An dieser Stelle fehlt ein Q. Ich glaube, Sie diskriminieren die Queeren. Egal, in Antrag und Anfrage vermischen die Grünen absichtsvoll – ich sage ausdrücklich: legitime – Anliegen zum Schutz der persönlichen Freiheit und körperlichen Unversehrtheit mit links-grünem Ideologieexport und Klientelpolitik. Die Grünen und die Normalbürger leben auf zwei verschiedenen Planeten. Die einen leben in der realen Welt, müssen hart arbeiten und ächzen unter Steuern und Abgaben, unter steigenden Energie- und Wohnkosten, sie müssen sich krummlegen, um ihren Lebensstandard zu halten. Die anderen leben in ihrer staatlich subventionierten links-grünen Scheinwelt, ihnen geht es so gut, dass sie sich mit Geschlechtervielfalt in Burkina Faso, der Rolle der Transsexualität in der US-Armee, Intersexualität in Nepal und der Homoehe in Uruguay beschäftigen können. Die Grünen fordern, das Diplomatische Korps in den Botschaften soll in LSBTTI-Rechten geschult werden; das soll elementarer Bestandteil der Ausbildung werden. Die Bundesregierung handelt bereits in vorauseilendem Gehorsam ganz in diesem grünen Sinne – ich darf zitieren –: Deutsche Botschaften beteiligen sich an Gay-Pride-Paraden in Griechenland, Israel, Italien, Lettland und Litauen. Dem deutschen Steuerzahler werden Rekordsteuern abgepresst, um dann damit Diplomaten zu bezahlen, die in ihrer Dienstzeit auf den Schwulenparaden in den Hauptstädten Europas tanzen. Das ist Missbrauch von Steuergeldern und kein Einsatz für Menschenrechte. Gleichzeitig ist die Bundesregierung unfähig, die Kernaufgaben des Staates, zum Beispiel den Grenzschutz oder den Schutz der öffentlichen Sicherheit, zu erfüllen; sie nimmt die Probleme nicht einmal wahr. Das sehen wir an den Antworten auf unsere Fragen an die Regierung: Auf die Frage, ob und auf welchem Weg in Spanien angelandete Asylbewerber nach Deutschland kommen, lautet die Antwort der Regierung: Darüber liegen keine Erkenntnisse vor. Und auf die Frage, ob junge Asylbewerber aus Afrika Studienvisa missbrauchen, um in Deutschland Asyl zu beantragen, antwortet die Bundesregierung: Darüber liegen keine Erkenntnisse vor. Aber wenn die Grünen fragen, in welchen Ländern auf diesem großen Globus außer „Mann“ und „Frau“ auch noch ein anderes Geschlecht amtlich eingetragen werden kann, eine wichtige Frage, mit der man nicht genug Beamte beschäftigen kann, dann ist die Anwort der Regierung lang und detailgenau – ich zitiere, mit Genehmigung des Präsidenten, nur wenige Ausschnitte –: Ich stelle fest: Die Bundesregierung hat keine Ahnung, wer die deutsche Grenze übertritt, sie kann aber in epischer Breite ausführen, wie es mit der Eintragung des dritten Geschlechtes auf Neufundland aussieht. Überhaupt: das dritte Geschlecht. Das Thema hat uns ja auch schon hier über Gebühr beschäftigt. Bisher haben sich laut „Deutschem Ärzteblatt“ in ganz Deutschland 150 Personen als „divers“ eintragen lassen. Die Zahl der Abgeordneten, die über die Einführung des dritten Geschlechtes abgestimmt hat, ist also fast fünfmal so hoch wie die Zahl derer, die von der Regelung bisher Gebrauch gemacht haben. Die Grünen wollen diese Politik jetzt auf die globale Ebene ausdehnen; denn Deutschland ist zu klein, um all den Absolventen der Gender Studies einen Versorgungsposten zu beschaffen. Denen wollen die Grünen ein globales Betätigungsfeld eröffnen; die Menschenrechtspolitik ist nur das Vehikel dafür. Deutschland soll sich für Menschenrechte starkmachen. Da haben wir Konsens. Aber genau danach endet der auch. Denn wenn Sie von den Grünen von Menschenrechten reden, dann meinen Sie meistens Sonderrechte für eine kleine Klientel, wie den irren Anspruch auf die freie Wahl des Geschlechtes, oder Sie kämpfen für die gleichgeschlechtliche Ehe, und das alles wollen Sie natürlich für die ganze Welt. Das wollen wir weder in der ganzen Welt, aber vor allem auch nicht in Deutschland; wir wollen das gar nicht. Der Dissens in Sachen LSBTTIQ zwischen der AfD und den Grünen könnte größer nicht sein, und das ist auch gut so. Als nächster Redner spricht der Staatsminister Michael Roth zu uns. '},\n",
       "  {'id': 4,\n",
       "   'mfic': 'und der ist das den Sie für von dass wie sich nicht wir zu Menschen Das werden Deutschland aber sie mit des zum ein Wir bei denn noch eine als können alle war ganz klar vor Dank müssen Frage haben Bildung Millionen uns dem sein zur Vielen kann AfD Bundesregierung gegen viel Beispiel Es über berufliche könnten Euro viele Freiheit mehr großes Werte einem muss selbst bis Liebe Kollegen nach lassen Karliczek Gesamtkonzept Länder geeignet erreichen sehr Geschichte die hin junge al hoch bisher jetzt Absolventen Gender weder Ministerin unser Posten Fachkräftemangel sicherlich seit Jugendlichen Berufsabschluss deutsche Bildungssystem da Zukunft wichtig Wirtschaftsstandort',\n",
       "   'name': 'Nicole Höchst',\n",
       "   'party': 'AfD',\n",
       "   'text': 'Herr Präsident! Frau Ministerin! Werte Kollegen! Hochgeschätzte Bürger! Wir sind uns alle einig, dass wir die berufliche Bildung stärken müssen. Frau Ministerin Karliczek, Sie verdienen in diesem Bereich unsere Anerkennung. Sie haben sich redlich bemüht, unser Credo „Mehr Meister als Master“ anzuerkennen und dem Taten folgen zu lassen. So erhöhen Sie zum Beispiel die von der AfD geforderten Posten wie die Stiftung „Begabtenförderung berufliche Bildung“. Das ist folgerichtig, gut und lobenswert. Aber bei grundsätzlicher Betrachtung ist das allenfalls Feintuning. Frau Karliczek, mit Mut und Kampfgeist könnten Sie bei den jetzigen bürgerlichen und freiheitlichen Mehrheitsverhältnissen in diesem Parlament als die Bildungsministerin in die deutsche Geschichte eingehen, die die ideologische Bildungswende schafft. Sie könnten die Abiturschwemme bei gleichzeitigem Fachkräftemangel beenden. Leider fehlt es Ihnen im vorgelegten Haushalt nach wie vor an Entschlossenheit, ein großes Gesamtkonzept vorzulegen, das geeignet ist, das Ruder herumzureißen. Es ist klar, dass dieses Gesamtkonzept zur Stärkung der beruflichen Bildung eine gemeinsame Aufgabe von Bund und Ländern sein wird. Berufliche Bildung muss bereits im Vorfeld gestärkt werden, indem ausbildungsfähige und ‑bereite junge Menschen in den Ausbildungsmarkt drängen. Das ist originär Ländersache und mit dem DigitalPakt sicherlich nicht zu bewerkstelligen. Das Bundesinstitut für Berufsbildung hatte 2018 festgestellt, dass das betriebliche Ausbildungsplatzangebot so hoch war wie nie seit 2009. Leider stand einem wachsenden Ausbildungsangebot eine steigende Anzahl an Jugendlichen ohne Berufsabschluss gegenüber. Das ist der Trend, der sich seit 2009 abzeichnet. Wo sind denn die erfolgreichen Bemühungen der Bundesregierung, wo die der Länder? Alle bislang getroffenen Maßnahmen laufen ins Leere. Wir werfen Geld zum Fenster heraus. Das deutsche Bildungssystem bricht Rekorde: im Studienabbruch, in den unbesetzten Ausbildungsplätzen, bei Jugendlichen ohne Berufsabschluss. Sie haben jetzt ein paar Millionen Euro von hier nach da umgeschichtet und erwarten nun ernsthaft, dass sich das ändert. Das werden Sie so nicht erreichen; denn die heißersehnten Fachkräfte der Zukunft, die durch unser Bildungssystem bis zum Abitur geschleust werden, können weder auskömmlich Dreisatz, das Einmaleins noch unfallfrei Deutsch. Aber – ganz wichtig, Achtung! – sie können an der Humboldt-Universität Pornowissenschaften studieren. Das glauben Sie nicht, meine Damen und Herren, ist aber so. Recherchieren Sie selbst, und Sie finden zukunftsweisende Veranstaltungen wie „Konsens und Vielfalt – Faire Pornographie“. Wissen Sie, wir von der AfD sind sehr für die Freiheit von Forschung und Lehre. Die Frage ist: Was werden denn die Absolventen solcher Studien? Wie viele studierte Pornospezialisten kann sich ein Wirtschaftsstandort wie Deutschland denn leisten, wie viel mehr als über 230 Lehrstühle für Gender und Gedöns? Regelt da tatsächlich die Nachfrage den Markt? Ein ideologiefreies Deutschland hätte längst zig Alternativen zum Verbrennungsmotor erfunden. Deutschland darf das nicht. Wir müssen uns deindustrialisieren, verblöden, durchgendern und verarmen. Warum denn eigentlich? Liebe Frau Karliczek, bitte lassen Sie sich nicht von links-grün einlullen. Bitte streichen Sie alle ideologischen Posten in diesem Bundeshaushalt. Es ist viel, viel wichtiger, in berufliche Bildung zu investieren, noch mehr, als Sie das bisher getan haben. Legen Sie ein großes Gesamtkonzept vor, das den Leuten von morgens bis abends erklärt, von der Zeitungsannonce bis hin zur „Tagesschau“, wie wichtig berufliche Bildung für den Wirtschaftsstandort Deutschland ist. Sie sichert Wohlstand für alle, ist das Rezept gegen Fachkräftemangel, ist die Zukunftsgarantie des Standortes Deutschland. Vielen Dank. '},\n",
       "  {'id': 5,\n",
       "   'mfic': 'und der ist das den Sie für auf von dass wie sich nicht wir zu Das werden Deutschland mit des hat ein auch China bei denn noch eine sind als wenn dann FDP ganz oder Dank wollen haben Antrag ich Millionen uns dem Vielen keine AfD Meine Der sondern nur könnten Euro heute aus Fraktion möchte machen bis stehen Kollege Kollegen zitiere schon afd erst Hoffmann wäre ihren abgelehnt Manche solchen unserer letzten Wenn letzte Brasilien Herzlichen Wort Kollegin anderen deutschen Steuerzahler genau könnte sicherlich deutsche Zukunft Entwicklungszusammenarbeit Chinas Kredite Krediten Prozent Müller Berufsausbildung während Daimler bezahlt chinesische Manager Wirtschaftsmächte',\n",
       "   'name': 'Markus Frohnmaier',\n",
       "   'party': 'AfD',\n",
       "   'text': 'Herr Präsidentin! Meine Damen und Herren! Herr Frohnmaier, ich habe die Uhr angehalten. Würden Sie sich korrigieren? Ach so, entschuldigen Sie. – Frau Präsidentin! Meine Damen und Herren! Manche laden sich Schmuddelfilmchen aus dem Netz; die Kollegen von der FDP AfD-Anträge. Hier sitzen magenta-gelbe Raubkopierer. Die FDP möchte heute die Entwicklungszusammenarbeit mit China auf den Prüfstand stellen. Das ist schon erstaunlich; denn erst letzte Woche hat die FDP im Ausschuss unseren AfD-Antrag abgelehnt, der genau das gefordert hat. Der Kollege Hoffmann von der FDP sagte noch bei der letzten Plenardebatte zu unserer Forderung, Chinas Status als Entwicklungsland abzuerkennen – ich zitiere –: Zitat Ende. Während Herr Hoffmann von der FDP uns also noch beim AfD-Antrag erzählt hat, dass zinsvergünstigte Kredite eine ganz tolle Form der Entwicklungszusammenarbeit sind, fordern Sie heute in Ihrem Antrag das genaue Gegenteil: Sie wollen die vorzeitige Einstellung der Kredite an China. Herzlichen Glückwunsch: Die FDP ist lernfähig, AfD wirkt! Generell lässt sich feststellen, dass der Zinssatz bei solchen verbilligten Krediten für Entwicklungsländer bei mageren 0,5 bis 2 Prozent liegt, also kaum die Inflation ausgleicht. Wenn also Minister Müller und die anderen Parteien sich hierhinstellen und behaupten, China würde keine Entwicklungshilfe erhalten, ist das schlicht und ergreifend falsch. Mit 630 Millionen Euro vergünstigten deutschen Krediten hat China seit 2013 für Berufsausbildung in Maschinenbau, in der Chemie-, Elektro- und Automobilindustrie gesorgt. Während in Deutschland also bei Bosch, Daimler und VW Stellen gestrichen werden, Eisenmann Insolvenz anmeldet und Continental Werke schließt, bezahlt Deutschland für die Berufsausbildung chinesischer Jugendlicher. Neben den Billigkrediten bezahlt der deutsche Steuerzahler auch noch absurde Projekte wie – ich zitiere aus den Projektlisten des Haushaltes – Gender-, Arbeitsrecht- und Medientraining für Migrantinnen in Südchina – Kostenpunkt: 367 000 Euro –, Förderung eines zivilgesellschaftlichen landesweiten Gendernetzwerkes in China für 400 000 Euro oder Fortbildungsprogramme für chinesische Manager. Während die Wirtschaftsweltmacht China den deutschen Roboterhersteller Kuka und den Maschinenbauer Putzmeister aufgekauft hat und erst vorgestern bekannt wurde, dass die Chinesen ihren Anteil bei Daimler auf 20 Prozent ausbauen, bildet Entwicklungsminister Müller mit deutschem Steuergeld chinesische Manager aus. Was wir heute hier im Kontext zu China diskutieren, ist erst der Anfang. Weitere aufstrebende Wirtschaftsmächte, sogenannte „next Chinas“ wie Indonesien, Indien und Brasilien, stehen schon in den Startlöchern. Konsequent wäre es gewesen, wenn Sie unserem Antrag zu aufstrebenden Wirtschaftsmächten zugestimmt hätten; denn der beschränkt sich nicht nur auf China, sondern würde generell Schluss machen mit der Alimentierung potenter Wirtschaftsmächte. Das wäre richtig gewesen. Herr in der Beek, das ist sicherlich ein guter Ansatz, den Sie heute verfolgt haben. Vielleicht könnten Sie die Zuständigkeit übernehmen, und könnte Kollege Hoffmann in Zukunft genderneutrale feministische Außenpolitik oder Ähnliches betreuen. Dann wäre das kohärent, und dann könnten wir auch zustimmen. Vielen Dank. Das Wort hat die Kollegin Dagmar Ziegler für die SPD-Fraktion. '}]}"
      ]
     },
     "execution_count": 34,
     "metadata": {},
     "output_type": "execute_result"
    }
   ],
   "source": [
    "graph = result.json()\n",
    "print(len(graph['links']),\n",
    "len(graph['nodes']))\n",
    "graph"
   ]
  },
  {
   "cell_type": "markdown",
   "metadata": {},
   "source": [
    "## Statistischer Überblick über die Kanten\n",
    "\n",
    "Der StatementGraphGenerator ist eigentlich für kürzere Aussagen optimiert, wo ein geteiltes Wort sehr spezifische Informationen enthalten kann. Für längere Reden ist es sehr wahrscheinlich, dass es Worte gibt, die von allen Rednern verwendet worden, was dazu führt, dass Kanten von jedem zu jedem entstehen. Daher sind andere Definitionen semantischer Ähnlichkeit besser geeignet und könnten in den StatementGraphGenerator integriert werden (A). Wir wollen uns einen Überblick verschaffen.\n",
    "\n",
    "Dazu importieren wir eine gängige Python Library (pyplot) für Datenvisualisierung. Wir extrahieren die Kantengewichte, um der Verteilung zu visualisieren."
   ]
  },
  {
   "cell_type": "code",
   "execution_count": 9,
   "metadata": {},
   "outputs": [
    {
     "data": {
      "image/png": "[encoded data removed]",
      "text/plain": [
       "<Figure size 432x288 with 1 Axes>"
      ]
     },
     "metadata": {
      "needs_background": "light"
     },
     "output_type": "display_data"
    }
   ],
   "source": [
    "import matplotlib.pyplot as plt\n",
    "\n",
    "weights=[]\n",
    "for link in graph['links']:\n",
    "    weights.append(link['weight'])\n",
    "\n",
    "plt.hist(weights, bins=25)\n",
    "plt.title(\"Distribution of Weights\")\n",
    "plt.xlabel(\"Wert\")\n",
    "plt.ylabel(\"Häufigkeit\")\n",
    "plt.show()"
   ]
  },
  {
   "cell_type": "markdown",
   "metadata": {},
   "source": [
    "## Ausdünnung / Thresholding\n",
    "\n",
    "Mehr thematische Struktur wird sichtbar, wenn wir nur Reden verbinden, die viele Worte gemeinsam haben. Das heißt, wir löschen die Kanten, deren Gewicht unter einem bestimmten Wert (threshold) liegt. Was hier der richtige Wert ist, ist immer wieder eine spannende Frage (A)."
   ]
  },
  {
   "cell_type": "code",
   "execution_count": 19,
   "metadata": {},
   "outputs": [
    {
     "data": {
      "text/plain": [
       "46"
      ]
     },
     "execution_count": 19,
     "metadata": {},
     "output_type": "execute_result"
    }
   ],
   "source": [
    "newlinks = []\n",
    "for link in graph['links']:\n",
    "    if link['weight'] > 100:\n",
    "        newlinks.append(link)\n",
    "graph['links'] = newlinks \n",
    "len(graph['links'])"
   ]
  },
  {
   "cell_type": "code",
   "execution_count": null,
   "metadata": {},
   "outputs": [],
   "source": []
  },
  {
   "cell_type": "markdown",
   "metadata": {},
   "source": [
    "## Netzwerkvisualisierung\n",
    "\n",
    "Nun wollen wir uns dieses Netzwerk anschauen. Dazu benutzen wir den Interactive Visualiser ebenfalls aus dem Paket Network Tools bei Penelope. Diesem übergeben wir den Graphen. Außerdem können wir angeben, welches Attribut farblich kodiert sein soll und welcher Text sichtbar sein soll. \n",
    "\n",
    "Auch dieser Aufruf kann einige Zeit in Anspruch nehmen."
   ]
  },
  {
   "cell_type": "code",
   "execution_count": 22,
   "metadata": {},
   "outputs": [
    {
     "data": {
      "text/plain": [
       "<Response [200]>"
      ]
     },
     "execution_count": 22,
     "metadata": {},
     "output_type": "execute_result"
    }
   ],
   "source": [
    "json = {'data':graph, \n",
    "        'nodecoloring':'party', \n",
    "        'nodelabel': 'text', \n",
    "        \"darkmode\": False,\n",
    "        \"edgevisibility\": True,\n",
    "        \"particles\": False\n",
    "       }\n",
    "result = requests.post('https://penelope.vub.be/network-components/visualiser', json=json)\n",
    "result"
   ]
  },
  {
   "cell_type": "markdown",
   "metadata": {},
   "source": [
    "Das Resultat speichern wir in einem HTML-File. "
   ]
  },
  {
   "cell_type": "code",
   "execution_count": 23,
   "metadata": {},
   "outputs": [],
   "source": [
    "with open (f\"./redenet{Stichwort}.html\", \"w\", encoding='utf-8') as f:\n",
    "    f.write(result.json()['graph'])"
   ]
  },
  {
   "cell_type": "markdown",
   "metadata": {},
   "source": [
    "---\n",
    "\n"
   ]
  },
  {
   "cell_type": "markdown",
   "metadata": {},
   "source": [
    "# Fine Tuning und Erkundungen\n",
    "\n",
    "### <font color='red'>Hier ist der Bereich, in dem ich ein Dinge ausprobiere.</font>\n",
    "\n",
    "Das müsst ihr jetzt noch nicht unbedingt anschauen. Wahrscheinlich wird auch nicht alles funktionieren, da ich Bibliotheken lade (spacy), deren Installation etwas aufwendiger ist.\n"
   ]
  },
  {
   "cell_type": "code",
   "execution_count": null,
   "metadata": {},
   "outputs": [],
   "source": [
    "import tqdm\n",
    "import spacy\n",
    "#nlp = spacy.load('de') #load spacy model\n",
    "\n",
    "from collections import Counter\n",
    "import collections"
   ]
  },
  {
   "cell_type": "code",
   "execution_count": null,
   "metadata": {},
   "outputs": [],
   "source": [
    "def StatementGraphGenerator(inParams):\n",
    "\n",
    "    stm_list = inParams['data']\n",
    "    \n",
    "    if inParams['language'] == 'en':\n",
    "        nlp = spacy.load('en_core_web_sm') #load english spacy model\n",
    "    elif inParams['language'] == 'de':\n",
    "        nlp = spacy.load('de_core_news_sm') #load german spacy model\n",
    "    elif inParams['language'] == 'fr':\n",
    "        nlp = spacy.load('fr_core_news_sm') #load french spacy model\n",
    "    elif inParams['language'] == 'es':\n",
    "        nlp = spacy.load('es_core_news_sm') #load spanish spacy model\n",
    "    elif inParams['language'] == 'pt':\n",
    "        nlp = spacy.load('pt_core_news_sm') #load portuguese spacy model\n",
    "    elif inParams['language'] == 'it':\n",
    "        nlp = spacy.load('it_core_news_sm') #load italian spacy model\n",
    "    elif inParams['language'] == 'nl':\n",
    "        nlp = spacy.load('nl_core_news_sm') #load dutch spacy model\n",
    "    elif inParams['language'] == 'el':\n",
    "        nlp = spacy.load('el_core_news_sm') #load greek spacy model\n",
    "    elif inParams['language'] == 'nb':\n",
    "        nlp = spacy.load('nb_core_news_sm') #load norwegian bokmal spacy model\n",
    "    elif inParams['language'] == 'lt':\n",
    "        nlp = spacy.load('lt_core_news_sm') #load lithuanian spacy model\n",
    "    elif inParams['language'] == 'xx':\n",
    "        nlp = spacy.load('xx_ent_wiki_sm') #load multi-language spacy model\n",
    "\n",
    "    else:\n",
    "        print('ERROR! Language not supported!')\n",
    "        \n",
    "    relevantPOS = inParams['pos']\n",
    "    ignoreLEM = inParams['ignore']\n",
    "    \n",
    "    # 1.2.2 Note: requires spacy and language model to be loaded\n",
    "    print('apply nlp pipeline')\n",
    "    for value in tqdm.tqdm(stm_list):\n",
    "        doc = nlp(value['text'])\n",
    "        value.update({'doc' : doc})\n",
    "    \n",
    "    # 1.2.3\n",
    "    # Data cleaning options\n",
    "    print('filter words')\n",
    "    #relevantPOS = ['NOUN','VERB','ADJ']\n",
    "    #ignoreLEM = ['Herr','Kollege','Dame','Frau','Präsident']\n",
    "    #ignoreLEM = []\n",
    "\n",
    "    stm_list_nlp = []\n",
    "    statements_lemma_list = []\n",
    "    #statements_pos_list = []\n",
    "    for stm in tqdm.tqdm(stm_list):\n",
    "        lemmas = []\n",
    "        pos = []\n",
    "        for token in stm['doc']:\n",
    "            if token.is_punct is not True and token.is_stop is not True and token.pos_ in relevantPOS and token.lemma_ not in ignoreLEM:\n",
    "                lemmas.append(token.lemma_)\n",
    "                pos.append(token.pos_)\n",
    "        stm.update({'lemmata' : lemmas})    \n",
    "        statements_lemma_list.append(lemmas)\n",
    "        #statements_pos_list.append(pos)\n",
    "\n",
    "    # 1.2.4\n",
    "    print('count and order lemmata')\n",
    "    flattened = [val for lemmas in statements_lemma_list for val in lemmas]\n",
    "    lemma_frequency_list = collections.Counter(flattened).most_common()\n",
    "    all_lemmata_list = [ i[0] for i in lemma_frequency_list ]\n",
    "    all_lemmata_count = [ i[1] for i in lemma_frequency_list ]\n",
    "\n",
    "    # remove single items\n",
    "    # 1.2.5\n",
    "    print('remove singles')\n",
    "    all_freq_lemmata_list = [ all_lemmata_list[i] for i,v in enumerate(all_lemmata_list) if (all_lemmata_count[i] > 1) ]\n",
    "    all_freq_lemmata_count = [ all_lemmata_count[i] for i,v in enumerate(all_lemmata_count) if (all_lemmata_count[i] > 1) ]\n",
    "        \n",
    "    all_lemmata_list = all_freq_lemmata_list\n",
    "    all_lemmata_count = all_freq_lemmata_count \n",
    "\n",
    "    # Construct word browsable dict for later use in semantic relatedness computation\n",
    "    wordscounts_dict = {}\n",
    "    for lx,lem in enumerate(all_lemmata_list):\n",
    "        wordscounts_dict.update({ lem : all_lemmata_count[lx] })\n",
    " \n",
    "    # From this file\n",
    "    stmnet_dict = {\n",
    "        'nodes' : [],\n",
    "        'links' : []\n",
    "        }    \n",
    " \n",
    "\n",
    "    for ix,stm in enumerate(stm_list):\n",
    "        if len(stm['lemmata']) > 0:\n",
    "            node_dict = {\n",
    "                'id' : ix+1\n",
    "            }\n",
    "            for ele in stm:\n",
    "                if ele != 'lemmata' and ele != 'doc':\n",
    "                    node_dict.update({ele : stm[ele]})\n",
    "            \n",
    "            mfic = [ lem for lem in all_lemmata_list if (lem in stm['lemmata'] )]\n",
    "            freqI = collections.Counter(stm['lemmata']).most_common()\n",
    "            #lemmataI = [ i[0] for i in freqI ]\n",
    "            if len(mfic)>0:\n",
    "                #node_dict.update({'mfic' : mfic[0]})\n",
    "                node_dict.update({'mfic' : freqI[0]})\n",
    "            else:\n",
    "                node_dict.update({'mfic' : ' '})\n",
    "    \n",
    "            stmnet_dict['nodes'].append(node_dict)\n",
    "    \n",
    "    \n",
    "    #stmnet_dict['graph']['edges'] = []\n",
    "    for nodeI in tqdm.tqdm(stmnet_dict['nodes']):\n",
    "        stmI = stm_list[ nodeI['id']-1 ]['lemmata']\n",
    "        for nodeJ in stmnet_dict['nodes']:     \n",
    "            if nodeI['id'] < nodeJ['id']:\n",
    "                stmJ = stm_list[ nodeJ['id']-1 ]['lemmata']\n",
    "                overlap = [ lem for lem in set(stmI) if (lem in set(stmJ))]  # set overlap\n",
    "                weight = len(overlap) #/ (len(stmI)+len(stmJ))\n",
    "                if (len(overlap) > 0):\n",
    "                    edge_dict = {\n",
    "                        'source' : nodeI['id'],\n",
    "                        'target' : nodeJ['id'],\n",
    "                        'weight' : weight\n",
    "                        }\n",
    "                    stmnet_dict['links'].append(edge_dict)\n",
    "    \n",
    "    return stmnet_dict"
   ]
  },
  {
   "cell_type": "code",
   "execution_count": null,
   "metadata": {},
   "outputs": [],
   "source": [
    "Stichwort = \"Darfur\"\n",
    "Reden = []\n",
    "Reden = suche(Stichwort)\n",
    "len(Reden)"
   ]
  },
  {
   "cell_type": "code",
   "execution_count": null,
   "metadata": {},
   "outputs": [],
   "source": [
    "\n",
    "input_list = []\n",
    "for rede in Reden:\n",
    "            input_dict = {\n",
    "                'name'  : rede[\"name\"],\n",
    "                'party' : rede[\"party\"],\n",
    "                'text'  : rede[\"text\"]\n",
    "            }\n",
    "            input_list.append(input_dict) \n",
    "\n",
    "json = {\n",
    "          \"data\": input_list,\n",
    "          \"language\": \"de\",\n",
    "          \"pos\": [\"PROPN\"],\n",
    "          \"ignore\": [Stichwort,'Herr','Frau','Präsident','Präsidentin', 'Damen', 'Herren']\n",
    "}\n",
    "\n",
    "graph = StatementGraphGenerator(json)"
   ]
  },
  {
   "cell_type": "code",
   "execution_count": null,
   "metadata": {},
   "outputs": [],
   "source": [
    "print(len(graph['links']),\n",
    "len(graph['nodes']))\n",
    "\n",
    "weights=[]\n",
    "for link in graph['links']:\n",
    "    weights.append(link['weight'])\n",
    "\n",
    "plt.hist(weights, bins=25)\n",
    "plt.title(\"Distribution of Weights\")\n",
    "plt.xlabel(\"Wert\")\n",
    "plt.ylabel(\"Häufigkeit\")\n",
    "plt.show()"
   ]
  },
  {
   "cell_type": "code",
   "execution_count": null,
   "metadata": {},
   "outputs": [],
   "source": [
    "newlinks = []\n",
    "for link in graph['links']:\n",
    "    if link['weight'] > 3:\n",
    "        newlinks.append(link)\n",
    "graph['links'] = newlinks \n",
    "print(len(graph['links']))"
   ]
  },
  {
   "cell_type": "code",
   "execution_count": null,
   "metadata": {},
   "outputs": [],
   "source": [
    "\n",
    "\n",
    "json = {'data':graph, \n",
    "        'nodecoloring':'party', \n",
    "        'nodelabel': 'mfic', \n",
    "        \"darkmode\": False,\n",
    "        \"edgevisibility\": True,\n",
    "        \"particles\": False\n",
    "       }\n",
    "result = requests.post('https://penelope.vub.be/network-components/visualiser', json=json)"
   ]
  },
  {
   "cell_type": "code",
   "execution_count": null,
   "metadata": {},
   "outputs": [],
   "source": [
    "with open (f\"./redenet{Stichwort}.html\", \"w\") as f:\n",
    "    f.write(result.json()['graph'])"
   ]
  },
  {
   "cell_type": "code",
   "execution_count": null,
   "metadata": {},
   "outputs": [],
   "source": [
    "import re\n",
    "re.compile('[A-Z]{3}')"
   ]
  },
  {
   "cell_type": "code",
   "execution_count": null,
   "metadata": {},
   "outputs": [],
   "source": [
    "print(graph['nodes'][0])"
   ]
  },
  {
   "cell_type": "code",
   "execution_count": null,
   "metadata": {},
   "outputs": [],
   "source": [
    "#for node in graph['nodes']:\n",
    "#    print(node['mfic'])"
   ]
  },
  {
   "cell_type": "code",
   "execution_count": null,
   "metadata": {},
   "outputs": [],
   "source": [
    "\n",
    "\n",
    "text ='Sehr geehrte Frau Präsidentin! Werte Kolleginnen und Kollegen! Klimaschutz ist eine große Herausforderung. Er ist wichtig, für manche Inseln im Pazifik ist er eine Überlebensfrage. Aber auch bei uns in Deutschland sind die Auswirkungen des Klimawandels bereits spürbar. Die Entwicklung von Innovationen im Bereich Klimaschutz ist eine Riesenchance für die Wirtschaft. Wir müssen am Ball bleiben. Wir müssen den Wandel gestalten. Wir dürfen ihn nicht verschlafen. Ich war gestern im Umweltministerium, wo der Deutsche Innovationspreis für Klima und Umwelt an mutige Unternehmer verliehen wurde. Auch mir machte diese Veranstaltung Mut, weil ich gesehen habe, mit welcher Kraft und mit welcher Überzeugung die Unternehmer bei der Sache sind. Es wurden tolle Projekte vorgestellt. Zum Beispiel kann Papier aus Gras hergestellt werden, um die Ressource Holz als wertvollen CO 2 -Speicher zu schonen. Ein weiteres Projekt war eine energiesparende Maschine zur Stoffherstellung, die gleichzeitig spinnt und strickt. Sie sehen: Es gibt eine Menge Innovationen durch mutige mittelständische Unternehmer, wodurch Arbeitsplätze geschaffen und auch erhalten werden können. Im ausverhandelten Koalitionsvertrag haben wir ganz klar festgehalten, dass wir uns zu unseren nationalen, europäischen und internationalen Klimazielen bekennen, und zwar in allen Sektoren. Dafür habe ich mich als Klimapolitikerin persönlich eingesetzt. Damit zeigen wir: Wir nehmen unsere klimapolitische Verantwortung wahr, in Deutschland und in der Welt. Für uns ist aber auch wichtig, wie wir dieses Ziel erreichen. Das wollen wir durch Anreize statt Zwang und durch Technologieoffenheit bewerkstelligen. Wir wollen auch sicherstellen, dass unsere Wirtschaft als Basis unseres Wohlstands international wettbewerbsfähig bleibt. Außerdem soll die Energieversorgungssicherheit weiterhin gewährleistet werden. Es liegt eine Studie der deutschen Industrie vor, die sich damit befasst hat, wie wir das langfristige Klimaziel bezogen auf 2050 erreichen wollen. Die Studie besagt: Das wird schwierig, aber es kann funktionieren. Und auch die Wirtschaft sagt: Die Wirtschaft kann Wandel. Sie hat es bei der Industrialisierung bewiesen. Jetzt nimmt sie die Herausforderungen der Digitalisierung an, Stichwort Industrie 4.0. Die Wirtschaft kann auch Klimaschutz, wenn die Politik verlässliche Rahmenbedingungen schafft und Anreize zum Beispiel für effiziente Umwelttechnologien setzt. Und genau das machen wir, meine Damen und Herren. Wenn Sie, die Antragsteller, deren Vorlagen wir heute beraten, den ausgehandelten Koalitionsvertrag aufmerksam lesen, dann werden Sie feststellen, dass viele Ihrer Punkte bereits enthalten sind, zum Beispiel die Forderung nach einer konsequenten Energieeffizienzpolitik. Es gibt bereits den Nationalen Aktionsplan Energieeffizienz, den wir weiterentwickeln werden. Außerdem wollen wir eine ambitionierte, sektorübergreifende Energieeffizienzstrategie unter dem Leitprinzip „Efficiency first“ installieren. Wir haben uns das ehrgeizige Ziel gesetzt, eine Halbierung des Energieverbrauchs bis 2050 zu schaffen. Im Koalitionsvertrag ist vorgesehen, bis 2030 einen Anteil an erneuerbaren Energien von 65 Prozent zu erreichen. Ebenso haben wir verankert – ich muss ganz ehrlich sagen: endlich –, die energetische Gebäudesanierung steuerlich zu fördern. In vielen Reden an diesem Rednerpult habe ich gefordert, dass wir dieses Klimaschutzinstrument nutzen. Meine Damen und Herren, ich setze darauf, dass nun auch die Grünen in den Bundesländern für dieses Instrument werben; denn in den Jamaika-Sondierungen war die Einführung dieses Instruments Konsens. Damit bin ich beim Thema: Wie sollen diese Instrumente ausgestaltet sein? Wie soll dieses Steuerungsinstrument ausgestaltet sein? Wir setzen auf Anreize statt auf Zwang. Unser Vorschlag sieht ein Wahlrecht des Antragstellers vor: Zuschussförderung oder Reduzierung des zu versteuernden Einkommens. Damit erreichen wir einen möglichst großen Personenkreis. Daneben wollen wir das CO 2 -Gebäudesanierungsprogramm fortführen und damit den Austausch alter, ineffizienter Heizungen fördern. Ferner wollen wir eine Kommission einsetzen, die auf Basis und in Vernetzung mit dem laufenden Prozess zur Umsetzung des Klimaschutzplans bis Ende des Jahres Maßnahmen vorschlagen soll, wie die Lücke zur Erreichung des Klimaziels 2020 so schnell wie möglich reduziert werden kann und im Energiesektor das 2030-Ziel erreicht werden kann. Dazu zählt auch die schrittweise Reduzierung und Beendigung der Kohleverstromung. Das Abschlussdatum für die Kohleverstromung soll ebenfalls durch diese Kommission festgelegt werden. Hört! Hört! Meine Damen und Herren, das geht sogar über das hinaus, was am Ende der Jamaika-Sondierungen ausverhandelt war. In den Jamaika-Verhandlungen lag der Fokus – Herr Dr. Köhler hat es bereits erwähnt – auf dem überhasteten, schnellen Stilllegen, auf der Reduzierung der Kapazität der Kohleverstromung um 7 Gigawatt vor 2020, und zwar ohne Rücksicht auf die Arbeitsplätze. Auch wir wollen die schrittweise Reduzierung der Kohleverstromung; aber wir wollen dabei die Energieversorgung weiterhin sicherstellen. Wir wollen, dass Energie für Verbraucher und Wirtschaft bezahlbar bleibt. Das ist ganz wichtig. Ich habe das Gefühl, das wird von den Grünen öfter ausgeblendet. Außerdem wollen wir nicht, dass es in den betroffenen Regionen zu Strukturbrüchen kommt. Sie sehen: Wir reden nicht nur, sondern wir handeln auch, aber durchdacht und mit Weitsicht. Zur Globalen Allianz für den Kohleausstieg, die in einem Antrag erwähnt wird: Gefordert wird, dass Deutschland dieser Allianz beitritt. Ich habe mir die Mühe gemacht, mir den Energiemix der teilnehmenden Staaten anzusehen. Man muss sich da ehrlich machen. Wie ist das in Frankreich? Dort stammen nur 3 bis 4 Prozent der Stromproduktion aus der Kohle, und Frankreich will von dem Ziel abrücken, den Strom aus Kernenergie bis 2025 auf 50 Prozent zu reduzieren. Kanada investiert mehr als 25 Milliarden in Atomreaktoren, damit sie für weitere 25 bis 30 Jahre laufen. Großbritannien will aus der Kohleverstromung aussteigen, gleichzeitig aber den Anteil des Stroms aus Kernenergie deutlich steigern. Wir wollen beides: Wir wollen die Kohleverstromung reduzieren und den Ausstieg aus der Kernenergienutzung weiter gestalten. Keiner behauptet, dass das leicht ist. Dennoch gehen wir diesen Weg voller Überzeugung für unsere Kinder, für unsere Enkel und für die Menschen, die darauf setzen, dass die Politik die Weichen richtig stellt und durch Innovationen im Umweltbereich Arbeitsplätze erhalten und geschaffen werden. Vielen Dank. Vielen Dank, Dr. Weisgerber. – Nächste Rednerin: Bundesministerin Dr. Barbara Hendricks für die Bundesregierung.'\n",
    "text2 = 'Vielen Dank. – Herr Präsident! Liebe Kolleginnen und Kollegen! Seit dem Jahr 2007 leistet die United Nations Hybrid Operation in Darfur, UNAMID, einen wichtigen Beitrag, um den langjährigen Konflikt im Sudan um die Region Darfur zu lösen. Seit dem Jahr 2008 beteiligt sich Deutschland mit den von der Mandatsobergrenze her erlaubten bis zu 50 Soldatinnen und Soldaten an dieser Mission. Aktuell sind sieben deutsche Soldatinnen und Soldaten bei UNAMID im Einsatz. Sie dienen im Hauptquartier in al-Fashir und unterstützen die Missionsführung von UNAMID bei der Umsetzung ihrer anspruchsvollen Aufgaben. UNAMID ist wie UNMISS – darüber diskutieren wir anschließend – ein Mandat, das sich in unser politisches, sicherheits- und entwicklungspolitisches sowie humanitäres Gesamtengagement in der Region und im Rahmen der Vereinten Nationen einfügt. Die gesamte Sudan-Sahel-Region steht großen Herausforderungen gegenüber. Es seien die Stichworte genannt: Terrorismus, organisierte Kriminalität, Flucht und Migration. Das nachhaltige Engagement der internationalen Gemeinschaft zur regionalen Stabilisierung ist und bleibt daher von entscheidender Bedeutung. Auftrag von UNAMID ist die Überwachung des Waffenstillstandsabkommens von Darfur aus dem Jahr 2006, die Sicherung eines humanitären Zugangs zur Region, die Unterstützung und Überwachung der Vermittlungsbemühungen in Konflikten zwischen den Bevölkerungsgruppen sowie der Schutz und die Unterstützung der Zivilbevölkerung. Deutschland, liebe Kolleginnen und Kollegen, ist derzeit die einzige europäische Nation bei UNAMID. Unsere fortgesetzte Beteiligung ist deshalb auch ein wichtiges Zeichen an die Vereinten Nationen, an die Afrikanische Union, dass wir die Friedensanstrengungen der internationalen Gemeinschaft in Darfur weiterhin unterstützen. Sie ist zudem ein wichtiges Zeichen und wesentlicher Rückhalt für die Bemühungen der sudanesischen Akteure, selbst zur Verbesserung der Sicherheitslage und politischen Konfliktlösung in Darfur zu kommen. Liebe Kolleginnen und Kollegen, angesichts positiver Entwicklungen im Sudan hat der Sicherheitsrat der Vereinten Nationen im Juni dieses Jahres eine Neuausrichtung von UNAMID beschlossen. Diese sieht innerhalb der nächsten zwei Jahre eine Reduzierung des militärischen Anteils um circa 45 Prozent der Kräfte, vor allem in der Fläche, und des polizeilichen Anteils um circa 26 Prozent der Kräfte vor. Damit einher geht eine Akzentverschiebung zu mehr zivil geprägtem Peacekeeping und Peacebuilding. Der Schwerpunkt von UNAMID wird aber weiterhin in einem Beitrag zum Schutz der Zivilbevölkerung sowie in der Unterstützung der Vermittlungsbemühungen zwischen den Konfliktparteien liegen. Eine erste Bewertung dieser Anpassung durch die Vereinten Nationen Anfang kommenden Jahres werden wir selbstverständlich mit großem Interesse aufnehmen. Sie muss insbesondere die Realitäten am Boden berücksichtigen. Liebe Kolleginnen und Kollegen, trotz dieser positiven Signale bleibt die Lage in Darfur insgesamt angespannt und instabil. Insbesondere die humanitäre Situation ist mit allein 2,1 Millionen Binnenvertriebenen vor allem in humanitärer Hinsicht katastrophal. UNAMID wird deshalb auch in Zukunft eine Schlüsselrolle in Darfur spielen. Die Mission dient als stabilisierendes Element zur Verbesserung der Sicherheitslage, zur Sicherung des humanitären Zugangs nach Darfur, zur Überwachung und Verbesserung der Menschenrechtslage sowie zur Begleitung der politischen Friedensbemühungen. Daher ist es wichtig, dass auch Deutschland sein Engagement in dieser wichtigen VN-Mission unverändert fortführt. Es ist, wie gesagt, eine kleine Mission; 50 Soldatinnen und Soldaten ist die Obergrenze. Wir sind mit Stabspersonal dort. Es ist eine wichtige Mission: humanitär und politisch. Es ist wichtig, dass wir unsere Solidarität nicht verweigern. Liebe Kolleginnen und Kollegen, bei allem, was noch zu tun ist, bei allen fortdauernden Herausforderungen und Katastrophen möchte ich daran erinnern, dass der damalige UN-Generalsekretär Kofi Annan zurzeit des Bürgerkrieges Darfur als den furchtbarsten Platz auf der Erde bezeichnete. Nun will ich nicht vorwegnehmen, was hier in dieser Debatte noch gesagt wird, aber wir haben die eine oder andere Debatte hinter uns. Manche mögen sagen: Der Westen ist schuld an der Katastrophe. Andere möchten vielleicht fragen: Was geht uns das an? Liebe Kolleginnen und Kollegen, beides ist und wäre falsch. Es ist Teil unserer Aufgabe als Bundesrepublik Deutschland, als Europäer, unseren Beitrag zu leisten, dass sich der Fortschritt weiter Bahn bricht und die humanitäre Katastrophe in Darfur, die humanitäre Katastrophe im Sudan ein Ende findet. Dazu sind wir verpflichtet. Dafür bitte ich namens der Bundesregierung um Ihre Unterstützung. Vielen Dank. Nächste Rednerin ist Dr. Bärbel Kofler für die Fraktion der SPD.'\n",
    "doc = nlp(text2)\n",
    "for sent in doc.sents:\n",
    "    for token in sent:\n",
    "        print(token.lemma_,token.pos_)\n"
   ]
  },
  {
   "cell_type": "code",
   "execution_count": null,
   "metadata": {},
   "outputs": [],
   "source": []
  }
 ],
 "metadata": {
  "kernelspec": {
   "display_name": "Python 3",
   "language": "python",
   "name": "python3"
  },
  "language_info": {
   "codemirror_mode": {
    "name": "ipython",
    "version": 3
   },
   "file_extension": ".py",
   "mimetype": "text/x-python",
   "name": "python",
   "nbconvert_exporter": "python",
   "pygments_lexer": "ipython3",
   "version": "3.7.3"
  }
 },
 "nbformat": 4,
 "nbformat_minor": 4
}
