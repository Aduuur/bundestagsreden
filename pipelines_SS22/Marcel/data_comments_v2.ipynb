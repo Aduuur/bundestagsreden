{
 "cells": [
  {
   "cell_type": "code",
   "execution_count": 1,
   "id": "54b24631",
   "metadata": {},
   "outputs": [],
   "source": [
    "import collections\n",
    "import requests\n",
    "import json\n",
    "import re\n",
    "import os\n",
    "import sys\n",
    "import numpy as np\n",
    "import matplotlib.pyplot as plt"
   ]
  },
  {
   "cell_type": "markdown",
   "id": "cfe65297",
   "metadata": {},
   "source": [
    "# Test"
   ]
  },
  {
   "cell_type": "code",
   "execution_count": 2,
   "id": "304b3cb4",
   "metadata": {},
   "outputs": [],
   "source": [
    "with open('../../data/speeches_20.jsonl', 'r', encoding = 'utf8') as fp:\n",
    "    data = list(fp)\n",
    "speeches = []\n",
    "for line in data:\n",
    "    speeches.append(json.loads(line))"
   ]
  },
  {
   "cell_type": "code",
   "execution_count": 3,
   "id": "ea8666f4",
   "metadata": {},
   "outputs": [],
   "source": [
    "def groupSpeechesByParty(speeches):\n",
    "    groupedSpeeches = {}\n",
    "    for speech in speeches:\n",
    "        tpo = speech['party']\n",
    "        if tpo in groupedSpeeches:\n",
    "            groupedSpeeches[tpo].append(speech)\n",
    "        else:\n",
    "            groupedSpeeches[tpo] = [speech]\n",
    "    return groupedSpeeches"
   ]
  },
  {
   "cell_type": "code",
   "execution_count": 4,
   "id": "1d01395f",
   "metadata": {},
   "outputs": [],
   "source": [
    "def clean_partyname(speeches):\n",
    "    for speech in speeches:\n",
    "        if 'BÜNDNIS\\xa090/DIE GRÜNEN'.lower() in speech['party']:\n",
    "            speech.update({'party': 'BÜNDNIS 90/DIE GRÜNEN'})\n",
    "clean_partyname(speeches)"
   ]
  },
  {
   "cell_type": "code",
   "execution_count": 5,
   "id": "bfcb6fed",
   "metadata": {},
   "outputs": [
    {
     "name": "stdout",
     "output_type": "stream",
     "text": [
      "alle Reden: 2777\n"
     ]
    }
   ],
   "source": [
    "groupbyparty = groupSpeechesByParty(speeches)\n",
    "print(f'alle Reden: {len(speeches)}') # Anzahl aller Reden\n",
    "#for ele in groupbyparty:\n",
    "#    print(len(groupbyparty[ele]))\n",
    "# Überprüfung mit bspw.: len(groupbyparty['SPD'])"
   ]
  },
  {
   "cell_type": "code",
   "execution_count": 6,
   "id": "f654e5a8",
   "metadata": {},
   "outputs": [],
   "source": [
    "def extract_comments(speeches):\n",
    "    regex = \"{(.*?)}\" # hier die genaue Definition der Kommentare vom Parser <<< >\n",
    "    comments = []\n",
    "    modified_speeches = []\n",
    "    for speech in speeches:\n",
    "        text = speech['text']\n",
    "        matches = re.findall(regex,text)\n",
    "        speech['comments'] = matches\n",
    "        modified_speeches.append(speech)\n",
    "    return modified_speeches\n",
    "# Funktionsaufruf: speeches_comments = extract_comments(speeches)\n",
    "speeches_comments = extract_comments(speeches)\n",
    "# Funktionsausgabe: print(speeches_comments[0]['comments'])\n",
    "#                   print(speeches_comments[0]['party'])"
   ]
  },
  {
   "cell_type": "code",
   "execution_count": 7,
   "id": "99f15c55",
   "metadata": {},
   "outputs": [
    {
     "name": "stdout",
     "output_type": "stream",
     "text": [
      "Gesamtsumme aller Kommentare: 22099\n"
     ]
    }
   ],
   "source": [
    "# filter: comments per party with contain words and not contain words\n",
    "def filter_with_complex_non_words(search_terms , non_words , speeches_comments):\n",
    "    filtered_speeches = []\n",
    "    for speech in speeches:\n",
    "        for comment in speech['comments']:\n",
    "            if all([term in comment for term in search_terms]) and not any([term in comment for term in non_words]):\n",
    "                filtered_speeches.append(speech)\n",
    "    return filtered_speeches\n",
    "# Funktionsaufruf:  specific_and_non_search = filter_with_complex_non_words(['Beifall','CDU'],['Zuruf'],speeches_comments)\n",
    "# Funktionsausgabe: print(specific_and_non_search[0])                               enthält AND enthält nicht\n",
    "#                   print(len(specific_and_non_search))\n",
    "specific_and_non_search = filter_with_complex_non_words([],[],speeches)\n",
    "print(f'Gesamtsumme aller Kommentare: {len(specific_and_non_search)}')"
   ]
  },
  {
   "cell_type": "code",
   "execution_count": 8,
   "id": "141d8446",
   "metadata": {
    "scrolled": true
   },
   "outputs": [
    {
     "name": "stdout",
     "output_type": "stream",
     "text": [
      "Anzahl Kommentare mit Beteiligung von Linke:        3027\n",
      "Anzahl Kommentare mit Beteiligung von SPD:          10206\n",
      "Anzahl Kommentare mit Beteiligung von Grünen:       6039\n",
      "Anzahl Kommentare mit Beteiligung von CDU/CSU:      6614\n",
      "Anzahl Kommentare mit Beteiligung von FDP:          8571\n",
      "Anzahl Kommentare mit Beteiligung von AfD:          4555\n",
      "Anzahl Kommentare mit Beteiligung von Fraktionslos: 48\n"
     ]
    }
   ],
   "source": [
    "specific_and_non_search = filter_with_complex_non_words(['LINKE'],[],speeches_comments)\n",
    "print(f'Anzahl Kommentare mit Beteiligung von Linke:        {len(specific_and_non_search)}')\n",
    "specific_and_non_search = filter_with_complex_non_words(['SPD'],[],speeches_comments)\n",
    "print(f'Anzahl Kommentare mit Beteiligung von SPD:          {len(specific_and_non_search)}')\n",
    "specific_and_non_search = filter_with_complex_non_words(['BÜNDNIS 90/DIE GRÜNEN'],[],speeches_comments)\n",
    "print(f'Anzahl Kommentare mit Beteiligung von Grünen:       {len(specific_and_non_search)}')\n",
    "specific_and_non_search = filter_with_complex_non_words(['CDU/CSU'],[],speeches_comments)\n",
    "print(f'Anzahl Kommentare mit Beteiligung von CDU/CSU:      {len(specific_and_non_search)}')\n",
    "specific_and_non_search = filter_with_complex_non_words(['FDP'],[],speeches_comments)\n",
    "print(f'Anzahl Kommentare mit Beteiligung von FDP:          {len(specific_and_non_search)}')\n",
    "specific_and_non_search = filter_with_complex_non_words(['AfD'],[],speeches_comments)\n",
    "print(f'Anzahl Kommentare mit Beteiligung von AfD:          {len(specific_and_non_search)}')\n",
    "specific_and_non_search = filter_with_complex_non_words(['fraktionslos'],[],speeches_comments)\n",
    "print(f'Anzahl Kommentare mit Beteiligung von Fraktionslos: {len(specific_and_non_search)}')"
   ]
  },
  {
   "cell_type": "code",
   "execution_count": 9,
   "id": "c653cef4",
   "metadata": {},
   "outputs": [],
   "source": [
    "# function: speech_of_party\n",
    "def filter_party (party , speeches_comments):\n",
    "    speeches_of_party = []\n",
    "    for speech in speeches:\n",
    "        if speech['party'] == party:\n",
    "            speeches_of_party.append(speech)\n",
    "    return speeches_of_party\n",
    "\n",
    "# function: speeches_of_party_with_keywords\n",
    "def filter_speeches_of_party(search_terms , non_words , speeches_of_party):\n",
    "    comments_speaker_of_party = []\n",
    "    for speech in speeches_of_party:\n",
    "        for comment in speech['comments']:\n",
    "            if all([term in comment for term in search_terms]) and not any([term in comment for term in non_words]):\n",
    "                comments_speaker_of_party.append(comment)\n",
    "    return comments_speaker_of_party"
   ]
  },
  {
   "cell_type": "code",
   "execution_count": 10,
   "id": "36c92844",
   "metadata": {},
   "outputs": [],
   "source": [
    "keywords = ['Beifall','Zuruf','lachen','Widerspruch','Heiterkeit','Unsinn','Gegenruf']\n",
    "list_party = ['DIE LINKE','SPD','BÜNDNIS 90/DIE GRÜNEN','CDU/CSU','FDP','AfD','fraktionslos']"
   ]
  },
  {
   "cell_type": "code",
   "execution_count": 11,
   "id": "4ae99688",
   "metadata": {},
   "outputs": [
    {
     "name": "stdout",
     "output_type": "stream",
     "text": [
      "Redner-Partei DIE LINKE erhielt insgesamt Beifall: 1503\n",
      "Redner von DIE LINKE erhielt Beifall von der DIE LINKE: 1298\n",
      "Redner von DIE LINKE erhielt Beifall von der SPD: 348\n",
      "Redner von DIE LINKE erhielt Beifall von der BÜNDNIS 90/DIE GRÜNEN: 326\n",
      "Redner von DIE LINKE erhielt Beifall von der CDU/CSU: 111\n",
      "Redner von DIE LINKE erhielt Beifall von der FDP: 246\n",
      "Redner von DIE LINKE erhielt Beifall von der AfD: 97\n",
      "Redner von DIE LINKE erhielt Beifall von der fraktionslos: 0\n",
      "Redner von BÜNDNIS 90/DIE GRÜNEN erhielt Beifall von der BÜNDNIS 90/DIE GRÜNEN: 2448\n"
     ]
    }
   ],
   "source": [
    "speeches_of_party = filter_party(list_party[0],speeches_comments)\n",
    "speeches_of_party_with_keywords = filter_speeches_of_party([keywords[0]],[],speeches_of_party)\n",
    "print(f'Redner-Partei {list_party[0]} erhielt insgesamt {keywords[0]}: {len(speeches_of_party_with_keywords)}')\n",
    "\n",
    "speeches_of_party = filter_party(list_party[0],speeches_comments)\n",
    "speeches_of_party_with_keywords = filter_speeches_of_party([keywords[0],'LINKE'] , [] , speeches_of_party)\n",
    "print(f'Redner von {list_party[0]} erhielt {keywords[0]} von der {list_party[0]}: {len(speeches_of_party_with_keywords)}')\n",
    "\n",
    "speeches_of_party = filter_party(list_party[0],speeches_comments)\n",
    "speeches_of_party_with_keywords = filter_speeches_of_party([keywords[0],list_party[1]] , [] , speeches_of_party)\n",
    "print(f'Redner von {list_party[0]} erhielt {keywords[0]} von der {list_party[1]}: {len(speeches_of_party_with_keywords)}')\n",
    "\n",
    "speeches_of_party = filter_party(list_party[0],speeches_comments)\n",
    "speeches_of_party_with_keywords = filter_speeches_of_party([keywords[0],'GRÜNE'] , [] , speeches_of_party)\n",
    "print(f'Redner von {list_party[0]} erhielt {keywords[0]} von der {list_party[2]}: {len(speeches_of_party_with_keywords)}')\n",
    "\n",
    "speeches_of_party = filter_party(list_party[0],speeches_comments)\n",
    "speeches_of_party_with_keywords = filter_speeches_of_party([keywords[0],'CDU'] , [] , speeches_of_party)\n",
    "print(f'Redner von {list_party[0]} erhielt {keywords[0]} von der {list_party[3]}: {len(speeches_of_party_with_keywords)}')\n",
    "\n",
    "speeches_of_party = filter_party(list_party[0],speeches_comments)\n",
    "speeches_of_party_with_keywords = filter_speeches_of_party([keywords[0],list_party[4]] , [] , speeches_of_party)\n",
    "print(f'Redner von {list_party[0]} erhielt {keywords[0]} von der {list_party[4]}: {len(speeches_of_party_with_keywords)}')\n",
    "\n",
    "speeches_of_party = filter_party(list_party[0],speeches_comments)\n",
    "speeches_of_party_with_keywords = filter_speeches_of_party([keywords[0],list_party[5]] , [] , speeches_of_party)\n",
    "print(f'Redner von {list_party[0]} erhielt {keywords[0]} von der {list_party[5]}: {len(speeches_of_party_with_keywords)}')\n",
    "\n",
    "speeches_of_party = filter_party(list_party[0],speeches_comments)\n",
    "speeches_of_party_with_keywords = filter_speeches_of_party([keywords[0],'raktionslos'] , [] , speeches_of_party)\n",
    "print(f'Redner von {list_party[0]} erhielt {keywords[0]} von der {list_party[6]}: {len(speeches_of_party_with_keywords)}')\n",
    "\n",
    "speeches_of_party = filter_party(list_party[2],speeches_comments)\n",
    "speeches_of_party_with_keywords = filter_speeches_of_party([keywords[0],'GRÜNE'] , [] , speeches_of_party)\n",
    "print(f'Redner von {list_party[2]} erhielt {keywords[0]} von der {list_party[2]}: {len(speeches_of_party_with_keywords)}')"
   ]
  },
  {
   "cell_type": "code",
   "execution_count": 12,
   "id": "6e815843",
   "metadata": {},
   "outputs": [
    {
     "name": "stdout",
     "output_type": "stream",
     "text": [
      "BÜNDNIS 90/DIE GRÜNEN\n",
      "2744\n",
      "Redner von BÜNDNIS 90/DIE GRÜNEN erhielt Beifall von der BÜNDNIS 90/DIE GRÜNEN: 2744\n"
     ]
    }
   ],
   "source": [
    "speeches_of_party = filter_party(list_party[2],speeches)\n",
    "print(list_party[2])\n",
    "speeches_of_party_with_keywords = filter_speeches_of_party([keywords[0]] , [] , speeches_of_party)\n",
    "print(len(speeches_of_party_with_keywords))\n",
    "print(f'Redner von {list_party[2]} erhielt {keywords[0]} von der {list_party[2]}: {len(speeches_of_party_with_keywords)}')"
   ]
  },
  {
   "cell_type": "code",
   "execution_count": 13,
   "id": "b0c57297",
   "metadata": {},
   "outputs": [
    {
     "data": {
      "text/plain": [
       "15735"
      ]
     },
     "execution_count": 13,
     "metadata": {},
     "output_type": "execute_result"
    }
   ],
   "source": [
    "# Alle Kommentare mit Beifall\n",
    "#speeches_of_party = filter_party(list_party[0],speeches_comments)\n",
    "speeches_of_party_with_keywords = filter_speeches_of_party([keywords[0]] ,[], speeches_comments) # Achtung: speeches_comments statt speeches_of_party  \n",
    "len(speeches_of_party_with_keywords)"
   ]
  },
  {
   "cell_type": "code",
   "execution_count": 14,
   "id": "4bfea396",
   "metadata": {},
   "outputs": [
    {
     "data": {
      "text/plain": [
       "{'BÜNDNIS 90/DIE GRÜNEN': ['all comments to Grüne'],\n",
       " 'CDU/CSU': ['all comments to '],\n",
       " 'Fraktionslos': ['all comments to '],\n",
       " 'AfD': ['all comments to '],\n",
       " 'SPD': ['all comments to '],\n",
       " 'FDP': ['all comments to '],\n",
       " 'DIE LINKE': ['all comments to Linke']}"
      ]
     },
     "execution_count": 14,
     "metadata": {},
     "output_type": "execute_result"
    }
   ],
   "source": [
    "comments_to = {'BÜNDNIS 90/DIE GRÜNEN' : ['all comments to Grüne'], \n",
    "               'CDU/CSU'               : ['all comments to '],\n",
    "               'Fraktionslos'          : ['all comments to '],\n",
    "               'AfD'                   : ['all comments to '],\n",
    "               'SPD'                   : ['all comments to '],\n",
    "               'FDP'                   : ['all comments to '],\n",
    "               'DIE LINKE'             : ['all comments to Linke'] }\n",
    "comments_to"
   ]
  },
  {
   "cell_type": "code",
   "execution_count": 15,
   "id": "ff919257",
   "metadata": {},
   "outputs": [
    {
     "data": {
      "text/plain": [
       "['SPD',\n",
       " 'CDU/CSU',\n",
       " 'BÜNDNIS 90/DIE GRÜNEN',\n",
       " 'FDP',\n",
       " 'AfD',\n",
       " 'DIE LINKE',\n",
       " 'Fraktionslos']"
      ]
     },
     "execution_count": 15,
     "metadata": {},
     "output_type": "execute_result"
    }
   ],
   "source": [
    "party_names = []\n",
    "for speech in speeches:\n",
    "    if speech['party'] in party_names:\n",
    "        pass\n",
    "    else:\n",
    "        party_names.append(speech['party'])  \n",
    "party_names"
   ]
  },
  {
   "cell_type": "code",
   "execution_count": 16,
   "id": "fdf7eb5d",
   "metadata": {},
   "outputs": [
    {
     "name": "stdout",
     "output_type": "stream",
     "text": [
      "(Beifall beim BÜNDNIS 90/DIE GRÜNEN, bei der SPD und der FDP)\n"
     ]
    }
   ],
   "source": [
    "comments_to = {}\n",
    "for party in party_names:\n",
    "    comments_to.update({ party : [] })\n",
    "for speech in speeches:\n",
    "    if len(speech['comments']) > 0:\n",
    "        for comment in speech['comments']:\n",
    "            for split_comment in comment.split('–'):\n",
    "                comments_to[speech['party']].append(split_comment)\n",
    "print(split_comment)"
   ]
  },
  {
   "cell_type": "code",
   "execution_count": 21,
   "id": "5be44640",
   "metadata": {},
   "outputs": [],
   "source": [
    "nParties = len(party_names)\n",
    "relations_beifall = np.zeros((nParties,nParties))\n",
    "party_search_string = ['LINKE','SPD','GRÜNE','CDU','FDP','AfD','raktionslos']\n",
    "px = 0\n",
    "py = 0\n",
    "for xparty in comments_to:\n",
    "    for comment in comments_to[xparty]:\n",
    "        for py,yparty in enumerate(party_search_string):\n",
    "            if yparty in comment:\n",
    "                if 'Beifall' in comment:\n",
    "                    relations_beifall[px,py] = relations_beifall[px,py] + 1\n",
    "    px = px + 1\n",
    "#plt.imshow(relations_beifall)\n",
    "#plt.colorbar()\n",
    "#plt.show()"
   ]
  },
  {
   "cell_type": "code",
   "execution_count": 23,
   "id": "f172dac2",
   "metadata": {},
   "outputs": [
    {
     "name": "stdout",
     "output_type": "stream",
     "text": [
      "Beifall für Redner LINKE von Partei LINKE: 432.0\n",
      "Beifall für Redner F von Partei SPD: 3725.0\n",
      "Beifall für Redner F von Partei GRÜNE: 3286.0\n",
      "Beifall für Redner F von Partei CDU: 537.0\n",
      "Beifall für Redner F von Partei FDP: 2767.0\n",
      "Beifall für Redner F von Partei AfD: 161.0\n",
      "Beifall für Redner F von Partei raktionslos: 4.0\n"
     ]
    }
   ],
   "source": [
    "print(f'Beifall für Redner {party_search_string[0]} von Partei {party_search_string[0]}: {relations_beifall[0,0]}')\n",
    "print(f'Beifall für Redner {xparty[0]} von Partei {party_search_string[1]}: {relations_beifall[0,1]}')\n",
    "print(f'Beifall für Redner {xparty[0]} von Partei {party_search_string[2]}: {relations_beifall[0,2]}')\n",
    "print(f'Beifall für Redner {xparty[0]} von Partei {party_search_string[3]}: {relations_beifall[0,3]}')\n",
    "print(f'Beifall für Redner {xparty[0]} von Partei {party_search_string[4]}: {relations_beifall[0,4]}')\n",
    "print(f'Beifall für Redner {xparty[0]} von Partei {party_search_string[5]}: {relations_beifall[0,5]}')\n",
    "print(f'Beifall für Redner {xparty[0]} von Partei {party_search_string[6]}: {relations_beifall[0,6]}')"
   ]
  },
  {
   "cell_type": "code",
   "execution_count": null,
   "id": "baa8e096",
   "metadata": {
    "scrolled": true
   },
   "outputs": [],
   "source": [
    "# Idee zur Programmierung: gehe beide Listen durch und iteriere\n",
    "nParties = len(list_party)\n",
    "relations_Beifall = np.zeros((nParties,nParties))\n",
    "party_search_string = ['GRÜNEN','CDU/CSU','raktionslos','AfD','SPD','FDP','LINKE']\n",
    "for px,x_party in enumerate(list_party): # for px,party in enumerate(list_party) = weist einer Liste eine lfd. Nummer zu \n",
    "    for py,y_party in enumerate(list_party):\n",
    "        speeches_of_party = filter_party(list_party[px],speeches_comments)\n",
    "        speeches_of_party_with_keywords = filter_speeches_of_party([keywords[0],list_party[py]],keywords[1:5],speeches_of_party)\n",
    "        relations_Beifall[px,py] = len(speeches_of_party_with_keywords)\n",
    "print(relations_Beifall[4,1])"
   ]
  },
  {
   "cell_type": "code",
   "execution_count": null,
   "id": "7b82fd81",
   "metadata": {},
   "outputs": [],
   "source": [
    "plt.imshow(relations_Beifall)\n",
    "plt.colorbar()\n",
    "plt.show()"
   ]
  },
  {
   "cell_type": "code",
   "execution_count": null,
   "id": "13f25a28",
   "metadata": {},
   "outputs": [],
   "source": [
    "speeches_of_party = filter_party(list_party[4],speeches_comments)\n",
    "speeches_of_party_with_keywords = filter_speeches_of_party([keywords[0],list_party[1]] , keywords[1:5] , speeches_of_party)\n",
    "print(f'Redner von {list_party[4]} erhielt {keywords[0]} von der {list_party[1]}: {len(speeches_of_party_with_keywords)}')\n",
    "speeches_of_party = filter_party(list_party[1],speeches_comments)\n",
    "speeches_of_party_with_keywords = filter_speeches_of_party([keywords[0],list_party[4]] , keywords[1:5] , speeches_of_party)\n",
    "print(f'Redner von {list_party[1]} erhielt {keywords[0]} von der {list_party[4]}: {len(speeches_of_party_with_keywords)}')\n",
    "speeches_of_party = filter_party(list_party[0],speeches_comments)\n",
    "speeches_of_party_with_keywords = filter_speeches_of_party([keywords[0],list_party[0]] , keywords[1:5] , speeches_of_party)\n",
    "print(f'Redner von {list_party[0]} erhielt {keywords[0]} von der {list_party[0]}: {len(speeches_of_party_with_keywords)}')"
   ]
  },
  {
   "cell_type": "code",
   "execution_count": null,
   "id": "e5776194",
   "metadata": {},
   "outputs": [],
   "source": [
    "fig, ax = plt.subplots()\n",
    "\n",
    "intersection_matrix = relations_Beifall[px,py],size=(len(list_party), len(list_party))\n",
    "\n",
    "\n",
    "#np.random.randint(0, 10, size=(len(list_party), len(list_party)))\n",
    "\n",
    "ax.matshow(intersection_matrix, cmap=plt.cm.Blues)\n",
    "\n",
    "for px in range(7):\n",
    "    for py in range(7):\n",
    "        c = intersection_matrix[px,py]\n",
    "        ax.text(px, py, str(c), va='center', ha='center')"
   ]
  },
  {
   "cell_type": "code",
   "execution_count": null,
   "id": "6449a20a",
   "metadata": {},
   "outputs": [],
   "source": []
  },
  {
   "cell_type": "code",
   "execution_count": null,
   "id": "f3104d2e",
   "metadata": {},
   "outputs": [],
   "source": []
  }
 ],
 "metadata": {
  "kernelspec": {
   "display_name": "Python 3 (ipykernel)",
   "language": "python",
   "name": "python3"
  },
  "language_info": {
   "codemirror_mode": {
    "name": "ipython",
    "version": 3
   },
   "file_extension": ".py",
   "mimetype": "text/x-python",
   "name": "python",
   "nbconvert_exporter": "python",
   "pygments_lexer": "ipython3",
   "version": "3.9.7"
  }
 },
 "nbformat": 4,
 "nbformat_minor": 5
}
