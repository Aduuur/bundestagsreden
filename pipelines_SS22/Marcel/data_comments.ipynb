{
 "cells": [
  {
   "cell_type": "code",
   "execution_count": 1,
   "id": "54b24631",
   "metadata": {},
   "outputs": [],
   "source": [
    "import collections\n",
    "import requests\n",
    "import json\n",
    "import re\n",
    "import os\n",
    "import sys"
   ]
  },
  {
   "cell_type": "code",
   "execution_count": 2,
   "id": "83033f38",
   "metadata": {},
   "outputs": [],
   "source": [
    "with open('../../data/speeches_20.jsonl', 'r', encoding = 'utf8') as fp:\n",
    "    data = list(fp)\n",
    "speeches = []\n",
    "for line in data:\n",
    "    speeches.append(json.loads(line))"
   ]
  },
  {
   "cell_type": "code",
   "execution_count": 3,
   "id": "ea8666f4",
   "metadata": {},
   "outputs": [],
   "source": [
    "def groupSpeechesByParty(speeches):\n",
    "    groupedSpeeches = {}\n",
    "    for speech in speeches:\n",
    "        tpo = speech['party']\n",
    "        if tpo in groupedSpeeches:\n",
    "            groupedSpeeches[tpo].append(speech)\n",
    "        else:\n",
    "            groupedSpeeches[tpo] = [speech]\n",
    "    return groupedSpeeches"
   ]
  },
  {
   "cell_type": "code",
   "execution_count": 4,
   "id": "c197f170",
   "metadata": {},
   "outputs": [
    {
     "name": "stdout",
     "output_type": "stream",
     "text": [
      "alle Reden: 2777\n",
      "698\n",
      "607\n",
      "457\n",
      "395\n",
      "353\n",
      "241\n",
      "26\n"
     ]
    }
   ],
   "source": [
    "def clean_partyname(speeches):\n",
    "    for speech in speeches:\n",
    "        if 'BÜNDNIS\\xa090/DIE GRÜNEN' in speech['party']:\n",
    "            speech.update({'party': 'BÜNDNIS 90/DIE GRÜNEN'})\n",
    "clean_partyname(speeches)\n",
    "#print(speeches[0])\n",
    "#print(speech['party'])\n",
    "\n",
    "groupbyparty = groupSpeechesByParty(speeches)\n",
    "print(f'alle Reden: {len(speeches)}') # Anzahl aller Reden\n",
    "for ele in groupbyparty:\n",
    "    print(len(groupbyparty[ele]))\n",
    "# Überprüfung mit bspw.: len(groupbyparty['SPD'])"
   ]
  },
  {
   "cell_type": "code",
   "execution_count": 5,
   "id": "f654e5a8",
   "metadata": {},
   "outputs": [],
   "source": [
    "# filter: Kommentare extrahieren\n",
    "def extract_comments(speeches):\n",
    "    regex = \"{(.*?)}\" # hier die genaue Definition der Kommentare vom Parser <<< >\n",
    "    comments = []\n",
    "    modified_speeches = []\n",
    "    for speech in speeches:\n",
    "        text = speech['text']\n",
    "        matches = re.findall(regex,text)\n",
    "        speech['comments'] = matches\n",
    "        modified_speeches.append(speech)\n",
    "    return modified_speeches\n",
    "# Funktionsaufruf: speeches_comments = extract_comments(speeches)\n",
    "speeches_comments = extract_comments(speeches)\n",
    "# Funktionsausgabe: print(speeches_comments[0]['comments'])\n",
    "#                   print(speeches_comments[0]['party'])"
   ]
  },
  {
   "cell_type": "code",
   "execution_count": 6,
   "id": "4ca7c640",
   "metadata": {},
   "outputs": [],
   "source": [
    "# filter: comments per party with contain words and not contain words\n",
    "def filter_with_complex_non_words(search_terms,non_words,speeches):\n",
    "    filtered_speeches = []\n",
    "    for speech in speeches:\n",
    "        for comment in speech['comments']:\n",
    "            if all([term in comment for term in search_terms]) and not any([term in comment for term in non_words]):\n",
    "                filtered_speeches.append(speech)\n",
    "                break\n",
    "    return filtered_speeches\n",
    "# Funktionsaufruf:  specific_and_non_search = filter_with_complex_non_words(['Beifall','CDU'],['Zuruf'],speeches_comments)\n",
    "# Funktionsausgabe: print(specific_and_non_search[0])                               enthält AND enthält nicht\n",
    "#                   print(len(specific_and_non_search))"
   ]
  },
  {
   "cell_type": "code",
   "execution_count": 7,
   "id": "592ab7da",
   "metadata": {},
   "outputs": [
    {
     "name": "stdout",
     "output_type": "stream",
     "text": [
      "Anzahl Kommentare mit Beteiligung von Die Linke:             482\n",
      "Anzahl Kommentare mit Beteiligung von SPD:                   2326\n",
      "Anzahl Kommentare mit Beteiligung von BÜNDNIS 90/DIE GRÜNEN: 1635\n",
      "Anzahl Kommentare mit Beteiligung von CDU/CSU:               1718\n",
      "Anzahl Kommentare mit Beteiligung von FDP:                   2215\n",
      "Anzahl Kommentare mit Beteiligung von AfD:                   1320\n",
      "Anzahl Kommentare mit Beteiligung von Fraktionslos:          0\n"
     ]
    }
   ],
   "source": [
    "specific_and_non_search = filter_with_complex_non_words(['DIE LINKE'],[],speeches_comments)\n",
    "print(f'Anzahl Kommentare mit Beteiligung von Die Linke:             {len(specific_and_non_search)}')\n",
    "specific_and_non_search = filter_with_complex_non_words(['SPD'],[],speeches_comments)\n",
    "print(f'Anzahl Kommentare mit Beteiligung von SPD:                   {len(specific_and_non_search)}')\n",
    "specific_and_non_search = filter_with_complex_non_words(['BÜNDNIS 90/DIE GRÜNEN'],[],speeches_comments)\n",
    "print(f'Anzahl Kommentare mit Beteiligung von BÜNDNIS 90/DIE GRÜNEN: {len(specific_and_non_search)}')\n",
    "specific_and_non_search = filter_with_complex_non_words(['CDU/CSU'],[],speeches_comments)\n",
    "print(f'Anzahl Kommentare mit Beteiligung von CDU/CSU:               {len(specific_and_non_search)}')\n",
    "specific_and_non_search = filter_with_complex_non_words(['FDP'],[],speeches_comments)\n",
    "print(f'Anzahl Kommentare mit Beteiligung von FDP:                   {len(specific_and_non_search)}')\n",
    "specific_and_non_search = filter_with_complex_non_words(['AfD'],[],speeches_comments)\n",
    "print(f'Anzahl Kommentare mit Beteiligung von AfD:                   {len(specific_and_non_search)}')\n",
    "specific_and_non_search = filter_with_complex_non_words(['Fraktionslos'],[],speeches_comments)\n",
    "print(f'Anzahl Kommentare mit Beteiligung von Fraktionslos:          {len(specific_and_non_search)}')"
   ]
  },
  {
   "cell_type": "code",
   "execution_count": null,
   "id": "625c1a11",
   "metadata": {},
   "outputs": [],
   "source": []
  }
 ],
 "metadata": {
  "kernelspec": {
   "display_name": "Python 3 (ipykernel)",
   "language": "python",
   "name": "python3"
  },
  "language_info": {
   "codemirror_mode": {
    "name": "ipython",
    "version": 3
   },
   "file_extension": ".py",
   "mimetype": "text/x-python",
   "name": "python",
   "nbconvert_exporter": "python",
   "pygments_lexer": "ipython3",
   "version": "3.9.7"
  }
 },
 "nbformat": 4,
 "nbformat_minor": 5
}
