{
 "cells": [
  {
   "cell_type": "markdown",
   "metadata": {},
   "source": [
    "# Was man mit relativ wenig schon machen kann: Semantische Beziehungen in den Bundestagsdebatten.\n",
    "\n",
    "In diesem Beispiel für unsere erste Sitzung möchte ich die prinzipielle Idee vorstellen, wie man mit ein wenig Wissen, mit wenig Progarmmierkenntnissen schon einiges machen kann. Technische Hürden abzubauen war ein wesentliches Bestreben in unserem EU-Projekt namens Odycceus (www.odycceus.eu) und der dort entwickelten software platform Penelope (https://penelope.digitalmethods.net/). Viele weitere Projekte (A) tragen zu einer sich entwickelnden, verteilten Softwareölologie bei, die es erlaubt, verschiedene technische Komponenten zu komplexeren Observatorien und Analyseinstrumenten zu verbinden.\n",
    "\n",
    "## Jupyter Notebook\n",
    "\n",
    "Dies ist ein Jupyter Notebook. Es erlaubt einzelne, in Python geschriebene Programmteile als Skripte auszuführen und ist damit für die Entwicklung von Algorithmen und Exploration von Daten sehr gut geeignet.\n",
    "\n",
    "## Wir fangen einfach an!\n",
    "\n",
    "In Python fangen wir eigentlich immer damit an uns aus dem Pool der verfügbaren Dinge zu bedienen. Wir importieren also Bibliotheken (libraries), die wir brauchen werden. \"requests\" brauchen wir um Komponenten über das Web aus Penelope aufzurufen. \"json\" ist ein sehr verbreitetes Datenformat, welches sich in der Regel sehr gut mit den Datenstrukturen in Python verträgt.\n"
   ]
  },
  {
   "cell_type": "code",
   "execution_count": 1,
   "metadata": {},
   "outputs": [],
   "source": [
    "import requests\n",
    "import json"
   ]
  },
  {
   "cell_type": "code",
   "execution_count": null,
   "metadata": {},
   "outputs": [],
   "source": [
    "with open('../bundestagsredeN parser/speeches_20.jsonl', 'r', encoding='utf8') as fp:"
   ]
  },
  {
   "cell_type": "markdown",
   "metadata": {},
   "source": [
    "## Bundestagsreden laden\n",
    "\n",
    "Zunächst einmal wollen wir die Bundestagsdaten in unser Notebook laden. Dazu nutzen wir die Parliament Dataset API aus Penelope (https://penelope.digitalmethods.net/). Dazu schreiben wir ein Funktion (laden), die die API aufruft und uns dann das Resultat in eine Liste packt und zurückgibt. Wir rufen sie nach der Definition mit alleReden = laden() gleich auf.\n",
    "\n",
    "Das dauert eine ganze Weile, weil wir die gesamten Daten erst einmal einlesen. "
   ]
  },
  {
   "cell_type": "code",
   "execution_count": 2,
   "metadata": {},
   "outputs": [
    {
     "name": "stdout",
     "output_type": "stream",
     "text": [
      "The history saving thread hit an unexpected error (OperationalError('database is locked')).History will not be written to the database.\n"
     ]
    }
   ],
   "source": [
    "# Funktion zum Laden aller Reden\n",
    "def laden():\n",
    "    # Aufruf der Parliament Dataset API aus Penelope\n",
    "    result = requests.get('https://penelope.vub.be/parliament-data/get-speeches/deu/2016-01-01/2021-01-01/%20/1000000000000')\n",
    "    # Hier packen wir alles in eine Liste ...\n",
    "    all_speeches = []\n",
    "    for speech in result.json()[\"speeches\"]:\n",
    "        all_speeches.append(speech)\n",
    "    # ... die wir hier bezüglich des Datums sortieren. \n",
    "    all_speeches.sort(key = lambda x:x['date'])\n",
    "\n",
    "    return all_speeches\n",
    "\n",
    "# Hier wird die Funktion aufgerufen.\n",
    "alleReden = laden()"
   ]
  },
  {
   "cell_type": "code",
   "execution_count": 3,
   "metadata": {},
   "outputs": [
    {
     "data": {
      "text/plain": [
       "17577"
      ]
     },
     "execution_count": 3,
     "metadata": {},
     "output_type": "execute_result"
    }
   ],
   "source": [
    "len(alleReden)"
   ]
  },
  {
   "cell_type": "code",
   "execution_count": null,
   "metadata": {},
   "outputs": [],
   "source": []
  },
  {
   "cell_type": "code",
   "execution_count": null,
   "metadata": {},
   "outputs": [],
   "source": []
  },
  {
   "cell_type": "code",
   "execution_count": 9,
   "metadata": {},
   "outputs": [
    {
     "data": {
      "text/plain": [
       "30"
      ]
     },
     "execution_count": 9,
     "metadata": {},
     "output_type": "execute_result"
    }
   ],
   "source": [
    "untermenge = alleReden[0:30]\n",
    "len(untermenge)"
   ]
  },
  {
   "cell_type": "code",
   "execution_count": 14,
   "metadata": {},
   "outputs": [],
   "source": [
    "# Wir schauen, wie lange die Liste ist\n",
    "# len(untermenge)"
   ]
  },
  {
   "cell_type": "code",
   "execution_count": 20,
   "metadata": {},
   "outputs": [
    {
     "data": {
      "text/plain": [
       "'Alterspräsident Dr. Hermann Otto Solms'"
      ]
     },
     "execution_count": 20,
     "metadata": {},
     "output_type": "execute_result"
    }
   ],
   "source": [
    "untermenge[1]['name']\n"
   ]
  },
  {
   "cell_type": "code",
   "execution_count": 41,
   "metadata": {},
   "outputs": [
    {
     "name": "stdout",
     "output_type": "stream",
     "text": [
      "Dr. Wolfgang Schäuble\n",
      "Alterspräsident Dr. Hermann Otto Solms\n",
      "Carsten Schneider\n",
      "Bernd Baumann\n",
      "Jan Korte\n",
      "Michael Grosse-Brömer\n",
      "Marco Buschmann\n",
      "Volker Kauder\n",
      "Alterspräsident Dr. Hermann Otto Solms\n",
      "Dr. Wolfgang Schäuble\n",
      "Dr. Wolfgang Schäuble\n",
      "Britta Haßelmann\n",
      "Wolfgang Kubicki\n",
      "Thomas Oppermann\n",
      "Hans-Peter Friedrich\n",
      "Petra Pau\n",
      "Dr. Wolfgang Schäuble\n",
      "Claudia Roth\n",
      "Michael Grosse-Brömer\n",
      "Carsten Schneider\n",
      "Bernd Baumann\n",
      "Marco Buschmann\n",
      "Britta Haßelmann\n",
      "Jan Korte\n",
      "Wolfgang Hellmich\n",
      "Ursula Leyen\n",
      "Jan Ralf Nolte\n",
      "Alexander S. Neu\n",
      "Tobias Lindner\n",
      "Alexander Graf Lambsdorff\n"
     ]
    }
   ],
   "source": [
    "for rede in untermenge:\n",
    "    print(rede['name'])\n",
    "    \n",
    "#print('Ende')"
   ]
  },
  {
   "cell_type": "code",
   "execution_count": null,
   "metadata": {},
   "outputs": [],
   "source": [
    "#ich bin hier"
   ]
  },
  {
   "cell_type": "code",
   "execution_count": 40,
   "metadata": {},
   "outputs": [
    {
     "name": "stdout",
     "output_type": "stream",
     "text": [
      "Dr. Wolfgang Schäuble\n",
      "Dr. Wolfgang Schäuble\n",
      "Dr. Wolfgang Schäuble\n",
      "Dr. Wolfgang Schäuble\n"
     ]
    }
   ],
   "source": [
    "for rede in untermenge:\n",
    "    if \"Wolfgang Schäuble\" in rede['name']:\n",
    "        rede.update({'name': 'Dr. Wolfgang Schäuble' })\n",
    "        print(rede['name'])"
   ]
  },
  {
   "cell_type": "code",
   "execution_count": 55,
   "metadata": {},
   "outputs": [
    {
     "name": "stdout",
     "output_type": "stream",
     "text": [
      "7\n",
      "['Bundespräsident!', 'Bundespräsident!', 'Bundestagspräsidenten', 'Alterspräsident,', 'Vizepräsidenten', 'Vizepräsidentinnen,', 'Bundestagspräsident.']\n"
     ]
    }
   ],
   "source": [
    "\n",
    "zähler = 0 \n",
    "worte = []\n",
    "\n",
    "for word in untermenge[0]['text'].split():\n",
    "    if 'präsident' in word:\n",
    "        #print(word)\n",
    "        zähler = zähler + 1\n",
    "        worte.append(word)\n",
    "\n",
    "print(zähler) \n",
    "print(worte)\n",
    "\n"
   ]
  },
  {
   "cell_type": "code",
   "execution_count": 57,
   "metadata": {},
   "outputs": [
    {
     "name": "stdout",
     "output_type": "stream",
     "text": [
      "[('und', 72), ('die', 60), ('der', 49), ('in', 45), ('wir', 41), ('das', 32), ('es', 21), ('auch', 20), ('nicht', 20), ('dass', 20), ('zu', 19), ('wie', 19), ('mit', 18), ('den', 18), ('im', 18), ('als', 17), ('ist', 15), ('Ich', 15), ('auf', 15), ('uns', 15), ('immer', 13), ('–', 12), ('für', 12), ('dem', 12), ('eine', 12), ('hat', 11), ('Kolleginnen', 10), ('ich', 10), ('von', 10), ('ein', 10), ('sich', 10), ('aus', 9), ('des', 9), ('hier', 9), ('Parlament', 8), ('unserer', 8), ('müssen', 8), ('sind', 8), ('Das', 8), ('an', 8), ('er', 7), ('was', 7), ('Kollegen,', 7), ('Die', 7), ('nur', 7), ('Welt', 7), ('war', 6), ('sein', 6), ('so', 6), ('werden', 6), ('Wir', 6), ('übrigens', 6), ('wieder', 6), ('noch', 5), ('sehr', 5), ('zum', 5), ('Bundestag', 5), ('dieses', 5), ('liebe', 5), ('einer', 5), ('einem', 5), ('diese', 5), ('über', 5), ('Streit', 5), ('unsere', 5), ('durch', 5), ('geht', 5), ('Es', 5), ('Ort', 5), ('alle', 5), ('oder', 5), ('also', 4), ('danke', 4), ('Sie', 4), ('Deutschen', 4), ('Abgeordneter', 4), ('stellvertretend', 4), ('wenn', 4), ('diesem', 4), ('Gesellschaft', 4), ('dann', 4), ('wird', 4), ('In', 4), ('demokratischen', 4), ('heute', 4), ('können', 4), ('Europa', 4), ('unseren', 4), ('Menschen', 4), ('Bürgerinnen', 4), ('24.', 4), ('Oktober', 4), ('zur', 4), ('Herr', 3), ('einmal', 3), ('habe', 3), ('danken.', 3), ('Mit', 3), ('parlamentarischen', 3), ('Und', 3), ('Er', 3), ('bei', 3), ('werden.', 3), ('meine', 3), ('Jahre', 3), ('freue', 3), ('mich', 3), ('neue', 3), ('um', 3), ('nicht,', 3), ('Da', 3), ('wirklich', 3), ('Jahren', 3), ('haben,', 3), ('sind.', 3), ('sondern', 3), ('Abgeordnete', 3), ('viele', 3), ('Zusammenhänge', 3), ('nach', 3), ('gesellschaftlichen', 3), ('politische', 3), ('vor', 3), ('etwas', 3), ('mehr', 3), ('kann', 3), ('schon', 3), ('fühlen', 3), ('besser', 3), ('Entscheidungen', 3), ('Prinzip', 3), ('anderen', 3), ('da', 3), ('aber', 3), ('Mehrheit', 3), ('Land', 3), ('Bürger', 3), ('man', 3), ('–,', 3), ('miteinander', 3), ('haben', 3), ('zeigen,', 3), ('wird.', 3), ('zugleich', 3), ('all', 3), ('am', 3), ('dieser', 3), ('Erwartungen', 3), ('Bundespräsident!', 2), ('Kollegen!', 2), ('Anfang', 2), ('Liebe', 2), ('verehrten', 2), ('Damen', 2), ('mir', 2), ('Wahl', 2), ('seiner', 2), ('Aufgabe,', 2), ('diesen', 2), ('großer', 2), ('Herausforderungen', 2), ('unser', 2), ('möchte', 2), ('ausgeschiedenen', 2), ('Teil', 2), ('beiden', 2), ('Präsidium', 2), ('Vor', 2), ('allen', 2), ('Norbert', 2), ('Lammert', 2), ('hatten', 2), ('leisten', 2), ('kann,', 2), ('Haus', 2), ('Übrigen', 2), ('erlebt:', 2), ('wurde', 2), ('seit', 2), ('Mitte', 2), ('bis', 2), ('Erregung', 2), ('großen', 2), ('Sieben', 2), ('Streit.', 2), ('Auch', 2), ('weil', 2), ('neu', 2), ('sind,', 2), ('kommenden', 2), ('führen', 2), ('ihrer', 2), ('gegen', 2), ('aller', 2), ('sechs', 2), ('Fraktionen', 2), ('gab', 2), ('Veränderungen', 2), ('Globalisierung', 2), ('Gewissheiten', 2), ('Bedürfnis', 2), ('Kriege', 2), ('All', 2), ('vielerorts', 2), ('Ordnung,', 2), ('Verfahren', 2), ('Probleme', 2), ('gibt', 2), ('Freiheit', 2), ('Deswegen', 2), ('kommt', 2), ('Zukunft', 2), ('Deutschland', 2), ('Mitbürger', 2), ('Wahlkreis', 2), ('manchmal', 2), ('Arbeit', 2), ('Wirklichkeit', 2), ('Vielzahl', 2), ('unseres', 2), ('Grundgesetzes', 2), ('Dazu', 2), ('Realität', 2), ('gelingt,', 2), ('Handle', 2), ('so,', 2), ('gerade', 2), ('Interessen', 2), ('darf', 2), ('ist,', 2), ('parlamentarische', 2), ('streiten', 2), ('füreinander', 2), ('Respekt', 2), ('können.', 2), ('vergangenen', 2), ('unserem', 2), ('Miteinander.', 2), ('will', 2), ('Zeiten', 2), ('hat,', 2), ('geschrieben', 2), ('sollten', 2), ('ja', 2), ('tun.', 2), ('ohne', 2), ('gewählt.', 2), ('Aber', 2), ('dazu', 2), ('entscheiden.', 2), ('nationale', 2), ('doch', 2), ('Parlamentarismus', 2), ('überall', 2), ('Welt,', 2), ('heißt', 2), ('Chance,', 2), ('Sinne', 2), ('Vereinten', 2), ('zeigt,', 2), ('Krieg', 2), ('das,', 2), ('erinnert', 2), ('nichts', 2), ('Aufgeben', 2), ('Weg', 2), ('Einordnung', 2), ('bleiben,', 2), ('Verehrte', 1), ('Muss', 1), ('selber', 1), ('drücken?', 1), ('Aller', 1), ('schwer;', 1), ('fangen', 1), ('vorne', 1), ('an.', 1), ('Meine', 1), ('Herren!', 1), ('zunächst', 1), ('Ihnen', 1), ('Vertrauen,', 1), ('Bundestagspräsidenten', 1), ('entgegenbringen.', 1), ('Hermann', 1), ('Otto', 1), ('Solms.', 1), ('langen', 1), ('Erfahrung', 1), ('übernommene', 1), ('19.', 1), ('dienstältester', 1), ('eröffnen,', 1), ('Umsicht', 1), ('wahrgenommen.', 1), ('klar', 1), ('umrissen.', 1), ('vielen', 1), ('Kollegen', 1), ('schauen', 1), ('jahrzehntelanges', 1), ('parlamentarisches', 1), ('Wirken', 1), ('zurück.', 1), ('nenne', 1), ('Heinz', 1), ('Riesenhuber.', 1), ('gleich', 1), ('zweimal', 1), ('Alterspräsident,', 1), ('konstituierenden', 1), ('Sitzungen', 1), ('zurückliegenden', 1), ('Legislaturperioden.', 1), ('18.', 1), ('Bundestages', 1), ('Vizepräsidenten', 1), ('Edelgard', 1), ('Bulmahn', 1), ('Johannes', 1), ('Singhammer.', 1), ('natürlich', 1), ('Vizepräsidentinnen,', 1), ('nächsten', 1), ('vermutlich', 1), ('angehören', 1), ('Damit', 1), ('nehme', 1), ('jetzt', 1), ('vorweg;', 1), ('bisschen', 1), ('schwierig.', 1), ('Dingen', 1), ('aber,', 1), ('Herren,', 1), ('zwölf', 1), ('großartiger', 1), ('Bundestagspräsident.', 1), ('Lieber', 1), ('Lammert,', 1), ('ganz', 1), ('besondere', 1), ('Begabung', 1), ('Redner,', 1), ('klare', 1), ('Vorstellungen', 1), ('davon,', 1), ('soll', 1), ('denn', 1), ('will.', 1), ('Aufgabe.', 1), ('Im', 1), ('schlägt', 1), ('Herz', 1), ('Demokratie.', 1), ('Zusammenarbeit', 1), ('Ihnen,', 1), ('Mitarbeiterinnen', 1), ('Mitarbeitern,', 1), ('dienen.', 1), ('bin', 1), ('Parlamentarier', 1), ('Leidenschaft.', 1), ('Abgeordnetentätigkeit', 1), ('hohe', 1), ('Verantwortung', 1), ('Mandat', 1), ('demokratische', 1), ('Legitimation', 1), ('verstanden.', 1), ('beides', 1), ('Opposition', 1), ('Regierungsfraktion.', 1), ('Zunächst', 1), ('zehn', 1), ('Opposition.', 1), ('Als', 1), ('1972', 1), ('ersten', 1), ('Mal', 1), ('saß,', 1), ('Ostverträge', 1), ('gestritten', 1), ('leidenschaftlichen', 1), ('Debatten,', 1), ('damals', 1), ('Bonn.', 1), ('Stimmung', 1), ('aufgeladen.', 1), ('Überhaupt', 1), ('prägte', 1), ('seinerzeit', 1), ('extrem', 1), ('spannungsvolle', 1), ('Atmosphäre', 1), ('Land.', 1), ('Bundesrepublik', 1), ('hatte', 1), ('60er-Jahre', 1), ('dahin', 1), ('gekannten', 1), ('Maße', 1), ('politisiert,', 1), ('mobilisiert', 1), ('polarisiert.', 1), ('Geschadet', 1), ('genauso', 1), ('wenig', 1), ('80er-Jahre.', 1), ('Regierungsfraktion,', 1), ('etwa', 1), ('NATO-Doppelbeschluss', 1), ('ging.', 1), ('später', 1), ('fiel', 1), ('Mauer.', 1), ('Veränderung', 1), ('immer,', 1), ('vieles', 1), ('Rückschau', 1), ('anders', 1), ('bewertet', 1), ('mitten', 1), ('deshalb,', 1), ('eigenem', 1), ('Erleben', 1), ('weiß,', 1), ('Krisengefühle', 1), ('sehe', 1), ('Gelassenheit', 1), ('Auseinandersetzungen', 1), ('entgegen,', 1), ('Gesellschaft,', 1), ('heraus', 1), ('gewählt', 1), ('Denn', 1), ('ihrem', 1), ('Grundkonsens,', 1), ('Vielheit', 1), ('Verschiedenheit', 1), ('repräsentieren.', 1), ('dürfen', 1), ('andere', 1), ('ausspielen.', 1), ('Gemeinwesen', 1), ('kein', 1), ('Thema', 1), ('wert,', 1), ('Gemeinsame', 1), ('Vergessenheit', 1), ('geraten', 1), ('lassen.', 1), ('289', 1), ('ziehen', 1), ('erstmals', 1), ('ins', 1), ('gut', 1), ('40', 1), ('Prozent', 1), ('Mitglieder', 1), ('Hauses.', 1), ('Selten', 1), ('unterschied', 1), ('seinem', 1), ('Vorgänger', 1), ('dieser.', 1), ('Parteien', 1), ('60', 1), ('mehr.', 1), ('Diese', 1), ('Konstellation', 1), ('spiegelt', 1), ('wider,', 1), ('Verunsicherungen', 1), ('wachsen', 1), ('angesichts', 1), ('raschen', 1), ('Wandels', 1), ('Digitalisierung.', 1), ('lösen', 1), ('auf,', 1), ('Zugehörigkeiten', 1), ('brechen', 1), ('entstehen.', 1), ('Alte', 1), ('Identitäten', 1), ('infrage', 1), ('gestellt,', 1), ('neue,', 1), ('vermeintliche', 1), ('Stellung', 1), ('gebracht', 1), ('zunehmende', 1), ('Sorgen', 1), ('Zweifel.', 1), ('menschliche', 1), ('Geborgenheit', 1), ('vertrauten', 1), ('Lebensräumen', 1), ('trifft', 1), ('zunehmend', 1), ('ungemütlich', 1), ('empfundene', 1), ('voller', 1), ('Konflikte,', 1), ('Krisen,', 1), ('medial', 1), ('präsentem', 1), ('Schrecken.', 1), ('Hintergrund', 1), ('verschärft', 1), ('Tonlage', 1), ('Debatten.', 1), ('beobachten.', 1), ('ungeheuer', 1), ('schnellen', 1), ('Wandel,', 1), ('erleben,', 1), ('Fragmentierung', 1), ('Debatten', 1), ('Aufmerksamkeiten', 1), ('einher.', 1), ('stellt', 1), ('Institutionen', 1), ('große', 1), ('Herausforderungen.', 1), ('Jedem', 1), ('erscheint', 1), ('anderes', 1), ('wichtig.', 1), ('Jeder', 1), ('scheint', 1), ('gelegentlich', 1), ('seine', 1), ('eigenen', 1), ('wahrzunehmen.', 1), ('Thema.', 1), ('Überhandnehmen', 1), ('Möglichkeiten', 1), ('Optionen', 1), ('überfordern.', 1), ('Über', 1), ('„Unbehagen', 1), ('Kapitalismus“', 1), ('Uwe', 1), ('Jean', 1), ('Heuser', 1), ('2000', 1), ('geschrieben.', 1), ('Wie', 1), ('alles', 1), ('Übermaß', 1), ('gefährdet.', 1), ('richtige', 1), ('Balance', 1), ('Umgang', 1), ('lernen.', 1), ('Hinzu', 1), ('Wandel', 1), ('Medien', 1), ('Nutzung', 1), ('Informationstechnologie.', 1), ('Zersplitterung', 1), ('Teilöffentlichkeiten', 1), ('führt', 1), ('dazu,', 1), ('erkennbar', 1), ('gemeinsame', 1), ('Sicht', 1), ('Prioritäten', 1), ('verloren', 1), ('geht.', 1), ('Bündelung,', 1), ('Fokussierung,', 1), ('Konzentration', 1), ('wichtigen', 1), ('Fragen', 1), ('sein.', 1), ('Abgeordnete,', 1), ('fast', 1), ('Art', 1), ('Ombudsmann.', 1), ('Begegnungen', 1), ('vermitteln', 1), ('Ebene', 1), ('Bundespolitik.', 1), ('Unsere', 1), ('Erfahrungen', 1), ('Qualifikationen', 1), ('beruflicher,', 1), ('sozialer,', 1), ('ehrenamtlicher', 1), ('Tätigkeit', 1), ('bildet', 1), ('ganze', 1), ('Menge', 1), ('Expertise.', 1), ('Vielleicht', 1), ('wissen', 1), ('Verwurzelung', 1), ('Forschungsinstitute,', 1), ('bewegt.', 1), ('Zugleich', 1), ('alle,', 1), ('Artikel', 1), ('38', 1), ('sagt,', 1), ('ganzen', 1), ('Volkes.', 1), ('Interessen,', 1), ('Meinungen,', 1), ('Befindlichkeiten', 1), ('Begrenztheiten', 1), ('Endlichkeit', 1), ('zusammenbringen,', 1), ('zwingt', 1), ('Kompromissen', 1), ('Mehrheit.', 1), ('Je', 1), ('umso', 1), ('weniger', 1), ('zurückgelassen.', 1), ('Immanuel', 1), ('Kant,', 1), ('Gedanken', 1), ('Rechtsstaat', 1), ('Republik', 1), ('verdanken,', 1), ('gesagt', 1), ('drücke', 1), ('halb', 1), ('meinen', 1), ('Worten', 1), ('–:', 1), ('stets', 1), ('Deiner', 1), ('Handlung', 1), ('Handlungen', 1), ('könnte,', 1), ('allgemeines', 1), ('Gesetz', 1), ('könnte.', 1), ('Also:', 1), ('menschliches', 1), ('Miteinander', 1), ('zusammenbräche,', 1), ('handelten', 1), ('Du', 1), ('selbst.', 1), ('Das,', 1), ('verehrte', 1), ('gilt', 1), ('Parlamentsabgeordnete,', 1), ('gute', 1), ('Maxime', 1), ('repräsentatives', 1), ('System.', 1), ('Vertretung', 1), ('partikularer', 1), ('darf,', 1), ('alles,', 1), ('exzessiv', 1), ('Andere', 1), ('Demokratien', 1), ('weit', 1), ('abschüssige', 1), ('Bahn', 1), ('geraten.', 1), ('Was', 1), ('wohl', 1), ('muss,', 1), ('Prozess', 1), ('Hause', 1), ('sichtbar', 1), ('macht,', 1), ('schwierig', 1), ('sowohl', 1), ('Durchsetzung', 1), ('Ausgleich', 1), ('liberalen', 1), ('Demokratie', 1), ('sein;', 1), ('Den', 1), ('führen,', 1), ('aushalten,', 1), ('ertragen.', 1), ('Demokratischer', 1), ('notwendig,', 1), ('Regeln,', 1), ('Bereitschaft', 1), ('verbunden,', 1), ('achten', 1), ('zustandegekommenen', 1), ('Mehrheitsentscheidungen', 1), ('illegitim', 1), ('verräterisch', 1), ('sonst', 1), ('denunzieren,', 1), ('Beschlüsse', 1), ('akzeptieren.', 1), ('Kultur.', 1), ('Stil', 1), ('an,', 1), ('signalisieren', 1), ('Monaten', 1), ('Töne', 1), ('Verächtlichmachung', 1), ('Erniedrigung.', 1), ('finde,', 1), ('keinen', 1), ('Platz', 1), ('zivilisierten', 1), ('überwältigende', 1), ('zivilisiertes', 1), ('aufgewühlten', 1), ('wächst', 1), ('Formen', 1), ('Verhaltens,', 1), ('lange', 1), ('geredet', 1), ('sie', 1), ('selbstverständlich', 1), ('ansah.', 1), ('Anstand', 1), ('gesprochen', 1), ('sogar', 1), ('Bücher', 1), ('darüber', 1), ('kommen', 1), ('Bestsellerlisten', 1), ('Frage', 1), ('gesprochen,', 1), ('umgehen', 1), ('sollen:', 1), ('jeden', 1), ('persönlichen', 1), ('Spielraum', 1), ('maximal', 1), ('ausnutzen,', 1), ('offenes', 1), ('Ohr', 1), ('Argumente', 1), ('anderen,', 1), ('ihn', 1), ('anerkennen', 1), ('Meinung.', 1), ('Fairness.', 1), ('Hundertprozentige', 1), ('Gerechtigkeit', 1), ('Fairness', 1), ('möglich', 1), ('Sinne,', 1), ('möglichst', 1), ('angesprochen', 1), ('ausgeschlossen', 1), ('bleiben.', 1), ('Art,', 1), ('reden,', 1), ('vorbildlich', 1), ('gesellschaftliche', 1), ('Debatte.', 1), ('Prügeln', 1), ('Parlamenten', 1), ('bisweilen', 1), ('geschieht.', 1), ('verbal', 1), ('vielmehr', 1), ('unanständig', 1), ('schafft,', 1), ('wozu', 1), ('ist:', 1), ('herbeizuführen,', 1), ('legitim', 1), ('empfunden', 1), ('besteht', 1), ('Abgeordneten,', 1), ('Abgeordneten', 1), ('„abgehoben“,', 1), ('gern', 1), ('oberflächlich', 1), ('dahingeredet', 1), ('niemand', 1), ('vertritt', 1), ('alleine', 1), ('Volk.', 1), ('So', 1), ('Volkswille', 1), ('entsteht', 1), ('überhaupt', 1), ('erst', 1), ('Entscheidungen.', 1), ('Pflicht,', 1), ('wertzuhalten,', 1), ('nachvollziehbaren', 1), ('sachlichen', 1), ('emotionalen', 1), ('Streits', 1), ('ja,', 1), ('Gefühle', 1), ('gehören', 1), ('Mitbürgerinnen', 1), ('Dinge,', 1), ('angehen,', 1), ('argumentativ', 1), ('gegeneinander', 1), ('auszumachen', 1), ('Vertrauen', 1), ('repräsentative', 1), ('stärken.', 1), ('keine', 1), ('Frage.', 1), ('europäischen', 1), ('westlichen', 1), ('Werte,', 1), ('Grundlage', 1), ('verfassungsmäßigen', 1), ('Ordnung', 1), ('wirken', 1), ('fragil', 1), ('erfreuen', 1), ('weltweit', 1), ('Attraktivität.', 1), ('Freiheit,', 1), ('Rechtsstaatlichkeit,', 1), ('sozialer', 1), ('Zusammenhalt,', 1), ('ökologische', 1), ('Nachhaltigkeit:', 1), ('Ohne', 1), ('nicht.', 1), ('Nach', 1), ('ernsthaftem', 1), ('Meinungen', 1), ('treffen:', 1), ('befriedende', 1), ('Wirkung,', 1), ('brauchen', 1), ('wo', 1), ('Anspruch', 1), ('wirtschaftliche', 1), ('Teilhabe,', 1), ('Mitsprache', 1), ('erheben.', 1), ('zunehmender', 1), ('auch,', 1), ('Kompliziertheit', 1), ('auszuhalten.', 1), ('nähert,', 1), ('taugt,', 1), ('funktioniert', 1), ('Lösungen', 1), ('fähig', 1), ('ist.', 1), ('elegant', 1), ('Tage,', 1), ('denen', 1), ('sprach,', 1), ('danach', 1), ('befragt,', 1), ('ihnen', 1), ('Jahrhunderten', 1), ('geschah', 1), ('erinnern', 1), ('sollte.', 1), ('kleinen', 1), ('Hommage', 1), ('Um', 1), ('chronologisch', 1), ('rückwärts', 1), ('machen:', 1), ('Dieser', 1), ('Tag', 1), ('Nationen.', 1), ('1945', 1), ('trat', 1), ('Charta', 1), ('Nationen', 1), ('Kraft.', 1), ('Am', 1), ('1929', 1), ('endete', 1), ('Schwarzen', 1), ('Donnerstag', 1), ('jahrelange', 1), ('Hausse', 1), ('New', 1), ('Yorker', 1), ('Börse,', 1), ('begann', 1), ('Weltwirtschaftskrise', 1), ('ihren', 1), ('Folgen.', 1), ('1648', 1), ('Westfälische', 1), ('Frieden', 1), ('Beendigung', 1), ('Dreißigjährigen', 1), ('Krieges', 1), ('unterzeichnet,', 1), ('eines', 1), ('Krieges,', 1), ('dessen', 1), ('Beginn', 1), ('kommendes', 1), ('Jahr', 1), ('erinnern.', 1), ('Herfried', 1), ('Münkler', 1), ('ihm', 1), ('Opus', 1), ('Magnum', 1), ('gewidmet,', 1), ('längste', 1), ('deutschem', 1), ('Boden', 1), ('erste', 1), ('vollen', 1), ('europäische', 1), ('späteren', 1), ('Konflikte', 1), ('Gegenwart', 1), ('verstehen', 1), ('lässt.', 1), ('Wer', 1), ('glaubt,', 1), ('lese', 1), ('„Simplicissimus“', 1), ('Grimmelshausen', 1), ('nach.', 1), ('meinem', 1), ('worden.', 1), ('Charakter', 1), ('Aufgaben,', 1), ('liegen.', 1), ('daran,', 1), ('Entscheidungen,', 1), ('treffen,', 1), ('weltpolitische', 1), ('einzubetten', 1), ('haben.', 1), ('Globalisierung:', 1), ('Rahmen', 1), ('debattieren', 1), ('nationaler', 1), ('Selbstbestimmung', 1), ('tun,', 1), ('gar', 1), ('Anspruchs,', 1), ('dies', 1), ('Souveränität', 1), ('deutschen', 1), ('Volkes', 1), ('greifbar', 1), ('Vielmehr', 1), ('beschreibt', 1), ('gerecht', 1), ('müssen,', 1), ('selbstbewussten', 1), ('weitere', 1), ('finden,', 1), ('Ziel,', 1), ('beizutragen,', 1), ('gestalten', 1), ('Dass', 1), ('solcher', 1), ('Öffnung', 1), ('selbst', 1), ('erkennen,', 1), ('irgendwie', 1), ('fühlen,', 1), ('Guten,', 1), ('Beispiel', 1), ('Schlechten,', 1), ('Schicksalsgemeinschaft', 1), ('abstreifen', 1), ('neues', 1), ('Gutes', 1), ('entwickeln', 1), ('bemühen', 1), ('abzuschotten', 1), ('bequem', 1), ('rauszuhalten,', 1), ('darum,', 1), ('es.', 1), ('Präambel', 1), ('1949,', 1), ('1990', 1), ('wiedervereinten', 1), ('fortgeschrieben', 1), ('es:', 1), ('Dies', 1), ('hier,', 1), ('Ort,', 1), ('Willen', 1), ('Gestalt', 1), ('geben.', 1), ('Dafür', 1), ('gewachsene', 1), ('Zahl', 1), ('Bürgern', 1), ('Der', 1), ('Trend', 1), ('höheren', 1), ('Wahlbeteiligung', 1), ('letzten', 1), ('Landtagswahlen', 1), ('Bund', 1), ('fortgesetzt.', 1), ('denke,', 1), ('gestiegen', 1), ('Wenn', 1), ('einigermaßen', 1), ('erfüllen,', 1), ('einen', 1), ('Dienst', 1), ('erweisen.', 1), ('Steigende', 1), ('Wahrheit', 1), ('gehört,', 1), ('neuer', 1), ('Akteure', 1), ('dichterer', 1), ('Verflechtungen', 1), ('komplizierter', 1), ('Handlungsspielräume', 1), ('wachsen.', 1), ('Zwischen', 1), ('beidem', 1), ('finden.', 1), ('vier', 1), ('Jahren.', 1), ('Herzlichen', 1), ('Dank.', 1)]\n"
     ]
    }
   ],
   "source": [
    "import collections\n",
    "wordlist = untermenge[0]['text'].split()\n",
    "zähler = collections.Counter(wordlist).most_common()\n",
    "print(zähler)\n",
    "\n"
   ]
  },
  {
   "cell_type": "code",
   "execution_count": null,
   "metadata": {},
   "outputs": [],
   "source": []
  },
  {
   "cell_type": "markdown",
   "metadata": {},
   "source": [
    "## Stichwort suchen\n",
    "\n",
    "Wir haben alle Reden nun in einer Liste und schreiben hier eine Funktion, um nur diejenigen zu bekommen, die ein bestimmtes Wort enthalten. Wie eben auch, definieren wir zunächst die Funktion und es folgt der Aufruf."
   ]
  },
  {
   "cell_type": "code",
   "execution_count": null,
   "metadata": {},
   "outputs": [],
   "source": [
    "def suche(such_term):\n",
    "    speeches = []\n",
    "    for speech in alleReden:\n",
    "        if such_term in speech['text'] :\n",
    "            speeches.append(speech)\n",
    "    speeches.sort(key = lambda x:x['date']) \n",
    "    return speeches\n",
    "\n",
    "Stichwort = \"gendern\"\n",
    "Reden = []\n",
    "Reden = suche(Stichwort)"
   ]
  },
  {
   "cell_type": "markdown",
   "metadata": {},
   "source": [
    "Schauen wir doch mal, wie viele Reden das sind ..."
   ]
  },
  {
   "cell_type": "code",
   "execution_count": null,
   "metadata": {},
   "outputs": [],
   "source": [
    "len(Reden)"
   ]
  },
  {
   "cell_type": "markdown",
   "metadata": {},
   "source": [
    "... und was drin ist:"
   ]
  },
  {
   "cell_type": "code",
   "execution_count": null,
   "metadata": {},
   "outputs": [],
   "source": [
    "Reden"
   ]
  },
  {
   "cell_type": "markdown",
   "metadata": {},
   "source": [
    "# Ziel:\n",
    "\n",
    "## <font color='red'>Es wäre super, wenn nächste Woche alle bis hier hin kommen und die Daten in ein Notebook laden können!</font>\n"
   ]
  },
  {
   "cell_type": "markdown",
   "metadata": {},
   "source": [
    "# Semantische Netzwerke von Bundestagsreden\n",
    "\n",
    "Semantische Netzwerke (A) können diesen groben Überblick ein wenig schärfen, denn sie geben einen Einblick in die semantischen Beziehungen zwischen den Reden. In den meisten Fällen (und so auch hier) wird die Ähnlichkeit zwischen zwei Reden definiert über die Anzahl der Worte, die in beiden Reden vorkommen (A). Hier generieren wir zunächst ein Netzwerk, in dem die Knoten, einzelne Reden sind, und die Kanten die Anzahl der geteilten Worte enthalten.\n",
    "\n",
    "## StatementGraphGenerator\n",
    "\n",
    "Genau das macht die entsprechende Penelope Komponente StatementGraphGenerator, die auf https://penelope.digitalmethods.net/ unter Network Tools gelistet ist. Wir müssen zunächst eine Transformation durchführen, da die Penelope-Komponente, die wir aufrufen wollen, nicht alle Informationen benötigt/versteht (A). "
   ]
  },
  {
   "cell_type": "code",
   "execution_count": null,
   "metadata": {},
   "outputs": [],
   "source": [
    "input_list = []\n",
    "for rede in Reden:\n",
    "            input_dict = {\n",
    "                'name'  : rede[\"name\"],\n",
    "                'party' : rede[\"party\"],\n",
    "                'text'  : rede[\"text\"]\n",
    "            }\n",
    "            input_list.append(input_dict)    "
   ]
  },
  {
   "cell_type": "markdown",
   "metadata": {},
   "source": [
    "Diese neue Liste wird nun dem StatementGraphGenerator aus Penelope übergeben. Außerdem sagen wir der Komponente, dass es sich um Deutsche Sprache handelt (\"de\"), dass wir nur Nomen berücksichtigen wollen und, dass wir gewisse Worte (z.B. die immer gleiche Anrede am Anfang) eigentlich nicht berücksichtigen wollen. Auch das Stichwort ist ja in allen Reden enthalten und also für diese Analyse nicht interessant.\n",
    "\n",
    "Je nach Anzahl der Reden und Schnelligkeit der Internetverbindung, kann dieser Aufruf einige Zeit in Anspruch nehmen."
   ]
  },
  {
   "cell_type": "code",
   "execution_count": null,
   "metadata": {},
   "outputs": [],
   "source": [
    "json = {\n",
    "          \"data\": input_list,\n",
    "          \"language\": \"de\",\n",
    "          \"relevant_pos\": [\"NOUN\",\"PROPN\"],\n",
    "          \"ignore\": [Stichwort,'Herr','Frau','Präsident','Präsidentin', 'Damen', 'Herren']\n",
    "}\n",
    "\n",
    "result = requests.post('https://penelope.vub.be/network-components/statementgraphgenerator', json=json)\n",
    "result"
   ]
  },
  {
   "cell_type": "markdown",
   "metadata": {},
   "source": [
    "Zum Schluss übergeben wird das Resultat und schauen uns einmal an, wie viele Knoten und Kanten das enthält."
   ]
  },
  {
   "cell_type": "code",
   "execution_count": null,
   "metadata": {},
   "outputs": [],
   "source": [
    "graph = result.json()\n",
    "print(len(graph['links']),\n",
    "len(graph['nodes']))\n",
    "graph"
   ]
  },
  {
   "cell_type": "markdown",
   "metadata": {},
   "source": [
    "## Statistischer Überblick über die Kanten\n",
    "\n",
    "Der StatementGraphGenerator ist eigentlich für kürzere Aussagen optimiert, wo ein geteiltes Wort sehr spezifische Informationen enthalten kann. Für längere Reden ist es sehr wahrscheinlich, dass es Worte gibt, die von allen Rednern verwendet worden, was dazu führt, dass Kanten von jedem zu jedem entstehen. Daher sind andere Definitionen semantischer Ähnlichkeit besser geeignet und könnten in den StatementGraphGenerator integriert werden (A). Wir wollen uns einen Überblick verschaffen.\n",
    "\n",
    "Dazu importieren wir eine gängige Python Library (pyplot) für Datenvisualisierung. Wir extrahieren die Kantengewichte, um der Verteilung zu visualisieren."
   ]
  },
  {
   "cell_type": "code",
   "execution_count": null,
   "metadata": {},
   "outputs": [],
   "source": [
    "import matplotlib.pyplot as plt\n",
    "\n",
    "weights=[]\n",
    "for link in graph['links']:\n",
    "    weights.append(link['weight'])\n",
    "\n",
    "plt.hist(weights, bins=25)\n",
    "plt.title(\"Distribution of Weights\")\n",
    "plt.xlabel(\"Wert\")\n",
    "plt.ylabel(\"Häufigkeit\")\n",
    "plt.show()"
   ]
  },
  {
   "cell_type": "markdown",
   "metadata": {},
   "source": [
    "## Ausdünnung / Thresholding\n",
    "\n",
    "Mehr thematische Struktur wird sichtbar, wenn wir nur Reden verbinden, die viele Worte gemeinsam haben. Das heißt, wir löschen die Kanten, deren Gewicht unter einem bestimmten Wert (threshold) liegt. Was hier der richtige Wert ist, ist immer wieder eine spannende Frage (A)."
   ]
  },
  {
   "cell_type": "code",
   "execution_count": null,
   "metadata": {},
   "outputs": [],
   "source": [
    "newlinks = []\n",
    "for link in graph['links']:\n",
    "    if link['weight'] > 100:\n",
    "        newlinks.append(link)\n",
    "graph['links'] = newlinks \n",
    "len(graph['links'])"
   ]
  },
  {
   "cell_type": "code",
   "execution_count": null,
   "metadata": {},
   "outputs": [],
   "source": []
  },
  {
   "cell_type": "markdown",
   "metadata": {},
   "source": [
    "## Netzwerkvisualisierung\n",
    "\n",
    "Nun wollen wir uns dieses Netzwerk anschauen. Dazu benutzen wir den Interactive Visualiser ebenfalls aus dem Paket Network Tools bei Penelope. Diesem übergeben wir den Graphen. Außerdem können wir angeben, welches Attribut farblich kodiert sein soll und welcher Text sichtbar sein soll. \n",
    "\n",
    "Auch dieser Aufruf kann einige Zeit in Anspruch nehmen."
   ]
  },
  {
   "cell_type": "code",
   "execution_count": null,
   "metadata": {},
   "outputs": [],
   "source": [
    "json = {'data':graph, \n",
    "        'nodecoloring':'party', \n",
    "        'nodelabel': 'text', \n",
    "        \"darkmode\": False,\n",
    "        \"edgevisibility\": True,\n",
    "        \"particles\": False\n",
    "       }\n",
    "result = requests.post('https://penelope.vub.be/network-components/visualiser', json=json)\n",
    "result"
   ]
  },
  {
   "cell_type": "markdown",
   "metadata": {},
   "source": [
    "Das Resultat speichern wir in einem HTML-File. "
   ]
  },
  {
   "cell_type": "code",
   "execution_count": null,
   "metadata": {},
   "outputs": [],
   "source": [
    "with open (f\"./redenet{Stichwort}.html\", \"w\", encoding='utf-8') as f:\n",
    "    f.write(result.json()['graph'])"
   ]
  },
  {
   "cell_type": "markdown",
   "metadata": {},
   "source": [
    "---\n",
    "\n"
   ]
  },
  {
   "cell_type": "markdown",
   "metadata": {},
   "source": [
    "# Fine Tuning und Erkundungen\n",
    "\n",
    "### <font color='red'>Hier ist der Bereich, in dem ich einige Dinge ausprobiere.</font>\n",
    "\n",
    "Das müsst ihr jetzt noch nicht unbedingt anschauen. Wahrscheinlich wird auch nicht alles funktionieren, da ich Bibliotheken lade (spacy), deren Installation etwas aufwendiger ist.\n"
   ]
  },
  {
   "cell_type": "code",
   "execution_count": null,
   "metadata": {},
   "outputs": [],
   "source": [
    "import tqdm\n",
    "import spacy\n",
    "#nlp = spacy.load('de') #load spacy model\n",
    "\n",
    "from collections import Counter\n",
    "import collections"
   ]
  },
  {
   "cell_type": "code",
   "execution_count": null,
   "metadata": {},
   "outputs": [],
   "source": [
    "def StatementGraphGenerator(inParams):\n",
    "\n",
    "    stm_list = inParams['data']\n",
    "    \n",
    "    if inParams['language'] == 'en':\n",
    "        nlp = spacy.load('en_core_web_sm') #load english spacy model\n",
    "    elif inParams['language'] == 'de':\n",
    "        nlp = spacy.load('de_core_news_sm') #load german spacy model\n",
    "    elif inParams['language'] == 'fr':\n",
    "        nlp = spacy.load('fr_core_news_sm') #load french spacy model\n",
    "    elif inParams['language'] == 'es':\n",
    "        nlp = spacy.load('es_core_news_sm') #load spanish spacy model\n",
    "    elif inParams['language'] == 'pt':\n",
    "        nlp = spacy.load('pt_core_news_sm') #load portuguese spacy model\n",
    "    elif inParams['language'] == 'it':\n",
    "        nlp = spacy.load('it_core_news_sm') #load italian spacy model\n",
    "    elif inParams['language'] == 'nl':\n",
    "        nlp = spacy.load('nl_core_news_sm') #load dutch spacy model\n",
    "    elif inParams['language'] == 'el':\n",
    "        nlp = spacy.load('el_core_news_sm') #load greek spacy model\n",
    "    elif inParams['language'] == 'nb':\n",
    "        nlp = spacy.load('nb_core_news_sm') #load norwegian bokmal spacy model\n",
    "    elif inParams['language'] == 'lt':\n",
    "        nlp = spacy.load('lt_core_news_sm') #load lithuanian spacy model\n",
    "    elif inParams['language'] == 'xx':\n",
    "        nlp = spacy.load('xx_ent_wiki_sm') #load multi-language spacy model\n",
    "\n",
    "    else:\n",
    "        print('ERROR! Language not supported!')\n",
    "        \n",
    "    relevantPOS = inParams['pos']\n",
    "    ignoreLEM = inParams['ignore']\n",
    "    \n",
    "    # 1.2.2 Note: requires spacy and language model to be loaded\n",
    "    print('apply nlp pipeline')\n",
    "    for value in tqdm.tqdm(stm_list):\n",
    "        doc = nlp(value['text'])\n",
    "        value.update({'doc' : doc})\n",
    "    \n",
    "    # 1.2.3\n",
    "    # Data cleaning options\n",
    "    print('filter words')\n",
    "    #relevantPOS = ['NOUN','VERB','ADJ']\n",
    "    #ignoreLEM = ['Herr','Kollege','Dame','Frau','Präsident']\n",
    "    #ignoreLEM = []\n",
    "\n",
    "    stm_list_nlp = []\n",
    "    statements_lemma_list = []\n",
    "    #statements_pos_list = []\n",
    "    for stm in tqdm.tqdm(stm_list):\n",
    "        lemmas = []\n",
    "        pos = []\n",
    "        for token in stm['doc']:\n",
    "            if token.is_punct is not True and token.is_stop is not True and token.pos_ in relevantPOS and token.lemma_ not in ignoreLEM:\n",
    "                lemmas.append(token.lemma_)\n",
    "                pos.append(token.pos_)\n",
    "        stm.update({'lemmata' : lemmas})    \n",
    "        statements_lemma_list.append(lemmas)\n",
    "        #statements_pos_list.append(pos)\n",
    "\n",
    "    # 1.2.4\n",
    "    print('count and order lemmata')\n",
    "    flattened = [val for lemmas in statements_lemma_list for val in lemmas]\n",
    "    lemma_frequency_list = collections.Counter(flattened).most_common()\n",
    "    all_lemmata_list = [ i[0] for i in lemma_frequency_list ]\n",
    "    all_lemmata_count = [ i[1] for i in lemma_frequency_list ]\n",
    "\n",
    "    # remove single items\n",
    "    # 1.2.5\n",
    "    print('remove singles')\n",
    "    all_freq_lemmata_list = [ all_lemmata_list[i] for i,v in enumerate(all_lemmata_list) if (all_lemmata_count[i] > 1) ]\n",
    "    all_freq_lemmata_count = [ all_lemmata_count[i] for i,v in enumerate(all_lemmata_count) if (all_lemmata_count[i] > 1) ]\n",
    "        \n",
    "    all_lemmata_list = all_freq_lemmata_list\n",
    "    all_lemmata_count = all_freq_lemmata_count \n",
    "\n",
    "    # Construct word browsable dict for later use in semantic relatedness computation\n",
    "    wordscounts_dict = {}\n",
    "    for lx,lem in enumerate(all_lemmata_list):\n",
    "        wordscounts_dict.update({ lem : all_lemmata_count[lx] })\n",
    " \n",
    "    # From this file\n",
    "    stmnet_dict = {\n",
    "        'nodes' : [],\n",
    "        'links' : []\n",
    "        }    \n",
    " \n",
    "\n",
    "    for ix,stm in enumerate(stm_list):\n",
    "        if len(stm['lemmata']) > 0:\n",
    "            node_dict = {\n",
    "                'id' : ix+1\n",
    "            }\n",
    "            for ele in stm:\n",
    "                if ele != 'lemmata' and ele != 'doc':\n",
    "                    node_dict.update({ele : stm[ele]})\n",
    "            \n",
    "            mfic = [ lem for lem in all_lemmata_list if (lem in stm['lemmata'] )]\n",
    "            freqI = collections.Counter(stm['lemmata']).most_common()\n",
    "            #lemmataI = [ i[0] for i in freqI ]\n",
    "            if len(mfic)>0:\n",
    "                #node_dict.update({'mfic' : mfic[0]})\n",
    "                node_dict.update({'mfic' : freqI[0]})\n",
    "            else:\n",
    "                node_dict.update({'mfic' : ' '})\n",
    "    \n",
    "            stmnet_dict['nodes'].append(node_dict)\n",
    "    \n",
    "    \n",
    "    #stmnet_dict['graph']['edges'] = []\n",
    "    for nodeI in tqdm.tqdm(stmnet_dict['nodes']):\n",
    "        stmI = stm_list[ nodeI['id']-1 ]['lemmata']\n",
    "        for nodeJ in stmnet_dict['nodes']:     \n",
    "            if nodeI['id'] < nodeJ['id']:\n",
    "                stmJ = stm_list[ nodeJ['id']-1 ]['lemmata']\n",
    "                overlap = [ lem for lem in set(stmI) if (lem in set(stmJ))]  # set overlap\n",
    "                weight = len(overlap) #/ (len(stmI)+len(stmJ))\n",
    "                if (len(overlap) > 0):\n",
    "                    edge_dict = {\n",
    "                        'source' : nodeI['id'],\n",
    "                        'target' : nodeJ['id'],\n",
    "                        'weight' : weight\n",
    "                        }\n",
    "                    stmnet_dict['links'].append(edge_dict)\n",
    "    \n",
    "    return stmnet_dict"
   ]
  },
  {
   "cell_type": "code",
   "execution_count": null,
   "metadata": {},
   "outputs": [],
   "source": [
    "Stichwort = \"Darfur\"\n",
    "Reden = []\n",
    "Reden = suche(Stichwort)\n",
    "len(Reden)"
   ]
  },
  {
   "cell_type": "code",
   "execution_count": null,
   "metadata": {},
   "outputs": [],
   "source": [
    "\n",
    "input_list = []\n",
    "for rede in Reden:\n",
    "            input_dict = {\n",
    "                'name'  : rede[\"name\"],\n",
    "                'party' : rede[\"party\"],\n",
    "                'text'  : rede[\"text\"]\n",
    "            }\n",
    "            input_list.append(input_dict) \n",
    "\n",
    "json = {\n",
    "          \"data\": input_list,\n",
    "          \"language\": \"de\",\n",
    "          \"pos\": [\"PROPN\"],\n",
    "          \"ignore\": [Stichwort,'Herr','Frau','Präsident','Präsidentin', 'Damen', 'Herren']\n",
    "}\n",
    "\n",
    "graph = StatementGraphGenerator(json)"
   ]
  },
  {
   "cell_type": "code",
   "execution_count": null,
   "metadata": {},
   "outputs": [],
   "source": [
    "print(len(graph['links']),\n",
    "len(graph['nodes']))\n",
    "\n",
    "weights=[]\n",
    "for link in graph['links']:\n",
    "    weights.append(link['weight'])\n",
    "\n",
    "plt.hist(weights, bins=25)\n",
    "plt.title(\"Distribution of Weights\")\n",
    "plt.xlabel(\"Wert\")\n",
    "plt.ylabel(\"Häufigkeit\")\n",
    "plt.show()"
   ]
  },
  {
   "cell_type": "code",
   "execution_count": null,
   "metadata": {},
   "outputs": [],
   "source": [
    "newlinks = []\n",
    "for link in graph['links']:\n",
    "    if link['weight'] > 3:\n",
    "        newlinks.append(link)\n",
    "graph['links'] = newlinks \n",
    "print(len(graph['links']))"
   ]
  },
  {
   "cell_type": "code",
   "execution_count": null,
   "metadata": {},
   "outputs": [],
   "source": [
    "\n",
    "\n",
    "json = {'data':graph, \n",
    "        'nodecoloring':'party', \n",
    "        'nodelabel': 'mfic', \n",
    "        \"darkmode\": False,\n",
    "        \"edgevisibility\": True,\n",
    "        \"particles\": False\n",
    "       }\n",
    "result = requests.post('https://penelope.vub.be/network-components/visualiser', json=json)"
   ]
  },
  {
   "cell_type": "code",
   "execution_count": null,
   "metadata": {},
   "outputs": [],
   "source": [
    "with open (f\"./redenet{Stichwort}.html\", \"w\") as f:\n",
    "    f.write(result.json()['graph'])"
   ]
  },
  {
   "cell_type": "code",
   "execution_count": null,
   "metadata": {},
   "outputs": [],
   "source": [
    "import re\n",
    "re.compile('[A-Z]{3}')"
   ]
  },
  {
   "cell_type": "code",
   "execution_count": null,
   "metadata": {},
   "outputs": [],
   "source": [
    "print(graph['nodes'][0])"
   ]
  },
  {
   "cell_type": "code",
   "execution_count": null,
   "metadata": {},
   "outputs": [],
   "source": [
    "#for node in graph['nodes']:\n",
    "#    print(node['mfic'])"
   ]
  },
  {
   "cell_type": "code",
   "execution_count": null,
   "metadata": {},
   "outputs": [],
   "source": [
    "\n",
    "\n",
    "text ='Sehr geehrte Frau Präsidentin! Werte Kolleginnen und Kollegen! Klimaschutz ist eine große Herausforderung. Er ist wichtig, für manche Inseln im Pazifik ist er eine Überlebensfrage. Aber auch bei uns in Deutschland sind die Auswirkungen des Klimawandels bereits spürbar. Die Entwicklung von Innovationen im Bereich Klimaschutz ist eine Riesenchance für die Wirtschaft. Wir müssen am Ball bleiben. Wir müssen den Wandel gestalten. Wir dürfen ihn nicht verschlafen. Ich war gestern im Umweltministerium, wo der Deutsche Innovationspreis für Klima und Umwelt an mutige Unternehmer verliehen wurde. Auch mir machte diese Veranstaltung Mut, weil ich gesehen habe, mit welcher Kraft und mit welcher Überzeugung die Unternehmer bei der Sache sind. Es wurden tolle Projekte vorgestellt. Zum Beispiel kann Papier aus Gras hergestellt werden, um die Ressource Holz als wertvollen CO 2 -Speicher zu schonen. Ein weiteres Projekt war eine energiesparende Maschine zur Stoffherstellung, die gleichzeitig spinnt und strickt. Sie sehen: Es gibt eine Menge Innovationen durch mutige mittelständische Unternehmer, wodurch Arbeitsplätze geschaffen und auch erhalten werden können. Im ausverhandelten Koalitionsvertrag haben wir ganz klar festgehalten, dass wir uns zu unseren nationalen, europäischen und internationalen Klimazielen bekennen, und zwar in allen Sektoren. Dafür habe ich mich als Klimapolitikerin persönlich eingesetzt. Damit zeigen wir: Wir nehmen unsere klimapolitische Verantwortung wahr, in Deutschland und in der Welt. Für uns ist aber auch wichtig, wie wir dieses Ziel erreichen. Das wollen wir durch Anreize statt Zwang und durch Technologieoffenheit bewerkstelligen. Wir wollen auch sicherstellen, dass unsere Wirtschaft als Basis unseres Wohlstands international wettbewerbsfähig bleibt. Außerdem soll die Energieversorgungssicherheit weiterhin gewährleistet werden. Es liegt eine Studie der deutschen Industrie vor, die sich damit befasst hat, wie wir das langfristige Klimaziel bezogen auf 2050 erreichen wollen. Die Studie besagt: Das wird schwierig, aber es kann funktionieren. Und auch die Wirtschaft sagt: Die Wirtschaft kann Wandel. Sie hat es bei der Industrialisierung bewiesen. Jetzt nimmt sie die Herausforderungen der Digitalisierung an, Stichwort Industrie 4.0. Die Wirtschaft kann auch Klimaschutz, wenn die Politik verlässliche Rahmenbedingungen schafft und Anreize zum Beispiel für effiziente Umwelttechnologien setzt. Und genau das machen wir, meine Damen und Herren. Wenn Sie, die Antragsteller, deren Vorlagen wir heute beraten, den ausgehandelten Koalitionsvertrag aufmerksam lesen, dann werden Sie feststellen, dass viele Ihrer Punkte bereits enthalten sind, zum Beispiel die Forderung nach einer konsequenten Energieeffizienzpolitik. Es gibt bereits den Nationalen Aktionsplan Energieeffizienz, den wir weiterentwickeln werden. Außerdem wollen wir eine ambitionierte, sektorübergreifende Energieeffizienzstrategie unter dem Leitprinzip „Efficiency first“ installieren. Wir haben uns das ehrgeizige Ziel gesetzt, eine Halbierung des Energieverbrauchs bis 2050 zu schaffen. Im Koalitionsvertrag ist vorgesehen, bis 2030 einen Anteil an erneuerbaren Energien von 65 Prozent zu erreichen. Ebenso haben wir verankert – ich muss ganz ehrlich sagen: endlich –, die energetische Gebäudesanierung steuerlich zu fördern. In vielen Reden an diesem Rednerpult habe ich gefordert, dass wir dieses Klimaschutzinstrument nutzen. Meine Damen und Herren, ich setze darauf, dass nun auch die Grünen in den Bundesländern für dieses Instrument werben; denn in den Jamaika-Sondierungen war die Einführung dieses Instruments Konsens. Damit bin ich beim Thema: Wie sollen diese Instrumente ausgestaltet sein? Wie soll dieses Steuerungsinstrument ausgestaltet sein? Wir setzen auf Anreize statt auf Zwang. Unser Vorschlag sieht ein Wahlrecht des Antragstellers vor: Zuschussförderung oder Reduzierung des zu versteuernden Einkommens. Damit erreichen wir einen möglichst großen Personenkreis. Daneben wollen wir das CO 2 -Gebäudesanierungsprogramm fortführen und damit den Austausch alter, ineffizienter Heizungen fördern. Ferner wollen wir eine Kommission einsetzen, die auf Basis und in Vernetzung mit dem laufenden Prozess zur Umsetzung des Klimaschutzplans bis Ende des Jahres Maßnahmen vorschlagen soll, wie die Lücke zur Erreichung des Klimaziels 2020 so schnell wie möglich reduziert werden kann und im Energiesektor das 2030-Ziel erreicht werden kann. Dazu zählt auch die schrittweise Reduzierung und Beendigung der Kohleverstromung. Das Abschlussdatum für die Kohleverstromung soll ebenfalls durch diese Kommission festgelegt werden. Hört! Hört! Meine Damen und Herren, das geht sogar über das hinaus, was am Ende der Jamaika-Sondierungen ausverhandelt war. In den Jamaika-Verhandlungen lag der Fokus – Herr Dr. Köhler hat es bereits erwähnt – auf dem überhasteten, schnellen Stilllegen, auf der Reduzierung der Kapazität der Kohleverstromung um 7 Gigawatt vor 2020, und zwar ohne Rücksicht auf die Arbeitsplätze. Auch wir wollen die schrittweise Reduzierung der Kohleverstromung; aber wir wollen dabei die Energieversorgung weiterhin sicherstellen. Wir wollen, dass Energie für Verbraucher und Wirtschaft bezahlbar bleibt. Das ist ganz wichtig. Ich habe das Gefühl, das wird von den Grünen öfter ausgeblendet. Außerdem wollen wir nicht, dass es in den betroffenen Regionen zu Strukturbrüchen kommt. Sie sehen: Wir reden nicht nur, sondern wir handeln auch, aber durchdacht und mit Weitsicht. Zur Globalen Allianz für den Kohleausstieg, die in einem Antrag erwähnt wird: Gefordert wird, dass Deutschland dieser Allianz beitritt. Ich habe mir die Mühe gemacht, mir den Energiemix der teilnehmenden Staaten anzusehen. Man muss sich da ehrlich machen. Wie ist das in Frankreich? Dort stammen nur 3 bis 4 Prozent der Stromproduktion aus der Kohle, und Frankreich will von dem Ziel abrücken, den Strom aus Kernenergie bis 2025 auf 50 Prozent zu reduzieren. Kanada investiert mehr als 25 Milliarden in Atomreaktoren, damit sie für weitere 25 bis 30 Jahre laufen. Großbritannien will aus der Kohleverstromung aussteigen, gleichzeitig aber den Anteil des Stroms aus Kernenergie deutlich steigern. Wir wollen beides: Wir wollen die Kohleverstromung reduzieren und den Ausstieg aus der Kernenergienutzung weiter gestalten. Keiner behauptet, dass das leicht ist. Dennoch gehen wir diesen Weg voller Überzeugung für unsere Kinder, für unsere Enkel und für die Menschen, die darauf setzen, dass die Politik die Weichen richtig stellt und durch Innovationen im Umweltbereich Arbeitsplätze erhalten und geschaffen werden. Vielen Dank. Vielen Dank, Dr. Weisgerber. – Nächste Rednerin: Bundesministerin Dr. Barbara Hendricks für die Bundesregierung.'\n",
    "text2 = 'Vielen Dank. – Herr Präsident! Liebe Kolleginnen und Kollegen! Seit dem Jahr 2007 leistet die United Nations Hybrid Operation in Darfur, UNAMID, einen wichtigen Beitrag, um den langjährigen Konflikt im Sudan um die Region Darfur zu lösen. Seit dem Jahr 2008 beteiligt sich Deutschland mit den von der Mandatsobergrenze her erlaubten bis zu 50 Soldatinnen und Soldaten an dieser Mission. Aktuell sind sieben deutsche Soldatinnen und Soldaten bei UNAMID im Einsatz. Sie dienen im Hauptquartier in al-Fashir und unterstützen die Missionsführung von UNAMID bei der Umsetzung ihrer anspruchsvollen Aufgaben. UNAMID ist wie UNMISS – darüber diskutieren wir anschließend – ein Mandat, das sich in unser politisches, sicherheits- und entwicklungspolitisches sowie humanitäres Gesamtengagement in der Region und im Rahmen der Vereinten Nationen einfügt. Die gesamte Sudan-Sahel-Region steht großen Herausforderungen gegenüber. Es seien die Stichworte genannt: Terrorismus, organisierte Kriminalität, Flucht und Migration. Das nachhaltige Engagement der internationalen Gemeinschaft zur regionalen Stabilisierung ist und bleibt daher von entscheidender Bedeutung. Auftrag von UNAMID ist die Überwachung des Waffenstillstandsabkommens von Darfur aus dem Jahr 2006, die Sicherung eines humanitären Zugangs zur Region, die Unterstützung und Überwachung der Vermittlungsbemühungen in Konflikten zwischen den Bevölkerungsgruppen sowie der Schutz und die Unterstützung der Zivilbevölkerung. Deutschland, liebe Kolleginnen und Kollegen, ist derzeit die einzige europäische Nation bei UNAMID. Unsere fortgesetzte Beteiligung ist deshalb auch ein wichtiges Zeichen an die Vereinten Nationen, an die Afrikanische Union, dass wir die Friedensanstrengungen der internationalen Gemeinschaft in Darfur weiterhin unterstützen. Sie ist zudem ein wichtiges Zeichen und wesentlicher Rückhalt für die Bemühungen der sudanesischen Akteure, selbst zur Verbesserung der Sicherheitslage und politischen Konfliktlösung in Darfur zu kommen. Liebe Kolleginnen und Kollegen, angesichts positiver Entwicklungen im Sudan hat der Sicherheitsrat der Vereinten Nationen im Juni dieses Jahres eine Neuausrichtung von UNAMID beschlossen. Diese sieht innerhalb der nächsten zwei Jahre eine Reduzierung des militärischen Anteils um circa 45 Prozent der Kräfte, vor allem in der Fläche, und des polizeilichen Anteils um circa 26 Prozent der Kräfte vor. Damit einher geht eine Akzentverschiebung zu mehr zivil geprägtem Peacekeeping und Peacebuilding. Der Schwerpunkt von UNAMID wird aber weiterhin in einem Beitrag zum Schutz der Zivilbevölkerung sowie in der Unterstützung der Vermittlungsbemühungen zwischen den Konfliktparteien liegen. Eine erste Bewertung dieser Anpassung durch die Vereinten Nationen Anfang kommenden Jahres werden wir selbstverständlich mit großem Interesse aufnehmen. Sie muss insbesondere die Realitäten am Boden berücksichtigen. Liebe Kolleginnen und Kollegen, trotz dieser positiven Signale bleibt die Lage in Darfur insgesamt angespannt und instabil. Insbesondere die humanitäre Situation ist mit allein 2,1 Millionen Binnenvertriebenen vor allem in humanitärer Hinsicht katastrophal. UNAMID wird deshalb auch in Zukunft eine Schlüsselrolle in Darfur spielen. Die Mission dient als stabilisierendes Element zur Verbesserung der Sicherheitslage, zur Sicherung des humanitären Zugangs nach Darfur, zur Überwachung und Verbesserung der Menschenrechtslage sowie zur Begleitung der politischen Friedensbemühungen. Daher ist es wichtig, dass auch Deutschland sein Engagement in dieser wichtigen VN-Mission unverändert fortführt. Es ist, wie gesagt, eine kleine Mission; 50 Soldatinnen und Soldaten ist die Obergrenze. Wir sind mit Stabspersonal dort. Es ist eine wichtige Mission: humanitär und politisch. Es ist wichtig, dass wir unsere Solidarität nicht verweigern. Liebe Kolleginnen und Kollegen, bei allem, was noch zu tun ist, bei allen fortdauernden Herausforderungen und Katastrophen möchte ich daran erinnern, dass der damalige UN-Generalsekretär Kofi Annan zurzeit des Bürgerkrieges Darfur als den furchtbarsten Platz auf der Erde bezeichnete. Nun will ich nicht vorwegnehmen, was hier in dieser Debatte noch gesagt wird, aber wir haben die eine oder andere Debatte hinter uns. Manche mögen sagen: Der Westen ist schuld an der Katastrophe. Andere möchten vielleicht fragen: Was geht uns das an? Liebe Kolleginnen und Kollegen, beides ist und wäre falsch. Es ist Teil unserer Aufgabe als Bundesrepublik Deutschland, als Europäer, unseren Beitrag zu leisten, dass sich der Fortschritt weiter Bahn bricht und die humanitäre Katastrophe in Darfur, die humanitäre Katastrophe im Sudan ein Ende findet. Dazu sind wir verpflichtet. Dafür bitte ich namens der Bundesregierung um Ihre Unterstützung. Vielen Dank. Nächste Rednerin ist Dr. Bärbel Kofler für die Fraktion der SPD.'\n",
    "doc = nlp(text2)\n",
    "for sent in doc.sents:\n",
    "    for token in sent:\n",
    "        print(token.lemma_,token.pos_)\n"
   ]
  },
  {
   "cell_type": "code",
   "execution_count": null,
   "metadata": {},
   "outputs": [],
   "source": []
  }
 ],
 "metadata": {
  "kernelspec": {
   "display_name": "Python 3 (ipykernel)",
   "language": "python",
   "name": "python3"
  },
  "language_info": {
   "codemirror_mode": {
    "name": "ipython",
    "version": 3
   },
   "file_extension": ".py",
   "mimetype": "text/x-python",
   "name": "python",
   "nbconvert_exporter": "python",
   "pygments_lexer": "ipython3",
   "version": "3.9.7"
  }
 },
 "nbformat": 4,
 "nbformat_minor": 4
}
