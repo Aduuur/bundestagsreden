{
 "cells": [
  {
   "cell_type": "code",
   "execution_count": 1,
   "id": "54b24631",
   "metadata": {},
   "outputs": [],
   "source": [
    "import collections\n",
    "import requests\n",
    "import json\n",
    "import re\n",
    "import os\n",
    "import sys\n",
    "\n",
    "with open('../../data/speeches_20.jsonl', 'r', encoding = 'utf8') as fp:\n",
    "    data = list(fp)\n",
    "speeches = []\n",
    "for line in data:\n",
    "    speeches.append(json.loads(line))"
   ]
  },
  {
   "cell_type": "code",
   "execution_count": 2,
   "id": "08a470cd",
   "metadata": {},
   "outputs": [],
   "source": [
    "# globale items\n",
    "regex = \"{(.*?)}\" # hier die genaue Definition der Kommentare vom Parser <<< >>>\n",
    "kommentare = []"
   ]
  },
  {
   "cell_type": "code",
   "execution_count": 8,
   "id": "ea8666f4",
   "metadata": {},
   "outputs": [],
   "source": [
    "#def groupSpeechesByParty(speeches):\n",
    "#    groupedSpeeches = {}\n",
    "#    for speech in speeches:\n",
    "#        tpo = speech['party']\n",
    "#        if tpo in groupedSpeeches:\n",
    "#            groupedSpeeches[tpo].append(speech)\n",
    "#        else:\n",
    "#            groupedSpeeches[tpo] = [speech]\n",
    "#    return groupedSpeeches"
   ]
  },
  {
   "cell_type": "code",
   "execution_count": 9,
   "id": "306d678e",
   "metadata": {},
   "outputs": [],
   "source": [
    "def clean_partyNames(speeches):\n",
    "    for speech in speeches:\n",
    "        if 'BÜNDNIS\\xa090/DIE GRÜNEN' in speech['party']:\n",
    "            speech.update({'party': 'BÜNDNIS 90/DIE GRÜNEN'})\n",
    "#print(speech['party'])"
   ]
  },
  {
   "cell_type": "code",
   "execution_count": 10,
   "id": "1cdaa313",
   "metadata": {},
   "outputs": [
    {
     "name": "stdout",
     "output_type": "stream",
     "text": [
      "2777\n",
      "698\n",
      "607\n",
      "354\n",
      "395\n",
      "353\n",
      "241\n",
      "26\n",
      "103\n"
     ]
    }
   ],
   "source": [
    "groupbyparty = groupSpeechesByParty(speeches)\n",
    "groupbyparty.keys()\n",
    "print(len(speeches)) # Anzahl aller Reden\n",
    "for ele in groupbyparty:\n",
    "    print(len(groupbyparty[ele]))\n",
    "# Überprüfung mit bspw.: len(groupbyparty['SPD'])"
   ]
  },
  {
   "cell_type": "code",
   "execution_count": 11,
   "id": "a049ad4a",
   "metadata": {},
   "outputs": [
    {
     "data": {
      "text/plain": [
       "dict_keys(['SPD', 'CDU/CSU', 'DIE GRÜNEN', 'FDP', 'AfD', 'DIE LINKE', 'Fraktionslos', 'BÜNDNIS 90/DIE GRÜNEN'])"
      ]
     },
     "execution_count": 11,
     "metadata": {},
     "output_type": "execute_result"
    }
   ],
   "source": [
    "for speech in speeches:\n",
    "    if 'BÜNDNIS\\xa090/DIE GRÜNEN' in speech['party']:\n",
    "        speech.update({'party': 'DIE GRÜNEN'})\n",
    "groupbyparty.keys()"
   ]
  },
  {
   "cell_type": "code",
   "execution_count": 18,
   "id": "f654e5a8",
   "metadata": {},
   "outputs": [],
   "source": [
    "# Funktion: speeches_comments\n",
    "def extract_comments(speeches):\n",
    "    comments = []\n",
    "    modified_speeches = []\n",
    "    for speech in speeches:\n",
    "        text = speech['text']\n",
    "        matches = re.findall(regex,text)\n",
    "        speech['comments'] = matches\n",
    "        modified_speeches.append(speech)\n",
    "    return modified_speeches\n",
    "# Funktionsaufruf:\n",
    "speeches_comments = extract_comments(speeches)\n",
    "# Funktionsausgabe: print(speeches_comments[0]['comments'])\n",
    "#                   print(speeches_comments[0]['party'])\n",
    "\n",
    "def filter_with_complex_non_words(search_terms,non_words,speeches):\n",
    "    filtered_speeches = []\n",
    "    for speech in speeches:\n",
    "        for comment in speech['comments']:\n",
    "            if all([term in comment for term in search_terms]) and not any([term in comment for term in non_words]):\n",
    "                filtered_speeches.append(speech)\n",
    "                break\n",
    "    return filtered_speeches\n",
    "# Funktionsaufruf:  specific_and_non_search = filter_with_complex_non_words(['Beifall','CDU'],['Zuruf'],speeches_comments)\n",
    "# Funktionsausgabe: print(specific_and_non_search[0])                               enthält AND enthält nicht\n",
    "#                   print(len(specific_and_non_search))"
   ]
  },
  {
   "cell_type": "code",
   "execution_count": 35,
   "id": "90f7a7f2",
   "metadata": {},
   "outputs": [
    {
     "name": "stdout",
     "output_type": "stream",
     "text": [
      "Alle Kommentare an denen Die Linke beiteiligt war:            482\n",
      "Alle Kommentare an denen SPD beiteiligt war:                  2326\n",
      "Alle Kommentare an denen BÜNDNIS 90/DIE GRÜNE beiteiligt war: 1635\n",
      "Alle Kommentare an denen CDU/CSU beiteiligt war:              1718\n",
      "Alle Kommentare an denen FDP beiteiligt war:                  2215\n",
      "Alle Kommentare an denen AfD beiteiligt war:                  1320\n"
     ]
    }
   ],
   "source": [
    "specific_and_non_search = filter_with_complex_non_words(['DIE LINKE'],[],speeches_comments)\n",
    "print(f'Alle Kommentare an denen Die Linke beiteiligt war:            {len(specific_and_non_search)}')\n",
    "specific_and_non_search = filter_with_complex_non_words(['SPD'],[],speeches_comments)\n",
    "print(f'Alle Kommentare an denen SPD beiteiligt war:                  {len(specific_and_non_search)}')\n",
    "specific_and_non_search = filter_with_complex_non_words(['BÜNDNIS 90/DIE GRÜNEN'],[],speeches_comments)\n",
    "print(f'Alle Kommentare an denen BÜNDNIS 90/DIE GRÜNE beiteiligt war: {len(specific_and_non_search)}')\n",
    "specific_and_non_search = filter_with_complex_non_words(['CDU/CSU'],[],speeches_comments)\n",
    "print(f'Alle Kommentare an denen CDU/CSU beiteiligt war:              {len(specific_and_non_search)}')\n",
    "specific_and_non_search = filter_with_complex_non_words(['FDP'],[],speeches_comments)\n",
    "print(f'Alle Kommentare an denen FDP beiteiligt war:                  {len(specific_and_non_search)}')\n",
    "specific_and_non_search = filter_with_complex_non_words(['AfD'],[],speeches_comments)\n",
    "print(f'Alle Kommentare an denen AfD beiteiligt war:                  {len(specific_and_non_search)}')"
   ]
  },
  {
   "cell_type": "code",
   "execution_count": null,
   "id": "451635fe",
   "metadata": {},
   "outputs": [],
   "source": []
  },
  {
   "cell_type": "code",
   "execution_count": null,
   "id": "45fe78f7",
   "metadata": {},
   "outputs": [],
   "source": []
  },
  {
   "cell_type": "code",
   "execution_count": null,
   "id": "a74b9bc6",
   "metadata": {},
   "outputs": [],
   "source": []
  },
  {
   "cell_type": "code",
   "execution_count": null,
   "id": "0ce7163f",
   "metadata": {},
   "outputs": [],
   "source": []
  }
 ],
 "metadata": {
  "kernelspec": {
   "display_name": "Python 3 (ipykernel)",
   "language": "python",
   "name": "python3"
  },
  "language_info": {
   "codemirror_mode": {
    "name": "ipython",
    "version": 3
   },
   "file_extension": ".py",
   "mimetype": "text/x-python",
   "name": "python",
   "nbconvert_exporter": "python",
   "pygments_lexer": "ipython3",
   "version": "3.9.7"
  }
 },
 "nbformat": 4,
 "nbformat_minor": 5
}
