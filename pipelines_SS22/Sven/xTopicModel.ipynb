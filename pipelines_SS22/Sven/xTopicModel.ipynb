{
 "cells": [
  {
   "cell_type": "markdown",
   "metadata": {},
   "source": [
    "# First Prototype for generating a more sophisticated web app\n",
    "\n",
    "import libs and load data"
   ]
  },
  {
   "cell_type": "code",
   "execution_count": 1,
   "metadata": {},
   "outputs": [],
   "source": [
    "# local utilities\n",
    "import os\n",
    "import sys\n",
    "module_path = os.path.abspath(os.path.join('../../'))\n",
    "if module_path not in sys.path:\n",
    "    sys.path.append(module_path)\n",
    "\n",
    "from utilities.BTTools import filter_for\n",
    "from utilities.BTTools import groupSpeechesByDiscussionTitle\n",
    "\n",
    "# other stuff needed\n",
    "from sklearn.feature_extraction.text import TfidfVectorizer\n",
    "from sklearn.decomposition import LatentDirichletAllocation\n",
    "from sklearn.datasets import make_multilabel_classification\n",
    "from sklearn.decomposition import NMF\n",
    "from sklearn.feature_extraction.text import CountVectorizer\n",
    "from sklearn.preprocessing import normalize\n",
    "\n",
    "import matplotlib.pyplot as plt\n",
    "import tqdm\n",
    "\n",
    "import json\n",
    "\n",
    "with open('../../data/speeches_20.jsonl', 'r', encoding='utf8') as fp:\n",
    "    data = list(fp)\n",
    "speeches_original = []\n",
    "for line in data:\n",
    "    speeches_original.append(json.loads(line))\n",
    "    \n",
    "speeches = speeches_original.copy()    "
   ]
  },
  {
   "cell_type": "markdown",
   "metadata": {},
   "source": [
    "# Level I\n",
    "\n",
    "## 1. Topic Model at the level of TOPs\n",
    "\n",
    "\n",
    "### 1.1 Create Corpus"
   ]
  },
  {
   "cell_type": "markdown",
   "metadata": {},
   "source": [
    "#### restructure data per TOP"
   ]
  },
  {
   "cell_type": "code",
   "execution_count": 2,
   "metadata": {},
   "outputs": [
    {
     "data": {
      "text/plain": [
       "337"
      ]
     },
     "execution_count": 2,
     "metadata": {},
     "output_type": "execute_result"
    }
   ],
   "source": [
    "groupedby_discussion = groupSpeechesByDiscussionTitle(speeches)\n",
    "len(groupedby_discussion)"
   ]
  },
  {
   "cell_type": "code",
   "execution_count": 29,
   "metadata": {},
   "outputs": [],
   "source": [
    "#list(groupedby_discussion.items())[1]"
   ]
  },
  {
   "cell_type": "markdown",
   "metadata": {},
   "source": [
    "#### build corpus for scikit learn methods"
   ]
  },
  {
   "cell_type": "code",
   "execution_count": 3,
   "metadata": {},
   "outputs": [
    {
     "data": {
      "text/plain": [
       "337"
      ]
     },
     "execution_count": 3,
     "metadata": {},
     "output_type": "execute_result"
    }
   ],
   "source": [
    "corpus = []\n",
    "for top in groupedby_discussion.values():\n",
    "    #print(grouped[top])\n",
    "    aggregate= []\n",
    "    for ele in top:\n",
    "        aggregate.append(ele['text'])\n",
    "    corpus.append(' '.join(aggregate))\n",
    "\n",
    "len(corpus)\n"
   ]
  },
  {
   "cell_type": "markdown",
   "metadata": {},
   "source": [
    "#### optional: preprocessing with spacy"
   ]
  },
  {
   "cell_type": "code",
   "execution_count": 5,
   "metadata": {},
   "outputs": [],
   "source": [
    "\n",
    "import spacy\n",
    "nlp = spacy.load('de') #load spacy model\n"
   ]
  },
  {
   "cell_type": "code",
   "execution_count": 6,
   "metadata": {},
   "outputs": [],
   "source": [
    "\n",
    "def corpus_by_POS(corpus,consider):\n",
    "    corpus_by = []  \n",
    "    for row in tqdm.tqdm(corpus):\n",
    "        doc = nlp(row)\n",
    "        new_row = []\n",
    "        for token in doc:\n",
    "            if token.pos_ in consider:\n",
    "                new_row.append(token.lemma_)\n",
    "        corpus_by.append(' '.join(new_row))\n",
    "    return corpus_by \n"
   ]
  },
  {
   "cell_type": "code",
   "execution_count": 7,
   "metadata": {},
   "outputs": [
    {
     "name": "stderr",
     "output_type": "stream",
     "text": [
      "100%|██████████| 208/208 [03:11<00:00,  1.09it/s]\n"
     ]
    },
    {
     "data": {
      "text/plain": [
       "208"
      ]
     },
     "execution_count": 7,
     "metadata": {},
     "output_type": "execute_result"
    }
   ],
   "source": [
    "consider = ['NOUN']\n",
    "        \n",
    "corpus_nouns = corpus_by_POS(corpus,consider)        \n",
    "len(corpus_nouns)"
   ]
  },
  {
   "cell_type": "code",
   "execution_count": 7,
   "metadata": {},
   "outputs": [
    {
     "data": {
      "text/plain": [
       "'Kraft Wohle Volk Nutzen Schaden Grundgesetz Gesetz Bund Pflicht Gerechtigkeit'"
      ]
     },
     "execution_count": 7,
     "metadata": {},
     "output_type": "execute_result"
    }
   ],
   "source": [
    "corpus = corpus_nouns\n",
    "corpus[0]"
   ]
  },
  {
   "cell_type": "markdown",
   "metadata": {},
   "source": [
    "### 1.2 Topic Model"
   ]
  },
  {
   "cell_type": "markdown",
   "metadata": {},
   "source": [
    "#### vectorize data"
   ]
  },
  {
   "cell_type": "code",
   "execution_count": 43,
   "metadata": {},
   "outputs": [
    {
     "data": {
      "text/plain": [
       "<337x22591 sparse matrix of type '<class 'numpy.float64'>'\n",
       "\twith 516113 stored elements in Compressed Sparse Row format>"
      ]
     },
     "execution_count": 43,
     "metadata": {},
     "output_type": "execute_result"
    }
   ],
   "source": [
    "vectorizer_tfidf = TfidfVectorizer(max_df=0.8, min_df=0.01,lowercase = False)\n",
    "tf_idf_matrix  = vectorizer_tfidf.fit_transform(corpus)\n",
    "feature_names = vectorizer_tfidf.get_feature_names()\n",
    "vectorizer_tf = TfidfVectorizer(vocabulary=feature_names,use_idf=False, norm=\"l1\",lowercase = False)\n",
    "#vectorizer_counts = CountVectorizer(vocabulary=feature_names)\n",
    "tf_matrix = vectorizer_tf.fit_transform(corpus)\n",
    "\n",
    "tf_idf_matrix"
   ]
  },
  {
   "cell_type": "markdown",
   "metadata": {},
   "source": [
    "#### compute topic model\n",
    "\n",
    "#### <font color='red'>From here on I now use a dict structure!</font>"
   ]
  },
  {
   "cell_type": "code",
   "execution_count": 44,
   "metadata": {},
   "outputs": [
    {
     "name": "stdout",
     "output_type": "stream",
     "text": [
      "Topic 0: Euro Haushalt Milliarden Millionen Ministerin Mittel Geld Einzelplan Schuldenbremse Investitionen\n",
      "Topic 1: Ukraine Russland Europa Krieg NATO Putin Bundeskanzler EU Waffen Europäischen\n",
      "Topic 2: Impfpflicht Impfung Pandemie Pflege impfen Omikron Lauterbach Impfungen Impfen Maßnahmen\n",
      "Topic 3: Energien Gas erneuerbaren Ausbau Strom LNG Energiewende Winter Energieversorgung Energie\n",
      "Topic 4: Mali Mandat Soldaten Mission Soldatinnen MINUSMA Einsatz Region Niger Libyen\n",
      "Topic 5: Frauen Kinder Kommunen Antrag Kollegin Bildung Bund 219a Gesetzentwurf Ministerin\n",
      "Topic 6: Inflation Euro Einkommen Entlastung Progression entlasten Maßnahmen Preise Rentner Milliarden\n",
      "Topic 7: Landwirtschaft Landwirte Ernährung Hunger Bauern Lebensmittel Millionen Flächen Weizen Antrag\n",
      "Topic 8: ÖPNV Ticket Mobilität Euro Bahn Schiene Auto Bus ländlichen Verkehr\n",
      "Topic 9: Bundeswehr Soldaten Sondervermögen Soldatinnen Beschaffung Milliarden Ausrüstung Zeitenwende Afghanistan Truppe\n"
     ]
    }
   ],
   "source": [
    "# Use NMF to look for 15 topics\n",
    "n_topics = 10\n",
    "model = NMF(n_components=n_topics)\n",
    "model.fit(tf_idf_matrix)\n",
    "#model.fit(tf_matrix)\n",
    "\n",
    "# Print the top 10 words\n",
    "n_words = 100\n",
    "#n_words_features = 100\n",
    "\n",
    "topic_names = []\n",
    "topic_words = []\n",
    "# new: store in dict\n",
    "topics = []  \n",
    "for topic_idx, topic in enumerate(model.components_):\n",
    "    t_words = [feature_names[i] for i in topic.argsort()[-n_words:]][::-1]\n",
    "    t_words_string = ' '.join(t_words[:10])\n",
    "    topic_names.append(f\"topic_{'_'.join(t_words[:3])}\") \n",
    "    #topic_list_ext.append(top_features)\n",
    "    \n",
    "#    top_n = [feature_names[i]\n",
    "#             for i in topic.argsort()\n",
    "#             [-n_words_features:]][::-1]\n",
    "    topic_words.append(t_words)\n",
    "    topic_dict = { 'name' : f\"topic_{'_'.join(t_words[:3])}\",\n",
    "                   'words' : t_words,\n",
    "                   'tops' : []  \n",
    "                    }\n",
    "    topics.append(topic_dict)\n",
    "    print(f\"Topic {topic_idx}: {t_words_string}\")\n",
    "\n",
    "# for empty data (speeches without text)\n",
    "topic_dict = { 'name' : 'rest',\n",
    "               'words' : [],\n",
    "               'tops' : []  \n",
    "                }\n",
    "topics.append(topic_dict)    \n",
    "    \n",
    "topic2word = model.components_   \n",
    "#topics"
   ]
  },
  {
   "cell_type": "code",
   "execution_count": 26,
   "metadata": {},
   "outputs": [
    {
     "data": {
      "text/plain": [
       "11"
      ]
     },
     "execution_count": 26,
     "metadata": {},
     "output_type": "execute_result"
    }
   ],
   "source": [
    "len(topics)"
   ]
  },
  {
   "cell_type": "markdown",
   "metadata": {},
   "source": [
    "#### Word Clouds for Topic"
   ]
  },
  {
   "cell_type": "code",
   "execution_count": 45,
   "metadata": {},
   "outputs": [
    {
     "data": {
      "image/png": "[encoded data removed]",
      "text/plain": [
       "<Figure size 720x720 with 1 Axes>"
      ]
     },
     "metadata": {
      "needs_background": "light"
     },
     "output_type": "display_data"
    }
   ],
   "source": [
    "import numpy as np\n",
    "from PIL import Image\n",
    "from wordcloud import WordCloud\n",
    "\n",
    "mask = np.array(Image.open(\"circle.png\"))\n",
    "\n",
    "# parameters:\n",
    "\n",
    "wordcloud = WordCloud(background_color='white', max_words=50, mask=mask, contour_color='#000000', contour_width=3, colormap='rainbow').generate(\" \".join(topic_words[0]))\n",
    "\n",
    "# create image as circle\n",
    "\n",
    "fig = plt.figure(figsize=(10,10))\n",
    "plt.imshow(wordcloud, interpolation='bilinear')\n",
    "plt.axis(\"off\")\n",
    "\n",
    "# presentate:\n",
    "\n",
    "plt.show()\n",
    "\n",
    "\n",
    "# generate PNG for all topics\n",
    "for tx,topic in enumerate(topics):\n",
    "    if topic['name'] == 'rest':\n",
    "        pass\n",
    "    else:\n",
    "        wordcloud = WordCloud(background_color='white', max_words=50, mask=mask, contour_color='#000000', contour_width=3, colormap='rainbow').generate(\" \".join(topic['words']))\n",
    "        wordcloud.to_file(f\"wordclouds/wordcloud_{tx}.png\")\n"
   ]
  },
  {
   "cell_type": "code",
   "execution_count": null,
   "metadata": {},
   "outputs": [],
   "source": []
  },
  {
   "cell_type": "markdown",
   "metadata": {},
   "source": [
    "#### document topic probabilities"
   ]
  },
  {
   "cell_type": "code",
   "execution_count": 46,
   "metadata": {},
   "outputs": [
    {
     "name": "stdout",
     "output_type": "stream",
     "text": [
      "(337, 22591)\n",
      "(10, 22591)\n",
      "(337, 10)\n"
     ]
    }
   ],
   "source": [
    "print(tf_matrix.shape)\n",
    "print(topic2word.shape)\n",
    "doc2topic = (tf_matrix * topic2word.T)\n",
    "print(doc2topic.shape)"
   ]
  },
  {
   "cell_type": "code",
   "execution_count": null,
   "metadata": {},
   "outputs": [],
   "source": [
    "topic2word.T[0]"
   ]
  },
  {
   "cell_type": "markdown",
   "metadata": {},
   "source": [
    "#### find max contributions for words and docs"
   ]
  },
  {
   "cell_type": "code",
   "execution_count": 47,
   "metadata": {},
   "outputs": [],
   "source": [
    "feature_topic_num = []\n",
    "feature_topic_name = []\n",
    "for wx,word in enumerate(feature_names):\n",
    "    if topic2word.T[wx].max() > 0:\n",
    "        topic_num = topic2word.T[wx].argmax()\n",
    "        topic_name = topic_names[topic_num]\n",
    "    else:\n",
    "        topic_num = n_topics\n",
    "        topic_name = 'not defined'\n",
    "    \n",
    "    feature_topic_num.append(topic_num)\n",
    "    feature_topic_name.append(topic_name)\n",
    "#feature_topic_num\n",
    "\n",
    "top_topic_num = []\n",
    "top_topic_name = []\n",
    "for tx,top in enumerate(groupedby_discussion):\n",
    "    if doc2topic[tx].max() > 0:\n",
    "        topic_num = doc2topic[tx].argmax()\n",
    "        topic_name = topic_names[topic_num]\n",
    "    else:\n",
    "        topic_num = n_topics\n",
    "        topic_name = 'not defined'\n",
    "    \n",
    "    top_topic_num.append(topic_num)\n",
    "    top_topic_name.append(topic_name)\n",
    "        \n",
    "    # update topic dict   \n",
    "    topics[topic_num]['tops'].append(top)\n",
    "\n",
    "    \n",
    "#feature_topic_name"
   ]
  },
  {
   "cell_type": "code",
   "execution_count": 49,
   "metadata": {},
   "outputs": [
    {
     "data": {
      "text/plain": [
       "{'name': 'topic_Bundeswehr_Soldaten_Sondervermögen',\n",
       " 'words': ['Bundeswehr',\n",
       "  'Soldaten',\n",
       "  'Sondervermögen',\n",
       "  'Soldatinnen',\n",
       "  'Beschaffung',\n",
       "  'Milliarden',\n",
       "  'Ausrüstung',\n",
       "  'Zeitenwende',\n",
       "  'Afghanistan',\n",
       "  'Truppe',\n",
       "  '100',\n",
       "  'NATO',\n",
       "  'Euro',\n",
       "  'Ukraine',\n",
       "  'Beschaffungswesen',\n",
       "  'Ausstattung',\n",
       "  'Sicherheit',\n",
       "  'Verantwortung',\n",
       "  'Streitkräfte',\n",
       "  'Verteidigung',\n",
       "  'Untersuchungsausschuss',\n",
       "  'Verteidigungsfähigkeit',\n",
       "  'Munition',\n",
       "  'Verteidigungshaushalt',\n",
       "  'Bündnisverteidigung',\n",
       "  'Geld',\n",
       "  'Waffen',\n",
       "  'Material',\n",
       "  'Ministerin',\n",
       "  'Freiheit',\n",
       "  'Gerät',\n",
       "  'Landes',\n",
       "  'Europa',\n",
       "  'Verteidigungsministerin',\n",
       "  'verteidigen',\n",
       "  'Wehrbeauftragte',\n",
       "  'Grundgesetzänderung',\n",
       "  'Einsatz',\n",
       "  'Krieg',\n",
       "  'schulden',\n",
       "  'erfüllen',\n",
       "  'Bundeswehrbeschaffungsbeschleunigungsgesetz',\n",
       "  'Parlamentsarmee',\n",
       "  'Bundeskanzler',\n",
       "  'Drohnen',\n",
       "  'Dienst',\n",
       "  'Enquete',\n",
       "  'Grundgesetz',\n",
       "  'Frieden',\n",
       "  'Landesverteidigung',\n",
       "  'Lambrecht',\n",
       "  'Bericht',\n",
       "  'Sondervermögens',\n",
       "  'Beschaffungen',\n",
       "  'Einsatzbereitschaft',\n",
       "  'Högl',\n",
       "  'Tag',\n",
       "  'Februar',\n",
       "  'Spezialkräfte',\n",
       "  'Gesetz',\n",
       "  'Verbündeten',\n",
       "  'beschaffen',\n",
       "  'Lage',\n",
       "  'Gepard',\n",
       "  '14',\n",
       "  'Fähigkeiten',\n",
       "  'Einsätze',\n",
       "  'braucht',\n",
       "  'Soldat',\n",
       "  'Aufrüstung',\n",
       "  'Taliban',\n",
       "  'gab',\n",
       "  'Vergabeverfahren',\n",
       "  'Schuldenbremse',\n",
       "  'Rüstungsindustrie',\n",
       "  'Verteidigungspolitik',\n",
       "  '20',\n",
       "  'Wochen',\n",
       "  'Schluss',\n",
       "  'Bündnispartner',\n",
       "  'unseres',\n",
       "  'Armee',\n",
       "  'Bewaffnung',\n",
       "  'Rechtsextremismus',\n",
       "  'Verteidigungsministerium',\n",
       "  'Einzelplan',\n",
       "  'Angriffskrieg',\n",
       "  'Panzer',\n",
       "  'Zustand',\n",
       "  'Entscheidung',\n",
       "  'Ziel',\n",
       "  '35',\n",
       "  'Personal',\n",
       "  'Verteidigungsetat',\n",
       "  'militärische',\n",
       "  'Abzug',\n",
       "  'schnell',\n",
       "  'Entscheidungen',\n",
       "  'Ausschreibungen',\n",
       "  'Beschleunigung'],\n",
       " 'tops': ['Tagesordnungspunkt 4 2022-04-27',\n",
       "  'Tagesordnungspunkt 20 2022-07-07',\n",
       "  'Einzelplan 14 2022-06-01',\n",
       "  'Einzelplan 14 2022-03-23',\n",
       "  'Tagesordnungspunkt 20 2022-04-29',\n",
       "  'Zusatzpunkt 8 2022-06-23',\n",
       "  'Tagesordnungspunkt 29 2022-06-24',\n",
       "  'Zusatzpunkt 3 2022-06-03',\n",
       "  'Zusatzpunkt 4 2022-06-03']}"
      ]
     },
     "execution_count": 49,
     "metadata": {},
     "output_type": "execute_result"
    }
   ],
   "source": [
    "topics[9]"
   ]
  },
  {
   "cell_type": "code",
   "execution_count": 32,
   "metadata": {},
   "outputs": [],
   "source": [
    "def filter_for(what, search_terms, speeches):\n",
    "    filtered_speeches = []\n",
    "    if what == 'text':\n",
    "        search_terms_low = []\n",
    "        for st in search_terms:\n",
    "            search_terms_low.append(st.lower())\n",
    "        for speech in speeches:\n",
    "            match = [st in speech[what].lower() for st in search_terms_low]\n",
    "            #if all(st == True for st in match):\n",
    "            if any(st in speech[what] for st in search_terms):\n",
    "                #print(match)\n",
    "            #if ( search_terms in speech[what] ):\n",
    "                filtered_speeches.append(speech)\n",
    "    else:\n",
    "        for speech in speeches:\n",
    "            if ( speech[what] in set(search_terms) ):\n",
    "                filtered_speeches.append(speech)\n",
    "        \n",
    "    filtered_speeches.sort(key = lambda x:x['date'])   \n",
    "    return filtered_speeches"
   ]
  },
  {
   "cell_type": "code",
   "execution_count": 50,
   "metadata": {},
   "outputs": [
    {
     "data": {
      "text/plain": [
       "80"
      ]
     },
     "execution_count": 50,
     "metadata": {},
     "output_type": "execute_result"
    }
   ],
   "source": [
    "subset_reaktionen = filter_for('discussion_title', topics[7]['tops'], speeches)\n",
    "len(subset_reaktionen)"
   ]
  },
  {
   "cell_type": "code",
   "execution_count": 34,
   "metadata": {},
   "outputs": [
    {
     "data": {
      "text/plain": [
       "183"
      ]
     },
     "execution_count": 34,
     "metadata": {},
     "output_type": "execute_result"
    }
   ],
   "source": []
  },
  {
   "cell_type": "code",
   "execution_count": null,
   "metadata": {},
   "outputs": [],
   "source": []
  },
  {
   "cell_type": "markdown",
   "metadata": {},
   "source": [
    "## 1.3 Generate Topic Network (I take now Julians Version)"
   ]
  },
  {
   "cell_type": "code",
   "execution_count": 17,
   "metadata": {},
   "outputs": [],
   "source": [
    "from sklearn.metrics.pairwise import cosine_similarity\n",
    "\n",
    "def get_topic2_topic(tm):\n",
    "    normalized_matrix = normalize(tm.components_, axis=1, norm='l1')\n",
    "    print(f'normalized_matrix: {normalized_matrix.shape}')\n",
    "\n",
    "    topic_to_topic = cosine_similarity(normalized_matrix)\n",
    "    print(f'topic2topic: {topic_to_topic.shape}')\n",
    "\n",
    "    return topic_to_topic\n",
    "\n",
    "def create_topic2topic_graph(t2t, extended_topic_list):\n",
    "    nodes = []\n",
    "    count = 1\n",
    "\n",
    "    for i, topic in enumerate(topics):\n",
    "        if topic['name'] == 'rest':\n",
    "            pass\n",
    "        else:\n",
    "            nodes.append({\n",
    "                'id': count,\n",
    "                'name': topic['name'],\n",
    "                'nTops': len(topic['tops'])+1\n",
    "            })\n",
    "            count += 1\n",
    "\n",
    "    graph = {\n",
    "        'directed': False,\n",
    "        'graph': 'semant_graph',\n",
    "        'links': [],\n",
    "        'nodes': nodes\n",
    "    }\n",
    "\n",
    "    for i, node_i in enumerate(graph['nodes']):\n",
    "        for j, node_j in enumerate(graph['nodes']):\n",
    "            if i < j:\n",
    "                source = node_i['id']\n",
    "                target = node_j['id']\n",
    "                weight = t2t[i, j]\n",
    "                if weight > 0.15:\n",
    "                    link = {\n",
    "                        'source': source,\n",
    "                        'target': target,\n",
    "                        'weight': weight\n",
    "                    }\n",
    "                    graph['links'].append(link)\n",
    "\n",
    "    return graph\n",
    "\n",
    "def get_graph_template(graph, properties):\n",
    "    node_label = properties['nodelabel']\n",
    "    node_coloring = properties['nodecoloring']\n",
    "    node_size = properties['nodesize']\n",
    "\n",
    "    lv = '//' if properties['edgevisibility'] else ''\n",
    "    parts = '//' if not properties['particles'] else ''\n",
    "    dm = '//' if not properties['darkmode'] else ''\n",
    "\n",
    "    d3graph = {\n",
    "        'nodes': graph['nodes'],\n",
    "        'links': graph['links']\n",
    "    }\n",
    "\n",
    "    htmlcode = f\"\"\"<head>\n",
    "        <style>\n",
    "            body {{margin: 0;}}\n",
    "            h3 {{text-align: center;}}\n",
    "            .center {{\n",
    "              display: block;\n",
    "              margin-left: auto;\n",
    "              margin-right: auto;\n",
    "            }}\n",
    "        </style>\n",
    "        <script src=\"https://unpkg.com/force-graph\"></script>\n",
    "        <meta charset=\"UTF-8\">\n",
    "    </head>\n",
    "    <body>\n",
    "    <img src=\"Logo.png\" height=\"150\" width=\"300\" class=\"center\">\n",
    "    <h3>DebSearch ist eine statistische Website, welche die aktuelle Legislaturperiode</h3>\n",
    "    <h3>in verschiedenen Kategorieren auswertet und visualisiert.</h3>\n",
    "    <div id=\"graph\"></div>\n",
    "    <script>\n",
    "        var data = {d3graph};\n",
    "        const elem = document.getElementById('graph');\n",
    "        const Graph = ForceGraph()(elem)\n",
    "            .graphData(data)\n",
    "            .nodeLabel('{node_label}')\n",
    "            .nodeRelSize(1)\n",
    "            .nodeVal('{node_size}')\n",
    "            .nodeAutoColorBy('{node_coloring}')\n",
    "            {dm}.backgroundColor('#000000')\n",
    "            {dm}.linkColor(() => 'rgba(255,255,255,0.2)')\n",
    "            {lv}.linkVisibility('false')\n",
    "            {parts}.linkDirectionalParticles(2)\n",
    "            {parts}.linkDirectionalParticleWidth(1.4)\n",
    "            //.onNodeClick (node => {{window.open('./TOPnets/TOPnet4topic0.html', '_blank')}})\n",
    "            .onNodeClick (node => {{window.open(`./TOPnets/TOPnet4topic${{node.id-1}}.html`, '_blank')}})\n",
    "            //.onNodeHover(node => elem.style.cursor = node ? 'pointer' : null)\n",
    "            .onNodeRightClick(node => {{\n",
    "                // Center/zoom on node\n",
    "                Graph.centerAt(node.x, node.y, 1000);\n",
    "                Graph.zoom(4, 2000);\n",
    "            }});\n",
    "    </script>\n",
    "    </body>\n",
    "    \"\"\"\n",
    "\n",
    "    return { 'graph': htmlcode }"
   ]
  },
  {
   "cell_type": "code",
   "execution_count": 18,
   "metadata": {},
   "outputs": [
    {
     "name": "stdout",
     "output_type": "stream",
     "text": [
      "normalized_matrix: (10, 22591)\n",
      "topic2topic: (10, 10)\n"
     ]
    },
    {
     "ename": "NameError",
     "evalue": "name 'topic_list' is not defined",
     "output_type": "error",
     "traceback": [
      "\u001b[0;31m---------------------------------------------------------------------------\u001b[0m",
      "\u001b[0;31mNameError\u001b[0m                                 Traceback (most recent call last)",
      "\u001b[0;32m<ipython-input-18-bc34c95dd3fc>\u001b[0m in \u001b[0;36m<module>\u001b[0;34m\u001b[0m\n\u001b[1;32m      1\u001b[0m \u001b[0mtopic2topic\u001b[0m \u001b[0;34m=\u001b[0m \u001b[0mget_topic2_topic\u001b[0m\u001b[0;34m(\u001b[0m\u001b[0mmodel\u001b[0m\u001b[0;34m)\u001b[0m\u001b[0;34m\u001b[0m\u001b[0;34m\u001b[0m\u001b[0m\n\u001b[1;32m      2\u001b[0m \u001b[0;34m\u001b[0m\u001b[0m\n\u001b[0;32m----> 3\u001b[0;31m \u001b[0mt2t_graph\u001b[0m \u001b[0;34m=\u001b[0m \u001b[0mcreate_topic2topic_graph\u001b[0m\u001b[0;34m(\u001b[0m\u001b[0mtopic2topic\u001b[0m\u001b[0;34m,\u001b[0m \u001b[0mtopic_list\u001b[0m\u001b[0;34m)\u001b[0m\u001b[0;34m\u001b[0m\u001b[0;34m\u001b[0m\u001b[0m\n\u001b[0m\u001b[1;32m      4\u001b[0m \u001b[0;34m\u001b[0m\u001b[0m\n\u001b[1;32m      5\u001b[0m \u001b[0mprint\u001b[0m\u001b[0;34m(\u001b[0m\u001b[0;34mf\"got a graph with {len(t2t_graph['nodes'])} nodes.\"\u001b[0m\u001b[0;34m)\u001b[0m\u001b[0;34m\u001b[0m\u001b[0;34m\u001b[0m\u001b[0m\n",
      "\u001b[0;31mNameError\u001b[0m: name 'topic_list' is not defined"
     ]
    }
   ],
   "source": [
    "topic2topic = get_topic2_topic(model)\n",
    "\n",
    "t2t_graph = create_topic2topic_graph(topic2topic, topic_list)\n",
    "\n",
    "print(f\"got a graph with {len(t2t_graph['nodes'])} nodes.\")\n",
    "print('the first node:')\n",
    "print(t2t_graph['nodes'][0])\n",
    "\n",
    "\n",
    "properties = {\n",
    "    'nodecoloring':'name',\n",
    "    'nodelabel': 'name',\n",
    "    'nodesize': 'nTops',\n",
    "    \"darkmode\": False,\n",
    "    \"edgevisibility\": True,\n",
    "    \"particles\": False\n",
    "}\n",
    "\n",
    "html_graph = get_graph_template(t2t_graph, properties)\n",
    "\n",
    "with open(f'./topic_network.html', 'w') as f:\n",
    "    f.write(html_graph['graph'])"
   ]
  },
  {
   "cell_type": "code",
   "execution_count": 27,
   "metadata": {},
   "outputs": [
    {
     "data": {
      "text/plain": [
       "('Tagesordnungspunkt 2 2022-04-27',\n",
       " [{'text': 'Frau Präsidentin! Sehr geehrte Kolleginnen und Kollegen! Eine Regierungsbefragung zu Zeiten des Krieges: Ich glaube, es ist nicht nur nicht einfach, sondern es ist eigentlich kaum möglich, in einer Minute Fragen dazu zu beantworten, was wir tun können, um diesen furchtbaren völkerrechtswidrigen Krieg zu stoppen. Denn die brutale Realität ist: Wir können diesen Krieg nicht mit einfachen Antworten stoppen. Das kann allein der russische Präsident. Daher ist es mir wichtig, hier heute im Namen der Bundesregierung eben nicht schnelle, einfache Antworten zu geben, sondern in dieser komplexen Lage, in der wir uns befinden, deutlich zu machen, was unsere Abwägungen sind, und vor allem ehrlich zu sein. Denn wir können in diesen Zeiten nur handeln, wenn wir gemeinsam mit unseren Bündnispartnern agieren, wenn wir entschlossen agieren und pragmatisch sind. So können wir dazu beitragen, Leid zu mindern, die Ukraine zu stützen, sie bei ihrem Recht auf Selbstverteidigung zu unterstützen und vor allen Dingen uns gemeinsam mit unseren internationalen Partnern geschlossen gegen das russische Regime aufzustellen. Deswegen haben wir – das ist bekannt – in den letzten Wochen fünf Sanktionspakete gemeinsam beschlossen. Es sind Sanktionspakete, die, wenn es sein muss, auf Dauer tragen können, und zwar nicht nur für die Europäische Union, sondern auch für die Wertegemeinschaft international, die diese Haltung teilt. Wir haben in den letzten Wochen alles dafür getan, unsere Hilfe für die Ukraine auszubauen: finanziell, vor allen Dingen humanitär und auch mit Waffen. Da das Waffenthema eines der Themen war, das alle hier im Parlament, die Öffentlichkeit, die ganze Welt bewegt hat, möchte ich eingangs darauf fokussieren. Es ist wichtig, gerade hier im Hohen Haus deutlich zu machen, was unsere Abwägungen sind und vor allen Dingen welche Schritte wir gehen und was wir dann auch einhalten können. Denn Versprechen allein sind schnell gemacht; man hat dann eine schnelle Überschrift in der Zeitung generiert. Aber das Entscheidende ist doch, dass diese Waffenlieferungen auch ankommen müssen. Es geht nicht darum, dass wir uns besser fühlen, dass wir glauben, an einem Tag einmal etwas Richtiges gesagt oder getan zu haben, sondern das Entscheidende ist, dass wir die Ukraine, die mutigen Menschen dort vor Ort bei ihrem Kampf für ihre Freiheit, für ihren Frieden und für unsere europäische Sicherheitsordnung so unterstützen, dass sie damit auch wirklich Unterstützung erfahren. Ich möchte hier ganz deutlich sagen: Wir stehen als größtes Land der Europäischen Union dabei in einer besonderen Verantwortung. Zu Recht fragen viele kleinere Länder: Wie genau können wir das machen? Wie genau können wir das machen, die nicht die finanziellen Mittel haben, die nicht die Schlagkraft haben, die nicht die diplomatischen Vertretungen weltweit haben? Daher war es für uns so wichtig, dass wir uns bei diesen Waffenlieferungen mit unseren Partnern entsprechend abstimmen und immer gemeinsame Schritte gehen. Wir haben am Anfang einen bestimmten Weg gewählt; denn in einem Krieg, der mit allen Regeln, auf die wir uns verständigt hatten, bricht, kann man nicht voraussehen: Rational gesehen müsste das russische Regime Folgendes tun. – Nein, wir wissen nicht, was der nächste Schritt ist. Deswegen haben wir uns entschieden, als wir am Anfang hier im Bundestag deutlich gemacht haben: „Ja, auch wir liefern Waffen“, dass wir nicht groß darüber sprechen. Man kann nun rückwirkend fragen: War das sinnvoll? War das nicht sinnvoll? Es war damals unsere Entscheidung in der Verantwortung dafür, dass diejenigen, die diese Waffen dann transportieren, nicht angegriffen werden oder dass die Waffen überhaupt ihr Ziel erreichen können. Uns ist klar – das haben wir weltweit erlebt; das erlebe ich auch als Außenministerin –, dass dann natürlich viele Fragen kommen. Deswegen möchte ich jetzt, wo die Waffen, die wir geliefert haben, angekommen sind, im Namen der Bundesregierung einmal deutlich machen, was wir geliefert haben – ohne zu stark ins Detail zu gehen –: Tausende Panzerfäuste, Flugabwehrraketen vom Typ Stinger, Fliegerfäuste vom Typ Strela, im zweistelligen Millionenbereich Munition, Bunkerfäuste, Maschinengewehre, Panzerabwehrrichtminen, im sechsstelligen Bereich Handgranaten, Sprengladungen. Darüber hinaus haben wir, als wir keine eigenen Bestände mehr hatten, eine Industrieliste aufgelegt, die die Lieferung weiterer Panzerminen und vor allen Dingen Allite- - – da haben Sie wieder was für Twitter – Artilleriemunition vorsieht. Wir haben vor allen Dingen am 6. April, als die Brutalität dieses Krieges noch einmal auf ganz dramatische Art und Weise zugeschlagen hat, gesagt: Wir müssen jetzt als NATO-Partner anders reagieren. – Deswegen hatten wir am 6. April – wir alle wissen, was das für ein Tag war; da hatten wir hier eine andere Abstimmung – ein gemeinsames NATO-Außenministertreffen. In meiner Verantwortung als Außenministerin dieses Landes und G‑7-Vorsitz haben wir uns am Abend davor mit unseren G‑7-Partnern verständigt: „Wir müssen diese Lieferung besser koordinieren“; denn wir haben festgestellt: Niemand hat alles. Unsere Länder haben nicht wie Russland in den letzten Jahren massiv aufgerüstet, weil wir an die Friedensordnung geglaubt haben. Wir haben ab dem 6. April – und zwar nicht in aller Öffentlichkeit, sondern so, dass es funktioniert – einen Ringtausch vorbereitet, der zum Zweck hat, dass die Materialien, die wir brauchen, also auch Panzer sowjetischer Bauart, die sofort bedient werden können, dann von unseren Partnern geliefert werden können. Wir füllen dann die Lücken, die bei anderen Armeen dadurch entstehen. Das ist Sinn und Zweck dieses Ringtausches: gemeinsam zu agieren und nicht zu sagen, wer schneller oder wer besser ist, sondern gemeinsam das zu leisten, was wir jetzt, dieser Tage leisten können. Darüber hinaus – das haben Sie gestern mitbekommen – hat die Verteidigungsministerin – auch wieder nicht als Schnellschuss – bei einem gemeinsamen Treffen mit den anderen Verteidigungsministerinnen und Verteidigungsministern erklärt, dass wir zusätzlich Gepard-Flugabwehrpanzer liefern werden. Ja, das ist ein weiterer Schritt, und das ist der Schritt, den wir jetzt gemeinsam gehen können. Zugleich bereiten wir mit den Niederländern – aber ich kann da noch nicht ins Detail gehen – ein Projekt vor, in dem wir unsere Materialien, Munition und Ausbildung zusammenbringen. Auch hier zeigt sich wieder: Nicht ein Land hat komplett alles, was man liefern kann, sondern nur zusammen können wir etwas erreichen. Zugleich ist – das hat meine Reise ins Baltikum unterstrichen – unsere große Herausforderung, dass wir unser eigenes Bündnisgebiet sichern müssen. Hier in Berlin fühlen wir uns wohl. Da sagen wir: Die Grenze ist Tausende von Kilometern entfernt. – Aber wenn man im Baltikum steht, wenn man auf die andere Seite wirklich rübergucken kann, wenn man sich vergegenwärtigt, was eigentlich der Suwalki-Korridor ist, nämlich eine ganz schmale Strecke, wo das Baltikum abgeschnitten werden kann, dann können wir nicht einfach sagen: „Ja, ja, wir sind schon da, wenn was passieren sollte“, sondern dann haben wir die Verantwortung, unsere baltischen Freunde und Nachbarn, die wie wir schon einmal einen Freiheitskampf für uns alle gekämpft haben, zu unterstützen. Frau Ministerin, kommen Sie zum Schluss. Auch das ist jetzt unsere gemeinsame Herausforderung. Letzter Satz, weil die Lage eben so komplex ist: Wir tragen als eines der größten Industrieländer dieser Welt eine Verantwortung. Dieser Krieg betrifft die ganze Welt, egal ob man bei den Sanktionen mitmacht oder nicht, egal ob man an eine internationale regelbasierte Ordnung glaubt oder nicht. Aber wir als Industrieländer haben die Verantwortung, andere Länder nicht aus dem Blick zu verlieren. Ich danke den Kolleginnen und Kollegen, die mit in der Sahelzone waren. Wir erleben auf dramatische Art und Weise: Neben diesem brutalen Krieg wird es eine Ernährungskrise, einen Ernährungskampf geben, – Kommen Sie bitte zum Schluss. – der mitten in die Klimakrise reinschlägt. Das müssen wir gemeinsam angehen: pragmatisch und mit der Verantwortung, dass auch Deutschland eine Führungsrolle hat. Herzlichen Dank. ',\n",
       "   'id': 'ID203000200',\n",
       "   'period': '18',\n",
       "   'date': '2022-04-27',\n",
       "   'name': 'Annalena Baerbock',\n",
       "   'party': 'BÜNDNIS 90/DIE GRÜNEN',\n",
       "   'redner_id': '11004245',\n",
       "   'discussion_title': 'Tagesordnungspunkt 2 2022-04-27'},\n",
       "  {'text': 'Frau Ministerin, erst einmal herzlichen Dank für die Ausführungen, auch wenn ich vielleicht für die Zukunft sagen möchte, dass das eine Regierungsbefragung und keine Regierungserklärung sein sollte. Wenn das den Sinn und Zweck noch erfüllen soll, dann müssen wir schon die Gelegenheit haben, auch Fragen zu stellen; vieles teilen wir ja inhaltlich. Sie haben auf den Entscheidungsprozess hingewiesen, der die Lieferung schwerer Waffen betrifft, hatten sich selber zu dieser Frage prominent geäußert und schon vor 14 Tagen gesagt, es gebe keine Ausreden. Jetzt hat es dennoch weitere 14 Tage gebraucht – seit dem 6. April sind 20 Tage vergangen –, bis die Bundesregierung bereit war, Gepard-Panzer zu liefern. Wie ist Ihre Einschätzung? Hätte man das nicht früher machen können, und wäre es nicht effektiver, nicht sozusagen das komplexeste und schwierigste Panzersystem zu liefern, bei dem man mindestens ein halbes Jahr Einweisung braucht, um es bedienen zu können? Wäre es nicht einfacher, ein einfaches Panzersystem, beispielsweise einen Schützenpanzer, zu liefern, und stellen Sie das für die Ukraine in Aussicht? Sie können antworten. ',\n",
       "   'id': 'ID203000300',\n",
       "   'period': '18',\n",
       "   'date': '2022-04-27',\n",
       "   'name': 'Johann David Wadephul',\n",
       "   'party': 'CDU/CSU',\n",
       "   'redner_id': '11004182',\n",
       "   'discussion_title': 'Tagesordnungspunkt 2 2022-04-27'},\n",
       "  {'text': 'Sie haben vollkommen recht mit der Zeit. Da das jetzt drei Fragen in einer waren und ich diese Minute jetzt einhalten möchte, können wir vielleicht bei der Nachfrage noch welche mitnehmen. Ich habe als Außenministerin dieses Landes am 6. April gesagt, dass wir die Lieferung schwerer Waffen mit erörtern; das war ja Sinn und Zweck dieses gemeinsamen Treffens der NATO-Außenministerinnen und -Außenminister. Ich habe gerade versucht, zu erläutern, dass wir da gemeinsam mit den anderen Partnern den Startschuss dafür gegeben haben, die Lieferung schwerer Waffen vorzubereiten, und zwar im Ringtausch. Sie haben Schützenpanzer angesprochen. Wir alle wissen, dass wir auch die nicht einfach so liefern könnten. Wir müssen jetzt das bereitstellen und liefern, was sofort zum Einsatz kommen kann, nämlich Panzer sowjetischer Bauart. Wir ersetzen dann im Ringtausch die Panzer, die wir den Partnern bereitstellen können. Eine Nachfrage? ',\n",
       "   'id': 'ID203000400',\n",
       "   'period': '18',\n",
       "   'date': '2022-04-27',\n",
       "   'name': 'Annalena Baerbock',\n",
       "   'party': 'BÜNDNIS 90/DIE GRÜNEN',\n",
       "   'redner_id': '11004245',\n",
       "   'discussion_title': 'Tagesordnungspunkt 2 2022-04-27'},\n",
       "  {'text': 'In Bezug auf die Lieferung schwerer Waffen, insbesondere von Panzern, hat der Bundeskanzler einen Zusammenhang hergestellt, und da interessiert mich Ihre Meinung. Er hat nämlich den Eindruck erweckt, dass die Lieferung dieser schweren Waffen die Gefahr eines Atomkrieges herbeiführen könnte. Teilen Sie diese Auffassung? Und wenn Sie diese Auffassung teilen: Welche Rolle hat das bei Ihrer Entscheidungsfindung gespielt? Welche Bedeutung messen Sie den Beistandszusagen bei, die wir uns in der NATO in Artikel 5 des Nordatlantikvertrages gegeben haben? Ist das auch ein Maßstab für die Frage, ob wir eintreten und ob wir uns als NATO – wie Sie gerade gesagt haben – im Suwalki Gap verteidigen, oder ist das kein Maßstab an dieser Stelle? ',\n",
       "   'id': 'ID203000500',\n",
       "   'period': '18',\n",
       "   'date': '2022-04-27',\n",
       "   'name': 'Johann David Wadephul',\n",
       "   'party': 'CDU/CSU',\n",
       "   'redner_id': '11004182',\n",
       "   'discussion_title': 'Tagesordnungspunkt 2 2022-04-27'},\n",
       "  {'text': 'Ich beantworte angesichts der Zeit zunächst die erste Frage. Mit Blick darauf, was passieren könnte – das habe ich eingangs versucht zu sagen –: Wir wissen es nicht. Niemand in diesem Hohen Haus – ich glaube, niemand auf der Welt, außer Herr Putin selbst – kann zu hundert Prozent sagen: Wenn wir jenen Schritt gehen, dann passiert am nächsten Tag dieses. – Deswegen können wir auch nichts komplett ausschließen. Wir haben die Verantwortung, auf der einen Seite immer die Risiken deutlich zu machen und auf der anderen Seite keine Panik zu schüren. Es ist ja Sinn und Zweck dieses hybriden Krieges, andere Länder in Verunsicherung zu bringen, andere Länder zu spalten. Daher ist es so wichtig und richtig, immer wieder abzuwägen; das habe ich im Baltikum für die deutsche Bundesregierung deutlich gemacht. Völkerrechtlich ist die Lieferung dessen, was wir hier beschließen – unabhängig davon, wie groß, wie klein, ob rechts- oder linksherum gedreht –, kein Kriegseintritt, weil wir das Recht der Ukraine auf Selbstverteidigung, das in Artikel 51 der Charta der Vereinten Nationen verbrieft ist, unterstützen. Da Herr Putin deutlich gemacht hat, dass ihn die Charta der Vereinten Nationen nicht mehr so herzlich interessiert, wird er sich wahrscheinlich auch nicht an jede Völkerrechtsnorm entsprechend halten. Deswegen ist das, was Herr Putin denkt, was ein Schritt sein könnte, allein im Ermessen dieses Präsidenten. So brutal ist die Realität. Deswegen haben wir auch gemeinsam gesagt: Überhaupt Waffen zu liefern, ist ein Schritt, den wir abwägen, und wir haben ihn als richtig empfunden, weil wir die Ukraine nicht alleinlassen dürfen und wollen. Wir halten diesen Schritt der Waffenlieferung – wobei wir nichts komplett ausschließen können – für den richtigen Schritt. Denn ansonsten müssten wir der Ukraine sagen: Kämpft ihr alleine! – Und das wollen wir nicht tun. Wir stehen in Solidarität an der Seite der Ukraine. Ich habe noch eine weitere Frage gesehen, von Jürgen Hardt. ',\n",
       "   'id': 'ID203000600',\n",
       "   'period': '18',\n",
       "   'date': '2022-04-27',\n",
       "   'name': 'Annalena Baerbock',\n",
       "   'party': 'BÜNDNIS 90/DIE GRÜNEN',\n",
       "   'redner_id': '11004245',\n",
       "   'discussion_title': 'Tagesordnungspunkt 2 2022-04-27'},\n",
       "  {'text': 'Danke schön. – Frau Bundesministerin, ich finde, dass Sie auf die Frage meines Kollegen Wadephul nicht vollends eingegangen sind. Deswegen will ich es noch einmal präzisieren. Wir haben vor wenigen Tagen ein Interview des Bundeskanzlers gelesen, in dem er gesagt hat, man könne oder wolle keine schweren Waffen liefern, weil dies die Gefahr einer Eskalation bis hin zu einem Atomkrieg berge. – So habe ich es verstanden; so hat es die deutsche Öffentlichkeit verstanden. Was hat es an neuen Erkenntnissen gegeben in den letzten zehn Tagen, dass die Bundesregierung jetzt doch zu dem, wie wir finden, richtigen Schritt kommt, auch bereit zu sein, schwere Waffen zu liefern? Frau Ministerin, Sie können antworten. ',\n",
       "   'id': 'ID203000700',\n",
       "   'period': '18',\n",
       "   'date': '2022-04-27',\n",
       "   'name': 'Jürgen Hardt',\n",
       "   'party': 'CDU/CSU',\n",
       "   'redner_id': '11004050',\n",
       "   'discussion_title': 'Tagesordnungspunkt 2 2022-04-27'},\n",
       "  {'text': 'Mir liegt auf der Zunge, zu sagen: Zu Zitaten sage ich an dieser Stelle nichts, wenn ich das Zitat jetzt nicht schwarz auf weiß hier habe; aber es wurde eben schon von anderen darauf hingewiesen, die das Zitat direkt vor sich haben. Ich weiß, was der Bundeskanzler in diesem Interview gesagt hat und was wir im Kabinett gemeinsam vereinbart haben: dass wir gemeinsam mit unseren Verbündeten das tun müssen und werden und jetzt auch tun, was wir können, damit wir angesichts der weiteren Eskalation, angesichts der strategischen Neuausrichtung der Russen die Ukraine unterstützen können. Deswegen liefern wir die Gepard-Panzer, wie gestern von der Verteidigungsministerin verkündet worden ist. Gibt es weitere Fragen? – Es gibt noch eine Frage von Mario Czaja. ',\n",
       "   'id': 'ID203000800',\n",
       "   'period': '18',\n",
       "   'date': '2022-04-27',\n",
       "   'name': 'Annalena Baerbock',\n",
       "   'party': 'BÜNDNIS 90/DIE GRÜNEN',\n",
       "   'redner_id': '11004245',\n",
       "   'discussion_title': 'Tagesordnungspunkt 2 2022-04-27'},\n",
       "  {'text': 'Frau Ministerin, ist es denn so, dass der Bundeskanzler mit dieser Aussage Panik geschürt hat? ',\n",
       "   'id': 'ID203000900',\n",
       "   'period': '18',\n",
       "   'date': '2022-04-27',\n",
       "   'name': 'Mario Czaja',\n",
       "   'party': 'CDU/CSU',\n",
       "   'redner_id': '11005037',\n",
       "   'discussion_title': 'Tagesordnungspunkt 2 2022-04-27'},\n",
       "  {'text': 'Nein. Herr Huber. ',\n",
       "   'id': 'ID203001000',\n",
       "   'period': '18',\n",
       "   'date': '2022-04-27',\n",
       "   'name': 'Annalena Baerbock',\n",
       "   'party': 'BÜNDNIS 90/DIE GRÜNEN',\n",
       "   'redner_id': '11004245',\n",
       "   'discussion_title': 'Tagesordnungspunkt 2 2022-04-27'},\n",
       "  {'text': 'Vielen Dank, Frau Präsidentin, für die Zulassung der Frage. – Frau Ministerin, zum Themenkomplex der Gepard-Lieferungen hätte ich schon eine Frage, und zwar deshalb, weil die Bundeswehr selbst Bedarf hat. Bei der Luftabwehr im Nahbereich des Heeres gehören Gepard-Systeme genauso dazu wie Ozelot-Systeme, von denen die Bundeswehr nur noch 19 Systeme hat, die mit Stinger-Raketen bewaffnet sind. Gepard sind andere Systeme – das ist richtig –, aber die Bundeswehr braucht sie auch selber. Von daher ist das Thema der Lieferung dieser Waffen schon ein sensibles. Dazu hätte ich die Frage: Haben Sie Kenntnis, auch aus ihren Beratungen mit den Bündnispartnern, dass beispielsweise auch die Briten oder die Amerikaner, die letztendlich in der NATO dominierend sind, diese Systeme in dieser Dimension liefern oder liefern werden, und, wenn nicht, warum nicht? ',\n",
       "   'id': 'ID203001100',\n",
       "   'period': '18',\n",
       "   'date': '2022-04-27',\n",
       "   'name': 'Johannes Huber',\n",
       "   'party': 'Fraktionslos',\n",
       "   'redner_id': '11004764',\n",
       "   'discussion_title': 'Tagesordnungspunkt 2 2022-04-27'},\n",
       "  {'text': 'Danke für die Frage. – Mit Blick auf das, was Sie beschrieben haben: So ist es. Auch im Baltikum konnten wir sehen, dass wir von Ozelot nicht sehr viele haben und dass wir das vor allen Dingen auch in die NATO eingemeldet haben. Genau das ist diese Abwägung, die wir immer wieder treffen müssen, bei jeder einzelnen Frage, was wir liefern können. Deswegen haben wir mit Blick auf die Gepard-Panzer deutlich gemacht: Wir werden die Ausfuhrgenehmigung erteilen. Das ist etwas, das die Industrie entsprechend liefern kann und das nicht aus eigenen Beständen kommt. Mit Blick auf andere Länder: Wie gesagt, wir gehen im Gleichschritt mit den anderen Ländern, und derzeit liefert kein anderes westliches Land Schützenpanzer. Ich lasse jetzt noch zwei Fragesteller zu. Dann werden wir in der Liste der angemeldeten Fragesteller weitergehen. Jürgen Trittin ist der nächste Fragesteller zu diesem Themenbereich. ',\n",
       "   'id': 'ID203001200',\n",
       "   'period': '18',\n",
       "   'date': '2022-04-27',\n",
       "   'name': 'Annalena Baerbock',\n",
       "   'party': 'BÜNDNIS 90/DIE GRÜNEN',\n",
       "   'redner_id': '11004245',\n",
       "   'discussion_title': 'Tagesordnungspunkt 2 2022-04-27'},\n",
       "  {'text': 'Frau Bundesministerin, es ist so ein bisschen eingerissen, dass viele jetzt Details von Waffensystemen diskutieren. Ich würde versuchen, Ihnen eine andere Frage zu stellen. Diese Frage lautet: Was ist eigentlich Ziel dessen, was wir dort in der Ukraine betreiben, auch mit diesen Waffenlieferungen? Würden Sie der Aussage Ihres amerikanischen Kollegen Antony Blinken zustimmen, der in Kiew gesagt hat: „Unser Ziel ist es, sicherzustellen, dass die Ukrainer die Fähigkeit haben, die russische Aggression abzuwehren und ihre Position an einem künftigen Verhandlungstisch zu stärken“? Das heißt, dass das Militär dazu dienen muss, eine politische Lösung zur Beendigung dieses Krieges herbeizuführen. ',\n",
       "   'id': 'ID203001300',\n",
       "   'period': '18',\n",
       "   'date': '2022-04-27',\n",
       "   'name': 'Jürgen Trittin',\n",
       "   'party': 'BÜNDNIS 90/DIE GRÜNEN',\n",
       "   'redner_id': '11003246',\n",
       "   'discussion_title': 'Tagesordnungspunkt 2 2022-04-27'},\n",
       "  {'text': 'Ja, und das ist auch kein Zufall. Wie gesagt, wir stimmen uns sehr, sehr eng mit unseren Bündnispartnern ab; denn es macht überhaupt keinen Sinn, dass ein Akteur – insbesondere wenn wir von Ländern sprechen, die große Verantwortung in dieser Welt tragen – das eine macht, und das andere Land macht das Gegenteil. Deswegen braucht es dann manchmal auch zwei, drei Tage länger, um sich mit allen entsprechend abzustimmen. Eben ist auch die Frage gestellt worden: Was bedeutet das für die eigenen Bestände? Ich hatte das eingangs gesagt: Zum Glück – das ist jedenfalls meine persönliche Haltung – haben wir uns auf keinen Angriffskrieg, aber auch auf keinen Verteidigungskrieg in dem Maßstab vorbereitet, dass wir in den letzten Jahren nur hochgerüstet haben. Wir haben an die regelbasierte internationale Ordnung geglaubt. Deswegen steht jedes Land vor der Herausforderung, zu sagen: Nicht alle westlichen Bündnispartner haben alles, was man theoretisch jetzt bräuchte und einsetzen könnte. Auch wir erreichen bei dem, was wir für unsere Bündnis- und Verteidigungsfähigkeit in die NATO einmelden, nicht das absolute Ziel: Jedes Land gibt 50 Prozent seines Haushaltes für Militär aus. Nein, wir wägen auch da immer ab: Was braucht es für Verteidigung? Offensichtlich werden wir als Bundesrepublik Deutschland nachsteuern, weil wir feststellen: Wir brauchen in Zukunft mehr für Verteidigung. Deswegen ist es jetzt so entscheidend, dass wir gemeinsam mit den anderen Akteuren liefern, und zwar so, – Frau Ministerin, kommen Sie zum Schluss. – dass wir eine politische Antwort geben können, und zwar zur Unterstützung der Ukraine. Die Ukraine ist einzig und allein die Akteurin, die darüber entscheidet, wie die Zukunft ihres Landes ist. Die letzte Frage in dieser Runde: Herr Keuter. ',\n",
       "   'id': 'ID203001400',\n",
       "   'period': '18',\n",
       "   'date': '2022-04-27',\n",
       "   'name': 'Annalena Baerbock',\n",
       "   'party': 'BÜNDNIS 90/DIE GRÜNEN',\n",
       "   'redner_id': '11004245',\n",
       "   'discussion_title': 'Tagesordnungspunkt 2 2022-04-27'},\n",
       "  {'text': 'Frau Bundesministerin, aus Ihrem Hause sind verstörende Töne zu hören: Man wolle Russland isolieren, man werde die Ukraine einseitig unterstützen, auch mit Waffen, und dies sei nicht als Kriegseintritt zu werten. Ich frage Sie: Wie stellen Sie sich die strategischen Ziele vor? Wie kann dieser Konflikt beendet werden, insbesondere mit der Interessenswahrung aller Seiten in der Ostukraine und in der Krim? Und: Wie stellt sich die Bundesrepublik perspektivisch den künftigen Umgang mit Russland vor? ',\n",
       "   'id': 'ID203001500',\n",
       "   'period': '18',\n",
       "   'date': '2022-04-27',\n",
       "   'name': 'Stefan Keuter',\n",
       "   'party': 'AfD',\n",
       "   'redner_id': '11004778',\n",
       "   'discussion_title': 'Tagesordnungspunkt 2 2022-04-27'},\n",
       "  {'text': 'Das mag Sie verstören, aber offensichtlich verstört es weltweit nicht so viele; denn 141 Staaten dieser Welt haben gemeinsam beschlossen, dass wir diesen Weg gehen, das russische Regime zu isolieren, und zwar mit harten Sanktionen und auch mit Waffenlieferungen. Denn das einzige Interesse, das ich als deutsche Außenministerin, das diese Bundesrepublik, das wir als Partnerinnen und Partner haben, ist, dass die Menschen in der Ukraine – im Westen und im Osten des Landes, im Norden und im Süden des Landes, in kleinen und in großen Städten, an der Küste oder im Binnenland – in Frieden leben können, so wie Sie das können mit Ihrer Familie, so wie ich das kann mit meiner Familie und so wie das alle Menschen in Europa können sollten. Dafür trägt Russland allein, der russische Präsident, die Verantwortung, und deswegen treffen ihn persönlich und sein Umfeld unsere Sanktionen. Ich habe wiederholt deutlich gemacht: Das ist nicht gegen die Menschen in Russland gerichtet, sondern Putin trägt dafür die Verantwortung, dass er die Zukunft seines eigenen Landes mit zerstört. Wir kommen zum nächsten angemeldeten Fragesteller. Dr. Karamba Diaby hat das Wort, SPD-Fraktion. ',\n",
       "   'id': 'ID203001600',\n",
       "   'period': '18',\n",
       "   'date': '2022-04-27',\n",
       "   'name': 'Annalena Baerbock',\n",
       "   'party': 'BÜNDNIS 90/DIE GRÜNEN',\n",
       "   'redner_id': '11004245',\n",
       "   'discussion_title': 'Tagesordnungspunkt 2 2022-04-27'},\n",
       "  {'text': 'Frau Bundesministerin, neben den Krisen und Herausforderungen, die Sie erwähnt haben, dürfen wir ja die Situation in anderen Teilen der Welt nicht vergessen. Sie haben zu Recht die Situation in der Sahelzone erwähnt, wo wir gemeinsam unterwegs waren. Daher meine Frage an Sie: Wo sehen Sie die größten Herausforderungen bezüglich einer Afrika-Strategie der Bundesregierung? Denn die Krisen, die wir gesehen haben, und unsere Begegnungen mit den Menschen, den NGOs – Frauenorganisationen und andere – geben wirklich Anlass, dass wir uns Gedanken darüber machen, wie eine Afrika-Strategie dieser Bundesregierung aussehen könnte. Deshalb diese Frage an Sie. ',\n",
       "   'id': 'ID203001700',\n",
       "   'period': '18',\n",
       "   'date': '2022-04-27',\n",
       "   'name': 'Karamba Diaby',\n",
       "   'party': 'SPD',\n",
       "   'redner_id': '11004259',\n",
       "   'discussion_title': 'Tagesordnungspunkt 2 2022-04-27'},\n",
       "  {'text': 'Vielen Dank auch für die Frage und vielen Dank für die Reisebegleitung, ebenso an die Kollegen Erndl, Dağdelen, Lechte, Spellerberg und Widmann-Mauz. Da hier die Antwortzeit begrenzt ist, empfehle ich sehr, vielleicht noch mal mit den Kolleginnen und Kollegen zu sprechen. Denn wenn man die Brutalität, mit der die weiteren Krisen dort zuschlagen, selber erlebt – und das bei 47 Grad im Schatten –, dann ist das, glaube ich, noch mal eine andere Dimension. Die Kolleginnen und Kollegen aus dem Bundestag waren auch beim World Food Programme; ein zusätzlicher Termin, bei dem ich nicht persönlich dabei war. Sie haben mir beschrieben, was es bedeutet, dass jetzt dieser Krieg auf eine Ernährungskrise trifft, die im Sahel ohnehin schon da ist, weil im letzten Jahr die Ernte ausgefallen ist und weil die Klimafolgen auf brutale Art und Weise spürbar sind. Sie haben selber beschrieben – ich gebe das hier nur wieder –, wie es aussieht, wenn eine Palette, die vom World Food Programme eigentlich als Ernährungsration für eine Familie für die nächsten Monate gedacht war, jetzt halbiert werden muss. Deswegen sehe ich es für uns jetzt akut als zentralen Bestandteil an – das werden wir auch im Ergänzungshaushalt verantworten –, - Kommen Sie zum Schluss, bitte. – zusätzliche Mittel für das World Food Programme, zusätzliche humanitäre Mittel, bereitzustellen. Denn ansonsten werden wir diese Hungersnot im Sahel und an anderen Orten dieser Welt nicht abwenden können. Sie haben die Möglichkeit zu einer Nachfrage, Herr Diaby. ',\n",
       "   'id': 'ID203001800',\n",
       "   'period': '18',\n",
       "   'date': '2022-04-27',\n",
       "   'name': 'Annalena Baerbock',\n",
       "   'party': 'BÜNDNIS 90/DIE GRÜNEN',\n",
       "   'redner_id': '11004245',\n",
       "   'discussion_title': 'Tagesordnungspunkt 2 2022-04-27'},\n",
       "  {'text': 'Sehr gerne. – Frau Ministerin, mich interessieren natürlich auch die weiteren Überlegungen zur Afrika-Strategie. Sie haben hier einen Punkt genannt. Mich würde sehr interessieren: Was beinhaltet die Afrika-Strategie der Bundesregierung für die nächsten Jahre? Denn wir sind am Anfang einer Wahlperiode. Da haben wir doch die Möglichkeit, diese Strategie noch mal anzugehen. ',\n",
       "   'id': 'ID203001900',\n",
       "   'period': '18',\n",
       "   'date': '2022-04-27',\n",
       "   'name': 'Karamba Diaby',\n",
       "   'party': 'SPD',\n",
       "   'redner_id': '11004259',\n",
       "   'discussion_title': 'Tagesordnungspunkt 2 2022-04-27'},\n",
       "  {'text': 'Im Rahmen der nationalen Sicherheitsstrategie werden wir eine China-Strategie formulieren und gemeinsam mit dem Entwicklungsministerium und den anderen federführenden Ministerien auch die Afrika-Strategie noch mal neu ausrichten. Aber das Allerwichtigste dieser Tage ist – deswegen bin ich auf die akuten Punkte eingegangen –, dass wir eine Verantwortung für Afrika in diesem Moment haben. Man könnte ja auch eine andere strategische Entscheidung treffen und sagen: Wir fokussieren uns allein auf die Sicherheit in Europa, auf unsere Energiesicherheit, auf unsere Ernährungs- und Lebensmittelsicherheit, auf unsere soziale Sicherheit. – Das wird auch ein riesengroßer Kraftakt. Aber unsere Strategie und Anstrengung ist, genau in diesem Moment zu sagen: Wir haben jetzt umso mehr eine Verantwortung für Afrika: im Klimabereich – weil Sie die Themen angesprochen haben; da trifft es am stärksten zu, und zwar jetzt –, in der Frage der Ernährungssicherheit, in der Sicherheitsfrage. Über Mali und unser Engagement in Niger werden wir später noch diskutieren. Wir haben dort auch eine sicherheitspolitische Verantwortung, weil dort eben nicht nur die Klimakrise auf die Ernährungskrise trifft, sondern weil es dort auch terroristische Organisationen gibt. Und da tragen wir eine Verantwortung, uns weiter zu engagieren. Es gibt eine weitere Nachfrage dazu von dem Kollegen Thomas Erndl. ',\n",
       "   'id': 'ID203002000',\n",
       "   'period': '18',\n",
       "   'date': '2022-04-27',\n",
       "   'name': 'Annalena Baerbock',\n",
       "   'party': 'BÜNDNIS 90/DIE GRÜNEN',\n",
       "   'redner_id': '11004245',\n",
       "   'discussion_title': 'Tagesordnungspunkt 2 2022-04-27'},\n",
       "  {'text': 'Vielen Dank, Frau Präsidentin. – Frau Ministerin, Sie haben gerade die Sicherheitsfrage in Mali angesprochen. Sicherheit ist die Grundlage für die Entwicklung, auch für Investitionen auf der einen Seite. Auf der anderen Seite ist es natürlich auch unser Ziel, vor der europäischen Haustür stabile Zustände zu haben. Mit Blick auf die Mandate, deren Verlängerung in Kürze hier im Haus zur Diskussion ansteht, ist klar: Die Franzosen ziehen sich aus Mali zurück, und unser UN-Mandat kann in dieser Form dann nicht mehr ausreichend sein; wir können da einfach nicht mehr so weitermachen. Ihre Kabinettskollegin, die Verteidigungsministerin, hat vor wenigen Wochen gesagt – ich darf zitieren –: Ich kann mir eine Fortsetzung der Ausbildungsmission in Mali nicht vorstellen. – Dazu meine Frage: Was folgt denn nun aus dem Dilemma, dass wir in Mali einerseits gut ausgebildete Streitkräfte brauchen, die auch die Terrorgruppen bekämpfen können, um die fragile Sicherheitslage in den Griff zu bekommen, und wir es auf der anderen Seite mit Putschisten zu tun haben, die auch mit Russland kooperieren? Was folgt aus diesem Dilemma? ',\n",
       "   'id': 'ID203002100',\n",
       "   'period': '18',\n",
       "   'date': '2022-04-27',\n",
       "   'name': 'Thomas Erndl',\n",
       "   'party': 'CDU/CSU',\n",
       "   'redner_id': '11004709',\n",
       "   'discussion_title': 'Tagesordnungspunkt 2 2022-04-27'},\n",
       "  {'text': 'Danke auch für Ihre Frage und vor allen Dingen für das Betonen des Dilemmas; denn genau das habe ich eingangs deutlich zu machen versucht. Man kann in solchen Situationen zwischen Schwarz und Weiß wählen und sagen: Mali ist uns komplett egal; das haben sie jetzt davon, dass sie eine Regierung haben, die durch einen Putsch an die Macht gekommen ist und mit russischen Akteuren kooperiert. – Uns beiden, uns allen, der ganzen Reisedelegation wurde ja deutlich gemacht, dass man als Übergangsregierung nicht im Sinn hat, darüber Auskunft zu geben, was man mit russischen Akteuren eigentlich zusammen macht. Also könnten wir sagen, wenn man nur in Schwarz-Weiß und einfachen Antworten denkt: Gut, dann gehen wir komplett raus. – Oder man könnte sagen: Wir ignorieren einfach, dass das eine Regierung ist, die mit unserem Demokratieverständnis bricht; wir bleiben drin. – Ich glaube, dass der abwägende Weg der richtige ist, nämlich deutlich zu machen: Wer so mit unseren Werten bricht, den können wir nicht bedingungslos unterstützen. Deswegen werden wir EUTM – das haben wir auf europäischer Ebene bereits deutlich gemacht – so nicht fortführen. Auf der anderen Seite können wir uns nicht komplett aus Mali zurückziehen, weil wir dann die Zivilbevölkerung, die wir ja alle getroffen haben, komplett im Stich lassen. Das ist aus meiner Sicht verantwortungslos. Deswegen werden wir jetzt vorbereiten und überlegen, wie wir unser MINUSMA-Engagement so ausweiten können, dass wir in dieser Mission bleiben können – mit allen Rahmenbedingungen, die es dafür braucht. Eine Nachfrage, Herr Erndl? ',\n",
       "   'id': 'ID203002200',\n",
       "   'period': '18',\n",
       "   'date': '2022-04-27',\n",
       "   'name': 'Annalena Baerbock',\n",
       "   'party': 'BÜNDNIS 90/DIE GRÜNEN',\n",
       "   'redner_id': '11004245',\n",
       "   'discussion_title': 'Tagesordnungspunkt 2 2022-04-27'},\n",
       "  {'text': 'Vielen Dank. – Ich möchte genau da einhaken, bei MINUSMA. Wir sehen, dass sich die Sicherheitslage trotz der Instrumente dramatisch verschlechtert hat. Glauben Sie, dass der Ansatz, den MINUSMA hier bietet, angesichts der Größe des Landes und der dramatischen Herausforderungen noch der richtige ist? Sind wir tatsächlich bereit, ist die Bundesregierung bereit, die Lücken, die zum Beispiel die Franzosen hinterlassen, adäquat aufzufüllen? Was können wir hier einbringen, um tatsächlich eine schlagkräftigte Mission vor Ort zu haben? ',\n",
       "   'id': 'ID203002300',\n",
       "   'period': '18',\n",
       "   'date': '2022-04-27',\n",
       "   'name': 'Thomas Erndl',\n",
       "   'party': 'CDU/CSU',\n",
       "   'redner_id': '11004709',\n",
       "   'discussion_title': 'Tagesordnungspunkt 2 2022-04-27'},\n",
       "  {'text': 'Auch wenn wir sagen: „Wir müssen jetzt mehr in Verteidigung investieren“, was ich absolut unterstütze und wofür ich werbe – das sage ich auch mit Blick auf die spätere Debatte –, ist es nicht so, dass alles falsch ist, was wir in der Vergangenheit gesagt haben. Das sehen wir auch in Mali. Ein Land wird nicht allein durch die Ausbildung von Streitkräften automatisch zu einer Demokratie; sondern militärisches Engagement muss immer in politisches Handeln eingebettet sein. Und es kommen weitere Fragen hinzu. Wenn man eine der ärmsten Regionen dieser Welt ist, dann stellen sich eben auch Fragen wie: Was bedeutet eigentlich Ernährungssicherheit? Deswegen werden wir – ich glaube, auch das teilen wir – mit MINUSMA nicht alle Probleme Malis lösen; das können wir gar nicht. Vielmehr ist der Auftrag dieser Mission der Vereinten Nationen, überhaupt zum Beispiel Lebensmittelhilfe und die Unterstützung der Zivilbevölkerung garantieren zu können und überhaupt in einem Mindeststandard sicherzustellen, dass Frauen sich auf den Markt trauen können, ohne Angst haben zu müssen, sofort vergewaltigt, verschleppt oder ermordet zu werden. Wir sehen, dass die Herausforderungen zunehmen, erst recht, wenn die Franzosen abziehen. Deswegen arbeiten wir, die Verteidigungsministerin und ich, daran, wie diese Lücken, die durch den Abzug der Franzosen entstehen, zum Beispiel mit Blick auf die Kampfhubschrauber, durch andere Akteure gefüllt werden können. Frau Ministerin. Aber hier sind auch die Vereinten Nationen in der Verantwortung, diese Lücke zu schließen. Einen Fragesteller lasse ich noch zu: Herrn Kollegen Reichardt von der AfD-Fraktion. ',\n",
       "   'id': 'ID203002400',\n",
       "   'period': '18',\n",
       "   'date': '2022-04-27',\n",
       "   'name': 'Annalena Baerbock',\n",
       "   'party': 'BÜNDNIS 90/DIE GRÜNEN',\n",
       "   'redner_id': '11004245',\n",
       "   'discussion_title': 'Tagesordnungspunkt 2 2022-04-27'},\n",
       "  {'text': 'Frau Ministerin, wir haben schon während des Krieges auf dem Balkan erlebt, dass unter einem grünen Außenminister im Rahmen einer Salamitaktik so lange immer weiter eskaliert wurde, bis am Ende deutsche Bombenflugzeuge in einen Krieg auf dem Balkan eingegriffen haben. Vor diesem Hintergrund frage ich Sie: Können Sie hier dem Parlament erklären und damit auch dem deutschen Volk versprechen, dass es weder zu Lande, zu Wasser noch in der Luft zu einem Kampfeinsatz deutscher Truppen in der Ukraine kommen wird? Ich frage das insbesondere vor dem Hintergrund, dass Sie ja gesagt haben: Wir haben dort Ziele zu erreichen. – Was ist, wenn wir diese Ziele mit den Waffenlieferungen, die Sie unterstützen, nicht erreichen können? Frau Ministerin. ',\n",
       "   'id': 'ID203002500',\n",
       "   'period': '18',\n",
       "   'date': '2022-04-27',\n",
       "   'name': 'Martin Reichardt',\n",
       "   'party': 'AfD',\n",
       "   'redner_id': '11004859',\n",
       "   'discussion_title': 'Tagesordnungspunkt 2 2022-04-27'},\n",
       "  {'text': 'Vielleicht zum ersten Teil Ihrer Frage bzw. Anmerkung. Auch das unterscheidet offensichtlich Ihre Partei von meiner Partei: Wir agieren in Situationen, wo sich die Welt komplett verändert hat, so, dass wir fragen: Was ist die Verantwortung den Menschen in unserem Land, aber eben auch unseren europäischen Freunden und Nachbarn und der Zivilbevölkerung gegenüber? Und ja, deswegen haben wir damals gesagt: Wenn wir die Möglichkeit haben, einen Völkermord zu verhindern, dann werden wir alles dafür tun, auch wenn es vorher nicht im grünen Parteiprogramm gestanden hat. Das Gleiche gilt für die jetzige Situation. Wenn die Ukraine zu Recht danach fragt, was wir tun können, damit nicht unschuldige Menschen bombardiert werden, dann stelle ich mir doch die Frage: Was kann Deutschland leisten? Und zu Ihrer Frage mit Blick auf die deutsche Beteiligung in der Ukraine: Ich finde das eine unglaublich schwierige Abwägung. Und manchmal wacht man nachts um drei auf – ich glaube, das geht vielen hier so – und denkt: Meine Güte, diese Menschen sind im Stahlwerk eingeschlossen. Können wir den Luftraum nicht sichern? – Aber dann denkt man eine weitere Minute nach und weiß: Dann wären wir Kriegspartei. Diese Abwägung immer zu treffen, – Frau Ministerin. – das ist meine Verantwortung, das verlangt der Eid, den ich hier geschworen habe. Deswegen liefern wir Waffen so, dass wir nicht selber als NATO in diesen Krieg eingreifen, aber die Ukraine so unterstützen können, dass möglichst – Frau Ministerin. – wenige Menschen zu Tode kommen. Der Kollege Reichardt hat auch noch eine kurze Nachfrage. Bitte. ',\n",
       "   'id': 'ID203002600',\n",
       "   'period': '18',\n",
       "   'date': '2022-04-27',\n",
       "   'name': 'Annalena Baerbock',\n",
       "   'party': 'BÜNDNIS 90/DIE GRÜNEN',\n",
       "   'redner_id': '11004245',\n",
       "   'discussion_title': 'Tagesordnungspunkt 2 2022-04-27'},\n",
       "  {'text': 'Frau Ministerin, Sie haben meine Frage nicht beantwortet. Ich habe Ihnen die Frage gestellt, ob Sie vor diesem Parlament erklären können und damit auch dem deutschen Volk heute sagen können, dass es nicht zu einem Einsatz – Bitte eine Frage stellen. Sie haben für die Frage 30 Sekunden Zeit. – deutscher Truppen zu Lande, zu Wasser und in der Luft in der Ukraine kommen wird. ',\n",
       "   'id': 'ID203002700',\n",
       "   'period': '18',\n",
       "   'date': '2022-04-27',\n",
       "   'name': 'Martin Reichardt',\n",
       "   'party': 'AfD',\n",
       "   'redner_id': '11004859',\n",
       "   'discussion_title': 'Tagesordnungspunkt 2 2022-04-27'},\n",
       "  {'text': 'Auch wenn Sie lauter fragen, ist es mein Recht, an dieser Stelle zu antworten, wie ich möchte. Und ich habe sehr deutlich gemacht, dass wir nicht Kriegspartei in diesem Krieg werden. Und deswegen gehen wir die Schritte, die wir gehen. Und wenn sich die Frage vielleicht auf Mali bezieht: Genau so treffen wir auch dort immer wieder die Abwägung, in der Verantwortung für unsere deutschen Soldaten und für die deutsche Bevölkerung – auch wenn Mali jetzt nicht so nahe an unseren Grenzen liegt –, aber eben auch in der Verantwortung für diese Welt. Wir sind Teil der internationalen Gemeinschaft; wir sind Teil der internationalen Ordnung. Und wenn wir das internationale Recht hochhalten, dann erfüllen wir auch unsere Verpflichtung, unsere Versprechen, die wir gegeben haben, sei es in Mali oder sei es in der Ukraine. Vielen Dank. – Der nächste angemeldete Fragesteller ist Jürgen Braun, AfD-Fraktion. ',\n",
       "   'id': 'ID203002800',\n",
       "   'period': '18',\n",
       "   'date': '2022-04-27',\n",
       "   'name': 'Annalena Baerbock',\n",
       "   'party': 'BÜNDNIS 90/DIE GRÜNEN',\n",
       "   'redner_id': '11004245',\n",
       "   'discussion_title': 'Tagesordnungspunkt 2 2022-04-27'},\n",
       "  {'text': 'Frau Ministerin, seit etwa vier Wochen wird Israel von der brutalsten Anschlagsserie der vergangenen 20 Jahre erschüttert. Zuletzt wurden drei Menschen bei einem Anschlag mitten in Tel Aviv erschossen, sieben weitere schwer verletzt. Warum werden junge Araber zu Terroristen? Nicht zuletzt auch, weil es angebliche Menschenrechtsorganisationen gibt, durch die verurteilte Täter und ihre Familien Zuwendungen erhalten, rechtlich wie finanziell. Bereits im Oktober stufte die israelische Regierung sechs arabische NGOs aufgrund ihrer Verbindungen zur PFLP als Terrororganisationen ein. Israelischen Medien zufolge sollen Sie bei Ihrer Israel-Reise bekräftigt haben, die deutsche Regierung nehme die israelische Einschätzung ernst. Sie werden zitiert: Mittel des Auswärtigen Amts sollten nicht in unerwünschte Kanäle fließen. – Wie gedenken Sie sicherzustellen, dass künftig keine weiteren Mittel des Auswärtigen Amts an NGOs mit eindeutiger Verbindung zum Terrorismus fließen? ',\n",
       "   'id': 'ID203002900',\n",
       "   'period': '18',\n",
       "   'date': '2022-04-27',\n",
       "   'name': 'Jürgen Braun',\n",
       "   'party': 'AfD',\n",
       "   'redner_id': '11004680',\n",
       "   'discussion_title': 'Tagesordnungspunkt 2 2022-04-27'},\n",
       "  {'text': 'Das wird in Zukunft nicht passieren, und das ist auch in der Vergangenheit nicht passiert, sondern wir prüfen all unsere Geldflüsse, mit welchen NGOs wir zusammenarbeiten. Mit den NGOs, die Sie jetzt angesprochen haben, arbeiten nicht nur Deutschland, sondern auch die internationale Gemeinschaft, viele europäische Partner seit Jahren zusammen. Wie die bisherige deutsche Bundesregierung hat die neue deutsche Bundesregierung mit Blick auf die Einschätzung der israelischen Regierung gesagt: Wir möchten gerne wissen, um welche Akteure es genau geht. – Wir sind nicht davon überzeugt, dass es diese Verbindungen gibt. Darüber habe ich auch mit meinem israelischen Außenministerkollegen vor Ort gesprochen. Das ist auch bei denen selber in der weiteren Prüfung, und im Rahmen dieser Prüfung sind wir im ständigen Austausch mit der israelischen Regierung. So wie wir in Deutschland Finanzmittel nach klaren Kriterien vergeben – nach klaren Kriterien mit Blick auf Demokratie, Rechtsstaatlichkeit und natürlich Gewaltfreiheit –, tun wir das auch überall im Ausland. Herr Braun, Sie haben eine Nachfrage. ',\n",
       "   'id': 'ID203003000',\n",
       "   'period': '18',\n",
       "   'date': '2022-04-27',\n",
       "   'name': 'Annalena Baerbock',\n",
       "   'party': 'BÜNDNIS 90/DIE GRÜNEN',\n",
       "   'redner_id': '11004245',\n",
       "   'discussion_title': 'Tagesordnungspunkt 2 2022-04-27'},\n",
       "  {'text': 'Ja. – Im vergangenen Herbst als Terrororganisation eingestuft wurde auch Addameer. Addameer erlangte traurige Berühmtheit, als einer ihrer Mitarbeiter, der Araber Samer Arbid, im August 2019 an einer Terrorattacke beteiligt war, der das 17‑jährige jüdische Mädchen Rina Shnerb zum Opfer fiel. Diese arabische NGO wird seit Jahren von der Heinrich-Böll-Stiftung und damit indirekt vom Auswärtigen Amt mitfinanziert. Gedenkt die Bundesregierung, die Finanzierung parteinaher Stiftungen wie der Heinrich-Böll-Stiftung an Bedingungen zu knüpfen, um sicherzustellen, dass die Mittel des Auswärtigen Amts auch nicht über Umwege an Terrororganisationen fließen? ',\n",
       "   'id': 'ID203003100',\n",
       "   'period': '18',\n",
       "   'date': '2022-04-27',\n",
       "   'name': 'Jürgen Braun',\n",
       "   'party': 'AfD',\n",
       "   'redner_id': '11004680',\n",
       "   'discussion_title': 'Tagesordnungspunkt 2 2022-04-27'},\n",
       "  {'text': 'Wir gedenken das nicht nur zu tun, wir tun das. Gibt es weitere Fragen zum Thema? – Das sehe ich nicht. Dann ist die nächste Fragestellerin, die angemeldet ist, Agnieszka Brugger, Bündnis 90/Die Grünen. ',\n",
       "   'id': 'ID203003200',\n",
       "   'period': '18',\n",
       "   'date': '2022-04-27',\n",
       "   'name': 'Annalena Baerbock',\n",
       "   'party': 'BÜNDNIS 90/DIE GRÜNEN',\n",
       "   'redner_id': '11004245',\n",
       "   'discussion_title': 'Tagesordnungspunkt 2 2022-04-27'},\n",
       "  {'text': 'Frau Ministerin, Sie haben in der letzten Zeit ja zwei sehr viel beachtete Reisen durchgeführt, einmal in die Sahelzone – dazu haben wir gerade schon gesprochen – und auch ins Baltikum; Sie hatten es anfangs ausgeführt. Sie haben dann gesagt, dass es nicht ausreicht, zu sagen: Wir werden schon da sein, wenn etwas passiert. – In Ihrer auch sehr beachteten Rede zur Sicherheitsstrategie, die ich jedem und jeder nur ans Herz legen kann, haben Sie gesagt: Wir müssen über die Stolperdrahtlogik nachdenken. – Mit welchen Schlussfolgerungen sind Sie von Ihrer Baltikum-Reise zurückgekehrt? ',\n",
       "   'id': 'ID203003300',\n",
       "   'period': '18',\n",
       "   'date': '2022-04-27',\n",
       "   'name': 'Agnieszka Brugger',\n",
       "   'party': 'BÜNDNIS 90/DIE GRÜNEN',\n",
       "   'redner_id': '11004106',\n",
       "   'discussion_title': 'Tagesordnungspunkt 2 2022-04-27'},\n",
       "  {'text': 'Mit vielen. Das ist jetzt schwierig in eine Minute zu packen, weil unsere Baustellen riesig sind; auch darüber werden wir nachher noch gemeinsam sprechen. Wenn wir mit Blick auf den Zustand der Bundeswehr und die Ausstattung der Bundeswehr feststellen, dass wir Lead Nation sind, aber zentrale Fähigkeiten, die wir zum Beispiel für Übungen brauchen, nicht gewährleisten können, dann sehen wir, dass wir wahnsinnig großen Nachholbedarf haben. Zugleich dürfen wir aber – das ist mir wichtig, das werden wir nachher auch noch diskutieren – nicht nur mit Blick auf unsere eigenen Streitkräfte nachdenken. Das zeigt uns diese dramatische Situation ja gerade: Wenn wir ein Bündnis sind, dann müssen wir im Bündnis agieren können. Das heißt, das, was wir an NATO-Fähigkeiten leisten, muss in Zukunft besser abgestimmt sein und werden. Daran arbeiten wir nicht nur im Rahmen der nationalen Sicherheitsstrategie, sondern auch im Rahmen des Strategischen Kompasses der EU. Bisher galt die Stolperdrahtlogik; das bedeutet: Wenn es einen Angriff von russischer Seite gäbe – man konnte sich das bisher nicht so vorstellen –, dann kommt der Vormarsch der russischen Truppen sehr bald ins Stocken und wir sorgen dafür, dass sie nicht weiter vordringen können. – Wir sehen in Butscha und anderen Orten: Das darf niemals passieren! Wenn Orte erst mal eingenommen sind, dann passieren schlimmste Menschenrechtsverletzungen. Das heißt, vom ersten Moment an – Frau Ministerin. – müssen wir das Baltikum verteidigen können, und das heißt, wir müssen dort aus meiner Sicht auch unsere Präsenz in Zukunft verstärken, aber gemeinsam mit der NATO. Das werden wir beim NATO-Gipfel dann gemeinsam auf den Weg bringen. Frau Brugger, Sie haben die Möglichkeit einer Nachfrage. ',\n",
       "   'id': 'ID203003400',\n",
       "   'period': '18',\n",
       "   'date': '2022-04-27',\n",
       "   'name': 'Annalena Baerbock',\n",
       "   'party': 'BÜNDNIS 90/DIE GRÜNEN',\n",
       "   'redner_id': '11004245',\n",
       "   'discussion_title': 'Tagesordnungspunkt 2 2022-04-27'},\n",
       "  {'text': 'Frau Ministerin, vielen Dank für Ihre Ausführungen. – Ich glaube, was wir dort an Rückversicherungsmaßnahmen in so kurzer Zeit geleistet haben – Die Frage bitte. – und die Eindrücke, von denen Sie hier berichtet haben, sind wichtig. Mit Blick auf die Debatte, die Sie gerade angesprochen haben, die wir heute hier im Parlament noch zum Sondervermögen führen werden, wollte ich Sie fragen, inwiefern Sie den Sicherheitsbegriff der NATO teilen, der ja doch ein sehr moderner und umfassender ist, und inwiefern wir das Sondervermögen auch in diesem Sinne verstehen sollten. ',\n",
       "   'id': 'ID203003500',\n",
       "   'period': '18',\n",
       "   'date': '2022-04-27',\n",
       "   'name': 'Agnieszka Brugger',\n",
       "   'party': 'BÜNDNIS 90/DIE GRÜNEN',\n",
       "   'redner_id': '11004106',\n",
       "   'discussion_title': 'Tagesordnungspunkt 2 2022-04-27'},\n",
       "  {'text': 'Da wird gerade reingerufen, dass die Grünen die Bündnisfähigkeit und die Strategie der NATO stärken wollen. Ich meine, es ist immer gut, wenn man sich vertieft in Themen einarbeitet – das gilt für alle hier im Haus – und wenn man Erkenntnisgewinne hat. Wenn man schon alles weiß, dann braucht man sich nicht weiter hineinzuvertiefen. Das, was in der NATO-Strategie in den letzten Jahren angelegt war, ist total richtig. Es ist eine politische Antwort. Deswegen bin auch ich als Außenministerin da und nicht alleine die Verteidigungsministerin: weil wir all das militärische Handeln im Rahmen der NATO politisch einbetten, weil es eine rein militärische Antwort nicht geben kann. Deswegen geht es in dem neuen Strategiepapier, das wir verankern, auch genau um die Frage politischer Verantwortung, zum Beispiel um Abrüstung, und zwar auch in den Zeiten, wo Russland die Abrüstungsverträge zertrümmert hat – anders kann man das derzeit gar nicht beschreiben –; aber gerade in solchen Momenten wird es für eine NATO-Strategie, die auf zehn Jahre angelegt ist, wichtig sein, – Frau Ministerin, kommen Sie zum Schluss. – das Thema Abrüstung mit zu verankern. Und an all die großen Freunde von feministischer Außenpolitik: Ich bin sicher, auch diese wird in der Strategie vorkommen. Eine Nachfrage hat Herr Keuter. ',\n",
       "   'id': 'ID203003600',\n",
       "   'period': '18',\n",
       "   'date': '2022-04-27',\n",
       "   'name': 'Annalena Baerbock',\n",
       "   'party': 'BÜNDNIS 90/DIE GRÜNEN',\n",
       "   'redner_id': '11004245',\n",
       "   'discussion_title': 'Tagesordnungspunkt 2 2022-04-27'},\n",
       "  {'text': 'Frau Bundesministerin, Ihre Rede im Baltikum ist gerade angesprochen worden. Sie haben am 20. April im Baltikum geäußert: „Deutschland lässt die russischen Energieimporte komplett auslaufen.“ Sie haben das auch schon für Öl zum Ende des Jahres angekündigt. Meine Frage ist: Halten Sie das dem deutschen Volk gegenüber für verantwortlich? Wenn wir heute an die Tankstellen fahren, sehen wir explodierende Kraftstoffpreise. Die Erdgasspeicher für etwa 25 Milliarden Kubikmeter Gas sind nahezu leer. Der nächste Winter wird mit Sicherheit irgendwann kommen. Die Frage ist: Vertreten Sie hier die Interessen des deutschen Volkes? Und haben Sie ein Risikomanagement vor Augen? Angenommen, die Russen würden sagen: Frau Baerbock, wenn Sie die Gas- und Öllieferungen auslaufen lassen wollen, dann kommt es auf ein halbes Jahr mehr oder weniger nicht an, und wir drehen euch jetzt die Leitung zu. – Für Polen hat es schon einen Lieferstopp gegeben. Die Frage ist: Sind Sie darauf vorbereitet? Was für Konsequenzen hätte das für Deutschland? ',\n",
       "   'id': 'ID203003700',\n",
       "   'period': '18',\n",
       "   'date': '2022-04-27',\n",
       "   'name': 'Stefan Keuter',\n",
       "   'party': 'AfD',\n",
       "   'redner_id': '11004778',\n",
       "   'discussion_title': 'Tagesordnungspunkt 2 2022-04-27'},\n",
       "  {'text': 'Ja, das sind wir; ansonsten würden wir es ja nicht tun. Und mit Blick auf Polen: Auch da sind wir gemeinsam in den Gesprächen. Robert Habeck war gerade in Polen. Auf die Szenarien, die jetzt eintreten, sind auch die Polen vorbereitet – mit unserer gemeinsamen Unterstützung. Deswegen ist es so wichtig, dass wir alle Schritte in der Europäischen Union gemeinsam gehen, und deswegen hat diese Bundesregierung sich dafür eingesetzt, dass wir den Komplettausstieg aus fossiler Energie als Europäerinnen und Europäer gemeinsam tun und nicht singulär als ein nationales Land – mit Blick auf die Sicherheit unserer Menschen. Vielleicht als Denksportaufgabe: Ihre Logik wäre ja: Dann tun wir jetzt gar nichts. Dann sagen wir gegenüber Russland: Das ist schon okay, was ihr da macht. Wir finden es zwar nicht ganz in Ordnung, dass ihr einmarschiert; aber es hat keine Konsequenzen. – Was würde das für die Sicherheit der Deutschen, was würde das für die Sicherheit der Europäerinnen und Europäer bedeuten? Ich glaube in der Abwägung, mit Blick auf Moldau und Transnistrien zum Beispiel, dass das die nächsten Ziele sind, und auch das Baltikum. Frau Ministerin, kommen Sie bitte zum Schluss. Es war absolut richtig, deutlich zu machen: Das hat Konsequenzen, und zwar massive, selbst wenn sie uns wirtschaftlich was kosten. Die letzte Frage, die ich zu diesem Themenbereich zulasse, ist von dem Kollegen Lechte. ',\n",
       "   'id': 'ID203003800',\n",
       "   'period': '18',\n",
       "   'date': '2022-04-27',\n",
       "   'name': 'Annalena Baerbock',\n",
       "   'party': 'BÜNDNIS 90/DIE GRÜNEN',\n",
       "   'redner_id': '11004245',\n",
       "   'discussion_title': 'Tagesordnungspunkt 2 2022-04-27'},\n",
       "  {'text': 'Vielen Dank, Frau Vizepräsidentin. – Frau Bundesministerin, ich möchte noch mal auf die nationale Sicherheitsstrategie eingehen. Welche Auswirkungen hatte der Ukrainekrieg denn jetzt schon auf die nationale Sicherheitsstrategie, die wir im Koalitionsvertrag neu verankert hatten, und wie werden wir das innerhalb der Bundesregierung organisatorisch abbilden? ',\n",
       "   'id': 'ID203003900',\n",
       "   'period': '18',\n",
       "   'date': '2022-04-27',\n",
       "   'name': 'Ulrich Lechte',\n",
       "   'party': 'FDP',\n",
       "   'redner_id': '11004799',\n",
       "   'discussion_title': 'Tagesordnungspunkt 2 2022-04-27'},\n",
       "  {'text': 'Da die Auftaktveranstaltung für die nationale Sicherheitsstrategie nach Ausbruch des Krieges stattfand – das hatte ich in meiner Rede bereits deutlich gemacht –, haben manche Aspekte, die wir vorher im Koalitionsvertrag nicht so prioritär vorgesehen hatten, jetzt natürlich eine andere Bedeutung – das ist das, was Frau Brugger gerade angesprochen hatte –, zum Beispiel die Verstärkung der Ostflanke. Da werden wir in Zukunft eine andere Verantwortung wahrnehmen, als wir uns das in diesem Land vielleicht noch vor zwei Jahren vorgestellt haben. Das Gleiche – das hatte der Bundeskanzler in seiner Regierungserklärung gesagt – gilt mit Blick auf die nukleare Teilhabe. Wir haben bereits deutlich gemacht, F-35 zu beschaffen. Es gibt aber auch noch viele andere Bereiche. Ich weiß, ich wiederhole mich, aber es ist mir wichtig: Das ist eine Frage einer vernetzten Sicherheit. Was wir garantieren wollen, ist menschliche Sicherheit. Deswegen müssen wir auch die Sicherheit, in Freiheit leben zu können, verteidigen. Das bedeutet auch, die Zivilgesellschaft zu stärken. Das bedeutet auch, die Kultur zu stärken. Und das bedeutet auch, die vielen Krisen, die wir bereits angesprochen haben, mitzudenken. Frau Ministerin. Auch diese werden dort verankert sein. Zum Fahrplan sage ich gleich auf Ihre Nachfrage noch was. Herr Lechte, Nachfrage? ',\n",
       "   'id': 'ID203004000',\n",
       "   'period': '18',\n",
       "   'date': '2022-04-27',\n",
       "   'name': 'Annalena Baerbock',\n",
       "   'party': 'BÜNDNIS 90/DIE GRÜNEN',\n",
       "   'redner_id': '11004245',\n",
       "   'discussion_title': 'Tagesordnungspunkt 2 2022-04-27'},\n",
       "  {'text': 'Ja, dann frage ich noch mal nach, damit die Frau Ministerin die Antwortzeit durch mich bekommt. – Vielen Dank. ',\n",
       "   'id': 'ID203004100',\n",
       "   'period': '18',\n",
       "   'date': '2022-04-27',\n",
       "   'name': 'Ulrich Lechte',\n",
       "   'party': 'FDP',\n",
       "   'redner_id': '11004799',\n",
       "   'discussion_title': 'Tagesordnungspunkt 2 2022-04-27'},\n",
       "  {'text': 'Wir hatten die Auftaktveranstaltung – Danke an die Kolleginnen und Kollegen, die damals mit im Saal waren – und werden dies in einem Prozess weiterführen. Nicht nur, dass wir zum ersten Mal eine nationale Sicherheitsstrategie formulieren, sondern es geht hier auch um die Identität unseres Landes. Alte Gewohnheiten sind über Bord geworfen worden. Das heißt, wir diskutieren jetzt nicht nur darüber: „Wie wollen wir uns militärisch aufstellen?“; denn die Menschen in diesem Land haben Angst: ökonomische Angst, militärische Angst. Ich glaube, viele von ihnen diskutieren am Abendbrottisch darüber: Was bedeutet das eigentlich? Was sind eigentlich diese „Tier“-Panzer, die vorher niemand kannte? Jetzt reden wir über Gepards, Leos und Marder. Das sind doch Fragen, die wir hier früher überhaupt nicht diskutiert haben. – Deswegen ist es mir wichtig, dass wir einen weiten Prozess machen: nicht nur mit Thinktanks, nicht nur mit Ihnen hier im Parlament, sondern auch mit Workshops zu ganz konkreten Themen wie Cybersicherheit: Ist das innere Sicherheit? Ist das äußere Sicherheit? Auch das werden wir diskutieren müssen. Wir werden vor allen Dingen auch eine Tour raus ins Land machen, wo wir mit Menschen, die ausgelost und eingeladen werden – das haben wir auch zu anderen Themen schon gemacht –, gemeinsam diskutieren: Was bedeutet Sicherheit im Jahr 2022 für uns, aber auch für unsere Kinder? Und die nächste angemeldete Fragestellerin ist Clara Anne Bünger, Fraktion Die Linke. ',\n",
       "   'id': 'ID203004200',\n",
       "   'period': '18',\n",
       "   'date': '2022-04-27',\n",
       "   'name': 'Annalena Baerbock',\n",
       "   'party': 'BÜNDNIS 90/DIE GRÜNEN',\n",
       "   'redner_id': '11004245',\n",
       "   'discussion_title': 'Tagesordnungspunkt 2 2022-04-27'},\n",
       "  {'text': 'Vielen Dank. – Frau Ministerin, es wird hier jetzt viel über den völkerrechtswidrigen Angriffskrieg gegen die Ukraine gesprochen. Sie haben viel von Abwägung und von Schutz von Menschenleben gesprochen. Das ist sehr wichtig und sehr richtig. Aber wir dürfen nicht vergessen, dass auch in Afghanistan nach wie vor viele Menschen in extremer Gefahr sind. Acht Monate nach der Machtübernahme der Taliban sind nicht mal die Hälfte der Menschen, die eine Schutzzusage durch Deutschland hatten, nach Deutschland in Sicherheit gebracht worden. Und: Aus einer Antwort aus Ihrem Ministerium auf eine Kleine Anfrage von mir geht hervor, dass Menschen, die bereits eine Aufnahmezusage durch Deutschland hatten, gestorben sind. Es ist doch eine schier unerträgliche Vorstellung, dass Menschen, die eigentlich Schutz in Deutschland bekommen hätten, in Afghanistan von den Taliban ermordet wurden. Wie erklären Sie sich das, und warum stockt die Aufnahme für Menschen, die eine Aufnahmezusage haben, immer noch? Ist das nicht auch ein Versagen Ihres Ministeriums? ',\n",
       "   'id': 'ID203004300',\n",
       "   'period': '18',\n",
       "   'date': '2022-04-27',\n",
       "   'name': 'Clara Bünger',\n",
       "   'party': 'unknown',\n",
       "   'redner_id': '999990123',\n",
       "   'discussion_title': 'Tagesordnungspunkt 2 2022-04-27'},\n",
       "  {'text': 'Bei jedem einzelnen Fall, den wir nicht schnell genug bearbeiten können, müssen wir uns immer wieder fragen: Wie können wir schneller und besser werden? Ich möchte hier überhaupt nichts schönreden. Fakt ist, dass wir einen riesengroßen Berg von Anfragen im Auswärtigen Amt haben, der sich, seitdem die Taliban die Herrschaft in Afghanistan übernommen haben, aufgetürmt hat. Wir haben unter Hochdruck versucht, diesen Berg zu reduzieren. Deswegen stimmen die Zahlen, die Sie gerade zitiert haben, nicht; denn in den letzten Wochen konnten wir viele weitere Menschen aus Afghanistan herausholen, aber eben noch nicht alle, die eine Zusage bekommen haben. Deswegen müssen wir hier gemeinsam mehr tun. Wir hatten eine Veranstaltung mit der Zivilgesellschaft, bei der die Innenministerin und ich noch mal deutlich gemacht haben, dass wir § 22 Satz 2 Aufenthaltsgesetz stärker anwenden wollen als in der Vergangenheit. Hier hat es in der Vergangenheit bei Einzelfällen negative Aussagen gegeben. Das werden wir anders machen. Entsprechend der Zusage, die wir der Zivilgesellschaft dort gegeben haben, werden wir über § 22 Satz 2 - Frau Ministerin. – insbesondere die Schutzbedürftigen, Frauen, Menschenrechtsverteidigerinnen, die nicht auf der alten Liste standen, jetzt herausholen. Frau Ministerin, kommen Sie bitte zum Schluss. Das werden wir weiter verstärkt tun, so wie wir es in den letzten Wochen schon getan haben. Frau Bünger, Sie haben die Möglichkeit der Nachfrage. ',\n",
       "   'id': 'ID203004400',\n",
       "   'period': '18',\n",
       "   'date': '2022-04-27',\n",
       "   'name': 'Annalena Baerbock',\n",
       "   'party': 'BÜNDNIS 90/DIE GRÜNEN',\n",
       "   'redner_id': '11004245',\n",
       "   'discussion_title': 'Tagesordnungspunkt 2 2022-04-27'},\n",
       "  {'text': 'Ja. – Vielen Dank für Ihre Ausführungen. Sie haben ja schon an vielen Stellen betont, dass Ihnen das Schicksal dieser Menschen am Herzen liegt. Aber es wäre doch besser, wenn Ihre Beteuerungen auch in Taten umgesetzt und Sie substanziell helfen würden. Es ist zum Beispiel so, dass einige Familien in Afghanistan ihre Häuser noch vor Abzug der westlichen Truppen als Safe Houses zum Schutz der Ortskräfte und anderer Menschen zur Verfügung gestellt haben. Diese Menschen sind jetzt in konkreter Gefahr. Es handelt sich dabei um 80 Personen; eine entsprechende Anfrage liegt auch Ihrem Ministerium vor. Bisher gibt es von Ihrem Ministerium keine Unterstützung. Diese Menschen befinden sich aber in akuter Lebensgefahr. Da müsste aus meiner Sicht auch aus Ihrem Ministerium ein Entgegenkommen stattfinden. Meine Frage an Sie: Werden Sie diesen 80 Personen – das ist ja eine begrenzte Personenzahl – ein Angebot zur Unterstützung machen? – Vielen Dank. ',\n",
       "   'id': 'ID203004500',\n",
       "   'period': '18',\n",
       "   'date': '2022-04-27',\n",
       "   'name': 'Clara Bünger',\n",
       "   'party': 'unknown',\n",
       "   'redner_id': '999990123',\n",
       "   'discussion_title': 'Tagesordnungspunkt 2 2022-04-27'},\n",
       "  {'text': 'Da müssten wir vielleicht gleich noch mal präzisieren, was Sie mit „Unterstützung“ meinen, da ich jetzt nicht weiß, auf welche 80 Menschen Sie sich beziehen und ob diese im Safe House bleiben oder ob sie ausreisen sollen. Das sind ja große Unterschiede. Wir unterstützen beides: Wir unterstützen diejenigen, die sagen: Wir bleiben vor Ort. – Das betrifft sowohl Menschen aus der Zivilgesellschaft als auch internationale Organisationen vor Ort. Das tun wir auf der einen Seite: Wir unterstützen Safe Houses vor Ort – falls das Ihre Frage war. Wenn die Menschen ausreisen sollen – das wäre ein anderer Bereich –, dann ist die Frage, ob sie auf den Listen mit lokal Beschäftigten standen. Auf viele, die jetzt bedroht sind, trifft das nicht zu; das ist die besondere Herausforderung. Deswegen bringt es nichts, allein auf die Liste zu schauen. Im Dezember war es mir wichtig, deutlich zu machen: Die besonders Schutzbedürftigen, das sind eben Frauen, das sind Journalistinnen, das sind auch Menschenrechtsverteidiger. Die müssen wir über § 22 Satz 2 Aufenthaltsgesetz zusätzlich rausholen können. Und: Ja, daran arbeiten wir. Es gibt weitere Fälle; darum muss man gar nicht herumreden. Es gibt Fälle, die wir nicht erfasst haben. Viele von Ihnen, aus fast allen Fraktionen, reichen ja diese Einzelfälle bei uns ein. Frau Ministerin. Das ist wichtig, und darum müssen wir uns einzeln kümmern. Aber – letzter Satz –: Ich kann die Menschen da nicht ausfliegen. So furchtbar das ist: Die Taliban entscheiden, wer rauskann. Deswegen müssen wir – ich sage das hier deutlich – Letzter Satz. – mit Katar, mit Pakistan zusammenarbeiten, die immer wieder erreicht haben, dass Menschen über die Grenze kommen können. Auch das werden wir weiterhin tun. Eine weitere Frage zu diesem Thema hat der Kollege Sichert. ',\n",
       "   'id': 'ID203004600',\n",
       "   'period': '18',\n",
       "   'date': '2022-04-27',\n",
       "   'name': 'Annalena Baerbock',\n",
       "   'party': 'BÜNDNIS 90/DIE GRÜNEN',\n",
       "   'redner_id': '11004245',\n",
       "   'discussion_title': 'Tagesordnungspunkt 2 2022-04-27'},\n",
       "  {'text': 'Es geht ja hier um den Schutz von Menschen vor radikalislamischen Regimes. In dem Zusammenhang haben wir es ja nicht nur mit dem Thema Afghanistan zu tun. Momentan bombardiert die Türkei Gebiete im Norden des Irak. Als die Türkei Gebiete im Norden Syriens bombardiert hat, haben Sie ganz klar gefordert, die Rüstungsexporte aus Deutschland in Richtung Türkei sofort zu stoppen. Sie haben auch gesagt, dass man über wirtschaftliche Sanktionen gegenüber der Türkei nachdenken muss. Jetzt haben wir genau die gleiche Situation. Aber Sie sind jetzt nicht mehr, wie damals, nur Grünenvorsitzende, sondern Sie sind jetzt Außenministerin; Sie können also auch Entscheidungen treffen. Meine Frage an Sie ist: Wie stehen Sie jetzt zu einem Verbot von Waffenexporten in die Türkei bzw. zu wirtschaftlichen Sanktionen gegen die Türkei wegen deren völkerrechtswidrigem Angriff auf Gebiete im Irak? ',\n",
       "   'id': 'ID203004700',\n",
       "   'period': '18',\n",
       "   'date': '2022-04-27',\n",
       "   'name': 'Martin Sichert',\n",
       "   'party': 'AfD',\n",
       "   'redner_id': '11004892',\n",
       "   'discussion_title': 'Tagesordnungspunkt 2 2022-04-27'},\n",
       "  {'text': 'Die Rechtslage hängt ja nicht davon ab, ob man Grünenvorsitzende oder Außenministerin ist. Wir haben ein klares völkerrechtliches Verständnis davon, was souveräne Staaten tun dürfen: Sie dürfen sich selbst verteidigen, so wie das jedes Land auf dieser Welt darf; aber sie müssen immer humanitäres Völkerrecht und internationales Recht achten. Und wenn das nicht der Fall ist – sei es seitens der Türkei oder anderer Staaten –, dann muss man das deutlich benennen und kritisieren; das habe ich auch in der Vergangenheit deutlich gesagt. Zu den jüngsten Vorfällen im Nordirak. Wieder haben wir noch nicht bestätigte Berichte; aber es muss deutlich gemacht werden, warum es Angriffe gegeben hat. Es muss deutlich gemacht werden, dass humanitäres Völkerrecht und internationales Recht nicht gebrochen worden sind. Wenn das doch der Fall ist, dann müssen wir das – das tun wir als deutsche Bundesregierung auch – kritisieren. Mit Blick auf die Rüstungsexporte haben wir ja bereits von der Vorgängerregierung eine sehr restriktive Haltung. Frau Ministerin, kommen Sie bitte zum Schluss. Da hat es kein Umschwenken gegeben, sondern wir führen genau diese restriktive Haltung fort. ',\n",
       "   'id': 'ID203004800',\n",
       "   'period': '18',\n",
       "   'date': '2022-04-27',\n",
       "   'name': 'Annalena Baerbock',\n",
       "   'party': 'BÜNDNIS 90/DIE GRÜNEN',\n",
       "   'redner_id': '11004245',\n",
       "   'discussion_title': 'Tagesordnungspunkt 2 2022-04-27'},\n",
       "  {'text': 'Vielen Dank für die Möglichkeit einer Nachfrage. – Eine ganz konkrete Nachfrage an der Stelle: Das heißt, wenn tatsächlich nachgewiesen wird und Sie dann die Erkenntnis haben, dass die Türkei Gebiete im Norden des Iraks völkerrechtswidrig bombardiert hat, dann werden Sie sich in der Bundesregierung für einen Stopp der Lieferung von sämtlichen Rüstungsgütern an die Türkei starkmachen und gegebenenfalls auch wirtschaftliche Sanktionen in Erwägung ziehen. Sehe ich das richtig? ',\n",
       "   'id': 'ID203004900',\n",
       "   'period': '18',\n",
       "   'date': '2022-04-27',\n",
       "   'name': 'Martin Sichert',\n",
       "   'party': 'AfD',\n",
       "   'redner_id': '11004892',\n",
       "   'discussion_title': 'Tagesordnungspunkt 2 2022-04-27'},\n",
       "  {'text': 'Bereits seit 2016 erfolgt die Prüfung von Einzelfällen vonseiten der Vorgängerregierung, auch im Einklang mit den anderen EU-Staaten. Es hat keine Exporte von Rüstungsgütern gegeben, die dort eingesetzt werden. Wir haben deutlich gemacht, dass auch alle anderen Ausfuhren sehr, sehr kritisch zu begutachten sind, wenngleich die Türkei ein NATO-Mitglied ist; das möchte ich an dieser Stelle einmal deutlich machen. Weil die Lage auch hier wieder komplex ist, möchte ich außerdem deutlich machen, dass die Türkei – so kritisch ich es sehe, dass sie sich den Sanktionen gegen Russland nicht anschließt – im Schwarzen Meer einen wirklich wichtigen Beitrag dazu leistet, dass dort keine russischen Kriegsschiffe durchfahren können. Auch hier muss man wieder beide Seiten betrachten. Aber: Die Genehmigungen von Exporten in die Türkei sind jetzt schon auf historisch niedrigstem Niveau, und es wird nur noch das geliefert, was im Rahmen bereits abgeschlossener Verträge überhaupt geliefert werden muss. Es wird angesichts dieser Situation keine neuen Exporte geben. Ich möchte einmal deutlich machen: Es gibt keinen Rabatt auf Menschenrechte, weder in dieser Situation noch im Vorwahlkampf. Die nächste angemeldete Fragestellerin ist die Kollegin Anikó Merten, FDP-Fraktion. ',\n",
       "   'id': 'ID203005000',\n",
       "   'period': '18',\n",
       "   'date': '2022-04-27',\n",
       "   'name': 'Annalena Baerbock',\n",
       "   'party': 'BÜNDNIS 90/DIE GRÜNEN',\n",
       "   'redner_id': '11004245',\n",
       "   'discussion_title': 'Tagesordnungspunkt 2 2022-04-27'},\n",
       "  {'text': 'Frau Ministerin, in diesen Tagen erreichen uns sehr beunruhigende Nachrichten von mehreren Explosionen in der moldauischen Region Transnistrien. Sie haben es vorhin schon mal kurz anklingen lassen, aber ich würde das gerne noch einmal vertiefen: Wie bewerten Sie das Risiko einer Ausweitung des Konflikts auf die Republik Moldau vor dem Hintergrund dieser jüngsten Berichte und nach den Äußerungen des russischen Vizeaußenministers zu einer friedlichen Lösung im Transnistrien-Streit und bei dessen gleichzeitiger Betonung, die gesamte Schwarzmeerküste unter russische Kontrolle zu bringen? ',\n",
       "   'id': 'ID203005100',\n",
       "   'period': '18',\n",
       "   'date': '2022-04-27',\n",
       "   'name': 'Anikó Merten',\n",
       "   'party': 'FDP',\n",
       "   'redner_id': '11005150',\n",
       "   'discussion_title': 'Tagesordnungspunkt 2 2022-04-27'},\n",
       "  {'text': 'Ich sehe das enorm kritisch. Das war auch einer der Gründe, warum ich mich entschieden habe, diese Moldau-Unterstützungskonferenz relativ akut auf den Weg zu bringen. Es ging dort ja nicht nur darum, bei der Aufnahme von Geflüchteten zu unterstützen. Die Energielieferung war ein anderer wichtiger Bereich, weil Moldau mit Blick auf die Energieversorgung von Transnistrien abhängig ist. Es ging aber auch um Grenzschutz und Sicherheit. Viele Länder haben mitgemacht und haben jetzt Verantwortung übernommen, um dort federführend einzusteigen. Die Staatspräsidentin war ja gerade auch noch mal zu Gesprächen vor Ort und hat deutlich gemacht, dass die Sorgen, die sie vor ein paar Wochen hatten, durch die jüngsten Vorfälle nicht geringer geworden sind. Auch sie kann nicht abschließend beurteilen, von wem das ausgegangen ist. Die transnistrischen Akteure hatten ja eigentlich in den Tagen zuvor deutlich gemacht, dass sie zum Beispiel auch Ukrainerinnen und Ukrainer, die dorthin geflohen sind, unterstützen. Ich hoffe sehr, dass es bei dieser Haltung bleibt. Deswegen kann man zum jetzigen Stand nicht sagen, ob es eine False-Flag-Operation war – Frau Ministerin, kommen Sie zum Schluss. – oder wer der Akteur ist. Aber die Lage ist wirklich besorgniserregend, und deswegen stehen wir auch hier an der Seite von Moldau. Sie haben die Möglichkeit einer Nachfrage. – Sehe ich eine weitere Nachfrage zu dem Thema? – Jetzt müssen Sie sich einig werden: Annette Widmann-Mauz und Tilman Kuban haben sich faktisch gleichzeitig gemeldet. – Dann fangen wir mit Frau Widmann-Mauz an. Dann folgt Herr Kuban. ',\n",
       "   'id': 'ID203005200',\n",
       "   'period': '18',\n",
       "   'date': '2022-04-27',\n",
       "   'name': 'Annalena Baerbock',\n",
       "   'party': 'BÜNDNIS 90/DIE GRÜNEN',\n",
       "   'redner_id': '11004245',\n",
       "   'discussion_title': 'Tagesordnungspunkt 2 2022-04-27'},\n",
       "  {'text': 'Frau Ministerin, wir haben gerade das Thema Transnistrien angesprochen. In diesem Kontext würde mich interessieren: Wie bewerten Sie die Wünsche aus der Ukraine, aus Moldau und aus Georgien nach einer Beitrittsperspektive für eine EU-Mitgliedschaft? Welche weiteren Schritte planen Sie diesbezüglich? ',\n",
       "   'id': 'ID203005300',\n",
       "   'period': '18',\n",
       "   'date': '2022-04-27',\n",
       "   'name': 'Annette Widmann-Mauz',\n",
       "   'party': 'CDU/CSU',\n",
       "   'redner_id': '11003259',\n",
       "   'discussion_title': 'Tagesordnungspunkt 2 2022-04-27'},\n",
       "  {'text': 'Das tue ich auch wieder nicht alleine. Das hören Sie jetzt bei jeder Frage; aber ich glaube, genau das ist das Wichtige. Wir haben ja in den vergangenen Zeiten manchmal erlebt, dass vonseiten der deutschen Bundesregierung gesagt wurde: Wir machen das jetzt so und gucken mal, was die anderen machen. Ich glaube, dass es gerade bei solchen Fragen zentral ist, dass man erst mit allen bespricht, wie wir diesen Weg gemeinsam als Europäische Union gehen können. Die EU-Kommissionspräsidentin hat ja bereits den Fragebogen an die Ukraine übermittelt. Wir alle hier im Saal wissen, glaube ich, dass das eine Situation ist, die es so nie zuvor gegeben hat, dass wir uns aber hüten sollten, Dinge zu versprechen, die wir nicht halten können. Wir können mit Blick auf den Beitritt nicht sagen: „Wir lassen jetzt mal alles außen vor, weil das ein Beitritt zum Binnenmarkt ist“; denn wir haben nicht nur Artikel 5 des NATO-Vertrags zu beachten, sondern auch eine Beistandsklausel im EU-Vertrag. Das muss man alles mit berücksichtigen. Ich habe ja bereits deutlich gemacht, dass das Europäische Haus der Ukraine natürlich offen steht und dass die Ukraine – mit Blick auf die Frage, wo sie hingehört – im Herzen Europas verankert ist. Aber wir müssen gemeinsam sehen, was das auch für andere Länder bedeutet, gerade auf dem westlichen Balkan, die jetzt unverzüglich ihre Verhandlungen eröffnen müssen. Albanien und Nordmazedonien, da drängt es wirklich. Wir dürfen diese Region nicht aus den Augen verlieren. Sie haben die Möglichkeit einer Nachfrage, Frau Widmann-Mauz. – Dann Herr Kuban, und dann Frau Akbulut. Aber erst mal Herr Kuban. ',\n",
       "   'id': 'ID203005400',\n",
       "   'period': '18',\n",
       "   'date': '2022-04-27',\n",
       "   'name': 'Annalena Baerbock',\n",
       "   'party': 'BÜNDNIS 90/DIE GRÜNEN',\n",
       "   'redner_id': '11004245',\n",
       "   'discussion_title': 'Tagesordnungspunkt 2 2022-04-27'},\n",
       "  {'text': 'Frau Ministerin, wir sind beim Themenkomplex Moldau, und wir sehen, dass dort die Inflation in erheblichem Maße steigt – sie liegt jetzt bei 18 Prozent – und dass sich der Gaspreis vervierfacht hat. Sie haben bei der Geberkonferenz hier in Berlin deutlich gemacht, dass wir überwiegend mit Krediten helfen. Ich glaube, dass wir auch mit direkter Budgethilfe viel mehr tun müssen. Das ist ein Land, das vor immensen Herausforderungen steht. Es droht möglicherweise auch ein Angriff auf Odessa, sodass weitere Flüchtlingsströme in Moldau ankommen. Es ist ein Land mit 2,5 Millionen Einwohnern, das schon über 100\\u202f000 Menschen aufgenommen hat. Wenn man das mit Deutschland vergleicht, wären es über 3,5 Millionen Menschen, die wir hier aufgenommen hätten. Die Frage ist: Müssen wir nicht mehr tun? Sind Sie bereit, weitere Budgethilfen für die Republik Moldau zu gewähren? ',\n",
       "   'id': 'ID203005500',\n",
       "   'period': '18',\n",
       "   'date': '2022-04-27',\n",
       "   'name': 'Tilman Kuban',\n",
       "   'party': 'CDU/CSU',\n",
       "   'redner_id': '11005118',\n",
       "   'discussion_title': 'Tagesordnungspunkt 2 2022-04-27'},\n",
       "  {'text': 'Es freut mich, das aus den Reihen der CDU zu hören: mehr Menschen aufzunehmen. Mit Blick auf die Budgethilfe: Wir haben ungebundene Kredite bereitgestellt, aber auch deutlich gemacht, dass wir auch Budgethilfe leisten können. Ich möchte an der Stelle noch mal sagen: Die Bundesregierung entscheidet ja nicht allein über den nächsten Haushalt und auch nicht über den Ergänzungshaushalt. Wir haben hier noch ein paar Debatten darüber mit Blick auf die Schuldenbremse und anderes. Wir haben hier jetzt viele Themen angesprochen, und eines davon ist die Ernährungssicherheit. Wir werden in der humanitären Hilfe unsere Anstrengungen nicht nur verdoppeln müssen. Wir sehen die Herausforderungen in der Ukraine, und wir sehen das Sondervermögen. Wir sehen auch das, was Sie zu Recht ansprechen – und da bin ich als Außenministerin voll dabei –: Auch in Moldau müssen wir mehr tun. Dann müssen wir dafür aber auch gemeinsam die finanziellen Mittel auf den Weg bringen; das sage ich jetzt, auch wenn ich nicht die Finanzministerin bin. Wenn wir gemeinsam dafür Lösungen finden – und zwar so, dass wir vielleicht alte Brandmauern überwinden können –, dann würde das, glaube ich, nicht nur Moldau helfen, sondern auch der Sicherheit der – unserer eigenen – Europäischen Union. Die nächste Fragestellerin, noch zu diesem Thema, ist die Kollegin Akbulut, Fraktion Die Linke. Ich wollte meine Frage zum Themenkomplex Türkei stellen, wie ich sie auch angemeldet hatte. Mit dem Themenkomplex sind wir jetzt schon durch. Aber es geht um feministische Außenpolitik. Da sind wir jetzt trotzdem schon durch. Ich muss hier ein kleines bisschen auch auf die Ordnung achten. Von daher könnten wir diesen Themenkomplex für die nächste Befragung der Bundesregierung berücksichtigen. Zudem besteht immer die Möglichkeit der Nachfrage, und ich lasse ziemlich viele Nachfragen zu. Dann kommen wir weiter in der Runde. Ich weiß, dass sich zu diesem Komplex noch die Kollegin Dr. Jurisch gemeldet hat. ',\n",
       "   'id': 'ID203005600',\n",
       "   'period': '18',\n",
       "   'date': '2022-04-27',\n",
       "   'name': 'Gökay Akbulut',\n",
       "   'party': 'DIE LINKE',\n",
       "   'redner_id': '11004653',\n",
       "   'discussion_title': 'Tagesordnungspunkt 2 2022-04-27'},\n",
       "  {'text': 'Sie haben schon über die europäische Perspektive und die Annäherung der Ukraine, Moldaus und Georgiens an die EU gesprochen. Sie haben auch schon etwas zur aktuellen Thematik gesagt. Aber was können wir denn kurzfristig und auch mittelfristig tun, um diese Annäherungsbestrebungen und auch die Sicherheit, die die EU diesen Ländern gibt, zu unterstützen? Dann direkt noch die Anschlussfrage: Wie können wir eigentlich die Aufnahmekapazität der EU verbessern? Was können wir als Deutschland tun, damit wir da besser werden? – Vielen Dank. ',\n",
       "   'id': 'ID203005700',\n",
       "   'period': '18',\n",
       "   'date': '2022-04-27',\n",
       "   'name': 'Ann-Veruschka Jurisch',\n",
       "   'party': 'FDP',\n",
       "   'redner_id': '11005094',\n",
       "   'discussion_title': 'Tagesordnungspunkt 2 2022-04-27'},\n",
       "  {'text': 'Also, bei den drei genannten Ländern sollten wir genau miteinander besprechen, was es für Möglichkeiten gibt, auch in den Vorstufen. Aber das Wichtigste, das wir jetzt für die Ukraine tun können, ist, alles dafür zu tun, dass dieser furchtbare Krieg aufhört. Das ist ja das größte Hindernis für jegliche weitere Schritte. Mit Blick auf Georgien und auch Moldau müssen wir dafür sorgen, dass das Ganze nicht überschwappt auf diese Länder. Ich möchte, um einmal vom Thema Waffen wegzukommen, noch deutlich machen: Wir müssen auch weiter investieren. Das ist in der Ukraine derzeit natürlich wahnsinnig schwierig. Deswegen unterstützen wir dort auch mit direkter Wirtschaftshilfe. Aber in Moldau und auch in Georgien sieht das anders aus, gerade in Moldau. Das, was wir über die Moldau-Unterstützungsplattform in der Energieversorgung bereitstellen, bedeutet eben auch, dass deutsche Firmen und europäische Firmen dort reingehen und die erneuerbaren Energien ausbauen. Das Gleiche gilt für den westlichen Balkan. Wenn wir die Souveränität dieser Staaten nicht nur stärken wollen, sondern wenn wir auch dafür sorgen wollen, dass die Einflussnahme von Russland abnimmt, dann müssen wir mit Blick auf die Energieabhängigkeit, die derzeit noch besteht, dafür sorgen, dass diese Staaten unabhängig werden, so wie wir das auch tun. Eine Nachfrage noch? ',\n",
       "   'id': 'ID203005800',\n",
       "   'period': '18',\n",
       "   'date': '2022-04-27',\n",
       "   'name': 'Annalena Baerbock',\n",
       "   'party': 'BÜNDNIS 90/DIE GRÜNEN',\n",
       "   'redner_id': '11004245',\n",
       "   'discussion_title': 'Tagesordnungspunkt 2 2022-04-27'},\n",
       "  {'text': 'Ja. Die Beitrittsperspektive für die Ukraine: Wie können wir das noch besser vorbereiten, sodass sich dieser Prozess verstetigt und vielleicht auch beschleunigt? ',\n",
       "   'id': 'ID203005900',\n",
       "   'period': '18',\n",
       "   'date': '2022-04-27',\n",
       "   'name': 'Ann-Veruschka Jurisch',\n",
       "   'party': 'FDP',\n",
       "   'redner_id': '11005094',\n",
       "   'discussion_title': 'Tagesordnungspunkt 2 2022-04-27'},\n",
       "  {'text': 'Wie gesagt: Die EU-Kommissionspräsidentin hat gerade erst den Fragebogen abgeschickt. Normalerweise braucht man zwei Jahre dafür, ihn zu beantworten. Mit dieser Situation, mit dieser Herausforderung werden wir jetzt gemeinsam mit unseren europäischen Partnern umgehen. Wir wollen deutlich machen: Die Ukraine gehört zu Europa. – Zugleich ist das ja kein Selbstzweck, sondern es geht auch um die Frage: Welche rechtlichen Schritte sind mit dem Beitrittsprozess verbunden, und welche Voraussetzungen müssen erfüllt sein? Es geht darum, dass wir das in dieser Situation, die es so noch nie gegeben hat, gemeinsam lösen können. Ich möchte noch mal unterstreichen: Es darf auf keinen Fall passieren, dass wir im Frühsommer Albanien und Nordmazedonien sagen: Ach, das haben wir jetzt nicht so gemeint. – Da gibt es nämlich ein Land, das hier blockiert, und ich setze gerade meine Anstrengungen darauf, dass diese Blockade beendet wird. Das dürfen wir nicht machen; denn auch dann hat Putin hier einen Teilerfolg erreicht. Wir müssen vielmehr dafür sorgen, dass dort die Beitrittsverhandlungen entsprechend beginnen können, parallel zur Unterstützung der Ukraine mit ihrer europäischen Perspektive. ',\n",
       "   'id': 'ID203006000',\n",
       "   'period': '18',\n",
       "   'date': '2022-04-27',\n",
       "   'name': 'Annalena Baerbock',\n",
       "   'party': 'BÜNDNIS 90/DIE GRÜNEN',\n",
       "   'redner_id': '11004245',\n",
       "   'discussion_title': 'Tagesordnungspunkt 2 2022-04-27'}])"
      ]
     },
     "execution_count": 27,
     "metadata": {},
     "output_type": "execute_result"
    }
   ],
   "source": [
    "list(groupedby_discussion.items())[1]"
   ]
  },
  {
   "cell_type": "code",
   "execution_count": null,
   "metadata": {},
   "outputs": [],
   "source": []
  },
  {
   "cell_type": "markdown",
   "metadata": {},
   "source": [
    "# Level II\n",
    "\n",
    "## 2.1 Generate HTML page for single Topics\n",
    "\n"
   ]
  },
  {
   "cell_type": "code",
   "execution_count": 23,
   "metadata": {},
   "outputs": [
    {
     "ename": "KeyError",
     "evalue": "0",
     "output_type": "error",
     "traceback": [
      "\u001b[0;31m---------------------------------------------------------------------------\u001b[0m",
      "\u001b[0;31mKeyError\u001b[0m                                  Traceback (most recent call last)",
      "\u001b[0;32m<ipython-input-23-7c5a7befe63e>\u001b[0m in \u001b[0;36m<module>\u001b[0;34m\u001b[0m\n\u001b[1;32m      1\u001b[0m \u001b[0;31m#corpus[0]\u001b[0m\u001b[0;34m\u001b[0m\u001b[0;34m\u001b[0m\u001b[0;34m\u001b[0m\u001b[0m\n\u001b[0;32m----> 2\u001b[0;31m \u001b[0mgroupedby_discussion\u001b[0m\u001b[0;34m[\u001b[0m\u001b[0;36m0\u001b[0m\u001b[0;34m]\u001b[0m\u001b[0;34m\u001b[0m\u001b[0;34m\u001b[0m\u001b[0m\n\u001b[0m",
      "\u001b[0;31mKeyError\u001b[0m: 0"
     ]
    }
   ],
   "source": [
    "#corpus[0]\n",
    "groupedby_discussion"
   ]
  },
  {
   "cell_type": "markdown",
   "metadata": {},
   "source": [
    "#### This should go to a function"
   ]
  },
  {
   "cell_type": "code",
   "execution_count": 19,
   "metadata": {},
   "outputs": [
    {
     "ename": "NameError",
     "evalue": "name 'topic_list' is not defined",
     "output_type": "error",
     "traceback": [
      "\u001b[0;31m---------------------------------------------------------------------------\u001b[0m",
      "\u001b[0;31mNameError\u001b[0m                                 Traceback (most recent call last)",
      "\u001b[0;32m<ipython-input-19-74794faedbd5>\u001b[0m in \u001b[0;36m<module>\u001b[0;34m\u001b[0m\n\u001b[1;32m      1\u001b[0m \u001b[0mtopic_index\u001b[0m \u001b[0;34m=\u001b[0m \u001b[0;36m0\u001b[0m\u001b[0;34m\u001b[0m\u001b[0;34m\u001b[0m\u001b[0m\n\u001b[1;32m      2\u001b[0m \u001b[0;34m\u001b[0m\u001b[0m\n\u001b[0;32m----> 3\u001b[0;31m \u001b[0;32mfor\u001b[0m \u001b[0mtopic_index\u001b[0m\u001b[0;34m,\u001b[0m \u001b[0mtopic_name\u001b[0m \u001b[0;32min\u001b[0m \u001b[0menumerate\u001b[0m\u001b[0;34m(\u001b[0m\u001b[0mtopic_list\u001b[0m\u001b[0;34m)\u001b[0m\u001b[0;34m:\u001b[0m\u001b[0;34m\u001b[0m\u001b[0;34m\u001b[0m\u001b[0m\n\u001b[0m\u001b[1;32m      4\u001b[0m \u001b[0;34m\u001b[0m\u001b[0m\n\u001b[1;32m      5\u001b[0m     \u001b[0;31m# select TOPs for max. relevant topic\u001b[0m\u001b[0;34m\u001b[0m\u001b[0;34m\u001b[0m\u001b[0;34m\u001b[0m\u001b[0m\n",
      "\u001b[0;31mNameError\u001b[0m: name 'topic_list' is not defined"
     ]
    }
   ],
   "source": [
    "\n",
    "topic_index = 0\n",
    "\n",
    "for topic_index, topic_name in enumerate(topic_list):\n",
    "\n",
    "    # select TOPs for max. relevant topic\n",
    "    #topic_selection = []\n",
    "    #for tx,top in enumerate(groupedby_discussion):\n",
    "    #    if top_topic_num[tx] == topic_index:\n",
    "    #        topic_selection.append(groupedby_discussion[top])\n",
    "    #        #print(top)\n",
    "\n",
    "    # Alternative using the corpus\n",
    "    topic_selection = []\n",
    "    top_indices = []\n",
    "    top_names = []\n",
    "    for tx,top in enumerate(corpus):\n",
    "        if top_topic_num[tx] == topic_index:\n",
    "            topic_selection.append(top)\n",
    "            top_indices.append(tx)\n",
    "            top_names.append(list(groupedby_discussion.keys())[tx])\n",
    "            #print(top)\n",
    "    \n",
    "    print(f'Topic {topic_index} has {len(topic_selection)} TOPs')\n",
    "    \n",
    "    # remove words that are max. relevant for topic        \n",
    "    topic_features = []\n",
    "    for wx,word in enumerate(feature_names):\n",
    "        if feature_topic_num[wx] != topic_index:\n",
    "            topic_features.append(word)\n",
    "\n",
    "    #len(topic_features)\n",
    "\n",
    "    # compute semantic similarity for selection\n",
    "    if len(topic_selection) == 0:\n",
    "        print(f'Topic {topic_index} cannot be constructed')\n",
    "    else:\n",
    "        vectorizer_topic = TfidfVectorizer(vocabulary=topic_features,lowercase = False)\n",
    "        tf_idf_matrix_topic  = vectorizer_topic.fit_transform(topic_selection)\n",
    "        pairwise_similarity_topic = tf_idf_matrix_topic * tf_idf_matrix_topic.T \n",
    "        similarity_topic = pairwise_similarity_topic.toarray()\n",
    "\n",
    "        print(similarity_topic.shape)\n",
    "\n",
    "\n",
    "        # build network\n",
    "        # nodes:\n",
    "        nodes = []\n",
    "        count = 1\n",
    "        for tx,top_ix in enumerate(top_indices):\n",
    "            node_dict = {\n",
    "                'id' : count,\n",
    "                'top' : top_ix,\n",
    "                'date' : groupedby_discussion[ top_names[tx] ][0]['date'],\n",
    "                'nReden' : len( groupedby_discussion[ top_names[tx] ] )\n",
    "            }\n",
    "            nodes.append(node_dict)\n",
    "            count += 1\n",
    "\n",
    "        # graph construct\n",
    "        graph = {\n",
    "            'directed': False,\n",
    "            'graph': 'semant_graph',\n",
    "            'links': [],\n",
    "            'nodes': nodes,\n",
    "        }   \n",
    "\n",
    "        # edges:\n",
    "        min_weight = 0.15\n",
    "        for ix,nodeI in enumerate(graph['nodes']):\n",
    "            for jx,nodeJ in enumerate(graph['nodes']):\n",
    "                if ix < jx:\n",
    "                    source = nodeI['id']\n",
    "                    target = nodeJ['id']\n",
    "                    weight = similarity_topic[ix,jx]\n",
    "                    if weight > min_weight:\n",
    "                        link_dict = {\n",
    "                            'source':source,\n",
    "                            'target':target,\n",
    "                            'weight':weight       \n",
    "                        }\n",
    "                        graph['links'].append(link_dict)\n",
    "\n",
    "\n",
    "        nn = len(graph['nodes'])\n",
    "        ne = len(graph['links'])\n",
    "        print( f\"This graph has {nn} nodes and {ne} links.\")\n",
    "\n",
    "\n",
    "        # write to HTML\n",
    "\n",
    "        data = graph\n",
    "        d3graph = {\"nodes\": [], \"links\": []}\n",
    "        d3graph[\"nodes\"] = data[\"nodes\"]\n",
    "        d3graph[\"links\"] = data[\"links\"]\n",
    "\n",
    "        htmlcode = f\"\"\"<head>\n",
    "            <style> body {{margin: 0;}} </style>\n",
    "            <script src=\"https://unpkg.com/force-graph\"></script>\n",
    "            <meta charset=\"UTF-8\">\n",
    "        </head>\n",
    "        <body>\n",
    "        <div id=\"graph\"></div>\n",
    "        <script>\n",
    "            var data = {d3graph};\n",
    "            const elem = document.getElementById('graph');\n",
    "            const Graph = ForceGraph()(elem)\n",
    "                .graphData(data)\n",
    "                .nodeLabel('top')\n",
    "                .nodeRelSize(1)\n",
    "                .nodeVal('nReden')\n",
    "                //.linkVisibility('true')\n",
    "                //.onNodeClick (node => {{window.open(`wordnet.html`, '_blank')}})\n",
    "                //.onNodeHover(node => elem.style.cursor = node ? 'pointer' : null)\n",
    "                .onNodeRightClick(node => {{\n",
    "                    // Center/zoom on node\n",
    "                    Graph.centerAt(node.x, node.y, 1000);\n",
    "                    Graph.zoom(4, 2000);\n",
    "                }});\n",
    "        </script>\n",
    "        </body>\n",
    "        \"\"\"\n",
    "\n",
    "        with open (f\"./TOPnets/TOPnet4topic{topic_index}.html\", \"w\") as f:\n",
    "            f.write(htmlcode)"
   ]
  },
  {
   "cell_type": "code",
   "execution_count": null,
   "metadata": {},
   "outputs": [],
   "source": [
    "#nodes"
   ]
  },
  {
   "cell_type": "markdown",
   "metadata": {},
   "source": [
    "## 2.2 Tom's Arbeit zu den häufigsten Worten"
   ]
  },
  {
   "cell_type": "code",
   "execution_count": 56,
   "metadata": {},
   "outputs": [],
   "source": [
    "selection = topics[0]['tops']\n",
    "#selection"
   ]
  },
  {
   "cell_type": "code",
   "execution_count": 57,
   "metadata": {},
   "outputs": [],
   "source": [
    "mydata=[]\n",
    "for ele in selection:\n",
    "    top=groupedby_discussion[ele]\n",
    "    #print(top)\n",
    "    for rede in top:\n",
    "        #print(rede['text'])\n",
    "        mydata.extend(rede['text'].split())"
   ]
  },
  {
   "cell_type": "code",
   "execution_count": 58,
   "metadata": {},
   "outputs": [
    {
     "data": {
      "text/plain": [
       "[('die', 22724),\n",
       " ('und', 21359),\n",
       " ('der', 18135),\n",
       " ('in', 12341),\n",
       " ('wir', 10522),\n",
       " ('das', 9359),\n",
       " ('ist', 8634),\n",
       " ('den', 7453),\n",
       " ('auch', 7423),\n",
       " ('Sie', 7204),\n",
       " ('zu', 7174),\n",
       " ('nicht', 7116),\n",
       " ('dass', 6883),\n",
       " ('für', 6567),\n",
       " ('es', 6004)]"
      ]
     },
     "execution_count": 58,
     "metadata": {},
     "output_type": "execute_result"
    }
   ],
   "source": [
    "import collections\n",
    "counter = collections.Counter(mydata).most_common()[:15]\n",
    "counter"
   ]
  },
  {
   "cell_type": "markdown",
   "metadata": {},
   "source": [
    "## 2.3 Marcel's Arbeit zu den Kommentaren"
   ]
  },
  {
   "cell_type": "code",
   "execution_count": 80,
   "metadata": {},
   "outputs": [
    {
     "name": "stdout",
     "output_type": "stream",
     "text": [
      "208\n"
     ]
    }
   ],
   "source": [
    "# load data with comments\n",
    "\n",
    "with open('../../data/speeches_20_withcomments.jsonl', 'r', encoding = 'utf8') as fp:\n",
    "    data = list(fp)\n",
    "speeches_wc = []\n",
    "for line in data:\n",
    "    speeches_wc.append(json.loads(line))\n",
    "\n",
    "# group by discussion title    \n",
    "\n",
    "groupedby_discussion_wc = groupSpeechesByDiscussionTitle(speeches_wc)\n",
    "print(len(groupedby_discussion_wc))\n",
    "\n",
    "\n",
    "selection = topics[0]['tops']\n",
    "speeches_in_topic = []\n",
    "for ele in selection:\n",
    "    top=groupedby_discussion_wc[ele]\n",
    "    #print(top)\n",
    "    for rede in top:\n",
    "        #print(rede['text'])\n",
    "        speeches_in_topic.append(rede)\n",
    "\n",
    "#speeches_in_topic"
   ]
  },
  {
   "cell_type": "code",
   "execution_count": 81,
   "metadata": {},
   "outputs": [
    {
     "data": {
      "text/plain": [
       "1226"
      ]
     },
     "execution_count": 81,
     "metadata": {},
     "output_type": "execute_result"
    }
   ],
   "source": [
    "len(speeches_in_topic)"
   ]
  },
  {
   "cell_type": "code",
   "execution_count": 65,
   "metadata": {},
   "outputs": [],
   "source": [
    "import re\n",
    "\n",
    "def groupSpeechesByParty(speeches):\n",
    "    groupedSpeeches = {}\n",
    "    for speech in speeches:\n",
    "        tpo = speech['party']\n",
    "        if tpo in groupedSpeeches:\n",
    "            groupedSpeeches[tpo].append(speech)\n",
    "        else:\n",
    "            groupedSpeeches[tpo] = [speech]\n",
    "    return groupedSpeeches\n",
    "\n",
    "def clean_partyname(speeches):\n",
    "    for speech in speeches:\n",
    "        if 'BÜNDNIS\\xa090/DIE GRÜNEN' in speech['party']:\n",
    "            speech.update({'party': 'BÜNDNIS 90/DIE GRÜNEN'})\n",
    "\n",
    "            \n",
    "# filter: Kommentare extrahieren\n",
    "def extract_comments(speeches):\n",
    "    regex = \"{(.*?)}\" # hier die genaue Definition der Kommentare vom Parser <<< >\n",
    "    comments = []\n",
    "    modified_speeches = []\n",
    "    for speech in speeches:\n",
    "        text = speech['text']\n",
    "        matches = re.findall(regex,text)\n",
    "        speech['comments'] = matches\n",
    "        modified_speeches.append(speech)\n",
    "    return modified_speeches\n",
    "\n",
    "\n",
    "# filter: comments per party with contain words and not contain words\n",
    "def filter_with_complex_non_words(search_terms,non_words,speeches):\n",
    "    filtered_speeches = []\n",
    "    for speech in speeches:\n",
    "        for comment in speech['comments']:\n",
    "            if all([term in comment for term in search_terms]) and not any([term in comment for term in non_words]):\n",
    "                filtered_speeches.append(speech)\n",
    "                break\n",
    "    return filtered_speeches\n",
    "# Funktionsaufruf:  specific_and_non_search = filter_with_complex_non_words(['Beifall','CDU'],['Zuruf'],speeches_comments)\n",
    "# Funktionsausgabe: print(specific_and_non_search[0])                               enthält AND enthält nicht\n",
    "#                   print(len(specific_and_non_search))\n",
    "\n",
    "            \n",
    "\n",
    "\n",
    "\n"
   ]
  },
  {
   "cell_type": "code",
   "execution_count": 82,
   "metadata": {},
   "outputs": [
    {
     "name": "stdout",
     "output_type": "stream",
     "text": [
      "alle Reden: 1226\n",
      "Anzahl Kommentare mit Beteiligung von Die Linke:             214\n",
      "Anzahl Kommentare mit Beteiligung von SPD:                   1085\n",
      "Anzahl Kommentare mit Beteiligung von BÜNDNIS 90/DIE GRÜNEN: 773\n",
      "Anzahl Kommentare mit Beteiligung von CDU/CSU:               823\n",
      "Anzahl Kommentare mit Beteiligung von FDP:                   1030\n",
      "Anzahl Kommentare mit Beteiligung von AfD:                   637\n",
      "Anzahl Kommentare mit Beteiligung von Fraktionslos:          11\n"
     ]
    }
   ],
   "source": [
    "#groupbyparty = groupSpeechesByParty(speeches_in_topic)\n",
    "print(f'alle Reden: {len(speeches_in_topic)}') # Anzahl aller Reden\n",
    "#for ele in groupbyparty:\n",
    "#    print(len(groupbyparty[ele]))\n",
    "# Überprüfung mit bspw.: len(groupbyparty['SPD'])\n",
    "\n",
    "# Funktionsaufruf: speeches_comments = extract_comments(speeches)\n",
    "speeches_comments = extract_comments(speeches_wc)\n",
    "# Funktionsausgabe: print(speeches_comments[0]['comments'])\n",
    "#                   print(speeches_comments[0]['party'])\n",
    "\n",
    "\n",
    "specific_and_non_search = filter_with_complex_non_words(['DIE LINKE'],[],speeches_in_topic)\n",
    "print(f'Anzahl Kommentare mit Beteiligung von Die Linke:             {len(specific_and_non_search)}')\n",
    "specific_and_non_search = filter_with_complex_non_words(['SPD'],[],speeches_in_topic)\n",
    "print(f'Anzahl Kommentare mit Beteiligung von SPD:                   {len(specific_and_non_search)}')\n",
    "specific_and_non_search = filter_with_complex_non_words(['BÜNDNIS 90/DIE GRÜNEN'],[],speeches_in_topic)\n",
    "print(f'Anzahl Kommentare mit Beteiligung von BÜNDNIS 90/DIE GRÜNEN: {len(specific_and_non_search)}')\n",
    "specific_and_non_search = filter_with_complex_non_words(['CDU/CSU'],[],speeches_in_topic)\n",
    "print(f'Anzahl Kommentare mit Beteiligung von CDU/CSU:               {len(specific_and_non_search)}')\n",
    "specific_and_non_search = filter_with_complex_non_words(['FDP'],[],speeches_in_topic)\n",
    "print(f'Anzahl Kommentare mit Beteiligung von FDP:                   {len(specific_and_non_search)}')\n",
    "specific_and_non_search = filter_with_complex_non_words(['AfD'],[],speeches_in_topic)\n",
    "print(f'Anzahl Kommentare mit Beteiligung von AfD:                   {len(specific_and_non_search)}')\n",
    "specific_and_non_search = filter_with_complex_non_words(['fraktionslos'],[],speeches_in_topic)\n",
    "print(f'Anzahl Kommentare mit Beteiligung von Fraktionslos:          {len(specific_and_non_search)}')"
   ]
  },
  {
   "cell_type": "code",
   "execution_count": null,
   "metadata": {},
   "outputs": [],
   "source": []
  },
  {
   "cell_type": "code",
   "execution_count": null,
   "metadata": {},
   "outputs": [],
   "source": []
  },
  {
   "cell_type": "code",
   "execution_count": null,
   "metadata": {},
   "outputs": [],
   "source": []
  },
  {
   "cell_type": "markdown",
   "metadata": {},
   "source": [
    "## Additional Stuff"
   ]
  },
  {
   "cell_type": "markdown",
   "metadata": {},
   "source": [
    "### X.1 Temporal Evolution"
   ]
  },
  {
   "cell_type": "code",
   "execution_count": null,
   "metadata": {},
   "outputs": [],
   "source": [
    "def groupSpeechesByDate(speeches):\n",
    "    groupedSpeeches = {}\n",
    "    speeches.sort(key = lambda x:x['date'])\n",
    "    for speech in speeches:\n",
    "        top = speech['date']\n",
    "        if top in groupedSpeeches:\n",
    "            groupedSpeeches[top].append(speech)\n",
    "        else:\n",
    "            groupedSpeeches[top] = [speech]\n",
    "    \n",
    "    return groupedSpeeches\n",
    "\n",
    "\n",
    "groupedby_date = groupSpeechesByDate(speeches)\n",
    "len(groupedby_date)\n",
    "\n",
    "\n",
    "#groupedby_date['2022-04-27']"
   ]
  },
  {
   "cell_type": "code",
   "execution_count": null,
   "metadata": {},
   "outputs": [],
   "source": [
    "groupedby_date.keys()"
   ]
  },
  {
   "cell_type": "code",
   "execution_count": null,
   "metadata": {},
   "outputs": [],
   "source": [
    "corpus_by_date = []\n",
    "for docs in groupedby_date.values():\n",
    "    #print(grouped[top])\n",
    "    aggregate= []\n",
    "    for ele in docs:\n",
    "        aggregate.append(ele['text'])\n",
    "    corpus_by_date.append(' '.join(aggregate))\n",
    "\n",
    "len(corpus_by_date) \n",
    "#corpus_by_date[0]"
   ]
  },
  {
   "cell_type": "code",
   "execution_count": null,
   "metadata": {},
   "outputs": [],
   "source": [
    "consider = set([x for xs in topic_words for x in xs])\n",
    "#consider"
   ]
  },
  {
   "cell_type": "code",
   "execution_count": null,
   "metadata": {},
   "outputs": [],
   "source": [
    "\n",
    "#consider = feature_names\n",
    "\n",
    "consider = set([x for xs in topic_words for x in xs])\n",
    "\n",
    "def corpus_by_Features(corpus,consider):\n",
    "    corpus_by = []  \n",
    "    for row in tqdm.tqdm(corpus):\n",
    "        doc = nlp(row)\n",
    "        new_row = []\n",
    "        for token in doc:\n",
    "            if token.lemma_ in consider:\n",
    "                new_row.append(token.lemma_)\n",
    "        corpus_by.append(' '.join(new_row))\n",
    "    return corpus_by \n",
    "     \n",
    "corpus_by_date_features = corpus_by_Features(corpus_by_date,consider)        \n",
    "len(corpus_by_date_features)"
   ]
  },
  {
   "cell_type": "code",
   "execution_count": null,
   "metadata": {},
   "outputs": [],
   "source": [
    "#corpus_by_date_features[1]\n",
    "feature_names.index('und')\n",
    "#topic_words\n",
    "len(consider)"
   ]
  },
  {
   "cell_type": "code",
   "execution_count": null,
   "metadata": {},
   "outputs": [],
   "source": [
    "evo_vectorizer_tf = TfidfVectorizer(vocabulary=feature_names,use_idf=False, norm=\"l1\")\n",
    "#vectorizer_counts = CountVectorizer(vocabulary=feature_names)\n",
    "evo_tf_matrix = evo_vectorizer_tf.fit_transform(corpus_by_date_features)\n",
    "print(evo_tf_matrix.shape)\n",
    "print(topic2word.shape)\n",
    "\n",
    "topic2word_norm = normalize(topic2word, norm='l1', axis=0, copy=True, return_norm=False)\n",
    "\n",
    "time2topic = evo_tf_matrix.dot(topic2word_norm.T)\n",
    "print(time2topic.shape)\n",
    "print(time2topic.sum(axis=1))"
   ]
  },
  {
   "cell_type": "code",
   "execution_count": null,
   "metadata": {},
   "outputs": [],
   "source": [
    "plt.figure(figsize=(10, 5))\n",
    "#plt.plot(groupedby_date.keys(),time2topic,label = topic_list)\n",
    "plt.stackplot(groupedby_date.keys(),time2topic.T)\n",
    "\n",
    "plt.xticks(rotation=65, ha='right')\n",
    "#plt.legend(loc=\"upper left\")\n",
    "plt.legend(bbox_to_anchor=(1.01, 1.01))\n",
    "#locs, labels = xticks()\n",
    "#xticks(locs,)\n",
    "plt.show()"
   ]
  },
  {
   "cell_type": "code",
   "execution_count": null,
   "metadata": {},
   "outputs": [],
   "source": []
  }
 ],
 "metadata": {
  "kernelspec": {
   "display_name": "Python 3",
   "language": "python",
   "name": "python3"
  },
  "language_info": {
   "codemirror_mode": {
    "name": "ipython",
    "version": 3
   },
   "file_extension": ".py",
   "mimetype": "text/x-python",
   "name": "python",
   "nbconvert_exporter": "python",
   "pygments_lexer": "ipython3",
   "version": "3.7.3"
  }
 },
 "nbformat": 4,
 "nbformat_minor": 4
}
