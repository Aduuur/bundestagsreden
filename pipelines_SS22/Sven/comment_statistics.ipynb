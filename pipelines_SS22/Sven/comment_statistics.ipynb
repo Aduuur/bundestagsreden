{
 "cells": [
  {
   "cell_type": "code",
   "execution_count": 13,
   "metadata": {},
   "outputs": [],
   "source": [
    "# from Marcel's report\n",
    "\n",
    "import collections\n",
    "import json\n",
    "import matplotlib.pyplot as plt\n",
    "from   matplotlib.pyplot import figure\n",
    "import numpy as np\n",
    "import os\n",
    "import pandas as pd\n",
    "import re\n",
    "import requests\n",
    "import sys\n",
    "\n",
    "module_path = os.path.abspath(os.path.join('../../'))\n",
    "if module_path not in sys.path:\n",
    "    sys.path.append(module_path)\n"
   ]
  },
  {
   "cell_type": "code",
   "execution_count": 21,
   "metadata": {},
   "outputs": [
    {
     "data": {
      "text/plain": [
       "4866"
      ]
     },
     "execution_count": 21,
     "metadata": {},
     "output_type": "execute_result"
    }
   ],
   "source": [
    "def load_speeches(period,comments):\n",
    "\n",
    "    if comments:\n",
    "        filename = f'../../data/speeches_{period}_with_comments.jsonl'\n",
    "    else:\n",
    "        filename = f'../../data/speeches_{period}.jsonl'\n",
    "\n",
    "    with open(filename, 'r', encoding = 'utf8') as fp:\n",
    "        data = list(fp)\n",
    "    speeches = []\n",
    "    for line in data:\n",
    "        speeches.append(json.loads(line))\n",
    "\n",
    "    return speeches\n",
    "\n",
    "#from utilities.BTTools import load_speeches\n",
    "speeches = load_speeches(20,True)\n",
    "len(speeches)"
   ]
  },
  {
   "cell_type": "code",
   "execution_count": 6,
   "metadata": {},
   "outputs": [
    {
     "name": "stdout",
     "output_type": "stream",
     "text": [
      "['BÜNDNIS 90/DIE GRÜNEN', 'CDU/CSU', 'Fraktionslos', 'AfD', 'SPD', 'FDP', 'unknown', 'DIE LINKE']\n"
     ]
    },
    {
     "data": {
      "text/plain": [
       "{'BÜNDNIS 90/DIE GRÜNEN': 781,\n",
       " 'CDU/CSU': 1076,\n",
       " 'Fraktionslos': 26,\n",
       " 'AfD': 641,\n",
       " 'SPD': 1145,\n",
       " 'FDP': 651,\n",
       " 'unknown': 164,\n",
       " 'DIE LINKE': 382}"
      ]
     },
     "execution_count": 6,
     "metadata": {},
     "output_type": "execute_result"
    }
   ],
   "source": [
    "party_names = []\n",
    "for speech in speeches:\n",
    "    if speech['party'] in party_names:\n",
    "        pass\n",
    "    else:\n",
    "        party_names.append(speech['party'])\n",
    "        \n",
    "print(party_names)\n",
    "\n",
    "# Dictionary included 0\n",
    "empty_list_per_party = []\n",
    "for _ in range(len(party_names)):\n",
    "    empty_list_per_party.append(0)\n",
    "party_speech_count = {k: v for k, v in zip(party_names, empty_list_per_party)}\n",
    "\n",
    "# Dictionary fill quantity for each party\n",
    "#nSpeeches = np.zeros((nParties,1),dtype = np.uint16)\n",
    "for speech in speeches:\n",
    "    if speech['party'] in party_names:\n",
    "        party_speech_count[speech['party']] = party_speech_count[speech['party']] + 1\n",
    "    else:\n",
    "        party_names.append(speech['party'])\n",
    "        party_speech_count[speech['party']] = 1\n",
    "        \n",
    "print(party_speech_count)"
   ]
  },
  {
   "cell_type": "code",
   "execution_count": 26,
   "metadata": {},
   "outputs": [],
   "source": [
    "\n",
    "\n",
    "def augment_with_comments(speeches):\n",
    "    regex = \"{(.*?)}\" # hier steht die genaue Definition der Kommentare vom Parser\n",
    "    comments = []\n",
    "    modified_speeches = []\n",
    "    for speech in speeches:\n",
    "        text = speech['text']\n",
    "        matches = re.findall(regex,text)\n",
    "        speech['comments'] = matches\n",
    "        modified_speeches.append(speech)\n",
    "    return modified_speeches\n",
    "\n",
    "speeches = augment_with_comments(speeches) # hier erfolgt der Funktionsaufruf\n"
   ]
  },
  {
   "cell_type": "code",
   "execution_count": 46,
   "metadata": {},
   "outputs": [
    {
     "data": {
      "image/png": "[encoded data removed]",
      "text/plain": [
       "<Figure size 864x288 with 1 Axes>"
      ]
     },
     "metadata": {
      "needs_background": "light"
     },
     "output_type": "display_data"
    }
   ],
   "source": [
    "comment_count_per_speech = [ len(speeches[sx]['comments']) for sx in range(len(speeches)) ]\n",
    "fig = plt.figure(figsize=(12,4))\n",
    "plt.hist(comment_count_per_speech, bins=50, range=[0, 50], align='mid', facecolor = '#2ab0ff', edgecolor='#ffffff', linewidth=1.5)\n",
    "plt.title(\"Distribution of Comment Counts\")\n",
    "plt.xlabel(\"number of comments\")\n",
    "plt.ylabel(\"frequency\")\n",
    "plt.show()"
   ]
  },
  {
   "cell_type": "code",
   "execution_count": null,
   "metadata": {},
   "outputs": [],
   "source": []
  },
  {
   "cell_type": "code",
   "execution_count": 48,
   "metadata": {},
   "outputs": [
    {
     "name": "stdout",
     "output_type": "stream",
     "text": [
      "39850\n"
     ]
    }
   ],
   "source": [
    "comments_per_party = []\n",
    "for _ in range(len(party_names)):\n",
    "    comments_per_party.append(['all comments per party'])\n",
    "#comments_to = {k: v for k, v in zip(party_names, comments_per_party)}\n",
    "\n",
    "comments_to = {}\n",
    "count_comments = 0\n",
    "for party in party_names:\n",
    "    comments_to.update({ party : [] })\n",
    "for speech in speeches:\n",
    "    if len(speech['comments']) > 0:\n",
    "        for comment in speech['comments']:\n",
    "            for split_comment in comment.split(' – '):\n",
    "                comments_to[speech['party']].append(split_comment)\n",
    "                count_comments = count_comments+1\n",
    "                \n",
    "print(count_comments)  "
   ]
  },
  {
   "cell_type": "code",
   "execution_count": null,
   "metadata": {},
   "outputs": [],
   "source": []
  },
  {
   "cell_type": "code",
   "execution_count": null,
   "metadata": {},
   "outputs": [],
   "source": []
  }
 ],
 "metadata": {
  "kernelspec": {
   "display_name": "Python 3",
   "language": "python",
   "name": "python3"
  },
  "language_info": {
   "codemirror_mode": {
    "name": "ipython",
    "version": 3
   },
   "file_extension": ".py",
   "mimetype": "text/x-python",
   "name": "python",
   "nbconvert_exporter": "python",
   "pygments_lexer": "ipython3",
   "version": "3.7.3"
  }
 },
 "nbformat": 4,
 "nbformat_minor": 4
}
