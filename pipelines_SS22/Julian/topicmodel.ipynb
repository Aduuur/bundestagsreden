{
 "cells": [
  {
   "cell_type": "code",
   "execution_count": 1,
   "id": "1ccf562d-82f5-40af-accb-9955a979202e",
   "metadata": {
    "pycharm": {
     "name": "#%%\n"
    }
   },
   "outputs": [],
   "source": [
    "import os\n",
    "import sys\n",
    "import numpy as np\n",
    "import matplotlib.pyplot as plt\n",
    "import spacy\n",
    "import json\n",
    "import tqdm\n",
    "\n",
    "from utilities.BTTools import groupSpeechesByDiscussionTitle\n",
    "\n",
    "from sklearn.feature_extraction.text import TfidfVectorizer\n",
    "from sklearn.decomposition import NMF\n",
    "from sklearn.preprocessing import normalize\n",
    "from sklearn.metrics.pairwise import cosine_similarity"
   ]
  },
  {
   "cell_type": "code",
   "execution_count": 2,
   "outputs": [],
   "source": [
    "# get speeches\n",
    "# setup topic-model\n",
    "# generate web-page\n",
    "# implement click-handler"
   ],
   "metadata": {
    "collapsed": false,
    "pycharm": {
     "name": "#%%\n"
    }
   }
  },
  {
   "cell_type": "code",
   "execution_count": 3,
   "outputs": [],
   "source": [
    "def get_speeches():\n",
    "    speeches = []\n",
    "    with open('../../bundestagsreden parser/speeches_20.jsonl', 'r', encoding='utf8') as fp:\n",
    "        for line in list(fp):\n",
    "            speeches.append(json.loads(line))\n",
    "\n",
    "    return speeches"
   ],
   "metadata": {
    "collapsed": false,
    "pycharm": {
     "name": "#%%\n"
    }
   }
  },
  {
   "cell_type": "code",
   "execution_count": 4,
   "outputs": [
    {
     "name": "stdout",
     "output_type": "stream",
     "text": [
      "loaded 2777\n"
     ]
    }
   ],
   "source": [
    "original_speeches = get_speeches()\n",
    "print(f'loaded {len(original_speeches)}')"
   ],
   "metadata": {
    "collapsed": false,
    "pycharm": {
     "name": "#%%\n"
    }
   }
  },
  {
   "cell_type": "code",
   "execution_count": 5,
   "outputs": [
    {
     "name": "stdout",
     "output_type": "stream",
     "text": [
      "grouped speeches to 208 \"TagesOrnungsPunkten\"\n"
     ]
    }
   ],
   "source": [
    "grouped_speeches_by_tops = groupSpeechesByDiscussionTitle(original_speeches)\n",
    "print(f'grouped speeches to {len(grouped_speeches_by_tops)} \"TagesOrnungsPunkten\"')"
   ],
   "metadata": {
    "collapsed": false,
    "pycharm": {
     "name": "#%%\n"
    }
   }
  },
  {
   "cell_type": "code",
   "execution_count": 6,
   "outputs": [],
   "source": [
    "def get_corpus(tops):\n",
    "    corpus = []\n",
    "\n",
    "    for top in tops.values():\n",
    "        aggregate = []\n",
    "\n",
    "        for speech in top:\n",
    "            aggregate.append(speech['text'])\n",
    "        corpus.append(' '.join(aggregate))\n",
    "\n",
    "    return corpus"
   ],
   "metadata": {
    "collapsed": false,
    "pycharm": {
     "name": "#%%\n"
    }
   }
  },
  {
   "cell_type": "code",
   "execution_count": 7,
   "outputs": [
    {
     "name": "stdout",
     "output_type": "stream",
     "text": [
      "created corpus with 208 entries\n"
     ]
    }
   ],
   "source": [
    "corpus = get_corpus(grouped_speeches_by_tops)\n",
    "print(f'created corpus with {len(corpus)} entries')"
   ],
   "metadata": {
    "collapsed": false,
    "pycharm": {
     "name": "#%%\n"
    }
   }
  },
  {
   "cell_type": "code",
   "execution_count": 8,
   "outputs": [],
   "source": [
    "nlp = spacy.load('de_core_news_sm')"
   ],
   "metadata": {
    "collapsed": false,
    "pycharm": {
     "name": "#%%\n"
    }
   }
  },
  {
   "cell_type": "code",
   "execution_count": 9,
   "outputs": [],
   "source": [
    "def corpus_by_POS(corpus, consider):\n",
    "    groups = []\n",
    "    for row in tqdm.tqdm(corpus):\n",
    "        doc = nlp(row)\n",
    "        new_row = []\n",
    "        for token in doc:\n",
    "            if token.pos_ in consider:\n",
    "                new_row.append(token.lemma_)\n",
    "        groups.append(' '.join(new_row))\n",
    "\n",
    "    return groups"
   ],
   "metadata": {
    "collapsed": false,
    "pycharm": {
     "name": "#%%\n"
    }
   }
  },
  {
   "cell_type": "code",
   "execution_count": 10,
   "outputs": [
    {
     "name": "stderr",
     "output_type": "stream",
     "text": [
      "100%|██████████| 208/208 [05:34<00:00,  1.61s/it]\n"
     ]
    }
   ],
   "source": [
    "consider = ['NOUN']\n",
    "noun_groups = corpus_by_POS(corpus, consider)"
   ],
   "metadata": {
    "collapsed": false,
    "pycharm": {
     "name": "#%%\n"
    }
   }
  },
  {
   "cell_type": "code",
   "execution_count": 11,
   "outputs": [
    {
     "name": "stdout",
     "output_type": "stream",
     "text": [
      "got 208 noun_groups\n",
      "Herr recht Kollegin Kollege Dame Herr Übernahme Geschäftsordnung Entscheidung Beginn Wahlperiode Geschäftsordnung Grundlage Arbeit Wahlperiode Wahlperiode Tradition Geschäftsordnung Anfang Wahlperiode Mehrheit Stein Wahlperiode Bundestag Geschäftsordnung Dokument Gegebenheit Parlamentarismus Gegebenheit Arbeit Bundestag Geschäftsordnung Entwicklung Wahlperiode Änderung Reform Verhaltensregeln Initiative Präsident Geschäftsordnung Wahlperiode Generalüberholung Impuls Fraktion Weg Vorschlag Opposition Geschäftsordnung Zeit Legislaturperiode Regelung Tag Ausschuß Antrag Absenken Quor Beschlussfähigkeit Bundestag Geschäftsordnung Zustimmung Antrag Weitergeltung Geschäftsordnung Zeit Änderung Dank Beifall abgeordneter GRÜNEN Nächster Wort Beifall Herr Präsident Kollegin Kollege Konstituierung Bundestag Festtag Demokratie Welt Situation Parlament Geschenk Geschenk Kollegin Kollege Beifall abgeordneter GRÜNEN Demokratie Streit Regel Regel Geschäftsordnung Geschäftsordnung Miteinander Antrag Bewähren Kernaufgabe Parlament Gesetzgebung Regierungskontrolle Auffassung Regel Jahrzehnt Geschäftsordnung 80er-Jahr Mal Übereinstimmung Frau Bundestagspräsident Kurz Regel Überarbeitung Vorschlag Geschäftsordnung Wahl Bundeskanzler Änderungsantrag Stellung Position Regelung Vergangenheit Klarheit Kanzlerwahl Profilierung Fraktion Land Regierung Wille Mutter Vater Grundgesetz Wahl Tagesordnung Kanzlerwahl Mehrheit Bundestag Geschäftsordnung Bundespräsident Wahlvorschlag Vorschlag Vorschlag Viertel abgeordneter Bundestag Sonderregel Frage Tag Kanzlerwahl Diskussion Beatrix Geschäftsordnung Wahlperiode Sache Social Media Videoclip Bühne Beifall GRÜNEN Jahr Bundestagssitzung Klamauk Zuruf Frechheit Kanzlerwahl Fraktion Misstrauensantrag Mindestzahl Unterstützer Gleiche Plenarsaal Bundestag Spielplatz Propaganda Beifall GRÜNEN abgeordneter Misstrauensanträg misstrauen Institution Staat Antrag Beifall abgeordneter Dr. Quittung Gegenruf Abg Dr. Bündnis grüne Nächste Wort Beifall GRÜNEN Herr Alterspräsident Kollegin Kollege Tat Beginn Sitzung Rahmen Rahmen Grundlage Zusammenarbeit Geschäftsordnung Arbeit Parlament Rechtsrahmen Beifall GRÜNEN abgeordneter Liebe Kollegin Kollege Dame Herr Antrag Stelle Situation § 126a Geschäftsordnung Zeit Ausnahme Beschlussfähigkeit Bundestag Tag 3-G-Regime Anzahl Frage Anzahl Sinn Dame Herr Beifall GRÜNEN abgeordneter Prozess Änderung Geschäftsordnung Kollegin Kollege Ding Neu Haus Geschäftsordnung wahnsinnig Lebendige Monat Stelle Änderung Beispiel Fragerecht Regel Umgäng Fraktion Woche Monat Parlament Änderungsantrag Geschäftsordnungsausschuss Sinn Unsinn Änderungsantrag Sache Änderungsantrag Hinblick Absenkung Anzahl abgeordneter Bundeskanzler Bundeskanzlerin Viertel Mitglied Haus Dame Herr Situation Beifall abgeordneter GRÜNEN Gesetzgebungsverfahren Haus Kanzler/-innenmehrheit Sinn Dame Herr Wahl Kanzler Kanzlerin Viertel Tatsache abgeordneter Woche Woche Monat Monat Dr. Antrag Grund Parlament Zustimmung Dame Herr Beifall GRÜNEN abgeordneter Kanzler-/Kanzlerinnenmehrheit Frage Viertel abgeordneter Kanzler Kanzlerin Ankündigung Herr Dame Herr Beifall GRÜNEN abgeordneter Haltung Änderungsantrag Hinblick Frage Initiative Antrag Lebenswirklichkeit Mensch Horizont abgeordneter Zuruf Abg Stimmung Beifall abgeordneter GRÜNEN Dame Herr Lebenswirklichkeit Lebenswirklichkeit Beifall GRÜNEN abgeordneter Diskussion Änderungsantrag AfD. Dank Beifall GRÜNEN abgeordneter Redner Kollege Dr. Beifall Herr Präsident Kollegin Kollege Kollegin Kollege Fraktion Tag Tag Tag bisschen Taufe Erstkommunion Jugendweihe neue Leben Herr Kollege Jugendweihe Heiterkeit Beifall Bürgerin Bürger Umgang Verantwortung Umgang Streit Regel Präsident Regel Kultur Parlamentarismus Konsens Teil Regel Streit Antrag Fraktion Haus Antrag Frau Bemerkung Bemerkung Geschäftsordnung Modernisierung Coronazeit Kollegin Kollege sachverständig Zeit Vorbehalt Gewinn Kollegin Kollege Debatte Modernisierung Geschäftsordnung Bemerkung Änderungsantrag Sohle Absenkung Quorum Antrag Wahl Wahrheit Abwahl Bundeskanzler Wahrheit Umkehrung Charakter Instrument Abwahl Bundeskanzler Grundgesetz Antwort Geschichte Abwahl Bundeskanzler Erfolg Neuwahl Kanzler Misstrauensvotum Misstrauensvotum Antwort Geschichte Republik Mehrheit Mehrheit Bestehenden Verneinung Mehrheit Mehrheit Bessere Regierung Republik Amt Bürgerin Bürger vertrauen Institution Weg Diktatur Mutter Vater Grundgesetz Lehre Beseitigung Bundeskanzler Amt Parlament Mehrheit Mehrheit Bessere Quor Geschäftsordnung Verfahren Prüffrage Prüffrage Kanzlermehrheit Viertel Haus Verfahren Prüffrage Ausnahmecharakter Verfahren Ausnahmeinstrument Misstrauensvotum Kampfinstrument Sitzungswoche Zweifelsfall vertrauen Institution Grundgesetz Beifall GRÜNEN Erfahrung Fraktion Änderungsantrag Jahr Ziel vertrauen Institution Grundgesetz Ausnahmeinstrument Kampfinstrument Demokrat Beifall GRÜNEN abgeordneter Redner Kollege AfD. Beifall Herr Alterspräsident Rede Beginn Sitzung Applaus Beifall vieler Auge Herausforderung Zukunft Dame Herr Flankierung Lebensabschnitt Jahr Wahlperiode Regelwerk Geschäftsordnung große ganze Wahlperiode Bekämpfung Opposition Opposition Beifall abgeordneter Sündenfall alterspräsidenten Verhinderung Bundestagsvizepräsidente Parlamentarier Gesetz Rahmen Parteienfinanzierung Omnibusgesetz Verschiedenes Fluthilfe Coronamaßnahmen Geschäftsordnung Vorredner Dame Herr Wahlperiode Sitzung Ding Mehrheitsmeinung Volke Lesbarkeit Verzicht Gendersprache Mehrheit Bürger Drittel Sprachunsinn Beifall Mann Frau Sternch Binnen-Is Doppelpunkt Unterstriche [ GRÜNEN AfD Stotterpausen Volk Mehrheit Volk Sinn Mehrheit Bürger Sinn Mehrheit Bürger Quatsch Bundestag Zukunft Beifall Frau Haus Fraktionssitzung Parteitag Bundestag Vernunft Antrag Dame Herr Antrag Motto Demokratie Beifall abgeordneter lachen Anliegen Anliegen bestehen Demokratie Volksabstimmung Volksbegehr Demokratie kleine Rahmen Geschäftsordnung Wahlvorschlag Bundeskanzler Frau GRÜNEN Antrag Quorum Wahl Bundeskanzler Wahlvorschlag Thema Frau Beifall Bestenauslese grüne Geschäftsführer [ GRÜNEN Gott Geschäftsordnung Vorschlag Wahl Bundeskanzler Prozent Mitglied Bundestag Anzahl Verstoß Geheimheit Wahl Bundestag Partei Prozent Wahlvorschlag Fraktion Auslegung Geschäftsordnung Konstellation Partei Partei Bundestagswahl Prozent Prozent 5-Prozent-Hürde Prozent linke [ Bundesland Bundesland Vollhonk Beifall Dame Herr Demokratie Wahlvorschlag Quorum Fraktion Recht Kandidat Wahl Bundeskanzler Frau Kanzlermehrheit Bundestag Herr Herr Bereich Verschwörungstheorie Unkenntnis Herr Vater Mutter Grundgesetz Vater Mutter Geschäftsordnung Vater Mutter Grundgesetz Beifall Bitte Dame Herr Sinn Bürger Land Gendersprache Sinn Zurufe Formalie Vorschlag Kandidat Bundeskanzler Stimme Antrag Dank Beifall Redner Debatte Kollege linke Beifall Herr Dr. Herr Sitzung Höhe Dr. Widerlichkeit Beifall GRÜNEN Dass Nazi Niedergekniet Opfer Aufstand Ghetto Tradition Nazi Dr. Tradition Klarheit Beifall GRÜNEN Parlament Zurufe Liebe Kollegin Kollege Dame Herr Zurufe Lage Zurzeit Kinderarmut Sorge Koalition sozial lachen abgeordneter Jahr Mensch Verunglimpfung Sprache Sinnvolle Änderungsantrag Änderungsantrag gut Jahr Bundestag Gesetzestext Binnen-I Doppelpunkt Gendersternche Beifall Gesetzestexte Papierkorb Beifall Fraktion Vorlage Fraktion Geschäftsordnung Grundlage Zustimmung Geschäftsordnung Vorschlag Rede Beginn Wahlperiode Kollege Kollegin Kollege Vorschlag Vorschlag Vorschlag Dr. Mehrheit Problem Beifall Ausschusssitzung Fragerecht Möglichkeit Großverdiener Laden Frage Glaubwürdigkeit Politik Beifall Großspend Unternehmen Politik Geld Beifall Fall Punkt Wahlbeteiligung Frage Wahlkreis Wahlbeteiligung Prozent Wahlkreis Anhalt Prozent Dr. Werbung Pro-Kopf-Einkommen Recht Ungleichgewicht Demokratie Leute Teil Prozent Wahl Parlamente Parlamentsgeschehen Beifall abgeordneter Last not Kontrolle Begrenzung Lobbyismus Freund Halbtagslobbyiste Erfreuliche Partei Opposition Hinderungsgrund Vorschlag grüne Linke Reform Woche Teil grüne Mehrheit gut Debatte Beifall Liebe Kollegin Kollege Herr Kollege Legislaturperiode Vorwurf Fraktion Kollegin Kollege Tradition Nationalsozialist Haus Beifall Rat Nachfolgerin Legislaturperiode Aussprache\n"
     ]
    }
   ],
   "source": [
    "print(f'got {len(noun_groups)} noun_groups')\n",
    "print(noun_groups[0])"
   ],
   "metadata": {
    "collapsed": false,
    "pycharm": {
     "name": "#%%\n"
    }
   }
  },
  {
   "cell_type": "code",
   "execution_count": 12,
   "outputs": [
    {
     "name": "stderr",
     "output_type": "stream",
     "text": [
      "c:\\python38\\lib\\site-packages\\sklearn\\feature_extraction\\text.py:1322: UserWarning: Upper case characters found in vocabulary while 'lowercase' is True. These entries will not be matched with any documents\n",
      "  warnings.warn(\n"
     ]
    }
   ],
   "source": [
    "tfidf_vectorizer = TfidfVectorizer(max_df=0.8, min_df=0.01, lowercase=False)\n",
    "tfidf_matrix = tfidf_vectorizer.fit_transform(noun_groups)\n",
    "feature_names = tfidf_vectorizer.get_feature_names_out()\n",
    "\n",
    "tf_vectorizer = TfidfVectorizer(vocabulary=feature_names, use_idf=False, norm='l1')\n",
    "tf_matrix = tf_vectorizer.fit_transform(noun_groups)"
   ],
   "metadata": {
    "collapsed": false,
    "pycharm": {
     "name": "#%%\n"
    }
   }
  },
  {
   "cell_type": "code",
   "execution_count": 13,
   "outputs": [
    {
     "name": "stdout",
     "output_type": "stream",
     "text": [
      "(208, 7548)\n",
      "(208, 7548)\n"
     ]
    }
   ],
   "source": [
    "print(tfidf_matrix.shape)\n",
    "print(tf_matrix.shape)"
   ],
   "metadata": {
    "collapsed": false,
    "pycharm": {
     "name": "#%%\n"
    }
   }
  },
  {
   "cell_type": "code",
   "execution_count": 14,
   "outputs": [],
   "source": [
    "def create_model(matrix):\n",
    "    n_topics = 15\n",
    "    m = NMF(n_components=n_topics)\n",
    "    m.fit(tfidf_matrix)\n",
    "\n",
    "    return m"
   ],
   "metadata": {
    "collapsed": false,
    "pycharm": {
     "name": "#%%\n"
    }
   }
  },
  {
   "cell_type": "code",
   "execution_count": 15,
   "outputs": [
    {
     "name": "stderr",
     "output_type": "stream",
     "text": [
      "c:\\python38\\lib\\site-packages\\sklearn\\decomposition\\_nmf.py:289: FutureWarning: The 'init' value, when 'init=None' and n_components is less than n_samples and n_features, will be changed from 'nndsvd' to 'nndsvda' in 1.1 (renaming of 0.26).\n",
      "  warnings.warn(\n"
     ]
    }
   ],
   "source": [
    "model = create_model(tfidf_matrix)"
   ],
   "metadata": {
    "collapsed": false,
    "pycharm": {
     "name": "#%%\n"
    }
   }
  },
  {
   "cell_type": "code",
   "execution_count": 16,
   "outputs": [],
   "source": [
    "def get_topic_word_lists(topic_model):\n",
    "    n_words = 10\n",
    "    n_words_features = 100\n",
    "\n",
    "    topic_list = []\n",
    "    extended_topic_list = []\n",
    "    topic_words = []\n",
    "\n",
    "    for idx, topic in enumerate(model.components_):\n",
    "        top_n = [feature_names[i] for i in topic.argsort()[-n_words:]][::-1]\n",
    "        top_features = ' '.join(top_n)\n",
    "        topic_list.append(f\"topic_{'_'.join(top_n[:3])}\")\n",
    "        extended_topic_list.append(top_features)\n",
    "\n",
    "        top_n = [feature_names[i] for i in topic.argsort()[-n_words_features:]][::-1]\n",
    "\n",
    "        topic_words.append(top_n)\n",
    "\n",
    "        print(f\"Topic {idx}: {top_features}\")\n",
    "\n",
    "    return topic_list, extended_topic_list, topic_words"
   ],
   "metadata": {
    "collapsed": false,
    "pycharm": {
     "name": "#%%\n"
    }
   }
  },
  {
   "cell_type": "code",
   "execution_count": 17,
   "outputs": [
    {
     "name": "stdout",
     "output_type": "stream",
     "text": [
      "Topic 0: Energie Gas Ausbau Atomkraftwerk Strom Energieversorgung Erneuerbar Versorgungssicherheit Klimaschutz EEG\n",
      "Topic 1: Russland Krieg Putin Bundeskanzler Frieden Waffe Präsident Demokratie Außenpolitik NATO\n",
      "Topic 2: Impfpflicht Impfung Pandemie Pflege Impfstoff Krankenhaus Variante Virus Impf Maßnahme\n",
      "Topic 3: Mandat Mission Soldat Einsatz Soldatinn Operation Bundeswehr Schiff Region Nation\n",
      "Topic 4: Euro Milliarde Haushalt Nachtragshaushalt Investition Pandemie Krise Wirtschaft Geld Million\n",
      "Topic 5: Kind Kommune Ganztagsbetreuung Schule Familie Bildung Gesetzentwurf jugendliche Eltern Frist\n",
      "Topic 6: Landwirt Landwirtschaft Ernährung Künast Lebensmittel Hunger Bauer Fläche Betrieb Million\n",
      "Topic 7: Inflation Euro Entlastung Preis Einkommen Energiepreis Bürger Antrag Progression Rentner\n",
      "Topic 8: Opfer Anschlag Antrag Sicherheitsbehörde Demokratie Rechtsextremismus Rechtsstaat Extremismus Straftat Kriminalität\n",
      "Topic 9: Unternehmen Antrag Kurzarbeitergeld Kurzarbeit Behinderung beschäftigter Gesetzentwurf Verlängerung Pandemie Wirtschaft\n",
      "Topic 10: Wohnung Mieter wohnen bauen Wohnungsbau Wohnraum Vermieter Mieterinn Vorkaufsrecht Kommune\n",
      "Topic 11: Wohle Nutzen Gerechtigkeit Schaden Grundgesetz Volk Pflicht Gesetz Bund Kraft\n",
      "Topic 12: Bundeswehr Soldat Sondervermögen Soldatinn Bundeskanzler Milliarde Krieg Ausrüstung Soldatinne Truppe\n",
      "Topic 13: Geflüchtet Registrierung Flüchtling Krieg Kommune Schutz Kind Bundespolizei Abschiebung Migration\n",
      "Topic 14: Sanktion Geldwäsche Sanktionsdurchsetzungsgesetz Gesetz Vermögenswert Bürgergeld Oligarch Gesetzentwurf Immobilie Immobilienregister\n",
      "got 15 topics, 15 extended topics and 15 words.\n"
     ]
    }
   ],
   "source": [
    "tl, etl, tw = get_topic_word_lists(model)\n",
    "print(f'got {len(tl)} topics, {len(etl)} extended topics and {len(tw)} words.')"
   ],
   "metadata": {
    "collapsed": false,
    "pycharm": {
     "name": "#%%\n"
    }
   }
  },
  {
   "cell_type": "code",
   "execution_count": 18,
   "outputs": [
    {
     "name": "stdout",
     "output_type": "stream",
     "text": [
      "tf_matrix: (208, 7548)\n",
      "topic2word: (15, 7548)\n",
      "doc2topic: (208, 15)\n"
     ]
    }
   ],
   "source": [
    "topic2word = model.components_ # TW\n",
    "doc2topic = (tf_matrix * topic2word.T) # TN\n",
    "\n",
    "print(f'tf_matrix: {tf_matrix.shape}')\n",
    "print(f'topic2word: {topic2word.shape}')\n",
    "print(f'doc2topic: {doc2topic.shape}')"
   ],
   "metadata": {
    "collapsed": false,
    "pycharm": {
     "name": "#%%\n"
    }
   }
  },
  {
   "cell_type": "code",
   "execution_count": 19,
   "outputs": [],
   "source": [
    "def get_topic2_topic(tm):\n",
    "    normalized_matrix = normalize(tm.components_, axis=1, norm='l1')\n",
    "    print(f'normalized_matrix: {normalized_matrix.shape}')\n",
    "\n",
    "    topic_to_topic = cosine_similarity(normalized_matrix)\n",
    "    print(f'topic2topic: {topic_to_topic.shape}')\n",
    "\n",
    "    return topic_to_topic"
   ],
   "metadata": {
    "collapsed": false,
    "pycharm": {
     "name": "#%%\n"
    }
   }
  },
  {
   "cell_type": "code",
   "execution_count": 20,
   "outputs": [
    {
     "name": "stdout",
     "output_type": "stream",
     "text": [
      "normalized_matrix: (15, 7548)\n",
      "topic2topic: (15, 15)\n"
     ]
    },
    {
     "data": {
      "text/plain": "<Figure size 288x288 with 1 Axes>",
      "image/png": "[encoded data removed]"
     },
     "metadata": {
      "needs_background": "light"
     },
     "output_type": "display_data"
    }
   ],
   "source": [
    "topic2topic = get_topic2_topic(model)\n",
    "\n",
    "plt.matshow(topic2topic)\n",
    "plt.show()"
   ],
   "metadata": {
    "collapsed": false,
    "pycharm": {
     "name": "#%%\n"
    }
   }
  },
  {
   "cell_type": "code",
   "execution_count": 21,
   "outputs": [],
   "source": [
    "def create_topic2topic_graph(t2t, extended_topic_list):\n",
    "    nodes = []\n",
    "    count = 1\n",
    "\n",
    "    for i, topic in enumerate(t2t):\n",
    "        nodes.append({\n",
    "            'id': count,\n",
    "            'topicname': extended_topic_list[i]\n",
    "        })\n",
    "        count += 1\n",
    "\n",
    "    graph = {\n",
    "        'directed': False,\n",
    "        'graph': 'semant_graph',\n",
    "        'links': [],\n",
    "        'nodes': nodes\n",
    "    }\n",
    "\n",
    "    for i, node_i in enumerate(graph['nodes']):\n",
    "        for j, node_j in enumerate(graph['nodes']):\n",
    "            if i < j:\n",
    "                source = node_i['id']\n",
    "                target = node_j['id']\n",
    "                weight = t2t[i, j]\n",
    "                if weight > 0.15:\n",
    "                    link = {\n",
    "                        'source': source,\n",
    "                        'target': target,\n",
    "                        'weight': weight\n",
    "                    }\n",
    "                    graph['links'].append(link)\n",
    "\n",
    "    return graph"
   ],
   "metadata": {
    "collapsed": false,
    "pycharm": {
     "name": "#%%\n"
    }
   }
  },
  {
   "cell_type": "code",
   "execution_count": 22,
   "outputs": [
    {
     "name": "stdout",
     "output_type": "stream",
     "text": [
      "got a graph with 15 nodes.\n",
      "the first node:\n",
      "{'id': 1, 'topicname': 'Energie Gas Ausbau Atomkraftwerk Strom Energieversorgung Erneuerbar Versorgungssicherheit Klimaschutz EEG'}\n"
     ]
    }
   ],
   "source": [
    "t2t_graph = create_topic2topic_graph(topic2topic, etl)\n",
    "\n",
    "print(f\"got a graph with {len(t2t_graph['nodes'])} nodes.\")\n",
    "print('the first node:')\n",
    "print(t2t_graph['nodes'][0])"
   ],
   "metadata": {
    "collapsed": false,
    "pycharm": {
     "name": "#%%\n"
    }
   }
  },
  {
   "cell_type": "code",
   "execution_count": 53,
   "outputs": [],
   "source": [
    "def get_graph_template(graph, properties):\n",
    "    node_label = properties['nodelabel']\n",
    "    node_coloring = properties['nodecoloring']\n",
    "\n",
    "    lv = '//' if properties['edgevisibility'] else ''\n",
    "    parts = '//' if not properties['particles'] else ''\n",
    "    dm = '//' if not properties['darkmode'] else ''\n",
    "\n",
    "    d3graph = {\n",
    "        'nodes': graph['nodes'],\n",
    "        'links': graph['links']\n",
    "    }\n",
    "\n",
    "    htmlcode = f\"\"\"<head>\n",
    "        <style>\n",
    "            body {{margin: 0;}}\n",
    "            h3 {{text-align: center;}}\n",
    "            .center {{\n",
    "              display: block;\n",
    "              margin-left: auto;\n",
    "              margin-right: auto;\n",
    "            }}\n",
    "        </style>\n",
    "        <script src=\"https://unpkg.com/force-graph\"></script>\n",
    "        <meta charset=\"UTF-8\">\n",
    "    </head>\n",
    "    <body>\n",
    "    <img src=\"Logo.png\" height=\"150\" width=\"300\" class=\"center\">\n",
    "    <h3>DebSearch ist eine statistische Website, welche die aktuelle Legislaturperiode</h3>\n",
    "    <h3>in verschiedenen Kategorieren auswertet und visualisiert.</h3>\n",
    "    <div id=\"graph\"></div>\n",
    "    <script>\n",
    "        var data = {d3graph};\n",
    "        const elem = document.getElementById('graph');\n",
    "        const Graph = ForceGraph()(elem)\n",
    "            .graphData(data)\n",
    "            .nodeLabel('{node_label}')\n",
    "            .nodeRelSize(3)\n",
    "            .nodeVal('nReden')\n",
    "            .nodeAutoColorBy('{node_coloring}')\n",
    "            {dm}.backgroundColor('#000000')\n",
    "            {dm}.linkColor(() => 'rgba(255,255,255,0.2)')\n",
    "            {lv}.linkVisibility('false')\n",
    "            {parts}.linkDirectionalParticles(2)\n",
    "            {parts}.linkDirectionalParticleWidth(1.4)\n",
    "            .onNodeClick (node => {{window.open(`wordnet.html`, '_blank')}})\n",
    "            //.onNodeHover(node => elem.style.cursor = node ? 'pointer' : null)\n",
    "            .onNodeRightClick(node => {{\n",
    "                // Center/zoom on node\n",
    "                Graph.centerAt(node.x, node.y, 1000);\n",
    "                Graph.zoom(4, 2000);\n",
    "            }});\n",
    "    </script>\n",
    "    </body>\n",
    "    \"\"\"\n",
    "\n",
    "    return { 'graph': htmlcode }"
   ],
   "metadata": {
    "collapsed": false,
    "pycharm": {
     "name": "#%%\n"
    }
   }
  },
  {
   "cell_type": "code",
   "execution_count": 57,
   "outputs": [],
   "source": [
    "properties = {\n",
    "    'nodecoloring':'topicname',\n",
    "    'nodelabel': 'topicname',\n",
    "    \"darkmode\": False,\n",
    "    \"edgevisibility\": True,\n",
    "    \"particles\": False\n",
    "}\n",
    "\n",
    "html_graph = get_graph_template(t2t_graph, properties)"
   ],
   "metadata": {
    "collapsed": false,
    "pycharm": {
     "name": "#%%\n"
    }
   }
  },
  {
   "cell_type": "code",
   "execution_count": 58,
   "outputs": [],
   "source": [
    "def write_html_file(html):\n",
    "    with open(f'./topic_network.html', 'w') as f:\n",
    "        f.write(html['graph'])"
   ],
   "metadata": {
    "collapsed": false,
    "pycharm": {
     "name": "#%%\n"
    }
   }
  },
  {
   "cell_type": "code",
   "execution_count": 59,
   "outputs": [],
   "source": [
    "write_html_file(html_graph)"
   ],
   "metadata": {
    "collapsed": false,
    "pycharm": {
     "name": "#%%\n"
    }
   }
  },
  {
   "cell_type": "code",
   "execution_count": 26,
   "outputs": [],
   "source": [],
   "metadata": {
    "collapsed": false,
    "pycharm": {
     "name": "#%%\n"
    }
   }
  }
 ],
 "metadata": {
  "kernelspec": {
   "display_name": "Python 3",
   "language": "python",
   "name": "python3"
  },
  "language_info": {
   "codemirror_mode": {
    "name": "ipython",
    "version": 3
   },
   "file_extension": ".py",
   "mimetype": "text/x-python",
   "name": "python",
   "nbconvert_exporter": "python",
   "pygments_lexer": "ipython3",
   "version": "3.8.3"
  }
 },
 "nbformat": 4,
 "nbformat_minor": 5
}