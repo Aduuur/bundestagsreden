{
 "cells": [
  {
   "cell_type": "markdown",
   "metadata": {},
   "source": [
    "# First Prototype for generating a more sophisticated web app\n",
    "\n",
    "import libs and load data"
   ]
  },
  {
   "cell_type": "code",
   "execution_count": 5,
   "metadata": {},
   "outputs": [],
   "source": [
    "# local utilities\n",
    "import os\n",
    "import sys\n",
    "module_path = os.path.abspath(os.path.join('../../'))\n",
    "if module_path not in sys.path:\n",
    "    sys.path.append(module_path)\n",
    "\n",
    "from utilities.BTTools import filter_for\n",
    "from utilities.BTTools import groupSpeechesByDiscussionTitle\n",
    "\n",
    "# other stuff needed\n",
    "from sklearn.feature_extraction.text import TfidfVectorizer\n",
    "from sklearn.decomposition import LatentDirichletAllocation\n",
    "from sklearn.datasets import make_multilabel_classification\n",
    "from sklearn.decomposition import NMF\n",
    "from sklearn.feature_extraction.text import CountVectorizer\n",
    "from sklearn.preprocessing import normalize\n",
    "\n",
    "import matplotlib.pyplot as plt\n",
    "import tqdm\n",
    "\n",
    "import json\n",
    "\n",
    "with open('../../data/speeches_20.jsonl', 'r', encoding='utf8') as fp:\n",
    "    data = list(fp)\n",
    "speeches_original = []\n",
    "for line in data:\n",
    "    speeches_original.append(json.loads(line))\n",
    "    \n",
    "speeches = speeches_original.copy()    "
   ]
  },
  {
   "cell_type": "markdown",
   "metadata": {},
   "source": [
    "## 1. Topic Model at the level of TOPs\n",
    "\n",
    "\n",
    "### 1.1 Create Corpus"
   ]
  },
  {
   "cell_type": "markdown",
   "metadata": {},
   "source": [
    "#### restructure data per TOP"
   ]
  },
  {
   "cell_type": "code",
   "execution_count": 6,
   "metadata": {},
   "outputs": [
    {
     "data": {
      "text/plain": [
       "208"
      ]
     },
     "execution_count": 6,
     "metadata": {},
     "output_type": "execute_result"
    }
   ],
   "source": [
    "groupedby_discussion = groupSpeechesByDiscussionTitle(speeches)\n",
    "len(groupedby_discussion)"
   ]
  },
  {
   "cell_type": "markdown",
   "metadata": {},
   "source": [
    "#### build corpus for scikit learn methods"
   ]
  },
  {
   "cell_type": "code",
   "execution_count": 7,
   "metadata": {},
   "outputs": [
    {
     "data": {
      "text/plain": [
       "208"
      ]
     },
     "execution_count": 7,
     "metadata": {},
     "output_type": "execute_result"
    }
   ],
   "source": [
    "corpus = []\n",
    "for top in groupedby_discussion.values():\n",
    "    #print(grouped[top])\n",
    "    aggregate= []\n",
    "    for ele in top:\n",
    "        aggregate.append(ele['text'])\n",
    "    corpus.append(' '.join(aggregate))\n",
    "\n",
    "len(corpus)    \n"
   ]
  },
  {
   "cell_type": "markdown",
   "metadata": {},
   "source": [
    "#### optional: preprocessing with spacy"
   ]
  },
  {
   "cell_type": "code",
   "execution_count": 6,
   "metadata": {},
   "outputs": [],
   "source": [
    "\n",
    "import spacy\n",
    "nlp = spacy.load('de') #load spacy model\n"
   ]
  },
  {
   "cell_type": "code",
   "execution_count": 9,
   "metadata": {},
   "outputs": [],
   "source": [
    "\n",
    "def corpus_by_POS(corpus,consider):\n",
    "    corpus_by = []  \n",
    "    for row in tqdm.tqdm(corpus):\n",
    "        doc = nlp(row)\n",
    "        new_row = []\n",
    "        for token in doc:\n",
    "            if token.pos_ in consider:\n",
    "                new_row.append(token.lemma_)\n",
    "        corpus_by.append(' '.join(new_row))\n",
    "    return corpus_by \n"
   ]
  },
  {
   "cell_type": "code",
   "execution_count": 10,
   "metadata": {},
   "outputs": [
    {
     "name": "stderr",
     "output_type": "stream",
     "text": [
      "100%|██████████| 208/208 [02:59<00:00,  1.16it/s]\n"
     ]
    },
    {
     "data": {
      "text/plain": [
       "208"
      ]
     },
     "execution_count": 10,
     "metadata": {},
     "output_type": "execute_result"
    }
   ],
   "source": [
    "consider = ['NOUN']\n",
    "        \n",
    "corpus_nouns = corpus_by_POS(corpus,consider)        \n",
    "len(corpus_nouns)"
   ]
  },
  {
   "cell_type": "code",
   "execution_count": 19,
   "metadata": {},
   "outputs": [
    {
     "data": {
      "text/plain": [
       "'Kraft Wohle Volk Nutzen Schaden Grundgesetz Gesetz Bund Pflicht Gerechtigkeit'"
      ]
     },
     "execution_count": 19,
     "metadata": {},
     "output_type": "execute_result"
    }
   ],
   "source": [
    "corpus = corpus_nouns\n",
    "corpus[0]"
   ]
  },
  {
   "cell_type": "markdown",
   "metadata": {},
   "source": [
    "### 1.2 Topic Model"
   ]
  },
  {
   "cell_type": "markdown",
   "metadata": {},
   "source": [
    "#### vectorize data"
   ]
  },
  {
   "cell_type": "code",
   "execution_count": 13,
   "metadata": {},
   "outputs": [
    {
     "data": {
      "text/plain": [
       "<208x19567 sparse matrix of type '<class 'numpy.float64'>'\n",
       "\twith 300671 stored elements in Compressed Sparse Row format>"
      ]
     },
     "execution_count": 13,
     "metadata": {},
     "output_type": "execute_result"
    }
   ],
   "source": [
    "vectorizer_tfidf = TfidfVectorizer(max_df=0.8, min_df=0.01,lowercase = False)\n",
    "tf_idf_matrix  = vectorizer_tfidf.fit_transform(corpus)\n",
    "feature_names = vectorizer_tfidf.get_feature_names()\n",
    "vectorizer_tf = TfidfVectorizer(vocabulary=feature_names,use_idf=False, norm=\"l1\")\n",
    "#vectorizer_counts = CountVectorizer(vocabulary=feature_names)\n",
    "tf_matrix = vectorizer_tf.fit_transform(corpus)\n",
    "\n",
    "tf_idf_matrix"
   ]
  },
  {
   "cell_type": "code",
   "execution_count": 14,
   "metadata": {},
   "outputs": [
    {
     "data": {
      "text/plain": [
       "19567"
      ]
     },
     "execution_count": 14,
     "metadata": {},
     "output_type": "execute_result"
    }
   ],
   "source": [
    "len(feature_names)"
   ]
  },
  {
   "cell_type": "markdown",
   "metadata": {},
   "source": [
    "#### compute topic model"
   ]
  },
  {
   "cell_type": "code",
   "execution_count": 25,
   "metadata": {},
   "outputs": [
    {
     "name": "stdout",
     "output_type": "stream",
     "text": [
      "Topic 0: CO2 Mieter Vermieter Mieterinnen Heizkostenzuschuss Preis Heizkosten Wohnung Energiepreise Wohngeld\n",
      "Topic 1: Ukraine Russland NATO Krieg Putin Europa Waffen Bundeskanzler Bundeswehr russischen\n",
      "Topic 2: Impfpflicht Impfung Pandemie impfen Omikron Variante Impfungen Impfen Virus geimpft\n",
      "Topic 3: Euro Milliarden Haushalt Bundeswehr Sondervermögen Nachtragshaushalt Schuldenbremse Investitionen Ergänzungshaushalt Schulden\n",
      "Topic 4: Mali Soldaten MINUSMA Soldatinnen Bundeswehr Niger Mandat malischen malische EUTM\n",
      "Topic 5: Energien Klimaschutz erneuerbaren Atomkraftwerke Ausbau Atomkraft Antrag Atomenergie Naturschutz Energiewende\n",
      "Topic 6: Landwirtschaft Landwirte Ernährung Bauern Hunger Lebensmittel Flächen Özdemir Agrarpolitik Betriebe\n",
      "Topic 7: Inflation Progression Antrag Euro EZB Preise Einkommen entlasten Entlastung Tarif\n",
      "Topic 8: Hanau Sicherheitsbehörden Rechtsextremismus Extremismus Islamismus Demokratie Opfer Anschlag Faeser Rassismus\n",
      "Topic 9: Kommunen Ganztagsbetreuung Kinder Schulen Bildung Fristverlängerung Gesetzentwurf Frist Rechtsanspruch Bund\n",
      "Topic 10: schwöre mehren gewissenhaft jedermann Pflichten üben Wohle wenden wahren widmen\n",
      "Topic 11: Wohnungen Bauen Wohnen Vorkaufsrecht Wohnraum Wohnungsbau Kommunen Ministerin bauen Innenstädte\n",
      "Topic 12: Lukaschenko EU Europa Polen Europäische Europäischen Grenze Belarus europäischen Migration\n",
      "Topic 13: Entwicklungspolitik Entwicklungszusammenarbeit Ministerin Hunger Globalen Welt globalen globale Afrika Zusammenarbeit\n",
      "Topic 14: Mandat Libyen Sea Guardian Mittelmeer Operation NATO Mission Bundeswehr Soldaten\n",
      "Topic 15: Unternehmen Kurzarbeitergeld Kurzarbeit Pandemie Wirtschaftsstabilisierungsfonds Verlängerung Gastronomie verlängern Wirtschaft Einzelhandel\n",
      "Topic 16: Ukraine Frauen Registrierung Kinder Geflüchteten Kommunen Schutz Flüchtlinge 2015 ukrainischen\n",
      "Topic 17: 219a Frauen Ärztinnen Schwangerschaftsabbrüche Informationen Ärzte Schwangerschaftsabbruch Werbung Information Ärzten\n",
      "Topic 18: Sanktionen Geldwäsche Sanktionsdurchsetzungsgesetz Oligarchen Antrag Immobilienregister Immobilien Vermögenswerte Taskforce Gesetz\n",
      "Topic 19: Pflege Pflegekräfte Pflegebonus Pflegenden Arbeitsbedingungen Langzeitpflege Beruf Beschäftigten Patienten Anerkennung\n",
      "Topic 20: Mobilität ÖPNV Bahn Schiene Auto Ticket Verkehrspolitik ländlichen Bus Infrastruktur\n",
      "Topic 21: Antidiskriminierungsstelle Leitung Diskriminierung Gesetzentwurf Besetzung Antidiskriminierung Beauftragte Bestenauslese besetzen gewählt\n",
      "Topic 22: SED Opfer Enquete Diktatur DDR Aufarbeitung Kommission Standort Geschichte BKM\n",
      "Topic 23: Gas Gesetz Versorgungssicherheit Winter Gasspeicher Markt Energieversorgung Speicher Gesetzentwurf Energien\n",
      "Topic 24: Südsudan Soldaten Mission Soldatinnen Einsatz humanitäre UN Hilfe Gewalt Nationen\n",
      "Topic 25: EEG Umlage Energien Absenkung Strom erneuerbaren Energiepreise Entlastung Unternehmen null\n",
      "Topic 26: Nachfrage Bundeskanzler Fragesteller Minister Schönen geehrter Möglichkeit Mindestlohn Europäischen Themenkomplex\n",
      "Topic 27: Wahl nehme Bas Bärbel Herzen schlägt gerne Bundestagsfraktion geehrter Geschäftsordnung\n",
      "Topic 28: Behinderung Arbeitsmarkt Behinderungen Antrag Werkstätten Inklusion Werkstatt Budget Ziffer ersten\n",
      "Topic 29: Euro Kinder Rente Rentner Hartz Rentnerinnen IV Rentenversicherung Armut Bürgergeld\n"
     ]
    }
   ],
   "source": [
    "# Use NMF to look for 15 topics\n",
    "n_topics = 30\n",
    "model = NMF(n_components=n_topics)\n",
    "model.fit(tf_idf_matrix)\n",
    "#model.fit(tf_matrix)\n",
    "\n",
    "# Print the top 10 words\n",
    "n_words = 10\n",
    "n_words_features = 100\n",
    "\n",
    "topic_list = []\n",
    "topic_list_ext = []\n",
    "topic_words = []\n",
    "for topic_idx, topic in enumerate(model.components_):\n",
    "    top_n = [feature_names[i]\n",
    "             for i in topic.argsort()\n",
    "             [-n_words:]][::-1]\n",
    "    top_features = ' '.join(top_n)\n",
    "    topic_list.append(f\"topic_{'_'.join(top_n[:3])}\") \n",
    "    topic_list_ext.append(top_features)\n",
    "    \n",
    "    top_n = [feature_names[i]\n",
    "             for i in topic.argsort()\n",
    "             [-n_words_features:]][::-1]\n",
    "    topic_words.append(top_n)\n",
    "\n",
    "    print(f\"Topic {topic_idx}: {top_features}\")\n",
    "    \n",
    "topic2word = model.components_   \n",
    "#topic_words"
   ]
  },
  {
   "cell_type": "code",
   "execution_count": 21,
   "metadata": {},
   "outputs": [
    {
     "data": {
      "text/plain": [
       "['Energien Antrag EEG Gas Umlage erneuerbaren CO2 Inflation Strom Ausbau',\n",
       " 'Ukraine Russland Krieg NATO Europa Putin Waffen Bundeskanzler Sanktionen russischen',\n",
       " 'Impfpflicht Impfung Pandemie impfen Omikron Pflege Impfen Gesetzentwurf Maßnahmen Virus',\n",
       " 'Euro Milliarden Haushalt Kinder Kommunen Pandemie Unternehmen Geld Millionen Familien',\n",
       " 'Mali Mandat Soldaten Bundeswehr Soldatinnen Mission Südsudan Libyen Sea MINUSMA',\n",
       " 'Landwirtschaft Landwirte Hunger Ernährung Bauern Millionen Welt Lebensmittel Flächen Entwicklungspolitik']"
      ]
     },
     "execution_count": 21,
     "metadata": {},
     "output_type": "execute_result"
    }
   ],
   "source": [
    "topic_list_ext"
   ]
  },
  {
   "cell_type": "markdown",
   "metadata": {},
   "source": [
    "#### document topic probabilities"
   ]
  },
  {
   "cell_type": "code",
   "execution_count": 26,
   "metadata": {},
   "outputs": [
    {
     "name": "stdout",
     "output_type": "stream",
     "text": [
      "(208, 19567)\n",
      "(30, 19567)\n",
      "(208, 30)\n"
     ]
    }
   ],
   "source": [
    "print(tf_matrix.shape)\n",
    "print(topic2word.shape)\n",
    "doc2topic = (tf_matrix * topic2word.T)\n",
    "print(doc2topic.shape)"
   ]
  },
  {
   "cell_type": "code",
   "execution_count": 27,
   "metadata": {},
   "outputs": [
    {
     "data": {
      "text/plain": [
       "array([2.21080443e-02, 1.73764765e-02, 3.87534301e-02, 2.28663269e-02,\n",
       "       4.57146326e-02, 5.07408957e-02, 5.70857072e-02, 4.09545875e-02,\n",
       "       2.86454258e-02, 2.33834493e-02, 2.27706129e-04, 1.43798899e-01,\n",
       "       4.50129333e-02, 3.64950248e-03, 1.49798052e-02, 9.52938701e-02,\n",
       "       7.61697411e-02, 5.18954668e-03, 2.27813439e-03, 3.44086318e-02,\n",
       "       7.04798943e-03, 1.25195066e-02, 4.42504468e-02, 2.70296908e-02,\n",
       "       4.01240244e-02, 2.65498161e-02, 1.96234700e-02, 2.27555109e-05,\n",
       "       1.49786534e-03, 1.28267390e-02])"
      ]
     },
     "execution_count": 27,
     "metadata": {},
     "output_type": "execute_result"
    }
   ],
   "source": [
    "topic2word.T[0]"
   ]
  },
  {
   "cell_type": "markdown",
   "metadata": {},
   "source": [
    "#### find max contributions for words and docs"
   ]
  },
  {
   "cell_type": "code",
   "execution_count": 29,
   "metadata": {},
   "outputs": [],
   "source": [
    "feature_topic_num = []\n",
    "feature_topic_name = []\n",
    "for wx,word in enumerate(feature_names):\n",
    "    if topic2word.T[wx].max() > 0:\n",
    "        topic_num = topic2word.T[wx].argmax()\n",
    "        topic_name = topic_list_ext[topic_num]\n",
    "    else:\n",
    "        topic_num = n_topics\n",
    "        topic_name = 'not defined'\n",
    "    \n",
    "    feature_topic_num.append(topic_num)\n",
    "    feature_topic_name.append(topic_name)\n",
    "#feature_topic_num\n",
    "\n",
    "doc_topic_num = []\n",
    "doc_topic_name = []\n",
    "for dx,doc in enumerate(groupedby_discussion):\n",
    "    if doc2topic[dx].max() > 0:\n",
    "        topic_num = doc2topic[dx].argmax()\n",
    "        topic_name = topic_list_ext[topic_num]\n",
    "    else:\n",
    "        topic_num = n_topics\n",
    "        topic_name = 'not defined'\n",
    "    \n",
    "    doc_topic_num.append(topic_num)\n",
    "    doc_topic_name.append(topic_name)\n",
    "    \n",
    "#doc_topic_num    "
   ]
  },
  {
   "cell_type": "markdown",
   "metadata": {},
   "source": [
    "## render graph to HTML"
   ]
  },
  {
   "cell_type": "code",
   "execution_count": 42,
   "metadata": {},
   "outputs": [],
   "source": [
    "def GraphVisualizer(data, properties):\n",
    "     \n",
    "    #ncol, nlabel, darkmode, edgevisibility, particles\n",
    "    \n",
    "    nlabel = properties['nodelabel']\n",
    "    ncol = properties['nodecoloring']\n",
    "    nsize = properties['nodesize']\n",
    "    \n",
    "    # evaluate the boolean arguments\n",
    "    if properties['edgevisibility'] == True:\n",
    "        lv = \"//\"\n",
    "    else:\n",
    "        lv = \"\"\n",
    "    if properties['particles'] == False:\n",
    "        parts = \"//\"\n",
    "    else:\n",
    "        parts = \"\"\n",
    "    if properties['darkmode'] == False:\n",
    "        dm = \"//\"\n",
    "    else:\n",
    "        dm = \"\"\n",
    "    \n",
    "    d3graph = {\"nodes\": [], \"links\": []}\n",
    "    d3graph[\"nodes\"] = data[\"nodes\"]\n",
    "    d3graph[\"links\"] = data[\"links\"]\n",
    "\n",
    "    htmlcode = f\"\"\"<head>\n",
    "        <style> body {{margin: 0;}} </style>\n",
    "        <script src=\"https://unpkg.com/force-graph\"></script>\n",
    "        <meta charset=\"UTF-8\">\n",
    "    </head>\n",
    "    <body>\n",
    "    <div id=\"graph\"></div>\n",
    "    <script>\n",
    "        var data = {d3graph};\n",
    "        const elem = document.getElementById('graph');\n",
    "        const Graph = ForceGraph()(elem)\n",
    "            .graphData(data)\n",
    "            .nodeLabel('{nlabel}')\n",
    "            .nodeRelSize(3)\n",
    "            .nodeVal('nReden')\n",
    "            .nodeAutoColorBy('{ncol}')\n",
    "            {dm}.backgroundColor('#000000')\n",
    "            {dm}.linkColor(() => 'rgba(255,255,255,0.2)')\n",
    "            {lv}.linkVisibility('false')\n",
    "            {parts}.linkDirectionalParticles(2)\n",
    "            {parts}.linkDirectionalParticleWidth(1.4)\n",
    "            .onNodeClick (node => {{window.open(`wordnet.html`, '_blank')}})\n",
    "            //.onNodeHover(node => elem.style.cursor = node ? 'pointer' : null)\n",
    "            .onNodeRightClick(node => {{\n",
    "                // Center/zoom on node\n",
    "                Graph.centerAt(node.x, node.y, 1000);\n",
    "                Graph.zoom(4, 2000);\n",
    "            }});\n",
    "    </script>\n",
    "    </body>\n",
    "    \"\"\"\n",
    "    return {'graph':htmlcode}"
   ]
  },
  {
   "cell_type": "code",
   "execution_count": 43,
   "metadata": {},
   "outputs": [],
   "source": [
    "properties = {\n",
    "        'nodecoloring':'topic', \n",
    "        'nodelabel': 'topicname', \n",
    "        'nodesize': 'nReden',\n",
    "        #'nodelabel': 'mfic',\n",
    "        \"darkmode\": False,\n",
    "        \"edgevisibility\": True,\n",
    "        \"particles\": False\n",
    "       }\n",
    "\n",
    "#htmlgraph = GraphVisualizer(graph,'name','name',True,True,True)\n",
    "htmlgraph = GraphVisualizer(graph,properties)\n",
    "\n",
    "with open (f\"./semanticnetworkTOPs.html\", \"w\") as f:\n",
    "    f.write(htmlgraph['graph'])"
   ]
  },
  {
   "cell_type": "markdown",
   "metadata": {},
   "source": [
    "### 1.3 Network of Topics"
   ]
  },
  {
   "cell_type": "code",
   "execution_count": 35,
   "metadata": {},
   "outputs": [],
   "source": [
    "from sklearn.preprocessing import normalize\n"
   ]
  },
  {
   "cell_type": "code",
   "execution_count": 36,
   "metadata": {},
   "outputs": [
    {
     "name": "stdout",
     "output_type": "stream",
     "text": [
      "(208, 19567)\n",
      "(30, 19567)\n",
      "(208, 30)\n",
      "(30, 19567)\n"
     ]
    }
   ],
   "source": [
    "print(tf_idf_matrix.shape)\n",
    "print(model.components_.shape)\n",
    "#doc2topic = (tf_matrix * model.components_.T)\n",
    "print(doc2topic.shape)\n",
    "\n",
    "#base_matrix = normalize(doc2topic, axis=0, norm='l1')\n",
    "base_matrix = normalize(model.components_, axis=1, norm='l1')\n",
    "print(base_matrix.shape)"
   ]
  },
  {
   "cell_type": "code",
   "execution_count": 37,
   "metadata": {},
   "outputs": [
    {
     "name": "stdout",
     "output_type": "stream",
     "text": [
      "[0.00023267 0.         0.00026153 ... 0.         0.00041947 0.        ]\n"
     ]
    }
   ],
   "source": [
    "print(base_matrix[0])"
   ]
  },
  {
   "cell_type": "code",
   "execution_count": 38,
   "metadata": {},
   "outputs": [
    {
     "name": "stdout",
     "output_type": "stream",
     "text": [
      "(30, 30)\n"
     ]
    },
    {
     "data": {
      "image/png": "[encoded data removed]",
      "text/plain": [
       "<Figure size 345.6x345.6 with 1 Axes>"
      ]
     },
     "metadata": {
      "needs_background": "light"
     },
     "output_type": "display_data"
    }
   ],
   "source": [
    "#topic2topic = base_matrix.T.dot(base_matrix)\n",
    "\n",
    "from sklearn.metrics.pairwise import cosine_similarity\n",
    "topic2topic = cosine_similarity(base_matrix)\n",
    "\n",
    "print(topic2topic.shape)\n",
    "#print(topic2topic)\n",
    "plt.matshow(topic2topic)\n",
    "#plt.colorbar()\n",
    "plt.show()"
   ]
  },
  {
   "cell_type": "code",
   "execution_count": 39,
   "metadata": {},
   "outputs": [
    {
     "data": {
      "text/plain": [
       "{'id': 1,\n",
       " 'topicname': 'CO2 Mieter Vermieter Mieterinnen Heizkostenzuschuss Preis Heizkosten Wohnung Energiepreise Wohngeld'}"
      ]
     },
     "execution_count": 39,
     "metadata": {},
     "output_type": "execute_result"
    }
   ],
   "source": [
    "nodes = []\n",
    "count = 1\n",
    "for tx,top in enumerate(topic2topic):\n",
    "    node_dict = {\n",
    "        'id' : count,\n",
    "        'topicname' : topic_list_ext[tx]\n",
    "    }\n",
    "    nodes.append(node_dict)\n",
    "    count += 1\n",
    "\n",
    "\n",
    "graph = {\n",
    "    'directed': False,\n",
    "    'graph': 'semant_graph',\n",
    "    'links': [],\n",
    "    'nodes': nodes,\n",
    "}\n",
    "\n",
    "for ix,nodeI in enumerate(graph['nodes']):\n",
    "    for jx,nodeJ in enumerate(graph['nodes']):\n",
    "        if ix < jx:\n",
    "            source = nodeI['id']\n",
    "            target = nodeJ['id']\n",
    "            weight = topic2topic[ix,jx]\n",
    "            if weight > 0.15:\n",
    "                link_dict = {\n",
    "                    'source':source,\n",
    "                    'target':target,\n",
    "                    'weight':weight       \n",
    "                }\n",
    "                graph['links'].append(link_dict)\n",
    "\n",
    "graph['nodes'][0]"
   ]
  },
  {
   "cell_type": "code",
   "execution_count": 40,
   "metadata": {},
   "outputs": [
    {
     "name": "stdout",
     "output_type": "stream",
     "text": [
      "This graph has 30 nodes and 156 links.\n"
     ]
    },
    {
     "data": {
      "image/png": "[encoded data removed]",
      "text/plain": [
       "<Figure size 432x288 with 1 Axes>"
      ]
     },
     "metadata": {
      "needs_background": "light"
     },
     "output_type": "display_data"
    }
   ],
   "source": [
    "nn = len(graph['nodes'])\n",
    "ne = len(graph['links'])\n",
    "print( f\"This graph has {nn} nodes and {ne} links.\")\n",
    "\n",
    "weights=[]\n",
    "for link in graph['links']:\n",
    "    weights.append(link['weight'])\n",
    "#print(sum(weights))\n",
    "\n",
    "plt.hist(weights, bins=25)\n",
    "plt.title(\"Distribution of Weights\")\n",
    "plt.xlabel(\"Wert\")\n",
    "plt.ylabel(\"Häufigkeit\")\n",
    "plt.show()"
   ]
  },
  {
   "cell_type": "code",
   "execution_count": 45,
   "metadata": {},
   "outputs": [],
   "source": [
    "properties = {\n",
    "        'nodecoloring':'topicname', \n",
    "        'nodelabel': 'topicname', \n",
    "        'nodesize': 'nReden',\n",
    "        #'nodelabel': 'mfic',\n",
    "        \"darkmode\": False,\n",
    "        \"edgevisibility\": True,\n",
    "        \"particles\": False\n",
    "       }\n",
    "\n",
    "#htmlgraph = GraphVisualizer(graph,'name','name',True,True,True)\n",
    "htmlgraph = GraphVisualizer(graph,properties)\n",
    "\n",
    "with open (f\"./semnetTopics.html\", \"w\") as f:\n",
    "    f.write(htmlgraph['graph'])"
   ]
  },
  {
   "cell_type": "markdown",
   "metadata": {},
   "source": [
    "### 1.3 Temporal Evolution"
   ]
  },
  {
   "cell_type": "code",
   "execution_count": 30,
   "metadata": {},
   "outputs": [
    {
     "data": {
      "text/plain": [
       "34"
      ]
     },
     "execution_count": 30,
     "metadata": {},
     "output_type": "execute_result"
    }
   ],
   "source": [
    "def groupSpeechesByDate(speeches):\n",
    "    groupedSpeeches = {}\n",
    "    speeches.sort(key = lambda x:x['date'])\n",
    "    for speech in speeches:\n",
    "        top = speech['date']\n",
    "        if top in groupedSpeeches:\n",
    "            groupedSpeeches[top].append(speech)\n",
    "        else:\n",
    "            groupedSpeeches[top] = [speech]\n",
    "    \n",
    "    return groupedSpeeches\n",
    "\n",
    "\n",
    "groupedby_date = groupSpeechesByDate(speeches)\n",
    "len(groupedby_date)\n",
    "\n",
    "\n",
    "#groupedby_date['2022-04-27']"
   ]
  },
  {
   "cell_type": "code",
   "execution_count": 51,
   "metadata": {},
   "outputs": [
    {
     "data": {
      "text/plain": [
       "dict_keys(['2021-10-26', '2021-11-11', '2021-11-18', '2021-12-07', '2021-12-08', '2021-12-09', '2021-12-10', '2021-12-15', '2021-12-16', '2022-01-12', '2022-01-13', '2022-01-14', '2022-01-26', '2022-01-27', '2022-02-16', '2022-02-17', '2022-02-18', '2022-02-27', '2022-03-16', '2022-03-17', '2022-03-18', '2022-03-22', '2022-03-23', '2022-03-24', '2022-03-25', '2022-04-06', '2022-04-07', '2022-04-08', '2022-04-27', '2022-04-28', '2022-04-29', '2022-05-11', '2022-05-12', '2022-05-13'])"
      ]
     },
     "execution_count": 51,
     "metadata": {},
     "output_type": "execute_result"
    }
   ],
   "source": [
    "groupedby_date.keys()"
   ]
  },
  {
   "cell_type": "code",
   "execution_count": 31,
   "metadata": {},
   "outputs": [
    {
     "data": {
      "text/plain": [
       "34"
      ]
     },
     "execution_count": 31,
     "metadata": {},
     "output_type": "execute_result"
    }
   ],
   "source": [
    "corpus_by_date = []\n",
    "for docs in groupedby_date.values():\n",
    "    #print(grouped[top])\n",
    "    aggregate= []\n",
    "    for ele in docs:\n",
    "        aggregate.append(ele['text'])\n",
    "    corpus_by_date.append(' '.join(aggregate))\n",
    "\n",
    "len(corpus_by_date) \n",
    "#corpus_by_date[0]"
   ]
  },
  {
   "cell_type": "code",
   "execution_count": 32,
   "metadata": {},
   "outputs": [],
   "source": [
    "consider = set([x for xs in topic_words for x in xs])\n",
    "#consider"
   ]
  },
  {
   "cell_type": "code",
   "execution_count": 33,
   "metadata": {},
   "outputs": [
    {
     "name": "stderr",
     "output_type": "stream",
     "text": [
      "  0%|                                                                                           | 0/34 [00:00<?, ?it/s]\n"
     ]
    },
    {
     "ename": "NameError",
     "evalue": "name 'nlp' is not defined",
     "output_type": "error",
     "traceback": [
      "\u001b[1;31m---------------------------------------------------------------------------\u001b[0m",
      "\u001b[1;31mNameError\u001b[0m                                 Traceback (most recent call last)",
      "Input \u001b[1;32mIn [33]\u001b[0m, in \u001b[0;36m<cell line: 16>\u001b[1;34m()\u001b[0m\n\u001b[0;32m     13\u001b[0m         corpus_by\u001b[38;5;241m.\u001b[39mappend(\u001b[38;5;124m'\u001b[39m\u001b[38;5;124m \u001b[39m\u001b[38;5;124m'\u001b[39m\u001b[38;5;241m.\u001b[39mjoin(new_row))\n\u001b[0;32m     14\u001b[0m     \u001b[38;5;28;01mreturn\u001b[39;00m corpus_by \n\u001b[1;32m---> 16\u001b[0m corpus_by_date_features \u001b[38;5;241m=\u001b[39m \u001b[43mcorpus_by_Features\u001b[49m\u001b[43m(\u001b[49m\u001b[43mcorpus_by_date\u001b[49m\u001b[43m,\u001b[49m\u001b[43mconsider\u001b[49m\u001b[43m)\u001b[49m        \n\u001b[0;32m     17\u001b[0m \u001b[38;5;28mlen\u001b[39m(corpus_by_date_features)\n",
      "Input \u001b[1;32mIn [33]\u001b[0m, in \u001b[0;36mcorpus_by_Features\u001b[1;34m(corpus, consider)\u001b[0m\n\u001b[0;32m      6\u001b[0m corpus_by \u001b[38;5;241m=\u001b[39m []  \n\u001b[0;32m      7\u001b[0m \u001b[38;5;28;01mfor\u001b[39;00m row \u001b[38;5;129;01min\u001b[39;00m tqdm\u001b[38;5;241m.\u001b[39mtqdm(corpus):\n\u001b[1;32m----> 8\u001b[0m     doc \u001b[38;5;241m=\u001b[39m \u001b[43mnlp\u001b[49m(row)\n\u001b[0;32m      9\u001b[0m     new_row \u001b[38;5;241m=\u001b[39m []\n\u001b[0;32m     10\u001b[0m     \u001b[38;5;28;01mfor\u001b[39;00m token \u001b[38;5;129;01min\u001b[39;00m doc:\n",
      "\u001b[1;31mNameError\u001b[0m: name 'nlp' is not defined"
     ]
    }
   ],
   "source": [
    "\n",
    "#consider = feature_names\n",
    "\n",
    "consider = set([x for xs in topic_words for x in xs])\n",
    "\n",
    "def corpus_by_Features(corpus,consider):\n",
    "    corpus_by = []  \n",
    "    for row in tqdm.tqdm(corpus):\n",
    "        doc = nlp(row)\n",
    "        new_row = []\n",
    "        for token in doc:\n",
    "            if token.lemma_ in consider:\n",
    "                new_row.append(token.lemma_)\n",
    "        corpus_by.append(' '.join(new_row))\n",
    "    return corpus_by \n",
    "     \n",
    "corpus_by_date_features = corpus_by_Features(corpus_by_date,consider)        \n",
    "len(corpus_by_date_features)"
   ]
  },
  {
   "cell_type": "code",
   "execution_count": 134,
   "metadata": {},
   "outputs": [
    {
     "data": {
      "text/plain": [
       "996"
      ]
     },
     "execution_count": 134,
     "metadata": {},
     "output_type": "execute_result"
    }
   ],
   "source": [
    "#corpus_by_date_features[1]\n",
    "feature_names.index('und')\n",
    "#topic_words\n",
    "len(consider)"
   ]
  },
  {
   "cell_type": "code",
   "execution_count": 119,
   "metadata": {},
   "outputs": [
    {
     "name": "stdout",
     "output_type": "stream",
     "text": [
      "(34, 7520)\n",
      "(15, 7520)\n",
      "(34, 15)\n",
      "[1. 1. 1. 1. 0. 1. 1. 1. 1. 1. 1. 1. 1. 1. 1. 1. 1. 1. 1. 1. 1. 1. 1. 1.\n",
      " 1. 1. 1. 1. 1. 1. 1. 1. 1. 1.]\n"
     ]
    }
   ],
   "source": [
    "evo_vectorizer_tf = TfidfVectorizer(vocabulary=feature_names,use_idf=False, norm=\"l1\")\n",
    "#vectorizer_counts = CountVectorizer(vocabulary=feature_names)\n",
    "evo_tf_matrix = evo_vectorizer_tf.fit_transform(corpus_by_date_features)\n",
    "print(evo_tf_matrix.shape)\n",
    "print(topic2word.shape)\n",
    "\n",
    "topic2word_norm = normalize(topic2word, norm='l1', axis=0, copy=True, return_norm=False)\n",
    "\n",
    "time2topic = evo_tf_matrix.dot(topic2word_norm.T)\n",
    "print(time2topic.shape)\n",
    "print(time2topic.sum(axis=1))"
   ]
  },
  {
   "cell_type": "code",
   "execution_count": 133,
   "metadata": {},
   "outputs": [
    {
     "name": "stderr",
     "output_type": "stream",
     "text": [
      "No handles with labels found to put in legend.\n"
     ]
    },
    {
     "data": {
      "image/png": "[encoded data removed]",
      "text/plain": [
       "<Figure size 720x360 with 1 Axes>"
      ]
     },
     "metadata": {
      "needs_background": "light"
     },
     "output_type": "display_data"
    }
   ],
   "source": [
    "plt.figure(figsize=(10, 5))\n",
    "#plt.plot(groupedby_date.keys(),time2topic,label = topic_list)\n",
    "plt.stackplot(groupedby_date.keys(),time2topic.T)\n",
    "\n",
    "plt.xticks(rotation=65, ha='right')\n",
    "#plt.legend(loc=\"upper left\")\n",
    "plt.legend(bbox_to_anchor=(1.01, 1.01))\n",
    "#locs, labels = xticks()\n",
    "#xticks(locs,)\n",
    "plt.show()"
   ]
  },
  {
   "cell_type": "code",
   "execution_count": null,
   "metadata": {},
   "outputs": [],
   "source": []
  }
 ],
 "metadata": {
  "kernelspec": {
   "display_name": "Python 3 (ipykernel)",
   "language": "python",
   "name": "python3"
  },
  "language_info": {
   "codemirror_mode": {
    "name": "ipython",
    "version": 3
   },
   "file_extension": ".py",
   "mimetype": "text/x-python",
   "name": "python",
   "nbconvert_exporter": "python",
   "pygments_lexer": "ipython3",
   "version": "3.10.4"
  }
 },
 "nbformat": 4,
 "nbformat_minor": 4
}
