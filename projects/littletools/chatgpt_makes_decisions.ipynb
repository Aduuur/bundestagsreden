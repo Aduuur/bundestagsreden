{
 "cells": [
  {
   "cell_type": "code",
   "execution_count": 1,
   "outputs": [],
   "source": [
    "import os\n",
    "import openai\n",
    "# Diese beiden Codes sind individuell und müssen selbst von der Website von openai besorgt werden. Leider kostet die Anwendung dieses Notebooks ein wenig Geld. Aber wirklich nicht viel!\n",
    "openai.organization = \"org-Fdxeuqkbxtds3P3phP6QCXpq\"\n",
    "openai.api_key = \"INSERT OWN API KEY\"\n",
    "completion = openai.ChatCompletion()"
   ],
   "metadata": {
    "collapsed": false,
    "ExecuteTime": {
     "start_time": "2023-06-20T12:49:06.447431Z",
     "end_time": "2023-06-20T12:49:07.152302Z"
    }
   }
  },
  {
   "cell_type": "code",
   "execution_count": 4,
   "outputs": [],
   "source": [
    "# Diese Funktion erlaubt es anfragen an ChatGPT zu senden und dabei die bisherigen gestellten Fragen zu berücksichtigen\n",
    "def askgpt(question, chat_log=None):\n",
    "\n",
    "    # Speichert die bisher gegebenen antworten und fragen in einer Liste\n",
    "    if chat_log is None:\n",
    "        chat_log = [{\n",
    "            'role': 'system',\n",
    "            'content': 'You are a helpful, upbeat and funny assistant.',\n",
    "        }]\n",
    "    chat_log.append({'role': 'user', 'content': question})\n",
    "    response = completion.create(model='gpt-3.5-turbo', messages=chat_log)\n",
    "    answer = response.choices[0]['message']['content']\n",
    "    chat_log.append({'role': 'assistant', 'content': answer})\n",
    "    return answer, chat_log"
   ],
   "metadata": {
    "collapsed": false,
    "ExecuteTime": {
     "start_time": "2023-06-20T12:55:02.662953Z",
     "end_time": "2023-06-20T12:55:02.690517Z"
    }
   }
  },
  {
   "cell_type": "code",
   "execution_count": 19,
   "outputs": [],
   "source": [
    "answer, log = askgpt('Verstehst du Anfragen in Deutsch?')"
   ],
   "metadata": {
    "collapsed": false,
    "ExecuteTime": {
     "start_time": "2023-06-20T13:02:47.447711Z",
     "end_time": "2023-06-20T13:02:48.934908Z"
    }
   }
  },
  {
   "cell_type": "code",
   "execution_count": 20,
   "outputs": [
    {
     "data": {
      "text/plain": "'Ja, ich verstehe Anfragen auf Deutsch und kann auf Deutsch antworten. Wie kann ich dir behilflich sein?'"
     },
     "execution_count": 20,
     "metadata": {},
     "output_type": "execute_result"
    }
   ],
   "source": [
    "answer"
   ],
   "metadata": {
    "collapsed": false,
    "ExecuteTime": {
     "start_time": "2023-06-20T13:02:54.263245Z",
     "end_time": "2023-06-20T13:02:54.307978Z"
    }
   }
  },
  {
   "cell_type": "code",
   "execution_count": 9,
   "outputs": [
    {
     "name": "stdout",
     "output_type": "stream",
     "text": [
      "Die Liste enthält 10791 Reden\n",
      "\n",
      "\n"
     ]
    }
   ],
   "source": [
    "# importiert die Bundestagsreden, damit diese in Fragen an Chat-GPT benutzt werden können\n",
    "\n",
    "import jsonlines\n",
    "\n",
    "# Hier legen wir fest, welche Daten (Wahlperiode 19 oder 20) wir laden:\n",
    "legislatur = 20\n",
    "\n",
    "# Wir generieren eine leere Liste:\n",
    "alleReden = []\n",
    "\n",
    "# Wir öffnen den entsprechende File (Dateipfad anpassen!):\n",
    "with jsonlines.open(f'../../data/speeches_{legislatur}.jsonl') as f:\n",
    "    for line in f.iter():\n",
    "        # Wir packen alles Zeile für Zeile zu unserer Liste:\n",
    "        alleReden.append(line)\n",
    "\n",
    "# Wir sortieren nach Datum:\n",
    "alleReden.sort(key=lambda x: x['date'])\n",
    "\n",
    "# Wir lassen uns zeigen, wie viele Reden enthalten sind.\n",
    "print(f'Die Liste enthält {len(alleReden)} Reden')\n",
    "# Neue Zeile auf der Konsole:\n",
    "print(f'\\n')"
   ],
   "metadata": {
    "collapsed": false,
    "ExecuteTime": {
     "start_time": "2023-06-20T12:59:04.361833Z",
     "end_time": "2023-06-20T12:59:06.121419Z"
    }
   }
  },
  {
   "cell_type": "code",
   "execution_count": 16,
   "outputs": [],
   "source": [
    "# Speichert nur die reden, die Karl Lauterbach gehalten hat\n",
    "reden_lauterbach = []\n",
    "for rede in alleReden:\n",
    "    if rede['name']== \"Karl Lauterbach\":\n",
    "        reden_lauterbach.append(rede)"
   ],
   "metadata": {
    "collapsed": false,
    "ExecuteTime": {
     "start_time": "2023-06-20T13:01:37.868082Z",
     "end_time": "2023-06-20T13:01:37.885119Z"
    }
   }
  },
  {
   "cell_type": "code",
   "execution_count": 27,
   "outputs": [],
   "source": [
    "# Damit die Anfragen nicht die zulässige Rede überschreiten lassen wir ChatGPT die Reden auf circa 5 Sätze zusammenfassen\n",
    "\n",
    "inhalt_reden = []\n",
    "\n",
    "for rede in range(5):\n",
    "    req = f\"Fasse den Inhalt der folgenden Rede kurz und knapp auf Deutsch zusammen und benutze circa 5 Sätze: {reden_lauterbach[rede+1]}\"\n",
    "    answer, log = askgpt(req)\n",
    "    inhalt_reden.append(answer)\n",
    "\n"
   ],
   "metadata": {
    "collapsed": false,
    "ExecuteTime": {
     "start_time": "2023-06-20T13:10:11.555072Z",
     "end_time": "2023-06-20T13:10:52.605422Z"
    }
   }
  },
  {
   "cell_type": "code",
   "execution_count": 28,
   "outputs": [
    {
     "data": {
      "text/plain": "['Karl Lauterbach hat im Deutschen Bundestag darüber gesprochen, dass die neue Bundesregierung alles tun wird, um die Gesundheitskrise so schnell wie möglich zu beenden und den Schutz der Bevölkerung zu gewährleisten. Es wird daran gearbeitet, die Delta-Welle nachhaltig zu brechen und die drohende Omikron-Welle zu verhindern. Dazu wird das Infektionsschutzgesetz verbessert und den Ländern alle notwendigen Instrumente zur Kontrolle des Infektionsgeschehens gegeben. Es soll auch eine einrichtungsbezogene Impfpflicht geben. Lauterbach betonte, dass alle zusammenarbeiten müssen, um diesen Zielen näher zu kommen.',\n 'Karl Lauterbach spricht als Teil einer Debatte im deutschen Parlament über die andauernde COVID-19-Pandemie. Er betont, dass das kommende Jahr entscheidend sein könnte, um das Virus zu einer endemischen Krankheit zu machen, die weniger tödlich und weniger bedrohlich ist. Die Regierung ergreift alle notwendigen Maßnahmen, um dies zu erreichen und den Erfolg im Umgang mit der Omikron-Variante fortzusetzen. Lauterbach appelliert an Ungeimpfte, zumindest die erste Impfung zu erhalten, um ihr Leben zu schützen und das Gesundheitssystem zu entlasten. Er betont auch die Wichtigkeit von Booster-Impfungen und vertritt die Ansicht, dass eine Impfpflicht medizinisch notwendig und moralisch vertretbar ist, um die Pandemie zu beenden.',\n 'Karl Lauterbach spricht vor dem Bundestag und bedankt sich für eine gute Debatte. Er betont, dass sein Haus logistische, rechtliche und medizinische Hilfe für alle Anträge bietet, auch wenn er manche nicht persönlich unterstützt. Lauterbach spricht über die Omikron-Variante, die auch Geimpfte treffen kann, und warnt vor der Gefährdung ungeschützter Menschen. Er betont, dass es wahrscheinlich weitere Varianten des Virus geben wird, die noch gefährlicher sein könnten. Lauterbach fordert eine Impfpflicht, um eine solche Situation im Herbst zu vermeiden. Er argumentiert, dass die Impfpflicht uns unsere Freiheit zurückgeben wird.',\n 'In seiner Rede betonte Karl Lauterbach, dass man sich auf eine weitere Welle vorbereiten müsse, da es fünf mögliche Szenarien für den Herbst gibt, darunter eine Omikron-Welle und eine erneute Delta-Variantenwelle in Afrika. Es sei sehr wahrscheinlich, dass eine dieser Varianten kommen werde, und somit sei es wichtig, sich darauf vorzubereiten. Lauterbach forderte eine Gewissensentscheidung zu einer Impfpflicht für alle ab 18 Jahren, um eine Impfquote zu erreichen, die die Ausbreitung der Pandemie verhindern könne. Die Ungeimpften würden derzeit die Verantwortung für das Ausbreiten der Pandemie tragen. Es sei auch wichtig zu reflektieren, welche Fehler in der Politik gemacht wurden, aber man müsse auch nach vorne blicken und diese Gelegenheit nutzen, um die Pandemie zu beenden.',\n 'Karl Lauterbach spricht als Abgeordneter im deutschen Bundestag über die Notwendigkeit weiterer Schutzmaßnahmen zur Bekämpfung der Pandemie und betont, dass die allgemeine Impfpflicht der einzige sichere Weg aus der Pandemie heraus ist. Er bedauert, dass es in Deutschland im Vergleich zu anderen Ländern viele Ungeimpfte gibt und dass dies zu einer hohen Zahl von Fällen und Todesfällen führt. Lauterbach argumentiert, dass wir nicht nur die Freiheit der Ungeimpften schützen können und dass die geplanten Schutzmaßnahmen notwendig sind, um die Überlastung der Kliniken zu vermeiden. Er ruft die Abgeordneten dazu auf, den Gesetzentwurf zu unterstützen und betont, dass die Regelungen jederzeit angepasst werden können, um auf Veränderungen in der Lage zu reagieren.']"
     },
     "execution_count": 28,
     "metadata": {},
     "output_type": "execute_result"
    }
   ],
   "source": [
    "# Das Ergebnis können wir uns dann ausgeben lassen\n",
    "inhalt_reden"
   ],
   "metadata": {
    "collapsed": false,
    "ExecuteTime": {
     "start_time": "2023-06-20T13:10:52.609927Z",
     "end_time": "2023-06-20T13:10:52.625473Z"
    }
   }
  },
  {
   "cell_type": "code",
   "execution_count": 29,
   "outputs": [],
   "source": [
    "# Hier erstellen wir die eigentliche Anfrage\n",
    "req_final = f\"Erstelle ein semantisches Netzwerk aus den folgenden Zusammenfassungen von Karl Lauterbach. Die Knoten sollen je eine Zusammenfassung sein, und je ähnlicher sich zwei Zusammenfassungen inhaltlich sind, desto höher ist das Gewicht der Kante zwischen den beiden Reden. Gebe das entstehende Netzwerk mit einer Distanzmatrix zurück. Die Reden sind folgende: {str(inhalt_reden)}\""
   ],
   "metadata": {
    "collapsed": false,
    "ExecuteTime": {
     "start_time": "2023-06-20T13:11:28.966572Z",
     "end_time": "2023-06-20T13:11:28.986521Z"
    }
   }
  },
  {
   "cell_type": "code",
   "execution_count": 30,
   "outputs": [],
   "source": [
    "answer, log = askgpt(req_final)"
   ],
   "metadata": {
    "collapsed": false,
    "ExecuteTime": {
     "start_time": "2023-06-20T13:11:42.709908Z",
     "end_time": "2023-06-20T13:11:44.831940Z"
    }
   }
  },
  {
   "cell_type": "code",
   "execution_count": 32,
   "outputs": [],
   "source": [
    "answer, log = askgpt(\"In Pyhton.\", log)"
   ],
   "metadata": {
    "collapsed": false,
    "ExecuteTime": {
     "start_time": "2023-06-20T13:12:16.057635Z",
     "end_time": "2023-06-20T13:13:38.341617Z"
    }
   }
  },
  {
   "cell_type": "code",
   "execution_count": 33,
   "outputs": [
    {
     "data": {
      "text/plain": "\"Klar, dafür nutzen wir das Natural Language Toolkit (NLTK) und scikit-learn. Zunächst müssen wir die benötigten Bibliotheken importieren und die Zusammenfassungen der Reden definieren:\\n\\n```\\nimport nltk\\nfrom sklearn.feature_extraction.text import TfidfVectorizer\\nfrom sklearn.metrics.pairwise import cosine_similarity\\n\\nnltk.download('punkt')\\n\\n# Zusammenfassungen definieren\\nspeeches = [\\n    'Karl Lauterbach hat im Deutschen Bundestag darüber gesprochen, dass die neue Bundesregierung alles tun wird, um die Gesundheitskrise so schnell wie möglich zu beenden und den Schutz der Bevölkerung zu gewährleisten. Es wird daran gearbeitet, die Delta-Welle nachhaltig zu brechen und die drohende Omikron-Welle zu verhindern. Dazu wird das Infektionsschutzgesetz verbessert und den Ländern alle notwendigen Instrumente zur Kontrolle des Infektionsgeschehens gegeben. Es soll auch eine einrichtungsbezogene Impfpflicht geben. Lauterbach betonte, dass alle zusammenarbeiten müssen, um diesen Zielen näher zu kommen.',\\n    'Karl Lauterbach spricht als Teil einer Debatte im deutschen Parlament über die andauernde COVID-19-Pandemie. Er betont, dass das kommende Jahr entscheidend sein könnte, um das Virus zu einer endemischen Krankheit zu machen, die weniger tödlich und weniger bedrohlich ist. Die Regierung ergreift alle notwendigen Maßnahmen, um dies zu erreichen und den Erfolg im Umgang mit der Omikron-Variante fortzusetzen. Lauterbach appelliert an Ungeimpfte, zumindest die erste Impfung zu erhalten, um ihr Leben zu schützen und das Gesundheitssystem zu entlasten. Er betont auch die Wichtigkeit von Booster-Impfungen und vertritt die Ansicht, dass eine Impfpflicht medizinisch notwendig und moralisch vertretbar ist, um die Pandemie zu beenden.',\\n    'Karl Lauterbach spricht vor dem Bundestag und bedankt sich für eine gute Debatte. Er betont, dass sein Haus logistische, rechtliche und medizinische Hilfe für alle Anträge bietet, auch wenn er manche nicht persönlich unterstützt. Lauterbach spricht über die Omikron-Variante, die auch Geimpfte treffen kann, und warnt vor der Gefährdung ungeschützter Menschen. Er betont, dass es wahrscheinlich weitere Varianten des Virus geben wird, die noch gefährlicher sein könnten. Lauterbach fordert eine Impfpflicht, um eine solche Situation im Herbst zu vermeiden. Er argumentiert, dass die Impfpflicht uns unsere Freiheit zurückgeben wird.',\\n    'In seiner Rede betonte Karl Lauterbach, dass man sich auf eine weitere Welle vorbereiten müsse, da es fünf mögliche Szenarien für den Herbst gibt, darunter eine Omikron-Welle und eine erneute Delta-Variantenwelle in Afrika. Es sei sehr wahrscheinlich, dass eine dieser Varianten kommen werde, und somit sei es wichtig, sich darauf vorzubereiten. Lauterbach forderte eine Gewissensentscheidung zu einer Impfpflicht für alle ab 18 Jahren, um eine Impfquote zu erreichen, die die Ausbreitung der Pandemie verhindern könne. Die Ungeimpften würden derzeit die Verantwortung für das Ausbreiten der Pandemie tragen. Es sei auch wichtig zu reflektieren, welche Fehler in der Politik gemacht wurden, aber man müsse auch nach vorne blicken und diese Gelegenheit nutzen, um die Pandemie zu beenden.',\\n    'Karl Lauterbach spricht als Abgeordneter im deutschen Bundestag über die Notwendigkeit weiterer Schutzmaßnahmen zur Bekämpfung der Pandemie und betont, dass die allgemeine Impfpflicht der einzige sichere Weg aus der Pandemie heraus ist. Er bedauert, dass es in Deutschland im Vergleich zu anderen Ländern viele Ungeimpfte gibt und dass dies zu einer hohen Zahl von Fällen und Todesfällen führt. Lauterbach argumentiert, dass wir nicht nur die Freiheit der Ungeimpften schützen können und dass die geplanten Schutzmaßnahmen notwendig sind, um die Überlastung der Kliniken zu vermeiden. Er ruft die Abgeordneten dazu auf, den Gesetzentwurf zu unterstützen und betont, dass die Regelungen jederzeit angepasst werden können, um auf Veränderungen in der Lage zu reagieren.'\\n]\\n```\\n\\nAls nächstes müssen wir den Text für jede Rede vorverarbeiten, um ihn in ein Format zu bringen, das wir für die Berechnung der Ähnlichkeiten verwenden können. Hier verwenden wir die TF-IDF-Methode, um eine Matrix der Termfrequenzen aufzustellen und die wichtigsten Worte jeder Rede zu identifizieren:\\n\\n```\\n# Vorverarbeitung des Texts\\nvectorizer = TfidfVectorizer()\\nvectors = vectorizer.fit_transform(speeches)\\n\\n# Berechnung der Ähnlichkeiten\\nsimilarities = cosine_similarity(vectors)\\n```\\n\\nSchließlich können wir die Distanzmatrix der Reden berechnen, indem wir die Ähnlichkeiten invers negieren und zur Einheit addieren:\\n\\n```\\n# Distanzmatrix berechnen\\ndistances = 1 - similarities\\n```\\n\\nJetzt können wir die Distanzmatrix ausgeben:\\n\\n```\\nprint(distances)\\n```\\n\\nDie Ausgabe ist eine 5x5-Matrix, wobei die Einträge auf der Hauptdiagonalen Nullen sind, da jede Rede zu sich selbst eine Distanz von Null hat. Die restlichen Einträge zeigen die distanzbasierte Ähnlichkeit zwischen den Reden.\\n\\n```\\n[[0.         0.2559473  0.36980436 0.40082381 0.40722843]\\n [0.2559473  0.         0.29272087 0.38864452 0.25023498]\\n [0.36980436 0.29272087 0.         0.3431317  0.51027725]\\n [0.40082381 0.38864452 0.3431317  0.         0.37982468]\\n [0.40722843 0.25023498 0.51027725 0.37982468 0.        ]]\\n``` \\n\\nJe niedriger die Zahl in der Matrix, desto mehr Gemeinsamkeiten gibt es zwischen den beiden Reden, wobei die Null auf der Hauptdiagonalen zeigt, dass es am meisten Gemeinsamkeiten hat.\""
     },
     "execution_count": 33,
     "metadata": {},
     "output_type": "execute_result"
    }
   ],
   "source": [
    "answer"
   ],
   "metadata": {
    "collapsed": false,
    "ExecuteTime": {
     "start_time": "2023-06-20T13:13:38.344639Z",
     "end_time": "2023-06-20T13:13:38.356220Z"
    }
   }
  },
  {
   "cell_type": "code",
   "execution_count": 37,
   "outputs": [],
   "source": [
    "import numpy as np\n",
    "# Dies ist die resultierende Distanzmatrix, welche einen Graphen definiert, denn wir uns gleich graphisch anschauen werden\n",
    "d = np.array([[0.0, 0.2559473, 0.36980436, 0.40082381, 0.40722843],\n",
    "    [0.2559473, 0.0, 0.29272087, 0.38864452, 0.25023498],\n",
    "    [0.36980436, 0.29272087, 0.0, 0.3431317, 0.51027725],\n",
    "    [0.40082381, 0.38864452, 0.3431317, 0.0, 0.37982468],\n",
    "    [0.40722843, 0.25023498, 0.51027725, 0.37982468, 0.0]])"
   ],
   "metadata": {
    "collapsed": false,
    "ExecuteTime": {
     "start_time": "2023-06-20T13:17:11.062657Z",
     "end_time": "2023-06-20T13:17:11.070216Z"
    }
   }
  },
  {
   "cell_type": "code",
   "execution_count": null,
   "outputs": [],
   "source": [],
   "metadata": {
    "collapsed": false
   }
  },
  {
   "cell_type": "code",
   "execution_count": 38,
   "outputs": [],
   "source": [
    "import networkx as nx"
   ],
   "metadata": {
    "collapsed": false,
    "ExecuteTime": {
     "start_time": "2023-06-20T13:17:13.742012Z",
     "end_time": "2023-06-20T13:17:13.769096Z"
    }
   }
  },
  {
   "cell_type": "code",
   "execution_count": 40,
   "outputs": [],
   "source": [
    "# Hier wird die Distanzmatrix in einen Graphen überführt\n",
    "G = nx.from_numpy_matrix(d)"
   ],
   "metadata": {
    "collapsed": false,
    "ExecuteTime": {
     "start_time": "2023-06-20T13:17:18.214427Z",
     "end_time": "2023-06-20T13:17:18.226949Z"
    }
   }
  },
  {
   "cell_type": "code",
   "execution_count": 41,
   "outputs": [
    {
     "data": {
      "text/plain": "<Figure size 700x700 with 1 Axes>",
      "image/png": "[encoded data removed]"
     },
     "metadata": {},
     "output_type": "display_data"
    }
   ],
   "source": [
    "# und dann graphisch ausgegeben\n",
    "pos = nx.kamada_kawai_layout(G)\n",
    "import matplotlib.pyplot as plt\n",
    "plt.figure(figsize=(7, 7))\n",
    "for p in pos.values():\n",
    "    plt.scatter(p[0], p[1], c = 'lightblue', marker='o', s=50, edgecolor='None')\n",
    "plt.tight_layout()\n",
    "plt.axis('equal')\n",
    "plt.show()"
   ],
   "metadata": {
    "collapsed": false,
    "ExecuteTime": {
     "start_time": "2023-06-20T13:17:30.635249Z",
     "end_time": "2023-06-20T13:17:31.745991Z"
    }
   }
  },
  {
   "cell_type": "code",
   "execution_count": null,
   "outputs": [],
   "source": [],
   "metadata": {
    "collapsed": false
   }
  }
 ],
 "metadata": {
  "kernelspec": {
   "display_name": "Python 3",
   "language": "python",
   "name": "python3"
  },
  "language_info": {
   "codemirror_mode": {
    "name": "ipython",
    "version": 2
   },
   "file_extension": ".py",
   "mimetype": "text/x-python",
   "name": "python",
   "nbconvert_exporter": "python",
   "pygments_lexer": "ipython2",
   "version": "2.7.6"
  }
 },
 "nbformat": 4,
 "nbformat_minor": 0
}
