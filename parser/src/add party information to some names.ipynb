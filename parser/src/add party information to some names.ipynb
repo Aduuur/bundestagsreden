{
 "cells": [
  {
   "cell_type": "code",
   "execution_count": 8,
   "id": "e56ee393",
   "metadata": {},
   "outputs": [],
   "source": [
    "import jsonlines\n",
    "import json"
   ]
  },
  {
   "cell_type": "code",
   "execution_count": 12,
   "id": "b0848c05",
   "metadata": {},
   "outputs": [],
   "source": [
    "# use this way to import preprocessed data\n",
    "with open('../../data/speeches_preprocessed_20.json', 'r') as fp:\n",
    "    data = json.load(fp)\n",
    "    \n",
    "reden = data.copy()"
   ]
  },
  {
   "cell_type": "code",
   "execution_count": 7,
   "id": "3e660264",
   "metadata": {},
   "outputs": [
    {
     "name": "stdout",
     "output_type": "stream",
     "text": [
      "unknown Dr. Joachim\n",
      "unknown Dr. Dietmar\n",
      "unknown Dr. Joachim\n",
      "unknown Dr. Andreas\n",
      "unknown Dr. Joachim\n",
      "unknown Dr. Andreas\n",
      "unknown Dr. Eva\n",
      "unknown Dr. Jörg\n",
      "unknown Dr. Dirk-UlrichLena\n",
      "unknown Dr. Roman\n",
      "unknown Dr. Roman\n",
      "unknown Dr. Eva\n"
     ]
    }
   ],
   "source": [
    "\n",
    "# bei manchen Redner*innen sind keine Parteiinformationen hinterlegt. Diese Fälle können hier (leider manuell)\n",
    "# behandelt werden\n",
    "for rede in reden:\n",
    "    rede['party']=rede['party'].replace(u'\\xa0', u' ')\n",
    "    if rede['party']=='Bündnis 90/Die Grünen':\n",
    "        rede['party']='BÜNDNIS 90/DIE GRÜNEN'\n",
    "    if rede['party']=='Fraktionslos':\n",
    "        rede['party']='fraktionslos'\n",
    "        \n",
    "    if rede['party'] == 'unknown': \n",
    "        print(rede['party'], rede['name'])\n",
    "    if rede['name'] == 'Anne Spiegel':\n",
    "        rede['party'] = \"SPD\"\n",
    "    if rede['name'] == 'Christine Lambrecht':\n",
    "        rede['party'] = \"SPD\"\n",
    "    if rede['name'] == 'Svenja Schulze':\n",
    "        rede['party'] = \"SPD\"\n",
    "    if rede['name'] == 'Klara Geywitz':\n",
    "        rede['party'] = \"SPD\"\n",
    "    if rede['name'] == 'Wolfgang Schmidt':\n",
    "        rede['party'] = \"SPD\"\n",
    "    if rede['name'] == 'Nancy Faeser':\n",
    "        rede['party'] = \"SPD\"\n",
    "    if rede['name'] == 'Clara Bünger':\n",
    "        rede['party'] = \"DIE LINKE\"\n",
    "    if rede['name'] == 'Dr. Joachim Pfeiffer':\n",
    "        rede['party'] = \"CDU/CSU\"\n",
    "    if rede['name'] == 'Dr. Dietmar Bartsch':\n",
    "        rede['party'] = \"DIE LINKE\"\n",
    "    if rede['name'] == 'Dr. Eva Högl':\n",
    "        rede['party'] = \"DIE LINKE\"\n",
    "    if rede['name'] == 'Boris Pistorius':\n",
    "        rede['party'] = \"SPD\"\n",
    "    if rede['name'] == 'Sven Schulze':\n",
    "        rede['party'] = \"CDU/CSU\"\n",
    "    if rede['name'] == 'Dr. Reiner':\n",
    "        rede['party'] = \"AfD\"\n",
    "    if rede['name'] == 'Peter Beuth':\n",
    "        rede['party'] = \"CDU/CSU\"\n",
    "    if rede['name'] == 'Klaus Holetschek':\n",
    "        rede['party'] = \"CDU/CSU\"\n",
    "    if rede['name'] == 'Daniel Rinkert':\n",
    "        rede['party'] = \"SPD\"\n",
    "    if rede['name'] == 'Anke Rehlinger':\n",
    "        rede['party'] = \"SPD\"\n",
    "    if rede['name'] == 'Bettina Jarasch':\n",
    "        rede['party'] = 'BÜNDNIS 90/DIE GRÜNEN'\n",
    "    if rede['name'] == 'Emily Vontz':\n",
    "        rede['party'] = \"SPD\"\n",
    "    if rede['name'] == 'Dr. Dieter Romann':\n",
    "        rede['party'] = \"CDU/CSU\"\n",
    "    if rede['name'] == 'Alexander Bartz':\n",
    "        rede['party'] = \"SPD\"\n",
    "        \n",
    "    # manche Namen werden von Zeit zu Zeit unterschiedlich geschrieben. Diese Fälle können hier (leider auch manuell)\n",
    "    # behandelt werden.\n",
    "    if rede['name']=='Albert H. Weiler':\n",
    "        rede['name']='Albert Weiler'\n",
    "    if rede['name']=='Eva-Maria Elisabeth Schreiber':\n",
    "        rede['name']='Eva-Maria Schreiber'\n",
    "    if rede['name']=='Heidrun Bluhm-Förster':\n",
    "        rede['name']='Heidrun Bluhm'\n",
    "    if rede['name']==' in der Beek':\n",
    "        rede['name']='Olaf in der Beek'\n",
    "    if rede['name']==' ':\n",
    "        rede['name']='Unbekannt'\n",
    "    if rede['name']=='Eberhardt Alexander Gauland':\n",
    "        rede['name']='Alexander Gauland'\n",
    "    if rede['name']=='Joana Eleonora Cotar':\n",
    "        rede['name']='Joana Cotar'\n",
    "    if rede['name']=='Wolfgang Schäuble':\n",
    "        rede['name']='Dr. Wolfgang Schäuble'\n",
    "    if rede['name']=='Thomas de Maizière':\n",
    "        rede['name']='Thomas Maizière'\n",
    "    if rede['name']=='Alterspräsident Dr. Hermann Otto Solms':\n",
    "        rede['name']='Hermann Otto Solms'\n",
    "    if rede['name']=='Konstantin Elias Kuhle':\n",
    "        rede['name']='Konstantin Kuhle'\n",
    "    if rede['name']=='Konstantin Elias Kuhle':\n",
    "        rede['name']='Konstantin Kuhle'\n",
    "    if rede['name']=='Elvan Korkmaz':\n",
    "        rede['name']='Elvan Korkmaz-Emre'"
   ]
  },
  {
   "cell_type": "code",
   "execution_count": null,
   "id": "48ef8551",
   "metadata": {},
   "outputs": [],
   "source": [
    "with open('../data/speeches_preprocessed.json', 'w') as fp:\n",
    "    json.dump(reden, fp, sort_keys=True, indent=4)"
   ]
  }
 ],
 "metadata": {
  "kernelspec": {
   "display_name": "Python 3 (ipykernel)",
   "language": "python",
   "name": "python3"
  },
  "language_info": {
   "codemirror_mode": {
    "name": "ipython",
    "version": 3
   },
   "file_extension": ".py",
   "mimetype": "text/x-python",
   "name": "python",
   "nbconvert_exporter": "python",
   "pygments_lexer": "ipython3",
   "version": "3.8.5"
  }
 },
 "nbformat": 4,
 "nbformat_minor": 5
}
