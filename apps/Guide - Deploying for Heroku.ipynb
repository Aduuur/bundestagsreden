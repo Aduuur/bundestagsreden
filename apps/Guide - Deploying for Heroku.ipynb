{
 "cells": [
  {
   "cell_type": "markdown",
   "metadata": {},
   "source": [
    "# **Wer sagt was im Bundestag**\n",
    "\n",
    "\n",
    "Deploy \"Wer sagt was im Bundestag\" to Heroku."
   ]
  },
  {
   "cell_type": "markdown",
   "metadata": {},
   "source": [
    "## Preparation\n",
    "\n",
    "- Create an Github account or use an already existing one to clone the \"Wer-sagt-was-im-Bundestag\" folder from Github by running the following code in the Powershell: "
   ]
  },
  {
   "cell_type": "code",
   "execution_count": null,
   "metadata": {
    "scrolled": true
   },
   "outputs": [],
   "source": [
    "cd < destination folder path >\n",
    "git clone https://github.com/ClemensHaefner/Wer-sagt-was-im-Bundestag-Heroku.git\n",
    "cd < destination folder path \\Wer-sagt-was-im-Bundestag >    "
   ]
  },
  {
   "cell_type": "markdown",
   "metadata": {},
   "source": [
    "## Heroku\n",
    "\n",
    "- Create an account: https://signup.heroku.com/\n",
    "- Install Heroku CLI (requires git): https://devcenter.heroku.com/articles/heroku-cli#download-and-install\n",
    "- Open the Powershell and run:"
   ]
  },
  {
   "cell_type": "code",
   "execution_count": null,
   "metadata": {},
   "outputs": [],
   "source": [
    "heroku login"
   ]
  },
  {
   "cell_type": "markdown",
   "metadata": {},
   "source": [
    "- Press key except q to continue to website\n",
    "- Click login\n",
    "- Return to Powershell \n",
    "- You should see the message 'Logged in as < your_email >'\n",
    "- When you create the application for the first time, you need to run the following line:"
   ]
  },
  {
   "cell_type": "code",
   "execution_count": null,
   "metadata": {},
   "outputs": [],
   "source": [
    "heroku create wer-sagt-was-im-bundestag"
   ]
  },
  {
   "cell_type": "markdown",
   "metadata": {},
   "source": [
    "- Later changes to the code can be made without this command"
   ]
  },
  {
   "cell_type": "markdown",
   "metadata": {},
   "source": [
    "## Deploying the app"
   ]
  },
  {
   "cell_type": "markdown",
   "metadata": {},
   "source": [
    "- When you are logged in, you can deploy the app to Heroku:"
   ]
  },
  {
   "cell_type": "code",
   "execution_count": null,
   "metadata": {},
   "outputs": [],
   "source": [
    "cd <destination folder path \\Wer-sagt-was-im-Bundestag >\n",
    "git init\n",
    "git add .\n",
    "git commit -m \"<commit message>\"\n",
    "\n",
    "git push heroku master\n"
   ]
  },
  {
   "cell_type": "markdown",
   "metadata": {},
   "source": [
    "- After some time you will recive the message \"< hyperlink for the app> deployed to heroku\"\n",
    "- You can check if it worked by opening the web application "
   ]
  },
  {
   "cell_type": "markdown",
   "metadata": {},
   "source": [
    "## Changes after creating the app\n",
    "\n",
    "- after changing files you need to run the \"heroku login\" command and follow the steps from *Deploying the app*\n",
    "- the 'requirements.txt' file  must contain all packages that are not part of the base package of Python\n"
   ]
  },
  {
   "cell_type": "markdown",
   "metadata": {},
   "source": [
    "- further information: https://devcenter.heroku.com/articles/git\n",
    "- YouTube: https://www.youtube.com/watch?v=mQ7rGcE766k&t=269s "
   ]
  }
 ],
 "metadata": {
  "kernelspec": {
   "display_name": "Python 3",
   "language": "python",
   "name": "python3"
  },
  "language_info": {
   "codemirror_mode": {
    "name": "ipython",
    "version": 3
   },
   "file_extension": ".py",
   "mimetype": "text/x-python",
   "name": "python",
   "nbconvert_exporter": "python",
   "pygments_lexer": "ipython3",
   "version": "3.7.3"
  }
 },
 "nbformat": 4,
 "nbformat_minor": 2
}
