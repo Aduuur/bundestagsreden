{
 "cells": [
  {
   "cell_type": "code",
   "execution_count": 1,
   "id": "54b24631",
   "metadata": {},
   "outputs": [],
   "source": [
    "import collections\n",
    "import requests\n",
    "import json\n",
    "import re\n",
    "import os\n",
    "import sys\n",
    "\n",
    "with open('../../data/speeches_20.jsonl', 'r', encoding = 'utf8') as fp:\n",
    "    data = list(fp)\n",
    "speeches = []\n",
    "for line in data:\n",
    "    speeches.append(json.loads(line))"
   ]
  },
  {
   "cell_type": "code",
   "execution_count": 2,
   "id": "b7822a97",
   "metadata": {},
   "outputs": [],
   "source": [
    "# globale items\n",
    "regex = \"{(.*?)}\" # hier die genaue Definition der Kommentare vom Parser <<< >>>\n",
    "kommentare = []"
   ]
  },
  {
   "cell_type": "code",
   "execution_count": 3,
   "id": "43ecff0d",
   "metadata": {},
   "outputs": [],
   "source": [
    "def groupSpeechesByParty(speeches):\n",
    "    groupedSpeeches = {}\n",
    "    for speech in speeches:\n",
    "        tpo = speech['party']\n",
    "        if tpo in groupedSpeeches:\n",
    "            groupedSpeeches[tpo].append(speech)\n",
    "        else:\n",
    "            groupedSpeeches[tpo] = [speech]\n",
    "    return groupedSpeeches"
   ]
  },
  {
   "cell_type": "code",
   "execution_count": 4,
   "id": "dc7d83f6",
   "metadata": {},
   "outputs": [
    {
     "data": {
      "text/plain": [
       "dict_keys(['SPD', 'CDU/CSU', 'BÜNDNIS\\xa090/DIE GRÜNEN', 'FDP', 'AfD', 'DIE LINKE', 'Fraktionslos', 'BÜNDNIS 90/DIE GRÜNEN'])"
      ]
     },
     "execution_count": 4,
     "metadata": {},
     "output_type": "execute_result"
    }
   ],
   "source": [
    "groupbyparty = groupSpeechesByParty(speeches)\n",
    "groupbyparty.keys()"
   ]
  },
  {
   "cell_type": "code",
   "execution_count": 5,
   "id": "3e80e8b5",
   "metadata": {},
   "outputs": [
    {
     "name": "stdout",
     "output_type": "stream",
     "text": [
      "2777\n",
      "698\n",
      "607\n",
      "354\n",
      "395\n",
      "353\n",
      "241\n",
      "26\n",
      "103\n"
     ]
    }
   ],
   "source": [
    "for speech in speeches:\n",
    "    if 'BÜNDNIS\\xa090/DIE GRÜNEN' in speech['party']:\n",
    "        speech.update({'party': 'BÜNDNIS 90/DIE GRÜNEN'})\n",
    "    #print(speech['party'])\n",
    "\n",
    "print(len(speeches)) # Anzahl aller Reden\n",
    "for ele in groupbyparty:\n",
    "    print(len(groupbyparty[ele]))\n",
    "# Überprüfung mit bspw.: len(groupbyparty['SPD'])"
   ]
  },
  {
   "cell_type": "code",
   "execution_count": 8,
   "id": "20baf887",
   "metadata": {},
   "outputs": [],
   "source": [
    "for speech in speeches:\n",
    "    if 'BÜNDNIS\\xa090/DIE GRÜNEN' in speech['party']:\n",
    "        speech.update({'party': 'DIE GRÜNEN'})\n",
    "        print(speech['party'])"
   ]
  },
  {
   "cell_type": "code",
   "execution_count": null,
   "id": "32cd0eef",
   "metadata": {},
   "outputs": [],
   "source": []
  }
 ],
 "metadata": {
  "kernelspec": {
   "display_name": "Python 3 (ipykernel)",
   "language": "python",
   "name": "python3"
  },
  "language_info": {
   "codemirror_mode": {
    "name": "ipython",
    "version": 3
   },
   "file_extension": ".py",
   "mimetype": "text/x-python",
   "name": "python",
   "nbconvert_exporter": "python",
   "pygments_lexer": "ipython3",
   "version": "3.9.7"
  }
 },
 "nbformat": 4,
 "nbformat_minor": 5
}
