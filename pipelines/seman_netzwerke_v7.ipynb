{
 "cells": [
  {
   "cell_type": "markdown",
   "metadata": {},
   "source": [
    "Importieren der benötigten packages"
   ]
  },
  {
   "cell_type": "code",
   "execution_count": 1,
   "metadata": {},
   "outputs": [],
   "source": [
    "import json\n",
    "import requests\n",
    "#import collections\n",
    "from collections import Counter\n",
    "import numpy as np\n",
    "from sklearn.feature_extraction.text import TfidfVectorizer"
   ]
  },
  {
   "cell_type": "markdown",
   "metadata": {},
   "source": [
    "Laden der bereits gereinigten Daten aus einer JSON-Datei"
   ]
  },
  {
   "cell_type": "code",
   "execution_count": 2,
   "metadata": {},
   "outputs": [],
   "source": [
    "with open('../data/speeches_preprocessed.json', 'r') as fp:\n",
    "    data = json.load(fp)"
   ]
  },
  {
   "cell_type": "code",
   "execution_count": 3,
   "metadata": {},
   "outputs": [],
   "source": [
    "alleReden = data.copy()"
   ]
  },
  {
   "cell_type": "code",
   "execution_count": 4,
   "metadata": {},
   "outputs": [],
   "source": [
    "reden_clean = alleReden"
   ]
  },
  {
   "cell_type": "markdown",
   "metadata": {},
   "source": [
    "Erstellt eine Liste aller Parlamentarier, sowie ihrer dazugehörigen Parteien"
   ]
  },
  {
   "cell_type": "code",
   "execution_count": 5,
   "metadata": {},
   "outputs": [],
   "source": [
    "\n",
    "def get_names_and_parties(reden_clean):\n",
    "    names = []\n",
    "    parties = []\n",
    "    for rede in reden_clean:\n",
    "        if rede['name'] not in names:\n",
    "            names.append(rede['name'])\n",
    "            parties.append(rede['party'])\n",
    "    return names, parties"
   ]
  },
  {
   "cell_type": "code",
   "execution_count": 6,
   "metadata": {},
   "outputs": [],
   "source": [
    "names, parties = get_names_and_parties(reden_clean)"
   ]
  },
  {
   "cell_type": "markdown",
   "metadata": {},
   "source": [
    "Erzeugt eine liste von dicts, welche jeweils einen der Parlamentarier enthalten. In den jeweiligen dicts sind außerdem ein Index, und die Parteizugehörigkeit des jeweiligen Parlamentariers gespeichert."
   ]
  },
  {
   "cell_type": "code",
   "execution_count": 7,
   "metadata": {},
   "outputs": [],
   "source": [
    "def get_text_clean(name, reden):\n",
    "    text = ''\n",
    "    nReden = 0\n",
    "    for rede in reden:\n",
    "        if rede['name'] == name:\n",
    "            nReden += 1\n",
    "            text += ' '.join(rede['text_lem'])\n",
    "    return text, nReden\n",
    "   "
   ]
  },
  {
   "cell_type": "code",
   "execution_count": 8,
   "metadata": {},
   "outputs": [],
   "source": [
    "def liste_von_parla_mit_dict_text(reden, names, parties):\n",
    "    \n",
    "    parlamentarier = []\n",
    "\n",
    "    for count,name in enumerate(names):\n",
    "        hilf = {\n",
    "            'id':count+1,\n",
    "            'name': names[count],\n",
    "            'party': parties[count]\n",
    "        }\n",
    "        \n",
    "        text, nReden = get_text_clean(name, reden) \n",
    "            \n",
    "        hilf.update({'text_lem': text, 'nReden': nReden})\n",
    "        \n",
    "        parlamentarier.append(hilf)\n",
    "    \n",
    "    return parlamentarier"
   ]
  },
  {
   "cell_type": "code",
   "execution_count": 9,
   "metadata": {},
   "outputs": [],
   "source": [
    "parlamentarier = liste_von_parla_mit_dict_text(reden_clean, names, parties)"
   ]
  },
  {
   "cell_type": "markdown",
   "metadata": {},
   "source": [
    "Erstellt eine Matrix, welche als Zeilen die einzelnen Parlamentarier enthält. Die Zeilen sind gegeben durch die von allen Rednern gesagten Worte. \n",
    "Die einzelnen Eniträge sind die tf-idf Gewichte des von einem Parlamentarier gesagten Wortes.\n",
    "Die Berechnung der tfidf erfolgt folgerndermaßen:\n",
    "\n",
    "tf-idf(t, d) = tf(t, d) * idf(t)\n",
    "\n",
    "tf(t,d) = termfrequency des Terms t im Dokument d\n",
    "\n",
    "idf(t,d) = log [ (1 + n) / (1 + df(t)) ] + 1 inverse \n",
    "\n",
    "wobei df(t) die document frequency eines Wortes ist, also in wie vielen Worten eine Dokument vorkommt."
   ]
  },
  {
   "cell_type": "code",
   "execution_count": 10,
   "metadata": {},
   "outputs": [
    {
     "name": "stdout",
     "output_type": "stream",
     "text": [
      "We now consider 83281 different words.\n"
     ]
    }
   ],
   "source": [
    "corpus = [ parla['text_lem'] for parla in parlamentarier ]\n",
    "vectorizer = TfidfVectorizer(max_df=0.8, min_df=(2/781))\n",
    "tf_idf_matrix  = vectorizer.fit_transform(corpus)\n",
    "\n",
    "features = vectorizer.get_feature_names()\n",
    "print(f'We now consider {len(features)} different words.')"
   ]
  },
  {
   "cell_type": "markdown",
   "metadata": {},
   "source": [
    "erstelllt eine liste von dicts, wobei jedes dict folgende Info enthält:\n",
    "        - index\n",
    "        \n",
    "        - name des parlamentariers\n",
    "        \n",
    "        - Partei des Parlamentareirs\n",
    "        \n",
    "        - Anzahl der gehaltenen Reden\n",
    "        \n",
    "        - lemmatisiter Text aus allen Reden deíe der Parlamentarier gehalten hat\n",
    "        \n",
    "        - vec_number vektor der tfidf gewichte aus der tfidf matrix\n",
    "        \n",
    "        - msw ist das wort, welches das höchste gewicht im tfidf vetkro erhalten hat\n",
    "        "
   ]
  },
  {
   "cell_type": "code",
   "execution_count": 11,
   "metadata": {},
   "outputs": [],
   "source": [
    "def liste_von_parla_mit_dict_vec(reden, parlamentarier, X_csr, vectorizer):\n",
    "    \n",
    "    parlamentarier_vec = []\n",
    "\n",
    "    for count, parla in enumerate(parlamentarier):\n",
    "        hilf = {\n",
    "            'id':count+1,\n",
    "            'name': parla['name'],\n",
    "            'party': parla['party'],\n",
    "            'nReden': parla['nReden'],\n",
    "            'text': parla['text_lem']\n",
    "        }\n",
    "        \n",
    "        vec_numbers = np.array(X_csr.getrow(count).toarray()[0])\n",
    "        \n",
    "        maxWX = np.argmax(vec_numbers)\n",
    "          \n",
    "        #vec_numbers = vec_numbers/np.linalg.norm(vec_numbers)\n",
    "        \n",
    "        hilf.update({'vec_numbers': vec_numbers})\n",
    "        msw = list(vectorizer.vocabulary_.keys())[list(vectorizer.vocabulary_.values()).index(np.argmax(vec_numbers))]\n",
    "        hilf.update({'maxTFIDF': msw})\n",
    "        \n",
    "        \n",
    "        parlamentarier_vec.append(hilf)\n",
    "    \n",
    "    return parlamentarier_vec"
   ]
  },
  {
   "cell_type": "code",
   "execution_count": 12,
   "metadata": {},
   "outputs": [],
   "source": [
    "parlamentarier_vec = liste_von_parla_mit_dict_vec(reden_clean, parlamentarier, tf_idf_matrix.copy(), vectorizer)"
   ]
  },
  {
   "cell_type": "markdown",
   "metadata": {},
   "source": [
    "Berechnet die Cosinusähnlichkeit zweier Parlamentarier anhand des Skalarproduktes zweier Parlamentarier"
   ]
  },
  {
   "cell_type": "code",
   "execution_count": 13,
   "metadata": {},
   "outputs": [],
   "source": [
    "pairwise_similarity = tf_idf_matrix * tf_idf_matrix.T \n",
    "\n",
    "similarity = pairwise_similarity.toarray()"
   ]
  },
  {
   "cell_type": "markdown",
   "metadata": {},
   "source": [
    "Erstellt den Graphen. Die Knoten sind die Parlamentarier und das Gewicht ist die semantische Ähnlichkeit zweier Parlamentarier"
   ]
  },
  {
   "cell_type": "code",
   "execution_count": 14,
   "metadata": {},
   "outputs": [],
   "source": [
    "def cos_sim(vec_a, vec_b):\n",
    "    \n",
    "    return np.dot(vec_a, vec_b) /(np.linalg.norm(vec_a) * np.linalg.norm(vec_b))"
   ]
  },
  {
   "cell_type": "code",
   "execution_count": 15,
   "metadata": {},
   "outputs": [],
   "source": [
    "def cotop_graph_erstellen(parlamentarier, min_weight, similarity):\n",
    "\n",
    "    graph = {\n",
    "        'directed': False,\n",
    "        'graph': 'semant_graph',\n",
    "        'links': [],\n",
    "        'nodes': parlamentarier,\n",
    "    }\n",
    "\n",
    "    for ix,nodeI in enumerate(graph['nodes']):\n",
    "        for jx,nodeJ in enumerate(graph['nodes']):\n",
    "            if nodeI['id'] < nodeJ['id']:\n",
    "                source = nodeI['id']\n",
    "                target = nodeJ['id']\n",
    "                #weight = cos_sim(nodeI['vec_numbers'], nodeJ['vec_numbers'])\n",
    "                #r = np.corrcoef(nodeI['vec_numbers'], nodeJ['vec_numbers'])\n",
    "                #weight = r[0,1]\n",
    "                weight = similarity[ix,jx]\n",
    "                if weight > min_weight:\n",
    "                    link_dict = {\n",
    "                        'source':source,\n",
    "                        'target':target,\n",
    "                        'weight':weight       \n",
    "                    }\n",
    "                    graph['links'].append(link_dict)\n",
    "    return graph"
   ]
  },
  {
   "cell_type": "code",
   "execution_count": 16,
   "metadata": {},
   "outputs": [],
   "source": [
    "graph = cotop_graph_erstellen(parlamentarier_vec, 0, similarity)"
   ]
  },
  {
   "cell_type": "code",
   "execution_count": 17,
   "metadata": {},
   "outputs": [
    {
     "name": "stdout",
     "output_type": "stream",
     "text": [
      "This graph has 781 nodes and 304365 links.\n"
     ]
    },
    {
     "data": {
      "image/png": "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\n",
      "text/plain": [
       "<Figure size 432x288 with 1 Axes>"
      ]
     },
     "metadata": {
      "needs_background": "light"
     },
     "output_type": "display_data"
    }
   ],
   "source": [
    "nn = len(graph['nodes'])\n",
    "ne = len(graph['links'])\n",
    "print( f\"This graph has {nn} nodes and {ne} links.\")\n",
    "\n",
    "import matplotlib.pyplot as plt\n",
    "\n",
    "weights=[]\n",
    "for link in graph['links']:\n",
    "    weights.append(link['weight'])\n",
    "#print(sum(weights))\n",
    "\n",
    "plt.hist(weights, bins=25)\n",
    "plt.title(\"Distribution of Weights\")\n",
    "plt.xlabel(\"Wert\")\n",
    "plt.ylabel(\"Häufigkeit\")\n",
    "plt.show()"
   ]
  },
  {
   "cell_type": "markdown",
   "metadata": {},
   "source": [
    "Überführt den Graphen in einen Graphen, der mithilfe von Gephi verarbeitet werden kann."
   ]
  },
  {
   "cell_type": "code",
   "execution_count": 18,
   "metadata": {},
   "outputs": [
    {
     "name": "stdout",
     "output_type": "stream",
     "text": [
      "nodes done\n",
      "links done\n"
     ]
    }
   ],
   "source": [
    "import networkx as nx\n",
    "\n",
    "graphforgephi = nx.Graph()\n",
    "for node in graph['nodes']:\n",
    "    graphforgephi.add_node(node['id'],name = node['name'],party = node['party'],msw = node['maxTFIDF'], nReden = node['nReden']);\n",
    "    #if(node['name'] == 'Angela Merkel'):\n",
    "    #    print(node['tops'])\n",
    "\n",
    "print('nodes done')\n",
    "for link in graph['links']:\n",
    "    if link['weight'] >= 0:#.22285057620424778:\n",
    "        graphforgephi.add_edge(link['source'],link['target'],weight = link['weight'])\n",
    "print('links done') "
   ]
  },
  {
   "cell_type": "markdown",
   "metadata": {},
   "source": [
    "Berechnet die vorhandenen Nachbarschaften im Graphen anhand des Louivain-Algorithmusses und fügt sie den Knoten hinzu. (Evtl. muss folgende Package installiert werden: pip install python-louvain)"
   ]
  },
  {
   "cell_type": "code",
   "execution_count": 19,
   "metadata": {},
   "outputs": [
    {
     "ename": "AttributeError",
     "evalue": "module 'community' has no attribute 'best_partition'",
     "output_type": "error",
     "traceback": [
      "\u001b[0;31m---------------------------------------------------------------------------\u001b[0m",
      "\u001b[0;31mAttributeError\u001b[0m                            Traceback (most recent call last)",
      "\u001b[0;32m<ipython-input-19-45547a98403c>\u001b[0m in \u001b[0;36m<module>\u001b[0;34m\u001b[0m\n\u001b[1;32m      1\u001b[0m \u001b[0;32mimport\u001b[0m \u001b[0mcommunity\u001b[0m \u001b[0;32mas\u001b[0m \u001b[0mcommunity_louvain\u001b[0m\u001b[0;34m\u001b[0m\u001b[0;34m\u001b[0m\u001b[0m\n\u001b[1;32m      2\u001b[0m \u001b[0;31m# compute the best partition\u001b[0m\u001b[0;34m\u001b[0m\u001b[0;34m\u001b[0m\u001b[0;34m\u001b[0m\u001b[0m\n\u001b[0;32m----> 3\u001b[0;31m \u001b[0mpartition\u001b[0m \u001b[0;34m=\u001b[0m \u001b[0mcommunity_louvain\u001b[0m\u001b[0;34m.\u001b[0m\u001b[0mbest_partition\u001b[0m\u001b[0;34m(\u001b[0m\u001b[0mgraphforgephi\u001b[0m\u001b[0;34m)\u001b[0m\u001b[0;34m\u001b[0m\u001b[0;34m\u001b[0m\u001b[0m\n\u001b[0m",
      "\u001b[0;31mAttributeError\u001b[0m: module 'community' has no attribute 'best_partition'"
     ]
    }
   ],
   "source": [
    "import community as community_louvain\n",
    "# compute the best partition\n",
    "partition = community_louvain.best_partition(graphforgephi)"
   ]
  },
  {
   "cell_type": "code",
   "execution_count": null,
   "metadata": {},
   "outputs": [],
   "source": [
    "#Update der Knoten mit der dazugehörigen community\n",
    "for i,node in enumerate(graphforgephi):\n",
    "    graphforgephi.add_node(node, partition=list(partition.values())[i])"
   ]
  },
  {
   "cell_type": "code",
   "execution_count": null,
   "metadata": {},
   "outputs": [],
   "source": [
    "#speichern des Graphen, damit er in Gephi genutzt werden kann\n",
    "nx.write_gexf(graphforgephi, \"graphforgephi_08.gexf\")\n",
    "print('save done')"
   ]
  },
  {
   "cell_type": "code",
   "execution_count": null,
   "metadata": {},
   "outputs": [],
   "source": []
  },
  {
   "cell_type": "code",
   "execution_count": null,
   "metadata": {},
   "outputs": [],
   "source": []
  },
  {
   "cell_type": "code",
   "execution_count": null,
   "metadata": {},
   "outputs": [],
   "source": []
  },
  {
   "cell_type": "code",
   "execution_count": null,
   "metadata": {},
   "outputs": [],
   "source": []
  }
 ],
 "metadata": {
  "kernelspec": {
   "display_name": "Python 3",
   "language": "python",
   "name": "python3"
  },
  "language_info": {
   "codemirror_mode": {
    "name": "ipython",
    "version": 3
   },
   "file_extension": ".py",
   "mimetype": "text/x-python",
   "name": "python",
   "nbconvert_exporter": "python",
   "pygments_lexer": "ipython3",
<<<<<<< Updated upstream
   "version": "3.8.8"
=======
   "version": "3.8.5"
>>>>>>> Stashed changes
  }
 },
 "nbformat": 4,
 "nbformat_minor": 4
}
