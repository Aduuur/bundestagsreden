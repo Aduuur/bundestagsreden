{
 "cells": [
  {
   "cell_type": "code",
   "execution_count": 1,
   "metadata": {},
   "outputs": [],
   "source": [
    "import collections\n",
    "import requests\n",
    "import json\n",
    "import re\n",
    "import os\n",
    "import sys\n",
    "import numpy as np\n",
    "\n",
    "module_path = os.path.abspath(os.path.join('../../'))\n",
    "if module_path not in sys.path:\n",
    "    sys.path.append(module_path)\n",
    "\n",
    "from utilities.BTTools import filter_for \n",
    "\n",
    "# globale items\n",
    "regex = \"{(.*?)}\" # hier die genaue Definition der Kommentare vom Parser <<< >>>\n",
    "kommentare = []"
   ]
  },
  {
   "cell_type": "code",
   "execution_count": 2,
   "metadata": {},
   "outputs": [],
   "source": [
    "with open('../../data/speeches_20_withcomments.jsonl', 'r', encoding = 'utf8') as fp:\n",
    "    data = list(fp)\n",
    "speeches = []\n",
    "for line in data:\n",
    "    speeches.append(json.loads(line))\n",
    "    \n",
    "    "
   ]
  },
  {
   "cell_type": "code",
   "execution_count": 3,
   "metadata": {},
   "outputs": [
    {
     "data": {
      "text/plain": [
       "2777"
      ]
     },
     "execution_count": 3,
     "metadata": {},
     "output_type": "execute_result"
    }
   ],
   "source": [
    "len(speeches)"
   ]
  },
  {
   "cell_type": "code",
   "execution_count": null,
   "metadata": {},
   "outputs": [],
   "source": [
    "speeches[2776]"
   ]
  },
  {
   "cell_type": "code",
   "execution_count": 4,
   "metadata": {},
   "outputs": [],
   "source": [
    "# Funktion: speeches_comments\n",
    "def extract_comments(speeches):\n",
    "    comments = []\n",
    "    modified_speeches = []\n",
    "    for speech in speeches:\n",
    "        text = speech['text']\n",
    "        matches = re.findall(regex,text)\n",
    "        speech['comments'] = matches\n",
    "        modified_speeches.append(speech)\n",
    "    return modified_speeches\n",
    "# Funktionsaufruf:\n",
    "# speeches_comments = extract_comments(speeches)\n",
    "# Funktionsausgabe: print(speeches_comments[0]['comments'])\n",
    "#                   print(speeches_comments[0]['party'])\n",
    "\n",
    "\n",
    "# Funktion: specific_and_non_search\n",
    "def filter_with_complex_non_words(search_terms,non_words,speeches):\n",
    "    filtered_speeches = []\n",
    "    for speech in speeches:\n",
    "        for comment in speech['comments']:\n",
    "            if all([term in comment for term in search_terms]) and not any([term in comment for term in non_words]):\n",
    "                filtered_speeches.append(speech)\n",
    "                break\n",
    "    return filtered_speeches\n",
    "# Funktionsaufruf:  specific_and_non_search = filter_with_complex_non_words(['Beifall','CDU'],['Zuruf'],speeches_comments)\n",
    "# Funktionsausgabe: print(specific_and_non_search[0])                               enthält AND enthält nicht\n",
    "#                   print(len(specific_and_non_search))\n",
    "\n",
    "\n",
    "# Funktion: speech_of_party\n",
    "def filter_party (party,speeches):\n",
    "    speeches_of_party = []\n",
    "    for speech in speeches:\n",
    "        if speech['party'] == party:\n",
    "            speeches_of_party.append(speech)\n",
    "    return speeches_of_party\n",
    "# Funktionsaufruf:  filter_of_party = filter_party(['SPD'],speeches)\n"
   ]
  },
  {
   "cell_type": "code",
   "execution_count": 5,
   "metadata": {},
   "outputs": [],
   "source": [
    "speeches_comments = extract_comments(speeches)\n",
    "#speeches_comments"
   ]
  },
  {
   "cell_type": "markdown",
   "metadata": {},
   "source": [
    "\n",
    "\n",
    "\n",
    "# Marcel. Ich denke die nächsten Zellen solltest du dir anschauen.\n"
   ]
  },
  {
   "cell_type": "code",
   "execution_count": 11,
   "metadata": {},
   "outputs": [
    {
     "name": "stdout",
     "output_type": "stream",
     "text": [
      "22099 15735 2114 663\n"
     ]
    }
   ],
   "source": [
    "all_comments = []\n",
    "all_comments_zuruf = []\n",
    "all_comments_beifall = []\n",
    "all_comments_beifall_zuruf = []\n",
    "\n",
    "for speech in speeches:\n",
    "    if len(speech['comments']) > 0:\n",
    "        for comment in speech['comments']:\n",
    "            all_comments.append(comment)\n",
    "            if 'Zuruf' in comment:\n",
    "                all_comments_zuruf.append(comment)\n",
    "            if 'Beifall' in comment:\n",
    "                all_comments_beifall.append(comment) \n",
    "            if 'Beifall' in comment and 'Zuruf' in comment:\n",
    "                all_comments_beifall_zuruf.append(comment)    \n",
    "\n",
    "print(len(all_comments),len(all_comments_beifall),len(all_comments_zuruf),len(all_comments_beifall_zuruf))\n",
    "\n"
   ]
  },
  {
   "cell_type": "markdown",
   "metadata": {},
   "source": [
    "# Vor allem das hier!\n",
    "\n",
    "Es macht einen dict der Struktur:\n",
    "\n",
    "\n"
   ]
  },
  {
   "cell_type": "code",
   "execution_count": 179,
   "metadata": {},
   "outputs": [],
   "source": [
    "comments_to = {\n",
    "             'BÜNDNIS 90/DIE GRÜNEN' : ['all comments to Grüne'], \n",
    "             'CDU/CSU'               : ['all comments to '],\n",
    "             'Fraktionslos'          : ['all comments to '],\n",
    "             'AfD'                   : ['all comments to '],\n",
    "             'SPD'                   : ['all comments to '],\n",
    "             'FDP'                   : ['all comments to '],\n",
    "             'DIE LINKE'             : ['all comments to ']\n",
    "}"
   ]
  },
  {
   "cell_type": "markdown",
   "metadata": {},
   "source": [
    "## das für die Partynames"
   ]
  },
  {
   "cell_type": "code",
   "execution_count": 24,
   "metadata": {},
   "outputs": [
    {
     "data": {
      "text/plain": [
       "['BÜNDNIS 90/DIE GRÜNEN',\n",
       " 'CDU/CSU',\n",
       " 'Fraktionslos',\n",
       " 'AfD',\n",
       " 'SPD',\n",
       " 'FDP',\n",
       " 'DIE LINKE']"
      ]
     },
     "execution_count": 24,
     "metadata": {},
     "output_type": "execute_result"
    }
   ],
   "source": [
    "# get party names\n",
    "\n",
    "def clean_partyname(speeches):\n",
    "    for speech in speeches:\n",
    "        if 'BÜNDNIS\\xa090/DIE GRÜNEN' in speech['party']:\n",
    "            speech.update({'party': 'BÜNDNIS 90/DIE GRÜNEN'})\n",
    "clean_partyname(speeches)\n",
    "\n",
    "party_names = []\n",
    "for speech in speeches:\n",
    "    if speech['party'] in party_names:\n",
    "        pass\n",
    "    else:\n",
    "        party_names.append(speech['party'])\n",
    "        \n",
    "party_names"
   ]
  },
  {
   "cell_type": "markdown",
   "metadata": {},
   "source": [
    "# Auch wichtig: \n",
    "### diese Funktion splitted die Kommentare anhand des '-' in Einzelkommentare. Das funktioniert ganz gut. Dann werden diese Einzelkommentare (also z.B. Beifall meist getrennt von Zuruf) den Parteien zugeordnet."
   ]
  },
  {
   "cell_type": "code",
   "execution_count": 181,
   "metadata": {},
   "outputs": [],
   "source": [
    "comments_to = {}\n",
    "for party in party_names:\n",
    "    comments_to.update({ party : [] })\n",
    "\n",
    "#print(comments_to)\n",
    "\n",
    "for speech in speeches:\n",
    "    if len(speech['comments']) > 0:\n",
    "        for comment in speech['comments']:\n",
    "            for split_comment in comment.split('–'):\n",
    "                comments_to[speech['party']].append(split_comment)\n",
    "             "
   ]
  },
  {
   "cell_type": "code",
   "execution_count": 183,
   "metadata": {},
   "outputs": [],
   "source": [
    "#comments_to['DIE LINKE']"
   ]
  },
  {
   "cell_type": "code",
   "execution_count": 187,
   "metadata": {},
   "outputs": [],
   "source": [
    "# Beifall, Gegenruf\n",
    "\n",
    "nParties = len(party_names)\n",
    "relations_beifall = np.zeros((nParties,nParties))\n",
    "\n",
    "party_search_string = ['GRÜNEN','CDU/CSU','raktionslos','AfD','SPD','FDP','LINKE']\n",
    "\n",
    "px = 0\n",
    "for xparty in comments_to:\n",
    "    for comment in comments_to[xparty]:\n",
    "        for py,yparty in enumerate(party_search_string):\n",
    "            if yparty in comment:\n",
    "                if 'Beifall' in comment:\n",
    "                    relations_beifall[px,py]=relations_beifall[px,py]+1\n",
    "        #\n",
    "            \n",
    "    px = px + 1\n",
    "    \n",
    "    "
   ]
  },
  {
   "cell_type": "code",
   "execution_count": null,
   "metadata": {},
   "outputs": [],
   "source": []
  },
  {
   "cell_type": "markdown",
   "metadata": {},
   "source": [
    "# Bis Hierhin\n",
    "\n",
    "dann kommt meine Versuche die relations_beifall darzustellen."
   ]
  },
  {
   "cell_type": "code",
   "execution_count": 186,
   "metadata": {},
   "outputs": [
    {
     "data": {
      "text/plain": [
       "'(Saskia Esken [SPD]: Nein, hat er nicht gesagt! – Sönke Rix [SPD]: Sie müssen richtig zitieren, bitte!)'"
      ]
     },
     "execution_count": 186,
     "metadata": {},
     "output_type": "execute_result"
    }
   ],
   "source": [
    "all_comments[10]"
   ]
  },
  {
   "cell_type": "code",
   "execution_count": 185,
   "metadata": {},
   "outputs": [
    {
     "data": {
      "text/plain": [
       "['(Saskia Esken [SPD]: Nein, hat er nicht gesagt! ',\n",
       " ' Sönke Rix [SPD]: Sie müssen richtig zitieren, bitte!)']"
      ]
     },
     "execution_count": 185,
     "metadata": {},
     "output_type": "execute_result"
    }
   ],
   "source": [
    "all_comments[10].split('–')"
   ]
  },
  {
   "cell_type": "code",
   "execution_count": 188,
   "metadata": {},
   "outputs": [
    {
     "data": {
      "image/png": "[encoded data removed]",
      "text/plain": [
       "<Figure size 432x288 with 2 Axes>"
      ]
     },
     "metadata": {
      "needs_background": "light"
     },
     "output_type": "display_data"
    },
    {
     "data": {
      "text/plain": [
       "1436.0"
      ]
     },
     "execution_count": 188,
     "metadata": {},
     "output_type": "execute_result"
    }
   ],
   "source": [
    "import matplotlib.pyplot as plt\n",
    "plt.imshow(relations_beifall)\n",
    "plt.colorbar()\n",
    "plt.show()\n",
    "relations_beifall[5,4]"
   ]
  },
  {
   "cell_type": "code",
   "execution_count": 65,
   "metadata": {},
   "outputs": [
    {
     "name": "stderr",
     "output_type": "stream",
     "text": [
      "/Users/seven/venv/lib/python3.7/site-packages/sklearn/cluster/_spectral.py:484: UserWarning: The spectral clustering API has changed. ``fit``now constructs an affinity matrix from data. To use a custom affinity matrix, set ``affinity=precomputed``.\n",
      "  warnings.warn(\"The spectral clustering API has changed. ``fit``\"\n",
      "/Users/seven/venv/lib/python3.7/site-packages/sklearn/manifold/_spectral_embedding.py:236: UserWarning: Graph is not fully connected, spectral embedding may not work as expected.\n",
      "  warnings.warn(\"Graph is not fully connected, spectral embedding\"\n"
     ]
    },
    {
     "data": {
      "text/plain": [
       "array([0, 0, 1, 0, 0, 0, 0], dtype=int32)"
      ]
     },
     "execution_count": 65,
     "metadata": {},
     "output_type": "execute_result"
    }
   ],
   "source": [
    "\n",
    "from sklearn.cluster import SpectralClustering\n",
    "mat = relations_beifall\n",
    "SpectralClustering(2).fit_predict(mat)"
   ]
  },
  {
   "cell_type": "code",
   "execution_count": 197,
   "metadata": {},
   "outputs": [
    {
     "name": "stdout",
     "output_type": "stream",
     "text": [
      "[1. 1. 1. 1. 1. 1. 1.]\n",
      "[1.12189735 0.6356425  0.53182542 0.47998578 0.09513322 0.04195081\n",
      " 0.00546739]\n"
     ]
    },
    {
     "data": {
      "image/png": "[encoded data removed]",
      "text/plain": [
       "<Figure size 756x756 with 1 Axes>"
      ]
     },
     "metadata": {
      "needs_background": "light"
     },
     "output_type": "display_data"
    }
   ],
   "source": [
    "from numpy import linalg as LA\n",
    "from sklearn.preprocessing import normalize\n",
    "\n",
    "#for ix,pi in enumerate(party_names):\n",
    "#    relations_beifall[ix-1,ix-1] = 0\n",
    "\n",
    "normed_matrix = normalize(relations_beifall, axis=1, norm='l1')\n",
    "\n",
    "print(sum(normed_matrix.T))\n",
    "\n",
    "#mu = normed_matrix.mean(axis=1)\n",
    "#data = normed_matrix - mu\n",
    "# data = (data - mu)/data.std(axis=0)  # Uncommenting this reproduces mlab.PCA results\n",
    "eigenvectors, eigenvalues, V = np.linalg.svd(normed_matrix.T, full_matrices=False)\n",
    "#eigenvectors, eigenvalues, V = np.linalg.svd(data, full_matrices=False)\n",
    "\n",
    "#eigenvalues , eigenvectors = LA.eig(normed_matrix.T)\n",
    "\n",
    "projected_data = np.dot(normed_matrix, eigenvectors)\n",
    "#sum(normed_matrix.T)\n",
    "print(eigenvalues)\n",
    "\n",
    "x = projected_data[:,0]\n",
    "y = projected_data[:,1]\n",
    "\n",
    "fig, ax = plt.subplots()\n",
    "ax.scatter(x,y)\n",
    "for i, txt in enumerate(party_names):\n",
    "    ax.annotate(txt, (x[i], y[i]))\n",
    "    \n",
    "for i1, p1 in enumerate(party_names):\n",
    "    for i2, p2 in enumerate(party_names):\n",
    "        if normed_matrix[i1,i2] > 0.1:\n",
    "            #pass\n",
    "            ax.plot([x[i1],x[i2]],[y[i1], y[i2]])\n",
    "\n",
    "#plt.plot(x, y)\n",
    "    \n",
    "fig.set_size_inches(10.5, 10.5)    \n",
    "plt.show()\n"
   ]
  },
  {
   "cell_type": "code",
   "execution_count": 200,
   "metadata": {},
   "outputs": [
    {
     "name": "stderr",
     "output_type": "stream",
     "text": [
      "/Users/seven/venv/lib/python3.7/site-packages/sklearn/manifold/_mds.py:419: UserWarning: The MDS API has changed. ``fit`` now constructs an dissimilarity matrix from data. To use a custom dissimilarity matrix, set ``dissimilarity='precomputed'``.\n",
      "  warnings.warn(\"The MDS API has changed. ``fit`` now constructs an\"\n"
     ]
    },
    {
     "data": {
      "image/png": "[encoded data removed]",
      "text/plain": [
       "<Figure size 540x396 with 1 Axes>"
      ]
     },
     "metadata": {
      "needs_background": "light"
     },
     "output_type": "display_data"
    }
   ],
   "source": [
    "from sklearn.manifold import MDS\n",
    "\n",
    "embedding = MDS(n_components=2)\n",
    "X_transformed = embedding.fit_transform(normed_matrix.T)\n",
    "X_transformed.shape\n",
    "\n",
    "\n",
    "x = X_transformed[:,0]\n",
    "y = X_transformed[:,1]\n",
    "\n",
    "fig, ax = plt.subplots()\n",
    "ax.scatter(x,y)\n",
    "for i, txt in enumerate(party_names):\n",
    "    ax.annotate(txt, (x[i], y[i]))\n",
    "    \n",
    "for i1, p1 in enumerate(party_names):\n",
    "    for i2, p2 in enumerate(party_names):\n",
    "        if normed_matrix[i1,i2] > 0.1:\n",
    "            ax.plot([x[i1],x[i2]],[y[i1], y[i2]])\n",
    "\n",
    "#plt.plot(x, y)\n",
    "    \n",
    "fig.set_size_inches(7.5, 5.5)    \n",
    "plt.show()\n"
   ]
  },
  {
   "cell_type": "code",
   "execution_count": null,
   "metadata": {},
   "outputs": [],
   "source": []
  },
  {
   "cell_type": "code",
   "execution_count": 48,
   "metadata": {},
   "outputs": [],
   "source": [
    "# draw as graph\n",
    "nodes = []\n",
    "for px,party in enumerate(party_names):\n",
    "    nodes.append({\n",
    "                'id': px+1,\n",
    "                'name': party\n",
    "                })    \n",
    "\n",
    "\n",
    "graph = {\n",
    "    'directed': False,\n",
    "    'graph': 'semant_graph',\n",
    "    'links': [],\n",
    "    'nodes': nodes\n",
    "}\n",
    "\n",
    "for i, node_i in enumerate(graph['nodes']):\n",
    "    for j, node_j in enumerate(graph['nodes']):\n",
    "        #if i < j:\n",
    "        source = node_i['id']\n",
    "        target = node_j['id']\n",
    "        weight = relations_beifall[i, j]\n",
    "\n",
    "        link = {\n",
    "            'source': source,\n",
    "            'target': target,\n",
    "            'weight': weight\n",
    "        }\n",
    "        graph['links'].append(link)\n",
    "\n",
    "#graph\n",
    "\n",
    "\n",
    "\n"
   ]
  },
  {
   "cell_type": "code",
   "execution_count": 50,
   "metadata": {},
   "outputs": [],
   "source": [
    "\n",
    "def render_comment_graph(graph):\n",
    "\n",
    "    #lv = '//' if properties['edgevisibility'] else ''\n",
    "    #parts = '//' if not properties['particles'] else ''\n",
    "    #dm = '//' if not properties['darkmode'] else ''\n",
    "\n",
    "    d3graph = {\n",
    "        'nodes': graph['nodes'],\n",
    "        'links': graph['links']\n",
    "    }\n",
    "\n",
    "    htmlcode = f\"\"\"<head>\n",
    "        <style>\n",
    "            body {{margin: 0;}}\n",
    "            h3 {{text-align: center;}}\n",
    "            .center {{\n",
    "              display: block;\n",
    "              margin-left: auto;\n",
    "              margin-right: auto;\n",
    "            }}\n",
    "        </style>\n",
    "        <script src=\"https://unpkg.com/force-graph\"></script>\n",
    "        <meta charset=\"UTF-8\">\n",
    "    </head>\n",
    "    <body>\n",
    "    <img src=\"Logo.png\" height=\"150\" width=\"300\" class=\"center\">\n",
    "    <h3>DebSearch ist eine statistische Website, welche die aktuelle Legislaturperiode</h3>\n",
    "    <h3>in verschiedenen Kategorieren auswertet und visualisiert.</h3>\n",
    "    <div id=\"graph\"></div>\n",
    "    <script>\n",
    "        var data = {d3graph};\n",
    "        const elem = document.getElementById('graph');\n",
    "        const Graph = ForceGraph()(elem)\n",
    "            .graphData(data)\n",
    "            .nodeLabel(name)\n",
    "            .nodeRelSize(1)\n",
    "            .onNodeRightClick(node => {{\n",
    "                // Center/zoom on node\n",
    "                Graph.centerAt(node.x, node.y, 1000);\n",
    "                Graph.zoom(4, 2000);\n",
    "            }});\n",
    "    </script>\n",
    "    </body>\n",
    "    \"\"\"\n",
    "\n",
    "    return { 'graph': htmlcode }\n",
    "\n",
    "html_graph = render_comment_graph(graph)\n",
    "\n",
    "with open(f'./comment_network.html', 'w') as f:\n",
    "    f.write(html_graph['graph'])\n"
   ]
  },
  {
   "cell_type": "code",
   "execution_count": 21,
   "metadata": {},
   "outputs": [
    {
     "data": {
      "text/plain": [
       "0.0"
      ]
     },
     "execution_count": 21,
     "metadata": {},
     "output_type": "execute_result"
    }
   ],
   "source": [
    "\n",
    "\n",
    "nParties = 7\n",
    "\n",
    "relations_beifall = np.zeros((nParties,nParties))\n",
    "\n",
    "relations_beifall[1,0]\n"
   ]
  },
  {
   "cell_type": "code",
   "execution_count": null,
   "metadata": {},
   "outputs": [],
   "source": []
  },
  {
   "cell_type": "code",
   "execution_count": null,
   "metadata": {},
   "outputs": [],
   "source": []
  },
  {
   "cell_type": "code",
   "execution_count": null,
   "metadata": {},
   "outputs": [],
   "source": []
  },
  {
   "cell_type": "code",
   "execution_count": null,
   "metadata": {},
   "outputs": [],
   "source": []
  },
  {
   "cell_type": "code",
   "execution_count": 180,
   "metadata": {},
   "outputs": [],
   "source": [
    "zähler = collections.Counter(all_comments_beifall_zuruf).most_common()\n",
    "#zähler"
   ]
  },
  {
   "cell_type": "code",
   "execution_count": null,
   "metadata": {},
   "outputs": [],
   "source": []
  }
 ],
 "metadata": {
  "kernelspec": {
   "display_name": "Python 3",
   "language": "python",
   "name": "python3"
  },
  "language_info": {
   "codemirror_mode": {
    "name": "ipython",
    "version": 3
   },
   "file_extension": ".py",
   "mimetype": "text/x-python",
   "name": "python",
   "nbconvert_exporter": "python",
   "pygments_lexer": "ipython3",
   "version": "3.7.3"
  }
 },
 "nbformat": 4,
 "nbformat_minor": 4
}
