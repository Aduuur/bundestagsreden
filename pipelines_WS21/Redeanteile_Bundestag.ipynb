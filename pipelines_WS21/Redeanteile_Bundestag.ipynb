{
 "cells": [
  {
   "cell_type": "markdown",
   "metadata": {},
   "source": [
    "## Redeanteile im Bundestag in der Legislatuperiode 2017-2021"
   ]
  },
  {
   "cell_type": "markdown",
   "metadata": {},
   "source": [
    "Ziel ist eine übersichtliche Darstellung der Redeanteile im Bundestag in der Legislaturperiode von 2017 - 2021.  \n",
    "Zuerst werden alle Reden in eine Liste geladen welche dann ausgewertet wird. Die "
   ]
  },
  {
   "cell_type": "code",
   "execution_count": 1,
   "metadata": {},
   "outputs": [],
   "source": [
    "import requests\n",
    "import json\n",
    "import numpy as np\n",
    "import jsonlines\n",
    "import matplotlib as mpl\n",
    "import matplotlib.pyplot as plt\n",
    "import seaborn as sns"
   ]
  },
  {
   "cell_type": "markdown",
   "metadata": {},
   "source": [
    "Colorcodes der Parteien, entsprchend der Realität"
   ]
  },
  {
   "cell_type": "code",
   "execution_count": 2,
   "metadata": {},
   "outputs": [],
   "source": [
    "colorcode={'AfD':'#009ee0',\n",
    "           'BÜNDNIS 90/DIE GRÜNEN':'#46962b',\n",
    "           'CDU/CSU':'#949494',\n",
    "           'DIE LINKE':'#800080',\n",
    "           'FDP':'#ffed00',\n",
    "           'SPD':'#e3000f', \n",
    "          }#'FRAKTIONSLOS': '#808080'}\n",
    "\n",
    "COLOR = 'black'\n",
    "mpl.rcParams['text.color'] = COLOR\n",
    "mpl.rcParams['axes.labelcolor'] = COLOR\n",
    "mpl.rcParams['axes.edgecolor'] = 'black'\n",
    "mpl.rcParams['xtick.color'] = COLOR\n",
    "mpl.rcParams['ytick.color'] = COLOR"
   ]
  },
  {
   "cell_type": "code",
   "execution_count": 3,
   "metadata": {},
   "outputs": [],
   "source": [
    "with open('../data/speeches_preprocessed.json', 'r') as fp:\n",
    "    data = json.load(fp)\n",
    "    \n",
    "alleReden = data.copy()"
   ]
  },
  {
   "cell_type": "code",
   "execution_count": 6,
   "metadata": {},
   "outputs": [
    {
     "name": "stdout",
     "output_type": "stream",
     "text": [
      "24666\n"
     ]
    }
   ],
   "source": [
    "print(len(alleReden))\n",
    "#alleReden[120]"
   ]
  },
  {
   "cell_type": "code",
   "execution_count": 7,
   "metadata": {},
   "outputs": [],
   "source": [
    "input_list = []\n",
    "wort_haeufigkeiten =[]\n",
    "\n",
    "\n",
    "for rede in alleReden:\n",
    "    if len(rede['text_lem'])>0:\n",
    "    #if rede['name']=='Angela Merkel':\n",
    "        wort_haeufigkeiten.append(len(rede['text_lem']))\n",
    "        input_dict = {\n",
    "            'name'  : rede[\"name\"],\n",
    "            'party' : rede[\"party\"],\n",
    "        }\n",
    "        input_list.append(input_dict)       "
   ]
  },
  {
   "cell_type": "code",
   "execution_count": 8,
   "metadata": {},
   "outputs": [
    {
     "data": {
      "image/png": "[encoded data removed]",
      "text/plain": [
       "<Figure size 576x576 with 1 Axes>"
      ]
     },
     "metadata": {
      "needs_background": "light"
     },
     "output_type": "display_data"
    }
   ],
   "source": [
    "mpl.rcParams[\"figure.figsize\"] = (8,8)\n",
    "\n",
    "plt.hist(wort_haeufigkeiten, bins ='auto')\n",
    "plt.title(\"Verteilung der Häufigkeiten\")\n",
    "plt.xlabel(\"Länge einer Rede (in Worten)\")\n",
    "plt.ylabel(\"Anzahl der Reden mit x Worten\")\n",
    "\n",
    "plt.show()"
   ]
  },
  {
   "cell_type": "markdown",
   "metadata": {},
   "source": [
    "\n",
    "Anfangs werden die Daten bereinigt, um Formatfehler zu beseitigen (Unterschiede in der Groß- und Kleinschreibung).\n",
    "Anschließend wird ausgezählt, wie viele Reden jeder Redner gehalten hat."
   ]
  },
  {
   "cell_type": "code",
   "execution_count": null,
   "metadata": {},
   "outputs": [],
   "source": [
    "Haeufigkeiten = []\n",
    "Namen = []\n",
    "\n",
    "for i in range(0, len(input_list)):\n",
    "    Namen.append(input_list[i]['name'])\n",
    "    Namen[i] = Namen[i].replace(u'\\xa0', u' ')\n",
    "    Namen[i] = str.lower(Namen[i])\n",
    "\n",
    "Nameneinzeln_int = sorted(set(Namen))\n",
    "\n",
    "for i in range(0, len(Nameneinzeln_int)-1):\n",
    "    summe = 0\n",
    "    for j in range(0, len(Namen)):\n",
    "        if Nameneinzeln_int[i]==Namen[j]:\n",
    "            summe = summe+1\n",
    "        else: next\n",
    "    Haeufigkeiten.append(summe)    \n"
   ]
  },
  {
   "cell_type": "markdown",
   "metadata": {},
   "source": [
    "Durch einen Collections Counter lassen sich die 10 Top-Redner schnell identifizieren:"
   ]
  },
  {
   "cell_type": "code",
   "execution_count": null,
   "metadata": {},
   "outputs": [],
   "source": [
    "import collections\n",
    "counter = collections.Counter(Namen).most_common()\n",
    "counter\n",
    "\n",
    "\n",
    "for i in range(0,10):\n",
    "    print(counter[i])\n",
    "\n"
   ]
  },
  {
   "cell_type": "markdown",
   "metadata": {},
   "source": [
    "Es fällt auf, dass die 10 Topredner fasst ausschließlich Ministerposten innehaben( mit Ausnahme von Volker Ullrich). Angela Merkel hält als Bundeskanzlerin mit Abstand die meisten Reden im Bundestag."
   ]
  },
  {
   "cell_type": "markdown",
   "metadata": {},
   "source": [
    "Durch eine graphische Darstellung lässt sich die Verteilung der Daten besser nachvollziehen."
   ]
  },
  {
   "cell_type": "code",
   "execution_count": null,
   "metadata": {},
   "outputs": [],
   "source": [
    "mpl.rcParams[\"figure.figsize\"] = (10,10)\n",
    "\n",
    "plt.hist(Haeufigkeiten, bins='auto')\n",
    "\n",
    "plt.title(\"Verteilung der Häufigkeiten\")\n",
    "plt.xlabel(\"Anzahl der gehaltenden Reden\")\n",
    "plt.ylabel(\"Personen, die soviele reden gehalten haben\")\n",
    "plt.show()\n"
   ]
  },
  {
   "cell_type": "code",
   "execution_count": null,
   "metadata": {},
   "outputs": [],
   "source": [
    "def get_haeufigkeiten_für_partei(party):\n",
    "\n",
    "    temp = []\n",
    "    \n",
    "    for rede in input_list:\n",
    "        if rede['party']==party:\n",
    "            temp.append(rede)\n",
    "                \n",
    "    Namen = []\n",
    "\n",
    "    for i in range(0, len(temp)):\n",
    "        Namen.append(temp[i]['name'])\n",
    "        Namen[i] = Namen[i].replace(u'\\xa0', u' ')\n",
    "        Namen[i] = str.lower(Namen[i])\n",
    "\n",
    "    Nameneinzeln = sorted(set(Namen))\n",
    "    \n",
    "    Haeufigkeiten = []\n",
    "    for i in range(0, len(Nameneinzeln)-1):\n",
    "        summe = 0\n",
    "        for j in range(0, len(Namen)):\n",
    "            if Nameneinzeln[i]==Namen[j]:\n",
    "                summe = summe+1\n",
    "            else: next\n",
    "        Haeufigkeiten.append(summe)    \n",
    "    \n",
    "    return Haeufigkeiten\n",
    "            "
   ]
  },
  {
   "cell_type": "code",
   "execution_count": null,
   "metadata": {},
   "outputs": [],
   "source": [
    "par1 = get_haeufigkeiten_für_partei('AfD')\n",
    "par2 = get_haeufigkeiten_für_partei('BÜNDNIS 90/DIE GRÜNEN')\n",
    "par3 = get_haeufigkeiten_für_partei('CDU/CSU')\n",
    "par4 = get_haeufigkeiten_für_partei('DIE LINKE')\n",
    "par5 = get_haeufigkeiten_für_partei('FDP')\n",
    "par6 = get_haeufigkeiten_für_partei('SPD')"
   ]
  },
  {
   "cell_type": "code",
   "execution_count": null,
   "metadata": {},
   "outputs": [],
   "source": [
    "mpl.rcParams[\"figure.figsize\"] = (13,8)\n",
    "fig = plt.figure()\n",
    "\n",
    "plt.hist([par1,par2,par3,par4,par5,par6], bins='auto', stacked=True, \n",
    "         color =colorcode.values(), edgecolor='black', label=['Afd','BÜNDNIS 90/DIE GRÜNEN','CDU/CSU','DIE LINKE','FDP','SPD'])\n",
    "plt.grid(b=True, which='major', color='#445577', linestyle=':')\n",
    "plt.title(\"Verteilung der Häufigkeiten\")\n",
    "plt.xlabel(\"Anzahl der gehaltenden Reden\")\n",
    "plt.ylabel(\"Anzahl der Personen, die soviele reden gehalten haben\")\n",
    "plt.legend(prop={'size': 15})\n",
    "plt.show()\n",
    "\n",
    "from pathlib import Path\n",
    "fn = Path('~/Documents/parla_hist.svg').expanduser()\n",
    "fig.savefig(fn, bbox_inches='tight', pad_inches=0)"
   ]
  },
  {
   "cell_type": "markdown",
   "metadata": {},
   "source": [
    "Der Großteil der Redner hat nicht öfter als 50x mal im Bundestag eine Rede gehalten. Diese Vermutung überprfüen wir noch einmal:\n",
    "Es zeigt sich, dass 717 von 765 Rednern nicht mehr als 50 Reden gehalten haben.\n",
    "Knapp über die Hälfte der Redner hat 19 oder weniger Reden gehalten."
   ]
  },
  {
   "cell_type": "code",
   "execution_count": null,
   "metadata": {},
   "outputs": [],
   "source": [
    "grenzwert = 50\n",
    "redner_unter_grenzwert = 0\n",
    "for i in range(0, len(Nameneinzeln)-1):\n",
    "    if Haeufigkeiten[i] <= grenzwert:\n",
    "        redner_unter_grenzwert=redner_unter_grenzwert+1\n",
    "    else: \n",
    "        next\n",
    "\n",
    "print(\"Redner insgesamt: \" + \n",
    "      str(len(Nameneinzeln)) + \"\\n\" + \"Redner, welche weniger als \" + \n",
    "      str(grenzwert) + \" Reden gehalten haben: \" + \n",
    "      str(redner_unter_grenzwert))"
   ]
  },
  {
   "cell_type": "markdown",
   "metadata": {},
   "source": [
    "Folgende Auswertungen analysieren die Anzahl der Reden auf Parteilicher Ebene:"
   ]
  },
  {
   "cell_type": "code",
   "execution_count": null,
   "metadata": {},
   "outputs": [],
   "source": [
    "Haeufigkeitenparty = []\n",
    "Party = []\n",
    "\n",
    "for i in range(0, len(input_list)):\n",
    "    Party.append(input_list[i]['party'])\n",
    "    Party[i] = Party[i].replace(u'\\xa0', u' ')\n",
    "    Party[i] = str.upper(Party[i])\n",
    "\n",
    "Partyeinzeln = sorted(set(Party))\n",
    "\n",
    "Haeufigkeitenparty = []\n",
    "\n",
    "for i in range(0, len(Partyeinzeln)):\n",
    "    summe = 0\n",
    "    for j in range(0, len(Party)):\n",
    "        if Partyeinzeln[i]==Party[j]:\n",
    "            summe = summe+1\n",
    "        else: next\n",
    "    Haeufigkeitenparty.append(summe)"
   ]
  },
  {
   "cell_type": "markdown",
   "metadata": {},
   "source": [
    "Die Häufigkeiten der gehaltenen Reden der Parteien werden nun in einem Plot dargestellt."
   ]
  },
  {
   "cell_type": "code",
   "execution_count": null,
   "metadata": {},
   "outputs": [],
   "source": [
    "colorcode1={'AfD':'#009ee0',\n",
    "           'Bremen':'#000000',\n",
    "           'BÜNDNIS 90/DIE GRÜNEN':'#46962b',\n",
    "           'CDU/CSU':'#000000',\n",
    "           'DIE LINKE':'#800080',\n",
    "           'FDP':'#ffed00',\n",
    "           'SPD':'#e3000f', \n",
    "           'FRAKTIONSLOS': '#808080'}"
   ]
  },
  {
   "cell_type": "code",
   "execution_count": null,
   "metadata": {},
   "outputs": [],
   "source": [
    "\n",
    "plt.rc('font', size=18)\n",
    "bar = plt.bar(Partyeinzeln, Haeufigkeitenparty)\n",
    "plt.title(\"Verteilung der Häufigkeiten\")\n",
    "plt.xticks(ticks=range(len(Partyeinzeln)), labels=Partyeinzeln, rotation=90)\n",
    "bar[0].set_color(colorcode1['AfD'])\n",
    "bar[1].set_color(colorcode1['Bremen'])\n",
    "bar[2].set_color(colorcode1['BÜNDNIS 90/DIE GRÜNEN'])\n",
    "bar[3].set_color(colorcode1['CDU/CSU'])\n",
    "bar[4].set_color(colorcode1['DIE LINKE'])\n",
    "bar[5].set_color(colorcode1['FDP'])\n",
    "bar[6].set_color(colorcode1['FRAKTIONSLOS'])\n",
    "bar[7].set_color(colorcode1['SPD'])\n",
    "plt.xlabel(\"Partei\")\n",
    "plt.ylabel(\"Anzahl gehaltener Reden\")\n",
    "\n",
    "for i in range(0, len(Partyeinzeln)):\n",
    "    plt.text(i, Haeufigkeitenparty[i],\n",
    "             str(Haeufigkeitenparty[i]))\n",
    "    \n",
    "plt.legend()\n",
    "plt.show()"
   ]
  },
  {
   "cell_type": "markdown",
   "metadata": {},
   "source": [
    "Es ist deutlich zu sehen, dass die CDU/CSU den Löwenanteil der Reden hält. \n",
    "An zweiter Stelle folgt mit knapp 1700 Reden weniger die SPD. An dritter Stelle die AfD mit 2378 Stellen."
   ]
  },
  {
   "cell_type": "code",
   "execution_count": null,
   "metadata": {},
   "outputs": [],
   "source": [
    "        \n",
    "def haeufigkeiten_nach_partei(partei):\n",
    "    \n",
    "    #Initilaisieren der Benötigten Listen\n",
    "    Haeufigkeiten = []\n",
    "    Namen = []\n",
    "    input_gefiltert = []\n",
    "    \n",
    "    #Filtern der Reden, sodass nur die Reden einer Partei in input_gefiltert auftauchen\n",
    "    for rede in alleReden:\n",
    "        if str.lower(rede['party'])==str.lower(partei):\n",
    "            input_gefiltert.append(rede)\n",
    "    \n",
    "    #Herausschreiben der Redner, um im folgenden Schritt die Anzahl der Reden zu zählen\n",
    "    for input_gef in input_gefiltert:\n",
    "        Name_trial = input_gef['name']\n",
    "        Name_trial = Name_trial.replace(u'\\xa0', u' ')\n",
    "        Name_trial = Name_trial.lower()\n",
    "        Namen.append(Name_trial)\n",
    "\n",
    "    Namen_einzeln = sorted(set(Namen))\n",
    "\n",
    "    #Zählen der gehaltenen Reden pro Person\n",
    "    for Name in Namen_einzeln:\n",
    "            summe = 0\n",
    "            for j in range(0, len(Namen)):\n",
    "                if Name == Namen[j]:\n",
    "                    summe += 1\n",
    "            Haeufigkeiten.append(summe) \n",
    "    \n",
    "    return Haeufigkeiten\n",
    "\n",
    "def plot_haeufigkeiten(Liste_der_Parteien):\n",
    "    #fig.set_alpha(0.6)\n",
    "    plt.rc('font', size=13)\n",
    "    mpl.rcParams[\"figure.figsize\"] = (13,8)\n",
    "    mpl.rcParams['figure.dpi'] = 72\n",
    "    \n",
    "    COLOR = 'yellow'\n",
    "    mpl.rcParams['text.color'] = COLOR\n",
    "    mpl.rcParams['axes.labelcolor'] = COLOR\n",
    "    mpl.rcParams['axes.edgecolor'] = 'white'\n",
    "    mpl.rcParams['xtick.color'] = COLOR\n",
    "    mpl.rcParams['ytick.color'] = COLOR\n",
    "    #Initialisieren der Plots\n",
    "    figure, axis = plt.subplots(2, 3)\n",
    "    figure.set_facecolor('black')\n",
    "    figure.set_alpha(0.01)\n",
    "    \n",
    "    axis[0, 0].hist(haeufigkeiten_nach_partei(Liste_der_Parteien[0]), bins='auto', color=colorcode['BÜNDNIS 90/DIE GRÜNEN'], edgecolor='white')\n",
    "    axis[0, 0].set_title(Liste_der_Parteien[0], fontsize = 15)\n",
    "    axis[0, 0].set_xlim(left=0, right=200)\n",
    "    axis[0, 0].set_ylim(bottom=0, top=60)\n",
    "    axis[0, 0].set_facecolor(\"black\")\n",
    "    axis[0, 0].grid(b=True, which='major', color='#445577', linestyle=':')\n",
    "    \n",
    "    axis[0, 1].hist(haeufigkeiten_nach_partei(Liste_der_Parteien[1]), bins='auto', color=colorcode['CDU/CSU'], edgecolor='white')\n",
    "    axis[0, 1].set_title(Liste_der_Parteien[1], fontsize = 15)\n",
    "    axis[0, 1].set_xlim(left=0, right=200)\n",
    "    axis[0, 1].set_ylim(bottom=0, top=60)\n",
    "    axis[0, 1].set_facecolor(\"black\")\n",
    "    axis[0, 1].grid(b=True, which='major', color='#445577', linestyle=':')\n",
    "    \n",
    "    #axis[0, 2].hist(haeufigkeiten_nach_partei(Liste_der_Parteien[2]), bins = 75)\n",
    "    #axis[0, 2].set_title(Liste_der_Parteien[2], fontsize = 25)\n",
    "    \n",
    "    axis[0, 2].hist(haeufigkeiten_nach_partei(Liste_der_Parteien[3]), bins='auto', color=colorcode['AfD'], edgecolor='white')\n",
    "    axis[0, 2].set_title(Liste_der_Parteien[3], fontsize = 15)\n",
    "    axis[0, 2].set_xlim(left=0, right=200)\n",
    "    axis[0, 2].set_ylim(bottom=0, top=60)\n",
    "    axis[0, 2].set_facecolor(\"black\")\n",
    "    axis[0, 2].grid(b=True, which='major', color='#445577', linestyle=':')\n",
    "    \n",
    "    axis[1, 0].hist(haeufigkeiten_nach_partei(Liste_der_Parteien[4]), bins='auto', color=colorcode['DIE LINKE'], edgecolor='white')\n",
    "    axis[1, 0].set_title(Liste_der_Parteien[4], fontsize = 15)\n",
    "    axis[1, 0].set_xlim(left=0, right=200)\n",
    "    axis[1, 0].set_ylim(bottom=0, top=60)\n",
    "    axis[1, 0].set_facecolor(\"black\")\n",
    "    axis[1, 0].grid(b=True, which='major', color='#445577', linestyle=':')\n",
    "    \n",
    "    axis[1, 1].hist(haeufigkeiten_nach_partei(Liste_der_Parteien[5]), bins='auto', color=colorcode['FDP'], edgecolor='white')\n",
    "    axis[1, 1].set_title(Liste_der_Parteien[5], fontsize = 15)\n",
    "    axis[1, 1].set_xlim(left=0, right=200)\n",
    "    axis[1, 1].set_ylim(bottom=0, top=60)\n",
    "    axis[1, 1].set_facecolor(\"black\")\n",
    "    axis[1, 1].grid(b=True, which='major', color='#445577', linestyle=':')\n",
    "    \n",
    "    axis[1, 2].hist(haeufigkeiten_nach_partei(Liste_der_Parteien[6]), bins='auto', color=colorcode['SPD'], edgecolor='white')\n",
    "    axis[1, 2].set_title(Liste_der_Parteien[6], fontsize = 15)\n",
    "    axis[1, 2].set_xlim(left=0, right=200)\n",
    "    axis[1, 2].set_ylim(bottom=0, top=60)\n",
    "    axis[1, 2].set_facecolor(\"black\")\n",
    "    axis[1, 2].grid(b=True, which='major', color='#445577', linestyle=':')\n",
    "    #axis[2, 1].hist(haeufigkeiten_nach_partei(Liste_der_Parteien[7]), bins = 75)\n",
    "    #axis[2, 1].set_title(Liste_der_Parteien[7], fontsize = 25)\n",
    "\n",
    "\n",
    "    # Combine all the operations and display\n",
    "    plt.show()\n",
    "    \n",
    "    from pathlib import Path\n",
    "    fn = Path('~/Documents/party_hist.svg').expanduser()\n",
    "    figure.savefig(fn, bbox_inches='tight', pad_inches=0)\n",
    "    \n",
    "    \n",
    "\n",
    "Liste_der_Parteien = [\"Bündnis 90/Die Grünen\",\"CDU/CSU\",\"Bremen\",\"AfD\",\"Die Linke\",\"FDP\",\"SPD\",\"fraktionslos\"]\n",
    "\n",
    "plot_haeufigkeiten(Liste_der_Parteien)\n",
    "\n"
   ]
  },
  {
   "cell_type": "code",
   "execution_count": null,
   "metadata": {},
   "outputs": [],
   "source": [
    "        \n",
    "def haeufigkeiten_nach_partei(partei):\n",
    "    \n",
    "    #Initilaisieren der Benötigten Listen\n",
    "    Haeufigkeiten = []\n",
    "    Namen = []\n",
    "    input_gefiltert = []\n",
    "    \n",
    "    #Filtern der Reden, sodass nur die Reden einer Partei in input_gefiltert auftauchen\n",
    "    for rede in alleReden:\n",
    "        if str.lower(rede['party'])==str.lower(partei):\n",
    "            input_gefiltert.append(rede)\n",
    "    \n",
    "    #Herausschreiben der Redner, um im folgenden Schritt die Anzahl der Reden zu zählen\n",
    "    for input_gef in input_gefiltert:\n",
    "        Name_trial = input_gef['name']\n",
    "        Name_trial = Name_trial.replace(u'\\xa0', u' ')\n",
    "        Name_trial = Name_trial.lower()\n",
    "        Namen.append(Name_trial)\n",
    "\n",
    "    Namen_einzeln = sorted(set(Namen))\n",
    "\n",
    "    #Zählen der gehaltenen Reden pro Person\n",
    "    for Name in Namen_einzeln:\n",
    "            summe = 0\n",
    "            for j in range(0, len(Namen)):\n",
    "                if Name == Namen[j]:\n",
    "                    summe += 1\n",
    "            Haeufigkeiten.append(summe) \n",
    "    \n",
    "    return Haeufigkeiten\n",
    "\n",
    "def plot_haeufigkeiten(Liste_der_Parteien):\n",
    "    \n",
    "    mpl.rcParams[\"figure.figsize\"] = (8,12)\n",
    "    mpl.rcParams['figure.dpi'] = 72\n",
    "    \n",
    "    #Initialisieren der Plots\n",
    "    figure, axis = plt.subplots(3, 2)\n",
    "    \n",
    "    axis[0, 0].hist(haeufigkeiten_nach_partei(Liste_der_Parteien[0]), bins='auto', color=colorcode['BÜNDNIS 90/DIE GRÜNEN'], edgecolor='black')\n",
    "    axis[0, 0].set_title(Liste_der_Parteien[0], fontsize = 15)\n",
    "    axis[0, 0].set_xlim(left=0, right=200)\n",
    "    axis[0, 0].set_ylim(bottom=0, top=60)\n",
    "    axis[0, 0].grid(b=True, which='major', color='#445577', linestyle=':')\n",
    "    \n",
    "    axis[0, 1].hist(haeufigkeiten_nach_partei(Liste_der_Parteien[1]), bins='auto', color=colorcode['CDU/CSU'], edgecolor='white')\n",
    "    axis[0, 1].set_title(Liste_der_Parteien[1], fontsize = 15)\n",
    "    axis[0, 1].set_xlim(left=0, right=200)\n",
    "    axis[0, 1].set_ylim(bottom=0, top=60)\n",
    "    axis[0, 1].grid(b=True, which='major', color='#445577', linestyle=':')\n",
    "    \n",
    "    #axis[0, 2].hist(haeufigkeiten_nach_partei(Liste_der_Parteien[2]), bins = 75)\n",
    "    #axis[0, 2].set_title(Liste_der_Parteien[2], fontsize = 25)\n",
    "    \n",
    "    axis[1, 0].hist(haeufigkeiten_nach_partei(Liste_der_Parteien[3]), bins='auto', color=colorcode['AfD'], edgecolor='black')\n",
    "    axis[1, 0].set_title(Liste_der_Parteien[3], fontsize = 15)\n",
    "    axis[1, 0].set_xlim(left=0, right=200)\n",
    "    axis[1, 0].set_ylim(bottom=0, top=60)\n",
    "    axis[1, 0].grid(b=True, which='major', color='#445577', linestyle=':')\n",
    "    \n",
    "    axis[1, 1].hist(haeufigkeiten_nach_partei(Liste_der_Parteien[4]), bins='auto', color=colorcode['DIE LINKE'], edgecolor='black')\n",
    "    axis[1, 1].set_title(Liste_der_Parteien[4], fontsize = 15)\n",
    "    axis[1, 1].set_xlim(left=0, right=200)\n",
    "    axis[1, 1].set_ylim(bottom=0, top=60)\n",
    "    axis[1, 1].grid(b=True, which='major', color='#445577', linestyle=':')\n",
    "    \n",
    "    axis[2, 0].hist(haeufigkeiten_nach_partei(Liste_der_Parteien[5]), bins='auto', color=colorcode['FDP'], edgecolor='black')\n",
    "    axis[2, 0].set_title(Liste_der_Parteien[5], fontsize = 15)\n",
    "    axis[2, 0].set_xlim(left=0, right=200)\n",
    "    axis[2, 0].set_ylim(bottom=0, top=60)\n",
    "    axis[2, 0].grid(b=True, which='major', color='#445577', linestyle=':')\n",
    "    \n",
    "    axis[2, 1].grid(b=True, which='major', color='#445577', linestyle=':')\n",
    "    axis[2, 1].hist(haeufigkeiten_nach_partei(Liste_der_Parteien[6]), bins='auto', color=colorcode['SPD'], edgecolor='black')\n",
    "    axis[2, 1].set_title(Liste_der_Parteien[6], fontsize = 15)\n",
    "    axis[2, 1].set_xlim(left=0, right=200)\n",
    "    axis[2, 1].set_ylim(bottom=0, top=60)\n",
    "    \n",
    "    \n",
    "    #axis[2, 1].hist(haeufigkeiten_nach_partei(Liste_der_Parteien[7]), bins = 75)\n",
    "    #axis[2, 1].set_title(Liste_der_Parteien[7], fontsize = 25)\n",
    "\n",
    "    \n",
    "    # Combine all the operations and display\n",
    "    plt.show()\n",
    "    \n",
    "    from pathlib import Path\n",
    "    fn = Path('~/Documents/party_hist_90deg.svg').expanduser()\n",
    "    figure.savefig(fn, bbox_inches='tight', pad_inches=0)\n",
    "    \n",
    "    \n",
    "\n",
    "Liste_der_Parteien = [\"Bündnis 90/Die Grünen\",\"CDU/CSU\",\"Bremen\",\"Afd\",\"Die Linke\",\"FDP\",\"SPD\",\"fraktionslos\"]\n",
    "\n",
    "plot_haeufigkeiten(Liste_der_Parteien)\n",
    "\n"
   ]
  },
  {
   "cell_type": "code",
   "execution_count": null,
   "metadata": {},
   "outputs": [],
   "source": []
  }
 ],
 "metadata": {
  "kernelspec": {
   "display_name": "Python 3",
   "language": "python",
   "name": "python3"
  },
  "language_info": {
   "codemirror_mode": {
    "name": "ipython",
    "version": 3
   },
   "file_extension": ".py",
   "mimetype": "text/x-python",
   "name": "python",
   "nbconvert_exporter": "python",
   "pygments_lexer": "ipython3",
   "version": "3.7.3"
  }
 },
 "nbformat": 4,
 "nbformat_minor": 4
}
