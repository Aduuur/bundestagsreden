{
 "cells": [
  {
   "cell_type": "markdown",
   "metadata": {},
   "source": [
    "# Augment speech data with lemmata and part-of-speech\n",
    "\n",
    "1. imports (not all thing are needed)\n",
    "2. load data\n",
    "3. apply spacy to all speeches\n",
    "4. cleaning (party labels)\n",
    "5. store to JSON"
   ]
  },
  {
   "cell_type": "code",
   "execution_count": 2,
   "metadata": {
    "ExecuteTime": {
     "start_time": "2023-05-03T14:14:58.016232Z",
     "end_time": "2023-05-03T14:15:03.121402Z"
    }
   },
   "outputs": [
    {
     "name": "stderr",
     "output_type": "stream",
     "text": [
      "[nltk_data] Downloading package punkt to\n",
      "[nltk_data]     C:\\Users\\wesse\\AppData\\Roaming\\nltk_data...\n",
      "[nltk_data]   Package punkt is already up-to-date!\n"
     ]
    }
   ],
   "source": [
    "import jsonlines\n",
    "import json\n",
    "import requests\n",
    "from collections import Counter\n",
    "import tqdm\n",
    "import pandas as pd\n",
    "import numpy as np\n",
    "import matplotlib.pyplot as plt\n",
    "\n",
    "import spacy\n",
    "nlp = spacy.load('de_core_news_sm') #load spacy model\n",
    "\n",
    "import nltk\n",
    "nltk.download('punkt')\n",
    "import string\n",
    "\n",
    "from stop_words import get_stop_words"
   ]
  },
  {
   "cell_type": "code",
   "execution_count": 4,
   "metadata": {
    "ExecuteTime": {
     "start_time": "2023-05-03T14:15:11.331984Z",
     "end_time": "2023-05-03T14:15:12.010696Z"
    }
   },
   "outputs": [],
   "source": [
    "legislatur = 20\n",
    "\n",
    "alleReden = []\n",
    "with jsonlines.open(f'../../data/speeches_{legislatur}.jsonl') as f:\n",
    "    for line in f.iter():\n",
    "        alleReden.append(line)\n",
    "\n",
    "alleReden.sort(key = lambda x:x['date'])"
   ]
  },
  {
   "cell_type": "code",
   "execution_count": 5,
   "metadata": {
    "ExecuteTime": {
     "start_time": "2023-05-03T14:15:14.365599Z",
     "end_time": "2023-05-03T14:35:33.309280Z"
    }
   },
   "outputs": [
    {
     "name": "stderr",
     "output_type": "stream",
     "text": [
      "10791it [20:18,  8.85it/s]\n"
     ]
    }
   ],
   "source": [
    "reden = []\n",
    "par_speechminlength = 0\n",
    "\n",
    "for rx, rede in tqdm.tqdm(enumerate(alleReden)):\n",
    "    doc = nlp(rede[\"text\"])\n",
    "    text_lem = []\n",
    "    text_pos = []\n",
    "    for token in doc:\n",
    "        text_lem.append(token.lemma_)\n",
    "        text_pos.append(token.pos_)\n",
    "    rede.update({'text_lem' : text_lem})\n",
    "    rede.update({'text_pos' : text_pos}) \n",
    "    reden.append(rede)"
   ]
  },
  {
   "cell_type": "code",
   "execution_count": 6,
   "metadata": {
    "ExecuteTime": {
     "start_time": "2023-05-03T14:41:48.929923Z",
     "end_time": "2023-05-03T14:42:13.546721Z"
    }
   },
   "outputs": [],
   "source": [
    "with open(f'../../data/speeches_{legislatur}_preprocessed.json', 'w') as fp:\n",
    "    json.dump(reden, fp, sort_keys=True, indent=4)"
   ]
  },
  {
   "cell_type": "code",
   "execution_count": null,
   "metadata": {},
   "outputs": [],
   "source": []
  }
 ],
 "metadata": {
  "kernelspec": {
   "display_name": "Python 3",
   "language": "python",
   "name": "python3"
  },
  "language_info": {
   "codemirror_mode": {
    "name": "ipython",
    "version": 3
   },
   "file_extension": ".py",
   "mimetype": "text/x-python",
   "name": "python",
   "nbconvert_exporter": "python",
   "pygments_lexer": "ipython3",
   "version": "3.7.3"
  }
 },
 "nbformat": 4,
 "nbformat_minor": 4
}
