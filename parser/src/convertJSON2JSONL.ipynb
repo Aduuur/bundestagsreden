{
 "cells": [
  {
   "cell_type": "code",
   "execution_count": 3,
   "outputs": [],
   "source": [
    "import json\n",
    "import jsonlines"
   ],
   "metadata": {
    "collapsed": false,
    "ExecuteTime": {
     "end_time": "2024-04-25T13:23:34.063157Z",
     "start_time": "2024-04-25T13:23:34.055742Z"
    }
   },
   "id": "c904c7b8aa6a7dc5"
  },
  {
   "cell_type": "code",
   "execution_count": 4,
   "id": "initial_id",
   "metadata": {
    "collapsed": true,
    "ExecuteTime": {
     "end_time": "2024-04-25T13:23:59.300134Z",
     "start_time": "2024-04-25T13:23:57.341423Z"
    }
   },
   "outputs": [
    {
     "data": {
      "text/plain": "25187"
     },
     "execution_count": 4,
     "metadata": {},
     "output_type": "execute_result"
    }
   ],
   "source": [
    "\n",
    "def laden_alleReden(legislatur):\n",
    "\n",
    "    with open(f'../../data/speeches_{legislatur}_preprocessed.json', 'r') as fp:\n",
    "        data = json.load(fp)\n",
    "\n",
    "    return data.copy()\n",
    "\n",
    "legislatur = 19\n",
    "alleReden = laden_alleReden(legislatur)\n",
    "\n",
    "len(alleReden)"
   ]
  },
  {
   "cell_type": "code",
   "execution_count": 5,
   "outputs": [],
   "source": [
    "with open (f\"../../data/speeches_{legislatur}_preprocessed.jsonl\", \"w\", encoding = \"utf-8\") as f:\n",
    "    for line in alleReden:\n",
    "        json.dump(line, f, ensure_ascii=False)\n",
    "        f.write(\"\\n\")"
   ],
   "metadata": {
    "collapsed": false,
    "ExecuteTime": {
     "end_time": "2024-04-25T13:24:40.951122Z",
     "start_time": "2024-04-25T13:24:35.120232Z"
    }
   },
   "id": "d99d7a426330d66f"
  },
  {
   "cell_type": "code",
   "execution_count": null,
   "outputs": [],
   "source": [],
   "metadata": {
    "collapsed": false
   },
   "id": "38f179e23757c72f"
  }
 ],
 "metadata": {
  "kernelspec": {
   "display_name": "Python 3",
   "language": "python",
   "name": "python3"
  },
  "language_info": {
   "codemirror_mode": {
    "name": "ipython",
    "version": 2
   },
   "file_extension": ".py",
   "mimetype": "text/x-python",
   "name": "python",
   "nbconvert_exporter": "python",
   "pygments_lexer": "ipython2",
   "version": "2.7.6"
  }
 },
 "nbformat": 4,
 "nbformat_minor": 5
}
