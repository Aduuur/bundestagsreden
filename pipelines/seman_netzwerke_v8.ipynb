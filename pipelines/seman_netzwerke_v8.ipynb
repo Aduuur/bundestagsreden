{
 "cells": [
  {
   "cell_type": "markdown",
   "metadata": {},
   "source": [
    "Importieren der benötigten packages"
   ]
  },
  {
   "cell_type": "code",
   "execution_count": 1,
   "metadata": {},
   "outputs": [],
   "source": [
    "import json\n",
    "import requests\n",
    "#import collections\n",
    "from collections import Counter\n",
    "import numpy as np\n",
    "from tqdm import tqdm\n",
    "from sklearn.feature_extraction.text import TfidfVectorizer"
   ]
  },
  {
   "cell_type": "markdown",
   "metadata": {},
   "source": [
    "Laden der bereits gereinigten Daten aus einer JSON-Datei"
   ]
  },
  {
   "cell_type": "code",
   "execution_count": 2,
   "metadata": {},
   "outputs": [],
   "source": [
    "with open('../../data/speeches_preprocessed.json', 'r') as fp:\n",
    "    data = json.load(fp)"
   ]
  },
  {
   "cell_type": "code",
   "execution_count": 3,
   "metadata": {},
   "outputs": [],
   "source": [
    "alleReden = data.copy()"
   ]
  },
  {
   "cell_type": "code",
   "execution_count": 4,
   "metadata": {},
   "outputs": [],
   "source": [
    "for rede in alleReden:\n",
    "    if rede['name']=='Albert H. Weiler':\n",
    "        rede['name']='Albert Weiler'\n",
    "    if rede['name']=='Eva-Maria Elisabeth Schreiber':\n",
    "        rede['name']='Eva-Maria Schreiber'\n",
    "    if rede['name']=='Heidrun Bluhm-Förster':\n",
    "        rede['name']='Heidrun Bluhm'\n",
    "    if rede['name']==' in der Beek':\n",
    "        rede['name']='Olaf in der Beek'\n",
    "    if rede['name']==' ':\n",
    "        rede['name']='Unbekannt'\n",
    "    if rede['name']=='Eberhardt Alexander Gauland':\n",
    "        rede['name']='Alexander Gauland'\n",
    "    if rede['name']=='Joana Eleonora Cotar':\n",
    "        rede['name']='Joana Cotar'\n",
    "    if rede['name']=='Wolfgang Schäuble':\n",
    "        rede['name']='Dr. Wolfgang Schäuble'\n",
    "    if rede['name']=='Thomas de Maizière':\n",
    "        rede['name']='Thomas Maizière'\n",
    "    if rede['name']=='Alterspräsident Dr. Hermann Otto Solms':\n",
    "        rede['name']='Hermann Otto Solms'\n",
    "    if rede['name']=='Konstantin Elias Kuhle':\n",
    "        rede['name']='Konstantin Kuhle'\n",
    "    if rede['name']=='Konstantin Elias Kuhle':\n",
    "        rede['name']='Konstantin Kuhle'\n",
    "    if rede['name']=='Elvan Korkmaz':\n",
    "        rede['name']='Elvan Korkmaz-Emre'"
   ]
  },
  {
   "cell_type": "code",
   "execution_count": 5,
   "metadata": {},
   "outputs": [
    {
     "name": "stderr",
     "output_type": "stream",
     "text": [
      "100%|██████████████████████████████████████████████████████████████████████████| 24666/24666 [00:02<00:00, 8321.63it/s]\n"
     ]
    }
   ],
   "source": [
    "consider = ['NOUN']\n",
    "for rede in tqdm(alleReden):\n",
    "    rel_lemmata = [ ele for ex,ele in enumerate(rede['text_lem']) if rede['text_pos'][ex] in consider ]\n",
    "    rede['text_lem'] = rel_lemmata\n",
    "    rede['text_pos'] = [ele for ele in rede['text_pos'] if ele in consider]"
   ]
  },
  {
   "cell_type": "code",
   "execution_count": 6,
   "metadata": {},
   "outputs": [],
   "source": [
    "reden_clean = alleReden"
   ]
  },
  {
   "cell_type": "markdown",
   "metadata": {},
   "source": [
    "Erstellt eine Liste aller Parlamentarier, sowie ihrer dazugehörigen Parteien"
   ]
  },
  {
   "cell_type": "code",
   "execution_count": 7,
   "metadata": {},
   "outputs": [],
   "source": [
    "\n",
    "def get_names_and_parties(reden_clean):\n",
    "    names = []\n",
    "    parties = []\n",
    "    for rede in reden_clean:\n",
    "        if rede['name'] not in names:\n",
    "            names.append(rede['name'])\n",
    "            parties.append(rede['party'])\n",
    "    return names, parties"
   ]
  },
  {
   "cell_type": "code",
   "execution_count": 8,
   "metadata": {},
   "outputs": [],
   "source": [
    "names, parties = get_names_and_parties(reden_clean)"
   ]
  },
  {
   "cell_type": "markdown",
   "metadata": {},
   "source": [
    "Erzeugt eine liste von dicts, welche jeweils einen der Parlamentarier enthalten. In den jeweiligen dicts sind außerdem ein Index, und die Parteizugehörigkeit des jeweiligen Parlamentariers gespeichert."
   ]
  },
  {
   "cell_type": "code",
   "execution_count": 9,
   "metadata": {},
   "outputs": [],
   "source": [
    "def get_text_clean(name, reden):\n",
    "    text = ''\n",
    "    nReden = 0\n",
    "    nWorte = 0\n",
    "    for rede in reden:\n",
    "        if rede['name'] == name:\n",
    "            nReden += 1\n",
    "            nWorte += len(rede['text_lem'])\n",
    "            text += ' '.join(rede['text_lem'])\n",
    "    return text, nReden, nWorte\n",
    "   "
   ]
  },
  {
   "cell_type": "code",
   "execution_count": 10,
   "metadata": {},
   "outputs": [],
   "source": [
    "def liste_von_parla_mit_dict_text(reden, names, parties):\n",
    "    \n",
    "    parlamentarier = []\n",
    "\n",
    "    for count,name in enumerate(names):\n",
    "        hilf = {\n",
    "            'id':count+1,\n",
    "            'name': names[count],\n",
    "            'party': parties[count]\n",
    "        }\n",
    "        \n",
    "        text, nReden, nWorte = get_text_clean(name, reden) \n",
    "            \n",
    "        hilf.update({'text_lem': text, 'nReden': nReden, 'nWorte': nWorte})\n",
    "        \n",
    "        parlamentarier.append(hilf)\n",
    "    \n",
    "    return parlamentarier"
   ]
  },
  {
   "cell_type": "code",
   "execution_count": 11,
   "metadata": {},
   "outputs": [],
   "source": [
    "parlamentarier = liste_von_parla_mit_dict_text(reden_clean, names, parties)"
   ]
  },
  {
   "cell_type": "markdown",
   "metadata": {},
   "source": [
    "Erstellt eine Matrix, welche als Zeilen die einzelnen Parlamentarier enthält. Die Zeilen sind gegeben durch die von allen Rednern gesagten Worte. \n",
    "Die einzelnen Eniträge sind die tf-idf Gewichte des von einem Parlamentarier gesagten Wortes.\n",
    "Die Berechnung der tfidf erfolgt folgerndermaßen:\n",
    "\n",
    "tf-idf(t, d) = tf(t, d) * idf(t)\n",
    "\n",
    "tf(t,d) = termfrequency des Terms t im Dokument d\n",
    "\n",
    "idf(t,d) = log [ (1 + n) / (1 + df(t)) ] + 1 inverse \n",
    "\n",
    "wobei df(t) die document frequency eines Wortes ist, also in wie vielen Worten eine Dokument vorkommt."
   ]
  },
  {
   "cell_type": "code",
   "execution_count": 12,
   "metadata": {},
   "outputs": [
    {
     "name": "stdout",
     "output_type": "stream",
     "text": [
      "(770, 57886)\n"
     ]
    }
   ],
   "source": [
    "corpus = [ parla['text_lem'] for parla in parlamentarier ]\n",
    "vectorizer = TfidfVectorizer(max_df=0.8, min_df=(2/781))\n",
    "tf_idf_matrix  = vectorizer.fit_transform(corpus)\n",
    "print(tf_idf_matrix.shape)"
   ]
  },
  {
   "cell_type": "markdown",
   "metadata": {},
   "source": [
    "erstelllt eine liste von dicts, wobei jedes dict folgende Info enthält:\n",
    "        - index\n",
    "        \n",
    "        - name des parlamentariers\n",
    "        \n",
    "        - Partei des Parlamentareirs\n",
    "        \n",
    "        - Anzahl der gehaltenen Reden\n",
    "        \n",
    "        - lemmatisiter Text aus allen Reden deíe der Parlamentarier gehalten hat\n",
    "        \n",
    "        - vec_number vektor der tfidf gewichte aus der tfidf matrix\n",
    "        \n",
    "        - msw ist das wort, welches das höchste gewicht im tfidf vetkro erhalten hat\n",
    "        "
   ]
  },
  {
   "cell_type": "code",
   "execution_count": 13,
   "metadata": {},
   "outputs": [],
   "source": [
    "def liste_von_parla_mit_dict_vec(reden, parlamentarier, X_csr, vectorizer):\n",
    "    \n",
    "    parlamentarier_vec = []\n",
    "\n",
    "    for count, parla in enumerate(parlamentarier):\n",
    "        hilf = {\n",
    "            'id':count+1,\n",
    "            'name': parla['name'],\n",
    "            'party': parla['party'],\n",
    "            'nReden': parla['nReden'],\n",
    "            'nWorte':parla['nWorte'],\n",
    "            'text': parla['text_lem']\n",
    "        }\n",
    "        \n",
    "        vec_numbers = np.array(X_csr.getrow(count).toarray()[0])\n",
    "        \n",
    "        maxWX = np.argmax(vec_numbers)\n",
    "          \n",
    "        #vec_numbers = vec_numbers/np.linalg.norm(vec_numbers)\n",
    "        \n",
    "        hilf.update({'vec_numbers': vec_numbers})\n",
    "        msw = list(vectorizer.vocabulary_.keys())[list(vectorizer.vocabulary_.values()).index(np.argmax(vec_numbers))]\n",
    "        hilf.update({'maxTFIDF': msw})\n",
    "        \n",
    "        \n",
    "        parlamentarier_vec.append(hilf)\n",
    "    \n",
    "    return parlamentarier_vec"
   ]
  },
  {
   "cell_type": "code",
   "execution_count": 14,
   "metadata": {},
   "outputs": [],
   "source": [
    "parlamentarier_vec = liste_von_parla_mit_dict_vec(reden_clean, parlamentarier, tf_idf_matrix.copy(), vectorizer)"
   ]
  },
  {
   "cell_type": "markdown",
   "metadata": {},
   "source": [
    "Berechnet die Cosinusähnlichkeit zweier Parlamentarier anhand des Skalarproduktes zweier Parlamentarier"
   ]
  },
  {
   "cell_type": "code",
   "execution_count": 15,
   "metadata": {},
   "outputs": [],
   "source": [
    "pairwise_similarity = tf_idf_matrix * tf_idf_matrix.T \n",
    "\n",
    "similarity = pairwise_similarity.toarray()"
   ]
  },
  {
   "cell_type": "markdown",
   "metadata": {},
   "source": [
    "Erstellt den Graphen. Die Knoten sind die Parlamentarier und das Gewicht ist die semantische Ähnlichkeit zweier Parlamentarier"
   ]
  },
  {
   "cell_type": "code",
   "execution_count": 16,
   "metadata": {},
   "outputs": [],
   "source": [
    "def cos_sim(vec_a, vec_b):\n",
    "    \n",
    "    return np.dot(vec_a, vec_b) /(np.linalg.norm(vec_a) * np.linalg.norm(vec_b))"
   ]
  },
  {
   "cell_type": "code",
   "execution_count": 17,
   "metadata": {},
   "outputs": [],
   "source": [
    "def cotop_graph_erstellen(parlamentarier, min_weight, similarity):\n",
    "\n",
    "    graph = {\n",
    "        'directed': False,\n",
    "        'graph': 'semant_graph',\n",
    "        'links': [],\n",
    "        'nodes': parlamentarier,\n",
    "    }\n",
    "\n",
    "    for ix,nodeI in enumerate(graph['nodes']):\n",
    "        for jx,nodeJ in enumerate(graph['nodes']):\n",
    "            if nodeI['id'] < nodeJ['id']:\n",
    "                source = nodeI['id']\n",
    "                target = nodeJ['id']\n",
    "                #weight = cos_sim(nodeI['vec_numbers'], nodeJ['vec_numbers'])\n",
    "                #r = np.corrcoef(nodeI['vec_numbers'], nodeJ['vec_numbers'])\n",
    "                #weight = r[0,1]\n",
    "                weight = similarity[ix,jx]\n",
    "                if weight > min_weight:\n",
    "                    link_dict = {\n",
    "                        'source':source,\n",
    "                        'target':target,\n",
    "                        'weight':weight       \n",
    "                    }\n",
    "                    graph['links'].append(link_dict)\n",
    "    return graph"
   ]
  },
  {
   "cell_type": "code",
   "execution_count": 18,
   "metadata": {},
   "outputs": [],
   "source": [
    "graph = cotop_graph_erstellen(parlamentarier_vec, 0.25, similarity)"
   ]
  },
  {
   "cell_type": "code",
   "execution_count": 19,
   "metadata": {},
   "outputs": [
    {
     "name": "stdout",
     "output_type": "stream",
     "text": [
      "This graph has 770 nodes and 7842 links.\n"
     ]
    },
    {
     "data": {
      "image/png": "[encoded data removed]",
      "text/plain": [
       "<Figure size 432x288 with 1 Axes>"
      ]
     },
     "metadata": {
      "needs_background": "light"
     },
     "output_type": "display_data"
    }
   ],
   "source": [
    "nn = len(graph['nodes'])\n",
    "ne = len(graph['links'])\n",
    "print( f\"This graph has {nn} nodes and {ne} links.\")\n",
    "\n",
    "import matplotlib.pyplot as plt\n",
    "\n",
    "weights=[]\n",
    "for link in graph['links']:\n",
    "    weights.append(link['weight'])\n",
    "#print(sum(weights))\n",
    "\n",
    "plt.hist(weights, bins=25)\n",
    "plt.title(\"Distribution of Weights\")\n",
    "plt.xlabel(\"Wert\")\n",
    "plt.ylabel(\"Häufigkeit\")\n",
    "plt.show()"
   ]
  },
  {
   "cell_type": "code",
   "execution_count": 20,
   "metadata": {},
   "outputs": [
    {
     "name": "stdout",
     "output_type": "stream",
     "text": [
      "{'id': 2, 'name': 'Carsten Schneider', 'party': 'SPD', 'nReden': 37, 'nWorte': 3883, 'text': 'Herr Präsident Kollegin Kollege Konstituierung Bundestag Mal Arbeit Institution Parlamentarismus Herzkammer Demokratie Abgeordnete Volk Haus Lösung Argument Mehrheit Jahr Wahlkämpfen Debatte Bundestag Thermometer Lebendigkeit Demokratie Bürgerin Bürger Debatte Parlament Küchentisch Haus Diskussion Bundestag Abgeordnete Rückhalt Bevölkerung Jahr Fall Bundestag Bühne Auseinandersetzung Talkshows Fernsehen Einzelinterviews Journalist Frau Politikstil Frau Grund Partei Bundestag Wahlkampf Streit Idee Konzept Debatte Argument Vernebelungsstrategie Wahlkämpfen Rand Kollegin Kollege Bundestag Regierung Gegenteil Regierung Regel Geschäftsordnung Regel Anspruch Parlament Herzkammer Demokratie Regel Legislaturperiode Punkt Fraktion Frau Union Union Ende Einigung Frau Bundestag Jahr Befragung Parlament Jahr Selbstverständlichkeit Regierung Regierungsbefragung Dame Herr Blockade Union Legislatur Meilensteine Koalitionsvertrag Union Selbstkritik Koalitionsvertrag Dame Herr Geschäftsordnung Entscheidung Möglichkeit Neustart Regel Parlament Bundestag Kompetenz Parlament Kompetenz Vorbild Art Weise Dank Wort Kollege Dr. AfD-FraktionHerr Präsident Kollegin Kollege Antrag Einsetzung Hauptausschusses Schaffung Arbeitsfähigkeit Bundestag SPD-Fraktion Hauptausschuss Vorlage Bundestag Auslandseinsätze Antrag Zusage Schritt Koalitionsverhandlungen Zeit Regierungsbildung Sonntag Ausschuss Arbeitsfähigkeit Ausschuß Woche Regierung Bundesregierung SPD-Minister Verantwortung Acker Flucht Partei Tag Herr Lars Politik Tag Verantwortung Ausstieg Theatralik Tag Stück Schauspielerei Ende Bundestag Auslandsmandate Frage Finanzhilfen Mehrheitsbildung Beratung Ausschuß Ministerium Einsetzungsbeschluss Bundestag Arbeit Gang Land Verfügung Dank Redner Abgeordnete Dr.Frau Präsidentin Kollegin Kollege Minister Altmaier Argument Finanzministeriums Zustimmung Bundestag Rückzahlung Darlehen Land Rückzahlung Bundestag Vertreter Bundesregierung Gläubiger Jahr Milliardendarlehen Verfügung Verschlechterung Position Kreditgeber Bundestag Verschlechterung Situation Kontinuität Debatte Thema Ausmaß Steuereinnahmen Großkonzernen SPD-Fraktion Großkonzern Fall Milliarde Euro Steuer Absprache Konzern Gewinn Antrag Land Entscheidung Automatismus Bundestag Hintergrund Debatte Antrag Sparmaßnahme Maß Steuereinnahmeseite Unternehmensteuersatz Prozent Prozent Gewerbesteuer Steuerdumping Problem Zusammenhalt Union Integration Bundestag Vorschlag Antwort Zusammenarbeit Transfer Ding Steuerpolitik Beginn Legislaturperiode Steuerpolitik Staat Voraussetzung Europapolitik Innenpolitik Land Europapolitik Teil Innenpolitik Parteifarben Land Liberale Teil Steuereinnahmen Rahmen Kommission Beihilfeverfahrens Milliarde Euro Sozialdemokrat Ende Solidarität Grund Körperschaftsteuersatz Prozent Grundlage Falle Absprache Steuersatz Politik Aussaugen Nationalstaat Souverän Volk Steuerpolitik Bundestag Lage Steuerpolitik Ebene Antwort Unterschied Debatte Grundlage Zukunft Fall Woche Fall Diskussion Panama Journalist Recherchearbeit Beraterkonzerne Banken Staat Superreichen Konzern Steuerlast Demokratie Gift Steuer Berater Sozialdemokrat Steuergerechtigkeit Konsens Geschäftsprinzip Union Rede Kollege Steuersätze Papier Realität Stoppschild Sozialdemokrat Grund Nein Handlungsauftrag Finanzminister Entschließungsantrag Folgendes Land Bescheid Kommission Vertreter Gremium Geld Interesse Nationalstaat Geld Nein Bremse Milliarde Euro Steuereinnahmen Union Debatte Steueroasen Union Veröffentlichung Auftrag Stelle SPD-Fraktion Jahr Punkt Steuerhinterziehung -betrug OECD-Maßnahmeplan Bundestag Union Bundeskanzlerin Finanzminister G‑20-Präsidentschaft Thema Steuerhinterziehung Steuerbetrug Steuerunehrlichkeit Priorität Fall Auftrag Sozialdemokrat Bundestag Kante Maßstab Grund Punkt Nein AfD-Fraktion Dr. Wort Rede BundestagFrau Präsidentin Kollegin Kollege Kontinuität Legislatur Bundestag Abgeordnetenentschädigung Volksmund Diät Höhe Artikel Grundgesetzes Anspruch Unabhängigkeit Entschädigung Legislatur Expertenkommission Empfehlung Abgeordnetenentschädigung Bezug Bundesrichter Beamtenbesoldungsstufe Höhe Anpassung Steigerung Nominallohnindexes Bundesamt Festlegung Höhe Abgeordnetenentschädigung recht Höhe Abgeordnetenentschädigung Vorwurf Selbstbedienung Diätenautomatismus Konsens Bevölkerung Abgeordnete selbstbewusst Tätigkeit Abgeordnete Volk Entlohnung Tätigkeit Grundgesetz Vorschlag Regelung Weg Unterstützung Wahl Kontinuität Legislaturperiode Löhne Jahr Binnennachfrage Anteil Beschäftigte Lohnentwicklung Gewinn Diät Abgeordnetenentschädigung Mittelwert Arbeitnehmer Grund Antrag Gewissen Dank Dank Wort Rede Bundestag AfD-FraktionDame Herr Kollegin Kollege Bundestag Ort Debatte Instrumentalisierung Opfer Kollegin Kollege SPD-Fraktion CDU / CSU-Fraktion Tagesordnung Bundestag Frau Punkt Punkt Erneuerbare-Energien-Gesetz Erneuerbare-Energien-Gesetz Antrag Bundesrates Riss Förderung Energie Thema Erde Scheibe Klimawandel Punkt Parteiengesetz Kollegin Oppositionsfraktionen Dienstagvormittag Gesetzentwurf Tagesordnung Gesetzentwurf Nachmittag Fraktionssitzung Antrag Primetime Bundestag Antrag Uhr Hinweis Umgang Parlament AfD-Fraktion Woche Antrag Uhr Mittwoch Stunde Plenarbeginn Tag Verhalten Maß Regel Parlament schlichtweg Partei Bundestag Spiel Partei Demokratie Partei Gönner Privatjet Partei Wahlkampf Spende Millionenhöhe Verschleierung Tag Sozialdemokrat Debatte Woche Lesung Uhr Bundestag Bundestag Debattenort Parteiendemokratie Dank Redner Geschäftsordnungsdebatte Dr. FDP-FraktionKollegin Kollege Frage Änderung Parteiengesetzes Bundestag Thema Kernzeit Bundestag Freitag Uhr Dame Herr Zustimmung Verfahren Öffentlichkeit Zeit Öffentlichkeit Plenum Liveübertragung Gegensatz Freitag Finanz Quelle Leute Privatjet Verachtung Volk Staatsanwalt Parteienfinanzierung Interesse Land Leute Geld Beispiel Bundestag Vermögen Mark Unterschied Demokratie Demokratie Autokratie Gesetzentwurf Regelungsbestand Obergrenze Grund Fraktion Entscheidung Dank Redner Kollege Dr.Herr Präsident Kollegin Kollege Frau Medium Besuchergruppe Wahlkreis Konzentrationslager Äußerung Vergangenheit Ereignis Bundestag Ort Frau Chance Herr Gauland Chance Ereignis Mensch Aufruhr Unsicherheit Straße Demonstration Landesvorsitzender Höcke Pegida-Chef stadtbekannt Folge Sozialdemokratin Sozialdemokrat Stadt Fahne Herr Richtung Urteil Dame Herr Köthen Tod Unschuldige Tod Demonstration Demonstrationsrecht Neonazi Stadt Gewalt Krieger Fan Mensch Rutsche Dame Herr Demokrat Zeit Rostock-Lichtenhagen Zwischenfrage Stelle Sorge Sicherheit Sorge Frage Neonazi Sache Gefahr Sicherheit Urteil Herr Kauder Innenausschusssitzung Äußerung Herrn Maaßen Unvoreingenommenheit Unvoreingenommenheit Kollege Fraktion Chef Kontrollgremiums Herrn Morgen Fernsehen Tagesordnung Dame Herr SPD-Fraktion Vertrauen Rechtsstaat Vertrauen Sicherheitsbehörden Jahr Vorsitzender Vertrauensgremiums Kontrolle Geheimdienst Vertrauen Äußerung Bundeskanzlerin Geheimdienstchef Inlandsgeheimdienstes konträr Frage Bundesinnenminister Kanzlerin Chef Bundesamtes Verfassungsschutz Lage Einschätzung Sozialdemokrat Kopf Frage Vertrauen Rechtsstaat Sicherheit Sicherheit Auffassung Grüne Herr Rente Miete Sicherheit Partei Interesse Eigentümer Haus Grund Interessenvertreter Mieterbund Großstadt Prozent Einkommen Miete Umverteilung Preissteigerungen Jahr Eigentum Wohnung Haus Vermögen Einkommen Miete Stopp Sozialdemokrat Abfluss Umverteilung Miete Land Grundrecht Haushalt Herbst Aufbruch Mittelpunkt Mehrheit Rentenversicherung Rentenniveau Gesetz Entwurf Sicherheit Geld Geld Hand Verfügung Mittel Verteidigungsausgaben Dame Herr Kollegin 2-Prozent-Ziel Milliarde Euro Aufrüstung Sozialdemokrat Geld Rente Wort Kurzintervention KollegeHerr Kollege Sonntag Totschlag Mann Demonstration Hooligans Montag Demonstration Demonstrant Seite Mitte Leute Seite Spruch Montag Mitarbeiter Büro Polizist Entscheidung Hooligans Samstag Demonstration Demonstration Demonstrant Demonstration Demonstration Sozialdemokrat Faktum Redner Kollege FDP-FraktionHerr Abgeordneter Rede Sozialdemokrat Mietpreisbremse Aktivität Nationalsozialist Herr Boehringer Bundeskanzlerin Merkelnutte Partei Hooligans Straße Schulterschluss Herr Gauland Sozialdemokrat Konzentrationslagern Leben Spiel Demokratie Vergleich Form Schande Parlament Wort ErwiderungHerr Präsident Zitierung Staatssekretärinnen Frau Abgeordnete Frau Bundestag Übrigen Antrag § Geschäftsordnung Kollege Korte Antrag Kollege Korte Bundesfinanzminister § Geschäftsordnung Handzeichen Präsidium Mehrheitsverhältnisse Auszählung Stimme Mehrheitsverhältnisse Verfahren Hammelsprung Saal Antrag Fraktion Linke Zeitverlust Kollegin Kollege Saal Saal Auszählung Herr Kollege Tag Sitzung Gespräch Saales Kollegin Kollege SPD-Fraktion Saal Herr Kollege Meterstab Saal Türe Auszählung Türe Abstimmung Abstimmung Kollegin Kollege Zeichen Abstimmung Abstimmung Ergebnis Abstimmung Kollegin Kollege Ergebnis Abstimmung Auszählung Antrag Fraktion Linke Herbeirufung Bundesfinanzministers Stimme Ja Nein Enthalten Antrag Aussprache Redner Kollege LinkeHerr Präsident Kollegin Kollege Frau CDU / CSU-Fraktion FDP-Fraktion Punkt Doppelverbeitragung Bundeskanzlerin Eindruck Minute Abschluss Debatte Punkt Punkt Kollege Generation Frau Lage Prozent Wachstum Mal Jahr Aufschwung Delle Aufschwung Potenzialwachstum Kollege Prozent Prozent Abschwung Situation Zahl Ding Interesse Mittelpunkt Wachstum Sozialstaat Sicherheit Zerrbild Sozialdemokrat Leute Leistung Quatsch Arbeit Mittelpunkt Unterschied Grundeinkommen Leute Arbeitslosenquote Jahrzehnt Fall Wahlkreis Arbeitslosenquote Prozent Glück Prozent Erfolg Arbeit Mensch Bittsteller Angst Status Sozialdemokrat Sozialstaat Seite Rechtsanspruch Konzept Unterschied Ordnung Unterschied Partei Front Frage zentral Frage Mensch Kosten Grundrente Teufel Wand Daumen Milliarde Euro Jahr Betrag Dame Herr Koalition Jahr Rentner Jahr Tarifverträge Tarifbindung Frau Hungerlöhne Euro Friseurin Mindestlohn Untergrenze Niedriglohnstrategie Ansiedlungsargument Leute Resultat Rente Mensch Berufsjahren Rente Welt Arbeitsplatz Amt Frage Würde Akzeptanz Sozialstaat Sozialdemokrat Herr Whittaker Punkt Finanzierbarkeit Bedürftigkeit Jahr Koalition Koalition Mütterrente Finanzierung Konzept Bedürftigkeitsprüfung Grundrente Tag Kollegin Kollege Dank Stunde Sozialdemokrat Diskussion Zukunft Sozialstaat Zusammenleben Jahr Bundestag Dank Redner Stunde Kollege CDU / CSU-FraktionHerr Präsident Kollegin Kollege Verfahren Bundestag Grundgesetz Bundesrat Vermittlungsausschuss Klärung Auffassung Arbeitsgruppe Vermittlungsausschusses Mitglied Herr Kollege Chance Butterbrot Bundestag Verfassungsorgan Verfassung Verfahren Sauerei Donnerstag Uhr Zeit Wunsch Fraktion Fristverkürzung Fristverkürzung Aufsetzen Punkt Tagesordnung Hand link Staatsschauspiel Sinn Sache Fortschritt Fortschritt Dame Herr Fall Ordnung Herr Frömming Bund Chance Wohnungsbau Wohnungsbau Übrigen Konsens Bundestag Bundesrat Bildungsbereich Geld Investition Schule Schule Stand Teil Land Teil Beitrag Dank FDP-Fraktion Kollege Dr. WortFrau Präsidentin Kollegin Kollege Antrag SPD-Fraktion Legislaturperiode Bundestag Reform Geschäftsordnung Bundestag Form Regierungsbefragung Befragung Kanzlerin Situation Regierung Fraktion Jamaika-Koalition Kritik Öffentlichkeit Ausschuß Verhandlung Rolle Sozialdemokrat Reform Bundestag Debatte Fragestunde Parlament Recht Kanzlerin Jahr Bedingung Grundpfeiler Koalition Herr Antrag Änderung Geschäftsordnung Punkt Häufigkeit Bundeskanzlerin Tat Mal Kompromiss Union Mal Möglichkeit Kanzlerin Zweite Fortschritt Parlament Debatte Antrag Orientierungsdebatten Debatte Gleichwertigkeit Lebensverhältnisse Zukunft Frage Farbe Meinungsbildungsprozess Regierungsbefragung Minute Punkt Orientierungsdebatte Parlament Regierung Hauptjob Stimme Beispiel Regierungsbefragung Ministerriege Unsinn Mittwoch Plenarsitzung Möglichkeit Frage Ausschusssitzung Haushaltsausschuss Innenausschuss Recht Fragemöglichkeiten Parlament Regierung Haushaltsausschuss Woche Minister Frau Übrigen Bundestag Mehrheit Parlament SPD-Fraktion Gewissen Überzeugung Sozialdemokrat Änderung Geschäftsordnung Bundestag Ende Legislatur Recht Parlament Abgeordnete Vorführung Frage Ministerin Minister Spalier Arbeit Überzeugung Minister Jahr Regierung Zustimmung Fortschritt Demokratie Bundestag FDP-Fraktion Dr. WortHerr Präsident Kollegin Kollege Gesetzentwürfe Oppositionsfraktionen Linke Grüne Bundestag Einwanderungsgesetz Gesetz Gesellschaft Jahrzehnt Mär Einwanderungsland März Beratung Abstimmung Gesetzentwürfe Wende Gesetz Zuwanderung Gesetz Mär Einwanderungsland Mensch Chance Kriterium Recht Ordnung Frau Herrn Korte Sache Unterschied Debatte Entscheidung Antrag Punkt Herr Bundesinnenminister Interview Einlassung Datenschutzgesetz Sozialdemokrat Stelle Frechheit Dreistigkeit Ding Pointe Gegenteil Gesetzentwurf Öffentlichkeit Video Leute Vertrauen Job Vertrauen Sacharbeit Entscheidung Sozialdemokrat Dank Geschäftsordnung Wort Kollege Dr.Herr Präsident Kollegin Kollege Lieber Dank Rede Zusammenarbeit Erarbeitung Antrag Tat Ort Demokratiegeschichte Ort Freiheitsbewegung Seite Geschichte Seite Schloss Republik Symbol Synonym Grundordnung Verfassung 100-Jahr-Feier Jahr Februar Rede Frank-Walter Steinmeier Bundestag Stärkung Demokratie Bundestag Veränderung Geschichtsbildes Scheitern Ursache Debatte Rolle Demokrat Teil Demokratie Böckenförde-Diktum Bürgerin Bürger Scheitern Republik Gewalt Mord Mahnung Demokratie Zeit Zeit Vertrauen Demokratie Verständnis Prozeß Mensch Antwort Beispiel Shell-Jugendstudie Mensch Politik Teil Argumentationsmuster Populisten Ungleichheit Arm Reich Stadt Land Weltoffenen Heimatverbundenen materiell Riss Gesellschaft Morgen Regierungserklärung Rat Brexit-Debatte Blick Entscheidung Volk Spaltung Gesellschaft Bundestag Partei Vertreter Umsturz Parteiensystem Systemparteien Systempresse Dame Herr Demokratie Freiheit Rechtsstaat Kopf Mensch Tag Grund Abstimmung Bekenntnis Bundestag Bindung Jahr Million Euro Jahr Stätte Demokratie Freiheitsgeschichte Verfügung Kollegin Kollege Kulturausschuss Erarbeitung Konzept Frau Staat Voraussetzung Bild Punkt Einrichtung Verpflichtung Bund Bundestag Dank Herr Kollege Redner Tagesordnungspunkt Kollege CDU / CSU-Fraktion WortDank Frau Kollegin Kollege Berichterstatter Vermittlungsausschusses Bundestag Ergebnis Vermittlungsausschusses Sicht Kollege Rede Endeffekt AfD-Fraktion Anrufung Vermittlungsausschusses Bundesrat Juni Weile November Sitzung Frist Tag Oktober bisschen Zeitpunkt Kollegin Kollege Bund Land Einigungsvorschlag Tag Zeit Nacht Vorschlag Vorschlag hin Protokollerklärung Bundesregierung Nutzung Datum Bundesland Protokoll Bundesregierung Bundesrat Gesetz Veränderung Bund Bund Million Euro Land Verfügung Kosten Zensus Dank Erklärung Saal Tun Moment Beschlussempfehlung Vermittlungsausschusses Gesetz Durchführung Zensus Jahr Drucksache Aussprache Geschäftsordnung Regelung Erklärung § Geschäftsordnung Kollegin WortHerr Präsident Kollegin Kollege Vermittlungsverfahren Bundestag Bundesrat Verfassung Mitglied Vermittlungsausschusses Arbeitsgruppe Vertreter Fraktion Arbeitsgruppe Mitglied Sitzung Arbeitsgruppe Fraktion Mitarbeiter Mittwoch Abstimmung Ergebnis Wort Minute Herr Brandner Dame Herr Kontrolle Lage Termin Bundestag Wort Diskussion Verfahren Ausgleich Interesse Klimaschutz Klimaschutz Gesetz Bundestag Ausgleich Interesse Bundesrates Bundestag Ergebnis Bundestag CO Sozialdemokrat Verbrauch Kosten Ausgleich Grund EEG-Umlage Strompreis Bürgerin Bürger Land EEG-Umlage CO Grüne Widerstand Pendlerpauschale Gegenteil Pendlerpauschale Land Arbeit Strecke Graben Konsens Klimakonsens Verfahren Kollege Möglichkeit Acker Überzeugung Einstellung Bevölkerung Veränderung Dame Herr Fraktion Kompromiss Kompromiss Land Grüner Verantwortung Dank Herr Herr Kollege Moment Herr Brandner Wort Erklärung § Absatz Geschäftsordnung Vermittlungsausschusses Aussprache Wortmeldungen Fall Redner Wort Kollege FDP-FraktionHerr Präsident Kollegin Kollege Stunde Verlangen FDP-Fraktion Thema Demokratie Wahlsystem Mehrheit Wahlurne Bundestag Verhältniswahlrecht Vergrößerung Bundestag Wahlergebnissen Anlass Stunde Vorschlag Opposition Verständnis Wahlrecht Abgeordnete Listenabgeordneten Unterschied Recht Pflicht Hintergrund Beziehung Zwitter Wahlkreis Kollegin Union Qualität Arbeit Abgeordnete Einfluss Einfluss Trend Frage Unterstützung Partei Wahlkreis Punkt Wahlgesetz Wahlergebnisse Wahlkreisen Herr Partei Zweitstimmenergebnis Erststimmenergebnissen Prozent Wahlkreise Vergrößerung Bundestag Gesetz Luft Landtagswahl Linkspartei Zweitstimmen Partei Prozent Prozent Erststimme Partei Linkspartei Platz Ach Herr Brandner Klappe Parteiensystem Ziel Sozialdemokrat Verhältniswahlrecht Zukunft Zukunft Veränderung Situation Präsident Amt Million Stimme Mitbewerberin System Kultur Konsens Ausgleich Konsens Ausgleich Richtung Opposition Vorschlag Verringerung Zahl Wahlkreise Anzahl Vergrößerung Wahlkreise Folge Abgeordnete Kontakt Beispiel Wahlkreises Abgeordneter Einwohner Wahlkreisen Bevölkerungsverluste Wahlkreise Fläche Stadt Wahlkreis Fläche Landkreise Vertreter Volkspartei Partei Kontakt Bürgerin Bürger Wochenend Legislatur Veränderung Anzahl Wahlkreise Grund Herr Frage Umsetzbarkeit Frage Kontakt Deckel Vorschlag Opposition Nichtanwachsen Bundestag Tat Grund Begrenzung Deckel Größenordnung Anzahl Bundestagsabgeordneten Gespräch Union Möglichkeit Bundestag Legislatur Entschlussfassung Dank Fraktion Linke Wort KollegeHerr Präsident Kollegin Kollege Stunde Wahl Ministerpräsidenten Woche Februar Februar Nationalversammlung Arbeit Jahr Ministerpräsident Prozent Wählerstimmen Stimme Flügel Herrn Tabubruch Geschichte Aufschrei Bevölkerung Öffentlichkeit Tabubruch Zeit Herr Gauland Demokratie Ewigkeitsgarantie Partei Harvard-Professoren Ziblatt Buch Demokratie Angst Opportunismus Fehleinschätzung Partei Extremist Mainstream Demokratie Gefahr Heimatland Politik Tweet Richtung Union Stimme Finte Union Finte Ministerpräsidenten Dame Herr Ruhmesblatt Reaktion Herr Söder Uhr Lektion Thema Sprache Extremist Herr Sowohl-als-auch-Rede Verantwortung Gegenteil Herrn Nerv Glück Herr Leben Verantwortung Problem Problem Demokratie Kollege Fraktion Partei Stimme Amt Union Herr Kollege Rede Linkspartei Tabubruch Führungslosigkeit Stelle Teil Union Ablenkungsmanöver Hintergrund Vergangenheit Union Blockpartei Geschichte Gleichsetzung Linkspartei Ausschließen Zusammenarbeit Bundestag Parlament Land Geschäft Rechte Stelle Zeit Kollegin Kollege Problem Problem Bundeskanzlerin Koalitionsausschuss Kante Union Dauer Kooperation Ebene Kooperation Land Bundesrepublik Recht Spaltbreit Sozialdemokrat Bollwerk Antifaschismus Dank Dank Redner Fraktion KollegeHerr Präsident Kollegin Kollege Kollege Mandat Vertrag Hauptsitz Erbe Bundesbank Frage Unabhängigkeit Tradition Bundesbank Einfluss Zentralbank Bundesbank Präsident Mitglied EZB-Rat Direktoriumsmitglied Frau Professor Zentralbank Jahr Zug Finanzkrise Gespräch Rahmen Sitzung Europaausschusses Ausschuß Punkt OMT-Programm Institution Union Währungsstabilität Euro Mut Überzeugungskraft Geldeinsatz Wort Pressekonferenz Entschlossenheit Präsident Finanzmärkte Cent Gegensatz Kollege Unabhängigkeit Zentralbank Bundesbank Urteil Bundesverfassungsgerichts Urteil Kollege Staatsfinanzierung Bundesverfassungsgericht Auftrag Lese Urteil Fraktion Bundestag Auftrag Erörterung Erwägungsgründe Entscheidung Maßgaben Erwägungsgründe Grenze Wirtschaftspolitik Rolle Zentralbank Bundesbank Datum Faktum Analyse Gelegenheit Bundestag Kollege Legislatur Mitglied Zentralbank Herrn Frau Vorfeld Maßnahme Zusammenhang Position Sozialdemokratie Punkt Änderungsbedarf Gespräch Punkt Einladung Präsident Ausschuß Bundestag Parlament Bundestag Zuständigkeit Parlament Mitarbeiter Nationalstaat Geldpolitik Inflationsziel Prozent Geldwertstabilität Währung Blick Bundesregierung Maßgaben Bundesverfassungsgerichts Dank Dank Herr Kollege Redner Kollege Fraktion LinkeFrau Präsidentin Kollegin Kollege Abschluss Debatte Wahlrecht Bundestag Legislatur Gültigkeit Legislatur Ergebnis Bundestagswahl Bundestag Größe Abgeordnete Akzeptanz Demokratie Anzahl Abgeordnete Regelgröße Zeit Einschränkung Betriebsablauf Woche Vorschrift Situation Morgen Opposition recht Punkt Koalition Koalition Einigung Stunde Position Gesetzentwurf Bundestag Koalitionsvertrag Initiative Vorschlag Verfügung Zeit Kollege Vorschlag Situation Jahr Bundestagswahl Lage Begrenzung Größe Bundestag Bundestagswahl Herr Legislaturperiode Union Einigung Verständigung Wahlrecht Herr Einigung Spiegel“-Interview Herrn Geheimnis Unterschied Unterschied Vorschlag Herr Reduzierung Wahlkreise Herr Zeit Aufstellung Kandidat Bundestagswahl Wahlkreiszuschnitt Realität Herr Kollege Bundestag Fakt Vorschlag Opposition Weisheit Vorschlag Reduzierung Wahlkreise Eingriff Größe Wahlkreise Frage Liste Wahlkreis Wahlkreis Stadt Stadt Stadt Land Wahlkreis Drittel Fall Grund Reduzierung Wahlkreise Wort Präsenz Abgeordnete Wahlkreis Wahl Problem Bundestagswahl Reduzierung Wahlkreise Wahlkreisen Größe Bundestag Abgeordnete Größe Kappung Modell Opposition Ziel Bundestag Zahl Wahlkreise Wahlkreise Vergrößerung Wahlkreises Drittel Bundestag Grund Tisch Gespräch Ebene Fraktionsvorsitzende Bundestagswahl Jahr Kappung Einschnitt Neues Härte Abgeordnete Hinblick Ausgleichsmandate Fairness Herr Einsetzung Kommission Bundestagswahl Enddatum Ergebnis Kriterium Ablaufdatum Brückenmodell Standard Brücke Bundestagswahl Dank Dank Redner Stunde CDU / CSU-FraktionHerr Minister Beginn Ausführung Konjunkturpaket Maßnahme Mehrwertsteuersenkung Koalitionsfraktionen Kinderbonus Höhe Euro Paralleleinbringung Beschluss Kompensation Länderausgaben Land Teil Last Zug Steuerverteilung Freitag Gesetz Woche Juni Sondersitzung Frage Bundesregierung Verteilungsschlüssel Steuergesetz Stichwort Einkommensteuerverteilung Land Anteil Anteil Punkt Herr MinisterZusatzbemerkung Frage Besprechung Verfassungsorgan Ministerpräsidenten Land Gemeinde Anteil Steueraufkommen Finanzierung Kosten Konjunkturprogramms Bund DankHerr Präsident Kollegin Kollege Wahlrecht Recht Wähler Politik Zusammensetzung Bundestag Abgeordnete Wahlrecht Recht Veränderung Größe Bundestag Abgeordnete Pandemiebedingungen Vierteljahr Handlungsfähigkeit Antwort Land Gesundheitsschutz Maßnahme Woche Morgen Kohleausstieg Veränderung Wahlgesetzes SPD-Fraktion Deckelung Wachstum Bundestag Fraktion Ergänzung Wahlsystem Demokratie Teil Opposition Vorschlag Reduzierung Zahl Wahlkreise Wahlkreisen Reduzierung Anzahl Vergrößerung Wahlkreise muss betrachten Abstand Gewählte Wähler Folge Drittel Wahlkreis Repräsentanz Grund SPD-Fraktion Reduzierung Woche Kenntnis Moment Zurufe Herr Präsident Vorschlag Unionsfraktion Woche Sommerpause Fraktion Frage Wahlrechts Bewertung SPD-Fraktion Dienstagabend Uhr Uhr Entscheidung Unionsfraktion Mittwochmorgen Innenausschuss Entscheidung Monat Wahlsystem Gegensatz Fraktion Obergrenze Bundestag Vorschlag Opposition Situation Auseinanderklaffens Zweitstimmenergebnis Anzahl Abgeordnete Bundestag Abgeordnete Opposition Kenntnis Grund Modell Beibehaltung Wahlkreise Bundestagswahl Position Neues Herr Kuhle Bundeswahlleiter Information Partei Direktkandidaten Bundestagswahl Frage Repräsentanz Nähe Bevölkerung Abgeordnete Wahlkreisen Vorschlag Möglichkeit Überhangmandate Urteil Bundesverfassungsgerichts Überhangmandate Dämpfung Verzerrung Wahlergebnisses Zweitstimme Stimme Zusammensetzung Bundestag Abbildung Wählerwillens Wahl Wählerwille Überhangmandate Vorschlag Zustimmung Begrenzung Bundestag Regelgröße Abgeordnete Vorschlag Überhangmandate Bundesland Zweitstimmen Partei Wahlkreisgewinner Erststimmenergebnis Bundestag Vorschlag Jahr Repräsentanz Bevölkerung Größe Bundestag Bundestag Situation Bundestag Regelgröße Abgeordnete Jahr Monat Vorschlag Unionsfraktion Meinungsbildung Punkt Vorschlag Deckel Abgeordnete Blick Einsetzung Kommission Legislaturperiode Kommission Wahlrecht Wahlsystem Berücksichtigung Veränderung Möglichkeit Blick Modell Reduzierung Wahlkreise Punkt Jahr Einführung Frauenwahlrechts Liste Partei Vorschlag Oppositionsmodellen Kollegin Kollege Grüne Linke Stelle Koalitionspartner Meinungsbildung Konsensfindung Debatte Argument Gespräch September Entscheidung Dank Wort Kurzintervention Kollege Fraktion LinkeDank Herr Bundesfinanzminister Frage Lobbyregister Woche Lesung Gesetzentwurf Lobbyregister Bundestag Bundestag Abgeordnete Transparenz Herr Bundestagspräsident Transparenz Einflussnahme Gesetzgebung Wertung ganz Frage Mitglied Bundesregierung Maßnahme Bundestag Gesetzgeber BundesregierungHerr Präsident Kollegin Kollege Sozialdemokrat Gesetzentwurf Bundestag Woche Kollege Jahr Bundestag Einflussnahme Gesetzgebung Handeln Regierung Parlament Transparenz Abgeordnete Termin Gesetz Kodex Transparenzregister Lobbyist Bundestag Koalition Bundesregierung dauern Kollegin Land Koalitionsvertrag Gesetz Antrag Antrag Schwarz-Grün Stein Bundestag Schritt Herr Vorschlag Transparenz Lobbyismus Vorschlag Gesetzentwurf Zwischenfrage Kollege Zeitersparnis Haushälter Kollege Vorschlag Kollege mussten Gesetzentwurf Stelle Kollege Vorschlag Loch Käse Gewerkschaft Interessenvertreter Lobbyist Kirche Interessenvertreter Lobbyist Arbeitgeber Interessenvertreter Lobbyist Vorschlag Vorschlag Debatte Herr Rede Gesetzgebungsvorschlag Bedarf Lobbyismus Einflussnahme Gesetzgebung Regierung Parlament transparent Gesetzentwurf Abschluss Transparenz Stück Demokratie Unwucht Finanzmittel Verband Automobilindustrie beschäftigt Million Alleinerziehende Interesse Verband Aufgabe Abgeordnete Beispiel Interesse Alleinerziehende Parlament Interesse Durchsetzung Dank Redner Debatte Kollege CDU / CSU-FraktionHerr Präsident Kollegin Kollege Uhr Gesetz Bevölkerungsschutzgesetz Herr Kollege Demonstration Aufruf Fraktion Eingang Gesetzgeber Arbeit Dame Herr Polizistin Polizist Bundesländern Job Gelegenheit Arbeit Angst Sorge Mensch Auftritt Institution Bundestag Institution Verfassung Bundesrat Dreck Verfahren Pandemielage Rahmen Gepflogenheit Lesung Sitzungswoche Gelegenheit Gesetzentwurf § Fraktion Woche Anhörung Kollegin Kollege Opposition Änderung Koalition Folgendes § Pandemie Kenntnis Sachverständige Debatte Parlament Prozess Irreführung Demokratie Stimme Reihe Gerede Verächtlichmachen Parlament Ding Bezug Jahr Ermächtigung Keyword Herr Vergleich Ermächtigungsgesetz Sozialdemokrat Fraktion Mitglied Reichstag Krolloper Spalier Tod Sozialdemokrat Ermächtigungsgesetz Kommunist KZ Dame Herr Leute Parallelen Demokratie Dank Wortmeldungen GeschäftsordnungFrau Präsidentin Kollegin Kollege Herr Münzenmaier Beihilfe Körperverletzung Hooligan Anzug Partei Redner Generaldebatte Zukunft Land Partei Rechtsextremismus Bundeshaushalt Linie Kollegin Frage Pandemie Gesundheitslage Frage Unterschied Partei Denkschulen Bundestagswahl Rolle Sozialdemokrat Umstand Bundesregierung Krise Finanzministerium Finanzminister Belastung Krise Intervention Staat Kreditaufnahme Jahrzehnt Einnahme Ausgabe Polster Wesenskern Finanzpolitik Schulde Staat Kraft Sicherheit Sozialstaat Teil Union Herrn Rezept 80ern Videokassette Politik Sozialstaat Zweifel Zusammenhang Kurzarbeitergeld Frau Verpflichtung Weiterbildung Unternehmen Möglichkeit Zusammenhang Verlängerung Kurzarbeitergeldes Stichwort Qualifizierungschance Zukunft Politik EU-Kommission recht Impuls Kreditaufnahme Transformation Wasserstoff Technologie Digitalisierung Alternative Debatte Herr Antrag Landesregierung Bundestag Bundestag Bundestag Wirtschaftshilfen Milliarde Euro Koalition Verfügung Wirtschaftshilfen November Dezember Überbrückungshilfen Kneipier Gaststätte Umsatz Auflage Mittel Höhe Milliarde Euro Verfügung Finanzminister Zweifel Möglichkeit Mittel Hilfe Milliarde Euro Kneipier Zweifel Hälfte Geld Teil Politik Steuerpolitik Januar Soli Prozent Beschäftigte Politik Programm Wachstumsimpuls Binnennachfrage Prozent Superreichen Jetset-Generation Steuer Milliarde Euro Kneipier Ecke Jetset-Publikum Glückwunsch Demagogie Politik Herr Verantwortung Bundesland Koalition Bundesvorsitzenden Kreditaufnahme Bundesländer Kopf Haushalt Zeitraum Schulde Jahr Jahr Zeit Zeit Bundestag Kollegin Kollege Bundesregierung Hand Investition Verfügung Transformation Wirtschaft Hand Kanzlerin Finanzminister Unternehmen Schwierigkeit Umsatzerstattung Handelsunternehmen Sicht Fixkosten Krise Schulde Wirtschaft Finanz Dank Wort Abgeordnete Fraktion LinkeHerr Präsident Kollegin Kollege Bundesgesundheitsminister Regierungserklärung Impfstart Gelegenheit Aussprache Situation Mutation Coronavirus Ansteckungsgefahr Infiziertenzahlen Wettlauf Zeit Wettlauf Zeit Menschenleben Wettlauf Leben Einschränkung Kind Familie Kompetenz Ding Voraussetzung Veranstaltung Konzentration Lichtblick Lichtblick Impfstoff SPD-Fraktion Herr Alleingang Beschaffung Impfstoff Land Zugang Punkt Demokratie Entscheidung EU-Kommission Ressortverantwortung Bundesgesundheitsminister Vorsitzender Gesundheitsministerrates Jahr Kernaufgabe Parlament Debatte Bundestag Angebot BioNTech Pfizer Million Impfdosen Menge Verfügung Abgeordnete Bundestag Fraktion Menge Gefahr Kosten Schließen Herunterfahren Land Kosten Beschaffung Impfstoff Lappalie Lappalie Einverständnis Dame Herr Kritik Gegenteil Kritik Entscheidung Hinterfragen Entscheidung Dame Herr SPD-Fraktion Priorität impfen Impfstoff Herr Jahr Sommer Impfung Impfstoff Hochfahren Industriekapazitäten Ding Bestellung EU-Kommission Halbjahr Herbst Jahr Verfügung Mensch Land Dame Herr Entscheidung Relevanz Land Bundestag Linie SPD-Fraktion Kraftanstrengung Kapazität Herr Tag Produktion Verfügung Frau Tagesspiegel Impfgipfel Ausweitung Kapazität Dame Herr Argumentation Form Fraktionsvorsitzende Ausweitung Übrigen Ministerpräsident Vorschlag Punkt Begleitung Pandemie Zeit Entscheidung Kabinett Sequenzierung Einreiseverordnung Staat Risikogebiet Test Mutation Dezember Reisende Leute Geld Winter Sommerurlaub Land Teil Einschränkung Sequenzierung Frau Kollegin Zuruf Grüne Regierungssprecher Oppositionspolitik Land Sequenzierung Verordnung Fachressortminister Stelle Recht Vorschlag Dame Herr Dank Aufmerksamkeit RednerFrau Präsidentin Kollegin Kollege Abend Uhr Beratung Bundestag Lobbyregister Tag Bundestag Bundesregierung Form Transparenz Vertrauen Demokratie Teil Punkt Antrag Linksfraktion Frage Abgeordnete Mittelpunkt Mandat Nebentätigkeiten Kollegin Kollege Grund Transparenz SPD-Fraktion Bundestag Unionsfraktion Rede Herr Kollege Respekt Fraktion Kollegin Kollege Aasgeiermanier Krise Geschäft Schritt Einigung Frage Transparenz Offenlegung Nebentätigkeiten Ehre Abgeordneter Wahlkreis Ehre Respekt Unabhängigkeit Bezahlung Euro Jahr Diät Geld Prozent Verdiener Bevölkerung Mandat Mittelpunkt Einfluss Abgeordnete Abgeordnete Grund Sitzungswoche Gesetzentwurf Abgeordnetengesetz Verhaltensregeln Hut Grenze Euro Monat Euro Jahr Unterschreitung Auftraggeber Forderung Anfang Pflicht Cent Nebeneinkünfte Mehrheit Haus Punkt Unternehmensbeteiligung Fall Abgeordnete Hauptmann Republik Entsetzen Krise Beteiligung Unternehmen Ehrenerklärung Unionsfraktion Gewinn Unternehmen Anzeigepflicht Fall Abgeordneter Abgeordnete Unternehmen Beteiligungsquote Prozent AG GmbH GbR OHG Schritt Transparenz Thesaurierung Gewinn Ende Abgeordnetentätigkeit Verbot Lobbytätigkeit Bundestagsabgeordneten Mandat Einstufung Abgeordnetenbestechung Verbrechen Schritt Verfehlung Einzelner Kompass Haus Haus Reputation Abgeordnete Unionsfraktion Mitleidenschaft Dank Wort Dr. FDP-FraktionMorgen Frau Kollegin Kollege Freitagmorgen Uhr Kernzeit Bundesfinanzminister Nachtragshaushalt Bund Beitrag Stabilisierung Volkswirtschaft Minute Debattenzeit Herr Arbeit Mittwoch Mitternacht Uhr Gesetz Woche Bundestag Manier Aussprache Gelegenheit Haushaltsausschuss Frage Frage Antwort Möglichkeit Ministerium Einzelpläne Gesundheit Wirtschaft Energie Frage Sondersitzung Bundesfinanzminister Bundesfinanzminister Gesetzentwurf Transparenz Kollegin Kollege Entscheidung Sand Getriebe Bundeshaushalt Hilfe Familie Schülerin Schüler Lernbedingungen Veränderung Vorschlag Obstruktion Bundestag Kern Debatte Entscheidung Dank Dank Abstimmung Geschäftsordnungsantrag AfD-Fraktion Antrag Enthaltung Geschäftsordnungsantrag AfD-Fraktion Fraktion Haus Debattendauer Minute Debatte Redner Wort Bundesminister BundesregierungHerr Präsident Kollegin Kollege Beginn Dank Herr Kollege Erarbeitung Antrag Stiftungsentwurfes Ding Überzeugungsarbeit Fraktion Fraktion Gesetzentwurf Jahr Beschluss Stiftung Ort Demokratiegeschichte Aktivität Licht Demokratie Volk Volk Liberale Sozialdemokrat Kommunist Land Epoche Leben Kaiserzeit Nationalsozialismus Bundesrepublik Frau Bedingung Gemeinschaft Land Demokratie Binsenweisheit Erinnerung Ding Geschichte Blick Seite Erinnerungskultur Verantwortung Kollege Gedenkstättenkonzept Weise Land Welt Recht Volk Jahrhundert Leid Welt Sternstunden Nationalversammlung Fest Zentrum Arbeiterbewegung Widerstandsbewegung Kollege Leben Bündelung Ort Beispiel Teil Engagement Bedeutung Verantwortung Bundestag Bundestagsabgeordnete Verantwortung Ort Mensch Aufmerksamkeit Unterstützung Herr Gesetzentwurf Förderkonzeption Ort Demokratiegeschichte Jüngere Tag Demokratie Stiftung Hülle Rahmen Ort Dank Unterstützung Gute Dank Dank Herr Kollege AusspracheHerr Präsident Kollegin Kollege Jahr Parlamentarier Leute Stadt Deutsche Verbrechen Weltkriegs Kollegin Kollege Belagerung Million Mensch Stadt Jahr Russe Möglichkeit Dialog Deutsche Frau Geschichtsunterricht Bild Ding Blickwinkel Erfahrung Affinität Nähe Person Dorf Nähe Stützpunkt Soldat Diesel Nahrungsmittel Bild Ding Leistung Mensch Staat Deutsche Überfall Krieg Name Fraktion Opfer Band Kriegsgeschichte Zukunft Band Kulturgeschichte Kultur Maß Kulturgeschichte Jahr Jahr Weg Einbindung Sowjetrepubliken Distanz Regierung Autokraten Dialog Spirale Eskalation Sanktion Nichtdialogs Sprachlosigkeit Russland Gesprächsfaden muss Rede Haus Partner Eindruck Russland Kopf Interesse Politik Lehre Geschichte Kollegin Kollege Vorbild Haltung Wort Grund Russland Sowjetrepubliken Verhältnis Geografie Hälfte Kontinent Teil Folge Interesse Interesse Verhältnis Kontinent Interesse Kollegin Kollege Austausch Gebot Vergangenheit Zukunft Jahrestag Krieg Friede Zusammenarbeit Friede Abrüstung Zusammenarbeit Respekt Austausch Gespräch Unterschied Verantwortung Friede Kontinent Unterschied Verantwortung Weise Lehre Juni Dank Redner KollegeFrau Präsidentin Kollegin Kollege Bundestag Ort Auseinandersetzung Herr Brandner Insinuieren Geschäft Ehemanns Herrn Beweis Beleg Verleumdung Sauerei Schärfe Gesundheitsminister Person Angehörige Beleg Punkt Vorgang Maske Bilanz Gesundheitsministers Koalition Herr Ziemiak Maskenvorgang Sozialdemokrat Gruppe Leute Geld Schutz Obdachloser Arbeitslosengeld-II-Empfänger Schutzausrüstung FFP2-Schutzmasken Maske Schutzstandards Vorkehrung Verfügung Maske Sozialministerium Maske Reserve Standard Verfügung Entscheidung Kante Stunde Vorgang Leistungsbilanz Person Stunde Antrag Linke Erster Koalition Coronapandemie Fehler Grund Herr Spahn Beginn Pandemie Bundestag Regierungsbefragung Ressort Kritikpunkte Einschätzung Impfstoffbeschaffung Ebene Teil Herr Gesundheitsminister Federführung Monat Impfstoff Testverordnung Herr Ziemiak Milliarde Herr Spahn Mitte Februar März Test April Konsequenz Preis Euro Kontrolle Einladung Selbstbedienung Fehler Geld Haushaltspolitiker Koalition Teil Einladung Betrug Ding Kosten Verantwortung Herr Sozialdemokrat Gegenteil Zweite Impfangebot Kind Impfstoff Enttäuschung Erwartungsmanagement Politik Satz Koalition Debatte Veröffentlichung Partei Fraktion Regierung Herr Kollege Kollege Fraktion Beschluß Kabinett Abschluss Bundestag Wehrhafte-Demokratie-Gesetz Kinderrechte Grundgesetz Streichung Rassebegriffs Unternehmenssanktionsrecht Aufteilung Erhöhung Vermieter Mieter Kabinett Bundeskanzlerin Fraktion Bundestag Entfernung Regierungsfähigkeit Entfremdung Regierung September Jahr Opposition Dank Dank Rednerin Fraktion LinkeFrau Haushaltsbeschluss Finanzplanung Kabinett Haushaltsentwurf Jahr Nettokreditaufnahme Milliarde Euro Legislatur Kreditaufnahmen Konsolidierungsbedarf Parteivorsitzenden Ministerpräsidenten Herrn Söder Herrn Bundestagswahl Kassensturz Misstrauen Kabinett Führung Herrn Finanzminister Forderung Ministerpräsidenten Finanzplanung BundFrau Dank Buch Ministerpräsidenten Verfügung Dokument Frage Konsolidierungsbedarf Nettokreditaufnahme Jahr FinanzplanungDank Herr Kollege Kollege Großzügigkeit Redner Kollege SPD-Fraktion Herr Präsident Dank Einladung Legislaturperiode Ende Coronasituation Bundesrepublik Gesundheitsschutz Erhalt Arbeitsplätzen Balance Land Legislatur Million Mensch Grundrente Soli Prozent Steuerzahler Steuersenkung Jahrzehnt Vorschlag Kurzarbeitergeld Transfereinkommen Familie Leben Kindergeld Kinderbonus Kinderzuschlag Ordnungspolitik Lobbykraft Industrie Wille Teil Unionsfraktion Lieferkettengesetz Herr Ministerpräsident Wirtschaftskompetenz Eindruck Wirtschaftskompetenz Lobbyismus Wirtschaftsverbände Interesse Politik Zweites Ausblick Finanzsituation Unionswahlprogramm Abschaffung Solis Zehntausend Jahreseinkommen Euro Steuer Milliarde Euro Unternehmen Steuer Lücke Milliarde Euro Kosten Erfüllung NATO-Quote Milliarde Euro Haushalt Haushalt Substanz Jahr Asylrücklage Mathematik Kollege Lücke Wahl Leistung Wahl Wahlversprechen Papier Herr Laschet Ziel Aufstieg Bildung NRW-Zahlen Pro-Kopf-Ausgaben Grundschüler Vergleich Platz Vorbild Schulde Jahr Milliarde Euro Neuverschuldung Eindruck Folgendes Bundestag Finanzminister Schulde Jahr Jahr Jahr Vorzeigeland Schulde Höhe Tilgung Herr Ministerpräsident Jahr Bundesland Zeit Schulde Dame Herr Voodoo Punkt Situation Energiepreisen Wahlprogramm Satz Benzin Heizöl Gas Straffung Preispfades Übergang Marktphase Erhöhung Kompensation Leute Einkommen Dame Herr Lobbyismus Union Abschluss Kollege Umfrageergebnisse Panik Unsouveränität Frau Abgeordneter Rolle CDU-Generalsekretärin mussten Dank Herr Kollege Wahlkampfreden Kollege Redner Wort Kollege Fraktion Linke', 'vec_numbers': array([0., 0., 0., ..., 0., 0., 0.]), 'maxTFIDF': 'sozialdemokrat'}\n"
     ]
    }
   ],
   "source": [
    "print(graph['nodes'][1])"
   ]
  },
  {
   "cell_type": "markdown",
   "metadata": {},
   "source": [
    "Überführt den Graphen in einen Graphen, der mithilfe von Gephi verarbeitet werden kann."
   ]
  },
  {
   "cell_type": "code",
   "execution_count": 60,
   "metadata": {},
   "outputs": [
    {
     "name": "stdout",
     "output_type": "stream",
     "text": [
      "nodes done\n",
      "links done\n"
     ]
    }
   ],
   "source": [
    "import networkx as nx\n",
    "\n",
    "graphforgephi = nx.Graph()\n",
    "for node in graph['nodes']:\n",
    "    graphforgephi.add_node(node['id'],name=node['name'],party=node['party'],msw=node['maxTFIDF'],nReden=node['nReden'],nWorte=node['nWorte']);\n",
    "    #if(node['name'] == 'Angela Merkel'):\n",
    "    #    print(node['tops'])\n",
    "\n",
    "print('nodes done')\n",
    "for link in graph['links']:\n",
    "    if link['weight'] >= 0.25:\n",
    "        graphforgephi.add_edge(link['source'],link['target'],weight = link['weight'], community=0)\n",
    "print('links done') "
   ]
  },
  {
   "cell_type": "markdown",
   "metadata": {},
   "source": [
    "Berechnet die vorhandenen Nachbarschaften im Graohen anhand des Louivain-Algorithmusses und fügt sie den Knoten hinzu."
   ]
  },
  {
   "cell_type": "code",
   "execution_count": 61,
   "metadata": {},
   "outputs": [
    {
     "name": "stdout",
     "output_type": "stream",
     "text": [
      "\n"
     ]
    }
   ],
   "source": [
    "print(graphforgephi)"
   ]
  },
  {
   "cell_type": "code",
   "execution_count": 62,
   "metadata": {},
   "outputs": [],
   "source": [
    "import community as community_louvain\n",
    "# compute the best partition\n",
    "partition = community_louvain.best_partition(graphforgephi)"
   ]
  },
  {
   "cell_type": "code",
   "execution_count": 63,
   "metadata": {},
   "outputs": [],
   "source": [
    "#Update der Knoten mit der dazugehörigen community\n",
    "for i,node in enumerate(graphforgephi):\n",
    "    graphforgephi.add_node(node, partition_val=list(partition.values())[i])"
   ]
  },
  {
   "cell_type": "code",
   "execution_count": 64,
   "metadata": {},
   "outputs": [
    {
     "name": "stdout",
     "output_type": "stream",
     "text": [
      "save done\n"
     ]
    }
   ],
   "source": [
    "#speichern des Graphen, damit er in Gephi genutzt werden kann\n",
    "nx.write_gexf(graphforgephi, \"graphforgephi_08_v2.gexf\")\n",
    "print('save done')"
   ]
  },
  {
   "cell_type": "markdown",
   "metadata": {},
   "source": [
    "#### Berechnen der msw pro partition"
   ]
  },
  {
   "cell_type": "code",
   "execution_count": 65,
   "metadata": {},
   "outputs": [],
   "source": [
    "#fügt die entsprechende Community dem parlamentarier_vec datensatz hinzu\n",
    "for i, parla in enumerate(parlamentarier_vec):\n",
    "    parla.update({'partition':list(partition.values())[i]})"
   ]
  },
  {
   "cell_type": "code",
   "execution_count": 66,
   "metadata": {},
   "outputs": [],
   "source": [
    "import collections\n",
    "c_partitions = collections.Counter(partition.values())"
   ]
  },
  {
   "cell_type": "code",
   "execution_count": 67,
   "metadata": {},
   "outputs": [],
   "source": [
    "text_partition = {'part_val': [],\n",
    "                 'text_list':[]}\n",
    "\n",
    "#erstellt für jede Community einen String, mit allen Texten von den Parlamentariern, die in einer Community sind. \n",
    "for partition in c_partitions.keys():\n",
    "    if c_partitions[partition] > 10:\n",
    "        hilf = ''\n",
    "        for parla in parlamentarier_vec:\n",
    "            if partition == parla['partition']:\n",
    "                hilf = hilf + parla['text']\n",
    "        text_partition['part_val'].append(partition)\n",
    "        text_partition['text_list'].append(hilf)"
   ]
  },
  {
   "cell_type": "code",
   "execution_count": 68,
   "metadata": {},
   "outputs": [],
   "source": [
    "vectorizer = TfidfVectorizer(max_df=0.80, min_df=2/len(c_partitions.keys()))"
   ]
  },
  {
   "cell_type": "code",
   "execution_count": 69,
   "metadata": {},
   "outputs": [],
   "source": [
    "tf_idf_matrix  = vectorizer.fit_transform(text_partition['text_list'])"
   ]
  },
  {
   "cell_type": "code",
   "execution_count": 70,
   "metadata": {},
   "outputs": [
    {
     "data": {
      "text/plain": [
       "<9x129178 sparse matrix of type '<class 'numpy.float64'>'\n",
       "\twith 223158 stored elements in Compressed Sparse Row format>"
      ]
     },
     "execution_count": 70,
     "metadata": {},
     "output_type": "execute_result"
    }
   ],
   "source": [
    "tf_idf_matrix"
   ]
  },
  {
   "cell_type": "code",
   "execution_count": 71,
   "metadata": {},
   "outputs": [
    {
     "name": "stdout",
     "output_type": "stream",
     "text": [
      "gefährder 1\n",
      "mindestlohns 2\n",
      "südsudan 8\n",
      "pflegeversicherung 6\n",
      "bafin 16\n",
      "bäuerin 10\n",
      "erneuerbaren 13\n",
      "mikrogramm 14\n",
      "kinderzuschlag 22\n"
     ]
    }
   ],
   "source": [
    "for i, text in enumerate(text_partition['text_list']):\n",
    "    \n",
    "    vec_numbers = np.array(tf_idf_matrix.getrow(i).toarray()[0])\n",
    "    msw = list(vectorizer.vocabulary_.keys())[list(vectorizer.vocabulary_.values()).index(np.argmax(vec_numbers))]\n",
    "    print(msw, text_partition['part_val'][i])"
   ]
  },
  {
   "cell_type": "markdown",
   "metadata": {},
   "source": [
    "Diese Ergebnisse sind auf jeden Fall glaube ich nicht so aussagekräftig, wie wenn wir uns selbst passende Themen überlegen. Ist aber vielleicht trotzdem ganz interessant :) \n",
    "Die Zahl hinter dem Wort, entspricht der Nummer der nachbarschaft. Das hilft ganz gut, wenn wir in Gephi die Knoten entsprechend Partition_val einfärben."
   ]
  },
  {
   "cell_type": "code",
   "execution_count": null,
   "metadata": {},
   "outputs": [],
   "source": []
  },
  {
   "cell_type": "code",
   "execution_count": null,
   "metadata": {},
   "outputs": [],
   "source": []
  },
  {
   "cell_type": "code",
   "execution_count": null,
   "metadata": {},
   "outputs": [],
   "source": []
  }
 ],
 "metadata": {
  "kernelspec": {
   "display_name": "Python 3",
   "language": "python",
   "name": "python3"
  },
  "language_info": {
   "codemirror_mode": {
    "name": "ipython",
    "version": 3
   },
   "file_extension": ".py",
   "mimetype": "text/x-python",
   "name": "python",
   "nbconvert_exporter": "python",
   "pygments_lexer": "ipython3",
   "version": "3.7.3"
  }
 },
 "nbformat": 4,
 "nbformat_minor": 4
}
