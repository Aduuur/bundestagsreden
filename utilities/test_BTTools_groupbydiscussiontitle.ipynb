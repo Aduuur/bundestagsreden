{
 "cells": [
  {
   "cell_type": "code",
   "execution_count": 1,
   "metadata": {},
   "outputs": [],
   "source": [
    "\n",
    "\n",
    "import json\n",
    "\n",
    "with open('../data/speeches_20_withcomments.jsonl', 'r', encoding='utf8') as fp:\n",
    "    data = list(fp)\n",
    "speeches = []\n",
    "for line in data:\n",
    "    speeches.append(json.loads(line))\n",
    "\n",
    "\n",
    "import os\n",
    "import sys\n",
    "module_path = os.path.abspath(os.path.join('../'))\n",
    "if module_path not in sys.path:\n",
    "    sys.path.append(module_path)\n",
    "\n",
    "from utilities.BTTools import groupSpeechesByDiscussionTitle "
   ]
  },
  {
   "cell_type": "code",
   "execution_count": 2,
   "metadata": {},
   "outputs": [
    {
     "data": {
      "text/plain": [
       "208"
      ]
     },
     "execution_count": 2,
     "metadata": {},
     "output_type": "execute_result"
    }
   ],
   "source": [
    "newdata = groupSpeechesByDiscussionTitle(speeches)\n",
    "len(newdata)"
   ]
  },
  {
   "cell_type": "code",
   "execution_count": 3,
   "metadata": {},
   "outputs": [
    {
     "data": {
      "text/plain": [
       "dict_keys(['Tagesordnungspunkt 2 2021-10-26', 'Tagesordnungspunkt 3 2021-10-26', 'Tagesordnungspunkt 5 2021-10-26', 'Tagesordnungspunkt 6 2021-10-26', 'Tagesordnungspunkt 1 2021-11-11', 'Tagesordnungspunkt 3 2021-11-11', 'Tagesordnungspunkt 4 2021-11-11', 'Tagesordnungspunkt 5 2021-11-11', 'Tagesordnungspunkt 6 2021-11-11', 'Tagesordnungspunkt 7 2021-11-11', 'Zusatzpunkt 2 2021-11-11', 'Tagesordnungspunkt 1 2021-11-18', 'Zusatzpunkt 1 2021-11-18', 'Tagesordnungspunkt 3 2021-11-18', 'Tagesordnungspunkt 4 2021-11-18', 'Tagesordnungspunkt 5 2021-11-18', 'Zusatzpunkt 2 2021-11-18', 'Tagesordnungspunkt 1 2021-12-07', 'Tagesordnungspunkt 2 2021-12-08', 'Tagesordnungspunkt 3 2021-12-08', 'Tagesordnungspunkt 5 2021-12-08', 'Tagesordnungspunkt 8 2021-12-09', 'Tagesordnungspunkt 9 2021-12-09', 'Tagesordnungspunkt 10 2021-12-09', 'Tagesordnungspunkt 11 2021-12-09', 'Zusatzpunkt 1 2021-12-09', 'Zusatzpunkt 2 2021-12-09', 'Tagesordnungspunkt 13 2021-12-10', 'Tagesordnungspunkt 1 2021-12-15', 'Tagesordnungspunkt 3 2021-12-16', 'Tagesordnungspunkt 4 2021-12-16', 'Tagesordnungspunkt 5 2021-12-16', 'Tagesordnungspunkt 6 2021-12-16', 'Tagesordnungspunkt 7 2021-12-16', 'Tagesordnungspunkt 8 2021-12-16', 'Tagesordnungspunkt 9 2021-12-16', 'Zusatzpunkt 2 2021-12-16', 'Zusatzpunkt 3 2021-12-16', 'Tagesordnungspunkt 1 2022-01-12', 'Tagesordnungspunkt 2 2022-01-12', 'Tagesordnungspunkt 2 2022-01-13', 'Zusatzpunkt 3 2022-01-13', 'Tagesordnungspunkt 2 2022-01-14', 'Zusatzpunkt 4 2022-01-14', 'Tagesordnungspunkt 1 2022-01-26', 'Tagesordnungspunkt 3 2022-01-26', 'Zusatzpunkt 1 2022-01-27', 'Tagesordnungspunkt 5 2022-01-27', 'Tagesordnungspunkt 6 2022-01-27', 'Tagesordnungspunkt 7 2022-01-27', 'Zusatzpunkt 2 2022-01-27', 'Tagesordnungspunkt 8 2022-01-27', 'Tagesordnungspunkt 9 2022-01-27', 'Tagesordnungspunkt 6 2022-04-07', 'Zusatzpunkt 2 2022-04-07', 'Tagesordnungspunkt 8 2022-04-07', 'Tagesordnungspunkt 9 2022-04-07', 'Tagesordnungspunkt 25 2022-04-07', 'Tagesordnungspunkt 11 2022-04-07', 'Tagesordnungspunkt 12 2022-04-07', 'Tagesordnungspunkt 13 2022-04-07', 'Tagesordnungspunkt 23 2022-04-07', 'Tagesordnungspunkt 15 2022-04-07', 'Tagesordnungspunkt 16 2022-04-07', 'Tagesordnungspunkt 14 2022-04-07', 'Tagesordnungspunkt 17 2022-04-07', 'Zusatzpunkt 5 2022-04-07', 'Tagesordnungspunkt 2 2022-02-16', 'Zusatzpunkt 1 2022-02-16', 'Tagesordnungspunkt 6 2022-02-17', 'Tagesordnungspunkt 7 2022-02-17', 'Tagesordnungspunkt 8 2022-02-17', 'Tagesordnungspunkt 9 2022-02-17', 'Tagesordnungspunkt 10 2022-02-17', 'Tagesordnungspunkt 11 2022-02-17', 'Tagesordnungspunkt 12 2022-02-17', 'Tagesordnungspunkt 13 2022-02-17', 'Tagesordnungspunkt 14 2022-02-17', 'Tagesordnungspunkt 15 2022-02-17', 'Tagesordnungspunkt 16 2022-02-17', 'Tagesordnungspunkt 17 2022-02-17', 'Zusatzpunkt 5 2022-02-17', 'Tagesordnungspunkt 27 2022-02-17', 'Tagesordnungspunkt 19 2022-02-18', 'Tagesordnungspunkt 20 2022-02-18', 'Tagesordnungspunkt 21 2022-02-18', 'Tagesordnungspunkt 22 2022-02-18', 'Tagesordnungspunkt 23 2022-02-18', 'Zusatzpunkt 11 2022-02-18', 'Tagesordnungspunkt 25 2022-02-18', 'Zusatzpunkt 13 2022-02-18', 'Tagesordnungspunkt 1 2022-02-27', 'Tagesordnungspunkt 1 2022-03-16', 'Tagesordnungspunkt 2 2022-03-16', 'Zusatzpunkt 3 2022-03-16', 'Zusatzpunkt 4 2022-03-16', 'Tagesordnungspunkt 4 2022-03-16', 'Zusatzpunkt 5 2022-03-16', 'Zusatzpunkt 6 2022-03-16', 'Tagesordnungspunkt 6 2022-03-17', 'Tagesordnungspunkt 7 2022-03-17', 'Tagesordnungspunkt 8 2022-03-17', 'Tagesordnungspunkt 9 2022-03-17', 'Zusatzpunkt 8 2022-03-17', 'Tagesordnungspunkt 11 2022-03-17', 'Tagesordnungspunkt 12 2022-03-17', 'Tagesordnungspunkt 13 2022-03-17', 'Tagesordnungspunkt 14 2022-03-17', 'Tagesordnungspunkt 15 2022-03-17', 'Zusatzpunkt 9 2022-03-17', 'Tagesordnungspunkt 17 2022-03-17', 'Tagesordnungspunkt 18 2022-03-17', 'Zusatzpunkt 12 2022-03-17', 'Tagesordnungspunkt 19 2022-03-17', 'Zusatzpunkt 14 2022-03-17', 'Tagesordnungspunkt 21 2022-03-18', 'Tagesordnungspunkt 22 2022-03-18', 'Tagesordnungspunkt 23 2022-03-18', 'Tagesordnungspunkt 24 2022-03-18', 'Tagesordnungspunkt 25 2022-03-18', 'Tagesordnungspunkt 26 2022-03-18', 'Zusatzpunkt 20 2022-03-18', 'Tagesordnungspunkt 1 2022-03-22', 'Einzelplan 08 2022-03-22', 'Einzelplan 25 2022-03-22', 'Einzelplan 16 2022-03-22', 'Einzelplan 12 2022-03-22', 'Einzelplan 4 2022-03-23', 'Einzelplan 5 2022-03-23', 'Einzelplan 14 2022-03-23', 'Einzelplan 23 2022-03-23', 'Einzelplan 9 2022-03-24', 'Einzelplan 15 2022-03-24', 'Einzelplan 7 2022-03-24', 'Einzelplan 6 2022-03-24', 'Einzelplan 10 2022-03-24', 'Einzelplan 30 2022-03-24', 'Tagesordnungspunkt 1 2022-03-25', 'Einzelplan 11 2022-03-25', 'Einzelplan 17 2022-03-25', 'Tagesordnungspunkt 3 2022-03-25', 'Tagesordnungspunkt 1 2022-04-06', 'Zusatzpunkt 1 2022-04-06', 'Tagesordnungspunkt 3 2022-04-06', 'Tagesordnungspunkt 4 2022-04-06', 'Tagesordnungspunkt 5 2022-04-06', 'Tagesordnungspunkt 19 2022-04-08', 'Tagesordnungspunkt 7 2022-04-08', 'Tagesordnungspunkt 21 2022-04-08', 'Tagesordnungspunkt 22 2022-04-08', 'Zusatzpunkt 3 2022-04-08', 'Tagesordnungspunkt 1 2022-04-27', 'Tagesordnungspunkt 2 2022-04-27', 'Zusatzpunkt 1 2022-04-27', 'Tagesordnungspunkt 4 2022-04-27', 'Tagesordnungspunkt 5 2022-04-27', 'Zusatzpunkt 2 2022-04-27', 'Zusatzpunkt 3 2022-04-28', 'Tagesordnungspunkt 13 2022-04-28', 'Tagesordnungspunkt 7 2022-04-28', 'Tagesordnungspunkt 10 2022-04-28', 'Zusatzpunkt 7 2022-04-28', 'Tagesordnungspunkt 9 2022-04-28', 'Tagesordnungspunkt 15 2022-04-28', 'Tagesordnungspunkt 12 2022-04-28', 'Tagesordnungspunkt 17 2022-04-28', 'Tagesordnungspunkt 14 2022-04-28', 'Tagesordnungspunkt 19 2022-04-28', 'Tagesordnungspunkt 16 2022-04-28', 'Tagesordnungspunkt 18 2022-04-28', 'Tagesordnungspunkt 20 2022-04-29', 'Tagesordnungspunkt 23 2022-04-29', 'Tagesordnungspunkt 6 2022-04-29', 'Tagesordnungspunkt 24 2022-04-29', 'Tagesordnungspunkt 22 2022-04-29', 'Tagesordnungspunkt 1 2022-05-11', 'Zusatzpunkt 1 2022-05-11', 'Tagesordnungspunkt 3 2022-05-11', 'Tagesordnungspunkt 4 2022-05-11', 'Tagesordnungspunkt 5 2022-05-11', 'Tagesordnungspunkt 6 2022-05-11', 'Tagesordnungspunkt 7 2022-05-12', 'Tagesordnungspunkt 8 2022-05-12', 'Tagesordnungspunkt 9 2022-05-12', 'Tagesordnungspunkt 10 2022-05-12', 'Zusatzpunkt 5 2022-05-12', 'Tagesordnungspunkt 12 2022-05-12', 'Tagesordnungspunkt 26 2022-05-12', 'Tagesordnungspunkt 14 2022-05-12', 'Tagesordnungspunkt 15 2022-05-12', 'Tagesordnungspunkt\\xa016 2022-05-12', 'Zusatzpunkt 7 2022-05-12', 'Tagesordnungspunkt 18 2022-05-12', 'Tagesordnungspunkt 19 2022-05-12', 'Tagesordnungspunkt 20 2022-05-12', 'Tagesordnungspunkt 21 2022-05-12', 'Tagesordnungspunkt 22 2022-05-12', 'Tagesordnungspunkt 23 2022-05-12', 'Tagesordnungspunkt 24 2022-05-12', 'Zusatzpunkt 8 2022-05-12', 'Zusatzpunkt 9 2022-05-12', 'Tagesordnungspunkt 25 2022-05-13', 'Tagesordnungspunkt 13 2022-05-13', 'Tagesordnungspunkt 27 2022-05-13', 'Zusatzpunkt 10 2022-05-13', 'Tagesordnungspunkt 29 2022-05-13', 'Zusatzpunkt 11 2022-05-13', 'Tagesordnungspunkt 31 2022-05-13'])"
      ]
     },
     "execution_count": 3,
     "metadata": {},
     "output_type": "execute_result"
    }
   ],
   "source": [
    "newdata.keys()"
   ]
  },
  {
   "cell_type": "code",
   "execution_count": null,
   "metadata": {},
   "outputs": [],
   "source": []
  }
 ],
 "metadata": {
  "kernelspec": {
   "display_name": "Python 3",
   "language": "python",
   "name": "python3"
  },
  "language_info": {
   "codemirror_mode": {
    "name": "ipython",
    "version": 3
   },
   "file_extension": ".py",
   "mimetype": "text/x-python",
   "name": "python",
   "nbconvert_exporter": "python",
   "pygments_lexer": "ipython3",
   "version": "3.7.3"
  }
 },
 "nbformat": 4,
 "nbformat_minor": 4
}
