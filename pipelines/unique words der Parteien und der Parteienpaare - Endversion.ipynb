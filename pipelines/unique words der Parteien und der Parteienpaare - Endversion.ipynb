{
 "cells": [
  {
   "cell_type": "code",
   "execution_count": null,
   "id": "5465a505",
   "metadata": {},
   "outputs": [],
   "source": [
    "import json\n",
    "import matplotlib.pyplot as plt\n",
    "from wordcloud import WordCloud\n",
    "from PIL import Image\n",
    "import numpy as np"
   ]
  },
  {
   "cell_type": "markdown",
   "id": "5653bcb7",
   "metadata": {},
   "source": [
    "importieren der Reden und anwenden der Lemmata"
   ]
  },
  {
   "cell_type": "code",
   "execution_count": null,
   "id": "dd37a620",
   "metadata": {},
   "outputs": [],
   "source": [
    "def laden_alleReden():\n",
    "    \n",
    "    with open('../../data/speeches_preprocessed.json', 'r') as fp:\n",
    "        data = json.load(fp)\n",
    "    return data.copy()"
   ]
  },
  {
   "cell_type": "code",
   "execution_count": null,
   "id": "ca206d49",
   "metadata": {},
   "outputs": [],
   "source": [
    "alleReden = laden_alleReden()"
   ]
  },
  {
   "cell_type": "markdown",
   "id": "6feabee2",
   "metadata": {},
   "source": [
    "Reden nach Parteien sortieren und zu Parteitexten zusammenfügen"
   ]
  },
  {
   "cell_type": "code",
   "execution_count": null,
   "id": "1b0d6a75",
   "metadata": {},
   "outputs": [],
   "source": [
    "reden_gefiltert = {'CDU/CSU':[],\n",
    "                   'SPD':[],\n",
    "                   'AfD':[],\n",
    "                   'FDP':[],\n",
    "                   'BÜNDNIS 90/DIE GRÜNEN':[],\n",
    "                   'DIE LINKE':[],\n",
    "                   'fraktionslos':[],\n",
    "                   'Bremen':[]\n",
    "                  }\n",
    "for rede in alleReden:\n",
    "    rede['party']=rede['party'].replace(u'\\xa0', u' ')\n",
    "    if rede['party']=='Bündnis 90/Die Grünen':\n",
    "        rede['party']='BÜNDNIS 90/DIE GRÜNEN'\n",
    "    if rede['party']=='Fraktionslos':\n",
    "        rede['party']='fraktionslos'\n",
    "    \n",
    "    reden_gefiltert[ rede['party'] ].extend(rede['text_lem'])"
   ]
  },
  {
   "cell_type": "markdown",
   "id": "dc2e47df",
   "metadata": {},
   "source": [
    "Methode zum Erstellen von unique words von Einzelparteien und Parteipaaren"
   ]
  },
  {
   "cell_type": "code",
   "execution_count": null,
   "id": "abfee129",
   "metadata": {},
   "outputs": [],
   "source": [
    "def return_unique_words(partylist,word_dict):\n",
    "\n",
    "    andereworte = set()\n",
    "    parteienworte = set()\n",
    "    for key in word_dict.keys():\n",
    "        if key not in partylist:\n",
    "            andereworte = andereworte | set(word_dict[key])\n",
    "        else:\n",
    "            parteienworte = parteienworte | set(word_dict[key])\n",
    "    \n",
    "    #andereworte = set(andereworte)\n",
    "    #parteienworte = set(parteienworte)\n",
    "    \n",
    "\n",
    "    unique_words = parteienworte - andereworte\n",
    "    \n",
    "    return unique_words"
   ]
  },
  {
   "cell_type": "markdown",
   "id": "d7756c18",
   "metadata": {},
   "source": [
    "unique words Einzelpartei. Nachfolgend weiter bei Wordcounterliste für Einzelpartei"
   ]
  },
  {
   "cell_type": "code",
   "execution_count": null,
   "id": "26db8af3",
   "metadata": {},
   "outputs": [],
   "source": [
    "unique_words = return_unique_words(['DIE LINKE'],reden_gefiltert)"
   ]
  },
  {
   "cell_type": "code",
   "execution_count": null,
   "id": "9f02e17e",
   "metadata": {
    "scrolled": true
   },
   "outputs": [],
   "source": [
    "len(unique_words)"
   ]
  },
  {
   "cell_type": "markdown",
   "id": "d8bdcd16",
   "metadata": {},
   "source": [
    "unique words nach Parteien in Form von keys sortiert"
   ]
  },
  {
   "cell_type": "code",
   "execution_count": null,
   "id": "a31b9b12",
   "metadata": {},
   "outputs": [],
   "source": [
    "uw_all = {'SPD': return_unique_words('SPD',reden_gefiltert),\n",
    "'FDP': return_unique_words('FDP',reden_gefiltert),\n",
    "'CDU/CSU': return_unique_words('CDU/CSU',reden_gefiltert),\n",
    "'DIE LINKE': return_unique_words('DIE LINKE',reden_gefiltert),\n",
    "'BÜNDNIS 90/DIE GRÜNEN': return_unique_words('BÜNDNIS 90/DIE GRÜNEN',reden_gefiltert),\n",
    "'AfD': return_unique_words('AfD',reden_gefiltert)\n",
    "}"
   ]
  },
  {
   "cell_type": "markdown",
   "id": "f4e8fe7f",
   "metadata": {},
   "source": [
    "shared unique words von Parteipaaren"
   ]
  },
  {
   "cell_type": "code",
   "execution_count": null,
   "id": "47ed7ae5",
   "metadata": {},
   "outputs": [],
   "source": [
    "rows, cols = (len(uw_all), len(uw_all))\n",
    "suw = [[0 for i in range(cols)] for j in range(rows)]\n",
    "suw_words = [[0 for i in range(cols)] for j in range(rows)]\n",
    "for ix,p1 in enumerate(uw_all.keys()):\n",
    "    for jx,p2 in enumerate(uw_all.keys()):\n",
    "        if jx > ix:\n",
    "            print(p1,p2)\n",
    "            tmp = return_unique_words([p1,p2],reden_gefiltert) - return_unique_words(p1,reden_gefiltert) - return_unique_words(p2,reden_gefiltert)\n",
    "            suw_words[ix][jx] = tmp\n",
    "            suw[ix][jx] = len(tmp)\n",
    "            suw[jx][ix] = suw[ix][jx]\n",
    "print(suw)\n",
    "#0 SPD, 1 FDP, 2 CDU/CSU, 3 Linke, 4 Grüne, 5 AfD"
   ]
  },
  {
   "cell_type": "code",
   "execution_count": null,
   "id": "893ec283",
   "metadata": {},
   "outputs": [],
   "source": [
    "print(uw_all.keys())\n",
    "print(suw_words[0][1])\n",
    "suw"
   ]
  },
  {
   "cell_type": "markdown",
   "id": "a9353308",
   "metadata": {},
   "source": [
    "Wordcounterliste für Einzelpartei"
   ]
  },
  {
   "cell_type": "code",
   "execution_count": null,
   "id": "66cc995b",
   "metadata": {},
   "outputs": [],
   "source": [
    "uw_counter = [wort for wort in reden_gefiltert['DIE LINKE'] if wort in unique_words]"
   ]
  },
  {
   "cell_type": "markdown",
   "id": "5deb3a68",
   "metadata": {},
   "source": [
    "Wordcounterliste für Parteipaar"
   ]
  },
  {
   "cell_type": "code",
   "execution_count": null,
   "id": "f120ab1e",
   "metadata": {},
   "outputs": [],
   "source": [
    "uw_counter = [wort for wort in reden_gefiltert['SPD'] + reden_gefiltert['FDP'] if wort in suw_words[0][1]]"
   ]
  },
  {
   "cell_type": "markdown",
   "id": "bfaec673",
   "metadata": {},
   "source": [
    "Counter"
   ]
  },
  {
   "cell_type": "code",
   "execution_count": null,
   "id": "b2a089fa",
   "metadata": {},
   "outputs": [],
   "source": [
    "from collections import Counter\n",
    "counts = Counter(uw_counter)\n",
    "print(counts)"
   ]
  },
  {
   "cell_type": "code",
   "execution_count": null,
   "id": "5bb30baa",
   "metadata": {
    "scrolled": false
   },
   "outputs": [],
   "source": [
    "mask = np.array(Image.open(\"C:/Users/ck12/Documents/Fächer/Semester 7/Polarisierung im Bundestag/circle.png\"))\n",
    "wordcloud = WordCloud(background_color='white', max_words=1000, mask=mask,contour_color='#023075',contour_width=3,colormap='rainbow').generate_from_frequencies(counts)\n",
    "# create image as circle\n",
    "\n",
    "fig = plt.figure(figsize=(10,10))\n",
    "plt.imshow(wordcloud, interpolation='bilinear')\n",
    "plt.axis(\"off\")\n",
    "# store to file\n",
    "plt.savefig(\"circle\", format=\"png\")\n",
    "plt.show()\n",
    "\n",
    "#graphic export\n",
    "from pathlib import Path\n",
    "fn = Path('~/Documents/wordcloud.svg').expanduser()\n",
    "fig.savefig(fn, bbox_inches='tight', pad_inches=0)"
   ]
  },
  {
   "cell_type": "markdown",
   "id": "eddf4675",
   "metadata": {},
   "source": [
    "construct graph"
   ]
  },
  {
   "cell_type": "code",
   "execution_count": null,
   "id": "713c7140",
   "metadata": {},
   "outputs": [],
   "source": [
    "nodes = []\n",
    "for px,partei in enumerate(uw_all.keys()):\n",
    "    node = {\n",
    "        'id' : px,\n",
    "        'name' : partei,\n",
    "        'nuw' : len(uw_all[partei])\n",
    "    }\n",
    "    nodes.append(node)\n",
    "    \n",
    "nodes    "
   ]
  },
  {
   "cell_type": "code",
   "execution_count": null,
   "id": "005bd75e",
   "metadata": {
    "scrolled": true
   },
   "outputs": [],
   "source": [
    "nodes = []\n",
    "for px,partei in enumerate(uw_all.keys()):\n",
    "    node = {\n",
    "        'id' : px,\n",
    "        'name' : partei,\n",
    "        'nuw' : len(uw_all[partei])\n",
    "    }\n",
    "    nodes.append(node)\n",
    "    \n",
    "\n",
    "graph = {\n",
    "    'directed': False,\n",
    "    'graph': 'word_graph',\n",
    "    'links': [],\n",
    "    'nodes': nodes\n",
    "}    \n",
    "for ix,nodeI in enumerate(graph['nodes']):\n",
    "    for jx,nodeJ in enumerate(graph['nodes']):\n",
    "        if jx > ix:\n",
    "            #print(p1,p2)\n",
    "            #tmp = return_unique_words([p1,p2],reden_gefiltert) - return_unique_words(p1,reden_gefiltert) - return_unique_words(p2,reden_gefiltert)\n",
    "            #suw_words[ix][jx] = tmp\n",
    "            weight = suw[ix][jx]\n",
    "            #suw[jx][ix] = suw[ix][jx]\n",
    "            \n",
    "            source = nodeI['id']\n",
    "            target = nodeJ['id']\n",
    "            link_dict = {\n",
    "                    'source':source,\n",
    "                    'target':target,\n",
    "                    'weight':weight       \n",
    "                }\n",
    "            graph['links'].append(link_dict)\n",
    "    \n",
    "print(graph)"
   ]
  },
  {
   "cell_type": "markdown",
   "id": "9c62b593",
   "metadata": {},
   "source": [
    "Graph speichern"
   ]
  },
  {
   "cell_type": "code",
   "execution_count": null,
   "id": "d9b58f6c",
   "metadata": {},
   "outputs": [],
   "source": [
    "import networkx as nx\n",
    "\n",
    "graphforgephi = nx.Graph()\n",
    "for node in graph['nodes']:\n",
    "    graphforgephi.add_node(node['id'],name = node['name'],nuw = node['nuw']);\n",
    "    #if(node['name'] == 'Angela Merkel'):\n",
    "    #    print(node['tops'])\n",
    "\n",
    "print('nodes done')\n",
    "for link in (graph['links']):   \n",
    "    graphforgephi.add_edge(link['source'],link['target'],weight = link['weight'])\n",
    "print('links done')   \n",
    "nx.write_gexf(graphforgephi, \"graphforgephi.gexf\")\n",
    "print('save done')"
   ]
  }
 ],
 "metadata": {
  "kernelspec": {
   "display_name": "Python 3",
   "language": "python",
   "name": "python3"
  },
  "language_info": {
   "codemirror_mode": {
    "name": "ipython",
    "version": 3
   },
   "file_extension": ".py",
   "mimetype": "text/x-python",
   "name": "python",
   "nbconvert_exporter": "python",
   "pygments_lexer": "ipython3",
   "version": "3.8.8"
  }
 },
 "nbformat": 4,
 "nbformat_minor": 5
}
