{
 "cells": [
  {
   "cell_type": "markdown",
   "metadata": {},
   "source": [
    "# Generate word networks enriched with party information\n",
    "\n",
    "Import the basic stuff."
   ]
  },
  {
   "cell_type": "code",
   "execution_count": 229,
   "metadata": {},
   "outputs": [],
   "source": [
    "import json\n",
    "import requests\n",
    "from collections import Counter\n",
    "import tqdm\n",
    "import pandas as pd\n",
    "import numpy as np\n",
    "import matplotlib.pyplot as plt\n",
    "from sklearn.feature_extraction.text import CountVectorizer"
   ]
  },
  {
   "cell_type": "markdown",
   "metadata": {},
   "source": [
    "Load the preprocessed data."
   ]
  },
  {
   "cell_type": "code",
   "execution_count": 2,
   "metadata": {},
   "outputs": [],
   "source": [
    "with open('../data/speeches_preprocessed.json', 'r') as fp:\n",
    "    data = json.load(fp)"
   ]
  },
  {
   "cell_type": "code",
   "execution_count": 3,
   "metadata": {},
   "outputs": [],
   "source": [
    "reden = data.copy()"
   ]
  },
  {
   "cell_type": "markdown",
   "metadata": {},
   "source": [
    "This step of data cleaning can be skipped soon."
   ]
  },
  {
   "cell_type": "code",
   "execution_count": 4,
   "metadata": {},
   "outputs": [],
   "source": [
    "# clean party labels\n",
    "for rede in reden:\n",
    "    rede['party']=rede['party'].replace(u'\\xa0', u' ')\n",
    "    if rede['party']=='Bündnis 90/Die Grünen':\n",
    "        rede['party']='BÜNDNIS 90/DIE GRÜNEN'\n",
    "    if rede['party']=='Fraktionslos':\n",
    "        rede['party']='fraktionslos'"
   ]
  },
  {
   "cell_type": "markdown",
   "metadata": {},
   "source": [
    "### Data selection\n",
    "\n",
    "Now select, if desired, a subset of speeches by party, parlamentarians, date, etc. Note that it does not work for the 'text'-field, but 'text_lem' should work.\n",
    "\n",
    "To be checked."
   ]
  },
  {
   "cell_type": "code",
   "execution_count": 196,
   "metadata": {},
   "outputs": [],
   "source": [
    "#set(reden[0]['name'])"
   ]
  },
  {
   "cell_type": "code",
   "execution_count": 17,
   "metadata": {},
   "outputs": [],
   "source": [
    "\n",
    "def filter_for(what, search_terms, speeches):\n",
    "    filtered_speeches = []\n",
    "    for speech in speeches:\n",
    "        if ( speech[what] in set(search_terms) ):\n",
    "            filtered_speeches.append(speech)\n",
    "    filtered_speeches.sort(key = lambda x:x['date']) \n",
    "    return filtered_speeches\n"
   ]
  },
  {
   "cell_type": "code",
   "execution_count": 6,
   "metadata": {},
   "outputs": [],
   "source": [
    "members = ['Hansjörg Durz','Birke Bull-Bischoff','Stefan Kaufmann','Ernst Dieter Rossmann','Götz Frömming','Katja Suding','Kai Gehring','Tankred Schipanski','Saskia Esken','Oliver Kaczmarek','Nicola Beer','Anke Domscheit-Berg','Tabea Rößner','Manuel Höferlin','Sven Lehmann','Karamba Diaby','Susann Rüthrich','Katarina Barley','Sylvia Pantel','Johannes Huber','Katrin Werner','Grigorios Aggelidis','Katja Dörner','Martin Reichardt','Nadine Schön','Nicole Höchst','Stefan Schwartze','Norbert Müller','Uwe Schulz','Maik Beermann','Josephine Ortleb','Cornelia Möhring','Ulle Schauws','Silke Launert','Wiebke Esdar','Gülistan Yüksel','Matthias Seestern-Pauly','Marcus Weinberg','Martin Patzelt','Dagmar Schmidt','Anna Christmann','Uwe Kamann','Silvia Breher','Nicole Bauer','Leni Breymaier','Katrin Helling-Plahr','Annalena Baerbock','Petra Sitte','Mariana Iris Harder-Kühnel','Katja Mast','Roman Müller-Böhm','Doris Achelwilm','Yvonne Magwas','Sönke Rix','Ronja Kemmer','Margit Stumpp','Manja Schüle','Jens Brandenburg','Nicole Gohlke','Katrin Staffler','Beate Walter-Rosenheimer','Bettina Margarethe Wiesmann','Ulrike Bahr','Franziska Giffey','Anja Karliczek','Michaela Noll','Yasmin Fahimi','Melanie Bernstein','Stephan Albani','Marja-Liisa Völlers','Thomas Sattelberger','Dietlind Tiemann','René Röspel','Albert Rupprecht','Michael Espendiller','Joana Cotar','Mario Brandenburg','Volker Münz','Astrid Mannes','Ekin Deligöz','Stefan Sauer','Svenja Stadler','Swen Schulz','Kerstin Radomski','Johannes Steiniger','Caren Marks','Andreas Steier','Dieter Janecek','Sybille Benning','Thomas Rachel','Dorothee Bär','Frank Pasemann','Lars Klingbeil','Ingrid Pahlmann','Markus Paschke','Elvan Korkmaz-Emre','Charlotte Schneidewind-Hartnagel']"
   ]
  },
  {
   "cell_type": "code",
   "execution_count": 18,
   "metadata": {},
   "outputs": [],
   "source": [
    "reden_selection = filter_for('name', members, reden)"
   ]
  },
  {
   "cell_type": "code",
   "execution_count": 23,
   "metadata": {},
   "outputs": [
    {
     "data": {
      "text/plain": [
       "3149"
      ]
     },
     "execution_count": 23,
     "metadata": {},
     "output_type": "execute_result"
    }
   ],
   "source": [
    "\n",
    "reden = reden_selection\n",
    "len(reden)"
   ]
  },
  {
   "cell_type": "code",
   "execution_count": null,
   "metadata": {},
   "outputs": [],
   "source": []
  },
  {
   "cell_type": "markdown",
   "metadata": {},
   "source": [
    "## Build corpus and count word frequencies per party"
   ]
  },
  {
   "cell_type": "code",
   "execution_count": 178,
   "metadata": {},
   "outputs": [
    {
     "name": "stderr",
     "output_type": "stream",
     "text": [
      "100%|██████████| 3149/3149 [00:00<00:00, 10490.78it/s]\n"
     ]
    },
    {
     "data": {
      "text/plain": [
       "3149"
      ]
     },
     "execution_count": 178,
     "metadata": {},
     "output_type": "execute_result"
    }
   ],
   "source": [
    "corpus = []\n",
    "allwords = []\n",
    "\n",
    "# prepare for per party counts\n",
    "allwordsperparty = {\n",
    "    'SPD':[],\n",
    "    'FDP':[],\n",
    "    'CDU/CSU':[],\n",
    "    'DIE LINKE':[],\n",
    "    'BÜNDNIS 90/DIE GRÜNEN':[],\n",
    "    'AfD':[],\n",
    "    'fraktionslos':[],\n",
    "    'Bremen':[]   \n",
    "}\n",
    "        \n",
    "#consider = ['PROPN']\n",
    "#consider = ['ADJ']\n",
    "consider = ['NOUN']\n",
    "for rede in tqdm.tqdm(reden):\n",
    "    #if(len(rede['text']) > 1000):\n",
    "    #rel_lemmata = [ ele for ex,ele in enumerate(rede['text_lem']) if (rede['text_pos'][ex] in consider and len(ele) > 7 and len(ele) < 16)]\n",
    "    rel_lemmata = [ ele for ex,ele in enumerate(rede['text_lem']) if rede['text_pos'][ex] in consider ]\n",
    "    allwords.extend(rel_lemmata)\n",
    "    allwordsperparty[rede['party']].extend(rel_lemmata)\n",
    "    corpus.append( \" \".join(rel_lemmata ))\n",
    "   \n",
    "len(corpus)"
   ]
  },
  {
   "cell_type": "markdown",
   "metadata": {},
   "source": [
    "## Select words by frequency in corpus"
   ]
  },
  {
   "cell_type": "code",
   "execution_count": 167,
   "metadata": {},
   "outputs": [
    {
     "data": {
      "text/plain": [
       "229"
      ]
     },
     "execution_count": 167,
     "metadata": {},
     "output_type": "execute_result"
    }
   ],
   "source": [
    "features02=[]\n",
    "#word_counter= Counter(x for xs in corpus for x in xs)\n",
    "word_counter = Counter(allwords)\n",
    "for word in word_counter.keys():\n",
    "    if word_counter[word] > 20 and word_counter[word] < 1000:\n",
    "        features02.append(word)\n",
    "\n",
    "#print(word_counter)\n",
    "#Counter(corpus)\n",
    "len(features02)\n",
    "#word_counter['Arzt']"
   ]
  },
  {
   "cell_type": "markdown",
   "metadata": {},
   "source": [
    "### Select words by TF-IDF"
   ]
  },
  {
   "cell_type": "code",
   "execution_count": 205,
   "metadata": {},
   "outputs": [],
   "source": [
    "corpus_selection = []\n",
    "for party in allwordsperparty.keys():\n",
    "    corpus_selection.append(\" \".join(allwordsperparty[party] ))\n",
    "    \n",
    "#print(corpus_selection[0][0:10])    "
   ]
  },
  {
   "cell_type": "code",
   "execution_count": 235,
   "metadata": {},
   "outputs": [
    {
     "name": "stdout",
     "output_type": "stream",
     "text": [
      "We now consider 14383 different words.\n"
     ]
    },
    {
     "data": {
      "text/plain": [
       "(3149, 14383)"
      ]
     },
     "execution_count": 235,
     "metadata": {},
     "output_type": "execute_result"
    }
   ],
   "source": [
    "#vectorizer_selection = CountVectorizer(vocabulary = features02, decode_error='ignore' , lowercase=False, ngram_range=(1, 1))\n",
    "vectorizer_selection = CountVectorizer(decode_error='ignore' , lowercase=False , max_df=0.8, min_df=2, ngram_range=(1, 1))\n",
    "\n",
    "mm_selection = vectorizer_selection.fit_transform(corpus)\n",
    "featuresforselection = vectorizer_selection.get_feature_names()\n",
    "\n",
    "print(f'We now consider {len(featuresforselection)} different words.')\n",
    "mm_selection.get_shape()"
   ]
  },
  {
   "cell_type": "code",
   "execution_count": 210,
   "metadata": {},
   "outputs": [
    {
     "data": {
      "text/plain": [
       "8"
      ]
     },
     "execution_count": 210,
     "metadata": {},
     "output_type": "execute_result"
    }
   ],
   "source": [
    "from sklearn.feature_extraction.text import TfidfVectorizer\n",
    "\n",
    "    \n",
    "vectorizer_selection = TfidfVectorizer(lowercase=False,max_df=0.8, min_df=2/len(corpus_selection))\n",
    "mm_selection  = vectorizer_selection.fit_transform(corpus_selection)\n",
    "featuresforselection = vectorizer_selection.get_feature_names()\n",
    "mm_selection.get_shape()[0]\n",
    "\n"
   ]
  },
  {
   "cell_type": "code",
   "execution_count": 237,
   "metadata": {},
   "outputs": [
    {
     "data": {
      "text/plain": [
       "1537"
      ]
     },
     "execution_count": 237,
     "metadata": {},
     "output_type": "execute_result"
    }
   ],
   "source": [
    "nmax = 3\n",
    "features02 = []\n",
    "for rx,rede in enumerate(range(mm_selection.get_shape()[0])):\n",
    "    vec = np.array(mm_selection.getrow(rx).toarray()[0])\n",
    "    ind = np.argpartition(vec, -nmax)[-nmax:]\n",
    "    #print([vec[ix] for ix in ind])\n",
    "    #print([featuresforselection[ix] for ix in ind])\n",
    "    features02.extend([featuresforselection[ix] for ix in ind])\n",
    "features02 = set(features02)\n",
    "len(features02)"
   ]
  },
  {
   "cell_type": "code",
   "execution_count": 239,
   "metadata": {},
   "outputs": [
    {
     "name": "stdout",
     "output_type": "stream",
     "text": [
      "yes\n"
     ]
    }
   ],
   "source": [
    "if 'Arzt' in features02:\n",
    "    print('yes')"
   ]
  },
  {
   "cell_type": "code",
   "execution_count": null,
   "metadata": {},
   "outputs": [],
   "source": []
  },
  {
   "cell_type": "markdown",
   "metadata": {},
   "source": [
    "## Count word frequencies per speech"
   ]
  },
  {
   "cell_type": "code",
   "execution_count": 240,
   "metadata": {},
   "outputs": [
    {
     "name": "stdout",
     "output_type": "stream",
     "text": [
      "We now consider 1537 different words.\n"
     ]
    }
   ],
   "source": [
    "#vectorizer01 = CountVectorizer( decode_error='ignore' , lowercase=False , max_df=0.3, min_df=2/len(corpus),max_features=1000)\n",
    "#vectorizer01 = CountVectorizer( decode_error='ignore' , lowercase=False , max_df=0.3, min_df=2, ngram_range=(1, 1))\n",
    "\n",
    "vectorizer01 = CountVectorizer(vocabulary = features02, decode_error='ignore' , lowercase=False, ngram_range=(1, 1))\n",
    "#vectorizer01 = CountVectorizer(decode_error='ignore' , lowercase=False , max_df=0.6, min_df=0.01, ngram_range=(1, 1))\n",
    "\n",
    "\n",
    "X01 = vectorizer01.fit_transform(corpus)\n",
    "features01 = vectorizer01.get_feature_names()\n",
    "\n",
    "print(f'We now consider {len(features01)} different words.')\n",
    "#print(features01)"
   ]
  },
  {
   "cell_type": "code",
   "execution_count": 86,
   "metadata": {},
   "outputs": [],
   "source": [
    "#print(features01)"
   ]
  },
  {
   "cell_type": "code",
   "execution_count": 241,
   "metadata": {},
   "outputs": [
    {
     "data": {
      "text/plain": [
       "(1537, 3149)"
      ]
     },
     "execution_count": 241,
     "metadata": {},
     "output_type": "execute_result"
    }
   ],
   "source": [
    "X01T = X01.T\n",
    "X01T.get_shape()"
   ]
  },
  {
   "cell_type": "markdown",
   "metadata": {},
   "source": [
    "## Cosine similarity"
   ]
  },
  {
   "cell_type": "code",
   "execution_count": 242,
   "metadata": {},
   "outputs": [],
   "source": [
    "from sklearn.metrics.pairwise import cosine_similarity\n",
    "SIMT01 = cosine_similarity(X01T)"
   ]
  },
  {
   "cell_type": "code",
   "execution_count": 243,
   "metadata": {},
   "outputs": [
    {
     "data": {
      "text/plain": [
       "(1537, 1537)"
      ]
     },
     "execution_count": 243,
     "metadata": {},
     "output_type": "execute_result"
    }
   ],
   "source": [
    "SIMT01.shape"
   ]
  },
  {
   "cell_type": "markdown",
   "metadata": {},
   "source": [
    "## Count words per party"
   ]
  },
  {
   "cell_type": "code",
   "execution_count": 244,
   "metadata": {},
   "outputs": [],
   "source": [
    "counts_per_party = {}\n",
    "\n",
    "for party in allwordsperparty.keys():\n",
    "    counts_per_party.update({ party : Counter(allwordsperparty[party])  })\n",
    "\n",
    "#counts_per_party = {\n",
    "#    'SPD': Counter(allwordsperparty['SPD']),\n",
    "#    'FDP':Counter(allwordsperparty['FDP']),\n",
    "#    'CDU/CSU':[],\n",
    "#    'DIE LINKE':[],\n",
    "#    'BÜNDNIS 90/DIE GRÜNEN':[],\n",
    "#    'AfD':[],\n",
    "#    'fraktionslos':[],\n",
    "#    'Bremen':[]   \n",
    "#}\n"
   ]
  },
  {
   "cell_type": "markdown",
   "metadata": {},
   "source": [
    "## Construct Graph"
   ]
  },
  {
   "cell_type": "code",
   "execution_count": 245,
   "metadata": {},
   "outputs": [],
   "source": [
    "nodes = []\n",
    "for wx,word in enumerate(features01):\n",
    "    node = {\n",
    "        'id' : wx,\n",
    "        'name' : word,\n",
    "        'cALL' : word_counter[word]/len(word_counter),\n",
    "        'cSPD' : counts_per_party['SPD'][word]/len(counts_per_party['SPD']),\n",
    "        'cFDP' : counts_per_party['FDP'][word]/len(counts_per_party['FDP']),\n",
    "        'cCDU' : counts_per_party['CDU/CSU'][word]/len(counts_per_party['CDU/CSU']),\n",
    "        'cLINKE' : counts_per_party['DIE LINKE'][word]/len(counts_per_party['DIE LINKE']),\n",
    "        'cGRUENE' : counts_per_party['BÜNDNIS 90/DIE GRÜNEN'][word]/len(counts_per_party['BÜNDNIS 90/DIE GRÜNEN']),\n",
    "        'cAFD' : counts_per_party['AfD'][word]/len(counts_per_party['AfD'])\n",
    "    }\n",
    "    nodes.append(node)\n",
    "    \n",
    "\n",
    "graph = {\n",
    "    'directed': False,\n",
    "    'graph': 'word_graph',\n",
    "    'links': [],\n",
    "    'nodes': nodes\n",
    "}"
   ]
  },
  {
   "cell_type": "code",
   "execution_count": null,
   "metadata": {},
   "outputs": [],
   "source": [
    "nodes[0]"
   ]
  },
  {
   "cell_type": "code",
   "execution_count": 246,
   "metadata": {},
   "outputs": [
    {
     "name": "stderr",
     "output_type": "stream",
     "text": [
      "1537it [00:00, 1743.85it/s]\n"
     ]
    }
   ],
   "source": [
    "links = []\n",
    "\n",
    "min_weight = 0.15\n",
    "for ix,nodeI in tqdm.tqdm(enumerate(graph['nodes'])):\n",
    "    for jx,nodeJ in enumerate(graph['nodes']):\n",
    "        if nodeI['id'] < nodeJ['id']:          \n",
    "            source = nodeI['id']\n",
    "            target = nodeJ['id']\n",
    "            weight = SIMT01[ix,jx]\n",
    "            if weight > min_weight:\n",
    "                #links.append([source,target,weight])\n",
    "                link_dict = {\n",
    "                    'source':source,\n",
    "                    'target':target,\n",
    "                    'weight':weight       \n",
    "                }\n",
    "                graph['links'].append(link_dict)"
   ]
  },
  {
   "cell_type": "code",
   "execution_count": 247,
   "metadata": {},
   "outputs": [
    {
     "name": "stdout",
     "output_type": "stream",
     "text": [
      "This graph has 1537 nodes and 12176 links.\n"
     ]
    },
    {
     "data": {
      "image/png": "[encoded data removed]",
      "text/plain": [
       "<Figure size 432x288 with 1 Axes>"
      ]
     },
     "metadata": {
      "needs_background": "light"
     },
     "output_type": "display_data"
    }
   ],
   "source": [
    "nn = len(graph['nodes'])\n",
    "ne = len(graph['links'])\n",
    "print( f\"This graph has {nn} nodes and {ne} links.\")\n",
    "\n",
    "import matplotlib.pyplot as plt\n",
    "\n",
    "weights=[]\n",
    "for link in graph['links']:\n",
    "    weights.append(link['weight'])\n",
    "#print(sum(weights))\n",
    "\n",
    "plt.hist(weights, bins=25)\n",
    "plt.title(\"Distribution of Weights\")\n",
    "plt.xlabel(\"Wert\")\n",
    "plt.ylabel(\"Häufigkeit\")\n",
    "plt.show()"
   ]
  },
  {
   "cell_type": "code",
   "execution_count": null,
   "metadata": {},
   "outputs": [],
   "source": []
  },
  {
   "cell_type": "code",
   "execution_count": 36,
   "metadata": {},
   "outputs": [
    {
     "name": "stdout",
     "output_type": "stream",
     "text": [
      "The graph has 37177 links.\n"
     ]
    }
   ],
   "source": [
    "print(f'The graph has {len(graph[\"links\"])} links.')"
   ]
  },
  {
   "cell_type": "code",
   "execution_count": 248,
   "metadata": {},
   "outputs": [
    {
     "name": "stderr",
     "output_type": "stream",
     "text": [
      "100%|██████████| 1537/1537 [00:00<00:00, 2604.28it/s]\n",
      "100%|██████████| 12176/12176 [00:00<00:00, 463336.23it/s]\n"
     ]
    },
    {
     "name": "stdout",
     "output_type": "stream",
     "text": [
      "nodes done\n",
      "links done\n",
      "save done\n"
     ]
    }
   ],
   "source": [
    "import networkx as nx\n",
    "\n",
    "graphforgephi = nx.Graph()\n",
    "for node in tqdm.tqdm(graph['nodes']):\n",
    "    graphforgephi.add_node(node['id'],name = node['name'],cALL = node['cALL'],cSPD = node['cSPD'],cFDP = node['cFDP'],cCDU = node['cCDU'],cLINKE = node['cLINKE'],cGRUENE = node['cGRUENE'], cAFD = node['cAFD'] );\n",
    "    #if(node['name'] == 'Angela Merkel'):\n",
    "    #    print(node['tops'])\n",
    "\n",
    "print('nodes done')\n",
    "for link in tqdm.tqdm(graph['links']):   \n",
    "    graphforgephi.add_edge(link['source'],link['target'],weight = link['weight'])\n",
    "print('links done')   \n",
    "nx.write_gexf(graphforgephi, \"../private/graphforgephi.gexf\")\n",
    "print('save done')"
   ]
  },
  {
   "cell_type": "markdown",
   "metadata": {},
   "source": [
    "# Further Explorations\n",
    "\n",
    "## Correlation Graph"
   ]
  },
  {
   "cell_type": "code",
   "execution_count": null,
   "metadata": {},
   "outputs": [],
   "source": [
    "from sklearn.preprocessing import normalize\n",
    "data = normalize(X01T,norm='l2',axis=1)\n",
    "data.shape"
   ]
  },
  {
   "cell_type": "code",
   "execution_count": null,
   "metadata": {},
   "outputs": [],
   "source": [
    "C = np.corrcoef(data.todense())"
   ]
  },
  {
   "cell_type": "code",
   "execution_count": null,
   "metadata": {},
   "outputs": [],
   "source": [
    "C = np.nan_to_num(C, copy=True, nan=0.0, posinf=None, neginf=None)\n",
    "C.shape"
   ]
  },
  {
   "cell_type": "code",
   "execution_count": null,
   "metadata": {},
   "outputs": [],
   "source": [
    "from sklearn import decomposition\n",
    "pca = decomposition.PCA(n_components=2)\n",
    "C_r = pca.fit(C).transform(C)\n",
    "\n",
    "# Percentage of variance explained for each components\n",
    "print(\n",
    "    \"explained variance ratio (first two components): %s\"\n",
    "    % str(pca.explained_variance_ratio_)\n",
    ")"
   ]
  },
  {
   "cell_type": "code",
   "execution_count": null,
   "metadata": {},
   "outputs": [],
   "source": [
    "plt.figure(figsize=(10,10))\n",
    "colors = [\"navy\", \"turquoise\", \"darkorange\"]\n",
    "lw = 2\n",
    "plt.scatter(C_r[:,0], C_r[:, 1],s=1, alpha=1)\n",
    "plt.show()"
   ]
  },
  {
   "cell_type": "code",
   "execution_count": null,
   "metadata": {},
   "outputs": [],
   "source": []
  },
  {
   "cell_type": "code",
   "execution_count": null,
   "metadata": {},
   "outputs": [],
   "source": []
  },
  {
   "cell_type": "code",
   "execution_count": null,
   "metadata": {},
   "outputs": [],
   "source": []
  },
  {
   "cell_type": "code",
   "execution_count": null,
   "metadata": {},
   "outputs": [],
   "source": []
  },
  {
   "cell_type": "code",
   "execution_count": null,
   "metadata": {},
   "outputs": [],
   "source": [
    "\n",
    "\n",
    "from sklearn.feature_extraction.text import TfidfVectorizer\n",
    "vectorizer = TfidfVectorizer(max_df=0.3, min_df=2/len(corpus),norm='l2')\n",
    "tf_idf_matrix  = vectorizer.fit_transform(corpus)"
   ]
  },
  {
   "cell_type": "code",
   "execution_count": null,
   "metadata": {},
   "outputs": [],
   "source": [
    "tf_idf_matrix"
   ]
  },
  {
   "cell_type": "markdown",
   "metadata": {},
   "source": [
    "## Second Tranform"
   ]
  },
  {
   "cell_type": "code",
   "execution_count": null,
   "metadata": {},
   "outputs": [],
   "source": [
    "featurevec = vectorizer.get_feature_names()"
   ]
  },
  {
   "cell_type": "code",
   "execution_count": null,
   "metadata": {},
   "outputs": [],
   "source": [
    "names = []\n",
    "parties = []\n",
    "\n",
    "for rede in reden:\n",
    "    if rede['name'] not in names:\n",
    "        names.append(rede['name'])\n",
    "        parties.append(rede['party'])\n",
    "        \n",
    "parlamentarier = []\n",
    "\n",
    "for count,name in tqdm.tqdm(enumerate(names)):\n",
    "    hilf = {\n",
    "        'id':count+1,\n",
    "        'name': names[count],\n",
    "        'party': parties[count]\n",
    "    }\n",
    "    \n",
    "    text_lem = []\n",
    "    for rede in reden:\n",
    "        if rede['name'] == name:\n",
    "            rel_lemmata = [ ele.lower() for ex,ele in enumerate(rede['text_lem']) if ele.lower() in featurevec  ]\n",
    "            text_lem.extend(rel_lemmata)\n",
    "\n",
    "    hilf.update({'text_lem': text_lem})\n",
    "\n",
    "    parlamentarier.append(hilf)        \n",
    "        "
   ]
  },
  {
   "cell_type": "code",
   "execution_count": null,
   "metadata": {},
   "outputs": [],
   "source": [
    "#print(parlamentarier[0]['text_lem'])"
   ]
  },
  {
   "cell_type": "code",
   "execution_count": null,
   "metadata": {},
   "outputs": [],
   "source": [
    "\n",
    "\n",
    "mentionedby = {}\n",
    "for wort in featurevec:\n",
    "    #print(wort)\n",
    "    mentionedby.update({ wort : [] })\n",
    "    "
   ]
  },
  {
   "cell_type": "code",
   "execution_count": null,
   "metadata": {},
   "outputs": [],
   "source": [
    "if 'kollegin' in featurevec:\n",
    "    print('ja')"
   ]
  },
  {
   "cell_type": "code",
   "execution_count": null,
   "metadata": {},
   "outputs": [],
   "source": [
    "for parla in parlamentarier:\n",
    "    for wort in parla['text_lem']: \n",
    "        mentionedby[wort].append(parla['name']) "
   ]
  },
  {
   "cell_type": "code",
   "execution_count": null,
   "metadata": {},
   "outputs": [],
   "source": [
    "\n",
    "    \n",
    "\n",
    "\n",
    "corpus2=[  mentionedby[wort] for wort in mentionedby   ]\n",
    "\n",
    "    \n"
   ]
  },
  {
   "cell_type": "code",
   "execution_count": null,
   "metadata": {},
   "outputs": [],
   "source": [
    "#corpus2[0]"
   ]
  },
  {
   "cell_type": "code",
   "execution_count": null,
   "metadata": {},
   "outputs": [],
   "source": [
    "vectorizer2 = TfidfVectorizer(vocabulary=featurevec,norm='l2')\n",
    "tf_idf_matrix2  = vectorizer2.fit_transform(corpus2)"
   ]
  },
  {
   "cell_type": "code",
   "execution_count": null,
   "metadata": {},
   "outputs": [],
   "source": [
    "tf_idf_matrix2"
   ]
  },
  {
   "cell_type": "code",
   "execution_count": null,
   "metadata": {},
   "outputs": [],
   "source": [
    "\n"
   ]
  },
  {
   "cell_type": "code",
   "execution_count": null,
   "metadata": {},
   "outputs": [],
   "source": []
  },
  {
   "cell_type": "code",
   "execution_count": null,
   "metadata": {},
   "outputs": [],
   "source": []
  },
  {
   "cell_type": "code",
   "execution_count": null,
   "metadata": {},
   "outputs": [],
   "source": []
  },
  {
   "cell_type": "code",
   "execution_count": null,
   "metadata": {},
   "outputs": [],
   "source": []
  },
  {
   "cell_type": "markdown",
   "metadata": {},
   "source": [
    "## Network"
   ]
  },
  {
   "cell_type": "code",
   "execution_count": null,
   "metadata": {},
   "outputs": [],
   "source": [
    "pairwise_similarity = tf_idf_matrix2.T * tf_idf_matrix2\n",
    "#pairwise_similarity = tf_idf_matrix * tf_idf_matrix.T\n",
    "print(len(pairwise_similarity.toarray()))\n",
    "similarity = pairwise_similarity.toarray()"
   ]
  },
  {
   "cell_type": "code",
   "execution_count": null,
   "metadata": {},
   "outputs": [],
   "source": [
    "nodes = []\n",
    "featurevec = vectorizer.get_feature_names()\n",
    "for wx,word in enumerate(featurevec):\n",
    "    node = {\n",
    "        'id' : wx,\n",
    "        'name' : word\n",
    "    }\n",
    "    nodes.append(node)\n",
    "    \n",
    "\n",
    "graph = {\n",
    "    'directed': False,\n",
    "    'graph': 'cooccurr_graph',\n",
    "    'links': [],\n",
    "    'nodes': nodes\n",
    "}"
   ]
  },
  {
   "cell_type": "code",
   "execution_count": null,
   "metadata": {},
   "outputs": [],
   "source": [
    "min_weight = 0.5\n",
    "for ix,nodeI in tqdm.tqdm(enumerate(graph['nodes'])):\n",
    "    for jx,nodeJ in enumerate(graph['nodes']):\n",
    "        if nodeI['id'] < nodeJ['id']:\n",
    "            source = nodeI['id']\n",
    "            target = nodeJ['id']\n",
    "            weight = similarity[ix,jx]\n",
    "            if weight > min_weight:\n",
    "                link_dict = {\n",
    "                    'source':source,\n",
    "                    'target':target,\n",
    "                    'weight':weight       \n",
    "                }\n",
    "                graph['links'].append(link_dict)"
   ]
  },
  {
   "cell_type": "code",
   "execution_count": null,
   "metadata": {},
   "outputs": [],
   "source": [
    "len(graph['links'])"
   ]
  },
  {
   "cell_type": "code",
   "execution_count": null,
   "metadata": {},
   "outputs": [],
   "source": [
    "import networkx as nx\n",
    "\n",
    "graphforgephi = nx.Graph()\n",
    "for node in tqdm.tqdm(graph['nodes']):\n",
    "    graphforgephi.add_node(node['id'],name = node['name']);\n",
    "    #if(node['name'] == 'Angela Merkel'):\n",
    "    #    print(node['tops'])\n",
    "\n",
    "print('nodes done')\n",
    "for link in tqdm.tqdm(graph['links']):   \n",
    "    graphforgephi.add_edge(link['source'],link['target'],weight = link['weight'])\n",
    "print('links done')   \n",
    "nx.write_gexf(graphforgephi, \"graphforgephi.gexf\")\n",
    "print('save done')"
   ]
  },
  {
   "cell_type": "code",
   "execution_count": null,
   "metadata": {},
   "outputs": [],
   "source": []
  }
 ],
 "metadata": {
  "kernelspec": {
   "display_name": "Python 3",
   "language": "python",
   "name": "python3"
  },
  "language_info": {
   "codemirror_mode": {
    "name": "ipython",
    "version": 3
   },
   "file_extension": ".py",
   "mimetype": "text/x-python",
   "name": "python",
   "nbconvert_exporter": "python",
   "pygments_lexer": "ipython3",
   "version": "3.7.3"
  }
 },
 "nbformat": 4,
 "nbformat_minor": 4
}
