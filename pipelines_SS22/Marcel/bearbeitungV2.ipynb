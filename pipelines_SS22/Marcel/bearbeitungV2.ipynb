{
 "cells": [
  {
   "cell_type": "code",
   "execution_count": 1,
   "metadata": {},
   "outputs": [],
   "source": [
    "import collections\n",
    "import requests\n",
    "import json\n",
    "import re\n",
    "import os\n",
    "import sys"
   ]
  },
  {
   "cell_type": "code",
   "execution_count": 2,
   "metadata": {},
   "outputs": [],
   "source": [
    "with open('../../bundestagsreden parser/speeches_20.jsonl', 'r', encoding='utf8') as fp:\n",
    "    data = list(fp)\n",
    "speeches = []\n",
    "for line in data:\n",
    "    speeches.append(json.loads(line))"
   ]
  },
  {
   "cell_type": "code",
   "execution_count": 3,
   "metadata": {},
   "outputs": [],
   "source": [
    "def filter_for(what, search_terms, speeches):\n",
    "    filtered_speeches = []\n",
    "    if what == 'text':\n",
    "        search_terms_low = []\n",
    "        for st in search_terms:\n",
    "            search_terms_low.append(st.lower())\n",
    "        for speech in speeches:\n",
    "            match = [st in speech[what].lower() for st in search_terms_low]\n",
    "            #if all(st == True for st in match):\n",
    "            if any(st in speech[what] for st in search_terms):\n",
    "                #print(match)\n",
    "            #if ( search_terms in speech[what] ):\n",
    "                filtered_speeches.append(speech)\n",
    "    else:\n",
    "        for speech in speeches:\n",
    "            if (speech[what] in set(search_terms) ):\n",
    "                filtered_speeches.append(speech)\n",
    "        \n",
    "    filtered_speeches.sort(key = lambda x:x['date'])   \n",
    "    return filtered_speeches"
   ]
  },
  {
   "cell_type": "code",
   "execution_count": 4,
   "metadata": {},
   "outputs": [],
   "source": [
    "# globale items\n",
    "regex = \"{(.*?)}\" # hier die genaue Definition der Kommentar in vom Parser <<< >>>\n",
    "kommentare = []"
   ]
  },
  {
   "cell_type": "code",
   "execution_count": 9,
   "metadata": {},
   "outputs": [
    {
     "name": "stdout",
     "output_type": "stream",
     "text": [
      "['(Beifall bei der SPD sowie bei Abgeordneten des BÜNDNISSES 90/DIE GRÜNEN und der FDP)', '(Beifall bei der CDU/CSU)']\n",
      "SPD\n"
     ]
    }
   ],
   "source": [
    "def extract_comments(speeches):\n",
    "    comments =[]\n",
    "    modified_speeches = []\n",
    "    for speech in speeches:\n",
    "        text = speech['text']\n",
    "        matches = re.findall(regex,text)\n",
    "        speech['comments'] = matches\n",
    "        modified_speeches.append(speech)\n",
    "    return modified_speeches\n",
    "speeches_comments = extract_comments(speeches)\n",
    "print(speeches_comments[0]['comments'])\n",
    "print(speeches_comments[0]['party'])"
   ]
  },
  {
   "cell_type": "code",
   "execution_count": 19,
   "metadata": {},
   "outputs": [
    {
     "name": "stdout",
     "output_type": "stream",
     "text": [
      "{'id': 'ID20100100', 'period': '20', 'date': '2021-10-26', 'name': 'Gabriele Katzmarek', 'party': 'SPD', 'redner_id': '11004325', 'text': 'Sehr geehrter Herr Alterspräsident! So muss ich es jetzt sagen, genau; ich muss mich daran gewöhnen. Nicht lange. Nicht lange; da haben Sie schon recht. – Liebe Kolleginnen und Kollegen! Meine sehr geehrten Damen und Herren! Die Übernahme der Geschäftsordnung ist eine der ersten wichtigen Entscheidungen, die wir heute zu Beginn der Wahlperiode treffen müssen. Die Geschäftsordnung ist Grundlage für unsere gemeinsame Arbeit. Sie hat sich über viele Wahlperioden bewährt und wird uns auch durch die neue Wahlperiode tragen. Es ist gute Tradition, dass wir die Geschäftsordnung am Anfang einer Wahlperiode mit breiter parlamentarischer Mehrheit übernehmen, und das sollten wir auch heute tun. Sie ist nicht in Stein gemeißelt – das wissen diejenigen, die bereits in der letzten Wahlperiode hier im Bundestag tätig waren –, sondern die Geschäftsordnung ist immer ein, ich sage mal, lebendiges Dokument, das sich den Gegebenheiten des Parlamentarismus, aber auch den Gegebenheiten der Arbeit hier im Deutschen Bundestag anpassen muss. Das muss eine Geschäftsordnung dann auch immer wieder in ihrer Entwicklung nachvollziehen. Wir haben dieses bereits in der letzten Wahlperiode bewiesen und einige grundlegende Änderungen beschlossen, vor allem und vorangestellt die überfällige Reform der Verhaltensregeln. Wir begrüßen auch ausdrücklich die Initiative des scheidenden Präsidenten Herrn Schäuble, die Geschäftsordnung in dieser Wahlperiode einer Generalüberholung zu unterziehen. Wir sind gerne bereit, diese Impulse aufzunehmen, und laden auch alle anderen Fraktionen dazu ein, diesen Weg mit uns gemeinsam zu gehen. Die Vorschläge der Opposition sind ernst zu nehmen. Wir möchten sie aufgreifen und möchten gemeinsam mit Ihnen darüber diskutieren, wie eine Geschäftsordnung überarbeitet werden und in der nächsten Zeit auch wirken kann. Wir plädieren allerdings auch dafür, dass wir die in der letzten Legislaturperiode eingeführten Regelungen für das digitale Tagen von Ausschüssen – vorerst zeitlich möglichst kurz – beibehalten; das können Sie auch unserem Antrag entnehmen. Und wir plädieren dafür, das eingeführte coronabedingte Absenken der Quoren, das notwendig war für die Beschlussfähigkeit des Deutschen Bundestages, in die neue Geschäftsordnung nicht mehr aufzunehmen. Ich bitte, wir bitten Sie um Zustimmung zum vorliegenden Antrag zur Weitergeltung der Geschäftsordnung, damit wir in der erforderlichen Zeit, die wir dann haben, die notwendigen Änderungen gemeinsam diskutieren und hier verabschieden können. Herzlichen Dank. {(Beifall bei der SPD sowie bei Abgeordneten des BÜNDNISSES 90/DIE GRÜNEN und der FDP)} Stefan Müller, CDU/CSU, hat als Nächster das Wort. {(Beifall bei der CDU/CSU)} ', 'discussion_title': 'Tagesordnungspunkt 2 2021-10-26', 'comments': ['(Beifall bei der SPD sowie bei Abgeordneten des BÜNDNISSES 90/DIE GRÜNEN und der FDP)', '(Beifall bei der CDU/CSU)']}\n",
      "2484\n"
     ]
    }
   ],
   "source": [
    "def filter_in_comments(search_term,speeches):\n",
    "    filtered_speeches = []\n",
    "    for speech in speeches:\n",
    "        for comment in speech['comments']:\n",
    "            if search_term in comment:\n",
    "                filtered_speeches.append(speech)\n",
    "                break  \n",
    "    return filtered_speeches\n",
    "speeches_with_comment_searchword = filter_in_comments('Beifall',speeches_comments)\n",
    "print(speeches_with_comment_searchword[0])\n",
    "print(len(speeches_with_comment_searchword))"
   ]
  },
  {
   "cell_type": "code",
   "execution_count": 26,
   "metadata": {},
   "outputs": [
    {
     "name": "stdout",
     "output_type": "stream",
     "text": [
      "{'id': 'ID20901700', 'period': '20', 'date': '2021-12-16', 'name': 'Jürgen Braun', 'party': 'AfD', 'redner_id': '11004680', 'text': 'Frau Präsidentin! Liebe Kollegen! Unmittelbar vor Weihnachten sendet die grün-linke Ampel ein verheerendes Signal in die Welt. Mehr als 300 Millionen verfolgten Christen wird gesagt: Eure Probleme sind kein Thema für die Bundesregierung. Ich habe dem Beauftragten für Religionsfreiheit, Markus Grübel, hier vor einem halben Jahr meinen Respekt und Dank für die geleistete Arbeit ausgesprochen. Aber ich sagte schon damals, dass die Religionsfreiheit in der deutschen Politik keine Lobby hat, außer der AfD. {(Beifall bei der AfD – Lachen bei der SPD und der CDU/CSU – Michael Brand [Fulda] [CDU/CSU]: Da muss er selber lachen! Der Antrag kommt von der CDU/CSU!)} Und jetzt kann es jeder sehen: Die AfD hat wieder einmal recht behalten. Die CDU kann nicht darüber hinwegtäuschen, dass sie 16 Jahre lang Christenverfolgung kleingeredet hat. Sie hat den Begriff „Christenverfolgung“ in den letzten Jahren sogar vermieden; {(Markus Grübel [CDU/CSU]: Volker Kauder hat das ständig thematisiert!)} nur wir von der AfD prangern die Christenverfolgung offen an. {(Beifall bei Abgeordneten der AfD – Michael Brand [Fulda] [CDU/CSU]: Der Mann ist wie Donald Trump!)} Diese neue links-grüne Regierung mit leichtem Gelbstich oder mit blassvergilbter Tönung interessiert sich nicht mehr für Christenverfolgung. Anfang November hat die Ampel überhaupt nicht reagiert, als die Veranstalter der Konferenz „Christenverfolgung heute“ inständig baten, das Amt des Religionsfreiheitsbeauftragten weiterzuführen. Und auch der Koalitionsvertrag erwähnt das Amt mit keinem Wort; sie wollten es stillschweigend abschaffen. Die verfolgten Christen können von einer Außenministerin Baerbock nichts erwarten. Aber die Anhänger der selbsternannten Völkerrechtlerin jubeln: Die Zukunft der Außenpolitik ist feministisch. – Tja, wir als AfD wissen genau, was sie damit meinen: Grüne, feministische Außenpolitik bedeutet High fives mit islamistischen Massenmördern, bedeutet europäische Politikerinnen auf Delegationsreise mit Kopftüchern, bedeutet die Unterwerfung der Frau unter den politischen Islam. {(Beifall bei der AfD)} Die Religionsfreiheit wird nicht durch alte weiße Männer eingeschränkt. Die Religionsfreiheit wird heute vor allem durch Kommunisten und Islamisten eingeschränkt. {(Beifall bei der AfD)} Die sogenannte Gleichstellungskommission der EU hat eine Empfehlung vorgelegt, auf das Wort „Weihnachten“ zu verzichten, weil es diskriminierend sei. {(Zuruf von der AfD: Unglaublich!)} So viel zu Ihrer Christlichkeit und der Ihrer EU-Kumpane aus Brüssel. {(Michael Brand [Fulda] [CDU/CSU]: So redet kein Christ!)} Christen werden verfolgt, werden abgeschlachtet, weltweit, gerade an ihren heiligsten Festen, gerade auch an Weihnachten und vor Weihnachten. Die neue Ampelkoalition wird für 300 Millionen verfolgte Christen zur Todesampel – unmittelbar vor Weihnachten. {(Beifall bei der AfD\\xa0– Widerspruch bei der SPD, dem BÜNDNIS\\xa090/DIE GRÜNEN und der FDP\\xa0– Max Lucks [BÜNDNIS\\xa090/DIE GRÜNEN]: Bitte?\\xa0– Gabriele Katzmarek [SPD]: Widerlich!\\xa0– Zuruf: Du Hetzschwein!\\xa0– Michael Brand [Fulda] [CDU/CSU]: So redet kein Christ!)} ', 'discussion_title': 'Tagesordnungspunkt 4 2021-12-16', 'comments': ['(Beifall bei der AfD – Lachen bei der SPD und der CDU/CSU – Michael Brand [Fulda] [CDU/CSU]: Da muss er selber lachen! Der Antrag kommt von der CDU/CSU!)', '(Markus Grübel [CDU/CSU]: Volker Kauder hat das ständig thematisiert!)', '(Beifall bei Abgeordneten der AfD – Michael Brand [Fulda] [CDU/CSU]: Der Mann ist wie Donald Trump!)', '(Beifall bei der AfD)', '(Beifall bei der AfD)', '(Zuruf von der AfD: Unglaublich!)', '(Michael Brand [Fulda] [CDU/CSU]: So redet kein Christ!)', '(Beifall bei der AfD\\xa0– Widerspruch bei der SPD, dem BÜNDNIS\\xa090/DIE GRÜNEN und der FDP\\xa0– Max Lucks [BÜNDNIS\\xa090/DIE GRÜNEN]: Bitte?\\xa0– Gabriele Katzmarek [SPD]: Widerlich!\\xa0– Zuruf: Du Hetzschwein!\\xa0– Michael Brand [Fulda] [CDU/CSU]: So redet kein Christ!)']}\n",
      "5\n"
     ]
    }
   ],
   "source": [
    "def filter_multiple_terms_in_comments(search_terms,speeches):\n",
    "    filtered_speeches = []\n",
    "    for speech in speeches:\n",
    "        for comment in speech['comments']:\n",
    "            if all([term in comment for term in search_terms]):\n",
    "                filtered_speeches.append(speech)\n",
    "                break  \n",
    "    return filtered_speeches\n",
    "speeches_with_conjunction_search = filter_multiple_terms_in_comments(['Beifall','AfD','lachen'],speeches_comments)\n",
    "print(speeches_with_conjunction_search[0])\n",
    "print(len(speeches_with_conjunction_search))"
   ]
  },
  {
   "cell_type": "code",
   "execution_count": null,
   "metadata": {},
   "outputs": [],
   "source": [
    "# Anzahl aller Kommentare\n",
    "for speech in speeches:\n",
    "    text = speech['text']\n",
    "    matches = re.findall(regex,text)\n",
    "    kommentare.extend(matches)     \n",
    "len(kommentare)"
   ]
  },
  {
   "cell_type": "code",
   "execution_count": null,
   "metadata": {},
   "outputs": [],
   "source": [
    "zähler = collections.Counter(kommentare).most_common()\n",
    "zähler"
   ]
  },
  {
   "cell_type": "code",
   "execution_count": null,
   "metadata": {},
   "outputs": [],
   "source": [
    "# Anzahl aller Kommentare\n",
    "kommentare = []\n",
    "for speech in speeches:\n",
    "    kommentare.extend ( re.findall ( regex , speech['text'] ) ) \n",
    "print('total Kommentare      =', len(kommentare))\n",
    "\n",
    "# Anzahl aller Beifall\n",
    "word = []\n",
    "for speech in speeches:\n",
    "    word.extend ( re.findall ( \"Beifall\" , speech['text'] ) )\n",
    "print('total Beifall         =', len(word))\n",
    "\n",
    "# Anzahl Beifall CDU/CSU\n",
    "word = []\n",
    "for speech in speeches:\n",
    "    word.extend ( re.findall ( \"\\((Beifall | CDU/CSU)\\)\" , speech['text'] ) )\n",
    "print('total Beifall CDU/CSU =', len(word))\n",
    "\n",
    "# Anzahl Beifall AfD\n",
    "word = []\n",
    "for speech in speeches:\n",
    "    word.extend ( re.findall ( \"\\((Beifall | AfD)\\)\"  , speech['text'] ) )\n",
    "print('total Beifall AfD     =', len(word))\n",
    "\n",
    "# Anzahl aller Zurufe\n",
    "word = []\n",
    "for speech in speeches:\n",
    "    word.extend ( re.findall ( \"Zuruf\" , speech['text'] ) )\n",
    "print('total Zuruf           =', len(word))\n",
    "\n",
    "# Anzahl aller Beifall der CDU\n",
    "print(len(re.findall(r'\\bBeifall\\b|\\bCDU/CSU\\b',speech['text'])))\n",
    "\n",
    "# Anzahl aller Beifall der CDU\n",
    "print(len(re.findall(r'\\bBeifall\\b|\\bAfD\\b',speech['text'])))"
   ]
  },
  {
   "cell_type": "code",
   "execution_count": null,
   "metadata": {},
   "outputs": [],
   "source": [
    "kommentare_liste = [] # Liste von Kommentare mit bestimmten Items: Redner/in, Partei, Kommentainhalt\n",
    "for speech in speeches:\n",
    "    text = speech['text']\n",
    "    matches = re.findall(regex,text)\n",
    "    for match in matches:\n",
    "        kommentare_dict = {\n",
    "            'name' : speech['name'],\n",
    "           #'redner_id' : speech['redner_id'],\n",
    "            'rednerpartei' : speech['party'],\n",
    "            'inhalt' : match }\n",
    "        kommentare_liste.append(kommentare_dict)\n",
    "len(kommentare_liste)"
   ]
  },
  {
   "cell_type": "code",
   "execution_count": null,
   "metadata": {},
   "outputs": [],
   "source": [
    "kommentare_liste[0] # ein Kommentar mit zusätzlichen Items"
   ]
  },
  {
   "cell_type": "code",
   "execution_count": 10,
   "metadata": {},
   "outputs": [
    {
     "data": {
      "text/plain": [
       "698"
      ]
     },
     "execution_count": 10,
     "metadata": {},
     "output_type": "execute_result"
    }
   ],
   "source": [
    "subset_SPD = filter_for('party',['SPD'], speeches)\n",
    "len(subset_SPD)\n"
   ]
  },
  {
   "cell_type": "code",
   "execution_count": null,
   "metadata": {},
   "outputs": [],
   "source": [
    "subset_SPD[0]"
   ]
  },
  {
   "cell_type": "code",
   "execution_count": null,
   "metadata": {},
   "outputs": [],
   "source": []
  }
 ],
 "metadata": {
  "kernelspec": {
   "display_name": "Python 3 (ipykernel)",
   "language": "python",
   "name": "python3"
  },
  "language_info": {
   "codemirror_mode": {
    "name": "ipython",
    "version": 3
   },
   "file_extension": ".py",
   "mimetype": "text/x-python",
   "name": "python",
   "nbconvert_exporter": "python",
   "pygments_lexer": "ipython3",
   "version": "3.9.7"
  }
 },
 "nbformat": 4,
 "nbformat_minor": 4
}
