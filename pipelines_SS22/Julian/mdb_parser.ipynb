{
 "cells": [
  {
   "cell_type": "code",
   "execution_count": 1,
   "id": "4366bbb5-a779-4edb-9a3b-e95e427b2b75",
   "metadata": {},
   "outputs": [],
   "source": [
    "import os\n",
    "import json\n",
    "from datetime import datetime\n",
    "from lxml import etree"
   ]
  },
  {
   "cell_type": "code",
   "execution_count": 2,
   "id": "88cdf7ec-3861-410d-a0e2-49eda9aa457f",
   "metadata": {},
   "outputs": [],
   "source": [
    "def loadSpeeches(directory: str):\n",
    "    parser = etree.XMLParser(dtd_validation=False)\n",
    "    filenames = [os.path.join(directory, file) for file in os.listdir(directory)]\n",
    "    return [etree.parse(file, parser) for file in filenames]\n"
   ]
  },
  {
   "cell_type": "code",
   "execution_count": 3,
   "id": "417cf0ba-12b2-4bc4-8c56-3523b4dae24e",
   "metadata": {},
   "outputs": [
    {
     "name": "stdout",
     "output_type": "stream",
     "text": [
      "42\n",
      "26.10.2021\n"
     ]
    }
   ],
   "source": [
    "legislative_period = 20\n",
    "\n",
    "speeches_path = f'../../data/data_{legislative_period}/speeches'\n",
    "\n",
    "speeches_xml = loadSpeeches(speeches_path)\n",
    "\n",
    "print(len(speeches_xml))\n",
    "print(speeches_xml[0].getroot().attrib.get('sitzung-datum'))"
   ]
  },
  {
   "cell_type": "code",
   "execution_count": 15,
   "id": "19a0399d-bffc-421b-a9d3-f9c4316d0922",
   "metadata": {},
   "outputs": [],
   "source": [
    "def parseNames(names):\n",
    "    name_dict = {}\n",
    "    \n",
    "    # Use last added name from names. The lateron relation between mdb and speech is done via the id and not the name!\n",
    "    name = names.getchildren()[-1].getchildren()\n",
    "    \n",
    "    name_dict['surname'] = name[0].text\n",
    "    name_dict['forename'] = name[1].text\n",
    "    name_dict['salutation_title'] = name[5].text\n",
    "    name_dict['academic_title'] = name[6].text\n",
    "    \n",
    "    return name_dict\n",
    "\n",
    "def parseBiography(biography):\n",
    "    bio_dict = {}\n",
    "    \n",
    "    bio = biography.getchildren()\n",
    "    \n",
    "    bio_dict['birth_date'] = bio[0].text\n",
    "    bio_dict['birth_place'] = bio[1].text\n",
    "    bio_dict['birth_country'] = bio[2].text\n",
    "    bio_dict['gender'] = bio[4].text\n",
    "    bio_dict['civil_status'] = bio[5].text\n",
    "    bio_dict['religion'] = bio[6].text\n",
    "    bio_dict['profession'] = bio[7].text\n",
    "    bio_dict['party'] = bio[8].text\n",
    "    \n",
    "    return bio_dict\n",
    "\n",
    "def parseLegislativePeriod(period_elem):\n",
    "    period_dict = {}\n",
    "    \n",
    "    period = period_elem.getchildren()    \n",
    "    \n",
    "    period_dict['period_number'] = period[0].text\n",
    "    period_dict['wkr_number'] = period[3].text\n",
    "    period_dict['wkr_name'] = period[4].text\n",
    "    period_dict['wkr_land'] = period[5].text\n",
    "    period_dict['mandat_type'] = period[7].text\n",
    "    \n",
    "    return period_dict\n",
    "    \n",
    "def parseMdb(mdb):\n",
    "    children = mdb.getchildren()\n",
    "    \n",
    "    mdb_dict = {}\n",
    "    \n",
    "    mdb_dict['id'] = children[0].text\n",
    "    mdb_dict['name'] = parseNames(children[1])\n",
    "    mdb_dict['biography'] = parseBiography(children[2])\n",
    "    mdb_dict['legislative_periods'] = [parseLegislativePeriod(period) for period in children[3].getchildren()]\n",
    "    \n",
    "    return mdb_dict\n",
    "        \n",
    "\n",
    "def getMdbCoredata():\n",
    "    mdb_core_data_path = '../../data/MdB-Stammdaten-data/MDB_STAMMDATEN.XML'\n",
    "    mdb_parser = etree.XMLParser(dtd_validation=False)\n",
    "    root = etree.parse(mdb_core_data_path)\n",
    "    \n",
    "    mdbs = root.findall('.//MDB')\n",
    "    \n",
    "    return [parseMdb(mdb) for mdb in mdbs]\n",
    "    "
   ]
  },
  {
   "cell_type": "code",
   "execution_count": 18,
   "id": "0d2beb59-e009-45fa-a053-6eca6a8556c8",
   "metadata": {},
   "outputs": [
    {
     "name": "stdout",
     "output_type": "stream",
     "text": [
      "4366\n",
      "{'id': '11000001', 'name': {'surname': 'Abelein', 'forename': 'Manfred', 'salutation_title': 'Dr.', 'academic_title': 'Prof. Dr.'}, 'biography': {'birth_date': '20.10.1930', 'birth_place': 'Stuttgart', 'birth_country': None, 'gender': 'männlich', 'civil_status': 'keine Angaben', 'religion': 'katholisch', 'profession': 'Rechtsanwalt, Wirtschaftsprüfer, Universitätsprofessor', 'party': 'CDU'}, 'legislative_periods': [{'period_number': '5', 'wkr_number': '174', 'wkr_name': None, 'wkr_land': 'BWG', 'mandat_type': 'Direktwahl'}, {'period_number': '6', 'wkr_number': '174', 'wkr_name': None, 'wkr_land': 'BWG', 'mandat_type': 'Direktwahl'}, {'period_number': '7', 'wkr_number': '174', 'wkr_name': None, 'wkr_land': 'BWG', 'mandat_type': 'Direktwahl'}, {'period_number': '8', 'wkr_number': '174', 'wkr_name': None, 'wkr_land': 'BWG', 'mandat_type': 'Direktwahl'}, {'period_number': '9', 'wkr_number': '174', 'wkr_name': None, 'wkr_land': 'BWG', 'mandat_type': 'Direktwahl'}, {'period_number': '10', 'wkr_number': '174', 'wkr_name': None, 'wkr_land': 'BWG', 'mandat_type': 'Direktwahl'}, {'period_number': '11', 'wkr_number': '174', 'wkr_name': None, 'wkr_land': 'BWG', 'mandat_type': 'Direktwahl'}]}\n",
      "{'id': '11000002', 'name': {'surname': 'Achenbach', 'forename': 'Ernst', 'salutation_title': 'Dr.', 'academic_title': 'Dr.'}, 'biography': {'birth_date': '09.04.1909', 'birth_place': 'Siegen', 'birth_country': None, 'gender': 'männlich', 'civil_status': 'verheiratet, 3 Kinder', 'religion': 'evangelisch', 'profession': 'Rechtsanwalt und Notar', 'party': 'FDP'}, 'legislative_periods': [{'period_number': '3', 'wkr_number': None, 'wkr_name': None, 'wkr_land': None, 'mandat_type': 'Landesliste'}, {'period_number': '4', 'wkr_number': None, 'wkr_name': None, 'wkr_land': None, 'mandat_type': 'Landesliste'}, {'period_number': '5', 'wkr_number': None, 'wkr_name': None, 'wkr_land': None, 'mandat_type': 'Landesliste'}, {'period_number': '6', 'wkr_number': None, 'wkr_name': None, 'wkr_land': None, 'mandat_type': 'Landesliste'}, {'period_number': '7', 'wkr_number': None, 'wkr_name': None, 'wkr_land': None, 'mandat_type': 'Landesliste'}]}\n",
      "{'id': '11000003', 'name': {'surname': 'Ackermann', 'forename': 'Annemarie', 'salutation_title': None, 'academic_title': None}, 'biography': {'birth_date': '26.05.1913', 'birth_place': 'Parabutsch', 'birth_country': 'Jugoslawien', 'gender': 'weiblich', 'civil_status': 'verheiratet, 5 Kinder', 'religion': 'katholisch', 'profession': 'Hilfsreferentin', 'party': 'CDU'}, 'legislative_periods': [{'period_number': '2', 'wkr_number': None, 'wkr_name': None, 'wkr_land': None, 'mandat_type': 'Landesliste'}, {'period_number': '3', 'wkr_number': None, 'wkr_name': None, 'wkr_land': None, 'mandat_type': 'Landesliste'}, {'period_number': '4', 'wkr_number': None, 'wkr_name': None, 'wkr_land': None, 'mandat_type': 'Landesliste'}]}\n"
     ]
    }
   ],
   "source": [
    "mdb_data = getMdbCoredata()\n",
    "\n",
    "print(len(mdb_data))\n",
    "\n",
    "print(*mdb_data[:3],sep='\\n')"
   ]
  },
  {
   "cell_type": "code",
   "execution_count": 47,
   "id": "ce1ba483-c873-41fe-8dbc-efd473f83b9f",
   "metadata": {},
   "outputs": [],
   "source": [
    "def write_dict_to_json_file(dictionary):\n",
    "    with open('parsed_mdbs.json', 'w') as outfile:\n",
    "        json.dump(dictionary, outfile, indent=2)\n",
    "    \n",
    "def read_mdbs_from_json():\n",
    "    obj = json.loads(open('parsed_mdbs.json').read())\n",
    "    return obj"
   ]
  },
  {
   "cell_type": "code",
   "execution_count": 50,
   "id": "4e26e8d4-5b59-4b4b-8f92-9e14ca89b725",
   "metadata": {},
   "outputs": [],
   "source": [
    "write_dict_to_json_file(mdb_data)"
   ]
  },
  {
   "cell_type": "code",
   "execution_count": 93,
   "id": "1364d554-6c89-4912-8a0d-425d26c5967b",
   "metadata": {},
   "outputs": [],
   "source": [
    "mdbs = read_mdbs_from_json()"
   ]
  },
  {
   "cell_type": "code",
   "execution_count": 92,
   "id": "e3818471-27fe-4e1c-abea-ebb554f92a80",
   "metadata": {},
   "outputs": [
    {
     "name": "stdout",
     "output_type": "stream",
     "text": [
      "4366\n",
      "723\n",
      "{'id': '11001235', 'name': {'surname': 'Kubicki', 'forename': 'Wolfgang', 'salutation_title': None, 'academic_title': None}, 'biography': {'birth_date': '03.03.1952', 'birth_place': 'Braunschweig', 'birth_country': None, 'gender': 'männlich', 'civil_status': 'verheiratet, 2 Kinder', 'religion': None, 'profession': 'Vizepräsident DBT, Rechtsanwalt, Dipl.-Volkswirt', 'party': 'FDP'}, 'legislative_periods': [{'period_number': '12', 'wkr_number': None, 'wkr_name': None, 'wkr_land': None, 'mandat_type': 'Landesliste'}, {'period_number': '15', 'wkr_number': None, 'wkr_name': None, 'wkr_land': None, 'mandat_type': 'Landesliste'}, {'period_number': '19', 'wkr_number': None, 'wkr_name': None, 'wkr_land': None, 'mandat_type': 'Landesliste'}, {'period_number': '20', 'wkr_number': None, 'wkr_name': None, 'wkr_land': None, 'mandat_type': 'Landesliste'}]}\n",
      "{'id': '11001772', 'name': {'surname': 'Ramsauer', 'forename': 'Peter', 'salutation_title': 'Dr.', 'academic_title': 'Dr.'}, 'biography': {'birth_date': '10.02.1954', 'birth_place': 'München', 'birth_country': None, 'gender': 'männlich', 'civil_status': 'verheiratet, 4 Kinder', 'religion': 'katholisch', 'profession': 'Dipl.-Kaufmann, Müllermeister', 'party': 'CSU'}, 'legislative_periods': [{'period_number': '12', 'wkr_number': '211', 'wkr_name': None, 'wkr_land': 'BAY', 'mandat_type': 'Direktwahl'}, {'period_number': '13', 'wkr_number': '211', 'wkr_name': 'Traunstein', 'wkr_land': 'BAY', 'mandat_type': 'Direktwahl'}, {'period_number': '14', 'wkr_number': '211', 'wkr_name': 'Traunstein', 'wkr_land': 'BAY', 'mandat_type': 'Direktwahl'}, {'period_number': '15', 'wkr_number': '226', 'wkr_name': 'Traunstein', 'wkr_land': 'BAY', 'mandat_type': 'Direktwahl'}, {'period_number': '16', 'wkr_number': '226', 'wkr_name': 'Traunstein', 'wkr_land': 'BAY', 'mandat_type': 'Direktwahl'}, {'period_number': '17', 'wkr_number': '225', 'wkr_name': 'Traunstein', 'wkr_land': 'BAY', 'mandat_type': 'Direktwahl'}, {'period_number': '18', 'wkr_number': '225', 'wkr_name': 'Traunstein', 'wkr_land': 'BY', 'mandat_type': 'Direktwahl'}, {'period_number': '19', 'wkr_number': '225', 'wkr_name': 'Traunstein', 'wkr_land': 'BY', 'mandat_type': 'Direktwahl'}, {'period_number': '20', 'wkr_number': '225', 'wkr_name': 'Traunstein', 'wkr_land': 'BY', 'mandat_type': 'Direktwahl'}]}\n"
     ]
    }
   ],
   "source": [
    "print(len(mdbs))\n",
    "current_mdbs = []\n",
    "\n",
    "for mdb in mdbs:\n",
    "    name = mdb['name']['forename'] + ' ' + mdb['name']['surname']\n",
    "    if 20 == int(mdb['legislative_periods'][-1]['period_number']):\n",
    "        current_mdbs.append(mdb)\n",
    "\n",
    "print(len(current_mdbs))\n",
    "print(*current_mdbs[:2], sep='\\n')"
   ]
  },
  {
   "cell_type": "code",
   "execution_count": null,
   "id": "3ac7e5ee-a973-4efc-8ea8-8dbebc33f5fb",
   "metadata": {},
   "outputs": [],
   "source": []
  }
 ],
 "metadata": {
  "kernelspec": {
   "display_name": "Python 3",
   "language": "python",
   "name": "python3"
  },
  "language_info": {
   "codemirror_mode": {
    "name": "ipython",
    "version": 3
   },
   "file_extension": ".py",
   "mimetype": "text/x-python",
   "name": "python",
   "nbconvert_exporter": "python",
   "pygments_lexer": "ipython3",
   "version": "3.8.3"
  }
 },
 "nbformat": 4,
 "nbformat_minor": 5
}
