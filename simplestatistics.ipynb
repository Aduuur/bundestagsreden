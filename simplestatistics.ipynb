{
 "cells": [
  {
   "cell_type": "code",
   "execution_count": 41,
   "metadata": {},
   "outputs": [],
   "source": [
    "\n",
    "import streamlit as st\n",
    "import pandas as pd\n",
    "import numpy as np\n",
    "import requests\n",
    "import spacy\n",
    "nlp = spacy.load('de') #load spacy model\n",
    "import tqdm\n",
    "from collections import Counter\n",
    "import collections\n",
    "import matplotlib.pyplot as plt\n",
    "\n",
    "import json\n",
    "\n",
    "import sys\n",
    "sys.path.append(\"/Users/seven/data/git/mpileipzig/penelope/components/\")\n",
    "\n",
    "\n",
    " "
   ]
  },
  {
   "cell_type": "code",
   "execution_count": 37,
   "metadata": {},
   "outputs": [],
   "source": [
    "# see devStatementGraph and devPaperPipeline for development and documentation\n",
    "def StatementGraphGenerator(inParams):\n",
    "\n",
    "    stm_list = inParams['data']\n",
    "    \n",
    "    if inParams['language'] == 'en':\n",
    "        nlp = spacy.load('en_core_web_sm') #load english spacy model\n",
    "    elif inParams['language'] == 'de':\n",
    "        nlp = spacy.load('de_core_news_sm') #load german spacy model\n",
    "    elif inParams['language'] == 'fr':\n",
    "        nlp = spacy.load('fr_core_news_sm') #load french spacy model\n",
    "    elif inParams['language'] == 'es':\n",
    "        nlp = spacy.load('es_core_news_sm') #load spanish spacy model\n",
    "    elif inParams['language'] == 'pt':\n",
    "        nlp = spacy.load('pt_core_news_sm') #load portuguese spacy model\n",
    "    elif inParams['language'] == 'it':\n",
    "        nlp = spacy.load('it_core_news_sm') #load italian spacy model\n",
    "    elif inParams['language'] == 'nl':\n",
    "        nlp = spacy.load('nl_core_news_sm') #load dutch spacy model\n",
    "    elif inParams['language'] == 'el':\n",
    "        nlp = spacy.load('el_core_news_sm') #load greek spacy model\n",
    "    elif inParams['language'] == 'nb':\n",
    "        nlp = spacy.load('nb_core_news_sm') #load norwegian bokmal spacy model\n",
    "    elif inParams['language'] == 'lt':\n",
    "        nlp = spacy.load('lt_core_news_sm') #load lithuanian spacy model\n",
    "    elif inParams['language'] == 'xx':\n",
    "        nlp = spacy.load('xx_ent_wiki_sm') #load multi-language spacy model\n",
    "\n",
    "    else:\n",
    "        print('ERROR! Language not supported!')\n",
    "        \n",
    "    relevantPOS = inParams['pos']\n",
    "    ignoreLEM = inParams['ignore']\n",
    "    \n",
    "    # 1.2.2 Note: requires spacy and language model to be loaded\n",
    "    print('apply nlp pipeline')\n",
    "    for value in tqdm.tqdm(stm_list):\n",
    "        doc = nlp(value['text'])\n",
    "        value.update({'doc' : doc})\n",
    "    \n",
    "    # 1.2.3\n",
    "    # Data cleaning options\n",
    "    print('filter words')\n",
    "    #relevantPOS = ['NOUN','VERB','ADJ']\n",
    "    #ignoreLEM = ['Herr','Kollege','Dame','Frau','Präsident']\n",
    "    #ignoreLEM = []\n",
    "\n",
    "    stm_list_nlp = []\n",
    "    statements_lemma_list = []\n",
    "    #statements_pos_list = []\n",
    "    for stm in tqdm.tqdm(stm_list):\n",
    "        lemmas = []\n",
    "        pos = []\n",
    "        for token in stm['doc']:\n",
    "            if token.is_punct is not True and token.is_stop is not True and token.pos_ in relevantPOS and token.lemma_ not in ignoreLEM:\n",
    "                lemmas.append(token.lemma_)\n",
    "                pos.append(token.pos_)\n",
    "        stm.update({'lemmata' : lemmas})    \n",
    "        statements_lemma_list.append(lemmas)\n",
    "        #statements_pos_list.append(pos)\n",
    "\n",
    "    # 1.2.4\n",
    "    print('count and order lemmata')\n",
    "    flattened = [val for lemmas in statements_lemma_list for val in lemmas]\n",
    "    lemma_frequency_list = collections.Counter(flattened).most_common()\n",
    "    all_lemmata_list = [ i[0] for i in lemma_frequency_list ]\n",
    "    all_lemmata_count = [ i[1] for i in lemma_frequency_list ]\n",
    "\n",
    "    # remove single items\n",
    "    # 1.2.5\n",
    "    print('remove singles')\n",
    "    all_freq_lemmata_list = [ all_lemmata_list[i] for i,v in enumerate(all_lemmata_list) if (all_lemmata_count[i] > 1) ]\n",
    "    all_freq_lemmata_count = [ all_lemmata_count[i] for i,v in enumerate(all_lemmata_count) if (all_lemmata_count[i] > 1) ]\n",
    "        \n",
    "    all_lemmata_list = all_freq_lemmata_list\n",
    "    all_lemmata_count = all_freq_lemmata_count \n",
    "\n",
    "    # Construct word browsable dict for later use in semantic relatedness computation\n",
    "    wordscounts_dict = {}\n",
    "    for lx,lem in enumerate(all_lemmata_list):\n",
    "        wordscounts_dict.update({ lem : all_lemmata_count[lx] })\n",
    " \n",
    "    # From this file\n",
    "    stmnet_dict = {\n",
    "        'nodes' : [],\n",
    "        'links' : []\n",
    "        }    \n",
    " \n",
    "\n",
    "    for ix,stm in enumerate(stm_list):\n",
    "        if len(stm['lemmata']) > 0:\n",
    "            node_dict = {\n",
    "                'id' : ix+1\n",
    "            }\n",
    "            for ele in stm:\n",
    "                if ele != 'lemmata' and ele != 'doc':\n",
    "                    node_dict.update({ele : stm[ele]})\n",
    "            \n",
    "            mfic = [ lem for lem in all_lemmata_list if (lem in stm['lemmata'] )]\n",
    "            #freqI = collections.Counter(stmI).most_common()\n",
    "            #lemmataI = [ i[0] for i in freqI ]\n",
    "            if len(mfic)>0:\n",
    "                node_dict.update({'mfic' : mfic[0]})\n",
    "            else:\n",
    "                node_dict.update({'mfic' : ' '})\n",
    "    \n",
    "            stmnet_dict['nodes'].append(node_dict)\n",
    "    \n",
    "    \n",
    "    #stmnet_dict['graph']['edges'] = []\n",
    "    for nodeI in tqdm.tqdm(stmnet_dict['nodes']):\n",
    "        stmI = stm_list[ nodeI['id']-1 ]['lemmata']\n",
    "        for nodeJ in stmnet_dict['nodes']:     \n",
    "            if nodeI['id'] < nodeJ['id']:\n",
    "                stmJ = stm_list[ nodeJ['id']-1 ]['lemmata']\n",
    "                overlap = [ lem for lem in set(stmI) if (lem in set(stmJ))]  # set overlap\n",
    "                weight = len(overlap) / (len(stmI)+len(stmJ))\n",
    "                if (len(overlap) > 0):\n",
    "                    edge_dict = {\n",
    "                        'source' : nodeI['id'],\n",
    "                        'target' : nodeJ['id'],\n",
    "                        'weight' : weight\n",
    "                        }\n",
    "                    stmnet_dict['links'].append(edge_dict)\n",
    "    \n",
    "    return stmnet_dict"
   ]
  },
  {
   "cell_type": "code",
   "execution_count": 52,
   "metadata": {},
   "outputs": [],
   "source": [
    "#search_query = \"Digitalisierung\"\n",
    "#search_query = \"Klima\"\n",
    "#search_query = \"Sozialismus\"\n",
    "#search_query = \"Kräfte\"\n",
    "\n",
    "#search_query = \"erneuerbar\"\n",
    "#search_query2 = \"wirtschaftlich\"\n",
    "\n",
    "search_query = \"Afrika\"\n",
    "search_query2 = \"Europa\"\n",
    "\n",
    "json = {'search_query':search_query, \n",
    "        'dataset_name':'deu', \n",
    "        'start_date':'2016-1-1', \n",
    "        'end_date':'2021-1-1'}\n",
    "result = requests.post('https://penelope.vub.be/parliament-data/get-speeches', json=json)\n",
    "\n"
   ]
  },
  {
   "cell_type": "code",
   "execution_count": 53,
   "metadata": {},
   "outputs": [],
   "source": [
    "speeches = []\n",
    "for speech in result.json()[\"speeches\"]:\n",
    "    speeches.append(speech)\n",
    "    #parties.append(speech['party'])\n",
    "    #print(speech['date'])\n",
    "\n",
    "# code to sort list on date \n",
    "speeches.sort(key = lambda x:x['date'])    "
   ]
  },
  {
   "cell_type": "code",
   "execution_count": 54,
   "metadata": {},
   "outputs": [],
   "source": [
    "json = {'search_query':search_query2, \n",
    "        'dataset_name':'deu', \n",
    "        'start_date':'2016-1-1', \n",
    "        'end_date':'2021-1-1'}\n",
    "result = requests.post('https://penelope.vub.be/parliament-data/get-speeches', json=json)\n",
    "\n",
    "speeches2 = []\n",
    "for speech in result.json()[\"speeches\"]:\n",
    "    speeches2.append(speech)\n",
    "\n",
    "# code to sort list on date \n",
    "speeches2.sort(key = lambda x:x['date']) "
   ]
  },
  {
   "cell_type": "code",
   "execution_count": 55,
   "metadata": {},
   "outputs": [
    {
     "name": "stdout",
     "output_type": "stream",
     "text": [
      "There are 220 speeches containing _Afrika_ and _Europa_\n"
     ]
    }
   ],
   "source": [
    "jointspeeches=[]\n",
    "for speech in speeches:\n",
    "    if search_query in speech['text'] and search_query2 in speech['text']:\n",
    "        jointspeeches.append(speech)\n",
    "ljoint = len(jointspeeches)\n",
    "print(f\"There are {ljoint} speeches containing _{search_query}_ and _{search_query2}_\")"
   ]
  },
  {
   "cell_type": "code",
   "execution_count": 56,
   "metadata": {},
   "outputs": [
    {
     "name": "stderr",
     "output_type": "stream",
     "text": [
      "100%|██████████| 220/220 [00:19<00:00, 11.43it/s]\n"
     ]
    },
    {
     "data": {
      "text/plain": [
       "[{'name': 'Gerold Otten',\n",
       "  'party': 'AfD',\n",
       "  'text': 'Seit einigen Wochen zeigen die Nachrichten wieder erschreckende Bilder von überfüllten Schlauchbooten, mit denen Menschen aus Afrika nach Europa gelangen wollen.'},\n",
       " {'name': 'Florian Hahn',\n",
       "  'party': 'CDU/CSU',\n",
       "  'text': 'Denn Mali ist eine wichtige Transitregion für Flüchtlinge in Afrika, und die Sahelzone ist ein neuralgischer Punkt für die Migration nach Europa.'},\n",
       " {'name': 'Karl-Heinz Brunner',\n",
       "  'party': 'SPD',\n",
       "  'text': 'Afrika liegt vor unserer Haustür, ein paar Seemeilen von Europa entfernt.'},\n",
       " {'name': 'Roderich Kiesewetter',\n",
       "  'party': 'CDU/CSU',\n",
       "  'text': 'Zweitens ist diese Mission ganz entscheidend, um Partner aus dem Nahen und Mittleren Osten und aus dem nördlichen Afrika einzubinden, sie auszubilden, sie an die Sicherheitskultur Europas heranzuführen;'},\n",
       " {'name': 'Katja Keul',\n",
       "  'party': 'BÜNDNIS 90/DIE GRÜNEN',\n",
       "  'text': 'Wir können die Afrikaner auch schon deswegen nicht mit ihren Problemen alleinlassen, weil Europa und die USA die Probleme mitverursacht haben.'},\n",
       " {'name': 'Heribert Hirte',\n",
       "  'party': 'CDU/CSU',\n",
       "  'text': 'Wenn wir in Europa so fördern, dass Afrika nicht mehr nach Europa exportieren kann, dann gibt das Anlass zu Bedenken.'},\n",
       " {'name': 'Volker Ullrich',\n",
       "  'party': 'CDU/CSU',\n",
       "  'text': 'Wir müssen im Bereich der Flüchtlingspolitik auch darüber sprechen, dass Europa sich stärker in Afrika engagiert, um die Fluchtursachen zu bekämpfen und dafür zu sorgen, dass die Menschen sich gar nicht erst auf die Flucht begeben.'},\n",
       " {'name': 'Rainer Kraft',\n",
       "  'party': 'AfD',\n",
       "  'text': 'Des Weiteren fördern Sie die Massenmigration nach Europa, obwohl der CO 2 -Abdruck eines Mitteleuropäers zehnmal so groß ist wie der eines Menschen in Afrika.'},\n",
       " {'name': 'Florian Hahn',\n",
       "  'party': 'CDU/CSU',\n",
       "  'text': 'Krisen im Osten oder in Afrika haben direkte Auswirkungen auf unser Leben in Europa.'},\n",
       " {'name': 'Harald Weyel',\n",
       "  'party': 'AfD',\n",
       "  'text': 'Es ist im Großen und Ganzen übrigens ein Europa auch des Finanzrassismus, wo die Rettung konsumverwöhnter Südeuropäer viel mehr wert ist als etwa die Unterstützung ehrlicher Marktstrukturen in Afrika oder sonst wo auf der Welt.'},\n",
       " {'name': 'Christian Wirth',\n",
       "  'party': 'AfD',\n",
       "  'text': 'Nicht umsonst hat uns unser heutiger Präsident Herr Schäuble bereits 2016 belehrt, wir bräuchten die Migration aus Afrika und dem Nahen Osten, um in Europa nicht in Inzucht zu degenerieren.'},\n",
       " {'name': 'Christian Wirth',\n",
       "  'party': 'AfD',\n",
       "  'text': 'Meine Damen und Herren, dies ist das Vokabular der „Replacement“-Agenda der UNO und der EU, nachzulesen ab 2001 auf den offiziellen Seiten der UNO und der EU, wonach für Europa eine Migration aus Nahost und Afrika gefordert wird, um den Nationalstaaten in Europa das Rückgrat zu brechen, mit einer Quote für Deutschland von an die 12 Millionen Menschen.'},\n",
       " {'name': 'Bernd Baumann',\n",
       "  'party': 'AfD',\n",
       "  'text': '„Merkel will Wirtschaftsflüchtlingen aus Afrika legale Wege nach Europa eröffnen“.'},\n",
       " {'name': 'Roderich Kiesewetter',\n",
       "  'party': 'CDU/CSU',\n",
       "  'text': 'Wenn es um den Mittelmeerraum geht, sollte nicht zwischen Afrika und Europa unterschieden werden.'},\n",
       " {'name': 'Thomas Silberhorn',\n",
       "  'party': 'CDU/CSU',\n",
       "  'text': 'Es freut mich, dass wir hier in diesem Haus, in ganz Deutschland und in Europa immer öfter und intensiver über Afrika diskutieren.'},\n",
       " {'name': 'Gottfried Curio',\n",
       "  'party': 'AfD',\n",
       "  'text': 'Aus einem sicheren Transitstaat wie der Türkei flieht man nicht nach Europa, auch nicht von einem ganzen Kontinent wie Afrika.'},\n",
       " {'name': 'Gottfried Curio',\n",
       "  'party': 'AfD',\n",
       "  'text': 'Die UN-Umsiedlungspläne, Resettlement von Afrika nach Europa, de facto nach Deutschland, hat Frau Merkel, die Kanzlerin der Ausländer, der Union in das Parteiprogramm geschrieben.'},\n",
       " {'name': 'Dietmar Friedhoff',\n",
       "  'party': 'AfD',\n",
       "  'text': 'Aber wie bitte soll das auf einem Kontinent geschehen, der weder über ein gemeinsames Wertesystem verfügt noch Verwaltungsstrukturen kennt, zumal Afrika durch Handelsbarrieren nach Europa mehr Geld verliert, als durch Entwicklungshilfe zurückfließt?'},\n",
       " {'name': 'Markus Frohnmaier',\n",
       "  'party': 'AfD',\n",
       "  'text': 'Sie funktioniert in China, sie funktioniert in Afrika, sie funktioniert in Europa und, ja, meine Damen und Herren, sie funktioniert auch in Duisburg.'},\n",
       " {'name': 'Thomas Erndl',\n",
       "  'party': 'CDU/CSU',\n",
       "  'text': '– Eine bessere Antwort ist: Afrika ist der Kontinent der Chancen, für Europa, für uns, und natürlich sollte er es in erster Linie für die Menschen vor Ort sein.'},\n",
       " {'name': 'Christian Sauter',\n",
       "  'party': 'FDP',\n",
       "  'text': 'Die Sicherheit Europas profitiert davon, und die politische Lage des Nahen Ostens und Afrikas machen eine umfassende Seeraumüberwachung zu einem Gebot.'},\n",
       " {'name': 'Udo Theodor Hemmelgarn',\n",
       "  'party': 'AfD',\n",
       "  'text': 'In Afrika sitzen Millionen von Menschen auf gepackten Koffern und warten nur darauf, nach Europa und speziell nach Deutschland zu gelangen.'},\n",
       " {'name': 'Jan Ralf Nolte',\n",
       "  'party': 'AfD',\n",
       "  'text': 'Bis 2050 rechnet man mit bis zu 800 Millionen Afrikanern mit dem Migrationsziel Europa.'},\n",
       " {'name': 'Reinhard Brandl',\n",
       "  'party': 'CDU/CSU',\n",
       "  'text': '90 Prozent des Handels zwischen Europa, Afrika und Asien werden darüber abgewickelt.'},\n",
       " {'name': 'René Springer',\n",
       "  'party': 'AfD',\n",
       "  'text': '90 Prozent des Handels zwischen Europa, Afrika und Asien werden über diesen Seeweg abgewickelt.'},\n",
       " {'name': 'Nikolas Löbel',\n",
       "  'party': 'CDU/CSU',\n",
       "  'text': 'Das sind 90 Prozent des Handels zwischen Europa, Afrika und Asien.'},\n",
       " {'name': 'Ursula Leyen',\n",
       "  'party': 'CDU/CSU',\n",
       "  'text': 'Allein mit Lippenbekenntnissen werden wir die Sicherheit für Europa nicht schaffen und werden wir – der Kollege Müller weiß das besser als ich – auch Sicherheit und Stabilität in Afrika nicht herstellen können.'},\n",
       " {'name': 'Anja Hajduk',\n",
       "  'party': 'BÜNDNIS 90/DIE GRÜNEN',\n",
       "  'text': 'Jetzt muss der Entwicklungsminister der Landwirtschaftsministerin aus der eigenen Fraktion, dem Kanzleramt und dem Bundesinnenminister klarmachen, dass es eine Federführung braucht und eine stimmige Entwicklungspolitik, die mehr Geld in die Partnerschaft für Afrika setzt als in die alte Subventionierung einer falschen Agrarpolitik in Europa.'},\n",
       " {'name': 'Jan Ralf Nolte',\n",
       "  'party': 'AfD',\n",
       "  'text': 'Liebe Kollegen der Bundesregierung, keiner, der hier heute zusieht, versteht, warum wir die Migranten aus Afrika selbst nach Europa fahren.'},\n",
       " {'name': 'Christoph Matschie',\n",
       "  'party': 'SPD',\n",
       "  'text': 'Dazu kommt auch eine gewisse historische Verantwortung, die Europa in Afrika immer noch hat.'},\n",
       " {'name': 'Dietmar Friedhoff',\n",
       "  'party': 'AfD',\n",
       "  'text': 'Aber was kann Europa Afrika derzeit überhaupt bieten?'},\n",
       " {'name': 'Uwe Kekeritz',\n",
       "  'party': 'BÜNDNIS 90/DIE GRÜNEN',\n",
       "  'text': 'Sie suchen in Ihrem Antrag die Schuld so sehr bei Europa, dass Sie den Afrikanern die Ownership über ihre eigene Politik absprechen.'},\n",
       " {'name': 'Olaf Scholz',\n",
       "  'party': 'SPD',\n",
       "  'text': 'Dazu gehört aber natürlich auch, dass Europa und die europäischen Staaten mit den Staaten Afrikas darüber verhandeln, wie man es zum Beispiel hinbekommen kann, dass Hilfe geboten wird und dass es Möglichkeiten für eine legale Migration gibt.'},\n",
       " {'name': 'Michel Brandt',\n",
       "  'party': 'DIE LINKE',\n",
       "  'text': 'Die Retterinnen und Retter sind die letzte Bastion der Menschlichkeit zwischen Afrika und Europa.'},\n",
       " {'name': 'Jürgen Braun',\n",
       "  'party': 'AfD',\n",
       "  'text': 'Und dann hört auch die Schleuserei endlich auf, und dann hören auch endlich die Menschen auf, sich auf diesen unsäglichen Weg aus der Mitte Afrikas oder aus dem Mittleren Osten nach Europa zu begeben.'},\n",
       " {'name': 'Angela Merkel',\n",
       "  'party': 'CDU/CSU',\n",
       "  'text': 'Wenn wir möchten, dass Menschen aus Afrika, die in den meisten Fällen keine Asylberechtigung haben, nicht mehr unter Opferung bzw. Gefährdung des eigenen Lebens, unter Zahlung von viel Geld, unter Unterstützung von kriminellen Strukturen nach Europa kommen, dann müssen wir auch mit den afrikanischen Staaten darüber sprechen, wie wir Rückführungen gestalten und vielleicht auch Menschen davon abhalten können, erst durch die Wüste zu gehen und dann ihr Leben aufs Spiel zu setzen.'},\n",
       " {'name': 'Andreas Mattfeldt',\n",
       "  'party': 'CDU/CSU',\n",
       "  'text': 'denn nur wenn es uns gelingt, die Entwicklung Afrikas in den kommenden Jahren positiv voranzutreiben, werden wir die Migration nach Europa zumindest ein Stück weit steuern können.'},\n",
       " {'name': 'Peter Altmaier',\n",
       "  'party': 'CDU/CSU',\n",
       "  'text': 'Europa und die USA stehen für ein Drittel des gesamten Welthandels, und wenn der Handel zwischen Europa und den USA eine Lungenentzündung bekommt, dann haben alle anderen Länder um uns herum – nicht nur in Europa, sondern auch in Asien und auch in Afrika – eine ganz schwere Erkältung.'},\n",
       " {'name': 'Frauke Petry',\n",
       "  'party': 'fraktionslos',\n",
       "  'text': 'Wir sollten öffentlich Ehrlichkeit darüber herstellen, dass wir weder in Deutschland noch in Europa in der Lage sind, Millionen von Migranten aufzunehmen und Afrika zu helfen, es sei denn, wir reden über Hilfe zur Selbsthilfe.'},\n",
       " {'name': 'Michael Leutert',\n",
       "  'party': 'DIE LINKE',\n",
       "  'text': 'Wir sind gegen geschlossene Lager, egal ob in Europa oder Afrika.'},\n",
       " {'name': 'Christoph Hoffmann',\n",
       "  'party': 'FDP',\n",
       "  'text': 'Geschätzte 500 Millionen Menschen in Subsahara-Afrika würden lieber heute als morgen nach Europa kommen;'},\n",
       " {'name': 'Gerd Müller',\n",
       "  'party': 'CDU/CSU',\n",
       "  'text': 'Der Etat für Afrika – Afrika, die große Herausforderung Europas – steigt in der mittelfristigen Finanzplanung von 5 Milliarden Euro jährlich um 1 Milliarde auf 6 Milliarden Euro.'},\n",
       " {'name': 'Volkmar Klein',\n",
       "  'party': 'CDU/CSU',\n",
       "  'text': 'Ich habe dazu eine brandaktuelle Publikation gefunden und mitgebracht: ein Buch, das heißt „Afrika – Europas Gemeinschaftsaufgabe Nr. 1“.'},\n",
       " {'name': 'Volkmar Klein',\n",
       "  'party': 'CDU/CSU',\n",
       "  'text': '„Afrika – Europas Gemeinschaftsaufgabe Nr. 1“, 1951 erschienen, von dem Autor Anton Zischka.'},\n",
       " {'name': 'Gerd Müller',\n",
       "  'party': 'CDU/CSU',\n",
       "  'text': 'Eine ständige Arbeitskommission habe ich vor 14 Tagen mit der Afrikanischen Union vereinbart, um das Afrika-Europa-Abkommen 2020, das wir unter deutscher Ratspräsidentschaft unterzeichnen wollen, vorzubereiten.'},\n",
       " {'name': 'Carsten Körber',\n",
       "  'party': 'CDU/CSU',\n",
       "  'text': 'Wir überschwemmen die Märkte in Afrika mit Schlachtabfällen aus unserer Geflügelindustrie und sorgen mit Agrarsubventionen dafür, dass Treibhaustomaten und Zwiebeln aus Europa auf dem Markt in Gambia billiger sind als Gemüse von lokalen Kleinbauern.'},\n",
       " {'name': 'Ulrich Lechte',\n",
       "  'party': 'FDP',\n",
       "  'text': 'Europas Zukunft ist Afrika – so oder so.'},\n",
       " {'name': 'Frithjof Schmidt',\n",
       "  'party': 'BÜNDNIS 90/DIE GRÜNEN',\n",
       "  'text': 'Der Verdacht, dass die Europäische Union bereit sein könnte – zum Beispiel als Preis für das Entgegenkommen in Migrationsfragen –, einen solchen Diktator quasi als Türsteher Europas in Afrika zu tolerieren, darf auf keinen Fall aufkommen.'},\n",
       " {'name': 'Till Mansmann',\n",
       "  'party': 'FDP',\n",
       "  'text': 'So wie die Europäische Union mit ihrem Binnenmarkt und den offenen Grenzen den Wohlstand und den Frieden in Europa gesichert und ausgebaut hat, müssen wir auch in Afrika alle Entwicklungen unterstützen, die die Sperrwirkung von Grenzen reduzieren.'},\n",
       " {'name': 'Thomas Erndl',\n",
       "  'party': 'CDU/CSU',\n",
       "  'text': 'Verehrte Kolleginnen und Kollegen, ich möchte, dass irgendwann die Schlagzeilen von humanitären Katastrophen, Kriegen, Terror, politischer Instabilität in Afrika auch nur Einträge in Geschichtsbüchern sind und dass wir junge Menschen in Europa haben, die in Afrika einen Kontinent der Chancen sehen, mit dem es gilt auf Augenhöhe Handel zu treiben, Austausch, Wissenschaft, Bildung und vieles andere.'},\n",
       " {'name': 'Fabio De Masi',\n",
       "  'party': 'DIE LINKE',\n",
       "  'text': 'Vor 100 Jahren endete der Erste Weltkrieg mit bis zu 19 Millionen toten Soldaten und Zivilisten links und rechts des Rheins – in Europa, im Nahen Osten, in Afrika und Ostasien.'},\n",
       " {'name': 'Alexander Gauland',\n",
       "  'party': 'AfD',\n",
       "  'text': 'Wer Europa als Abflussbecken dafür anbietet, wird Europa schwächen und Afrika kein bisschen helfen.'},\n",
       " {'name': 'Frauke Petry',\n",
       "  'party': 'fraktionslos',\n",
       "  'text': 'Ihr Verzicht auf den Schutz deutscher Grenzen vor illegaler Migration und die damit verbundene Sogwirkung nach Afrika und in den Mittleren Osten haben die Axt an das freiheitliche Europa von Adenauer und de Gaulle gelegt.'},\n",
       " {'name': 'Henning Otte',\n",
       "  'party': 'CDU/CSU',\n",
       "  'text': 'Wir sehen das aggressive Vorgehen Russlands, wir sehen den Krisenbogen im Nahen Osten, zerfallende Staaten und die Instabilität im Norden Afrikas – Unruheherde am Rande Europas, die uns nicht in Ruhe lassen, weil sie uns direkt betreffen.'},\n",
       " {'name': 'Lars Castellucci',\n",
       "  'party': 'SPD',\n",
       "  'text': 'Es wird diese Woche in den Debatten fortgesetzt so getan, als würden insbesondere in Afrika Millionen auf gepackten Koffern sitzen, die nichts anderes zu tun haben und es nicht abwarten können, bis sie endlich nach Europa kommen.'},\n",
       " {'name': 'Thomas Erndl',\n",
       "  'party': 'CDU/CSU',\n",
       "  'text': 'Wir sollten öfter über Afrika debattieren – und zwar über Afrika als Kontinent der Chancen, über Afrika als Kontinent der Zukunft und über die Frage, ob Europa, ob Deutschland diese Chancen in ausreichendem Maße ergreift.'},\n",
       " {'name': 'Thomas Erndl',\n",
       "  'party': 'CDU/CSU',\n",
       "  'text': 'Innerhalb Afrikas bilden nur wenige Länder den Großteil des Handels mit Europa ab.'},\n",
       " {'name': 'Thomas Erndl',\n",
       "  'party': 'CDU/CSU',\n",
       "  'text': 'Die Hoffnung, die in Ministerpräsident Abiy gesetzt wird, konnte man auch an den 20 000 Äthiopiern, die in Europa leben, ablesen, die seinen Auftritt in der Frankfurter Commerzbank-Arena feierten, als er letztes Jahr für den Afrika-Gipfel nach Deutschland kam.'},\n",
       " {'name': 'Thomas Erndl',\n",
       "  'party': 'CDU/CSU',\n",
       "  'text': 'Afrika als Kontinent der Chancen – für Europa, für uns, aber auch für die Menschen in Afrika.'},\n",
       " {'name': 'Ottmar von Holtz',\n",
       "  'party': 'BÜNDNIS 90/DIE GRÜNEN',\n",
       "  'text': 'Dabei ist der Wolf in Europa genauso geschützt wie Elefanten, Löwen und Leoparden in Afrika.'},\n",
       " {'name': 'Rüdiger Lucassen',\n",
       "  'party': 'AfD',\n",
       "  'text': 'In München sprach die Kanzlerin die Themen alle an: das Machtstreben Chinas, die Völkerwanderung aus Afrika nach Europa, die Konflikte in der Ostukraine, im Nahen und Mittleren Osten, in Afghanistan, in Libyen.'},\n",
       " {'name': 'Roderich Kiesewetter',\n",
       "  'party': 'CDU/CSU',\n",
       "  'text': 'Wenn wir über Afrika und eine faire Handelspolitik nachdenken, stellen wir fest, dass die Rolle Europas weniger sichtbar ist, als sie sein könnte.'},\n",
       " {'name': 'Volker Ullrich',\n",
       "  'party': 'CDU/CSU',\n",
       "  'text': 'Es geht darum, dass die Kultur letzten Endes auch eine Brücke bildet, dass es selbstverständlich ist, dass in den nächsten Jahren Kulturgüter europäischer Herrschaft in afrikanischen Staaten ausgestellt werden, aber gleichzeitig auch afrikanische Kunst in Afrika und Europa ihren würdigen Rahmen findet.'},\n",
       " {'name': 'Berengar Elsner von Gronow',\n",
       "  'party': 'AfD',\n",
       "  'text': 'Wie beim nördlichen Nachbarn ist das – neben humanitären Gründen natürlich – auch im pragmatischen Interesse unseres Landes, da dies eines der Mittel ist, wie aktuellen und zukünftigen Migrationsbewegungen aus Afrika in Richtung Europa und Deutschland begegnet werden kann.'},\n",
       " {'name': 'Gottfried Curio',\n",
       "  'party': 'AfD',\n",
       "  'text': 'Sie lotsen doch damit die Menschen vorsätzlich aus Nachbarländern in Europa hierher – Binnenmigration – und aus Afrika.'},\n",
       " {'name': 'Michael Roth',\n",
       "  'party': 'SPD',\n",
       "  'text': 'Das Seegebiet am Horn von Afrika bleibt immer noch sehr gefährlich für die Handelsschiffe, die Europa mit der Arabischen Halbinsel und Asien verbinden.'},\n",
       " {'name': 'Michael Roth',\n",
       "  'party': 'SPD',\n",
       "  'text': 'Das Horn von Afrika ist eine Brücke zwischen Europa, der Arabischen Halbinsel und Asien.'},\n",
       " {'name': 'Reinhard Brandl',\n",
       "  'party': 'CDU/CSU',\n",
       "  'text': 'Ungefähr 90 Prozent des Handelsvolumens zwischen Europa, Asien und Afrika schippern dort an der Küste vorbei.'},\n",
       " {'name': 'Sascha Raabe',\n",
       "  'party': 'SPD',\n",
       "  'text': 'Wir haben ein System, das vor allem Agrarrohstoffe oder Mineralien aus dem Bergbau aus Afrika nach Europa und in die Industrieländer befördert.'},\n",
       " {'name': 'Andreas Nick',\n",
       "  'party': 'CDU/CSU',\n",
       "  'text': 'Der Einsatz der Bundeswehr in Mali schafft Sicherheit sowohl in Afrika als auch bei uns in Europa und trägt dazu bei, die Voraussetzungen für eine in Eigenverantwortung umgesetzte politische Lösung in der Region Sahel zu bereiten.'},\n",
       " {'name': 'Ursula Groden-Kranich',\n",
       "  'party': 'CDU/CSU',\n",
       "  'text': 'Was nicht geht: mehr Stabilität in Afrika wollen, Fluchtursachen bekämpfen wollen, Teil eines starken Europas in der Welt sein wollen, aber gleichzeitig immer vor Verteidigungsausgaben zurückschrecken und die Gefährlichkeit von Auslandseinsätzen beklagen.'},\n",
       " {'name': 'Thomas Erndl',\n",
       "  'party': 'CDU/CSU',\n",
       "  'text': '„Das Wohlergehen Europas ist mit dem unseres Nachbarn Afrika untrennbar verbunden“, steht in den afrikapolitischen Leitlinien der Bundesregierung.'},\n",
       " {'name': 'Markus Grübel',\n",
       "  'party': 'CDU/CSU',\n",
       "  'text': 'Der Handel zwischen Europa, Afrika und Asien ist von größter Bedeutung, und die Bedeutung nimmt zu.'},\n",
       " {'name': 'Markus Grübel',\n",
       "  'party': 'CDU/CSU',\n",
       "  'text': '90 Prozent des Handels zwischen Europa, Asien und Afrika gehen über den Golf von Aden.'},\n",
       " {'name': 'Gerd Müller',\n",
       "  'party': 'CDU/CSU',\n",
       "  'text': 'Jetzt geht es darum, die Handelsbeziehungen in einem neuen Abkommen zwischen Europa und Afrika neu zu definieren.'},\n",
       " {'name': 'Gerd Müller',\n",
       "  'party': 'CDU/CSU',\n",
       "  'text': 'Aus unserer Sicht ist wirksame Entwicklungszusammenarbeit Hilfe zur Selbsthilfe, das bedeutet auch die Integration Afrikas in den Welthandel, gerade mit Europa.'},\n",
       " {'name': 'Gerd Müller',\n",
       "  'party': 'CDU/CSU',\n",
       "  'text': 'Die Freihandelszone der Afrikanischen Union ist ein Quantensprung, den noch niemand in Europa und in Deutschland tatsächlich wahrgenommen hat.'},\n",
       " {'name': 'Alexander Graf Lambsdorff',\n",
       "  'party': 'FDP',\n",
       "  'text': 'Wie sehen Sie da den Marktzugang für landwirtschaftliche Produkte aus Afrika nach Europa vor dem Hintergrund der wirtschaftlichen Interessen Italiens, Spaniens, Portugals, Frankreichs und anderer?'},\n",
       " {'name': 'Gerd Müller',\n",
       "  'party': 'CDU/CSU',\n",
       "  'text': 'denn Europas Zukunft entscheidet sich ganz maßgeblich in Afrika.'},\n",
       " {'name': 'Horst Seehofer',\n",
       "  'party': 'CDU/CSU',\n",
       "  'text': 'dann ist es ein Taxidienst zwischen Afrika und Europa.'}]"
      ]
     },
     "execution_count": 56,
     "metadata": {},
     "output_type": "execute_result"
    }
   ],
   "source": [
    "stm_list=[]\n",
    "for speech in tqdm.tqdm(jointspeeches):\n",
    "    doc = nlp(speech[\"text\"])\n",
    "    for sent in doc.sents:\n",
    "        if search_query in sent.text and search_query2 in sent.text:\n",
    "            #print(sent)\n",
    "            stm_dict = {\n",
    "                'name'  : speech[\"name\"],\n",
    "                'party' : speech[\"party\"],\n",
    "                'text'  : sent.text\n",
    "            }\n",
    "            stm_list.append(stm_dict)\n",
    "stm_list            "
   ]
  },
  {
   "cell_type": "code",
   "execution_count": 33,
   "metadata": {},
   "outputs": [
    {
     "name": "stderr",
     "output_type": "stream",
     "text": [
      "100%|██████████| 95/95 [00:07<00:00, 12.51it/s]\n"
     ]
    }
   ],
   "source": [
    "stm_list=[]\n",
    "for speech in tqdm.tqdm(jointspeeches):\n",
    "    doc = nlp(speech[\"text\"])\n",
    "    if search_query in speech[\"text\"] and search_query2 in speech[\"text\"]:\n",
    "        #print(sent)\n",
    "        stm_dict = {\n",
    "            'name'  : speech[\"name\"],\n",
    "            'party' : speech[\"party\"],\n",
    "            'text'  : speech[\"text\"],\n",
    "            'length' : len(speech['text'])\n",
    "        }\n",
    "        stm_list.append(stm_dict)\n",
    "stm_list[0]"
   ]
  },
  {
   "cell_type": "code",
   "execution_count": 34,
   "metadata": {},
   "outputs": [
    {
     "data": {
      "text/plain": [
       "{'name': 'Andreas Lenz',\n",
       " 'party': 'CDU/CSU',\n",
       " 'text': 'Sehr geehrte Frau Präsidentin, für die CDU/CSU-Fraktion natürlich, auch wenn ich Sie ungern korrigiere. – Sehr geehrte Damen und Herren! Liebe Kolleginnen und Kollegen! Der deutsche Arbeitsmarkt steht so gut da wie noch nie in der Geschichte der Bundesrepublik. So erreichte die Zahl der Erwerbstätigen im September dieses Jahres mit 44,5 Millionen Menschen in Beschäftigung einen erneuten Höchststand. Das sind 600 000 Menschen mehr als zu diesem Zeitpunkt im letzten Jahr. Dieser wirtschaftliche Erfolg hat auch einen Namen: Das ist die unionsgeführte Bundesregierung. – In Bayern läuft es natürlich noch besser, Kollege Ernst. – Aber gleichzeitig merkt man bei einem geplanten Stellenabbau wie jetzt bei Siemens einmal mehr, dass die gute wirtschaftliche Situation nicht gottgegeben ist. Wir stehen als Wirtschaftsstandort im internationalen Wettbewerb und sind durch unsere Exportorientierung auf die Weltmärkte angewiesen wie kaum ein anderes Land. Das gilt natürlich insbesondere für ein multinationales Unternehmen wie Siemens. So ist die globale Nachfrage nach großen Gasturbinen drastisch gesunken. Auf etwa 110 Turbinen pro Jahr wird sich die globale Nachfrage zukünftig belaufen. Wir haben aber Fertigungskapazitäten für circa 400 Turbinen im Jahr. Es ist hier so, dass es sich um globale Trends handelt, wie es sich auch bei der Entwicklung der erneuerbaren Energien um globale Trends handelt. Darauf muss Siemens natürlich reagieren. Täte Siemens das nicht, wäre das ebenso verantwortungslos. Allerdings gilt es auch, zu betonen, dass gerade Siemens an anderer Stelle vom Umbau der Energieversorgung massiv profitiert, beispielsweise beim Ausbau der Offshorekapazitäten. Das zeigt sich in der Gesamtprofitabilität des Unternehmens. Jetzt muss ich schon auch sagen, dass ich mir die Kommunikation von Siemens hier sicherlich anders gewünscht hätte. Es geht nicht, dass die Arbeitnehmervertretungen vom geplanten Stellenabbau aus den Medien erfahren – einen solchen Stil mag man vielleicht im Umgang von Parteien intern manchmal gewohnt sein, aber das ist kein Umgang auf Augenhöhe. Und das müssen wir als Politik natürlich klar sagen; das müssen wir klar anmahnen. Gerade Siemens als globales Vorzeigeunternehmen hat natürlich auch eine Verpflichtung, seiner sozialen Verantwortung gerecht zu werden. Wertschöpfung durch Wertschätzung – das geht nur miteinander. Verantwortlichkeit sieht an dieser Stelle natürlich anders aus, aber mit Verantwortungslosigkeit kennen Sie sich von der SPD ja sehr gut aus. Deswegen haben Sie ja auch diese Aktuelle Stunde beantragt. Insgesamt ist ein Abbau von 6 900 Stellen geplant, davon die Hälfte in Deutschland im Bereich Power. – An anderer Stelle hat das ja auch die jüngste Vergangenheit gezeigt. Im Bereich Power und Gas geht es konkret um 2 600 Stellen in Deutschland. Dabei sollen die Werke in Görlitz und Leipzig geschlossen werden, aber auch Erfurt, Mülheim, Offenbach, Erlangen und Berlin sind betroffen. Gestern haben hier in Berlin Hunderte Mitarbeiter um das Berliner Gasturbinenwerk in Moabit gegen den Stellenabbau protestiert. Das Motto „Wir umarmen unser Werk“ zeigt die Verbundenheit der Menschen zum Unternehmen. Diese Verbundenheit ist für Siemens eigentlich ein Wert an sich. Es geht um Schicksale, es geht um Existenzen, es geht um Menschen, und das häufig noch dazu in strukturschwachen Gebieten; das haben wir ja gerade schon gehört. Das kann niemanden kaltlassen. Deshalb gilt es, auszuloten, kreativ zu sein, wie man da, wo Aufgaben wegfallen, Ersatz finden kann. Auch die Kanzlerin hat sich eingeschaltet. Auch wenn die Politik letztlich unternehmerische Entscheidungen nicht übernehmen kann und auch nicht soll, geht es darum, an die Verantwortung der Akteure zu erinnern. Das Unternehmen sagt, dass die Maßnahmen sorgfältig, umsichtig und langfristig angelegt sind. Daran werden wir die Unternehmensleitung messen. Die Wirtschaft ist letztlich immer für den Menschen da und nicht anders herum. Der Unternehmensgründer Werner von Siemens meinte: Mit tätigem Eingreifen in die gefürchteten Räder des Schicksals kann man manches Unheil abwenden. – Diesen Geist wünsche ich auch dem aktuellen Unternehmen. Herzlichen Dank. Das Wort hat Thomas Jurk für die SPD-Fraktion. ',\n",
       " 'length': 4243}"
      ]
     },
     "execution_count": 34,
     "metadata": {},
     "output_type": "execute_result"
    }
   ],
   "source": [
    "stm_list[0]"
   ]
  },
  {
   "cell_type": "code",
   "execution_count": 45,
   "metadata": {},
   "outputs": [],
   "source": [
    "parties = []\n",
    "\n",
    "dates = []\n",
    "for speech in speeches:\n",
    "    parties.append(speech['party'])\n",
    "    dates.append(speech['date'])\n",
    "    #print(speech['date'],speech['party'])"
   ]
  },
  {
   "cell_type": "code",
   "execution_count": 54,
   "metadata": {},
   "outputs": [],
   "source": [
    "# Create an empty dataframe\n",
    "df = pd.DataFrame()\n",
    "\n",
    "# Create a column from the datetime variable\n",
    "df['datetime'] = dates\n",
    "# Convert that column into a datetime datatype\n",
    "df['datetime'] = pd.to_datetime(df['datetime'])\n",
    "# Set the datetime column as the index\n",
    "df.index = df['datetime'] \n",
    "# Create a column from the numeric score variable\n",
    "df['party'] = parties"
   ]
  },
  {
   "cell_type": "code",
   "execution_count": 56,
   "metadata": {},
   "outputs": [
    {
     "data": {
      "text/html": [
       "<div>\n",
       "<style scoped>\n",
       "    .dataframe tbody tr th:only-of-type {\n",
       "        vertical-align: middle;\n",
       "    }\n",
       "\n",
       "    .dataframe tbody tr th {\n",
       "        vertical-align: top;\n",
       "    }\n",
       "\n",
       "    .dataframe thead th {\n",
       "        text-align: right;\n",
       "    }\n",
       "</style>\n",
       "<table border=\"1\" class=\"dataframe\">\n",
       "  <thead>\n",
       "    <tr style=\"text-align: right;\">\n",
       "      <th></th>\n",
       "      <th>datetime</th>\n",
       "      <th>party</th>\n",
       "    </tr>\n",
       "    <tr>\n",
       "      <th>datetime</th>\n",
       "      <th></th>\n",
       "      <th></th>\n",
       "    </tr>\n",
       "  </thead>\n",
       "  <tbody>\n",
       "    <tr>\n",
       "      <th>2017-10-24</th>\n",
       "      <td>2017-10-24</td>\n",
       "      <td>CDU/CSU</td>\n",
       "    </tr>\n",
       "    <tr>\n",
       "      <th>2017-11-21</th>\n",
       "      <td>2017-11-21</td>\n",
       "      <td>CDU/CSU</td>\n",
       "    </tr>\n",
       "    <tr>\n",
       "      <th>2017-11-21</th>\n",
       "      <td>2017-11-21</td>\n",
       "      <td>CDU/CSU</td>\n",
       "    </tr>\n",
       "    <tr>\n",
       "      <th>2017-11-21</th>\n",
       "      <td>2017-11-21</td>\n",
       "      <td>CDU/CSU</td>\n",
       "    </tr>\n",
       "    <tr>\n",
       "      <th>2017-11-22</th>\n",
       "      <td>2017-11-22</td>\n",
       "      <td>CDU/CSU</td>\n",
       "    </tr>\n",
       "    <tr>\n",
       "      <th>...</th>\n",
       "      <td>...</td>\n",
       "      <td>...</td>\n",
       "    </tr>\n",
       "    <tr>\n",
       "      <th>2019-11-15</th>\n",
       "      <td>2019-11-15</td>\n",
       "      <td>DIE LINKE</td>\n",
       "    </tr>\n",
       "    <tr>\n",
       "      <th>2019-11-15</th>\n",
       "      <td>2019-11-15</td>\n",
       "      <td>CDU/CSU</td>\n",
       "    </tr>\n",
       "    <tr>\n",
       "      <th>2019-11-15</th>\n",
       "      <td>2019-11-15</td>\n",
       "      <td>BÜNDNIS 90/DIE GRÜNEN</td>\n",
       "    </tr>\n",
       "    <tr>\n",
       "      <th>2019-11-15</th>\n",
       "      <td>2019-11-15</td>\n",
       "      <td>CDU/CSU</td>\n",
       "    </tr>\n",
       "    <tr>\n",
       "      <th>2019-11-15</th>\n",
       "      <td>2019-11-15</td>\n",
       "      <td>BÜNDNIS 90/DIE GRÜNEN</td>\n",
       "    </tr>\n",
       "  </tbody>\n",
       "</table>\n",
       "<p>1040 rows × 2 columns</p>\n",
       "</div>"
      ],
      "text/plain": [
       "             datetime                  party\n",
       "datetime                                    \n",
       "2017-10-24 2017-10-24                CDU/CSU\n",
       "2017-11-21 2017-11-21                CDU/CSU\n",
       "2017-11-21 2017-11-21                CDU/CSU\n",
       "2017-11-21 2017-11-21                CDU/CSU\n",
       "2017-11-22 2017-11-22                CDU/CSU\n",
       "...               ...                    ...\n",
       "2019-11-15 2019-11-15              DIE LINKE\n",
       "2019-11-15 2019-11-15                CDU/CSU\n",
       "2019-11-15 2019-11-15  BÜNDNIS 90/DIE GRÜNEN\n",
       "2019-11-15 2019-11-15                CDU/CSU\n",
       "2019-11-15 2019-11-15  BÜNDNIS 90/DIE GRÜNEN\n",
       "\n",
       "[1040 rows x 2 columns]"
      ]
     },
     "execution_count": 56,
     "metadata": {},
     "output_type": "execute_result"
    }
   ],
   "source": [
    "df"
   ]
  },
  {
   "cell_type": "code",
   "execution_count": 65,
   "metadata": {},
   "outputs": [],
   "source": [
    "# Group the data frame by month and item and extract a number of stats from each group\n",
    "total = df.resample('M').agg({'party':'count'})\n",
    "#total"
   ]
  },
  {
   "cell_type": "code",
   "execution_count": 67,
   "metadata": {},
   "outputs": [
    {
     "data": {
      "text/html": [
       "<div>\n",
       "<style scoped>\n",
       "    .dataframe tbody tr th:only-of-type {\n",
       "        vertical-align: middle;\n",
       "    }\n",
       "\n",
       "    .dataframe tbody tr th {\n",
       "        vertical-align: top;\n",
       "    }\n",
       "\n",
       "    .dataframe thead th {\n",
       "        text-align: right;\n",
       "    }\n",
       "</style>\n",
       "<table border=\"1\" class=\"dataframe\">\n",
       "  <thead>\n",
       "    <tr style=\"text-align: right;\">\n",
       "      <th></th>\n",
       "      <th>party</th>\n",
       "    </tr>\n",
       "    <tr>\n",
       "      <th>datetime</th>\n",
       "      <th></th>\n",
       "    </tr>\n",
       "  </thead>\n",
       "  <tbody>\n",
       "    <tr>\n",
       "      <th>2017-10-31</th>\n",
       "      <td>1.0</td>\n",
       "    </tr>\n",
       "    <tr>\n",
       "      <th>2017-11-30</th>\n",
       "      <td>1.0</td>\n",
       "    </tr>\n",
       "    <tr>\n",
       "      <th>2017-12-31</th>\n",
       "      <td>1.0</td>\n",
       "    </tr>\n",
       "    <tr>\n",
       "      <th>2018-01-31</th>\n",
       "      <td>1.0</td>\n",
       "    </tr>\n",
       "    <tr>\n",
       "      <th>2018-02-28</th>\n",
       "      <td>1.0</td>\n",
       "    </tr>\n",
       "    <tr>\n",
       "      <th>2018-03-31</th>\n",
       "      <td>1.0</td>\n",
       "    </tr>\n",
       "    <tr>\n",
       "      <th>2018-04-30</th>\n",
       "      <td>1.0</td>\n",
       "    </tr>\n",
       "    <tr>\n",
       "      <th>2018-05-31</th>\n",
       "      <td>1.0</td>\n",
       "    </tr>\n",
       "    <tr>\n",
       "      <th>2018-06-30</th>\n",
       "      <td>1.0</td>\n",
       "    </tr>\n",
       "    <tr>\n",
       "      <th>2018-07-31</th>\n",
       "      <td>1.0</td>\n",
       "    </tr>\n",
       "    <tr>\n",
       "      <th>2018-08-31</th>\n",
       "      <td>NaN</td>\n",
       "    </tr>\n",
       "    <tr>\n",
       "      <th>2018-09-30</th>\n",
       "      <td>1.0</td>\n",
       "    </tr>\n",
       "    <tr>\n",
       "      <th>2018-10-31</th>\n",
       "      <td>1.0</td>\n",
       "    </tr>\n",
       "    <tr>\n",
       "      <th>2018-11-30</th>\n",
       "      <td>1.0</td>\n",
       "    </tr>\n",
       "    <tr>\n",
       "      <th>2018-12-31</th>\n",
       "      <td>1.0</td>\n",
       "    </tr>\n",
       "    <tr>\n",
       "      <th>2019-01-31</th>\n",
       "      <td>1.0</td>\n",
       "    </tr>\n",
       "    <tr>\n",
       "      <th>2019-02-28</th>\n",
       "      <td>1.0</td>\n",
       "    </tr>\n",
       "    <tr>\n",
       "      <th>2019-03-31</th>\n",
       "      <td>1.0</td>\n",
       "    </tr>\n",
       "    <tr>\n",
       "      <th>2019-04-30</th>\n",
       "      <td>1.0</td>\n",
       "    </tr>\n",
       "    <tr>\n",
       "      <th>2019-05-31</th>\n",
       "      <td>1.0</td>\n",
       "    </tr>\n",
       "    <tr>\n",
       "      <th>2019-06-30</th>\n",
       "      <td>1.0</td>\n",
       "    </tr>\n",
       "    <tr>\n",
       "      <th>2019-07-31</th>\n",
       "      <td>NaN</td>\n",
       "    </tr>\n",
       "    <tr>\n",
       "      <th>2019-08-31</th>\n",
       "      <td>NaN</td>\n",
       "    </tr>\n",
       "    <tr>\n",
       "      <th>2019-09-30</th>\n",
       "      <td>1.0</td>\n",
       "    </tr>\n",
       "    <tr>\n",
       "      <th>2019-10-31</th>\n",
       "      <td>1.0</td>\n",
       "    </tr>\n",
       "    <tr>\n",
       "      <th>2019-11-30</th>\n",
       "      <td>1.0</td>\n",
       "    </tr>\n",
       "  </tbody>\n",
       "</table>\n",
       "</div>"
      ],
      "text/plain": [
       "            party\n",
       "datetime         \n",
       "2017-10-31    1.0\n",
       "2017-11-30    1.0\n",
       "2017-12-31    1.0\n",
       "2018-01-31    1.0\n",
       "2018-02-28    1.0\n",
       "2018-03-31    1.0\n",
       "2018-04-30    1.0\n",
       "2018-05-31    1.0\n",
       "2018-06-30    1.0\n",
       "2018-07-31    1.0\n",
       "2018-08-31    NaN\n",
       "2018-09-30    1.0\n",
       "2018-10-31    1.0\n",
       "2018-11-30    1.0\n",
       "2018-12-31    1.0\n",
       "2019-01-31    1.0\n",
       "2019-02-28    1.0\n",
       "2019-03-31    1.0\n",
       "2019-04-30    1.0\n",
       "2019-05-31    1.0\n",
       "2019-06-30    1.0\n",
       "2019-07-31    NaN\n",
       "2019-08-31    NaN\n",
       "2019-09-30    1.0\n",
       "2019-10-31    1.0\n",
       "2019-11-30    1.0"
      ]
     },
     "execution_count": 67,
     "metadata": {},
     "output_type": "execute_result"
    }
   ],
   "source": [
    "total/total"
   ]
  },
  {
   "cell_type": "code",
   "execution_count": null,
   "metadata": {},
   "outputs": [],
   "source": []
  },
  {
   "cell_type": "code",
   "execution_count": null,
   "metadata": {},
   "outputs": [],
   "source": []
  },
  {
   "cell_type": "code",
   "execution_count": 28,
   "metadata": {},
   "outputs": [
    {
     "name": "stdout",
     "output_type": "stream",
     "text": [
      "1040\n"
     ]
    },
    {
     "data": {
      "text/plain": [
       "{'CDU/CSU': 400,\n",
       " 'SPD': 205,\n",
       " 'FDP': 167,\n",
       " 'BÜNDNIS 90/DIE GRÜNEN': 92,\n",
       " 'AfD': 87,\n",
       " 'DIE LINKE': 58,\n",
       " 'BÜNDNIS\\xa090/DIE GRÜNEN': 23,\n",
       " 'fraktionslos': 8}"
      ]
     },
     "execution_count": 28,
     "metadata": {},
     "output_type": "execute_result"
    }
   ],
   "source": [
    "print(len(speeches))\n",
    "partycounts = dict(Counter(parties).most_common())\n",
    "partycounts"
   ]
  },
  {
   "cell_type": "code",
   "execution_count": 19,
   "metadata": {},
   "outputs": [
    {
     "data": {
      "text/plain": [
       "{'date': '2018-02-22',\n",
       " 'discussion_title': 'Tagesordnungspunkt 7 2018-02-22',\n",
       " 'id': 'ID191404500',\n",
       " 'name': 'Anja Weisgerber',\n",
       " 'party': 'CDU/CSU',\n",
       " 'period': '19',\n",
       " 'text': 'Sehr geehrte Frau Präsidentin! Werte Kolleginnen und Kollegen! Klimaschutz ist eine große Herausforderung. Er ist wichtig, für manche Inseln im Pazifik ist er eine Überlebensfrage. Aber auch bei uns in Deutschland sind die Auswirkungen des Klimawandels bereits spürbar. Die Entwicklung von Innovationen im Bereich Klimaschutz ist eine Riesenchance für die Wirtschaft. Wir müssen am Ball bleiben. Wir müssen den Wandel gestalten. Wir dürfen ihn nicht verschlafen. Ich war gestern im Umweltministerium, wo der Deutsche Innovationspreis für Klima und Umwelt an mutige Unternehmer verliehen wurde. Auch mir machte diese Veranstaltung Mut, weil ich gesehen habe, mit welcher Kraft und mit welcher Überzeugung die Unternehmer bei der Sache sind. Es wurden tolle Projekte vorgestellt. Zum Beispiel kann Papier aus Gras hergestellt werden, um die Ressource Holz als wertvollen CO 2 -Speicher zu schonen. Ein weiteres Projekt war eine energiesparende Maschine zur Stoffherstellung, die gleichzeitig spinnt und strickt. Sie sehen: Es gibt eine Menge Innovationen durch mutige mittelständische Unternehmer, wodurch Arbeitsplätze geschaffen und auch erhalten werden können. Im ausverhandelten Koalitionsvertrag haben wir ganz klar festgehalten, dass wir uns zu unseren nationalen, europäischen und internationalen Klimazielen bekennen, und zwar in allen Sektoren. Dafür habe ich mich als Klimapolitikerin persönlich eingesetzt. Damit zeigen wir: Wir nehmen unsere klimapolitische Verantwortung wahr, in Deutschland und in der Welt. Für uns ist aber auch wichtig, wie wir dieses Ziel erreichen. Das wollen wir durch Anreize statt Zwang und durch Technologieoffenheit bewerkstelligen. Wir wollen auch sicherstellen, dass unsere Wirtschaft als Basis unseres Wohlstands international wettbewerbsfähig bleibt. Außerdem soll die Energieversorgungssicherheit weiterhin gewährleistet werden. Es liegt eine Studie der deutschen Industrie vor, die sich damit befasst hat, wie wir das langfristige Klimaziel bezogen auf 2050 erreichen wollen. Die Studie besagt: Das wird schwierig, aber es kann funktionieren. Und auch die Wirtschaft sagt: Die Wirtschaft kann Wandel. Sie hat es bei der Industrialisierung bewiesen. Jetzt nimmt sie die Herausforderungen der Digitalisierung an, Stichwort Industrie 4.0. Die Wirtschaft kann auch Klimaschutz, wenn die Politik verlässliche Rahmenbedingungen schafft und Anreize zum Beispiel für effiziente Umwelttechnologien setzt. Und genau das machen wir, meine Damen und Herren. Wenn Sie, die Antragsteller, deren Vorlagen wir heute beraten, den ausgehandelten Koalitionsvertrag aufmerksam lesen, dann werden Sie feststellen, dass viele Ihrer Punkte bereits enthalten sind, zum Beispiel die Forderung nach einer konsequenten Energieeffizienzpolitik. Es gibt bereits den Nationalen Aktionsplan Energieeffizienz, den wir weiterentwickeln werden. Außerdem wollen wir eine ambitionierte, sektorübergreifende Energieeffizienzstrategie unter dem Leitprinzip „Efficiency first“ installieren. Wir haben uns das ehrgeizige Ziel gesetzt, eine Halbierung des Energieverbrauchs bis 2050 zu schaffen. Im Koalitionsvertrag ist vorgesehen, bis 2030 einen Anteil an erneuerbaren Energien von 65 Prozent zu erreichen. Ebenso haben wir verankert – ich muss ganz ehrlich sagen: endlich –, die energetische Gebäudesanierung steuerlich zu fördern. In vielen Reden an diesem Rednerpult habe ich gefordert, dass wir dieses Klimaschutzinstrument nutzen. Meine Damen und Herren, ich setze darauf, dass nun auch die Grünen in den Bundesländern für dieses Instrument werben; denn in den Jamaika-Sondierungen war die Einführung dieses Instruments Konsens. Damit bin ich beim Thema: Wie sollen diese Instrumente ausgestaltet sein? Wie soll dieses Steuerungsinstrument ausgestaltet sein? Wir setzen auf Anreize statt auf Zwang. Unser Vorschlag sieht ein Wahlrecht des Antragstellers vor: Zuschussförderung oder Reduzierung des zu versteuernden Einkommens. Damit erreichen wir einen möglichst großen Personenkreis. Daneben wollen wir das CO 2 -Gebäudesanierungsprogramm fortführen und damit den Austausch alter, ineffizienter Heizungen fördern. Ferner wollen wir eine Kommission einsetzen, die auf Basis und in Vernetzung mit dem laufenden Prozess zur Umsetzung des Klimaschutzplans bis Ende des Jahres Maßnahmen vorschlagen soll, wie die Lücke zur Erreichung des Klimaziels 2020 so schnell wie möglich reduziert werden kann und im Energiesektor das 2030-Ziel erreicht werden kann. Dazu zählt auch die schrittweise Reduzierung und Beendigung der Kohleverstromung. Das Abschlussdatum für die Kohleverstromung soll ebenfalls durch diese Kommission festgelegt werden. Hört! Hört! Meine Damen und Herren, das geht sogar über das hinaus, was am Ende der Jamaika-Sondierungen ausverhandelt war. In den Jamaika-Verhandlungen lag der Fokus – Herr Dr. Köhler hat es bereits erwähnt – auf dem überhasteten, schnellen Stilllegen, auf der Reduzierung der Kapazität der Kohleverstromung um 7 Gigawatt vor 2020, und zwar ohne Rücksicht auf die Arbeitsplätze. Auch wir wollen die schrittweise Reduzierung der Kohleverstromung; aber wir wollen dabei die Energieversorgung weiterhin sicherstellen. Wir wollen, dass Energie für Verbraucher und Wirtschaft bezahlbar bleibt. Das ist ganz wichtig. Ich habe das Gefühl, das wird von den Grünen öfter ausgeblendet. Außerdem wollen wir nicht, dass es in den betroffenen Regionen zu Strukturbrüchen kommt. Sie sehen: Wir reden nicht nur, sondern wir handeln auch, aber durchdacht und mit Weitsicht. Zur Globalen Allianz für den Kohleausstieg, die in einem Antrag erwähnt wird: Gefordert wird, dass Deutschland dieser Allianz beitritt. Ich habe mir die Mühe gemacht, mir den Energiemix der teilnehmenden Staaten anzusehen. Man muss sich da ehrlich machen. Wie ist das in Frankreich? Dort stammen nur 3 bis 4 Prozent der Stromproduktion aus der Kohle, und Frankreich will von dem Ziel abrücken, den Strom aus Kernenergie bis 2025 auf 50 Prozent zu reduzieren. Kanada investiert mehr als 25 Milliarden in Atomreaktoren, damit sie für weitere 25 bis 30 Jahre laufen. Großbritannien will aus der Kohleverstromung aussteigen, gleichzeitig aber den Anteil des Stroms aus Kernenergie deutlich steigern. Wir wollen beides: Wir wollen die Kohleverstromung reduzieren und den Ausstieg aus der Kernenergienutzung weiter gestalten. Keiner behauptet, dass das leicht ist. Dennoch gehen wir diesen Weg voller Überzeugung für unsere Kinder, für unsere Enkel und für die Menschen, die darauf setzen, dass die Politik die Weichen richtig stellt und durch Innovationen im Umweltbereich Arbeitsplätze erhalten und geschaffen werden. Vielen Dank. Vielen Dank, Dr. Weisgerber. – Nächste Rednerin: Bundesministerin Dr. Barbara Hendricks für die Bundesregierung. '}"
      ]
     },
     "execution_count": 19,
     "metadata": {},
     "output_type": "execute_result"
    }
   ],
   "source": [
    "speeches[10]"
   ]
  },
  {
   "cell_type": "code",
   "execution_count": 177,
   "metadata": {},
   "outputs": [
    {
     "name": "stderr",
     "output_type": "stream",
     "text": [
      "100%|██████████| 851/851 [00:57<00:00, 14.69it/s]\n"
     ]
    },
    {
     "data": {
      "text/plain": [
       "236"
      ]
     },
     "execution_count": 177,
     "metadata": {},
     "output_type": "execute_result"
    }
   ],
   "source": [
    "stm_list=[]\n",
    "for speech in tqdm.tqdm(speeches):\n",
    "    doc = nlp(speech[\"text\"])\n",
    "    for sent in doc.sents:\n",
    "        if search_query in sent.text:\n",
    "            #print(sent)\n",
    "            stm_dict = {\n",
    "                'name'  : speech[\"name\"],\n",
    "                'party' : speech[\"party\"],\n",
    "                'text'  : sent.text\n",
    "            }\n",
    "            stm_list.append(stm_dict)\n",
    "    \n",
    "len(stm_list)\n",
    "    "
   ]
  },
  {
   "cell_type": "code",
   "execution_count": 178,
   "metadata": {},
   "outputs": [],
   "source": [
    "#for ele in stm_list:\n",
    "#    print(ele)"
   ]
  },
  {
   "cell_type": "code",
   "execution_count": 57,
   "metadata": {},
   "outputs": [
    {
     "name": "stderr",
     "output_type": "stream",
     "text": [
      " 15%|█▌        | 12/80 [00:00<00:00, 116.80it/s]"
     ]
    },
    {
     "name": "stdout",
     "output_type": "stream",
     "text": [
      "apply nlp pipeline\n"
     ]
    },
    {
     "name": "stderr",
     "output_type": "stream",
     "text": [
      "100%|██████████| 80/80 [00:00<00:00, 127.44it/s]\n",
      "100%|██████████| 80/80 [00:00<00:00, 60699.04it/s]\n",
      "100%|██████████| 79/79 [00:00<00:00, 10056.15it/s]"
     ]
    },
    {
     "name": "stdout",
     "output_type": "stream",
     "text": [
      "filter words\n",
      "count and order lemmata\n",
      "remove singles\n"
     ]
    },
    {
     "name": "stderr",
     "output_type": "stream",
     "text": [
      "\n"
     ]
    }
   ],
   "source": [
    "\n",
    "inParams = {\n",
    "    'data': stm_list,\n",
    "    'language' : \"de\",\n",
    "    #'pos' : ['NOUN','VERB','ADJ'],\n",
    "    'pos' : ['NOUN'],\n",
    "    'ignore' : [search_query,search_query2]\n",
    "}\n",
    "\n",
    "graph = StatementGraphGenerator(inParams)"
   ]
  },
  {
   "cell_type": "code",
   "execution_count": 58,
   "metadata": {},
   "outputs": [
    {
     "name": "stdout",
     "output_type": "stream",
     "text": [
      "236 79\n"
     ]
    },
    {
     "data": {
      "image/png": "[encoded data removed]",
      "text/plain": [
       "<Figure size 432x288 with 1 Axes>"
      ]
     },
     "metadata": {
      "needs_background": "light"
     },
     "output_type": "display_data"
    }
   ],
   "source": [
    "\n",
    "print(len(graph['links']),\n",
    "len(graph['nodes']))\n",
    "\n",
    "weights=[]\n",
    "for link in graph['links']:\n",
    "    weights.append(link['weight'])\n",
    "\n",
    "plt.hist(weights, bins=25)\n",
    "plt.title(\"Distribution of Weights\")\n",
    "plt.xlabel(\"Wert\")\n",
    "plt.ylabel(\"Häufigkeit\")\n",
    "plt.show()\n",
    "#print(graph['nodes'])\n",
    "#graph['links']\n"
   ]
  },
  {
   "cell_type": "code",
   "execution_count": 63,
   "metadata": {},
   "outputs": [
    {
     "name": "stdout",
     "output_type": "stream",
     "text": [
      "179 79\n"
     ]
    }
   ],
   "source": [
    "newlinks = []\n",
    "for link in graph['links']:\n",
    "    if link['weight'] > 0.07:\n",
    "        newlinks.append(link)\n",
    "graph['links'] = newlinks    \n",
    "print(len(graph['links']),\n",
    "len(graph['nodes']))"
   ]
  },
  {
   "cell_type": "code",
   "execution_count": 64,
   "metadata": {},
   "outputs": [],
   "source": [
    "json = {'data':graph, \n",
    "        'nodecoloring':'party', \n",
    "        'nodelabel': 'text', \n",
    "        \"darkmode\": False,\n",
    "        \"edgevisibility\": True,\n",
    "        \"particles\": False\n",
    "       }\n",
    "result = requests.post('https://penelope.vub.be/network-components/visualiser', json=json)"
   ]
  },
  {
   "cell_type": "code",
   "execution_count": 65,
   "metadata": {},
   "outputs": [],
   "source": [
    "with open (\"./satzgraph.html\", \"w\") as f:\n",
    "    f.write(result.json()['graph'])"
   ]
  },
  {
   "cell_type": "code",
   "execution_count": null,
   "metadata": {},
   "outputs": [],
   "source": []
  },
  {
   "cell_type": "code",
   "execution_count": null,
   "metadata": {},
   "outputs": [],
   "source": []
  },
  {
   "cell_type": "code",
   "execution_count": null,
   "metadata": {},
   "outputs": [],
   "source": []
  },
  {
   "cell_type": "markdown",
   "metadata": {},
   "source": [
    "### Check: Das funktioniert irgendwie nicht!"
   ]
  },
  {
   "cell_type": "code",
   "execution_count": null,
   "metadata": {},
   "outputs": [],
   "source": []
  },
  {
   "cell_type": "code",
   "execution_count": 181,
   "metadata": {},
   "outputs": [
    {
     "ename": "TypeError",
     "evalue": "Object of type Doc is not JSON serializable",
     "output_type": "error",
     "traceback": [
      "\u001b[0;31m---------------------------------------------------------------------------\u001b[0m",
      "\u001b[0;31mTypeError\u001b[0m                                 Traceback (most recent call last)",
      "\u001b[0;32m<ipython-input-181-7df2a34d65aa>\u001b[0m in \u001b[0;36m<module>\u001b[0;34m\u001b[0m\n\u001b[1;32m      9\u001b[0m         \u001b[0;34m\"relevant_pos\"\u001b[0m\u001b[0;34m:\u001b[0m \u001b[0;34m[\u001b[0m\u001b[0;34m\"NOUN\"\u001b[0m\u001b[0;34m]\u001b[0m\u001b[0;34m\u001b[0m\u001b[0;34m\u001b[0m\u001b[0m\n\u001b[1;32m     10\u001b[0m        }\n\u001b[0;32m---> 11\u001b[0;31m \u001b[0mresult\u001b[0m \u001b[0;34m=\u001b[0m \u001b[0mrequests\u001b[0m\u001b[0;34m.\u001b[0m\u001b[0mpost\u001b[0m\u001b[0;34m(\u001b[0m\u001b[0;34m'https://penelope.vub.be/network-components/statementgraphgenerator'\u001b[0m\u001b[0;34m,\u001b[0m \u001b[0mjson\u001b[0m\u001b[0;34m=\u001b[0m\u001b[0mjson\u001b[0m\u001b[0;34m)\u001b[0m\u001b[0;34m\u001b[0m\u001b[0;34m\u001b[0m\u001b[0m\n\u001b[0m",
      "\u001b[0;32m~/venv/lib/python3.7/site-packages/requests/api.py\u001b[0m in \u001b[0;36mpost\u001b[0;34m(url, data, json, **kwargs)\u001b[0m\n\u001b[1;32m    117\u001b[0m     \"\"\"\n\u001b[1;32m    118\u001b[0m \u001b[0;34m\u001b[0m\u001b[0m\n\u001b[0;32m--> 119\u001b[0;31m     \u001b[0;32mreturn\u001b[0m \u001b[0mrequest\u001b[0m\u001b[0;34m(\u001b[0m\u001b[0;34m'post'\u001b[0m\u001b[0;34m,\u001b[0m \u001b[0murl\u001b[0m\u001b[0;34m,\u001b[0m \u001b[0mdata\u001b[0m\u001b[0;34m=\u001b[0m\u001b[0mdata\u001b[0m\u001b[0;34m,\u001b[0m \u001b[0mjson\u001b[0m\u001b[0;34m=\u001b[0m\u001b[0mjson\u001b[0m\u001b[0;34m,\u001b[0m \u001b[0;34m**\u001b[0m\u001b[0mkwargs\u001b[0m\u001b[0;34m)\u001b[0m\u001b[0;34m\u001b[0m\u001b[0;34m\u001b[0m\u001b[0m\n\u001b[0m\u001b[1;32m    120\u001b[0m \u001b[0;34m\u001b[0m\u001b[0m\n\u001b[1;32m    121\u001b[0m \u001b[0;34m\u001b[0m\u001b[0m\n",
      "\u001b[0;32m~/venv/lib/python3.7/site-packages/requests/api.py\u001b[0m in \u001b[0;36mrequest\u001b[0;34m(method, url, **kwargs)\u001b[0m\n\u001b[1;32m     59\u001b[0m     \u001b[0;31m# cases, and look like a memory leak in others.\u001b[0m\u001b[0;34m\u001b[0m\u001b[0;34m\u001b[0m\u001b[0;34m\u001b[0m\u001b[0m\n\u001b[1;32m     60\u001b[0m     \u001b[0;32mwith\u001b[0m \u001b[0msessions\u001b[0m\u001b[0;34m.\u001b[0m\u001b[0mSession\u001b[0m\u001b[0;34m(\u001b[0m\u001b[0;34m)\u001b[0m \u001b[0;32mas\u001b[0m \u001b[0msession\u001b[0m\u001b[0;34m:\u001b[0m\u001b[0;34m\u001b[0m\u001b[0;34m\u001b[0m\u001b[0m\n\u001b[0;32m---> 61\u001b[0;31m         \u001b[0;32mreturn\u001b[0m \u001b[0msession\u001b[0m\u001b[0;34m.\u001b[0m\u001b[0mrequest\u001b[0m\u001b[0;34m(\u001b[0m\u001b[0mmethod\u001b[0m\u001b[0;34m=\u001b[0m\u001b[0mmethod\u001b[0m\u001b[0;34m,\u001b[0m \u001b[0murl\u001b[0m\u001b[0;34m=\u001b[0m\u001b[0murl\u001b[0m\u001b[0;34m,\u001b[0m \u001b[0;34m**\u001b[0m\u001b[0mkwargs\u001b[0m\u001b[0;34m)\u001b[0m\u001b[0;34m\u001b[0m\u001b[0;34m\u001b[0m\u001b[0m\n\u001b[0m\u001b[1;32m     62\u001b[0m \u001b[0;34m\u001b[0m\u001b[0m\n\u001b[1;32m     63\u001b[0m \u001b[0;34m\u001b[0m\u001b[0m\n",
      "\u001b[0;32m~/venv/lib/python3.7/site-packages/requests/sessions.py\u001b[0m in \u001b[0;36mrequest\u001b[0;34m(self, method, url, params, data, headers, cookies, files, auth, timeout, allow_redirects, proxies, hooks, stream, verify, cert, json)\u001b[0m\n\u001b[1;32m    514\u001b[0m             \u001b[0mhooks\u001b[0m\u001b[0;34m=\u001b[0m\u001b[0mhooks\u001b[0m\u001b[0;34m,\u001b[0m\u001b[0;34m\u001b[0m\u001b[0;34m\u001b[0m\u001b[0m\n\u001b[1;32m    515\u001b[0m         )\n\u001b[0;32m--> 516\u001b[0;31m         \u001b[0mprep\u001b[0m \u001b[0;34m=\u001b[0m \u001b[0mself\u001b[0m\u001b[0;34m.\u001b[0m\u001b[0mprepare_request\u001b[0m\u001b[0;34m(\u001b[0m\u001b[0mreq\u001b[0m\u001b[0;34m)\u001b[0m\u001b[0;34m\u001b[0m\u001b[0;34m\u001b[0m\u001b[0m\n\u001b[0m\u001b[1;32m    517\u001b[0m \u001b[0;34m\u001b[0m\u001b[0m\n\u001b[1;32m    518\u001b[0m         \u001b[0mproxies\u001b[0m \u001b[0;34m=\u001b[0m \u001b[0mproxies\u001b[0m \u001b[0;32mor\u001b[0m \u001b[0;34m{\u001b[0m\u001b[0;34m}\u001b[0m\u001b[0;34m\u001b[0m\u001b[0;34m\u001b[0m\u001b[0m\n",
      "\u001b[0;32m~/venv/lib/python3.7/site-packages/requests/sessions.py\u001b[0m in \u001b[0;36mprepare_request\u001b[0;34m(self, request)\u001b[0m\n\u001b[1;32m    457\u001b[0m             \u001b[0mauth\u001b[0m\u001b[0;34m=\u001b[0m\u001b[0mmerge_setting\u001b[0m\u001b[0;34m(\u001b[0m\u001b[0mauth\u001b[0m\u001b[0;34m,\u001b[0m \u001b[0mself\u001b[0m\u001b[0;34m.\u001b[0m\u001b[0mauth\u001b[0m\u001b[0;34m)\u001b[0m\u001b[0;34m,\u001b[0m\u001b[0;34m\u001b[0m\u001b[0;34m\u001b[0m\u001b[0m\n\u001b[1;32m    458\u001b[0m             \u001b[0mcookies\u001b[0m\u001b[0;34m=\u001b[0m\u001b[0mmerged_cookies\u001b[0m\u001b[0;34m,\u001b[0m\u001b[0;34m\u001b[0m\u001b[0;34m\u001b[0m\u001b[0m\n\u001b[0;32m--> 459\u001b[0;31m             \u001b[0mhooks\u001b[0m\u001b[0;34m=\u001b[0m\u001b[0mmerge_hooks\u001b[0m\u001b[0;34m(\u001b[0m\u001b[0mrequest\u001b[0m\u001b[0;34m.\u001b[0m\u001b[0mhooks\u001b[0m\u001b[0;34m,\u001b[0m \u001b[0mself\u001b[0m\u001b[0;34m.\u001b[0m\u001b[0mhooks\u001b[0m\u001b[0;34m)\u001b[0m\u001b[0;34m,\u001b[0m\u001b[0;34m\u001b[0m\u001b[0;34m\u001b[0m\u001b[0m\n\u001b[0m\u001b[1;32m    460\u001b[0m         )\n\u001b[1;32m    461\u001b[0m         \u001b[0;32mreturn\u001b[0m \u001b[0mp\u001b[0m\u001b[0;34m\u001b[0m\u001b[0;34m\u001b[0m\u001b[0m\n",
      "\u001b[0;32m~/venv/lib/python3.7/site-packages/requests/models.py\u001b[0m in \u001b[0;36mprepare\u001b[0;34m(self, method, url, headers, files, data, params, auth, cookies, hooks, json)\u001b[0m\n\u001b[1;32m    315\u001b[0m         \u001b[0mself\u001b[0m\u001b[0;34m.\u001b[0m\u001b[0mprepare_headers\u001b[0m\u001b[0;34m(\u001b[0m\u001b[0mheaders\u001b[0m\u001b[0;34m)\u001b[0m\u001b[0;34m\u001b[0m\u001b[0;34m\u001b[0m\u001b[0m\n\u001b[1;32m    316\u001b[0m         \u001b[0mself\u001b[0m\u001b[0;34m.\u001b[0m\u001b[0mprepare_cookies\u001b[0m\u001b[0;34m(\u001b[0m\u001b[0mcookies\u001b[0m\u001b[0;34m)\u001b[0m\u001b[0;34m\u001b[0m\u001b[0;34m\u001b[0m\u001b[0m\n\u001b[0;32m--> 317\u001b[0;31m         \u001b[0mself\u001b[0m\u001b[0;34m.\u001b[0m\u001b[0mprepare_body\u001b[0m\u001b[0;34m(\u001b[0m\u001b[0mdata\u001b[0m\u001b[0;34m,\u001b[0m \u001b[0mfiles\u001b[0m\u001b[0;34m,\u001b[0m \u001b[0mjson\u001b[0m\u001b[0;34m)\u001b[0m\u001b[0;34m\u001b[0m\u001b[0;34m\u001b[0m\u001b[0m\n\u001b[0m\u001b[1;32m    318\u001b[0m         \u001b[0mself\u001b[0m\u001b[0;34m.\u001b[0m\u001b[0mprepare_auth\u001b[0m\u001b[0;34m(\u001b[0m\u001b[0mauth\u001b[0m\u001b[0;34m,\u001b[0m \u001b[0murl\u001b[0m\u001b[0;34m)\u001b[0m\u001b[0;34m\u001b[0m\u001b[0;34m\u001b[0m\u001b[0m\n\u001b[1;32m    319\u001b[0m \u001b[0;34m\u001b[0m\u001b[0m\n",
      "\u001b[0;32m~/venv/lib/python3.7/site-packages/requests/models.py\u001b[0m in \u001b[0;36mprepare_body\u001b[0;34m(self, data, files, json)\u001b[0m\n\u001b[1;32m    465\u001b[0m             \u001b[0;31m# provides this natively, but Python 3 gives a Unicode string.\u001b[0m\u001b[0;34m\u001b[0m\u001b[0;34m\u001b[0m\u001b[0;34m\u001b[0m\u001b[0m\n\u001b[1;32m    466\u001b[0m             \u001b[0mcontent_type\u001b[0m \u001b[0;34m=\u001b[0m \u001b[0;34m'application/json'\u001b[0m\u001b[0;34m\u001b[0m\u001b[0;34m\u001b[0m\u001b[0m\n\u001b[0;32m--> 467\u001b[0;31m             \u001b[0mbody\u001b[0m \u001b[0;34m=\u001b[0m \u001b[0mcomplexjson\u001b[0m\u001b[0;34m.\u001b[0m\u001b[0mdumps\u001b[0m\u001b[0;34m(\u001b[0m\u001b[0mjson\u001b[0m\u001b[0;34m)\u001b[0m\u001b[0;34m\u001b[0m\u001b[0;34m\u001b[0m\u001b[0m\n\u001b[0m\u001b[1;32m    468\u001b[0m             \u001b[0;32mif\u001b[0m \u001b[0;32mnot\u001b[0m \u001b[0misinstance\u001b[0m\u001b[0;34m(\u001b[0m\u001b[0mbody\u001b[0m\u001b[0;34m,\u001b[0m \u001b[0mbytes\u001b[0m\u001b[0;34m)\u001b[0m\u001b[0;34m:\u001b[0m\u001b[0;34m\u001b[0m\u001b[0;34m\u001b[0m\u001b[0m\n\u001b[1;32m    469\u001b[0m                 \u001b[0mbody\u001b[0m \u001b[0;34m=\u001b[0m \u001b[0mbody\u001b[0m\u001b[0;34m.\u001b[0m\u001b[0mencode\u001b[0m\u001b[0;34m(\u001b[0m\u001b[0;34m'utf-8'\u001b[0m\u001b[0;34m)\u001b[0m\u001b[0;34m\u001b[0m\u001b[0;34m\u001b[0m\u001b[0m\n",
      "\u001b[0;32m/Library/Developer/CommandLineTools/Library/Frameworks/Python3.framework/Versions/3.7/lib/python3.7/json/__init__.py\u001b[0m in \u001b[0;36mdumps\u001b[0;34m(obj, skipkeys, ensure_ascii, check_circular, allow_nan, cls, indent, separators, default, sort_keys, **kw)\u001b[0m\n\u001b[1;32m    229\u001b[0m         \u001b[0mcls\u001b[0m \u001b[0;32mis\u001b[0m \u001b[0;32mNone\u001b[0m \u001b[0;32mand\u001b[0m \u001b[0mindent\u001b[0m \u001b[0;32mis\u001b[0m \u001b[0;32mNone\u001b[0m \u001b[0;32mand\u001b[0m \u001b[0mseparators\u001b[0m \u001b[0;32mis\u001b[0m \u001b[0;32mNone\u001b[0m \u001b[0;32mand\u001b[0m\u001b[0;34m\u001b[0m\u001b[0;34m\u001b[0m\u001b[0m\n\u001b[1;32m    230\u001b[0m         default is None and not sort_keys and not kw):\n\u001b[0;32m--> 231\u001b[0;31m         \u001b[0;32mreturn\u001b[0m \u001b[0m_default_encoder\u001b[0m\u001b[0;34m.\u001b[0m\u001b[0mencode\u001b[0m\u001b[0;34m(\u001b[0m\u001b[0mobj\u001b[0m\u001b[0;34m)\u001b[0m\u001b[0;34m\u001b[0m\u001b[0;34m\u001b[0m\u001b[0m\n\u001b[0m\u001b[1;32m    232\u001b[0m     \u001b[0;32mif\u001b[0m \u001b[0mcls\u001b[0m \u001b[0;32mis\u001b[0m \u001b[0;32mNone\u001b[0m\u001b[0;34m:\u001b[0m\u001b[0;34m\u001b[0m\u001b[0;34m\u001b[0m\u001b[0m\n\u001b[1;32m    233\u001b[0m         \u001b[0mcls\u001b[0m \u001b[0;34m=\u001b[0m \u001b[0mJSONEncoder\u001b[0m\u001b[0;34m\u001b[0m\u001b[0;34m\u001b[0m\u001b[0m\n",
      "\u001b[0;32m/Library/Developer/CommandLineTools/Library/Frameworks/Python3.framework/Versions/3.7/lib/python3.7/json/encoder.py\u001b[0m in \u001b[0;36mencode\u001b[0;34m(self, o)\u001b[0m\n\u001b[1;32m    197\u001b[0m         \u001b[0;31m# exceptions aren't as detailed.  The list call should be roughly\u001b[0m\u001b[0;34m\u001b[0m\u001b[0;34m\u001b[0m\u001b[0;34m\u001b[0m\u001b[0m\n\u001b[1;32m    198\u001b[0m         \u001b[0;31m# equivalent to the PySequence_Fast that ''.join() would do.\u001b[0m\u001b[0;34m\u001b[0m\u001b[0;34m\u001b[0m\u001b[0;34m\u001b[0m\u001b[0m\n\u001b[0;32m--> 199\u001b[0;31m         \u001b[0mchunks\u001b[0m \u001b[0;34m=\u001b[0m \u001b[0mself\u001b[0m\u001b[0;34m.\u001b[0m\u001b[0miterencode\u001b[0m\u001b[0;34m(\u001b[0m\u001b[0mo\u001b[0m\u001b[0;34m,\u001b[0m \u001b[0m_one_shot\u001b[0m\u001b[0;34m=\u001b[0m\u001b[0;32mTrue\u001b[0m\u001b[0;34m)\u001b[0m\u001b[0;34m\u001b[0m\u001b[0;34m\u001b[0m\u001b[0m\n\u001b[0m\u001b[1;32m    200\u001b[0m         \u001b[0;32mif\u001b[0m \u001b[0;32mnot\u001b[0m \u001b[0misinstance\u001b[0m\u001b[0;34m(\u001b[0m\u001b[0mchunks\u001b[0m\u001b[0;34m,\u001b[0m \u001b[0;34m(\u001b[0m\u001b[0mlist\u001b[0m\u001b[0;34m,\u001b[0m \u001b[0mtuple\u001b[0m\u001b[0;34m)\u001b[0m\u001b[0;34m)\u001b[0m\u001b[0;34m:\u001b[0m\u001b[0;34m\u001b[0m\u001b[0;34m\u001b[0m\u001b[0m\n\u001b[1;32m    201\u001b[0m             \u001b[0mchunks\u001b[0m \u001b[0;34m=\u001b[0m \u001b[0mlist\u001b[0m\u001b[0;34m(\u001b[0m\u001b[0mchunks\u001b[0m\u001b[0;34m)\u001b[0m\u001b[0;34m\u001b[0m\u001b[0;34m\u001b[0m\u001b[0m\n",
      "\u001b[0;32m/Library/Developer/CommandLineTools/Library/Frameworks/Python3.framework/Versions/3.7/lib/python3.7/json/encoder.py\u001b[0m in \u001b[0;36miterencode\u001b[0;34m(self, o, _one_shot)\u001b[0m\n\u001b[1;32m    255\u001b[0m                 \u001b[0mself\u001b[0m\u001b[0;34m.\u001b[0m\u001b[0mkey_separator\u001b[0m\u001b[0;34m,\u001b[0m \u001b[0mself\u001b[0m\u001b[0;34m.\u001b[0m\u001b[0mitem_separator\u001b[0m\u001b[0;34m,\u001b[0m \u001b[0mself\u001b[0m\u001b[0;34m.\u001b[0m\u001b[0msort_keys\u001b[0m\u001b[0;34m,\u001b[0m\u001b[0;34m\u001b[0m\u001b[0;34m\u001b[0m\u001b[0m\n\u001b[1;32m    256\u001b[0m                 self.skipkeys, _one_shot)\n\u001b[0;32m--> 257\u001b[0;31m         \u001b[0;32mreturn\u001b[0m \u001b[0m_iterencode\u001b[0m\u001b[0;34m(\u001b[0m\u001b[0mo\u001b[0m\u001b[0;34m,\u001b[0m \u001b[0;36m0\u001b[0m\u001b[0;34m)\u001b[0m\u001b[0;34m\u001b[0m\u001b[0;34m\u001b[0m\u001b[0m\n\u001b[0m\u001b[1;32m    258\u001b[0m \u001b[0;34m\u001b[0m\u001b[0m\n\u001b[1;32m    259\u001b[0m def _make_iterencode(markers, _default, _encoder, _indent, _floatstr,\n",
      "\u001b[0;32m/Library/Developer/CommandLineTools/Library/Frameworks/Python3.framework/Versions/3.7/lib/python3.7/json/encoder.py\u001b[0m in \u001b[0;36mdefault\u001b[0;34m(self, o)\u001b[0m\n\u001b[1;32m    177\u001b[0m \u001b[0;34m\u001b[0m\u001b[0m\n\u001b[1;32m    178\u001b[0m         \"\"\"\n\u001b[0;32m--> 179\u001b[0;31m         raise TypeError(f'Object of type {o.__class__.__name__} '\n\u001b[0m\u001b[1;32m    180\u001b[0m                         f'is not JSON serializable')\n\u001b[1;32m    181\u001b[0m \u001b[0;34m\u001b[0m\u001b[0m\n",
      "\u001b[0;31mTypeError\u001b[0m: Object of type Doc is not JSON serializable"
     ]
    }
   ],
   "source": [
    "#stm_list =[{'text': 'Das war ein Satz.'},\n",
    "#           {'text': 'Der Satz des Tages ist das.'} \n",
    "#]\n",
    "\n",
    "json = {'data':stm_list, \n",
    "        'language':'de', \n",
    "        'ignore': ['Digitalisierung'], \n",
    "        #\"relevant_pos\": [\"VERB\",\"NOUN\",\"ADJ\"]\n",
    "        \"relevant_pos\": [\"NOUN\"]\n",
    "       }\n",
    "result = requests.post('https://penelope.vub.be/network-components/statementgraphgenerator', json=json)"
   ]
  },
  {
   "cell_type": "code",
   "execution_count": 111,
   "metadata": {},
   "outputs": [
    {
     "name": "stdout",
     "output_type": "stream",
     "text": [
      "0 2\n",
      "[{'id': 1, 'mfic': '', 'text': 'Das war ein Satz.'}, {'id': 2, 'mfic': '', 'text': 'Der Satz des Tages ist das.'}]\n"
     ]
    },
    {
     "data": {
      "text/plain": [
       "[]"
      ]
     },
     "execution_count": 111,
     "metadata": {},
     "output_type": "execute_result"
    }
   ],
   "source": [
    "graph = result.json()\n",
    "print(len(graph['links']),\n",
    "len(graph['nodes']))\n",
    "print(graph['nodes'])\n",
    "graph['links']"
   ]
  },
  {
   "cell_type": "code",
   "execution_count": 78,
   "metadata": {},
   "outputs": [],
   "source": [
    "\n",
    "\n"
   ]
  },
  {
   "cell_type": "code",
   "execution_count": null,
   "metadata": {},
   "outputs": [],
   "source": []
  },
  {
   "cell_type": "code",
   "execution_count": 79,
   "metadata": {},
   "outputs": [],
   "source": []
  },
  {
   "cell_type": "code",
   "execution_count": null,
   "metadata": {},
   "outputs": [],
   "source": []
  }
 ],
 "metadata": {
  "kernelspec": {
   "display_name": "Python 3",
   "language": "python",
   "name": "python3"
  },
  "language_info": {
   "codemirror_mode": {
    "name": "ipython",
    "version": 3
   },
   "file_extension": ".py",
   "mimetype": "text/x-python",
   "name": "python",
   "nbconvert_exporter": "python",
   "pygments_lexer": "ipython3",
   "version": "3.7.3"
  }
 },
 "nbformat": 4,
 "nbformat_minor": 4
}
