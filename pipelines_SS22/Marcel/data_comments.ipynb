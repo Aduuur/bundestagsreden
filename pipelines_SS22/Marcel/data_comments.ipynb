{
 "cells": [
  {
   "cell_type": "code",
   "execution_count": 13,
   "id": "54b24631",
   "metadata": {},
   "outputs": [],
   "source": [
    "import collections\n",
    "import requests\n",
    "import json\n",
    "import re\n",
    "import os\n",
    "import sys\n",
    "\n",
    "with open('../../data/speeches_20.jsonl', 'r', encoding = 'utf8') as fp:\n",
    "    data = list(fp)\n",
    "speeches = []\n",
    "for line in data:\n",
    "    speeches.append(json.loads(line))"
   ]
  },
  {
   "cell_type": "code",
   "execution_count": 14,
   "id": "1b1f1887",
   "metadata": {},
   "outputs": [],
   "source": [
    "# globale items\n",
    "regex = \"{(.*?)}\" # hier die genaue Definition der Kommentare vom Parser <<< >>>\n",
    "kommentare = []"
   ]
  },
  {
   "cell_type": "code",
   "execution_count": 15,
   "id": "ce03b784",
   "metadata": {},
   "outputs": [],
   "source": [
    "def groupSpeechesByParty(speeches):\n",
    "    groupedSpeeches = {}\n",
    "    for speech in speeches:\n",
    "        tpo = speech['party']\n",
    "        if tpo in groupedSpeeches:\n",
    "            groupedSpeeches[tpo].append(speech)\n",
    "        else:\n",
    "            groupedSpeeches[tpo] = [speech]\n",
    "    return groupedSpeeches"
   ]
  },
  {
   "cell_type": "code",
   "execution_count": 31,
   "id": "67161023",
   "metadata": {},
   "outputs": [],
   "source": [
    "def clean_partyNames(speeches):\n",
    "    for speech in speeches:\n",
    "        if 'BÜNDNIS\\xa090/DIE GRÜNEN' in speech['party']:\n",
    "            speech.update({'party': 'BÜNDNIS 90/DIE GRÜNEN'})\n",
    "        #prin"
   ]
  },
  {
   "cell_type": "code",
   "execution_count": 32,
   "id": "7d08bf7a",
   "metadata": {},
   "outputs": [
    {
     "name": "stdout",
     "output_type": "stream",
     "text": [
      "2777\n",
      "698\n",
      "607\n",
      "457\n",
      "395\n",
      "353\n",
      "241\n",
      "26\n"
     ]
    }
   ],
   "source": [
    "groupbyparty = groupSpeechesByParty(speeches)\n",
    "groupbyparty.keys()\n",
    "print(len(speeches)) # Anzahl aller Reden\n",
    "for ele in groupbyparty:\n",
    "    print(len(groupbyparty[ele]))\n",
    "# Überprüfung mit bspw.: len(groupbyparty['SPD'])"
   ]
  },
  {
   "cell_type": "code",
   "execution_count": 33,
   "id": "59fd3941",
   "metadata": {},
   "outputs": [
    {
     "data": {
      "text/plain": [
       "dict_keys(['SPD', 'CDU/CSU', 'BÜNDNIS 90/DIE GRÜNEN', 'FDP', 'AfD', 'DIE LINKE', 'Fraktionslos'])"
      ]
     },
     "execution_count": 33,
     "metadata": {},
     "output_type": "execute_result"
    }
   ],
   "source": [
    "for speech in speeches:\n",
    "    if 'BÜNDNIS\\xa090/DIE GRÜNEN' in speech['party']:\n",
    "        speech.update({'party': 'DIE GRÜNEN'})\n",
    "groupbyparty.keys()"
   ]
  },
  {
   "cell_type": "code",
   "execution_count": null,
   "id": "7797721c",
   "metadata": {},
   "outputs": [],
   "source": []
  }
 ],
 "metadata": {
  "kernelspec": {
   "display_name": "Python 3 (ipykernel)",
   "language": "python",
   "name": "python3"
  },
  "language_info": {
   "codemirror_mode": {
    "name": "ipython",
    "version": 3
   },
   "file_extension": ".py",
   "mimetype": "text/x-python",
   "name": "python",
   "nbconvert_exporter": "python",
   "pygments_lexer": "ipython3",
   "version": "3.9.7"
  }
 },
 "nbformat": 4,
 "nbformat_minor": 5
}
