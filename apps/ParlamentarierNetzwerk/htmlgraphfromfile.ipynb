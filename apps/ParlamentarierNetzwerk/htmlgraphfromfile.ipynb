{
 "cells": [
  {
   "cell_type": "code",
   "execution_count": 1,
   "metadata": {},
   "outputs": [],
   "source": [
    "\n",
    "import json\n",
    "\n",
    "with open('networkdata.json', 'r') as fp:\n",
    "    graph = json.load(fp)\n"
   ]
  },
  {
   "cell_type": "code",
   "execution_count": 2,
   "metadata": {},
   "outputs": [
    {
     "data": {
      "text/plain": [
       "{'id': 1,\n",
       " 'name': 'Hermann Otto Solms',\n",
       " 'party': 'FDP',\n",
       " 'nReden': 8,\n",
       " 'nWorte': 761,\n",
       " 'text': 'Morgen Kollegin Kollege Platz Dame Herr Kollegin Kollege Sitzung Bundestag Übung Beginn Sitzung Regelung Geschäftsordnung Bundestag Absatz Geschäftsordnung Bundestag Bundestag Mitglied Vorsitz Bundestag Präsident Fraktion Verfahren Drucksache Versammlungsleiter Sitzung Antrag Antrag Fraktion Handzeichen Gegenstimmen Enthaltung Antrag Stimme Fraktion Zustimmung AfD-Fraktion § Absatz Geschäftsordnung Herr Dr. Mitglied Bundestag Amt Alterspräsidenten Bundestag Mitglied Jahr Mitglied Bundestag Bundestag Fall Rolle Alterspräsidenten Ehre Freude Vorsitz Amtsübernahme Präsident BundestagKollege Dr.Frau Kollegin Kollege Kollege Verfahren Schatzmeister Partei Zeit Verfahren Änderung Parteiengesetzes Partei Punkt Dame Herr FDP-Fraktion Überweisung Hoffnung Koalitionsfraktionen Vernunft Diskussion Parteiengesetz Parteiengesetz Renovierung Erneuerung Stichwort Umgang Mikrospenden Überprüfung Transparenzregelungen Klarstellung Veröffentlichung Sponsoring-Einnahmen Partei Frage Vereinfachung Schatzmeister Bundestagsverwaltung Problem Änderung Zeit Gesetz Woche Kollegin Kollege Sinn Teilfinanzierung Verankerung Partei Bevölkerung Zustimmung Wähler Partei Ausdruck Zuschlag Wählerstimme Zuschlag Spende Beitrag Partei Einnahme Gesetz Zeichen Partei Vertrauen Zustimmung Bevölkerung Geld Kasse Geld Jahr Bundestag Problem Gesetzgebung Ausgabe Prozent Politik Bundestagswahl Koalitionsfraktionen Legislaturperiode Geld Nutznießer Ausscheiden Zuschlag Geld gleichen Partei Umgang Geld Steuerzahler Steuereinnahmen Konsumausgaben Geld Politik Zustimmung Finanzprobleme Zusammenhang Fall Möglichkeit Sache Erhöhung Obergrenze Unterstützung Dank Dank Dr. Redner Fraktion LinkeHerr Präsident Kollegin Kollege Verfahren Kollege notwendig Grund Gesetzentwurf Grund Bundesverfassungsgericht Grundsatzurteil Indizierung Obergrenze Erhöhung Verhältnis Koalitionsfraktionen Digitalisierung Kommunikationswege Instrument Partizipation Frage Verfassungsgerichtsurteil Parteiengesetz Grundlage Grund Parteiengesetz Digitalisierung Mühe Forderung Kosten Million Euro Höhe Weise Beurteilung Übrigen Sachverständige Anhörung Lesung Gesetzentwurfs Notwendigkeit Erhöhung Obergrenze Anspruch Partei Beteiligung Teilfinanzierung Argument Dezember Koalitionsfraktionen Änderung Parteiengesetzes Anspruch Cent Cent Wählerstimme Cent Cent Euro Spende Beitrag Höhe Euro Person Erhöhung Obergrenze Wirkung Parlament Sinn Absicht Begründung Obergrenze Erhöhung Anspruch Erhöhung Zuschlag Beitrag Spende Wählerstimmen Begründung Anhebung Obergrenze Wahlvolk Erhöhung Grund Griff Kasse Steuerzahler Sinn Verteilungsmaßstäbe Mittel Staat Obergrenze Betrag Partei Verfügung Verteilung Geld Partei Maßstab Höhe Beitrag Spende Zahl Wählerstimmen Partei Wahl Million Stimme Bundestagswahl Anteil Finanzierung Partei Sinn Wettbewerb Kasse Demokrat Wahl Zahn Politik Einsatz Mittel Konsequenz Griff Kasse Steuerzahler Konsequenz Verhalten Widerspruch Sinn Wortlaut Verfassungsrechtsprechung Demokrat Dank Aufmerksamkeit Redner Kollege Fraktion LinkeHerr Präsident Kollegin Kollege Widerspruchslösung Antragsteller Seite Vorhaltungen Beste Situation Jahr Mensch Leben Tod Organ Bewusstsein Bevölkerung Notwendigkeit Organ Phänomen Prozent Bevölkerung Umfrage Organspende Prozent Organspendeausweis Gretchenfrage Prozent Bevölkerung Schritt Schritt Grund Tod Organspendeausweis Jahr Nachdenkensprozess Schritt Ruck Prozent Bevölkerung Voraussetzung Antrag Selbstbestimmungsrecht Mensch Differenz Prinzipienreiterei spitzen Mensch Verfügung Entscheidung Leben Tod Leben Mensch Opferbereitschaft Widerspruchsregelung Voraussetzung Sinn Jahr Instrument Zustimmungsregelung Weiterführung Konzept Weg Meinung Selbstbestimmungsrecht Mensch Nachteil Widerspruch Organ Jahr Zehntausende Mensch Gedanke Ausweis Tod Mensch Gedanke Verbindung Thema Dank Aufmerksamkeit Dank Herr Kollege Rednerin Wort KolleginHerr Präsident Dame Herr Kollegin Kollege Anfang Ziel Verbesserung Spendenverhaltens Entwurf Weg Mitglied Haus Situation Patient Jahr Spende Organspendensituation Stelle Zahl Faktum Kollege Thema Mensch Verbesserung Lage Tausende Patient Demokrat Frage Selbstbestimmung Einzelne Vordergrund Widerspruchslösung Prinzip Recht Zustimmung Gebrauch Recht Widerspruch Widerspruchslösung Trägheit Entscheidungsunfähigkeit Einzelne Gegenteil Bundesbürger Frage Ergebnis Organ Behauptung Widerspruchslösung Entscheidungsfreiheit Recht Widerspruch Freiheit Widerspruchslösung Organspenden Gesetzgeber Bürger Freiheit Gebrauch Entwurf Stärkung Entscheidungsbereitschaft Freiheit Erreichen Ziel Abfrage Register Informationskampagnen Mitarbeiterin Mitarbeiter Bürgerämtern Pflicht Amtsvorgang Organspende Ort Eintrag Register Angestellte Bürgerämter Lebensbereich Bürger Aufwand Bürokratie Übrigen Frage Verwaltungsangestellten Bürgerämtern Gespräch Gespräch Ehegatte Familie Freund Arzt Arzt Gespräch Arzt Gespräch Verbesserung Situation Situation Entwurf Erhöhung Spenderzahlen Widerspruchslösung Instrument Anzahl Organspenden Land Frage Unterstützer Gegenentwurf Unterschied Spende Gewicht Chance Verbesserung Spendenverhaltens Verantwortung Lösung Problem Tausende Patient Bank Dank Aufmerksamkeit Rednerin KolleginHerr Präsident Kollegin Kollege Kollege Thema Bemerkung Aussage Leitung Bundestagspräsidenten Jüngere 90er-Jahren Regierungsfraktionen Regierung Idee Kopf Kopf Parlament Entscheidung Jahr Bundestag Zeit Sieg Niederlage Überraschung Enttäuschung Dankbarkeit Parlamentarier mitgestalten Eintritt Bundestag Land Auseinandersetzung Aufstellung Mittelstreckenraketen Reaktion Partei Gesellschaft Widerstand Demonstrant Hofgarten FDP-Außenpolitiker Stasi-Agent Doppelbeschluss Abrüstung Mittelstreckenraketen Einheit Beginn Parlamentarier Kind Mauer Soldat Schlimmste November Abgeordneter Nachricht Mauerfall Plenum Wasserwerk Anstimmen Nationalhymne Kollegin Kollege Augenblick Geschichte Tätigkeit Einheit Ereignis Nachkriegszeit Einheit Veränderung Welt Enttäuschung Scheitern 5-Prozent-Hürde Wahl Schock Niederlage Chance muss Chance Partei Kollegin Kollege Bundestag Aufgabe Romanfigur Stärke Tausende Fessel Boden Land Vorschrift Auflage Gebot Verbot Auge Verwaltung Not wund Beamte Aufgabe gleichen Lösung Jahr Problem Klimapolitik Binnenmarkt Migrationsproblematik Stabilität Staatsverschuldung Kollegin Kollege Versprechen Bundesrepublik Wohlstand Versprechen Gedanke Generationengerechtigkeit Grundlage Handeln Lösung Problem Kind Enkel Schulde Wiege Kollegin Kollege Krise Finanzkrise Bedingung Wachstumsprozess Gesellschaft Wirtschaft Prozent Investition Haushalt Unternehmen Staat Million Bürger Kreativität Leistungsbereitschaft Staat Parlament Regierung Gesicht Kreativität Schaffenskraft Eigenverantwortung Mensch Vertrauen Mensch Land Jahr Staat Land Anreiz Verbot Raum Gründerkultur Idee Freiraum Scheuklappen Rentensystem Gesellschaft Flexibilität Arbeitnehmer Freiraum Einkunftsquellen Reform Rentensystem Rentner Produktivitätsfortschritt Weltwirtschaft Aktienrente Weg Herr Präsident Kollegin Kollege Bundestag Hoffnung Problem Mut Sachverstand Grundsatz Verfassung Bundestag Volk Staatsorgan Herzkammer Demokratie Parlamentarier Wille Volk Bundestag Grundlinien Politik Regierung Umsetzung Aufgabe Demut Volk Regierung Regierungskoalition Opposition Wahlkampf Sommerpause Kraft Fessel Goldene Zwanziger Schaffenskraft Mensch Suche Freiheit Heimat Kollegin Kollege Jahrzehnt Herzkammer Demokratie Zeit Abgeordnete Tagebuch Dank',\n",
       " 'maxTFIDF': 'widerspruchslösung'}"
      ]
     },
     "execution_count": 2,
     "metadata": {},
     "output_type": "execute_result"
    }
   ],
   "source": [
    "graph['nodes'][0]"
   ]
  },
  {
   "cell_type": "code",
   "execution_count": 3,
   "metadata": {},
   "outputs": [],
   "source": [
    "def GraphVisualizer(data, properties):\n",
    "    \n",
    "    \n",
    "    ncol, nlabel, darkmode, edgevisibility, particles\n",
    "    \n",
    "    \n",
    "    # evaluate the boolean arguments\n",
    "    if properties['edgevisibility'] == True:\n",
    "        lv = \"//\"\n",
    "    else:\n",
    "        lv = \"\"\n",
    "    if particles == False:\n",
    "        parts = \"//\"\n",
    "    else:\n",
    "        parts = \"\"\n",
    "    if darkmode == False:\n",
    "        dm = \"//\"\n",
    "    else:\n",
    "        dm = \"\"\n",
    "    \n",
    "    d3graph = {\"nodes\": [], \"links\": []}\n",
    "    d3graph[\"nodes\"] = data[\"nodes\"]\n",
    "    d3graph[\"links\"] = data[\"links\"]\n",
    "\n",
    "    htmlcode = f\"\"\"<head>\n",
    "        <style> body {{margin: 0;}} </style>\n",
    "        <script src=\"https://unpkg.com/force-graph\"></script>\n",
    "        <meta charset=\"UTF-8\">\n",
    "    </head>\n",
    "    <body>\n",
    "    <div id=\"graph\"></div>\n",
    "    <script>\n",
    "        var data = {d3graph};\n",
    "        const elem = document.getElementById('graph');\n",
    "        const Graph = ForceGraph()(elem)\n",
    "            .graphData(data)\n",
    "            .nodeLabel('{nlabel}')\n",
    "            .nodeAutoColorBy('{ncol}')\n",
    "            {dm}.backgroundColor('#000000')\n",
    "            {dm}.linkColor(() => 'rgba(255,255,255,0.2)')\n",
    "            {lv}.linkVisibility('false')\n",
    "            {parts}.linkDirectionalParticles(2)\n",
    "            {parts}.linkDirectionalParticleWidth(1.4)\n",
    "            .onNodeClick (node => {{window.open(`wordnet.html`, '_blank')}})\n",
    "            //.onNodeHover(node => elem.style.cursor = node ? 'pointer' : null)\n",
    "            .onNodeRightClick(node => {{\n",
    "                // Center/zoom on node\n",
    "                Graph.centerAt(node.x, node.y, 1000);\n",
    "                Graph.zoom(8, 2000);\n",
    "            }});\n",
    "    </script>\n",
    "    </body>\n",
    "    \"\"\"\n",
    "    return {'graph':htmlcode}\n",
    "\n",
    "\n",
    "# .onNodeClick (node => {{window.open(`https://www.universecity.de`, '_blank')}})"
   ]
  },
  {
   "cell_type": "code",
   "execution_count": 9,
   "metadata": {},
   "outputs": [
    {
     "ename": "TypeError",
     "evalue": "GraphVisualizer() missing 5 required positional arguments: 'ncol', 'nlabel', 'darkmode', 'edgevisibility', and 'particles'",
     "output_type": "error",
     "traceback": [
      "\u001b[0;31m---------------------------------------------------------------------------\u001b[0m",
      "\u001b[0;31mTypeError\u001b[0m                                 Traceback (most recent call last)",
      "\u001b[0;32m<ipython-input-9-29b2fe3f5dfa>\u001b[0m in \u001b[0;36m<module>\u001b[0;34m\u001b[0m\n\u001b[1;32m      9\u001b[0m \u001b[0;34m\u001b[0m\u001b[0m\n\u001b[1;32m     10\u001b[0m \u001b[0;31m#htmlgraph = GraphVisualizer(graph,'name','name',True,True,True)\u001b[0m\u001b[0;34m\u001b[0m\u001b[0;34m\u001b[0m\u001b[0;34m\u001b[0m\u001b[0m\n\u001b[0;32m---> 11\u001b[0;31m \u001b[0mhtmlgraph\u001b[0m \u001b[0;34m=\u001b[0m \u001b[0mGraphVisualizer\u001b[0m\u001b[0;34m(\u001b[0m\u001b[0mjson\u001b[0m\u001b[0;34m)\u001b[0m\u001b[0;34m\u001b[0m\u001b[0;34m\u001b[0m\u001b[0m\n\u001b[0m",
      "\u001b[0;31mTypeError\u001b[0m: GraphVisualizer() missing 5 required positional arguments: 'ncol', 'nlabel', 'darkmode', 'edgevisibility', and 'particles'"
     ]
    }
   ],
   "source": [
    "\n",
    "properties = {\n",
    "        'nodecoloring':'maxTFIDF', \n",
    "        'nodelabel': 'name', \n",
    "        #'nodelabel': 'mfic',\n",
    "        \"darkmode\": False,\n",
    "        \"edgevisibility\": False,\n",
    "        \"particles\": False\n",
    "       }\n",
    "\n",
    "#htmlgraph = GraphVisualizer(graph,'name','name',True,True,True)\n",
    "htmlgraph = GraphVisualizer(graph,properties)"
   ]
  },
  {
   "cell_type": "code",
   "execution_count": 7,
   "metadata": {},
   "outputs": [],
   "source": [
    "with open (f\"./ParlamentarierNetzwerk.html\", \"w\") as f:\n",
    "    f.write(htmlgraph['graph'])"
   ]
  },
  {
   "cell_type": "code",
   "execution_count": null,
   "metadata": {},
   "outputs": [],
   "source": []
  }
 ],
 "metadata": {
  "kernelspec": {
   "display_name": "Python 3",
   "language": "python",
   "name": "python3"
  },
  "language_info": {
   "codemirror_mode": {
    "name": "ipython",
    "version": 3
   },
   "file_extension": ".py",
   "mimetype": "text/x-python",
   "name": "python",
   "nbconvert_exporter": "python",
   "pygments_lexer": "ipython3",
   "version": "3.7.3"
  }
 },
 "nbformat": 4,
 "nbformat_minor": 4
}
