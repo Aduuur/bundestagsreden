{
 "cells": [
  {
   "cell_type": "code",
   "execution_count": 1,
   "metadata": {
    "ExecuteTime": {
     "start_time": "2023-05-03T14:07:09.911373Z",
     "end_time": "2023-05-03T14:07:09.943053Z"
    }
   },
   "outputs": [],
   "source": [
    "import jsonlines\n",
    "import json"
   ]
  },
  {
   "cell_type": "code",
   "execution_count": 8,
   "metadata": {
    "ExecuteTime": {
     "start_time": "2023-05-03T14:10:54.912354Z",
     "end_time": "2023-05-03T14:10:54.927976Z"
    },
    "collapsed": false,
    "jupyter": {
     "outputs_hidden": false
    }
   },
   "outputs": [],
   "source": [
    "# works with the already preprocessed speeches. Change the name of the file accordingly\n",
    "\n",
    "path = '../../data/'\n",
    "\n",
    "legis_period = 20\n",
    "speeches_are_preprocessed = False\n",
    "\n",
    "\n"
   ]
  },
  {
   "cell_type": "code",
   "execution_count": 15,
   "metadata": {
    "ExecuteTime": {
     "start_time": "2023-05-03T14:14:28.566966Z",
     "end_time": "2023-05-03T14:14:29.356602Z"
    }
   },
   "outputs": [],
   "source": [
    "if speeches_are_preprocessed:\n",
    "    name_of_file = f'speeches_preprocessed_{legis_period}.json'\n",
    "    # use this way to import preprocessed data\n",
    "    with open(f\"{path}{name_of_file}\", 'r') as fp:\n",
    "        data = json.load(fp)\n",
    "    reden = data.copy()\n",
    "else:\n",
    "    name_of_file = f'speeches_{legis_period}.jsonl'\n",
    "    #imports not yet preprocessed speeches\n",
    "    reden = []\n",
    "    with jsonlines.open(f'{path}{name_of_file}') as f:\n",
    "        for line in f.iter():\n",
    "            reden.append(line)\n",
    "    reden.sort(key = lambda x:x['date'])"
   ]
  },
  {
   "cell_type": "code",
   "execution_count": 16,
   "metadata": {
    "ExecuteTime": {
     "start_time": "2023-05-03T14:14:31.127534Z",
     "end_time": "2023-05-03T14:14:31.154945Z"
    }
   },
   "outputs": [],
   "source": [
    "# bei manchen Redner*innen sind keine Parteiinformationen hinterlegt. Diese Fälle können hier (leider manuell)\n",
    "# behandelt werden\n",
    "for rede in reden:\n",
    "    rede['party']=rede['party'].replace(u'\\xa0', u' ')\n",
    "    if rede['party']=='Bündnis 90/Die Grünen':\n",
    "        rede['party']='BÜNDNIS 90/DIE GRÜNEN'\n",
    "    if rede['party']=='Fraktionslos':\n",
    "        rede['party']='fraktionslos'\n",
    "\n",
    "    if rede['name'] == 'Anne Spiegel':\n",
    "        rede['party'] = \"SPD\"\n",
    "    if rede['name'] == 'Christine Lambrecht':\n",
    "        rede['party'] = \"SPD\"\n",
    "    if rede['name'] == 'Svenja Schulze':\n",
    "        rede['party'] = \"SPD\"\n",
    "    if rede['name'] == 'Klara Geywitz':\n",
    "        rede['party'] = \"SPD\"\n",
    "    if rede['name'] == 'Wolfgang Schmidt':\n",
    "        rede['party'] = \"SPD\"\n",
    "    if rede['name'] == 'Nancy Faeser':\n",
    "        rede['party'] = \"SPD\"\n",
    "    if rede['name'] == 'Clara Bünger':\n",
    "        rede['party'] = \"DIE LINKE\"\n",
    "    if rede['name'] == 'Dr. Joachim Pfeiffer':\n",
    "        rede['party'] = \"CDU/CSU\"\n",
    "    if rede['name'] == 'Dr. Dietmar Bartsch':\n",
    "        rede['party'] = \"DIE LINKE\"\n",
    "    if rede['name'] == 'Dr. Eva Högl':\n",
    "        rede['party'] = \"DIE LINKE\"\n",
    "    if rede['name'] == 'Boris Pistorius':\n",
    "        rede['party'] = \"SPD\"\n",
    "    if rede['name'] == 'Sven Schulze':\n",
    "        rede['party'] = \"CDU/CSU\"\n",
    "    if rede['name'] == 'Dr. Reiner':\n",
    "        rede['party'] = \"AfD\"\n",
    "    if rede['name'] == 'Peter Beuth':\n",
    "        rede['party'] = \"CDU/CSU\"\n",
    "    if rede['name'] == 'Klaus Holetschek':\n",
    "        rede['party'] = \"CDU/CSU\"\n",
    "    if rede['name'] == 'Daniel Rinkert':\n",
    "        rede['party'] = \"SPD\"\n",
    "    if rede['name'] == 'Anke Rehlinger':\n",
    "        rede['party'] = \"SPD\"\n",
    "    if rede['name'] == 'Bettina Jarasch':\n",
    "        rede['party'] = 'BÜNDNIS 90/DIE GRÜNEN'\n",
    "    if rede['name'] == 'Emily Vontz':\n",
    "        rede['party'] = \"SPD\"\n",
    "    if rede['name'] == 'Dr. Dieter Romann':\n",
    "        rede['party'] = \"CDU/CSU\"\n",
    "    if rede['name'] == 'Alexander Bartz':\n",
    "        rede['party'] = \"SPD\""
   ]
  },
  {
   "cell_type": "code",
   "execution_count": 17,
   "metadata": {
    "ExecuteTime": {
     "start_time": "2023-05-03T14:14:32.512711Z",
     "end_time": "2023-05-03T14:14:33.518436Z"
    }
   },
   "outputs": [],
   "source": [
    "if speeches_are_preprocessed:\n",
    "    with open(f\"{path}{name_of_file}\", 'w') as fp:\n",
    "        json.dump(reden, fp, sort_keys=True, indent=4)\n",
    "else:\n",
    "    with open(f\"{path}{name_of_file}\", 'w', encoding='utf-8') as f:\n",
    "        for line in reden:\n",
    "            json.dump(line, f, ensure_ascii=False)\n",
    "            f.write('\\n')"
   ]
  },
  {
   "cell_type": "code",
   "execution_count": null,
   "metadata": {
    "collapsed": false,
    "jupyter": {
     "outputs_hidden": false
    }
   },
   "outputs": [],
   "source": []
  }
 ],
 "metadata": {
  "kernelspec": {
   "display_name": "Python 3",
   "language": "python",
   "name": "python3"
  },
  "language_info": {
   "codemirror_mode": {
    "name": "ipython",
    "version": 3
   },
   "file_extension": ".py",
   "mimetype": "text/x-python",
   "name": "python",
   "nbconvert_exporter": "python",
   "pygments_lexer": "ipython3",
   "version": "3.7.3"
  }
 },
 "nbformat": 4,
 "nbformat_minor": 5
}
