{
 "cells": [
  {
   "cell_type": "code",
   "execution_count": 3,
   "metadata": {
    "ExecuteTime": {
     "start_time": "2023-05-03T15:14:44.124664Z",
     "end_time": "2023-05-03T15:14:44.140256Z"
    }
   },
   "outputs": [],
   "source": [
    "import jsonlines\n",
    "import json"
   ]
  },
  {
   "cell_type": "code",
   "execution_count": 13,
   "metadata": {
    "ExecuteTime": {
     "start_time": "2023-05-03T15:37:18.206062Z",
     "end_time": "2023-05-03T15:37:18.223224Z"
    },
    "collapsed": false,
    "jupyter": {
     "outputs_hidden": false
    }
   },
   "outputs": [],
   "source": [
    "# works with the already preprocessed speeches. Change the name of the file accordingly\n",
    "\n",
    "path = '../../data/'\n",
    "\n",
    "legis_period = 20\n",
    "speeches_are_preprocessed = False\n"
   ]
  },
  {
   "cell_type": "code",
   "execution_count": 14,
   "metadata": {
    "ExecuteTime": {
     "start_time": "2023-05-03T15:37:18.867126Z",
     "end_time": "2023-05-03T15:37:19.748619Z"
    }
   },
   "outputs": [],
   "source": [
    "if speeches_are_preprocessed:\n",
    "    name_of_file = f'speeches_preprocessed_{legis_period}.json'\n",
    "    # use this way to import preprocessed data\n",
    "    with open(f\"{path}{name_of_file}\", 'r') as fp:\n",
    "        data = json.load(fp)\n",
    "    reden = data.copy()\n",
    "else:\n",
    "    name_of_file = f'speeches_{legis_period}.jsonl'\n",
    "    #imports not yet preprocessed speeches\n",
    "    reden = []\n",
    "    with jsonlines.open(f'{path}{name_of_file}') as f:\n",
    "        for line in f.iter():\n",
    "            reden.append(line)\n",
    "    reden.sort(key = lambda x:x['date'])"
   ]
  },
  {
   "cell_type": "code",
   "execution_count": 16,
   "metadata": {
    "ExecuteTime": {
     "start_time": "2023-05-03T15:37:33.331326Z",
     "end_time": "2023-05-03T15:37:33.378792Z"
    }
   },
   "outputs": [],
   "source": [
    "# bei manchen Redner*innen sind keine Parteiinformationen hinterlegt. Diese Fälle können hier (leider manuell)\n",
    "# behandelt werden\n",
    "for rede in reden:\n",
    "\n",
    "    rede['party']=rede['party'].replace(u'\\xa0', u' ')\n",
    "    if rede['party']=='Bündnis 90/Die Grünen':\n",
    "        rede['party']='BÜNDNIS 90/DIE GRÜNEN'\n",
    "    if rede['party']=='Fraktionslos':\n",
    "        rede['party']='fraktionslos'\n",
    "\n",
    "    if rede['name'] == 'Dr. Dirk-UlrichLena Mende Kreck':\n",
    "        rede['name'] = 'Lena Kreck'\n",
    "        rede['party'] = 'DIE LINKE'\n",
    "        rede['name'] = 'Alexander Föhr'\n",
    "    if rede['name'] == 'Dirk-UlrichAlexander Mende Föhr':\n",
    "        rede['name'] = 'Alexander Föhr'\n",
    "        rede['party'] = 'CDU/CSU'\n",
    "\n",
    "    if rede['name'] == 'Anne Spiegel':\n",
    "        rede['party'] = \"SPD\"\n",
    "    if rede['name'] == 'Christine Lambrecht':\n",
    "        rede['party'] = \"SPD\"\n",
    "    if rede['name'] == 'Svenja Schulze':\n",
    "        rede['party'] = \"SPD\"\n",
    "    if rede['name'] == 'Klara Geywitz':\n",
    "        rede['party'] = \"SPD\"\n",
    "    if rede['name'] == 'Wolfgang Schmidt':\n",
    "        rede['party'] = \"SPD\"\n",
    "    if rede['name'] == 'Nancy Faeser':\n",
    "        rede['party'] = \"SPD\"\n",
    "    if rede['name'] == 'Clara Bünger':\n",
    "        rede['party'] = \"DIE LINKE\"\n",
    "    if rede['name'] == 'Dr. Joachim Pfeiffer':\n",
    "        rede['party'] = \"CDU/CSU\"\n",
    "    if rede['name'] == 'Dr. Dietmar Bartsch':\n",
    "        rede['party'] = \"DIE LINKE\"\n",
    "    if rede['name'] == 'Dr. Eva Högl':\n",
    "        rede['party'] = \"DIE LINKE\"\n",
    "    if rede['name'] == 'Boris Pistorius':\n",
    "        rede['party'] = \"SPD\"\n",
    "    if rede['name'] == 'Sven Schulze':\n",
    "        rede['party'] = \"CDU/CSU\"\n",
    "    if rede['name'] == 'Dr. Reiner':\n",
    "        rede['party'] = \"AfD\"\n",
    "    if rede['name'] == 'Peter Beuth':\n",
    "        rede['party'] = \"CDU/CSU\"\n",
    "    if rede['name'] == 'Klaus Holetschek':\n",
    "        rede['party'] = \"CDU/CSU\"\n",
    "    if rede['name'] == 'Daniel Rinkert':\n",
    "        rede['party'] = \"SPD\"\n",
    "    if rede['name'] == 'Anke Rehlinger':\n",
    "        rede['party'] = \"SPD\"\n",
    "    if rede['name'] == 'Bettina Jarasch':\n",
    "        rede['party'] = 'BÜNDNIS 90/DIE GRÜNEN'\n",
    "    if rede['name'] == 'Emily Vontz':\n",
    "        rede['party'] = \"SPD\"\n",
    "    if rede['name'] == 'Dr. Dieter Romann':\n",
    "        rede['party'] = \"CDU/CSU\"\n",
    "    if rede['name'] == 'Alexander Bartz':\n",
    "        rede['party'] = \"SPD\"\n",
    "    if rede['name'] == 'Nils Gründer':\n",
    "        rede['party'] = \"FDP\"\n",
    "    if rede['name'] == 'Michael Sacher':\n",
    "        rede['party'] = \"BÜNDNIS 90/DIE GRÜNEN\"\n",
    "    if rede['name'] == 'Melanie Bernstein':\n",
    "        rede['party'] = \"CDU/CSU\"\n",
    "    if rede['name'] == 'Dr. Roman Poseck':\n",
    "        rede['party'] = \"CDU/CSU\"\n",
    "    if rede['name'] == 'Dr. Joachim Stamp':\n",
    "        rede['party'] = \"FDP\"\n",
    "    if rede['name'] == 'Dr. Dietmar Woidke':\n",
    "        rede['party'] = \"SPD\"\n",
    "    if rede['name'] == 'Dr. Andreas Bovenschulte':\n",
    "        rede['party'] = \"SPD\"\n",
    "    if rede['name'] == 'Dr. Reiner Haseloff':\n",
    "        rede['party'] = \"SPD\"\n",
    "    if rede['name'] == 'Dr. Andreas Pinkwart':\n",
    "        rede['party'] = \"FDP\"\n",
    "    if rede['name'] == 'Dr. Jörg Steinbach':\n",
    "        rede['party'] = \"SPD\"\n",
    "    if rede['name'] == 'Dr. Daniela De Ridder':\n",
    "        rede['party'] = \"SPD\"\n"
   ]
  },
  {
   "cell_type": "code",
   "execution_count": 17,
   "metadata": {
    "ExecuteTime": {
     "start_time": "2023-05-03T15:37:39.180721Z",
     "end_time": "2023-05-03T15:37:40.159514Z"
    }
   },
   "outputs": [],
   "source": [
    "if speeches_are_preprocessed:\n",
    "    with open(f\"{path}{name_of_file}\", 'w') as fp:\n",
    "        json.dump(reden, fp, sort_keys=True, indent=4)\n",
    "else:\n",
    "    with open(f\"{path}{name_of_file}\", 'w', encoding='utf-8') as f:\n",
    "        for line in reden:\n",
    "            json.dump(line, f, ensure_ascii=False)\n",
    "            f.write('\\n')"
   ]
  },
  {
   "cell_type": "code",
   "execution_count": null,
   "metadata": {
    "collapsed": false,
    "jupyter": {
     "outputs_hidden": false
    }
   },
   "outputs": [],
   "source": []
  }
 ],
 "metadata": {
  "kernelspec": {
   "display_name": "Python 3",
   "language": "python",
   "name": "python3"
  },
  "language_info": {
   "codemirror_mode": {
    "name": "ipython",
    "version": 3
   },
   "file_extension": ".py",
   "mimetype": "text/x-python",
   "name": "python",
   "nbconvert_exporter": "python",
   "pygments_lexer": "ipython3",
   "version": "3.7.3"
  }
 },
 "nbformat": 4,
 "nbformat_minor": 5
}
