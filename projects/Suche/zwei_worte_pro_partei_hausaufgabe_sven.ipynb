{
 "cells": [
  {
   "cell_type": "code",
   "execution_count": 20,
   "metadata": {},
   "outputs": [
    {
     "name": "stdout",
     "output_type": "stream",
     "text": [
      "Die Liste enthält 25187 Reden\n",
      "\n",
      "\n",
      "Die Liste enthält 10791 Reden\n",
      "\n",
      "\n"
     ]
    }
   ],
   "source": [
    "\n",
    "import json\n",
    "import jsonlines\n",
    "\n",
    "# Das (natural language toolkit) müsst ihr bestimmt installieren.\n",
    "# Weiß noch jemand, wie das geht?\n",
    "import nltk\n",
    "\n",
    "# Die collections.Counter package müsst ihr bestimmt auch installieren.\n",
    "# Die brauchen wir später, um Worte zu zählen.\n",
    "from collections import Counter\n",
    "\n",
    "\n",
    "\n",
    "# Hier legen wir fest, welche Daten (Wahlperiode 19 oder 20) wir laden:\n",
    "legislatur = 19\n",
    "\n",
    "# Wir generieren eine leere Liste:\n",
    "alleReden19 = []\n",
    "\n",
    "# Wir öffnen den entsprechende File (Dateipfad anpassen!):\n",
    "with jsonlines.open(f'../../data/speeches_{legislatur}.jsonl') as f:\n",
    "    for line in f.iter():\n",
    "    # Wir packen alles Zeile für Zeile zu unserer Liste:\n",
    "        alleReden19.append(line)\n",
    "        \n",
    "# Wir sortieren nach Datum:\n",
    "alleReden19.sort(key = lambda x:x['date'])\n",
    "\n",
    "# Wir lassen uns zeigen, wie viele Reden enthalten sind.\n",
    "print(f'Die Liste enthält {len(alleReden19)} Reden')\n",
    "# Neue Zeile auf der Konsole:\n",
    "print(f'\\n')\n",
    "\n",
    "\n",
    "# Hier legen wir fest, welche Daten (Wahlperiode 19 oder 20) wir laden:\n",
    "legislatur = 20\n",
    "\n",
    "# Wir generieren eine leere Liste:\n",
    "alleReden20 = []\n",
    "\n",
    "# Wir öffnen den entsprechende File (Dateipfad anpassen!):\n",
    "with jsonlines.open(f'../../data/speeches_{legislatur}.jsonl') as f:\n",
    "    for line in f.iter():\n",
    "    # Wir packen alles Zeile für Zeile zu unserer Liste:\n",
    "        alleReden20.append(line)\n",
    "        \n",
    "# Wir sortieren nach Datum:\n",
    "alleReden20.sort(key = lambda x:x['date'])\n",
    "\n",
    "# Wir lassen uns zeigen, wie viele Reden enthalten sind.\n",
    "print(f'Die Liste enthält {len(alleReden20)} Reden')\n",
    "# Neue Zeile auf der Konsole:\n",
    "print(f'\\n')\n"
   ]
  },
  {
   "cell_type": "code",
   "execution_count": 21,
   "metadata": {},
   "outputs": [],
   "source": [
    "## Zunächst brauchen wir eine Funktion, die uns die Reden gibt, die ein bestimmtes Wort enthalten. \n",
    "#  Funktion für Textsuche: \n",
    "#  Gibt eine Untermenge an Reden zurück, die einen bestimmten String (Wort) enthalten.\n",
    "\n",
    "def find_speeches_with_word(search_term, speeches):\n",
    "    filtered_speeches = []\n",
    "    for speech in speeches:\n",
    "        if ( search_term in speech['text'] ):\n",
    "            filtered_speeches.append(speech)\n",
    "    return filtered_speeches\n",
    "\n",
    "\n",
    "## Reden sind lang und die Worte tauchen in verschiedenen Kontexten auf.\n",
    "#  Wir würden gerne alle Sätze sehen, in denen der Suchbegriff vorkommt.\n",
    "#  Aber natürlich kommt unser Suchstring nur in Sätzen vor, die in de Untermenge an Reden sind. \n",
    "\n",
    "def find_sentences_with_word(search_term, speeches):\n",
    "    sents_with_word = []\n",
    "    for speech in speeches:\n",
    "        sent_list = nltk.sent_tokenize(speech['text'])\n",
    "        for sent in sent_list:\n",
    "            if search_term in sent:\n",
    "                sents_with_word.append(sent)\n",
    "    return sents_with_word\n",
    "\n",
    "\n",
    "## Nun wäre es doch spannend, die Reden einer Partei oder eines Politikers zu sehen.\n",
    "#  Dazu entwickeln wir eine Funktion, die es erlaubt, in den anderen Felder (keys) zu suchen.\n",
    "#  Funktion, mit der man eine Menge an Reden nach verschiedenen Kriterien filtern kann.\n",
    "#  Es wird die entsprechende Untermenge zurückgegeben.\n",
    "#  'what' enthält den Key, wo gesucht werden soll. Interessant vor allem: 'name' und 'party'\n",
    "\n",
    "def filter_speeches_for(what, search_term, speeches):\n",
    "    filtered_speeches = []\n",
    "    for speech in speeches:\n",
    "        if search_term in speech[what]:\n",
    "            filtered_speeches.append(speech)\n",
    "        \n",
    "    filtered_speeches.sort(key = lambda x:x['date'])   \n",
    "    return filtered_speeches"
   ]
  },
  {
   "cell_type": "code",
   "execution_count": null,
   "metadata": {},
   "outputs": [],
   "source": [
    "\n",
    "                \n"
   ]
  },
  {
   "cell_type": "code",
   "execution_count": null,
   "metadata": {},
   "outputs": [],
   "source": [
    "\n",
    "\n",
    "\n",
    "\n"
   ]
  },
  {
   "cell_type": "code",
   "execution_count": 23,
   "metadata": {},
   "outputs": [
    {
     "name": "stdout",
     "output_type": "stream",
     "text": [
      "Die SPD hat 199 Reden mit \"Klimawandel\" gehalten.\n",
      "Die SPD hat 308 Sätze mit \"Klimawandel\" gehalten.\n",
      "Die FDP hat 59 Reden mit \"Klimawandel\" gehalten.\n",
      "Die FDP hat 89 Sätze mit \"Klimawandel\" gehalten.\n",
      "Die CDU hat 186 Reden mit \"Klimawandel\" gehalten.\n",
      "Die CDU hat 335 Sätze mit \"Klimawandel\" gehalten.\n",
      "Die LINKE hat 117 Reden mit \"Klimawandel\" gehalten.\n",
      "Die LINKE hat 185 Sätze mit \"Klimawandel\" gehalten.\n",
      "Die GRÜNEN hat 48 Reden mit \"Klimawandel\" gehalten.\n",
      "Die GRÜNEN hat 57 Sätze mit \"Klimawandel\" gehalten.\n",
      "Die AfD hat 84 Reden mit \"Klimawandel\" gehalten.\n",
      "Die AfD hat 141 Sätze mit \"Klimawandel\" gehalten.\n",
      "Die unknown hat 62 Reden mit \"Klimawandel\" gehalten.\n",
      "Die unknown hat 96 Sätze mit \"Klimawandel\" gehalten.\n",
      "\n",
      "\n",
      "Die SPD hat 22 Reden mit \"Klimakrise\" gehalten.\n",
      "Die SPD hat 29 Sätze mit \"Klimakrise\" gehalten.\n",
      "Die FDP hat 2 Reden mit \"Klimakrise\" gehalten.\n",
      "Die FDP hat 2 Sätze mit \"Klimakrise\" gehalten.\n",
      "Die CDU hat 13 Reden mit \"Klimakrise\" gehalten.\n",
      "Die CDU hat 15 Sätze mit \"Klimakrise\" gehalten.\n",
      "Die LINKE hat 36 Reden mit \"Klimakrise\" gehalten.\n",
      "Die LINKE hat 47 Sätze mit \"Klimakrise\" gehalten.\n",
      "Die GRÜNEN hat 214 Reden mit \"Klimakrise\" gehalten.\n",
      "Die GRÜNEN hat 336 Sätze mit \"Klimakrise\" gehalten.\n",
      "Die AfD hat 9 Reden mit \"Klimakrise\" gehalten.\n",
      "Die AfD hat 15 Sätze mit \"Klimakrise\" gehalten.\n",
      "Die unknown hat 5 Reden mit \"Klimakrise\" gehalten.\n",
      "Die unknown hat 6 Sätze mit \"Klimakrise\" gehalten.\n"
     ]
    }
   ],
   "source": [
    "## Ich probiere etwas aus\n",
    "\n",
    "## Ich muss aber wissen, wie die Parteien geschrieben werden!\n",
    "#for speech in alleReden:\n",
    "#    print(speech['party'])\n",
    "\n",
    "such_wort1 = 'Klimawandel'\n",
    "such_wort2 = 'Klimakrise'\n",
    "\n",
    "#such_wort1 = 'Klima'\n",
    "#such_wort2 = 'Energie'\n",
    "\n",
    "#such_wort1 = 'Corona'\n",
    "#such_wort2 = 'Sport'\n",
    "\n",
    "alleReden = alleReden19\n",
    "\n",
    "parties = ['SPD','FDP','CDU','LINKE','GRÜNEN','AfD','unknown'] # sind die richtig geschrieben?\n",
    "\n",
    "untermengeSW1 = find_speeches_with_word(such_wort1,alleReden)\n",
    "frequencies1 = []\n",
    "for party in parties: \n",
    "    untermenge = filter_speeches_for('party', party, untermengeSW1)\n",
    "    satz_liste = find_sentences_with_word(such_wort1, untermenge)\n",
    "    print(f'Die {party} hat {len(untermenge)} Reden mit \"{such_wort1}\" gehalten.')\n",
    "    print(f'Die {party} hat {len(satz_liste)} Sätze mit \"{such_wort1}\" gehalten.')\n",
    "    #frequencies1.append(len(untermenge))\n",
    "    frequencies1.append(len(satz_liste))\n",
    "\n",
    "print('\\n')\n",
    "untermengeSW2 = find_speeches_with_word(such_wort2,alleReden)\n",
    "frequencies2 = []\n",
    "for party in parties:\n",
    "    untermenge = filter_speeches_for('party', party, untermengeSW2)\n",
    "    satz_liste = find_sentences_with_word(such_wort2, untermenge)\n",
    "    print(f'Die {party} hat {len(untermenge)} Reden mit \"{such_wort2}\" gehalten.')\n",
    "    print(f'Die {party} hat {len(satz_liste)} Sätze mit \"{such_wort2}\" gehalten.')\n",
    "    #frequencies2.append(len(untermenge))\n",
    "    frequencies2.append(len(satz_liste))\n",
    "    \n",
    "#print(frequencies1)"
   ]
  },
  {
   "cell_type": "markdown",
   "metadata": {},
   "source": [
    "# Ergebnisse"
   ]
  },
  {
   "cell_type": "code",
   "execution_count": 19,
   "metadata": {},
   "outputs": [
    {
     "data": {
      "image/png": "[encoded data removed]",
      "text/plain": [
       "<Figure size 720x720 with 1 Axes>"
      ]
     },
     "metadata": {
      "needs_background": "light"
     },
     "output_type": "display_data"
    }
   ],
   "source": [
    "\n",
    "import matplotlib.pyplot as plt\n",
    "\n",
    "#mpl.rcParams[\"figure.figsize\"] = (8,8)\n",
    "fig = plt.figure(figsize=(10,10))     \n",
    "    \n",
    "plt.bar(parties,frequencies1,label=f'{such_wort1}')\n",
    "plt.bar(parties,frequencies2,bottom=frequencies1,label=f'{such_wort2}')\n",
    "plt.title(\"Verteilung der Häufigkeiten\")\n",
    "plt.xlabel(\"Partei\")\n",
    "plt.ylabel(\"Anzahl der Reden\")\n",
    "plt.legend(loc=\"upper left\",prop={'size': 15})\n",
    "\n",
    "\n",
    "#plt.hist(freq_array, bins ='auto')\n",
    "plt.show()\n",
    "\n",
    "#plt.savefig('sample.svg')"
   ]
  },
  {
   "cell_type": "code",
   "execution_count": null,
   "metadata": {},
   "outputs": [],
   "source": [
    "\n",
    "\n",
    "\n"
   ]
  },
  {
   "cell_type": "code",
   "execution_count": null,
   "metadata": {},
   "outputs": [],
   "source": [
    "\n"
   ]
  },
  {
   "cell_type": "code",
   "execution_count": null,
   "metadata": {},
   "outputs": [],
   "source": [
    "\n"
   ]
  },
  {
   "cell_type": "code",
   "execution_count": null,
   "metadata": {},
   "outputs": [],
   "source": []
  }
 ],
 "metadata": {
  "kernelspec": {
   "display_name": "Python 3",
   "language": "python",
   "name": "python3"
  },
  "language_info": {
   "codemirror_mode": {
    "name": "ipython",
    "version": 3
   },
   "file_extension": ".py",
   "mimetype": "text/x-python",
   "name": "python",
   "nbconvert_exporter": "python",
   "pygments_lexer": "ipython3",
   "version": "3.7.3"
  }
 },
 "nbformat": 4,
 "nbformat_minor": 4
}
