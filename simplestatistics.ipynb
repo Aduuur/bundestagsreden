{
 "cells": [
  {
   "cell_type": "code",
   "execution_count": 19,
   "metadata": {},
   "outputs": [],
   "source": [
    "\n",
    "import streamlit as st\n",
    "import pandas as pd\n",
    "import numpy as np\n",
    "import requests\n",
    "import spacy\n",
    "import tqdm\n",
    "from collections import Counter\n",
    "\n",
    "import json\n",
    "\n",
    "#search_query = \"Digitalisierung\"\n",
    "search_query = \"Klima\"\n",
    "\n",
    "json = {'search_query':search_query, \n",
    "        'dataset_name':'deu', \n",
    "        'start_date':'2018-1-1', \n",
    "        'end_date':'2019-1-1'}\n",
    "result = requests.post('https://penelope.vub.be/parliament-data/get-speeches', json=json)\n",
    " "
   ]
  },
  {
   "cell_type": "code",
   "execution_count": 20,
   "metadata": {},
   "outputs": [],
   "source": [
    "speeches = []\n",
    "parties = []\n",
    "for speech in result.json()[\"speeches\"]:\n",
    "    speeches.append(speech)\n",
    "    parties.append(speech['party'])\n",
    "    "
   ]
  },
  {
   "cell_type": "code",
   "execution_count": 21,
   "metadata": {},
   "outputs": [
    {
     "data": {
      "text/plain": [
       "{'CDU/CSU': 216,\n",
       " 'SPD': 191,\n",
       " 'BÜNDNIS 90/DIE GRÜNEN': 139,\n",
       " 'AfD': 93,\n",
       " 'DIE LINKE': 84,\n",
       " 'FDP': 74,\n",
       " 'BÜNDNIS\\xa090/DIE GRÜNEN': 16,\n",
       " 'fraktionslos': 9,\n",
       " 'Fraktionslos': 2}"
      ]
     },
     "execution_count": 21,
     "metadata": {},
     "output_type": "execute_result"
    }
   ],
   "source": [
    "len(speeches)\n",
    "partycounts = dict(Counter(parties).most_common())\n",
    "partycounts"
   ]
  },
  {
   "cell_type": "code",
   "execution_count": 22,
   "metadata": {},
   "outputs": [
    {
     "data": {
      "text/plain": [
       "{'date': '2019-03-20',\n",
       " 'discussion_title': 'Tagesordnungspunkt 2 2019-03-20',\n",
       " 'id': 'ID198804700',\n",
       " 'name': 'Andreas Scheuer',\n",
       " 'party': 'CDU/CSU',\n",
       " 'period': '19',\n",
       " 'text': 'Ich habe immer gesagt: Wir brauchen gute Mobilität und saubere Luft. Wir brauchen aber auch die Konzentration darauf, dass wir mit neuen Antriebstechnologien Ziele erreichen. Dazu zählen auch die alternativen Kraftstoffe. Ich habe andere Erkenntnisse von der Wissenschaft und von den Herstellern. Wir müssen dann Entscheidungen treffen, welche Infrastruktureinrichtungen, welche Anlagen wir in Deutschland errichten, um uns unabhängiger zu machen, auch was das Thema „alternative Kraftstoffe“ betrifft. Da sind wir gerade in der Diskussion. Zum zweiten Teil Ihrer Frage. Wir haben das Klimakabinett gerade erst gegründet. Wir haben aber letzte Woche vereinbart, dass die Experten dieser nationalen Plattform auch unserem Bereich zuarbeiten, dass wir jetzt erst die Diskussion beginnen, welche Ziele wir im Klimakabinett sektorübergreifend vereinbaren und mit welchen Maßnahmen wir sie erreichen wollen. Das wären dann die politischen Ableitungen aus einer Expertenarbeit, die jetzt gerade gemacht wird. Vielen Dank. – Liebe Kolleginnen und Kollegen, bevor ich die nächste Frage zulasse, gebe ich den Hinweis, dass es schon 40 Minuten um den Geschäftsbereich im engeren Sinne ging. Wenn also jetzt Fragen zu anderen Bereichen gestellt werden – das schließt nicht aus, dass man auch noch zum Geschäftsbereich fragen kann –, dann werde ich jedenfalls nicht intervenieren. Das Feld ist offen. Die nächste Frage stellt der Kollege Dr. Espendiller, AfD. '}"
      ]
     },
     "execution_count": 22,
     "metadata": {},
     "output_type": "execute_result"
    }
   ],
   "source": [
    "speeches[10]"
   ]
  },
  {
   "cell_type": "code",
   "execution_count": null,
   "metadata": {},
   "outputs": [],
   "source": []
  }
 ],
 "metadata": {
  "kernelspec": {
   "display_name": "Python 3",
   "language": "python",
   "name": "python3"
  },
  "language_info": {
   "codemirror_mode": {
    "name": "ipython",
    "version": 3
   },
   "file_extension": ".py",
   "mimetype": "text/x-python",
   "name": "python",
   "nbconvert_exporter": "python",
   "pygments_lexer": "ipython3",
   "version": "3.7.3"
  }
 },
 "nbformat": 4,
 "nbformat_minor": 4
}
