{
 "cells": [
  {
   "cell_type": "markdown",
   "source": [
    "# Laden"
   ],
   "metadata": {
    "collapsed": false
   }
  },
  {
   "cell_type": "code",
   "execution_count": 1,
   "metadata": {
    "collapsed": true,
    "ExecuteTime": {
     "end_time": "2023-09-25T12:20:15.463561Z",
     "start_time": "2023-09-25T12:19:07.055556Z"
    }
   },
   "outputs": [
    {
     "name": "stderr",
     "output_type": "stream",
     "text": [
      "[nltk_data] Downloading package punkt to /Users/seven/nltk_data...\n",
      "[nltk_data]   Package punkt is already up-to-date!\n"
     ]
    },
    {
     "name": "stdout",
     "output_type": "stream",
     "text": [
      "Die Liste enthält 10791 Reden\n",
      "\n",
      "\n"
     ]
    }
   ],
   "source": [
    "import jsonlines\n",
    "import nltk\n",
    "nltk.download('punkt')\n",
    "\n",
    "# Hier legen wir fest, welche Daten (Wahlperiode 19 oder 20) wir laden:\n",
    "legislatur = 20\n",
    "\n",
    "# Wir generieren eine leere Liste:\n",
    "alleReden = []\n",
    "\n",
    "# Wir öffnen den entsprechende File (Dateipfad anpassen!):\n",
    "with jsonlines.open(f'../../data/speeches_{legislatur}.jsonl') as f:\n",
    "    for line in f.iter():\n",
    "        # Wir packen alles Zeile für Zeile zu unserer Liste:\n",
    "        alleReden.append(line)\n",
    "\n",
    "# Wir sortieren nach Datum:\n",
    "alleReden.sort(key = lambda x:x['date'])\n",
    "\n",
    "# Wir lassen uns zeigen, wie viele Reden enthalten sind.\n",
    "print(f'Die Liste enthält {len(alleReden)} Reden')\n",
    "# Neue Zeile auf der Konsole:\n",
    "print(f'\\n')"
   ]
  },
  {
   "cell_type": "markdown",
   "source": [
    "# Satzidentifikation (sentences tokenization)"
   ],
   "metadata": {
    "collapsed": false
   }
  },
  {
   "cell_type": "code",
   "execution_count": 3,
   "outputs": [
    {
     "name": "stdout",
     "output_type": "stream",
     "text": [
      "Die Kommunen haben die sogenannten Beschleunigungsmittel gerne in die Hand genommen.\n"
     ]
    }
   ],
   "source": [
    "# Beispielrede\n",
    "eine_rede = alleReden[122]\n",
    "#print(eine_rede['text'])\n",
    "satz_liste = nltk.sent_tokenize(eine_rede['text'])\n",
    "print(satz_liste[14])\n",
    "\n"
   ],
   "metadata": {
    "collapsed": false,
    "ExecuteTime": {
     "end_time": "2023-09-25T12:20:58.491147Z",
     "start_time": "2023-09-25T12:20:58.479789Z"
    }
   }
  },
  {
   "cell_type": "markdown",
   "source": [
    "# Identifikation einzelner Worte (word tokenization)"
   ],
   "metadata": {
    "collapsed": false
   }
  },
  {
   "cell_type": "code",
   "execution_count": 3,
   "outputs": [
    {
     "name": "stdout",
     "output_type": "stream",
     "text": [
      "['Sie', 'haben', 'alles', 'in', 'Bewegung', 'gesetzt', ',', 'was', 'sie', 'tun', 'können', ',', 'haben', 'fertige', 'Planungen', 'rausgeholt', ',', 'haben', 'mit', 'den', 'Unternehmen', 'vor', 'Ort', 'gesprochen', 'und', 'haben', 'sich', 'gefragt', ':', '„', 'Können', 'wir', 'die', 'Mittel', 'in', 'dieser', 'knappen', 'Frist', '“', '–', 'die', 'wir', 'bewusst', 'gesetzt', 'haben', ',', 'weil', 'wir', 'damit', 'ja', 'die', 'Konjunktur', 'ankurbeln', 'wollten', '–', '„', 'noch', 'dieses', 'Jahr', 'ausgeben', '?', '“', 'Viele', 'haben', 'ihre', 'Vorhaben', 'im', 'Vertrauen', 'darauf', 'im', 'Frühjahr', 'auf', 'den', 'Weg', 'gebracht', ',', 'haben', 'Ausschreibungen', 'gemacht', '.']\n"
     ]
    }
   ],
   "source": [
    "beispiel_satz = satz_liste[15]\n",
    "worte = nltk.word_tokenize(beispiel_satz)\n",
    "print(worte)"
   ],
   "metadata": {
    "collapsed": false,
    "ExecuteTime": {
     "end_time": "2023-06-15T10:17:50.260316Z",
     "start_time": "2023-06-15T10:17:50.220573Z"
    }
   }
  },
  {
   "cell_type": "markdown",
   "source": [
    "# Stemming"
   ],
   "metadata": {
    "collapsed": false
   }
  },
  {
   "cell_type": "code",
   "execution_count": 4,
   "outputs": [
    {
     "name": "stdout",
     "output_type": "stream",
     "text": [
      "['sie', 'haben', 'all', 'in', 'bewegung', 'gesetzt', ',', 'wa', 'sie', 'tun', 'können', ',', 'haben', 'fertig', 'planungen', 'rausgeholt', ',', 'haben', 'mit', 'den', 'unternehmen', 'vor', 'ort', 'gesprochen', 'und', 'haben', 'sich', 'gefragt', ':', '„', 'können', 'wir', 'die', 'mittel', 'in', 'dieser', 'knappen', 'frist', '“', '–', 'die', 'wir', 'bewusst', 'gesetzt', 'haben', ',', 'weil', 'wir', 'damit', 'ja', 'die', 'konjunktur', 'ankurbeln', 'wollten', '–', '„', 'noch', 'dies', 'jahr', 'ausgeben', '?', '“', 'viel', 'haben', 'ihr', 'vorhaben', 'im', 'vertrauen', 'darauf', 'im', 'frühjahr', 'auf', 'den', 'weg', 'gebracht', ',', 'haben', 'ausschreibungen', 'gemacht', '.']\n"
     ]
    }
   ],
   "source": [
    "# Initialisieren des Stemmers\n",
    "stemmer = nltk.stem.PorterStemmer()\n",
    "# Anwenden von Stemming auf jedes Wort in der Liste\n",
    "stemmed_words = [stemmer.stem(word) for word in worte]\n",
    "print(stemmed_words)\n"
   ],
   "metadata": {
    "collapsed": false,
    "ExecuteTime": {
     "end_time": "2023-06-15T10:17:50.260866Z",
     "start_time": "2023-06-15T10:17:50.228279Z"
    }
   }
  },
  {
   "cell_type": "markdown",
   "source": [
    "# Aufgaben:\n",
    "\n",
    "- Probiere andere Methoden zur Identifikation des Wortstammes.\n",
    "\n"
   ],
   "metadata": {
    "collapsed": false
   }
  }
 ],
 "metadata": {
  "kernelspec": {
   "display_name": "Python 3",
   "language": "python",
   "name": "python3"
  },
  "language_info": {
   "codemirror_mode": {
    "name": "ipython",
    "version": 2
   },
   "file_extension": ".py",
   "mimetype": "text/x-python",
   "name": "python",
   "nbconvert_exporter": "python",
   "pygments_lexer": "ipython2",
   "version": "2.7.6"
  }
 },
 "nbformat": 4,
 "nbformat_minor": 0
}
