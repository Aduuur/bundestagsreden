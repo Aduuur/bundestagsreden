{
 "cells": [
  {
   "cell_type": "markdown",
   "metadata": {},
   "source": [
    "# Was man mit relativ wenig schon machen kann: Semantische Beziehungen in den Bundestagsdebatten.\n",
    "\n",
    "In diesem Beispiel für unsere erste Sitzung möchte ich die prinzipielle Idee vorstellen, wie man mit ein wenig Wissen, mit wenig Progarmmierkenntnissen schon einiges machen kann. Technische Hürden abzubauen war ein wesentliches Bestreben in unserem EU-Projekt namens Odycceus (www.odycceus.eu) und der dort entwickelten software platform Penelope (https://penelope.digitalmethods.net/). Viele weitere Projekte (A) tragen zu einer sich entwickelnden, verteilten Softwareölologie bei, die es erlaubt, verschiedene technische Komponenten zu komplexeren Observatorien und Analyseinstrumenten zu verbinden.\n",
    "\n",
    "## Jupyter Notebook\n",
    "\n",
    "Dies ist ein Jupyter Notebook. Es erlaubt einzelne, in Python geschriebene Programmteile als Skripte auszuführen und ist damit für die Entwicklung von Algorithmen und Exploration von Daten sehr gut geeignet.\n",
    "\n",
    "## Wir fangen einfach an!\n",
    "\n",
    "In Python fangen wir eigentlich immer damit an uns aus dem Pool der verfügbaren Dinge zu bedienen. Wir importieren also Bibliotheken (libraries), die wir brauchen werden. \"requests\" brauchen wir um Komponenten über das Web aus Penelope aufzurufen. \"json\" ist ein sehr verbreitetes Datenformat, welches sich in der Regel sehr gut mit den Datenstrukturen in Python verträgt.\n"
   ]
  },
  {
   "cell_type": "code",
   "execution_count": 1,
   "metadata": {},
   "outputs": [],
   "source": [
    "\n",
    "import requests\n",
    "import json\n"
   ]
  },
  {
   "cell_type": "markdown",
   "metadata": {},
   "source": [
    "## Bundestagsreden laden\n",
    "\n",
    "Zunächst einmal wollen wir die Bundestagsdaten in unser Notebook laden. Dazu nutzen wir die Parliament Dataset API aus Penelope (https://penelope.digitalmethods.net/). Dazu schreiben wir ein Funktion (laden), die die API aufruft und uns dann das Resultat in eine Liste packt und zurückgibt. Wir rufen sie nach der Definition mit alleReden = laden() gleich auf.\n",
    "\n",
    "Das dauert eine ganze Weile, weil wir die gesamten Daten erst einmal einlesen. "
   ]
  },
  {
   "cell_type": "code",
   "execution_count": 2,
   "metadata": {},
   "outputs": [
    {
     "name": "stdout",
     "output_type": "stream",
     "text": [
      "The history saving thread hit an unexpected error (OperationalError('database is locked')).History will not be written to the database.\n"
     ]
    }
   ],
   "source": [
    "# Funktion zum Laden aller Reden\n",
    "def laden():\n",
    "    # Aufruf der Parliament Dataset API aus Penelope\n",
    "    result = requests.get('https://penelope.vub.be/parliament-data/get-speeches/deu/2016-01-01/2021-01-01/%20/1000000000000')\n",
    "    # Hier packen wir alles in eine Liste ...\n",
    "    all_speeches = []\n",
    "    for speech in result.json()[\"speeches\"]:\n",
    "        all_speeches.append(speech)\n",
    "    # ... die wir hier bezüglich des Datums sortieren. \n",
    "    all_speeches.sort(key = lambda x:x['date'])\n",
    "\n",
    "    return all_speeches\n",
    "\n",
    "# Hier wird die Funktion aufgerufen.\n",
    "alleReden = laden()"
   ]
  },
  {
   "cell_type": "code",
   "execution_count": 3,
   "metadata": {},
   "outputs": [
    {
     "data": {
      "text/plain": [
       "17577"
      ]
     },
     "execution_count": 3,
     "metadata": {},
     "output_type": "execute_result"
    }
   ],
   "source": [
    "len(alleReden)"
   ]
  },
  {
   "cell_type": "code",
   "execution_count": null,
   "metadata": {},
   "outputs": [],
   "source": []
  },
  {
   "cell_type": "code",
   "execution_count": null,
   "metadata": {},
   "outputs": [],
   "source": []
  },
  {
   "cell_type": "code",
   "execution_count": 9,
   "metadata": {},
   "outputs": [
    {
     "data": {
      "text/plain": [
       "30"
      ]
     },
     "execution_count": 9,
     "metadata": {},
     "output_type": "execute_result"
    }
   ],
   "source": [
    "untermenge = alleReden[0:30]\n",
    "len(untermenge)"
   ]
  },
  {
   "cell_type": "code",
   "execution_count": 10,
   "metadata": {},
   "outputs": [
    {
     "data": {
      "text/plain": [
       "[{'date': '2017-10-24',\n",
       "  'discussion_title': 'Tagesordnungspunkt 4 2017-10-24',\n",
       "  'id': 'ID19101300',\n",
       "  'name': 'Dr. Wolfgang Schäuble',\n",
       "  'party': 'CDU/CSU',\n",
       "  'period': '19',\n",
       "  'text': 'Herr Bundespräsident! Verehrte Kolleginnen und Kollegen! – Muss ich selber drücken? Aller Anfang ist schwer; also fangen wir noch einmal von vorne an. Herr Bundespräsident! Liebe Kolleginnen und Kollegen! Meine sehr verehrten Damen und Herren! Ich habe zunächst zu danken. Ich danke Ihnen für das Vertrauen, das Sie mir mit der Wahl zum Bundestagspräsidenten entgegenbringen. Ich danke Hermann Otto Solms. Mit seiner langen parlamentarischen Erfahrung hat er die von mir übernommene Aufgabe, diesen 19. Deutschen Bundestag als dienstältester Abgeordneter zu eröffnen, mit großer Umsicht wahrgenommen. Und er hat die Herausforderungen für unser Parlament klar umrissen. Ich möchte den vielen ausgeschiedenen Kolleginnen und Kollegen danken. Sie schauen zum Teil auf jahrzehntelanges parlamentarisches Wirken zurück. Ich nenne stellvertretend Heinz Riesenhuber. Er war gleich zweimal Alterspräsident, bei den konstituierenden Sitzungen der beiden zurückliegenden Legislaturperioden. Ich danke aus dem Präsidium des 18. Deutschen Bundestages den ausgeschiedenen Vizepräsidenten Edelgard Bulmahn und Johannes Singhammer. Ich danke natürlich auch den beiden Vizepräsidentinnen, die dem nächsten Präsidium vermutlich nicht angehören werden. Damit nehme ich jetzt die Wahl vorweg; das ist ein bisschen schwierig. Vor allen Dingen aber, meine sehr verehrten Damen und Herren, möchte ich Norbert Lammert danken. Er war zwölf Jahre ein großartiger Bundestagspräsident. Lieber Herr Lammert, Sie hatten eine ganz besondere Begabung als Redner, und Sie hatten immer klare Vorstellungen davon, was dieses Parlament leisten soll und was es leisten kann, wenn es denn will. Liebe Kolleginnen und Kollegen, ich freue mich auf die neue Aufgabe. Im Parlament schlägt das Herz unserer Demokratie. Ich freue mich auf die Zusammenarbeit mit Ihnen, liebe Kolleginnen und Kollegen, wie mit allen Mitarbeiterinnen und Mitarbeitern, die diesem Haus dienen. Ich bin Parlamentarier aus Leidenschaft. Ich habe meine Abgeordnetentätigkeit immer als hohe Verantwortung und das Mandat als meine demokratische Legitimation verstanden. Ich habe im Übrigen im Deutschen Bundestag beides erlebt: Abgeordneter zu sein in der Opposition wie in einer Regierungsfraktion. Zunächst war ich zehn Jahre in der Opposition. Als ich 1972 zum ersten Mal als Abgeordneter im Deutschen Bundestag saß, wurde um die Ostverträge gestritten – mit leidenschaftlichen Debatten, damals in Bonn. Die Stimmung war aufgeladen. Überhaupt prägte seinerzeit eine extrem spannungsvolle Atmosphäre dieses Land. Die Gesellschaft der Bundesrepublik hatte sich seit Mitte der 60er-Jahre in einem bis dahin nicht gekannten Maße politisiert, mobilisiert und polarisiert. Geschadet hat es nicht, genauso wenig wie die Erregung Anfang der 80er-Jahre. Da war ich Abgeordneter in der großen Regierungsfraktion, als es etwa um den NATO-Doppelbeschluss ging. Sieben Jahre später fiel dann die Mauer. Veränderung war also immer, und vieles wird im Übrigen in der Rückschau anders bewertet als mitten im Streit. Auch deshalb, also weil ich aus eigenem Erleben weiß, dass Erregung und Krisengefühle so neu nicht wirklich sind, sehe ich mit Gelassenheit den Auseinandersetzungen entgegen, die wir in den kommenden Jahren führen werden und die wir im Parlament zu führen haben, stellvertretend für die Gesellschaft, aus der heraus wir gewählt sind. Denn diese Gesellschaft müssen wir nicht nur in ihrem Grundkonsens, sondern auch in ihrer Vielheit und Verschiedenheit repräsentieren. Wir dürfen das eine nicht gegen das andere ausspielen. In einem demokratischen Gemeinwesen ist kein Thema es wert, über den Streit das Gemeinsame in Vergessenheit geraten zu lassen. 289 Abgeordnete ziehen heute erstmals ins Parlament ein – das sind gut 40 Prozent aller Mitglieder dieses Hauses. Selten unterschied sich ein Bundestag so sehr von seinem Vorgänger wie dieser. Sieben Parteien und sechs Fraktionen – so viele gab es seit 60 Jahren nicht mehr. Diese neue Konstellation hier im Haus spiegelt die Veränderungen wider, die unsere Gesellschaft erlebt: Verunsicherungen wachsen angesichts des raschen Wandels durch Globalisierung und Digitalisierung. Zusammenhänge lösen sich auf, Zugehörigkeiten brechen auf und neue entstehen. Alte Gewissheiten und Identitäten werden infrage gestellt, und neue, vermeintliche Gewissheiten werden in Stellung gebracht gegen zunehmende Sorgen und Zweifel. Das menschliche Bedürfnis nach Geborgenheit in vertrauten Lebensräumen trifft auf eine zunehmend als ungemütlich empfundene Welt voller Konflikte, Krisen, Kriege und medial präsentem Schrecken. Vor diesem Hintergrund verschärft sich die Tonlage der gesellschaftlichen Debatten. All das können wir übrigens vielerorts in Europa beobachten. Mit dem ungeheuer schnellen gesellschaftlichen Wandel, den wir erleben, geht eine Fragmentierung unserer Debatten und Aufmerksamkeiten einher. Das stellt die politische Ordnung, die demokratischen Institutionen und Verfahren vor große Herausforderungen. Jedem erscheint etwas anderes wichtig. Jeder scheint gelegentlich nur noch seine eigenen Probleme wahrzunehmen. Es gibt nicht mehr das eine Thema. Das Überhandnehmen von Möglichkeiten und Optionen kann auch überfordern. Über dieses „Unbehagen im Kapitalismus“ hat Uwe Jean Heuser schon 2000 geschrieben. Wie alles ist auch Freiheit durch Übermaß gefährdet. Deswegen müssen wir immer wieder die richtige Balance auch im Umgang mit Freiheit lernen. Hinzu kommt der Wandel der Medien und ihrer Nutzung durch die Veränderungen in der Informationstechnologie. Die Zersplitterung in viele Teilöffentlichkeiten führt dazu, dass uns eine erkennbar gemeinsame Sicht auf politische Prioritäten verloren geht. Da kann dieses Parlament ein Ort der Bündelung, der Fokussierung, der Konzentration auf die wichtigen Fragen unserer gesellschaftlichen Zukunft in Deutschland wie in Europa sein. Wir Abgeordnete, liebe Kolleginnen und Kollegen, sind für die Mitbürger im Wahlkreis manchmal fast eine Art Ombudsmann. Mit unserer Arbeit und unseren Begegnungen vor Ort vermitteln wir diese Wirklichkeit auf die Ebene der Bundespolitik. Unsere Vielzahl an Erfahrungen und Qualifikationen aus beruflicher, sozialer, ehrenamtlicher Tätigkeit bildet eine ganze Menge Expertise. Vielleicht wissen und fühlen wir Abgeordnete durch unsere Verwurzelung bei den Menschen manchmal besser als die Forschungsinstitute, was die Menschen wirklich bewegt. Zugleich sind wir alle, wie Artikel 38 unseres Grundgesetzes sagt, Abgeordnete des ganzen Volkes. Dazu müssen wir diese Vielzahl von Interessen, Meinungen, Befindlichkeiten mit den Begrenztheiten und der Endlichkeit der Realität zusammenbringen, und das zwingt zu Kompromissen und zu Entscheidungen durch Mehrheit. Je besser das gelingt, umso weniger fühlen sich Menschen in der demokratischen Wirklichkeit zurückgelassen. Immanuel Kant, dem wir viele Gedanken von Rechtsstaat und Republik verdanken, hat gesagt – ich drücke es halb mit meinen Worten aus –: Handle stets so, dass das Prinzip Deiner Handlung immer auch das Prinzip der Handlungen aller anderen sein könnte, dass es immer auch allgemeines Gesetz sein könnte. – Also: Handle so, dass menschliches Miteinander nicht zusammenbräche, wenn alle so handelten wie Du selbst. Das, verehrte Kolleginnen und Kollegen, gilt gerade auch für Parlamentsabgeordnete, und das ist eine gute Maxime für unser repräsentatives System. Auch die Vertretung partikularer Interessen darf, wie alles, nicht exzessiv werden. Andere Demokratien in der Welt sind da übrigens schon weit auf die abschüssige Bahn geraten. Was aber sehr wohl sein darf und sein muss, ist, dass der parlamentarische Prozess hier im Hause sichtbar macht, wie schwierig sowohl die Durchsetzung als auch der Ausgleich von Interessen in einer liberalen Demokratie sind. Da darf Streit nicht nur sein; das geht nur über Streit. Den müssen wir führen, und den müssen wir aushalten, ertragen. Demokratischer Streit ist notwendig, aber es ist ein Streit nach Regeln, und es ist mit der Bereitschaft verbunden, die demokratischen Verfahren zu achten und die dann und so zustandegekommenen Mehrheitsentscheidungen nicht als illegitim oder verräterisch oder sonst wie zu denunzieren, sondern die Beschlüsse der Mehrheit zu akzeptieren. Das ist parlamentarische Kultur. Und da kommt es dann auch auf den Stil an, in dem wir uns hier streiten und in dem wir füreinander Respekt signalisieren können. Es gab in den vergangenen Monaten in unserem Land Töne der Verächtlichmachung und Erniedrigung. Ich finde, das hat keinen Platz in einem zivilisierten Miteinander. Die überwältigende Mehrheit der Bürgerinnen und Bürger in diesem Land will ein zivilisiertes Miteinander. In aufgewühlten Zeiten wie unseren wächst das Bedürfnis nach Formen des Verhaltens, über die man lange nicht mehr geredet hat, weil man sie als selbstverständlich ansah. Es wird wieder über Anstand gesprochen – sogar Bücher werden darüber geschrieben und kommen auf die Bestsellerlisten –, und es wird auch über die Frage gesprochen, wie wir in der Gesellschaft miteinander umgehen sollen: Respekt füreinander haben, nicht jeden persönlichen Spielraum maximal ausnutzen, ein offenes Ohr haben für die Argumente des anderen, ihn anerkennen mit seiner anderen Meinung. Es geht um Fairness. Hundertprozentige Gerechtigkeit gibt es nicht, aber Fairness ist möglich in dem Sinne, dass sich möglichst alle angesprochen fühlen und nicht ausgeschlossen bleiben. Die Art, wie wir hier miteinander reden, kann vorbildlich sein für die gesellschaftliche Debatte. Prügeln sollten wir uns hier nicht, wie es ja zum Teil auch in Europa in anderen Parlamenten bisweilen geschieht. Wir sollten das übrigens auch nicht verbal tun. Wir können vielmehr zeigen, dass man sich streiten kann, ohne dass es unanständig wird. Dazu müssen wir zeigen, dass auch ein Bundestag mit sechs Fraktionen schafft, wozu er da ist: Entscheidungen herbeizuführen, die als legitim empfunden werden. Das Parlament besteht aus Abgeordneten, und diese Abgeordneten sind nicht „abgehoben“, wie so gern oberflächlich dahingeredet wird. Wir sind aus der Mitte der Bürgerinnen und Bürger gewählt. Aber niemand vertritt alleine das Volk. So etwas wie Volkswille entsteht überhaupt erst in und mit unseren parlamentarischen Entscheidungen. Deswegen haben wir die Pflicht, diesen Ort wertzuhalten, als Ort des nachvollziehbaren sachlichen wie auch emotionalen Streits – ja, auch Gefühle gehören dazu –, stellvertretend für die Mitbürgerinnen und Mitbürger die Dinge, die alle angehen, argumentativ gegeneinander oder miteinander auszumachen und dann mit Mehrheit zu entscheiden. Wir müssen das Vertrauen in das repräsentative Prinzip wieder stärken. Das ist übrigens keine nur nationale Frage. Die europäischen oder westlichen Werte, die Grundlage unserer verfassungsmäßigen Ordnung sind, wirken vielerorts fragil und erfreuen sich doch zugleich weltweit großer Attraktivität. Freiheit, Rechtsstaatlichkeit, sozialer Zusammenhalt, ökologische Nachhaltigkeit: Ohne Parlamentarismus geht all das nicht. Nach ernsthaftem Streit der Meinungen stellvertretend für alle Bürgerinnen und Bürger Entscheidungen zu treffen: Die befriedende Wirkung, die das hat, wenn es gelingt, brauchen wir überall in der Welt – in einer Welt, wo ja überall immer mehr Menschen nicht nur Anspruch auf wirtschaftliche Teilhabe, sondern auch auf politische Mitsprache erheben. In Zeiten zunehmender Globalisierung heißt das auch, die Kompliziertheit unserer Welt auszuhalten. Aber wir haben zugleich auch die Chance, der Welt, die sich uns nähert, zu zeigen, dass der Parlamentarismus etwas taugt, dass er funktioniert und dass er zu Lösungen für die Probleme und Herausforderungen fähig ist. Norbert Lammert hat immer sehr elegant die Tage, an denen er sprach, danach befragt, was an ihnen in vergangenen Jahren und Jahrhunderten geschah und an was uns das erinnern sollte. Ich will das heute noch einmal im Sinne einer kleinen Hommage tun. Um es chronologisch rückwärts zu machen: Dieser 24. Oktober ist der Tag der Vereinten Nationen. 1945 trat am 24. Oktober die Charta der Vereinten Nationen in Kraft. Am 24. Oktober 1929 endete am Schwarzen Donnerstag die jahrelange Hausse der New Yorker Börse, und es begann die Weltwirtschaftskrise mit all ihren Folgen. Und am 24. Oktober 1648 wurde der Westfälische Frieden zur Beendigung des Dreißigjährigen Krieges unterzeichnet, eines Krieges, an dessen Beginn wir uns kommendes Jahr erinnern. Herfried Münkler hat ihm gerade ein Opus Magnum gewidmet, in dem er zeigt, dass dieser bis heute längste Krieg auf deutschem Boden – zugleich übrigens der erste im vollen Sinne europäische Krieg – uns besser als alle späteren Konflikte die Kriege unserer Gegenwart verstehen lässt. Wer es nicht glaubt, der lese noch einmal im „Simplicissimus“ von Grimmelshausen nach. Er ist übrigens in meinem Wahlkreis geschrieben worden. All das, liebe Kolleginnen und Kollegen, erinnert uns an den Charakter der Aufgaben, die vor uns liegen. Es erinnert uns daran, dass wir die Entscheidungen, die wir hier treffen, in weltpolitische Zusammenhänge einzubetten haben. Europa und die Globalisierung: Das ist heute der Rahmen für das, was wir hier debattieren und entscheiden. Das hat nichts mit einem Aufgeben nationaler Selbstbestimmung zu tun, schon gar nichts mit einem Aufgeben des Anspruchs, dass dies hier der Ort ist, an dem immer wieder neu die Souveränität des deutschen Volkes greifbar und wirklich wird. Vielmehr beschreibt es die Aufgabe, der wir gerecht werden müssen, den Weg einer selbstbewussten Einordnung in immer weitere Zusammenhänge zu finden, mit dem Ziel, dazu beizutragen, in dieser Welt unsere Zukunft gestalten zu können. Dass wir uns in solcher Öffnung zur Welt und Einordnung noch selbst erkennen, dass wir bleiben, was wir irgendwie fühlen, das wir sind – im Guten, wie zum Beispiel unserer parlamentarischen Ordnung, wie im Schlechten, das wir als nationale Schicksalsgemeinschaft nicht werden abstreifen können und aus dem wir doch immer wieder neues Gutes zu entwickeln uns bemühen –, dass wir all das bleiben, ohne uns abzuschotten oder uns bequem rauszuhalten, darum, liebe Kolleginnen und Kollegen, geht es. In der Präambel unseres Grundgesetzes von 1949, die wir 1990 im wiedervereinten Deutschland fortgeschrieben haben, heißt es: Dies hier, liebe Kolleginnen und Kollegen, ist der Ort, an dem wir diesem Willen Gestalt geben. Dafür hat uns eine wieder gewachsene Zahl von Bürgerinnen und Bürgern gewählt. Der Trend zur höheren Wahlbeteiligung bei den letzten Landtagswahlen hat sich auch im Bund fortgesetzt. Ich denke, das zeigt, dass Erwartungen gestiegen sind. Wenn wir diese Erwartungen einigermaßen erfüllen, können wir unserem Land einen großen Dienst erweisen. Steigende Erwartungen sind also eine Chance, auch wenn es zur Wahrheit gehört, dass in dieser Welt immer neuer Akteure und immer dichterer Verflechtungen die Realität komplizierter wird und unsere Handlungsspielräume nicht immer nur wachsen. Zwischen beidem müssen wir als Parlament unseren Weg finden. Ich freue mich auf unsere Arbeit hier in den kommenden vier Jahren. Herzlichen Dank. '},\n",
       " {'date': '2017-10-24',\n",
       "  'discussion_title': 'Tagesordnungspunkt 1 2017-10-24',\n",
       "  'id': 'ID19100100',\n",
       "  'name': 'Alterspräsident Dr. Hermann Otto Solms',\n",
       "  'party': 'FDP',\n",
       "  'period': '19',\n",
       "  'text': 'Guten Morgen, liebe Kolleginnen und Kollegen! Nehmen Sie bitte Platz. Meine sehr verehrten Damen und Herren! Liebe Kolleginnen und Kollegen! Ich begrüße Sie zur konstituierenden Sitzung des 19. Deutschen Bundestages. Es entspricht der ständigen Übung, zu Beginn der konstituierenden Sitzung nach den Regelungen der bisherigen Geschäftsordnung des Deutschen Bundestages zu verfahren. § 1 Absatz 2 der Geschäftsordnung des Deutschen Bundestages sieht vor, dass das am längsten dem Bundestag angehörende Mitglied, das hierzu bereit ist, den Vorsitz übernimmt, bis der Deutsche Bundestag einen Präsidenten gewählt hat. Die Fraktion der AfD widerspricht diesem Verfahren und hat auf Drucksache 19/2 beantragt, einen Versammlungsleiter zu wählen, der die konstituierende Sitzung eröffnen soll. Über diesen Antrag lasse ich sofort abstimmen. Wer dem Antrag der Fraktion der AfD zustimmt, den bitte ich um sein Handzeichen. – Gegenstimmen? – Enthaltungen? – Der Antrag ist damit mit den Stimmen aller Fraktionen bei Zustimmung der AfD-Fraktion abgelehnt. Wir verfahren nunmehr entsprechend § 1 Absatz 2 der bisherigen Geschäftsordnung. Herr Dr. Wolfgang Schäuble ist das Mitglied, das dem Deutschen Bundestag am längsten angehört. Er hat jedoch auf das Amt des Alterspräsidenten verzichtet. Damit rückt das am zweitlängsten dem Bundestag angehörende Mitglied nach. Ich war von 1980 bis 2013, also 33 Jahre, Mitglied des Deutschen Bundestages. Ist jemand unter Ihnen, der dem Bundestag länger angehört? – Das scheint offenkundig nicht der Fall zu sein. Dann trifft es also tatsächlich zu, dass die Rolle des Alterspräsidenten auf mich zukommt. Es ist mir eine Ehre und Freude zugleich, den Vorsitz bis zur Amtsübernahme durch den neugewählten Präsidenten des Deutschen Bundestages zu übernehmen. '},\n",
       " {'date': '2017-10-24',\n",
       "  'discussion_title': 'Tagesordnungspunkt 2 2017-10-24',\n",
       "  'id': 'ID19100300',\n",
       "  'name': 'Carsten Schneider',\n",
       "  'party': 'SPD',\n",
       "  'period': '19',\n",
       "  'text': 'Sehr geehrter Herr Präsident! Sehr geehrte Kolleginnen und Kollegen! Mit der heutigen Konstituierung nimmt der Deutsche Bundestag zum 19. Mal seine Arbeit auf. Er ist die wichtigste Institution im Parlamentarismus in Deutschland, und er ist zugleich die Herzkammer unserer Demokratie; denn nur wir Abgeordneten sind vom Volk gewählt und damit unmittelbar legitimiert. In diesem Haus debattieren wir über die besten politischen Lösungen, streiten um die besten Argumente und ringen um Mehrheiten. Alle vier Jahre tun wir das in Wahlkämpfen, dazwischen aber hier. Debatten im Bundestag sind daher das Thermometer für die Lebendigkeit unserer Demokratie. Nur dann, wenn sich die Bürgerinnen und Bürger in unseren Debatten wiederfinden, identifizieren sie sich auch mit unserem Parlament. Wenn aber am Küchentisch zu Hause oder am Stammtisch heftige politische Diskussionen stattfinden, die sich im Bundestag so nicht wiederfinden, dann verlieren wir als Abgeordnete unseren Rückhalt in der Bevölkerung. Selbstkritisch füge ich hinzu: Das war durchaus in den letzten Jahren der Fall und muss sich dringend ändern. Der Bundestag muss wieder zur zentralen Bühne der politischen Auseinandersetzung werden – und nicht Talkshows im Fernsehen oder Einzelinterviews von Journalisten, Frau Bundeskanzlerin. Ihr Politikstil, Frau Merkel, ist ein Grund dafür, dass wir heute eine rechtspopulistische Partei hier im Bundestag haben. Sie haben in diesem Wahlkampf jeden politischen Streit um die besseren Ideen und Konzepte, jede Debatte um die besten Argumente verweigert. Diese Vernebelungsstrategie mag in den vergangenen beiden Wahlkämpfen funktioniert haben. Diesmal führte sie aber dazu, dass die politischen Ränder stärker wurden denn je. Deshalb, liebe Kolleginnen und Kollegen, muss der Bundestag wieder lebendiger werden. Er braucht keine Regierung, um zu arbeiten – im Gegenteil: wir halten uns eine Regierung –, aber er braucht Regeln, die wir uns hier mit der gleich zu beschließenden Geschäftsordnung selbst geben werden. Diese Regeln müssen dem Anspruch des Parlaments, die Herzkammer der Demokratie zu sein, gerecht werden und diesen auch abbilden. Dass diese Regeln reformbedürftig sind, ist nicht neu. Daran haben wir bereits in der vergangenen Legislaturperiode gearbeitet und waren uns auch in vielen Punkten einig. Gleichwohl hat Ihre Fraktion, Frau Bundeskanzlerin, die Union – wenn man denn noch von einer Union sprechen kann –, am Ende eine Einigung blockiert. Doch wir wollen heute nach vorne schauen. Deshalb beantragen wir, dass die Frau Bundeskanzlerin, so sie denn im Bundestag gewählt wird, sich viermal im Jahr einer direkten Befragung im Parlament stellt. Viermal im Jahr ist nicht zu viel. Und – eigentlich eine Selbstverständlichkeit –: Wir wollen selbst festlegen, wozu wir die Regierung in der Regierungsbefragung befragen. Meine Damen und Herren, dagegen kann doch niemand sein. Ohne die Blockade der Union in der letzten Legislatur hätten wir diese Meilensteine schon längst beschlossen. Ich gebe zu: Wir waren an einen Koalitionsvertrag gebunden. Deswegen, weil die Union das verhindert hat, haben wir das nicht beschließen können. – Selbstkritik gehört dazu. Wir haben jetzt allerdings keinen Koalitionsvertrag. Oder haben wir den schon, meine Damen und Herren? Wir geben uns heute hier eine Geschäftsordnung, in freier Entscheidung, und Sie haben die Möglichkeit, heute frei darüber zu entscheiden. Springen Sie auch! Machen wir heute einen Neustart, und geben wir uns Regeln, die das Parlament stärken! Der Bundestag hat mehr Kompetenzen als die meisten anderen Parlamente in Europa. Deswegen schauen auch viele in Europa auf uns. Bei unseren Kompetenzen sind wir Vorbild. Bei der Art und Weise, wie wir hier debattieren, müssen wir noch besser werden. Vielen Dank. Das Wort hat jetzt der Kollege Dr. Bernd Baumann von der AfD-Fraktion. '},\n",
       " {'date': '2017-10-24',\n",
       "  'discussion_title': 'Tagesordnungspunkt 2 2017-10-24',\n",
       "  'id': 'ID19100400',\n",
       "  'name': 'Bernd Baumann',\n",
       "  'party': 'AfD',\n",
       "  'period': '19',\n",
       "  'text': 'Herr Präsident! Meine Damen und Herren! Immer deutlicher zeigte sich im Verlauf dieses Jahres, dass die AfD in den Bundestag einziehen würde und dass sie auch den Alterspräsidenten stellen würde, weil sie neben vielen jungen Abgeordneten eben auch den ältesten Abgeordneten mit an Bord hatte. Als dies deutlich wurde, änderten Sie hier im alten Bundestag ganz schnell die Geschäftsordnung – knapp vor der Wahl, zwei Wochen vor Ende Sitzungsperiode. Meine Damen und Herren, das war ein so durchsichtiges Manöver; das lassen wir Ihnen hier nicht durchgehen! Eine List, mit der Sie die AfD ausgrenzen wollten! Das kann so nicht weitergehen! Die AfD hatte gerade den 13. Wahlsieg in Folge erzielt – eine Triumphserie bei Landtagswahlen, die so zuvor keine Partei nach ihrer Gründung erzielt hatte. Der alte Bundestag aber änderte die Geschäftsordnung plötzlich so, dass nicht mehr der älteste Abgeordnete, sondern der mit der längsten Dienstzeit die erste Sitzung als Alterspräsident eröffnen sollte. Und das würde dann nicht mehr ein AfD-Abgeordneter sein. Sie begründeten dies damit, dass nur der dienstälteste Abgeordnete eine korrekte Sitzungsleitung sicherstellen könne. Das war das Argument. Aber, meine Damen und Herren, seit 1848 ist in Deutschland Tradition, dass die konstituierende Sitzung natürlich vom ältesten Mitglied der Versammlung eröffnet wird. Das war eine Tradition von der Frankfurter Paulskirche bis Gustav Stresemann, von Adenauer über Brandt bis Kohl, ja bis zu der ersten Regierung Merkel. Alle Reichstage, alle Bundestage konnten dem Argument „Dienstalter“ nichts abgewinnen. Das ist ja auch klar. In 150 Jahren Parlamentsgeschichte blieb die Regel des Alterspräsidenten unangetastet. Unangetastet? Es gab eine Ausnahme: 1933 hat Hermann Göring die Regel gebrochen, weil er politische Gegner ausgrenzen wollte, damals Clara Zetkin. Wollen Sie sich auf solch schiefe Bahn begeben? Kommen Sie zurück auf die Linie der großen deutschen Demokraten! Dazu fordere ich Sie hier auf. Denn stets eröffnete der Parlamentarier, der aufgrund von Lebenserfahrung und Altersweisheit Versammlungen besonders umsichtig eröffnen konnte. Das waren die Idee und die Tradition über 150 Jahre. Denn zur bloßen Eröffnung ist ja kein geballtes Geschäftsordnungswissen vonnöten. Es wird sofort ein Versammlungspräsident gewählt, der versiert in der Sache ist. Auch deshalb ist Ihr Argument, der Dienstälteste müsse aus fachlichen Gründen eröffnen, schlichtweg unsinnig, meine Damen und Herren. Selbst die Presse, die uns ja nicht durchgängig gewogen ist, warnte, dass dieses Manöver gegen die AfD durchsichtig sei, und sprach von Lex AfD. Der „Tagesspiegel“ sprach von „Trickserei“. „Focus“ resümierte: Recht hat er, meine Damen und Herren! Wie groß, frage ich Sie, muss die Angst vor der AfD und ihren Wählern sein, wenn Sie zu solchen Mitteln greifen? Deswegen fordere ich Sie auf: Kehren Sie um! Vertrauen Sie wie wir den bewährten Traditionen des deutschen Parlamentarismus! Stimmen Sie unserem Antrag zu! Meine Damen und Herren, nehmen Sie zur Kenntnis: Der alte Bundestag, in dem Sie alles untereinander regeln und die Konkurrenz wegdrücken konnten wie hier bei der Frage des Alterspräsidenten, wurde abgewählt. Das Volk hat entschieden. Nun beginnt eine neue Epoche. Von dieser Stunde an werden hier Themen neu verhandelt, nicht nur Ihre Manöver und Tricks bei der Geschäftsordnung, sondern künftig auch Euro, gigantische Schuldenübernahmen, riesige Einwanderungszahlen, offene Grenzen und immer brutalere Kriminalität auf unseren Straßen, meine Damen und Herren. Das Wort hat jetzt der Kollege Jan Korte von der Fraktion Die Linke. '},\n",
       " {'date': '2017-10-24',\n",
       "  'discussion_title': 'Tagesordnungspunkt 2 2017-10-24',\n",
       "  'id': 'ID19100500',\n",
       "  'name': 'Jan Korte',\n",
       "  'party': 'DIE LINKE',\n",
       "  'period': '19',\n",
       "  'text': 'Herr Präsident! Liebe Kolleginnen und Kollegen! Sehr geehrte Damen und Herren! Bei aller Kritik an der parlamentarischen Demokratie, der Geschäftsordnung und vielem anderen mehr will ich zumindest an eines erinnern: Wir sitzen hier aufgrund von freien Wahlen. Das haben Millionen andere nicht. Und wir sind dem Grundgesetz verpflichtet, das nicht einfach irgendein Gesetz ist, sondern das die humane und demokratische Antwort auf die Verheerung und die Leichenberge des NS-Faschismus gewesen ist. Das gilt es jeden Tag zu verteidigen. Aber es gibt natürlich auch berechtigte Kritik an unserem Verfahren hier, am Parlamentarismus. Dieser müssen wir uns stellen, und wir müssen das bessern. Deswegen haben wir als Linke zwei Änderungsanträge eingebracht, die ich kurz vorstellen will. Wir wollen das Ganze lebendiger machen. Wir brauchen natürlich wirklich eine bessere Kontrolle des Regierungshandelns, und wir müssen die Abgeordnetenrechte und den Bundestag als solchen stärken. Jeder, der einmal die Regierungsbefragung und die Fragestunde gesehen hat – oder besser gesagt: ertragen musste –, entweder live hier oder bei Phoenix, weiß, dass wir diese grundlegend reformieren müssen. Dazu hat der geschätzte Präsident Lammert viel Richtiges gesagt. Dazu gehört zwingend, dass die Fraktionen, besonders natürlich die Oppositionsfraktionen, hier Themen vorschlagen können, die zum Beispiel – so sie denn gewählt ist – der Bundeskanzlerin und der Bundesregierung sehr unangenehm sind. Das ist ganz zentral. Ich will eines sagen: Was wirklich nicht geht, ist, dass es eine Befragung der Bundeskanzlerin lediglich in der Bundespressekonferenz gibt. Das geht nicht, liebe Kolleginnen und Kollegen. Ich glaube, wir sollten das auch noch aus einem anderen Grunde tun: Erstens wollen wir hier besser werden: besser arbeiten, bessern streiten, wofür man übrigens Sachargumente und viele Stunden Zeit braucht. Ich glaube ferner, dass es auch politisch sinnvoll ist, heute ein Zeichen an diejenigen zu senden, die sich abgewandt haben, die gar keine Teilhabe an dieser Demokratie mehr haben, die nicht mehr wählen gehen, die damit nichts mehr zu tun haben wollen. Dafür ist es, finde ich, das Mindeste, zu versuchen, es besser zu machen. In diesem Zusammenhang komme ich zum zweiten Antrag, den meine Fraktion, Die Linke, einbringt. Wir möchten – so wie es im Grundgesetz vorgeschrieben ist – sofort, also heute, die vier im Grundgesetz zwingend vorgeschriebenen Ausschüsse des Bundestages einsetzen. Das sind der Auswärtige Ausschuss, der Europaausschuss, der Verteidigungsausschuss und der Petitionsausschuss. Warum? Erstens. Wir alle hier – deswegen sitzen wir zusammen – sind gewählt. Das hat nichts mit Koalitionsverhandlungen zu tun. Der Bundestag ist gewählt! Wir sollten mit der Arbeit beginnen, liebe Kolleginnen und Kollegen. Zweitens. Wählerinnen und Wähler haben logischerweise gerade in diesen Zeiten einen Anspruch darauf, dass das Parlament arbeitet, dass wir miteinander streiten und ringen. Wir müssen in den nächsten Monaten Auslandseinsätze der Bundeswehr verlängern, besser: ablehnen. Aber dafür muss man beraten und Expertise einholen. Das ist doch eigentlich völlig logisch. Ob Jamaika nun kommt oder nicht, werden wir alles sehen. Aber die Verhandlungen können doch nicht allen Ernstes dazu führen, dass wir monatelang den Bundestag in Geiselhaft nehmen, bis Sie Ihre Befindlichkeiten in Ihrer Koalition gelöst haben; das geht nicht. Lassen Sie uns als Bundestag arbeiten und streiten! Der letzte Punkt, den ich ansprechen möchte, ist: Das hat auch etwas mit dem Selbstbild des Bundestages zu tun. Sind wir als Abgeordnete so selbstbewusst, zu sagen: „Die innere Organisation des Bundestages hängt nicht an Koalitionsverhandlungen, egal wie sie aussehen“? Ich finde, dieses Selbstbewusstsein sollten wir haben, liebe Kolleginnen und Kollegen. Deswegen zielen unsere Anträge auf die Stärkung des Bundestages, auf mehr Diskurs in diesem Bundestag und heute vor allem als ein Zeichen an diejenigen, die sich abgewandt haben, aber für die wir auch hier sitzen und die wir zurückgewinnen müssen, für demokratische Lösungen, für Streit, für die Menschenwürde und für das Kenntlichmachen, wo in diesem Haus die fundamentalen Unterschiede liegen. Dafür ist erforderlich, dass wir als Bundestag beginnen, zu arbeiten. Das müsste doch eigentlich auf der Hand liegen. Deshalb bitte ich um Zustimmung für unsere Änderungsanträge. Das Wort hat jetzt Herr Kollege Michael Grosse-Brömer von der CDU/CSU-Fraktion. '},\n",
       " {'date': '2017-10-24',\n",
       "  'discussion_title': 'Tagesordnungspunkt 2 2017-10-24',\n",
       "  'id': 'ID19100600',\n",
       "  'name': 'Michael Grosse-Brömer',\n",
       "  'party': 'CDU/CSU',\n",
       "  'period': '19',\n",
       "  'text': 'Herr Präsident! Sehr verehrte Gäste! Meine lieben Kolleginnen und Kollegen! Lieber Kollege Schneider, ich verstehe, dass man mit 20 Prozent als Bundestagswahlergebnis nach einem Schuldigen sucht. Ich empfehle, nicht immer nur ins Kanzleramt zu gucken. Suchen Sie im Willy-Brandt-Haus! Dort ist der Erfolg größer, dass Sie einen Schuldigen finden. Das geht dann vor allen Dingen auch schneller. Davon abgesehen stehen wir heute am Beginn einer Legislaturperiode. Wir haben bald – sofort nach der Konstituierung – Arbeitsfähigkeit hergestellt. Wir haben 289 Kolleginnen und Kollegen als neu gewählte Abgeordnete unter uns, die in der letzten Legislaturperiode diesem Bundestag nicht angehört haben. Zwei Fraktionen sind neu ins Parlament gezogen. Diese neuen Abgeordneten werden jetzt mit teils umfangreichen Änderungsanträgen zur Geschäftsordnung begrüßt. Ich halte das weder für besonders stilvoll noch für sachlich gerechtfertigt und fair. Die neuen Kolleginnen und Kollegen hatten weder die Gelegenheit, sich mit Ihren Anträgen auseinanderzusetzen, noch hatten sie Gelegenheit, jemals live eine Regierungsbefragung oder das, was Sie ändern wollen, überhaupt zur Kenntnis zu nehmen oder zu erfahren. Deswegen sagen wir: Ungeachtet der Möglichkeit, etwas zu ändern, wollen wir nicht, dass heute über die Anträge abgestimmt wird. Wir wollen sie überweisen, damit sie in Ruhe und mit der gebotenen Sachlichkeit beraten werden können. Insofern soll sich zunächst der Ältestenrat damit beschäftigen. Weil wir am Anfang der Beratungen stehen, möchte ich nur ein paar Anmerkungen machen. Erstens: zum Änderungsantrag der AfD bezüglich des Alterspräsidenten. Hermann Otto Solms hat heute bewiesen, dass es sinnvoll ist, nicht nur auf Lebensalter zu setzen, sondern auch auf politische Erfahrung. Deswegen sehe ich da keinen Änderungsbedarf. Zweitens: zu den Anträgen von SPD und Linken zu Änderungen bei der Regierungsbefragung. Sie wollen eine lebendige und informative Regierungsbefragung. Gar keine Frage, das wollen wir auch. Das Fragerecht muss aber Instrument der parlamentarischen Kontrolle bleiben und sollte nicht Kampfinstrument der Opposition werden. Ich glaube, es liegt in unserem gemeinsamen Interesse, dass wir sachlich argumentieren und nicht versuchen, nur persönlich zu attackieren. Deswegen habe ich da Bedenken. Aber um auch das klar zu sagen: Wir sind bereit, darüber zu reden – in der gebotenen Sachlichkeit und nicht im Hauruckverfahren. Ich kann verstehen, Herr Kollege Schneider, dass die SPD möglichst schnell in die Opposition will. Wir werden Sie dabei unterstützen, aber dieses Antrags bedarf es dazu nicht. Drittens: zum Antrag der Linken auf unmittelbare Einsetzung der vier im Grundgesetz genannten Ausschüsse. Ich möchte betonen: Dieser Bundestag, der 19. Deutsche Bundestag, ist ab heute jederzeit in der Lage, zu arbeiten und Entscheidungen zu treffen, er ist arbeitsfähig und entscheidungsfähig, um das einmal klar zu sagen. Sie haben hier suggeriert, wir müssten diese Ausschüsse einsetzen. Das müssen wir nicht. Es gibt keine Fristen im Grundgesetz oder sonst wo, die uns vorgeben, diese Ausschüsse heute einzusetzen. Wir haben eine parlamentarische Gepflogenheit, Ausschüsse spiegelbildlich zu den vorhandenen Ministerien einzusetzen. Wenn die aber noch nicht da sind, wird es schwierig mit dieser parlamentarischen Gepflogenheit. Deswegen bin ich dafür: Wir machen es so, wie es sich bewährt hat. Ich denke, der parlamentarischen Praxis ist hier erneut Vorrang einzuräumen. Einzelne Fachausschüsse vorzuziehen, dieses Schrittes bedarf es nicht. Abschließend zum Antrag der AfD zu Minderheitenrechten. Aufgrund einer starken Großen Koalition bestand in der 18. Wahlperiode Anlass, darüber nachzudenken, ob Minderheitenrechte in ausreichendem Maße gewährleistet werden können, zugegeben bei einer damals recht kleinen Opposition. Die Minderheitenrechte waren Reaktion auf Mehrheitsverhältnisse, und es gibt deshalb auch keinen Grund, sie zu verlängern. Die GroKo ist nicht mehr vorhanden. Interessant ist ja auch, dass die AfD das Quorum auf 65 Abgeordnete senken will. Möglicherweise ist das die vorbeugende Reaktion auf weitere Austritte aus Ihrer Fraktion. Das weiß ich nicht. Mal sehen, ob bei 65 Schluss ist. Sie haben ja noch ausreichend Zeit. Meine Damen und Herren, liebe Kolleginnen und Kollegen, die Anträge, die wir hier vorgestellt bekommen haben, gehören nicht in die konstituierende Sitzung. Wir haben viel Wichtigeres zu tun. Sie gehören in Ruhe beraten, damit man sich auch fachlich damit auseinandersetzen kann. Dafür sorgen wir als CDU/CSU-Bundestagsfraktion. Vielen Dank. Das Wort hat jetzt der Kollege Dr. Marco Buschmann von der FDP-Fraktion. '},\n",
       " {'date': '2017-10-24',\n",
       "  'discussion_title': 'Tagesordnungspunkt 2 2017-10-24',\n",
       "  'id': 'ID19100700',\n",
       "  'name': 'Marco Buschmann',\n",
       "  'party': 'FDP',\n",
       "  'period': '19',\n",
       "  'text': 'Herr Präsident! Meine lieben Kolleginnen und Kollegen! Die konstituierende Sitzung des Deutschen Bundestages ist eines der schönsten Hochämter der deutschen Demokratie. Es gibt kaum einen größeren, einen bedeutenderen Anlass als diesen, wo wir uns gemeinsam hinter dem Prinzip der repräsentativen Demokratie versammeln. So groß, wie dieser Anlass ist, so klein muss man denken, wenn man diese Sitzung als Bühne für die Sucht nach Aufmerksamkeit und Öffentlichkeit missbrauchen möchte. Genau das tun aber alle Antragsteller. Alle wollen sie ihre eingeübten Rollen spielen. Die AfD geriert sich – ganz bewährt – als Opfer einer finsteren Verschwörung. Das kennen wir zur Genüge, das haben wir oft genug erlebt. Ich wollte dazu eigentlich gar nichts mehr sagen. Aber, lieber Herr Kollege Dr. Baumann, indem Sie sich hier ernsthaft mit den O pfern Hermann Görings verglichen haben, haben Sie sich an Geschmacklosigkeit wieder selbst übertroffen. Auch Die Linke hat ihre bewährte Rolle. Sie gibt hier die Scheinheilige. Herr Korte trägt vor, es ginge darum, das Parlament schnell arbeitsfähig zu machen. Sie kennen die Praxis des Parlamentarismus in Deutschland ganz genau. Wir wissen heute nicht, welche Ausschüsse es insgesamt geben wird, wie groß sie sein werden, welche Kollegen wohin gehen müssen. Dass das in den Fraktionen natürlich besprochen werden muss, ist Ihnen bekannt. Es geht Ihnen um nichts anderes, als hier wieder ein Stück Aufmerksamkeit für sich in Anspruch zu nehmen. Darin unterscheiden Sie sich mit Ihrem Anliegen kein bisschen von der AfD. Wissen Sie, dass die extreme Rechte und die extreme Linke versuchen, diese Bühne zu missbrauchen, war gewissermaßen sogar erwartbar. Aber dass die altehrwürdige SPD in diesen Chor einstimmt, kann einen wirklich nur verwundern. Auch bei uns gibt es zahlreiche Ideen dazu, wie man diese Geschäftsordnung verbessern kann. Wir sind sehr für mehr Transparenz, wir haben auch Ideen, die darüber hinausgehen. Aber dass man versucht, in der konstituierenden Sitzung in ein komplexes Regelwerk einzusteigen, ohne vernünftige Beratung, ohne Austausch, ohne Arbeit am Detail leisten zu können, zeigt doch in Wahrheit, dass es Ihnen gar nicht um die Sache geht. Es geht Ihnen in Wahrheit doch um etwas ganz anderes. Wir wissen auch, worum es Ihnen dabei geht. Es geht Ihnen um nichts anderes – Sie haben zum Teil wortgleiche Initiativen der Fraktion Bündnis 90/Die Grünen übernommen –, als die Grünenkollegen in eine peinliche Situation zu bringen. Sie wollen erzwingen, dass die ihre eigenen Anträge ablehnen. Das ist offen gestanden für die konstituierende Sitzung des Deutschen Bundestages eine ganz kleine parteipolitische Münze. Das hat dieses Hohe Haus nicht verdient, meine Damen und Herren. Liebe Kolleginnen und Kollegen, ich kann Ihnen zum heutigen Tage nicht sagen, ob die Fraktion der Freien Demokraten eine Regierung tragen wird oder den Gang in die Opposition antreten wird. Aber ich kann Ihnen eines sagen: Wenn wir den Gang in die Opposition antreten, dann nicht mit solcher Effekthascherei. Das hat das deutsche Volk und das haben die Wähler nicht verdient. Das Wort hat jetzt die Kollegin Britta Haßelmann von Bündnis 90/Die Grünen. '},\n",
       " {'date': '2017-10-24',\n",
       "  'discussion_title': 'Tagesordnungspunkt 3 2017-10-24',\n",
       "  'id': 'ID19100900',\n",
       "  'name': 'Volker Kauder',\n",
       "  'party': 'CDU/CSU',\n",
       "  'period': '19',\n",
       "  'text': 'Die CDU/CSU-Bundestagsfraktion schlägt Herrn Dr. Wolfgang Schäuble vor. '},\n",
       " {'date': '2017-10-24',\n",
       "  'discussion_title': 'Tagesordnungspunkt 3 2017-10-24',\n",
       "  'id': 'ID19101000',\n",
       "  'name': 'Alterspräsident Dr. Hermann Otto Solms',\n",
       "  'party': 'FDP',\n",
       "  'period': '19',\n",
       "  'text': 'Der Kollege Dr. Wolfgang Schäuble ist vorgeschlagen. – Ich darf Sie fragen: Sind Sie bereit, zu kandidieren? '},\n",
       " {'date': '2017-10-24',\n",
       "  'discussion_title': 'Tagesordnungspunkt 3 2017-10-24',\n",
       "  'id': 'ID19101100',\n",
       "  'name': 'Wolfgang Schäuble',\n",
       "  'party': 'CDU/CSU',\n",
       "  'period': '19',\n",
       "  'text': 'Ja, Herr Präsident. '},\n",
       " {'date': '2017-10-24',\n",
       "  'discussion_title': 'Tagesordnungspunkt 3 2017-10-24',\n",
       "  'id': 'ID19101200',\n",
       "  'name': 'Wolfgang Schäuble',\n",
       "  'party': 'CDU/CSU',\n",
       "  'period': '19',\n",
       "  'text': 'Das ist der Fall. – Ich sehe keine weiteren Vorschläge. Dann bitte ich jetzt um Ihre Aufmerksamkeit für einige Hinweise zum Wahlverfahren – das sind technische Hinweise, die aber wichtig sind, damit Sie an der Wahl erfolgreich teilnehmen können –: Die Wahl findet mit verdeckten Stimmkarten, also geheim, statt. Gewählt ist, wer die Stimmen der Mehrheit der Mitglieder des Bundestages, also mindestens 355 Stimmen, erhält. Für diese Wahl und für die spätere Wahl der Vizepräsidentinnen und Vizepräsidenten benötigen Sie Ihre Wahlausweise aus den Stimmkartenfächern in der Lobby. Für die Wahl des Präsidenten sind der Wahlausweis und die Stimmkarte gelb. Bitte kontrollieren Sie, ob dieser Wahlausweis Ihren Namen trägt. Die gelbe Stimmkarte und den amtlichen Wahlumschlag erhalten Sie nach Aufruf Ihres Namens von den Schriftführerinnen und Schriftführern an den Ausgabetischen hier oben neben den Wahlkabinen. Nachdem Sie die Stimmkarte in einer Wahlkabine gekennzeichnet und dort in den Wahlumschlag gelegt haben, gehen Sie bitte zu den Wahlurnen hier vor dem Rednerpult. Sie dürfen Ihre Stimmkarte nur in der Wahlkabine ankreuzen und müssen ebenfalls noch in der Wahlkabine die Stimmkarte in den Umschlag legen. Die Schriftführerinnen und Schriftführer sind verpflichtet, jeden, der seine Stimmkarte außerhalb der Wahlkabine kennzeichnet oder in den Umschlag legt, zurückzuweisen. Die Stimmabgabe kann in diesem Falle jedoch vorschriftsmäßig wiederholt werden. Gültig sind nur Stimmkarten mit einem Kreuz bei „Ja“, „Nein“ oder „Enthalte mich“. Ungültig sind Stimmen auf nichtamtlichen Stimmkarten sowie Stimmkarten, die mehr als ein Kreuz, kein Kreuz, andere Namen oder Zusätze enthalten. Bevor Sie die Stimmkarte in eine der Wahlurnen werfen, übergeben Sie bitte Ihren Wahlausweis einer der Schriftführerinnen oder einem der Schriftführer an der Wahlurne. Der Nachweis der Teilnahme an der Wahl kann nur durch die Abgabe des Wahlausweises erbracht werden. Ich bitte jetzt die eingeteilten Schriftführerinnen und Schriftführer, die vorgesehenen Plätze einzunehmen. – Die beiden Schriftführer neben mir werden nun Ihre Namen in alphabetischer Reihenfolge aufrufen. Ich bitte Sie, den Namensaufruf zu verfolgen und sich nach dem Aufruf Ihres Namens zur Entgegennahme der Stimmkarte zu den Ausgabetischen vor den Wahlkabinen zu begeben. Haben alle Schriftführerinnen und Schriftführer die Plätze eingenommen? – Ich eröffne die Wahl und bitte, mit dem Aufruf der Namen zu beginnen. Der Namensaufruf ist beendet. Ich darf fragen, ob alle Mitglieder des Hauses, auch die Schriftführerinnen und Schriftführer, ihre Stimme abgegeben haben. – Nein, da kommt noch jemand. Haben jetzt alle Mitglieder des Hauses ihre Stimme abgegeben? – Das scheint der Fall zu sein. Ich schließe die Wahl und bitte die Schriftführerinnen und Schriftführer, mit der Auszählung zu beginnen. Zur Auszählung unterbreche ich die Sitzung für etwa 30 Minuten. Der Wiederbeginn der Sitzung wird rechtzeitig durch Klingelsignal angekündigt. Die unterbrochene Sitzung ist wieder eröffnet. Liebe Kolleginnen und Kollegen, nehmen Sie bitte Platz, damit wir fortfahren können. Ich gebe das Ergebnis der Wahl des Präsidenten des 19. Deutschen Bundestages bekannt: abgegebene Stimmen 705, ungültige Stimmen 1, gültige Stimmen 704. Mit Ja haben gestimmt 501 Kolleginnen und Kollegen. Mit Nein haben gestimmt 173 Kolleginnen und Kollegen, Enthaltungen gab es 30. Herr Dr. Wolfgang Schäuble hat die erforderliche Mehrheit erhalten und ist zum Präsidenten des 19. Deutschen Bundestages gewählt. Ich frage Sie, Herr Schäuble: Nehmen Sie die Wahl an? Herr Präsident, ich nehme die Wahl an. Herr Präsident, ich darf Ihnen im Namen des ganzen Hauses sehr herzlich zu Ihrer Wahl gratulieren. Ich wünsche Ihnen eine glückliche Hand. Verstand muss ich Ihnen nicht wünschen, den haben Sie sowieso. Ich bitte Sie jetzt, das Amt zu übernehmen. Vielen Dank. '},\n",
       " {'date': '2017-10-24',\n",
       "  'discussion_title': 'Tagesordnungspunkt 2 2017-10-24',\n",
       "  'id': 'ID19100800',\n",
       "  'name': 'Britta Haßelmann',\n",
       "  'party': 'BÜNDNIS 90/DIE GRÜNEN',\n",
       "  'period': '19',\n",
       "  'text': 'Sehr geehrter Herr Präsident! Meine Damen und Herren! Kommen wir einmal zum Kern der Debatte zurück. Es geht um das Thema Parlamentsrechte. Das, was wir in den letzten vier Jahren erlebt haben, war kein Glanzstück parlamentarischer Auseinandersetzung, wenn damit inhaltliche Debatten gemeint sind. Deshalb ist es gut, wenn wir uns alle wechselseitig daran erinnern – auch die, die heute vielleicht andere Rollen einnehmen, und all die, die noch nicht wissen, welche Rolle sie einnehmen werden –, was für ermüdende und langatmige Debatten wir hier in Zeiten dieser so Großen Koalition geführt haben. Ich kann mich sehr gut an die vielen Vorstöße aus unserer Fraktion erinnern, das Thema „Rechte des Parlaments stärken“ hier mehrheitsfähig zu machen. Wir sind leider immer wieder damit gescheitert; ich nenne nur: das Thema Parlamentskultur, die Frage der Debattenkultur, die Frage nach Transparenz und Öffentlichkeit von Ausschüssen und auch das Fragerecht oder die Regierungsbefragung. Außer mit dem Bundestagspräsidenten a. D., der auf der Tribüne sitzt, und vielleicht Einzelnen aus den Fraktionen gab es keine Übereinstimmung in dieser Frage. Und deshalb ist die Regierungsbefragung so, wie sie immer war, auch heute noch. Da braucht es dringend eine Änderung. Das sehen auch Bündnis 90/Die Grünen so. Meine Damen und Herren, ich wüsste nicht – deshalb kann ich das Gefeixe aus den Reihen der SPD gar nicht verstehen –, warum wir heute einfach Ihrem Antrag oder aber – es liegen ja zwei Anträge vor – dem Antrag der Linken folgen sollten, der wiederum anders ist. Auch wir haben Vorschläge zur Regierungsbefragung und zur Fragestunde gemacht. Im Antrag der SPD finden sich unsere Punkte nicht in Gänze wieder. Warum haben Sie in Ihrem Antrag zum Beispiel auf die Abschaffung der Konsumtionsregel verzichtet? Das ist doch ein wichtiges Instrument, gerade für die Opposition, meine Damen und Herren. Oder warum wollen Sie die Dringlichen Fragen abschaffen? Das ist ein super Instrument für die Opposition; das würde ich mir noch mal überlegen. Die Frage ist auch: Warum wollen Sie eigentlich keine Befragung zu europäischen Themen? Wir haben doch hier im Parlament den Anspruch, europäische Themen zu beraten, meine Damen und Herren. Also jetzt mal Karten auf den Tisch: Warum sind all diese Sachen in Ihrem Antrag nicht enthalten? Warum die Lacherei darüber, dass Sie uns hier heute vorführen wollen? Das ist doch absurd. Ich möchte mit Ihnen darüber diskutieren, warum Sie auf all diese wesentlichen Sachen verzichten wollen. Ich möchte mit der CDU/CSU darüber diskutieren, dass bei diesem Thema – auch bei der CDU/CSU – mal langsam ein bisschen Bewegung aufkommen muss, dass wir hier eine Veränderung brauchen. Herr Buschmann hat ja schon für die FDP erklärt, dass auch sie sich beim Thema Regierungsbefragung und Fragestunde etwas anderes vorstellt. Deshalb habe ich kein Verständnis dafür, liebe Kolleginnen und Kollegen von SPD und Linken, warum Sie meinem Vorschlag im Vor-Ältestenrat nicht gefolgt sind, es zu überweisen, sich alle Vorschläge aller Fraktionen im Deutschen Bundestag anzuschauen und dann sehr zeitnah darüber zu reden, wie wir es wirklich ändern. Sie wollten uns mit der Geschichte heute einfach vorführen, und da machen wir nicht mit – deshalb der Antrag auf Überweisung. Ich meine das sehr ernst und sehr eindrücklich: Ich wünsche mir, dass wir zur Stärkung des Parlamentes etwas verändern, dass wir beim Thema Transparenz etwas verändern. Dazu gehört die Regierungsbefragung, dazu hat unsere Fraktion auch noch weiter gehende Vorstellungen. Ich fände es toll, wir berieten das sehr zeitnah und in Ruhe, meine Damen und Herren. Jetzt noch zum Antrag auf Einsetzung der Ausschüsse. Jan Korte, es ist ja nicht so, dass Sie den Antrag stellen, Ausschüsse einzusetzen. Nein, Sie beantragen, dass vier Ausschüsse in der Geschäftsordnung zwingend festgelegt werden. Wir sollten mal in Ruhe darüber diskutieren, warum es eigentlich diese vier Ausschüsse sein sollen, deren Einsetzung Sie heute fordern, warum es zum Beispiel nicht der Geschäftsordnungs- und der Immunitätsausschuss sind. Es gibt ab heute hier im Haus allein zwei oder drei Mitglieder – das habe ich der Presse entnommen –, deren Angelegenheiten wir im Immunitätsausschuss zwingend diskutieren müssten, nicht hier im Plenum. Ich fände es gut, wenn wir darüber mal in Ruhe redeten. Meine Damen und Herren, ich finde, wir sollten uns im Deutschen Bundestag sehr zeitnah wieder mit der Frage der Änderungen bei Transparenz und Parlamentsrechten befassen, nachdem alle Fraktionen ihre Vorstellungen eingebracht haben, damit wir es dann hoffentlich sehr schnell zu einem Ergebnis führen. Danke. Wir kommen nun zur Abstimmung. Änderungsantrag der Fraktion der SPD auf Drucksache 19/8 mit dem Titel „Weitergeltung von Geschäftsordnungsrecht“ – Fragestunde und Befragung der Bundesregierung. Die Fraktion der SPD wünscht Abstimmung in der Sache. Die Fraktionen der CDU/CSU, des Bündnisses 90/Die Grünen und der FDP wünschen Überweisung an den Ältestenrat. Wir stimmen nach ständiger Übung zuerst über den Antrag auf Ausschussüberweisung ab. Ich frage deshalb: Wer stimmt für den Antrag der drei genannten Fraktionen auf Überweisung in den Ältestenrat? – Gegenstimmen? – Enthaltungen? – Damit ist der Antrag mit den Stimmen der Fraktionen der CDU/CSU, der FDP und des Bündnisses 90/Die Grünen gegen die Stimmen der SPD, der AfD und der Linken angenommen. Damit stimmen wir heute über den Antrag auf Drucksache 19/8 nicht in der Sache ab. Änderungsantrag der Fraktion der AfD auf Drucksache 19/4 mit dem Titel „Weitergeltung von Geschäftsordnungsrecht (Alterspräsident)“. Die Fraktion der AfD wünscht, über ihren Antrag in der Sache abzustimmen. Die Fraktionen CDU/CSU, Bündnis 90/Die Grünen und FDP wünschen Überweisung an den Ältestenrat. Wir stimmen nach ständiger Übung zuerst über den Antrag auf Überweisung ab. Wer stimmt dem Antrag auf Überweisung zu? – Gegenstimmen? – Enthaltungen? – Der Antrag ist angenommen mit den Stimmen der CDU/CSU-Fraktion, FDP-Fraktion, der Linken und Grünen bei Gegenstimmen bei AfD und SPD und bei Enthaltung der Fraktionslosen. Änderungsantrag der Fraktion der AfD auf Drucksache 19/5 mit dem Titel „Weitergeltung von Geschäftsordnungsrecht (Minderheitenrechte)“. Die Fraktionen der CDU/CSU, des Bündnisses 90/Die Grünen und der FDP wünschen Überweisung an den Ältestenrat. Die Fraktion der AfD wünscht Überweisung an den Ausschuss für Wahlprüfung, Immunität und Geschäftsordnung. Ich lasse zuerst abstimmen über den Antrag der Fraktion der AfD auf Überweisung an den Ausschuss für Wahlprüfung, Immunität und Geschäftsordnung. Wer stimmt für diesen Überweisungsvorschlag? – Wer stimmt dagegen? – Enthaltungen? – Der Überweisungsvorschlag ist mit den Stimmen aller Fraktionen gegen die Stimmen der Fraktion der AfD bei Enthaltung der Fraktionslosen abgelehnt worden. Ich lasse nun abstimmen über den Überweisungsvorschlag der Fraktionen der CDU/CSU, der FDP und des Bündnisses 90/Die Grünen. Wer stimmt für diesen Überweisungsvorschlag? – Gegenstimmen? – Enthaltungen? – Der Überweisungsvorschlag ist angenommen mit den Stimmen der CDU/CSU, der FDP, des Bündnisses 90/Die Grünen und der Fraktion Die Linke bei Gegenstimmen der SPD-Fraktion und Enthaltung der AfD – sowie der beiden fraktionslosen Abgeordneten; die sehe ich immer nicht. Änderungsantrag der Fraktion Die Linke auf Drucksache 19/6 mit dem Titel „Weitergeltung von Geschäftsordnungsrecht (Einsetzung der vom Grundgesetz vorgeschriebenen Ausschüsse in der konstituierenden Sitzung)“. Die Fraktion Die Linke wünscht Abstimmung in der Sache. Die Fraktionen CDU/CSU, FDP und Bündnis 90/Die Grünen wünschen Überweisung an den Ältestenrat. Auch hier stimmen wir nach ständiger Übung zuerst über den Antrag auf Ausschussüberweisung ab. Ich frage deshalb: Wer stimmt für die beantragte Überweisung? – Gegenstimmen? – Enthaltungen? – Die Überweisung ist angenommen mit den Stimmen der Fraktionen CDU/CSU, FDP und Bündnis 90/Die Grünen bei Gegenstimmen von SPD, AfD und der Fraktion Die Linke und – jetzt sehe ich sie – bei Enthaltung der zwei fraktionslosen Abgeordneten. Änderungsantrag der Fraktion Die Linke auf Drucksache 19/7 mit dem Titel „Weitergeltung von Geschäftsordnungsrecht (Fragestunde und Befragung der Bundesregierung)“. Die Fraktion Die Linke wünscht Abstimmung in der Sache. Die Fraktionen CDU/CSU, FDP und Bündnis 90/Die Grünen wünschen Überweisung an den Ältestenrat. Wer stimmt für diesen Überweisungsvorschlag? – Gegenstimmen? – Enthaltungen? – Dann ist der Antrag angenommen mit den Stimmen von CDU/CSU, FDP und Bündnis 90/Die Grünen gegen die Stimmen der anderen Fraktionen, keine Enthaltungen. Antrag der Fraktion der CDU/CSU auf Drucksache 19/1 zur Weitergeltung von Geschäftsordnungsrecht. Wer stimmt für diesen Antrag? – Gegenstimmen? – Enthaltungen? – Dann ist der Antrag mit den Stimmen aller Fraktionen gegen die Stimmen der AfD bei Enthaltung der zwei fraktionslosen Abgeordneten angenommen. '},\n",
       " {'date': '2017-10-24',\n",
       "  'discussion_title': 'Tagesordnungspunkt 6 2017-10-24',\n",
       "  'id': 'ID19101600',\n",
       "  'name': 'Wolfgang Kubicki',\n",
       "  'party': 'FDP',\n",
       "  'period': '19',\n",
       "  'text': 'Herr Präsident, ich nehme die Wahl an. Dann beglückwünsche ich auch Sie im Namen des Hauses und freue mich auf gute Zusammenarbeit. Frau Kollegin Pau, nehmen Sie die Wahl an? '},\n",
       " {'date': '2017-10-24',\n",
       "  'discussion_title': 'Tagesordnungspunkt 6 2017-10-24',\n",
       "  'id': 'ID19101500',\n",
       "  'name': 'Thomas Oppermann',\n",
       "  'party': 'SPD',\n",
       "  'period': '19',\n",
       "  'text': 'Jawohl, Herr Präsident, ich nehme die Wahl an. Ich beglückwünsche Sie und freue mich auf gute Zusammenarbeit. Herr Kollege Kubicki, nehmen Sie die Wahl an? '},\n",
       " {'date': '2017-10-24',\n",
       "  'discussion_title': 'Tagesordnungspunkt 6 2017-10-24',\n",
       "  'id': 'ID19101400',\n",
       "  'name': 'Hans-Peter Friedrich',\n",
       "  'party': 'CDU/CSU',\n",
       "  'period': '19',\n",
       "  'text': 'Herr Präsident, ich nehme die Wahl an. Dann beglückwünsche ich Sie, Herr Kollege Friedrich. Herr Kollege Thomas Oppermann, nehmen Sie Wahl an? '},\n",
       " {'date': '2017-10-24',\n",
       "  'discussion_title': 'Tagesordnungspunkt 6 2017-10-24',\n",
       "  'id': 'ID19101700',\n",
       "  'name': 'Petra Pau',\n",
       "  'party': 'DIE LINKE',\n",
       "  'period': '19',\n",
       "  'text': 'Herr Präsident, ich nehme die Wahl an und freue mich auf die Zusammenarbeit. Herzlichen Glückwunsch, Frau Pau. Auch ich freue mich auf die Zusammenarbeit. Jetzt frage ich die Frau Kollegin Roth, ob sie die Wahl annimmt. '},\n",
       " {'date': '2017-10-24',\n",
       "  'discussion_title': 'Tagesordnungspunkt 6 2017-10-24',\n",
       "  'id': 'ID19101900',\n",
       "  'name': 'Dr. Wolfgang Schäuble',\n",
       "  'party': 'CDU/CSU',\n",
       "  'period': '19',\n",
       "  'text': 'Die unterbrochene Sitzung ist wieder eröffnet. Liebe Kolleginnen und Kollegen, ich darf Sie bitten, wieder Platz zu nehmen. Mir liegt das Ergebnis des dritten Wahlgangs vor. Sobald Sie Platz genommen haben, werde ich es Ihnen mitteilen. Im dritten Wahlgang für die Wahl einer Stellvertreterin/eines Stellvertreters des Präsidenten wurden 685 Stimmen abgegeben. 685 Stimmen waren gültig. Mit Ja haben gestimmt 114, mit Nein haben gestimmt 545, Enthaltungen 26. Der Abgeordnete Glaser hat damit nicht die erforderliche Mehrheit erhalten. Gemäß § 2 Absatz 3 unserer Geschäftsordnung findet kein weiterer Wahlgang mit einem im dritten Wahlgang erfolglosen Kandidaten statt, es sei denn, ein weiterer Wahlgang wird im Ältestenrat vereinbart. Wird ein neuer Bewerber vorgeschlagen, so ist in ein neues Wahlverfahren einzutreten. Es wäre also wieder ein erster Wahlgang mit den entsprechenden Mehrheitserfordernissen durchzuführen. In beiden Fällen muss aber erst vereinbart werden, an welchem Tag die Wahl durchgeführt werden soll. Die Geschäftsführerinnen und Geschäftsführer der Fraktionen haben mir signalisiert, dass es kein Einvernehmen über die Durchführung weiterer Wahlgänge am heutigen Tag gibt. Damit ist dieser Tagesordnungspunkt abgeschlossen. Damit darf ich Sie bitten, sich zu unserer Nationalhymne von Ihren Sitzen zu erheben. Liebe Kolleginnen und Kollegen, wir sind damit am Schluss unserer heutigen Tagesordnung. Die nächste Sitzung findet in der 47. Kalenderwoche, also in der Woche vom 20. November, statt. Der genaue Tag der Sitzung wird noch bestimmt und Ihnen bekannt gegeben. Bevor ich die Sitzung schließe, darf ich Sie herzlich zu einem kleinen Empfang auf der Fraktionsebene einladen. Die Sitzung ist geschlossen. '},\n",
       " {'date': '2017-10-24',\n",
       "  'discussion_title': 'Tagesordnungspunkt 6 2017-10-24',\n",
       "  'id': 'ID19101800',\n",
       "  'name': 'Claudia Roth',\n",
       "  'party': 'BÜNDNIS 90/DIE GRÜNEN',\n",
       "  'period': '19',\n",
       "  'text': 'Ja, ich nehme die Wahl mit großer Freude an und freue mich auch auf die Zusammenarbeit. Die Freude ist unübersehbar. Ich beglückwünsche Sie im Namen des ganzen Hauses, Frau Kollegin Roth. Ich wünsche Ihnen allen im Namen des Hauses Glück und Erfolg für das verantwortungsvolle Amt. Da der Kollege Glaser nicht die erforderliche Mehrheit der Mitglieder des Hauses erhalten hat, ist nach der Geschäftsordnung ein zweiter Wahlgang erforderlich. Wir führen diesen zweiten Wahlgang jetzt unmittelbar durch. Für diesen zweiten Wahlgang schlägt die Fraktion der AfD den Kollegen Glaser vor. Auch im zweiten Wahlgang ist nach unserer Geschäftsordnung die Mehrheit der Mitglieder des Bundestages, also 355 Stimmen, erforderlich. Die Wahl ist wiederum geheim. Wahlausweise und Stimmkarte für diesen Wahlgang sind blau. Die Stimmkarte erhalten Sie wieder vor den Wahlkabinen. – Jetzt bitte ich Sie – genauso wie zuvor –, sich die Wahlunterlagen zu besorgen und in den Kabinen Ihr Kreuz zu machen. Wir beginnen mit der Wahl. Sind alle Urnen besetzt? – Das ist der Fall. Dann ist die Wahl eröffnet. Liebe Kolleginnen und Kollegen, darf ich fragen, ob jemand nicht die Möglichkeit hatte, seine Stimme abzugeben? – Das ist offensichtlich nicht der Fall. Dann schließe ich die Wahl. Ich bitte die Schriftführerinnen und Schriftführer, mit der Auszählung zu beginnen. Ich unterbreche die Sitzung für etwa eine halbe Stunde. Der Wiederbeginn wird rechtzeitig durch Klingelsignal angekündigt. (Unterbrechung von 15.55 bis 16.15 Uhr) Liebe Kolleginnen und Kollegen, die unterbrochene Sitzung ist wieder eröffnet. Ich darf Sie bitten, Platz zu nehmen. Ich teile Ihnen das Ergebnis des zweiten Wahlgangs zur Wahl eines Stellvertreters des Präsidenten mit: abgegebene Stimmen 697, ungültige Stimmen 1, gültige Stimmen 696. Mit Ja haben gestimmt 123, mit Nein haben gestimmt 549, Enthaltungen 24. Der Abgeordnete Glaser hat damit die erforderliche Mehrheit nicht erhalten. Jetzt schaue ich den Kollegen Baumann an. – Die Fraktion der AfD beantragt, einen dritten Wahlgang durchzuführen. Es gibt keinen neuen Kandidaten. Ich würde Ihnen gerne noch erläutern, wie der dritte Wahlgang abläuft. Nach unserer Geschäftsordnung ist im dritten Wahlgang der Kandidat Herr Glaser gewählt, wenn er die Mehrheit der abgegebenen Stimmen auf sich vereinigt, also die Zahl der Jastimmen größer ist als die Zahl der Neinstimmen. Enthaltungen bleiben insofern unberücksichtigt. Die Wahl ist wiederum geheim. Wahlausweis und Stimmkarte für diesen Wahlgang sind rot. Alles andere, Wahlkabine etc., läuft so ab wie bei den ersten beiden Wahlgängen auch. Ich bitte, die Wahlunterlagen in Empfang zu nehmen und die Urnen zu besetzen. Dazu brauchen wir Schriftführer. – Die Urnen sind besetzt. Ich eröffne den dritten Wahlgang. Liebe Kolleginnen und Kollegen, darf ich fragen, ob noch ein Abgeordneter seine Stimmkarte abgeben möchte, der sie nicht abgegeben hat? – Das ist nicht der Fall. Dann schließe ich den Wahlgang und bitte die Schriftführerinnen und Schriftführer, mit der Auszählung zu beginnen. Ich unterbreche die Sitzung wieder für etwa eine halbe Stunde. Auch diesmal wird durch Klingelzeichen rechtzeitig angekündigt, wenn die Sitzung wieder beginnt. '},\n",
       " {'date': '2017-11-21',\n",
       "  'discussion_title': 'Tagesordnungspunkt 1 2017-11-21',\n",
       "  'id': 'ID19200100',\n",
       "  'name': 'Michael Grosse-Brömer',\n",
       "  'party': 'CDU/CSU',\n",
       "  'period': '19',\n",
       "  'text': 'Sehr geehrter Herr Präsident! Liebe Kolleginnen und Kollegen! Dieser Bundestag ist seit seiner ersten Sitzung handlungsfähig. Aber wir haben eine gute Tradition, eine Entscheidungsstruktur. Sie beinhaltet entsprechende Ausschussarbeit. Deswegen ist es bewährte parlamentarische Praxis, sogenannte ständige Ausschüsse anhand der Zuschnitte der Ministerien einer neuen Regierung zu organisieren. Nun wissen wir alle – nicht nur aufgrund der gerade gehörten Rede des Bundestagspräsidenten –, dass die Regierungsbildung noch eine gewisse Zeit in Anspruch nehmen wird. Infolgedessen kann man die ständigen Ausschüsse, gerade mit Blick auf neue Ministerien, noch nicht sinnvoll festlegen. Deswegen haben fünf von sechs Fraktionen heute den gemeinsamen Antrag gestellt, einen Hauptausschuss einzusetzen. Dieser Hauptausschuss soll bis zur Einsetzung der ständigen Ausschüsse als Vorbereitungsgremium für das Plenum und die Entscheidungen hier dienen. Er gilt insbesondere für die Behandlung der Mandate der Bundeswehr, die wir heute hier einbringen, die in diesem Ausschuss entsprechend bearbeitet werden können, bevor sie im nächsten Plenum verabschiedet werden können. Der Hauptausschuss – um das eindeutig zu sagen – ist ganz klar ein vorläufiges Gremium, ein Gremium für einen Übergangszeitraum. Als solches hat es sich, wie schon vorhin vom Bundestagspräsidenten erwähnt, nach der letzten Bundestagswahl bewährt. Wir wollen heute neben dem Hauptausschuss zwei Ausschüsse einsetzen, die eher parlamentsinterne Aufgabenstellungen haben. Das ist der Petitionsausschuss, damit die Menschen in Deutschland nach wie vor Petitionen im Deutschen Bundestag nicht nur einbringen können, sondern auch die Gewähr haben, dass sie dort bearbeitet werden. Und wir wollen einen sogenannten 1. Ausschuss einsetzen, er behandelt Geschäftsordnungsanfragen und Immunitätsangelegenheiten. Auch das ist wichtig und spiegelt sich in beiden Fällen nicht in Ministerien wider. Die Fraktion Die Linke hat sich diesem Antrag nun nicht angeschlossen und möchte diese vierminütige Runde der Parlamentarischen Geschäftsführer durchführen. Sie fordert stattdessen, heute bereits 22 ständige Ausschüsse entsprechend der Ausschussstruktur der 18. Wahlperiode einzusetzen. Der Ausschuss Digitale Agenda soll allerdings nicht übernommen werden. Das finden Sie vielleicht nicht so wichtig; das ist aber auch egal. – Ja, der ist später dazugekommen. Man hätte ihn zusätzlich später erwähnen können. Das ist aber auch nicht so wichtig. Sie wollen 22 Ausschüsse einsetzen. Wenn ich es in Ihrem Antrag richtig gelesen habe – ich habe es mir hier aufgeschrieben –, soll die Einsetzung der Ausschüsse anhand der Ressortzuschnitte einer neu zu bildenden Bundesregierung erfolgen. Da sind wir also nicht auseinander. Sie schreiben es selbst. Sie wollen 22 Ausschüsse für einen Übergangszeitraum einsetzen. Das kann man machen, muss man aber nicht. Die Frage ist, ob das sinnvoll ist. 22 Ausschüsse für einen Übergangszeitraum einzurichten, entspricht vielleicht der linken Vorstellung von Effizienz und Organisationsgeschick. Wir halten es nicht für sinnvoll, 22 vorläufige Ausschüsse einzurichten und diese dann wieder aufzulösen. Wir glauben: Wenn man mit einem Hauptausschuss die gleiche Wirkung erreichen und die gleiche Arbeit effizienter schaffen kann, dann sollten wir diesen auch einsetzen. Alle anderen Fraktionen sind der Auffassung, dass dies nicht nur eleganter ist, sondern auch wesentlich mehr Sinn macht. Deswegen stimmen wir als CDU/CSU-Fraktion für die effiziente und sinnvolle Lösung und nicht für Ihren Antrag. Nächster Redner ist der Abgeordnete Carsten Schneider, SPD. '},\n",
       " {'date': '2017-11-21',\n",
       "  'discussion_title': 'Tagesordnungspunkt 1 2017-11-21',\n",
       "  'id': 'ID19200200',\n",
       "  'name': 'Carsten Schneider',\n",
       "  'party': 'SPD',\n",
       "  'period': '19',\n",
       "  'text': 'Herr Präsident! Liebe Kolleginnen und Kollegen! Der gemeinsame Antrag zur Einsetzung eines Hauptausschusses zur Schaffung der Arbeitsfähigkeit des Bundestages, den wir als SPD-Fraktion mitgetragen haben und auch heute mittragen, sieht vor, einen Hauptausschuss einzusetzen, um insbesondere die Vorlagen, die wir heute im Bundestag debattieren werden – es wird um die Auslandseinsätze und um den einen oder anderen Antrag gehen –, auch beraten zu können. Wir haben die Zusage zu diesem Schritt in den Koalitionsverhandlungen 2013 gegeben, wo absehbar war, dass wir in näherer Zeit eine Regierungsbildung erreichen würden. Seit Sonntag ist vieles anders. Von daher sage ich heute hier: Ja, wir setzen diesen Ausschuss ein, um kurzfristig die Arbeitsfähigkeit zu erlangen. Ich sage aber auch zu, dass wir die anderen Ausschüsse in den nächsten Wochen unverzüglich konstituieren werden, weil nicht absehbar ist, wann wir tatsächlich mit einer neuen Regierung zu rechnen haben. Wir haben eine geschäftsführende Bundesregierung. Die SPD-Minister stehen zu ihrer Verantwortung und machen sich nicht vom Acker und ergreifen die Flucht, wie die einen oder anderen Parteien es in den letzten Tagen gemacht haben. – Herr Lindner, Sie sind der Lars Windhorst der deutschen Politik. Ich finde, Sie sollten ganz still sein. Ganz still sollten Sie heute hier an diesem Tage sein! Keine Verantwortung zu übernehmen, den Ausstieg schon lange geplant zu haben und dann so eine Theatralik an den Tag zu legen, ist schon ein starkes Stück. Ich finde, die Schauspielerei sollte jetzt langsam einmal ein Ende haben. Wir werden heute hier im Bundestag nicht nur die Auslandsmandate besprechen, sondern auch über die Frage der Finanzhilfen für Irland entscheiden. Ich bin gespannt, wie die Mehrheitsbildung sich hier darstellen wird. Aber all dies bedarf auch einer ordentlichen Beratung in den Ausschüssen. Wir haben funktionierende Ministerien; ich habe das bereits gesagt. Deswegen werden wir unverzüglich – das ist hier jetzt zugesagt – einen Einsetzungsbeschluss fassen, damit wir diesen Bundestag vollumfänglich in Arbeit und in die Gänge bringen. Ich glaube, dieses Land hat das verdient. Die SPD steht dafür zur Verfügung. Vielen Dank. Nächster Redner ist der Abgeordnete Dr. Baumann, AfD. '},\n",
       " {'date': '2017-11-21',\n",
       "  'discussion_title': 'Tagesordnungspunkt 1 2017-11-21',\n",
       "  'id': 'ID19200300',\n",
       "  'name': 'Bernd Baumann',\n",
       "  'party': 'AfD',\n",
       "  'period': '19',\n",
       "  'text': 'Herr Präsident! Meine Damen und Herren! Wir haben uns dem gemeinsamen Antrag aller Fraktionen außer der Linken angeschlossen. In diesen unsicheren Zeiten, die durch die gescheiterte Regierungsbildung noch unsicherer geworden sind, müssen wir jetzt sehr schnell zu einer Ausschussarbeit kommen, die sofort funktioniert. Das bewirkt dieser interfraktionelle Antrag von CDU/CSU, SPD, AfD, FDP und den Grünen zumindest vorübergehend. Aber die Zeit parlamentarischer Rücksichtnahme angesichts der Bildung einer Regierung, die nicht zustande kommt, wird aus AfD-Sicht begrenzt sein, meine Damen und Herren. Sollte sich in den kommenden Wochen zeigen, dass trotz nur geschäftsführender Regierung plötzlich umfangreiche und sehr wichtige Gesetzesvorhaben einfach durchgewunken werden sollen, dann behalten wir uns vor, zur Beratung dieser Gesetze alle dann notwendigen Fachausschüsse umgehend einzufordern – umgehend, meine Damen und Herren! Das Wort hat der Abgeordnete Dr. Buschmann, FDP. '},\n",
       " {'date': '2017-11-21',\n",
       "  'discussion_title': 'Tagesordnungspunkt 1 2017-11-21',\n",
       "  'id': 'ID19200400',\n",
       "  'name': 'Marco Buschmann',\n",
       "  'party': 'FDP',\n",
       "  'period': '19',\n",
       "  'text': 'Herr Präsident! Meine sehr geehrten Kolleginnen und Kollegen! Die Fraktion der Freien Demokraten ist nicht nur Antragsteller, sondern steht auch hinter diesem Antrag, weil er das Parlament sachgemäß und schnell arbeitsfähig macht, so wie es die Umstände gebieten. Der Hauptausschuss ist ein sachgemäßes Instrument, um vollumfänglich in allen Themenbereichen vertieft beraten zu können. Den Petitionsausschuss, den ja viele sozusagen als einen Ausschuss zweiter Ordnung ansehen, halten wir für entscheidend wichtig, weil er seit der Aufklärung das Instrument ist, mit dem sich jeder Bürger an den Souverän wenden kann. Insofern ist es ein gutes demokratisches Zeichen, dass auch dieser Ausschuss schnell eingesetzt wird. Der Ausschuss für Wahlprüfung, Immunität und Geschäftsordnung ist neben seiner ursprünglichen Funktion auch deshalb wichtig, weil wir eine ganze Reihe von Anliegen haben, unsere Geschäftsordnung zu modernisieren. Genau diese Dinge können dort sachgemäß beraten werden. Ich wäre gerne bei diesen sachgemäßen Argumenten verblieben; aber wie schon die konstituierende Sitzung des Deutschen Bundestages wird auch diese erste reguläre Sitzung missbraucht, um dem Aufmerksamkeitsdefizit-Syndrom der SPD nachzukommen. Herr Schneider, Sie konnten kaum das Wahlergebnis abwarten, um die Flinte feige ins Korn zu werfen, und werfen uns nach über vier Wochen des Ringens, des Beratens und der Suche nach Kompromissen hier irgendetwas vor. Da müssen Sie selber lachen, und das tun Sie mit Recht. Das können Sie ja wahrlich nicht ernst meinen. Insofern wäre es besser gewesen, Sie wären beim sachlichen Kern dieser Debatte geblieben. Ich möchte hier noch eine Anmerkung machen, die ich für zentral wichtig halte – da gebe ich Ihnen in der Sache sogar recht –: Der Hauptausschuss kann nur ein Provisorium sein; das ist allen Beteiligten klar. Der Hauptausschuss ist ein gutes Instrument, wenn tatsächlich eine erfolgreiche Regierungsbildung absehbar ist. Was nicht gehen wird – das möchte ich hier betonen –, ist, dass hier über fünf, sechs, sieben oder sonst wie viele Monate mit diesem Provisorium gearbeitet wird. Denn die Fachausschüsse haben natürlich auch die Aufgabe, den Sachverstand einzubinden, der sich im gesamten Parlament, in allen Fraktionen widerspiegelt, um zu sachgemäßen Lösungen zu kommen. Insofern würde ich mir wünschen, dass wir, wenn möglicherweise eine erfolgreiche Regierungsbildung nicht abzusehen ist, zu einem Verfahren kommen, um Fachausschüsse einzusetzen. Auch hier ist in ungewöhnlichen Situationen neues Denken „out of the box“ gefragt. Dazu möchte ich alle anderen Fraktionen einladen. Herzlichen Dank. Das Wort hat der Abgeordnete Korte, Die Linke. '},\n",
       " {'date': '2017-11-21',\n",
       "  'discussion_title': 'Tagesordnungspunkt 1 2017-11-21',\n",
       "  'id': 'ID19200600',\n",
       "  'name': 'Britta Haßelmann',\n",
       "  'party': 'BÜNDNIS 90/DIE GRÜNEN',\n",
       "  'period': '19',\n",
       "  'text': 'Vielen Dank. – Herr Präsident! Sehr geehrte Kolleginnen und Kollegen! In der Tat reden wir heute über zwei Anträge. Der eine ist der Antrag, der vor zwei Wochen gemeinsam zwischen den Fraktionen des Deutschen Bundestages auf der Ebene der Parlamentarischen Geschäftsführerinnen und Geschäftsführer diskutiert wurde, nämlich der Antrag über die Einsetzung eines Hauptausschusses, eines Petitionsausschusses sowie eines Geschäftsordnungs- und Immunitätsausschusses. In dem anderen Antrag wird die Einsetzung aller Ausschüsse gefordert. Alle wissen, dass wir als Grüne sehr viel Sympathie dafür haben, zu sagen: Der Hauptausschuss ist kein Ersatzausschuss für die Fachausschüsse des Deutschen Bundestages. Das ist so, und das haben wir in Gesprächen immer wieder deutlich gemacht. Vor zwei Wochen waren wir allerdings noch in einer anderen Situation: Vier Parteien haben Sondierungsgespräche geführt mit dem Ziel, sie möglichst zu einem positiven Ergebnis zu bringen – bei aller Unterschiedlichkeit in der Sache und der Programmatik. Dieses Vorhaben ist mit dem Abbruch der Verhandlungen am Sonntagabend durch die FDP gescheitert. Wir sind seitdem in einer neuen Situation. Meine Damen und Herren, eine solche Situation hat der Deutsche Bundestag so noch nicht erlebt. Wir werden jetzt gucken müssen, wie lange dieser Zustand dauert, ehe wir zu einer stabilen Regierungsbildung kommen, und wir werden uns Gedanken darüber machen müssen, wie die Arbeitsfähigkeit des Bundestages in dieser Zeit hergestellt wird. Wir haben jetzt aber nicht in einer spontanen Reaktion das, worüber wir vor zwei Wochen Einvernehmen erzielt haben, über Bord geworfen. Uns Grünen war es wichtig, zu sagen: Wir haben eine Menge sachliche Kritikpunkte daran, alles auf den Hauptausschuss zu konzentrieren; der Hauptausschuss kann nicht der einzige Ausschuss sein, der eingerichtet wird. In den Gesprächen mit den anderen Fraktionen haben wir es erreicht, dass heute in einem ersten Schritt der Haupt-, der Petitions- sowie der Geschäftsordnungs- und Immunitätsausschuss eingerichtet werden. Darauf haben wir uns gemeinsam mit Union, SPD und FDP verständigt. Das ist sozusagen der erste Schritt unseres Handelns, auch mit Blick auf die Befassung mit den vielen Anträgen, die heute vorliegen. Das ist aus meiner Sicht ein schrittweises Verfahren. Deshalb werben wir nach wie vor für diesen Antrag, auch wenn klar ist, dass der Hauptausschuss nicht unsere Präferenz hatte. Immerhin haben sich die anderen Fraktionen auf unsere Idee, noch zwei weitere Ausschüsse einzurichten, eingelassen, was ich gut finde. Das ist ein gutes, positives Signal. Lieber Jan Korte, nach den Fraktionssitzungen gestern Abend fand ja noch eine Runde der Parlamentarischen Geschäftsführerinnen statt, in der wir uns intensiv damit befasst haben, dass die Situation jetzt anders ist als vor zwei Wochen. Deshalb haben wir alle signalisiert – das hat Carsten Schneider gerade gesagt, das hat Michael Grosse-Brömer gestern erklärt, Sie haben das erklärt und auch ich für meine Fraktion –: Heute unternehmen wir den ersten Schritt. Danach wird es in der nächsten Runde der Parlamentarischen Geschäftsführer eine Diskussion darüber geben, wie die Arbeitsfähigkeit des Deutschen Bundestages an anderen Punkten sichergestellt werden kann und wie wir mit der Situation umgehen. Deshalb werden wir heute – das wissen die Linken, denn das haben wir gestern gesagt – ihrem Antrag keine Zustimmung erteilen, auch wenn wir verabredet haben, dass die Fraktionen in der nächsten Woche über die Konstituierung weiterer Ausschüsse diskutieren. So haben wir das gestern Abend vereinbart, und so werden wir das heute machen. Wir haben auch geschaut, ob vonseiten der Linken die Bereitschaft besteht, dieses Gespräch abzuwarten. Das war aber nicht der Fall. Deshalb werden wir uns bei der Abstimmung über euren Antrag heute enthalten und unserem Antrag selbstverständlich Zustimmung erteilen. Vielen Dank. Damit schließe ich die Aussprache. Wir stimmen zuerst über den Antrag der Fraktion Die Linke ab. Das ist der Tagesordnungspunkt 1 b auf der Drucksache 19/78. Wer stimmt für den Antrag der Fraktion Die Linke? – Wer stimmt dagegen? – Enthaltungen? – Der Antrag ist mit den Stimmen von CDU/CSU, FDP, AfD bei Enthaltungen der Fraktion – – – Das war gemischt. Also gut. – Der Antrag ist jedenfalls abgelehnt bei Enthaltung der SPD und der Grünen. Damit kommen wir zur Abstimmung über den Antrag der Fraktionen CDU/CSU, SPD, AfD, FDP und Bündnis 90/Die Grünen zu Tagesordnungspunkt 1 a auf der Drucksache 19/85 mit dem Titel „Einsetzung eines Hauptausschusses, eines Petitionsausschusses sowie eines Ausschusses für Wahlprüfung, Immunität und Geschäftsordnung“. Wer stimmt für diesen Antrag? – Wer stimmt dagegen? – Wer enthält sich? – Der Antrag ist bei Gegenstimmen der Fraktion Die Linke mit den Stimmen des übrigen Hauses angenommen. Damit sind Hauptausschuss, Petitionsausschuss und der Ausschuss für Wahlprüfung, Immunität und Geschäftsordnung eingesetzt. '},\n",
       " {'date': '2017-11-21',\n",
       "  'discussion_title': 'Tagesordnungspunkt 1 2017-11-21',\n",
       "  'id': 'ID19200500',\n",
       "  'name': 'Jan Korte',\n",
       "  'party': 'DIE LINKE',\n",
       "  'period': '19',\n",
       "  'text': 'Sehr geehrter Herr Präsident! Meine Damen und Herren! Es ist ja ganz gut, dass wir in diesen ernsten Zeiten den Humor noch nicht verloren haben. Denn, Kollege Buschmann, das war wirklich der Gag der Woche – ganz sicher –, dass ausgerechnet die FDP anderen vorwirft, ein Aufmerksamkeitsdefizit-Syndrom zu haben, so als ob Sie davon frei wären. Das war am frühen Morgen nicht schlecht; der Gag war wirklich gut. So viel Humor muss man nach diesem Wochenende haben. Ich will aber nun zur Sache kommen. Sowohl der Kollege Schneider als auch der Kollege Buschmann als auch der Kollege Grosse-Brömer haben ja im Kern gesagt, man sollte dem Antrag der Linken auf Einsetzung von Ausschüssen zustimmen. Es geht Ihnen nur um den Zeitpunkt; Sie haben die ganze Zeit erzählt, dass wir irgendwann die Fachausschüsse einsetzen müssen. Wir könnten das schnell und schmerzlos umsetzen. Stimmen Sie einfach unserem Antrag zu. Dann haben wir die Fachausschüsse eingesetzt. Das ist doch eine gute Sache. Was ist der Hintergrund unseres Antrags? Sondierungen verlaufen mal gut und auch mal schlecht; das ist so, das muss jeder selber mit sich ausmachen. Die derzeitige Situation hat eine konkrete Folge, nämlich dass wir – der Präsident hat es erwähnt – eine geschäftsführende Bundesregierung haben, die auf der Regierungsbank versammelt ist, und nach dem Stand der Dinge wird sie dort noch ein wenig länger sitzen. Das ist nun einmal so. Das sind die Verfahren, wie sie durch das Grundgesetz vorgeschrieben sind. Daraus ergibt sich allerdings ein Problem für das Parlament. Wenn eine kommissarische Bundesregierung, wie sie hier sitzt, logischerweise politisch nur eingeschränkt handlungsfähig ist, dann ist es von entscheidender Bedeutung, dass das Parlament voll und ganz handlungsfähig ist, meine Damen und Herren. Ich möchte noch etwas zu dem Hauptausschuss sagen; denn Kollege Grosse-Brömer hat etwas erzählt, was schlicht nicht zutrifft. Ich will das für die Zuschauer noch einmal sagen: Ein Gremium von 47 Bundestagsabgeordneten – so ist das vorgesehen – soll die Arbeit des gesamten Bundestages, von allen Bundestagsabgeordneten erledigen. Da können Sie doch nicht allen Ernstes sagen: Das ist effizient. Ich möchte Sie auf einen Bruch in der Logik Ihrer Argumentation aufmerksam machen: Wenn das wirklich so ist, dann müssten wir für die gesamte Legislaturperiode nur einen Hauptausschuss haben. Das ist ein gewisser Widerspruch, den Sie hier zutage gefördert haben. Ich will noch etwas Inhaltliches sagen. In dem einzurichtenden Hauptausschuss werden 47 Abgeordnete sitzen, dabei haben wir derzeit über einige wichtige Fragen jenseits von parteipolitischen Befindlichkeiten zu diskutieren. Wir müssen Auslandseinsätze verlängern, besser gesagt, ablehnen, und das muss man doch in aller Ruhe und mit Expertise diskutieren und nicht unter „ferner liefen“ in einem Supergremium. Was ist mit der Klimapolitik? Welche außenpolitischen Krisen gibt es? Was für eine schlimme Politik macht der US-Präsident? Was ist mit der Schere zwischen Arm und Reich? Da können Sie doch nicht allen Ernstes sagen, nur weil wir noch keine neue Regierung haben, diskutieren wir das nicht in Ruhe und sachlich. Gerade Sie fordern von den Menschen sehr viel Flexibilität. Und dann sind Sie nicht in der Lage, wenn es denn eine neue Regierung gibt, relativ flexibel die Ausschüsse so anzupassen, dass sie spiegelbildlich zu den neuen Ministerien passen? Das muss doch wohl möglich sein, auch in der Unionsfraktion, liebe Kolleginnen und Kollegen. Letzter Punkt. Trotz all der Debatten, die wir führen und auch in den nächsten Monaten führen werden: Es kann eine große Stunde des Parlaments kommen. Wir sind seit dem 24. September gewählt, und jeder hat hier einen Job zu machen, ganz egal, was für eine Regierung es gibt und wann es sie gibt. Diese Zeit kann politisch spannend und auch eine Chance sein. Machen Sie sich keine Sorgen, dass hier jeder Linkenantrag durchgehen wird, wenn wir die Diskussion offen gestalten. Das wird so nicht sein. Aber vielleicht gibt es zum Beispiel beim Thema Kooperationsverbot über Parteigrenzen hinweg eine Mehrheit, um sachlich und sinnvoll zu entscheiden. Derzeit wird der Deutsche Bundestag aufgrund der Abläufe, wie wir sie gestalten, viel kritisiert. Es gibt aber auch viel unberechtigte Kritik. Wenn wir jetzt anfangen, substanziell und sachlich über die Einsetzung der Ausschüsse zu diskutieren, dann kann man das schlechte Bild, das es von diesem Hause gibt, ein Stück weit korrigieren. Deswegen sehe ich nach allen Wortbeiträgen eine große Zustimmung zu unserem Antrag, um die ich auch bitte. Vielen Dank. Zuvor hat als letzte Rednerin der Aussprache die Kollegin Haßelmann das Wort. '},\n",
       " {'date': '2017-11-21',\n",
       "  'discussion_title': 'Tagesordnungspunkt 2 2017-11-21',\n",
       "  'id': 'ID19200800',\n",
       "  'name': 'Wolfgang Hellmich',\n",
       "  'party': 'SPD',\n",
       "  'period': '19',\n",
       "  'text': 'Herr Präsident! Liebe Kolleginnen und Kollegen! Sehr geehrte Damen und Herren! Wir stehen heute am Beginn einer langen Debatte um etliche Mandate, die uns in den nächsten Tagen und Wochen intensiv beschäftigen wird. Gestern haben wir die Gelbe Schleife der Solidarität mit unseren Soldatinnen und Soldaten hier im Bundestag getragen und damit deutlich gemacht, dass wir an der Seite derjenigen stehen, die jeden Tag den Kopf dafür hinhalten, dass Terrorismus bekämpft wird, dass im Mittelmeer Schleuser durch Sea Guardian bekämpft werden und dass an dieser Stelle Waffenschmuggel bekämpft wird. Ich schließe mich dem Dank an die Soldatinnen und Soldaten sowie die zivilen Mitarbeiterinnen und Mitarbeiter, die ihren Dienst dort versehen, ausdrücklich und auch ganz persönlich an. Es waren Sozialdemokraten, die hier im Bundestag und in der Bundesregierung nachdrücklich darauf gedrängt haben, dass dieses Mandat von Artikel 5 des NATO-Vertrages gelöst und auf eine eigenständige Grundlage gestellt wird. Dies geschah mit den nötigen Beschlüssen des UN-Sicherheitsrates, die dem zugrunde liegen und letztendlich in die Entscheidungen der NATO auf dem Warschauer Gipfel gemündet sind. Damit wurden die Instrumente der NATO auch der EU für ihren Einsatz im Mittelmeer zur Rettung von Flüchtlingen zur Verfügung gestellt, damit das Mittelmeer nicht weiter zu einem großen, nassen Grab für viele Flüchtlinge wird. Diese Hilfs- und Koordinationsleistung, die Herstellung eines Lagebildes, die Beschaffung von Informationen über das, was sich auf dem Mittelmeer als einer der Lebensadern der großen Räume tut, die die Länder, Staaten, Nationen und auch die Kontinente miteinander verbindet, sind wichtige Aufgaben, mit deren Erfüllung man auch dem Wunsch unserer Partnerinnen und Partner als Anrainer des Mittelmeeres nachkommt, die uns aufgefordert haben, dass sich die NATO genauso wie die EU stärker um die Südflanke kümmern müssen, weil es dort brennt. Und die Krisen sind nicht weniger geworden. Wenn wir uns die Entwicklung im Libanon ansehen, dann sehen wir, dass der Konflikt zwischen dem Iran und Saudi-Arabien kurz davor ist, die Küste des Mittelmeeres zu erreichen und dort vielleicht einen Bürgerkrieg auszulösen. Das ist eine Herausforderung für die EU und für die NATO. Das zeigt, dass wir den Sicherheitsbedürfnissen und Sicherheitsanforderungen auf dem Mittelmeer sehr intensiv nachkommen müssen. Hat dieses Mandat, das seit einem Jahr in Kraft ist, etwas gebracht? Ja, allein wegen der Herstellung eines Lagebildes von einer Patrouille im Sommer dieses Jahres, die die Seewege von mehr als 600 Schiffen nachvollzogen hat, die 140 Schiffe auf ihre Bewegung untersucht hat und die schließlich mit Zustimmung der jeweiligen Flaggenstaaten vier Schiffe durchsucht hat, weil es den Verdacht gab, dass dort Waffen geschmuggelt werden. Es ist gerade einem Einsatztruppenversorger der Marine gelungen, ein Schiff – schwer beladen mit Waffen, gedacht für Bengasi – im Mittelmeer aufzubringen und nach Italien in einen Hafen zu eskortieren. Das zeigt, dass dieses Mandat sinnvoll und notwendig ist und dass die Beiträge unserer Bundeswehr dort geliefert werden müssen: im Interesse der Sicherheit an der Südflanke der NATO und im Interesse der Sicherheit Europas und auf dem Mittelmeer. Das, was dort geleistet worden ist und was unsere Soldatinnen und Soldaten dort leisten, ist ein wichtiger Beitrag dazu, dass es mehr Frieden und Sicherheit auf der Welt bzw. im Mittelmeer gibt. Davon gehen wir aus, und wir unterstützen dieses Mandat auch weiterhin. Deshalb wird die Fraktion der SPD dem Antrag zustimmen; denn wir brauchen das Mandat dringend. Vielen Dank für Ihre Aufmerksamkeit. Nächster Redner ist der Kollege Nolte von der AfD. Es ist seine erste Rede im Deutschen Bundestag. '},\n",
       " {'date': '2017-11-21',\n",
       "  'discussion_title': 'Tagesordnungspunkt 2 2017-11-21',\n",
       "  'id': 'ID19200700',\n",
       "  'name': 'Ursula Leyen',\n",
       "  'party': 'CDU/CSU',\n",
       "  'period': '19',\n",
       "  'text': 'Herr Präsident! Liebe Kolleginnen und Kollegen! Wir werden uns heute und morgen mit insgesamt sieben laufenden Einsätzen der Bundeswehr beschäftigen und den Bundestag um eine Verlängerung um drei Monate bitten. Meine Damen und Herren, die Bundeswehr, unsere Parlamentsarmee, ist derzeit in 13 vom Bundestag mandatierten Einsätzen. Sie ist da gemeinsam mit Partnern und Verbündeten, um den Terror zu bekämpfen, um Frieden zu sichern, um auszubilden, um zu beraten. Oder anders gesagt: Unsere Soldatinnen und Soldaten tragen dazu bei, dass Sicherheit geschaffen wird. Sie sorgen für Stabilität. Sie lindern Not. Sie schaffen überhaupt erst den Rahmen dafür, dass in Krisen- und Konfliktsituationen die entscheidenden politischen Lösungen gefunden werden können, dass Wiederaufbau und Entwicklung stattfinden können, und das oft in einem äußerst gefährlichen Umfeld. Meine Damen und Herren, in unzähligen Einsatzreisen konnte ich mich davon überzeugen, dass unsere Bundeswehr, unsere Soldatinnen und Soldaten, bei unseren Partnern und Verbündeten hoch anerkannt ist; sie erleben sie als professionell, besonnen und mit Courage agierend. Deshalb kann ich an dieser Stelle nur sagen – ich spreche im Namen des ganzen Hauses; da bin ich sicher –: Wir können stolz sein auf diese Männer und Frauen, und wir sind ihnen dankbar für die Einsätze, die sie leisten. Unsere Soldatinnen und Soldaten, die Bundeswehr, unsere Parlamentsarmee, brauchen Berechenbarkeit. Die sieben Mandate, um die es heute und morgen geht, stehen entweder Ende Dezember dieses Jahres oder Ende Januar nächsten Jahres zur Verlängerung an. Wir haben uns deshalb in der vorherigen Bundesregierung dazu entschlossen, Sie, den Bundestag, zunächst einmal um eine Verlängerung um drei Monate zu bitten, wobei die Mandate im Wesentlichen völlig unverändert sind. Es geht also um eine Verlängerung von unveränderten Mandaten um drei Monate. Mir ist dies aus zweierlei Gründen wichtig: Zum Ersten gibt das uns, den Parlamentarierinnen und Parlamentariern des Bundestages, darunter viele neue Kolleginnen und Kollegen, Zeit und Gelegenheit, sich mit den unterschiedlichen Mandaten auseinanderzusetzen und sich in die Tiefe einzuarbeiten. Zum Zweiten können sich unsere Partner und Verbündeten in dieser auch für uns gerade so schwierigen Phase fest darauf verlassen, dass sie die Bundeswehr weiterhin kontinuierlich an ihrer Seite haben. Meine Damen und Herren, auch und gerade in der Sicherheitspolitik sind Verlässlichkeit, Vertrauen und Berechenbarkeit ein hohes Gut – wenn nicht gar das höchste Gut –, und Deutschland steht für Verlässlichkeit. – Deutschland steht für Verlässlichkeit, meine Damen und Herren. – Ja, das ist in dieser Situation vielleicht nicht so einfach. Aber, meine Damen und Herren, das zeigt auch die Tragweite der Entscheidungen der letzten Tage. Das Ausland verlässt sich auf uns. Das Ausland wartet darauf, dass Deutschland stark ist in der Mitte Europas. Es stehen viele sicherheitspolitische Entscheidungen in Europa an. Der Terror wartet nicht darauf, dass wir hier zu Potte kommen, sondern der Terror verlangt eine entschlossene Antwort der Verbündeten und Alliierten, er verlangt Standfestigkeit von Deutschland, und Sie können sich darauf verlassen, dass die Bundeswehr und Deutschland verlässlich sind. Damit komme ich zum ersten Mandat, zur NATO-geführten maritimen Sicherheitsoperation Sea Guardian im Mittelmeer. Ein Drittel aller Güter werden über das Mittelmeer verschifft. Das Mittelmeer verbindet unsere Nachbarn mit Nordafrika und dem Nahen und Mittleren Osten. Das Mittelmeer ist zum Teil aber auch Schauplatz von Schleuser- und Schmuggleraktivitäten – sowohl von Menschenschleusern als auch von Waffenschmugglern. Die sichere Nutzung dieses Seegebietes ist von zentraler Bedeutung für Europa. Deshalb gibt es Sea Guardian als Mission zur Seeraumüberwachung. Diese Mission ist infolge der Anschläge von 9/11, des 11. September 2001, entstanden. Wir haben diese Mission inzwischen richtigerweise von der früheren Artikel-5-Komponente getrennt und sie zu einer Operation der Seeraumüberwachung gemacht. Es geht erstens um ein kontinuierliches und umfassendes Lagebild im Mittelmeer. Es geht zweitens aber auch um eine weitere Aufgabe von Sea Guardian – und die ist mir wichtig –: Schiffe und Boote können bei Verdacht auf Terrorismusunterstützung angehalten, durchsucht, beschlagnahmt und umgeleitet werden. Wegen dieser möglichen Aufgabe, wegen des möglichen exekutiven Handelns, wegen des möglichen Einsatzes von Waffen ist dieser Auftrag mandatierungspflichtig. Drittens unterstützen unsere NATO-AWACS und damit unsere deutschen AWACS-Besatzungen die Lagebilderstellung von Sea Guardian. Deshalb, meine Damen und Herren, ist dieser NATO-Einsatz insgesamt sicherheitspolitisch sinnvoll und notwendig. Ich bitte Sie heute um die Verlängerung eines in der Substanz gleich gebliebenen Mandats um drei Monate. Vielen Dank. Das Wort hat der Abgeordnete Hellmich, SPD. '},\n",
       " {'date': '2017-11-21',\n",
       "  'discussion_title': 'Tagesordnungspunkt 2 2017-11-21',\n",
       "  'id': 'ID19200900',\n",
       "  'name': 'Jan Ralf Nolte',\n",
       "  'party': 'AfD',\n",
       "  'period': '19',\n",
       "  'text': 'Sehr geehrter Herr Präsident! Sehr geehrte Kollegen! Soldat wird man, um das Recht und die Freiheit des deutschen Volkes tapfer zu verteidigen. Legt man diesen Maßstab an die momentanen Einsätze unserer Streitkräfte an, dann muss man sich wundern, wohin dieses Hohe Haus unsere Soldaten entsendet und mit welchen Begründungen dies geschieht. Die Operation Sea Guardian ist aber ein Mandat, bei dem sich ein Nutzen für unsere Bundesrepublik erkennen lässt, auch wenn diesem Mandat die politische Zuarbeit fehlt, die es bräuchte, damit die Einsatzziele vollständig erreicht werden können. Natürlich schützt es Deutschland, wenn Waffenschmuggel und Terrorismus im Mittelmeerraum bekämpft werden. Die Operation Sea Guardian kann damit nicht nur Gewalt und Terror in Deutschland erschweren, sondern sie kann auch die Seehandelsrouten sicherer machen, was ebenfalls in unserem Interesse liegt. Viele sehr dynamische Konflikte sowie der sich ausbreitende Terrorismus verlangen von uns, die zur Verfügung stehenden Mittel auszuschöpfen, um die Sicherheit in Deutschland und Europa zu erhöhen. Auch im Lichte der Waffenfunde, zu denen es im Zuge von Operation Sophia kam, erscheint Sea Guardian sinnvoll. Deshalb möchte ich dazu aufrufen, endlich die richtigen Prioritäten zu setzen, wenn es um den Einsatz unserer Bundeswehr geht. Jeden Monat erscheint eine Studie zu den größten Sorgen der Menschen in den Staaten dieser Welt. Zu den vier größten Sorgen der Deutschen – und die vertreten wir in diesem Parlament – zählen Gewalt und Kriminalität, Terror und eine unkontrollierte Zuwanderung. Wenn wir als Volksvertreter unseren Job ernst nehmen, dann haben wir gegen diese Bedrohungen vorzugehen. Für die Verteidigungspolitik heißt das, sich auf Einsätze zu konzentrieren, die Europa und seine Peripherie schützen, und unsere Bundeswehr nicht zu einem Weltpolizisten zu machen. Dafür hat das Volk kein Verständnis. Die Marine als kleinste Teilstreitkraft stößt an die Grenzen ihrer Leistungsfähigkeit, was wohl auch der Grund dafür ist, dass für dieses Mandat keine Kräfte eigens entsandt werden sollen. Es braucht daher endlich den politischen Willen, die Bundeswehr personell und materiell in die Lage zu versetzen, solche wichtigen Einsätze vor den Toren Europas erfolgreich und mit dem richtigen Kräfteansatz zu bestreiten. Verteidigungspolitisch muss unser Fokus vor unserer Haustür liegen und nicht irgendwo in der weiten Welt. Mehr noch als materielle und personelle Engpässe beeinträchtigt aber die Inkonsequenz derer, die diesen Einsatz 2016 auf den Weg gebracht haben, die Auftragserfüllung unserer Soldaten. In der Antragsbegründung von 2016 wird auf die Eindämmung irregulärer Migration hingewiesen. Die Bekämpfung von Schleusernetzwerken ist der Kernauftrag der Operation Sophia, die durch Sea Guardian unterstützt wird. Angesichts dieses Auftrages und der anhaltenden Armutsmigration nach Deutschland ist es ein Skandal, dass die Einsatzrealität unsere Bundeswehr zum Schlepper macht. Selbstverständlich haben die Schleusernetzwerke erkannt, dass unsere Bundeswehr und die Streitkräfte unserer Partnerstaaten ihnen den Großteil des Weges abnehmen. Das Resultat dieser Einsätze ist also, dass die Schlepperboote noch voller werden und dass sie noch weniger seetüchtig sind, da man sich auf die Rettung durch unsere Streitkräfte verlässt. Seit Beginn der Operation Sophia haben Marinesoldaten über 21 000 Migranten nach Europa gebracht. Ich rufe jeden auf, der dieses Mandat als sinnvoll erachtet, konsequent zu sein und sich auf allen Ebenen für Abkommen einzusetzen, die es uns erlauben, die Migranten, die wir im Mittelmeer aufgreifen, nach Afrika zurückzubringen. Obwohl man also an der Einsatzwirklichkeit von Sea Guardian viel kritisieren kann, werden wir der Überweisung an den Ausschuss zustimmen. Sea Guardian hat für uns das Potenzial, Deutschland und Europa zu schützen. Ich sage aber klar, dass unsere zukünftige Haltung zum Einsatz der Marine im Mittelmeer davon abhängen wird, ob endlich die Voraussetzungen dafür geschaffen werden, dass unsere Soldaten ihren Auftrag auch wirklich erfüllen können. Die Bundeswehr muss ein Instrument der Rechtsstaatlichkeit sein. Sie darf von diesem Parlament nicht zum Helfer für Schlepper herabgewürdigt werden. Nächster Redner ist der Kollege Graf Lambsdorff von der FDP. Auch er spricht zum ersten Mal in diesem Hohen Haus. '},\n",
       " {'date': '2017-11-21',\n",
       "  'discussion_title': 'Tagesordnungspunkt 2 2017-11-21',\n",
       "  'id': 'ID19201100',\n",
       "  'name': 'Alexander S. Neu',\n",
       "  'party': 'DIE LINKE',\n",
       "  'period': '19',\n",
       "  'text': 'Sehr geehrte Damen und Herren! Sehr geehrter Herr Präsident! Wir reden über die NATO-Mission Sea Guardian, die gefühlt hundertste Verlängerung dieser Mission. Woher kommt dieses Gefühl? Auslandseinsätze dauern nachweislich länger als ursprünglich vorgegeben und sind maßgeblich teurer als ursprünglich vorgegeben, zum Beispiel der NATO-Einsatz in Afghanistan und der NATO-Einsatz im Mittelmeer. Resolute Support in Afghanistan, vormals ISAF, begann 2001. Sea Guardian, die Fortsetzung der Mission Operation Active Endeavour, begann 2003. Diese beiden Einsätze sind Musterbeispiele für Auslandseinsätze der Bundeswehr, die nicht enden sollen, da es zumindest eine zweite Agenda gibt, nämlich eine geopolitische Agenda. Die Bundesregierung begründet die Sea-Guardian-Mission mit der Notwendigkeit des Antiterrorkampfes und der präventiven Maßnahme gegen Krisenentwicklung im Mittelmeer. Ein paar Anmerkungen zum Thema Antiterrorkampf im Mittelmeer. Zwar haben Sea Guardian und die Vorgängeroperation Operation Active Endeavour nie Waffenschmuggel oder Ähnliches aufgedeckt. Aber die NATO will im Mittelmeerraum operativ tätig bleiben und dort dominieren. Es gibt nicht die geringste Spur eines Selbstzweifels in der NATO, der Europäischen Union oder ihren Mitgliedstaaten, inwieweit sie die Instabilitäten in Nordafrika und den Terrorismus selbst mit erzeugt haben oder mit erzeugen, Stichworte „Libyen“ und „Syrien“. Zur Begründung präventiver Maßnahmen gegen Krisenentwicklungen. In der Begründung des Antrags der Bundesregierung geht es darum, „Krisenentwicklungen im maritimen Umfeld ... frühzeitig zu erkennen“. Krise als Operationsobjekt ist hypothetisch dargelegt, aber nicht konkret. Krise kann sich entwickeln, muss aber nicht notwendigerweise entstehen. Somit sind militärische Maßnahmen gegen hypothetische Krisen in der Logik der Befürworter eines solchen sicherheitspolitischen Verständnisses ohne zeitliche und räumliche Begrenzung, sehr geehrte Damen und Herren. Mit dieser Begründung wird das wahre Ziel der NATO deutlich. Es geht um expansive Raumkontrolle der NATO und der Europäischen Union. Frau Ministerin, Sie haben das gerade gesagt: komplette Aufklärung im Mittelmeer. Man möchte auf der Hohen See im Mittelmeer so operieren wie auf den eigenen Hoheitsgewässern. Die Hohe See des Mittelmeeres soll zum Küstenmeer der NATO und zum Küstenmeer der EU degradiert werden. Das ist klassische Imperialpolitik. Wie sonst ist zu erklären, dass über einen längeren Zeitraum NATO und Europäische Union ihre Präsenz im und die Kontrolle über das Mittelmeer systematisch ausbauen? Es handelt sich hier derzeit um vier Missionen: Sea Guardian, UNIFIL, EUNAVFOR MED und Ägäis-Einsatz – Letzterer ohne Bundestagsmandat. Sea Guardian umfasst die Kontrolle über das gesamte Mittelmeer, dessen Zugänge und, das Einverständnis der Anrainer vorausgesetzt, auch die Territorialgewässer sowie den dazugehörigen Luftraum, also die komplette Kontrolle. Als eine weitere Aufgabe von Sea Guardian wird die Unterstützung der Mission Sophia benannt, also die Bekämpfung des Menschenschmuggels. Ich finde, der Begriff „Bekämpfung des Menschenschmuggels“ ist ein schändlicher Euphemismus für „militarisierte Flüchtlingsabwehr“. Unser Fazit ist: Unter dem Deckmantel „abstrakte und konkrete Terrorgefahr“ und „abstrakte Gefahr von Krisenentwicklungen“ werden Raumkontrolle und militarisierte Flüchtlingsabwehr organisiert. Geopolitik ist die Sicherheitspolitik des 19. und 20. Jahrhunderts mit den entsprechenden Folgen. Man hat aus der Vergangenheit nicht gelernt. Militarisierte Flüchtlingsabwehr ist einfach nur menschenverachtend. Die Linke wird diese Mission ablehnen. Danke. Nächster Redner ist der Kollege Dr. Lindner von der Fraktion Bündnis 90/Die Grünen. '},\n",
       " {'date': '2017-11-21',\n",
       "  'discussion_title': 'Tagesordnungspunkt 2 2017-11-21',\n",
       "  'id': 'ID19201200',\n",
       "  'name': 'Tobias Lindner',\n",
       "  'party': 'BÜNDNIS 90/DIE GRÜNEN',\n",
       "  'period': '19',\n",
       "  'text': 'Herr Präsident! Liebe Kolleginnen und Kollegen! Meine sehr geehrten Damen und Herren! Zu Beginn dieser Sitzung hat der Präsident zu Recht darauf hingewiesen, dass sie eine besondere Sitzung ist, auch wenn wir in diesem Hohen Haus häufiger über Bundeswehrmandate debattieren. Die Große Koalition hat es bei der letzten Verlängerung dieser Mandate unterlassen, sie so zu verlängern, dass sich eine neue Bundesregierung mit ihnen inhaltlich auseinandersetzen kann. Deshalb müssen wir diese Mandate heute um drei Monate verlängern. Danach haben wir hoffentlich eine Bundesregierung, die auch inhaltlich die Entscheidung trifft, ob man diese Mandate in dieser Form fortführt, sie verändert oder manche davon beendet. Frau Bundesministerin, da Sie davon sprechen, dass diese Mandate im Wesentlichen unverändert sind, möchte ich für meine Fraktion entgegnen: Darunter sind auch Mandate, denen wir zwar in der Vergangenheit zugestimmt haben und denen wir auch weiterhin zustimmen werden, aber dadurch wird das, was wir an manchen Mandaten falsch finden – wir finden an diesem Mandat so einiges falsch –, nicht besser. Auch das wird unser Abstimmungsverhalten in Zukunft leiten. Da wir über Klarheit und Verantwortung – nicht nur gegenüber den Wählerinnen und Wählern – reden, möchte ich einen zweiten Punkt ansprechen. Stand vergangenen Freitag haben 3 660 Frauen und Männer der Bundeswehr ihren Dienst in Auslandseinsätzen geleistet. Bei den jetzt zu verlängernden Mandaten geht es um 2 643 Soldatinnen und Soldaten. Meine Damen und Herren, liebe Kolleginnen und Kollegen, wir sind es diesen Frauen und Männern schuldig, dass sie nach diesen drei Monaten Klarheit darüber haben, in welcher Form sie zukünftig ihren Auftrag erfüllen und welche Bundeswehrmandate wir gegebenenfalls beenden werden. Ich will noch einen Punkt zu Ihnen, Herr Kollege Nolte von der AfD, sagen. Wenn Sie Ihre Rede damit beginnen, dass Sie die Gelöbnisformel zitieren, dann sollten Sie die zweite Hälfte der Gelöbnisformel nicht weglassen. Darin heißt es: Gerade wenn wir in der Bundesrepublik Deutschland über Recht und Freiheit reden, dann reden wir darüber immer in einem globalen Rahmen. Deswegen ist es gut und richtig, dass sich Deutschland mit der Bundeswehr im Rahmen der Vereinten Nationen an der Friedenssicherung auf diesem Planeten engagiert. Lassen Sie mich einen weiteren Punkt ansprechen. Bei allen Differenzen, die wir darüber haben, welche Rolle die Bundeswehr beim Thema „Flucht und Vertreibung“ spielt, spielen sollte oder vielleicht besser nicht spielen sollte: Ich bin für jede Frau, für jeden Mann, für jedes Kind, also für jedes Menschenleben, das deutsche Soldaten in den letzten Monaten aus dem Mittelmeer gerettet haben, das sie vor dem sicheren Tod bewahrt haben, dankbar. Jetzt ein Punkt zum Mandat selbst, der uns bei den Ausschussberatungen leiten wird. Die Lagebilderstellung der NATO ist eine Standardaufgabe. Die gab es auch schon vor dem 11. September. Frau Ministerin, wir können gern darüber reden und diskutieren, an welcher Stelle unsere Soldatinnen und Soldaten Rechtssicherheit brauchen, wenn die Gefahr einer bewaffneten Auseinandersetzung besteht. Dieses Mandat aber, so wie es heute vorliegt, ist gefährlich unklar. Dazu brauchen wir nicht bloß Bestandteile wie zum Beispiel die Ausbildung in Anrainerstaaten. Das hat nichts mit Rechtssicherheit für die eingesetzten Soldatinnen und Soldaten zu tun. Deswegen werden wir Grüne uns bei den Beratungen davon leiten lassen, dass man dieses Mandat eng, präzise und so klar wie möglich fasst. In der jetzt vorgelegten Form werden wir ihm nicht zustimmen können. Herzlichen Dank. Nächster Redner ist der Kollege Jürgen Hardt von der CDU/CSU. '},\n",
       " {'date': '2017-11-21',\n",
       "  'discussion_title': 'Tagesordnungspunkt 2 2017-11-21',\n",
       "  'id': 'ID19201000',\n",
       "  'name': 'Alexander Graf Lambsdorff',\n",
       "  'party': 'FDP',\n",
       "  'period': '19',\n",
       "  'text': 'Sehr geehrter Herr Präsident! Meine Damen und Herren! Liebe Kolleginnen und Kollegen! Wir beraten in dieser Sitzungswoche gleich sieben Bundeswehrmandate für Einsätze im Ausland. Im Rahmen dieser Auslandseinsätze erfüllen unsere Soldatinnen und Soldaten wichtige Aufträge in den Einsatzgebieten. Ich schließe mich ausdrücklich dem Dank der Bundesverteidigungsministerin und anderer Kollegen an die Soldatinnen und Soldaten an, auch im Namen meiner Fraktion, und will hier eines gleich sagen: Dass die AfD die erste Rede in diesem Parlament dazu missbraucht, um die Soldatinnen und Soldaten zu Helfern von Schlepperbanden zu erklären, spricht Bände über ihre Geisteshaltung, die sie hier in dieses Haus einbringen. Die Auslandseinsätze der Bundeswehr sind genau wie unser diplomatisches und unser entwicklungspolitisches Engagement weltweit ein sichtbarer Ausdruck der Verantwortung, die wir als Bundesrepublik global übernehmen. Uns als Freien Demokraten ist wichtig, dass wir die Entscheidung über jedes einzelne Mandat verlässlich und sorgfältig treffen – mit Blick auf den strategischen Gesamtzusammenhang und in enger Absprache mit unseren internationalen Partnern. Verlässlichkeit und Berechenbarkeit, Dialog und Ausgleich: Das sind die Grundprinzipien liberaler Außen- und Sicherheitspolitik, meine Damen und Herren. Wir Freie Demokraten setzen auf eine internationale Ordnung, die auf den Regeln des Völkerrechts, besonders auf der Charta der Vereinten Nationen, beruht. Aber wir wissen, dass Deutschland diese Ordnung alleine nicht garantieren kann. Deshalb ist es umso wichtiger, dass Deutschland auf eine kluge Gemeinsame Außen- und Sicherheitspolitik in der Europäischen Union, auf handlungsfähige internationale Organisationen, besonders die UNO, und auf starke Allianzen und Bündnisse, besonders die NATO, setzt. Die FDP, meine Damen und Herren, steht zum Konsens der Münchner Sicherheitskonferenz von 2014, dass Deutschland in den kommenden Jahren mehr internationale Verantwortung übernehmen muss. Unsere europäischen und internationalen Partner verlassen sich darauf, dass wir hierzu bereit sind. Der französische Präsident Emmanuel Macron hat in seiner wichtigen Rede an der Sorbonne als erstes Schlüsselelement der europäischen Souveränität das Thema Sicherheit genannt. Er hat vorgeschlagen, Wege hin zu einer gemeinsamen europäischen strategischen Kultur zu beschreiten. Wir unterstützen das. Wir unterstützen auch seine praktischen Vorschläge zu einem intensivierten Personalaustausch zwischen nationalen Streitkräften. Wir unterstützen ebenfalls die Ständige Strukturierte Zusammenarbeit, die Deutschland gemeinsam mit 22 anderen europäischen Staaten im November dieses Jahres auf den Weg gebracht hat. Jetzt gilt es, alle diese Ideen, auch die PESCO, mit Leben zu erfüllen, indem wir gezielt gemeinsame europäische Verteidigungsprojekte umsetzen. Die Trendwende zu einer europäischen Verteidigungsunion muss jetzt gelingen. Vor diesem Hintergrund ist es zwingend notwendig, dass unseren Soldatinnen und Soldaten die bestmögliche Ausbildung und Ausrüstung, der bestmögliche Schutz im Einsatz und die bestmögliche Betreuung vor, während und nach den Einsätzen zur Verfügung gestellt werden. Und weil ich mir schon denken kann, was gleich von der Linksfraktion kommt, sage ich ausdrücklich: Ich rede von Ausrüstung und nicht von Aufrüstung. Unsere Soldatinnen und Soldaten haben einen Anspruch darauf, mit dem bestmöglichen Material in ihre lebensgefährlichen Einsätze geschickt zu werden. Wir dürfen die Fähigkeitslücken, die in den letzten Jahren entstanden sind, nicht offen lassen. Es kann doch zum Beispiel nicht sein, dass wir heute zu wenige einsatzbereite Piloten für den Kampfhubschrauber Tiger zur Verfügung haben, weil, bedingt durch kurzfristige Einsatzverpflichtungen in Afghanistan 2013 und 2014, keine Pilotenausbildung stattfinden konnte. Kurzfristige Herausforderungen eines Einsatzes dürfen nicht dazu führen, dass wir langfristig Fähigkeiten einbüßen. Das gilt auch für das Schlüsselthema Personal. Die Gewinnung, der Erhalt und die Ausbildung von zivilem sowie militärischem Personal bleibt unverändert eine Zukunftsfrage für die Bundeswehr. Hier hat die amtierende Bundesregierung noch keine überzeugenden Konzepte vorgelegt. Das aber ist zwingend notwendig; denn die materielle und personelle Einsatzbereitschaft der Bundeswehr wird zukünftig bestimmen, in welcher Form und Qualität sich Deutschland überhaupt an Auslandseinsätzen beteiligen kann. Mit der Beteiligung an der Mission Sea Guardian leistet Deutschland einen wichtigen Beitrag unter anderem zur Seeraumüberwachung im Mittelmeer, bei der Unterstützung der Operation Sophia und bei der maritimen Bekämpfung des Terrorismus. Unsere Partner erwarten von uns, dass wir diese Mission weiterhin unterstützen. Daher unterstützen auch wir als Freie Demokraten die Verlängerung des Einsatzes und die Überweisung an den Ausschuss, damit unsere Soldatinnen und Soldaten die rechtliche Sicherheit für ihren Einsatz haben, die sie brauchen. Herzlichen Dank. Das Wort hat der Kollege Dr. Neu von der Fraktion Die Linke. '}]"
      ]
     },
     "execution_count": 10,
     "metadata": {},
     "output_type": "execute_result"
    }
   ],
   "source": [
    "untermenge"
   ]
  },
  {
   "cell_type": "code",
   "execution_count": null,
   "metadata": {},
   "outputs": [],
   "source": []
  },
  {
   "cell_type": "markdown",
   "metadata": {},
   "source": [
    "## Stichwort suchen\n",
    "\n",
    "Wir haben alle Reden nun in einer Liste und schreiben hier eine Funktion, um nur diejenigen zu bekommen, die ein bestimmtes Wort enthalten. Wie eben auch, definieren wir zunächst die Funktion und es folgt der Aufruf."
   ]
  },
  {
   "cell_type": "code",
   "execution_count": null,
   "metadata": {},
   "outputs": [],
   "source": [
    "def suche(such_term):\n",
    "    speeches = []\n",
    "    for speech in alleReden:\n",
    "        if such_term in speech['text'] :\n",
    "            speeches.append(speech)\n",
    "    speeches.sort(key = lambda x:x['date']) \n",
    "    return speeches\n",
    "\n",
    "Stichwort = \"gendern\"\n",
    "Reden = []\n",
    "Reden = suche(Stichwort)"
   ]
  },
  {
   "cell_type": "markdown",
   "metadata": {},
   "source": [
    "Schauen wir doch mal, wie viele Reden das sind ..."
   ]
  },
  {
   "cell_type": "code",
   "execution_count": null,
   "metadata": {},
   "outputs": [],
   "source": [
    "len(Reden)"
   ]
  },
  {
   "cell_type": "markdown",
   "metadata": {},
   "source": [
    "... und was drin ist:"
   ]
  },
  {
   "cell_type": "code",
   "execution_count": null,
   "metadata": {},
   "outputs": [],
   "source": [
    "Reden"
   ]
  },
  {
   "cell_type": "markdown",
   "metadata": {},
   "source": [
    "# Ziel:\n",
    "\n",
    "## <font color='red'>Es wäre super, wenn nächste Woche alle bis hier hin kommen und die Daten in ein Notebook laden können!</font>\n"
   ]
  },
  {
   "cell_type": "markdown",
   "metadata": {},
   "source": [
    "# Semantische Netzwerke von Bundestagsreden\n",
    "\n",
    "Semantische Netzwerke (A) können diesen groben Überblick ein wenig schärfen, denn sie geben einen Einblick in die semantischen Beziehungen zwischen den Reden. In den meisten Fällen (und so auch hier) wird die Ähnlichkeit zwischen zwei Reden definiert über die Anzahl der Worte, die in beiden Reden vorkommen (A). Hier generieren wir zunächst ein Netzwerk, in dem die Knoten, einzelne Reden sind, und die Kanten die Anzahl der geteilten Worte enthalten.\n",
    "\n",
    "## StatementGraphGenerator\n",
    "\n",
    "Genau das macht die entsprechende Penelope Komponente StatementGraphGenerator, die auf https://penelope.digitalmethods.net/ unter Network Tools gelistet ist. Wir müssen zunächst eine Transformation durchführen, da die Penelope-Komponente, die wir aufrufen wollen, nicht alle Informationen benötigt/versteht (A). "
   ]
  },
  {
   "cell_type": "code",
   "execution_count": null,
   "metadata": {},
   "outputs": [],
   "source": [
    "input_list = []\n",
    "for rede in Reden:\n",
    "            input_dict = {\n",
    "                'name'  : rede[\"name\"],\n",
    "                'party' : rede[\"party\"],\n",
    "                'text'  : rede[\"text\"]\n",
    "            }\n",
    "            input_list.append(input_dict)    "
   ]
  },
  {
   "cell_type": "markdown",
   "metadata": {},
   "source": [
    "Diese neue Liste wird nun dem StatementGraphGenerator aus Penelope übergeben. Außerdem sagen wir der Komponente, dass es sich um Deutsche Sprache handelt (\"de\"), dass wir nur Nomen berücksichtigen wollen und, dass wir gewisse Worte (z.B. die immer gleiche Anrede am Anfang) eigentlich nicht berücksichtigen wollen. Auch das Stichwort ist ja in allen Reden enthalten und also für diese Analyse nicht interessant.\n",
    "\n",
    "Je nach Anzahl der Reden und Schnelligkeit der Internetverbindung, kann dieser Aufruf einige Zeit in Anspruch nehmen."
   ]
  },
  {
   "cell_type": "code",
   "execution_count": null,
   "metadata": {},
   "outputs": [],
   "source": [
    "json = {\n",
    "          \"data\": input_list,\n",
    "          \"language\": \"de\",\n",
    "          \"relevant_pos\": [\"NOUN\",\"PROPN\"],\n",
    "          \"ignore\": [Stichwort,'Herr','Frau','Präsident','Präsidentin', 'Damen', 'Herren']\n",
    "}\n",
    "\n",
    "result = requests.post('https://penelope.vub.be/network-components/statementgraphgenerator', json=json)\n",
    "result"
   ]
  },
  {
   "cell_type": "markdown",
   "metadata": {},
   "source": [
    "Zum Schluss übergeben wird das Resultat und schauen uns einmal an, wie viele Knoten und Kanten das enthält."
   ]
  },
  {
   "cell_type": "code",
   "execution_count": null,
   "metadata": {},
   "outputs": [],
   "source": [
    "graph = result.json()\n",
    "print(len(graph['links']),\n",
    "len(graph['nodes']))\n",
    "graph"
   ]
  },
  {
   "cell_type": "markdown",
   "metadata": {},
   "source": [
    "## Statistischer Überblick über die Kanten\n",
    "\n",
    "Der StatementGraphGenerator ist eigentlich für kürzere Aussagen optimiert, wo ein geteiltes Wort sehr spezifische Informationen enthalten kann. Für längere Reden ist es sehr wahrscheinlich, dass es Worte gibt, die von allen Rednern verwendet worden, was dazu führt, dass Kanten von jedem zu jedem entstehen. Daher sind andere Definitionen semantischer Ähnlichkeit besser geeignet und könnten in den StatementGraphGenerator integriert werden (A). Wir wollen uns einen Überblick verschaffen.\n",
    "\n",
    "Dazu importieren wir eine gängige Python Library (pyplot) für Datenvisualisierung. Wir extrahieren die Kantengewichte, um der Verteilung zu visualisieren."
   ]
  },
  {
   "cell_type": "code",
   "execution_count": null,
   "metadata": {},
   "outputs": [],
   "source": [
    "import matplotlib.pyplot as plt\n",
    "\n",
    "weights=[]\n",
    "for link in graph['links']:\n",
    "    weights.append(link['weight'])\n",
    "\n",
    "plt.hist(weights, bins=25)\n",
    "plt.title(\"Distribution of Weights\")\n",
    "plt.xlabel(\"Wert\")\n",
    "plt.ylabel(\"Häufigkeit\")\n",
    "plt.show()"
   ]
  },
  {
   "cell_type": "markdown",
   "metadata": {},
   "source": [
    "## Ausdünnung / Thresholding\n",
    "\n",
    "Mehr thematische Struktur wird sichtbar, wenn wir nur Reden verbinden, die viele Worte gemeinsam haben. Das heißt, wir löschen die Kanten, deren Gewicht unter einem bestimmten Wert (threshold) liegt. Was hier der richtige Wert ist, ist immer wieder eine spannende Frage (A)."
   ]
  },
  {
   "cell_type": "code",
   "execution_count": null,
   "metadata": {},
   "outputs": [],
   "source": [
    "newlinks = []\n",
    "for link in graph['links']:\n",
    "    if link['weight'] > 100:\n",
    "        newlinks.append(link)\n",
    "graph['links'] = newlinks \n",
    "len(graph['links'])"
   ]
  },
  {
   "cell_type": "code",
   "execution_count": null,
   "metadata": {},
   "outputs": [],
   "source": []
  },
  {
   "cell_type": "markdown",
   "metadata": {},
   "source": [
    "## Netzwerkvisualisierung\n",
    "\n",
    "Nun wollen wir uns dieses Netzwerk anschauen. Dazu benutzen wir den Interactive Visualiser ebenfalls aus dem Paket Network Tools bei Penelope. Diesem übergeben wir den Graphen. Außerdem können wir angeben, welches Attribut farblich kodiert sein soll und welcher Text sichtbar sein soll. \n",
    "\n",
    "Auch dieser Aufruf kann einige Zeit in Anspruch nehmen."
   ]
  },
  {
   "cell_type": "code",
   "execution_count": null,
   "metadata": {},
   "outputs": [],
   "source": [
    "json = {'data':graph, \n",
    "        'nodecoloring':'party', \n",
    "        'nodelabel': 'text', \n",
    "        \"darkmode\": False,\n",
    "        \"edgevisibility\": True,\n",
    "        \"particles\": False\n",
    "       }\n",
    "result = requests.post('https://penelope.vub.be/network-components/visualiser', json=json)\n",
    "result"
   ]
  },
  {
   "cell_type": "markdown",
   "metadata": {},
   "source": [
    "Das Resultat speichern wir in einem HTML-File. "
   ]
  },
  {
   "cell_type": "code",
   "execution_count": null,
   "metadata": {},
   "outputs": [],
   "source": [
    "with open (f\"./redenet{Stichwort}.html\", \"w\", encoding='utf-8') as f:\n",
    "    f.write(result.json()['graph'])"
   ]
  },
  {
   "cell_type": "markdown",
   "metadata": {},
   "source": [
    "---\n",
    "\n"
   ]
  },
  {
   "cell_type": "markdown",
   "metadata": {},
   "source": [
    "# Fine Tuning und Erkundungen\n",
    "\n",
    "### <font color='red'>Hier ist der Bereich, in dem ich einige Dinge ausprobiere.</font>\n",
    "\n",
    "Das müsst ihr jetzt noch nicht unbedingt anschauen. Wahrscheinlich wird auch nicht alles funktionieren, da ich Bibliotheken lade (spacy), deren Installation etwas aufwendiger ist.\n"
   ]
  },
  {
   "cell_type": "code",
   "execution_count": null,
   "metadata": {},
   "outputs": [],
   "source": [
    "import tqdm\n",
    "import spacy\n",
    "#nlp = spacy.load('de') #load spacy model\n",
    "\n",
    "from collections import Counter\n",
    "import collections"
   ]
  },
  {
   "cell_type": "code",
   "execution_count": null,
   "metadata": {},
   "outputs": [],
   "source": [
    "def StatementGraphGenerator(inParams):\n",
    "\n",
    "    stm_list = inParams['data']\n",
    "    \n",
    "    if inParams['language'] == 'en':\n",
    "        nlp = spacy.load('en_core_web_sm') #load english spacy model\n",
    "    elif inParams['language'] == 'de':\n",
    "        nlp = spacy.load('de_core_news_sm') #load german spacy model\n",
    "    elif inParams['language'] == 'fr':\n",
    "        nlp = spacy.load('fr_core_news_sm') #load french spacy model\n",
    "    elif inParams['language'] == 'es':\n",
    "        nlp = spacy.load('es_core_news_sm') #load spanish spacy model\n",
    "    elif inParams['language'] == 'pt':\n",
    "        nlp = spacy.load('pt_core_news_sm') #load portuguese spacy model\n",
    "    elif inParams['language'] == 'it':\n",
    "        nlp = spacy.load('it_core_news_sm') #load italian spacy model\n",
    "    elif inParams['language'] == 'nl':\n",
    "        nlp = spacy.load('nl_core_news_sm') #load dutch spacy model\n",
    "    elif inParams['language'] == 'el':\n",
    "        nlp = spacy.load('el_core_news_sm') #load greek spacy model\n",
    "    elif inParams['language'] == 'nb':\n",
    "        nlp = spacy.load('nb_core_news_sm') #load norwegian bokmal spacy model\n",
    "    elif inParams['language'] == 'lt':\n",
    "        nlp = spacy.load('lt_core_news_sm') #load lithuanian spacy model\n",
    "    elif inParams['language'] == 'xx':\n",
    "        nlp = spacy.load('xx_ent_wiki_sm') #load multi-language spacy model\n",
    "\n",
    "    else:\n",
    "        print('ERROR! Language not supported!')\n",
    "        \n",
    "    relevantPOS = inParams['pos']\n",
    "    ignoreLEM = inParams['ignore']\n",
    "    \n",
    "    # 1.2.2 Note: requires spacy and language model to be loaded\n",
    "    print('apply nlp pipeline')\n",
    "    for value in tqdm.tqdm(stm_list):\n",
    "        doc = nlp(value['text'])\n",
    "        value.update({'doc' : doc})\n",
    "    \n",
    "    # 1.2.3\n",
    "    # Data cleaning options\n",
    "    print('filter words')\n",
    "    #relevantPOS = ['NOUN','VERB','ADJ']\n",
    "    #ignoreLEM = ['Herr','Kollege','Dame','Frau','Präsident']\n",
    "    #ignoreLEM = []\n",
    "\n",
    "    stm_list_nlp = []\n",
    "    statements_lemma_list = []\n",
    "    #statements_pos_list = []\n",
    "    for stm in tqdm.tqdm(stm_list):\n",
    "        lemmas = []\n",
    "        pos = []\n",
    "        for token in stm['doc']:\n",
    "            if token.is_punct is not True and token.is_stop is not True and token.pos_ in relevantPOS and token.lemma_ not in ignoreLEM:\n",
    "                lemmas.append(token.lemma_)\n",
    "                pos.append(token.pos_)\n",
    "        stm.update({'lemmata' : lemmas})    \n",
    "        statements_lemma_list.append(lemmas)\n",
    "        #statements_pos_list.append(pos)\n",
    "\n",
    "    # 1.2.4\n",
    "    print('count and order lemmata')\n",
    "    flattened = [val for lemmas in statements_lemma_list for val in lemmas]\n",
    "    lemma_frequency_list = collections.Counter(flattened).most_common()\n",
    "    all_lemmata_list = [ i[0] for i in lemma_frequency_list ]\n",
    "    all_lemmata_count = [ i[1] for i in lemma_frequency_list ]\n",
    "\n",
    "    # remove single items\n",
    "    # 1.2.5\n",
    "    print('remove singles')\n",
    "    all_freq_lemmata_list = [ all_lemmata_list[i] for i,v in enumerate(all_lemmata_list) if (all_lemmata_count[i] > 1) ]\n",
    "    all_freq_lemmata_count = [ all_lemmata_count[i] for i,v in enumerate(all_lemmata_count) if (all_lemmata_count[i] > 1) ]\n",
    "        \n",
    "    all_lemmata_list = all_freq_lemmata_list\n",
    "    all_lemmata_count = all_freq_lemmata_count \n",
    "\n",
    "    # Construct word browsable dict for later use in semantic relatedness computation\n",
    "    wordscounts_dict = {}\n",
    "    for lx,lem in enumerate(all_lemmata_list):\n",
    "        wordscounts_dict.update({ lem : all_lemmata_count[lx] })\n",
    " \n",
    "    # From this file\n",
    "    stmnet_dict = {\n",
    "        'nodes' : [],\n",
    "        'links' : []\n",
    "        }    \n",
    " \n",
    "\n",
    "    for ix,stm in enumerate(stm_list):\n",
    "        if len(stm['lemmata']) > 0:\n",
    "            node_dict = {\n",
    "                'id' : ix+1\n",
    "            }\n",
    "            for ele in stm:\n",
    "                if ele != 'lemmata' and ele != 'doc':\n",
    "                    node_dict.update({ele : stm[ele]})\n",
    "            \n",
    "            mfic = [ lem for lem in all_lemmata_list if (lem in stm['lemmata'] )]\n",
    "            freqI = collections.Counter(stm['lemmata']).most_common()\n",
    "            #lemmataI = [ i[0] for i in freqI ]\n",
    "            if len(mfic)>0:\n",
    "                #node_dict.update({'mfic' : mfic[0]})\n",
    "                node_dict.update({'mfic' : freqI[0]})\n",
    "            else:\n",
    "                node_dict.update({'mfic' : ' '})\n",
    "    \n",
    "            stmnet_dict['nodes'].append(node_dict)\n",
    "    \n",
    "    \n",
    "    #stmnet_dict['graph']['edges'] = []\n",
    "    for nodeI in tqdm.tqdm(stmnet_dict['nodes']):\n",
    "        stmI = stm_list[ nodeI['id']-1 ]['lemmata']\n",
    "        for nodeJ in stmnet_dict['nodes']:     \n",
    "            if nodeI['id'] < nodeJ['id']:\n",
    "                stmJ = stm_list[ nodeJ['id']-1 ]['lemmata']\n",
    "                overlap = [ lem for lem in set(stmI) if (lem in set(stmJ))]  # set overlap\n",
    "                weight = len(overlap) #/ (len(stmI)+len(stmJ))\n",
    "                if (len(overlap) > 0):\n",
    "                    edge_dict = {\n",
    "                        'source' : nodeI['id'],\n",
    "                        'target' : nodeJ['id'],\n",
    "                        'weight' : weight\n",
    "                        }\n",
    "                    stmnet_dict['links'].append(edge_dict)\n",
    "    \n",
    "    return stmnet_dict"
   ]
  },
  {
   "cell_type": "code",
   "execution_count": null,
   "metadata": {},
   "outputs": [],
   "source": [
    "Stichwort = \"Darfur\"\n",
    "Reden = []\n",
    "Reden = suche(Stichwort)\n",
    "len(Reden)"
   ]
  },
  {
   "cell_type": "code",
   "execution_count": null,
   "metadata": {},
   "outputs": [],
   "source": [
    "\n",
    "input_list = []\n",
    "for rede in Reden:\n",
    "            input_dict = {\n",
    "                'name'  : rede[\"name\"],\n",
    "                'party' : rede[\"party\"],\n",
    "                'text'  : rede[\"text\"]\n",
    "            }\n",
    "            input_list.append(input_dict) \n",
    "\n",
    "json = {\n",
    "          \"data\": input_list,\n",
    "          \"language\": \"de\",\n",
    "          \"pos\": [\"PROPN\"],\n",
    "          \"ignore\": [Stichwort,'Herr','Frau','Präsident','Präsidentin', 'Damen', 'Herren']\n",
    "}\n",
    "\n",
    "graph = StatementGraphGenerator(json)"
   ]
  },
  {
   "cell_type": "code",
   "execution_count": null,
   "metadata": {},
   "outputs": [],
   "source": [
    "print(len(graph['links']),\n",
    "len(graph['nodes']))\n",
    "\n",
    "weights=[]\n",
    "for link in graph['links']:\n",
    "    weights.append(link['weight'])\n",
    "\n",
    "plt.hist(weights, bins=25)\n",
    "plt.title(\"Distribution of Weights\")\n",
    "plt.xlabel(\"Wert\")\n",
    "plt.ylabel(\"Häufigkeit\")\n",
    "plt.show()"
   ]
  },
  {
   "cell_type": "code",
   "execution_count": null,
   "metadata": {},
   "outputs": [],
   "source": [
    "newlinks = []\n",
    "for link in graph['links']:\n",
    "    if link['weight'] > 3:\n",
    "        newlinks.append(link)\n",
    "graph['links'] = newlinks \n",
    "print(len(graph['links']))"
   ]
  },
  {
   "cell_type": "code",
   "execution_count": null,
   "metadata": {},
   "outputs": [],
   "source": [
    "\n",
    "\n",
    "json = {'data':graph, \n",
    "        'nodecoloring':'party', \n",
    "        'nodelabel': 'mfic', \n",
    "        \"darkmode\": False,\n",
    "        \"edgevisibility\": True,\n",
    "        \"particles\": False\n",
    "       }\n",
    "result = requests.post('https://penelope.vub.be/network-components/visualiser', json=json)"
   ]
  },
  {
   "cell_type": "code",
   "execution_count": null,
   "metadata": {},
   "outputs": [],
   "source": [
    "with open (f\"./redenet{Stichwort}.html\", \"w\") as f:\n",
    "    f.write(result.json()['graph'])"
   ]
  },
  {
   "cell_type": "code",
   "execution_count": null,
   "metadata": {},
   "outputs": [],
   "source": [
    "import re\n",
    "re.compile('[A-Z]{3}')"
   ]
  },
  {
   "cell_type": "code",
   "execution_count": null,
   "metadata": {},
   "outputs": [],
   "source": [
    "print(graph['nodes'][0])"
   ]
  },
  {
   "cell_type": "code",
   "execution_count": null,
   "metadata": {},
   "outputs": [],
   "source": [
    "#for node in graph['nodes']:\n",
    "#    print(node['mfic'])"
   ]
  },
  {
   "cell_type": "code",
   "execution_count": null,
   "metadata": {},
   "outputs": [],
   "source": [
    "\n",
    "\n",
    "text ='Sehr geehrte Frau Präsidentin! Werte Kolleginnen und Kollegen! Klimaschutz ist eine große Herausforderung. Er ist wichtig, für manche Inseln im Pazifik ist er eine Überlebensfrage. Aber auch bei uns in Deutschland sind die Auswirkungen des Klimawandels bereits spürbar. Die Entwicklung von Innovationen im Bereich Klimaschutz ist eine Riesenchance für die Wirtschaft. Wir müssen am Ball bleiben. Wir müssen den Wandel gestalten. Wir dürfen ihn nicht verschlafen. Ich war gestern im Umweltministerium, wo der Deutsche Innovationspreis für Klima und Umwelt an mutige Unternehmer verliehen wurde. Auch mir machte diese Veranstaltung Mut, weil ich gesehen habe, mit welcher Kraft und mit welcher Überzeugung die Unternehmer bei der Sache sind. Es wurden tolle Projekte vorgestellt. Zum Beispiel kann Papier aus Gras hergestellt werden, um die Ressource Holz als wertvollen CO 2 -Speicher zu schonen. Ein weiteres Projekt war eine energiesparende Maschine zur Stoffherstellung, die gleichzeitig spinnt und strickt. Sie sehen: Es gibt eine Menge Innovationen durch mutige mittelständische Unternehmer, wodurch Arbeitsplätze geschaffen und auch erhalten werden können. Im ausverhandelten Koalitionsvertrag haben wir ganz klar festgehalten, dass wir uns zu unseren nationalen, europäischen und internationalen Klimazielen bekennen, und zwar in allen Sektoren. Dafür habe ich mich als Klimapolitikerin persönlich eingesetzt. Damit zeigen wir: Wir nehmen unsere klimapolitische Verantwortung wahr, in Deutschland und in der Welt. Für uns ist aber auch wichtig, wie wir dieses Ziel erreichen. Das wollen wir durch Anreize statt Zwang und durch Technologieoffenheit bewerkstelligen. Wir wollen auch sicherstellen, dass unsere Wirtschaft als Basis unseres Wohlstands international wettbewerbsfähig bleibt. Außerdem soll die Energieversorgungssicherheit weiterhin gewährleistet werden. Es liegt eine Studie der deutschen Industrie vor, die sich damit befasst hat, wie wir das langfristige Klimaziel bezogen auf 2050 erreichen wollen. Die Studie besagt: Das wird schwierig, aber es kann funktionieren. Und auch die Wirtschaft sagt: Die Wirtschaft kann Wandel. Sie hat es bei der Industrialisierung bewiesen. Jetzt nimmt sie die Herausforderungen der Digitalisierung an, Stichwort Industrie 4.0. Die Wirtschaft kann auch Klimaschutz, wenn die Politik verlässliche Rahmenbedingungen schafft und Anreize zum Beispiel für effiziente Umwelttechnologien setzt. Und genau das machen wir, meine Damen und Herren. Wenn Sie, die Antragsteller, deren Vorlagen wir heute beraten, den ausgehandelten Koalitionsvertrag aufmerksam lesen, dann werden Sie feststellen, dass viele Ihrer Punkte bereits enthalten sind, zum Beispiel die Forderung nach einer konsequenten Energieeffizienzpolitik. Es gibt bereits den Nationalen Aktionsplan Energieeffizienz, den wir weiterentwickeln werden. Außerdem wollen wir eine ambitionierte, sektorübergreifende Energieeffizienzstrategie unter dem Leitprinzip „Efficiency first“ installieren. Wir haben uns das ehrgeizige Ziel gesetzt, eine Halbierung des Energieverbrauchs bis 2050 zu schaffen. Im Koalitionsvertrag ist vorgesehen, bis 2030 einen Anteil an erneuerbaren Energien von 65 Prozent zu erreichen. Ebenso haben wir verankert – ich muss ganz ehrlich sagen: endlich –, die energetische Gebäudesanierung steuerlich zu fördern. In vielen Reden an diesem Rednerpult habe ich gefordert, dass wir dieses Klimaschutzinstrument nutzen. Meine Damen und Herren, ich setze darauf, dass nun auch die Grünen in den Bundesländern für dieses Instrument werben; denn in den Jamaika-Sondierungen war die Einführung dieses Instruments Konsens. Damit bin ich beim Thema: Wie sollen diese Instrumente ausgestaltet sein? Wie soll dieses Steuerungsinstrument ausgestaltet sein? Wir setzen auf Anreize statt auf Zwang. Unser Vorschlag sieht ein Wahlrecht des Antragstellers vor: Zuschussförderung oder Reduzierung des zu versteuernden Einkommens. Damit erreichen wir einen möglichst großen Personenkreis. Daneben wollen wir das CO 2 -Gebäudesanierungsprogramm fortführen und damit den Austausch alter, ineffizienter Heizungen fördern. Ferner wollen wir eine Kommission einsetzen, die auf Basis und in Vernetzung mit dem laufenden Prozess zur Umsetzung des Klimaschutzplans bis Ende des Jahres Maßnahmen vorschlagen soll, wie die Lücke zur Erreichung des Klimaziels 2020 so schnell wie möglich reduziert werden kann und im Energiesektor das 2030-Ziel erreicht werden kann. Dazu zählt auch die schrittweise Reduzierung und Beendigung der Kohleverstromung. Das Abschlussdatum für die Kohleverstromung soll ebenfalls durch diese Kommission festgelegt werden. Hört! Hört! Meine Damen und Herren, das geht sogar über das hinaus, was am Ende der Jamaika-Sondierungen ausverhandelt war. In den Jamaika-Verhandlungen lag der Fokus – Herr Dr. Köhler hat es bereits erwähnt – auf dem überhasteten, schnellen Stilllegen, auf der Reduzierung der Kapazität der Kohleverstromung um 7 Gigawatt vor 2020, und zwar ohne Rücksicht auf die Arbeitsplätze. Auch wir wollen die schrittweise Reduzierung der Kohleverstromung; aber wir wollen dabei die Energieversorgung weiterhin sicherstellen. Wir wollen, dass Energie für Verbraucher und Wirtschaft bezahlbar bleibt. Das ist ganz wichtig. Ich habe das Gefühl, das wird von den Grünen öfter ausgeblendet. Außerdem wollen wir nicht, dass es in den betroffenen Regionen zu Strukturbrüchen kommt. Sie sehen: Wir reden nicht nur, sondern wir handeln auch, aber durchdacht und mit Weitsicht. Zur Globalen Allianz für den Kohleausstieg, die in einem Antrag erwähnt wird: Gefordert wird, dass Deutschland dieser Allianz beitritt. Ich habe mir die Mühe gemacht, mir den Energiemix der teilnehmenden Staaten anzusehen. Man muss sich da ehrlich machen. Wie ist das in Frankreich? Dort stammen nur 3 bis 4 Prozent der Stromproduktion aus der Kohle, und Frankreich will von dem Ziel abrücken, den Strom aus Kernenergie bis 2025 auf 50 Prozent zu reduzieren. Kanada investiert mehr als 25 Milliarden in Atomreaktoren, damit sie für weitere 25 bis 30 Jahre laufen. Großbritannien will aus der Kohleverstromung aussteigen, gleichzeitig aber den Anteil des Stroms aus Kernenergie deutlich steigern. Wir wollen beides: Wir wollen die Kohleverstromung reduzieren und den Ausstieg aus der Kernenergienutzung weiter gestalten. Keiner behauptet, dass das leicht ist. Dennoch gehen wir diesen Weg voller Überzeugung für unsere Kinder, für unsere Enkel und für die Menschen, die darauf setzen, dass die Politik die Weichen richtig stellt und durch Innovationen im Umweltbereich Arbeitsplätze erhalten und geschaffen werden. Vielen Dank. Vielen Dank, Dr. Weisgerber. – Nächste Rednerin: Bundesministerin Dr. Barbara Hendricks für die Bundesregierung.'\n",
    "text2 = 'Vielen Dank. – Herr Präsident! Liebe Kolleginnen und Kollegen! Seit dem Jahr 2007 leistet die United Nations Hybrid Operation in Darfur, UNAMID, einen wichtigen Beitrag, um den langjährigen Konflikt im Sudan um die Region Darfur zu lösen. Seit dem Jahr 2008 beteiligt sich Deutschland mit den von der Mandatsobergrenze her erlaubten bis zu 50 Soldatinnen und Soldaten an dieser Mission. Aktuell sind sieben deutsche Soldatinnen und Soldaten bei UNAMID im Einsatz. Sie dienen im Hauptquartier in al-Fashir und unterstützen die Missionsführung von UNAMID bei der Umsetzung ihrer anspruchsvollen Aufgaben. UNAMID ist wie UNMISS – darüber diskutieren wir anschließend – ein Mandat, das sich in unser politisches, sicherheits- und entwicklungspolitisches sowie humanitäres Gesamtengagement in der Region und im Rahmen der Vereinten Nationen einfügt. Die gesamte Sudan-Sahel-Region steht großen Herausforderungen gegenüber. Es seien die Stichworte genannt: Terrorismus, organisierte Kriminalität, Flucht und Migration. Das nachhaltige Engagement der internationalen Gemeinschaft zur regionalen Stabilisierung ist und bleibt daher von entscheidender Bedeutung. Auftrag von UNAMID ist die Überwachung des Waffenstillstandsabkommens von Darfur aus dem Jahr 2006, die Sicherung eines humanitären Zugangs zur Region, die Unterstützung und Überwachung der Vermittlungsbemühungen in Konflikten zwischen den Bevölkerungsgruppen sowie der Schutz und die Unterstützung der Zivilbevölkerung. Deutschland, liebe Kolleginnen und Kollegen, ist derzeit die einzige europäische Nation bei UNAMID. Unsere fortgesetzte Beteiligung ist deshalb auch ein wichtiges Zeichen an die Vereinten Nationen, an die Afrikanische Union, dass wir die Friedensanstrengungen der internationalen Gemeinschaft in Darfur weiterhin unterstützen. Sie ist zudem ein wichtiges Zeichen und wesentlicher Rückhalt für die Bemühungen der sudanesischen Akteure, selbst zur Verbesserung der Sicherheitslage und politischen Konfliktlösung in Darfur zu kommen. Liebe Kolleginnen und Kollegen, angesichts positiver Entwicklungen im Sudan hat der Sicherheitsrat der Vereinten Nationen im Juni dieses Jahres eine Neuausrichtung von UNAMID beschlossen. Diese sieht innerhalb der nächsten zwei Jahre eine Reduzierung des militärischen Anteils um circa 45 Prozent der Kräfte, vor allem in der Fläche, und des polizeilichen Anteils um circa 26 Prozent der Kräfte vor. Damit einher geht eine Akzentverschiebung zu mehr zivil geprägtem Peacekeeping und Peacebuilding. Der Schwerpunkt von UNAMID wird aber weiterhin in einem Beitrag zum Schutz der Zivilbevölkerung sowie in der Unterstützung der Vermittlungsbemühungen zwischen den Konfliktparteien liegen. Eine erste Bewertung dieser Anpassung durch die Vereinten Nationen Anfang kommenden Jahres werden wir selbstverständlich mit großem Interesse aufnehmen. Sie muss insbesondere die Realitäten am Boden berücksichtigen. Liebe Kolleginnen und Kollegen, trotz dieser positiven Signale bleibt die Lage in Darfur insgesamt angespannt und instabil. Insbesondere die humanitäre Situation ist mit allein 2,1 Millionen Binnenvertriebenen vor allem in humanitärer Hinsicht katastrophal. UNAMID wird deshalb auch in Zukunft eine Schlüsselrolle in Darfur spielen. Die Mission dient als stabilisierendes Element zur Verbesserung der Sicherheitslage, zur Sicherung des humanitären Zugangs nach Darfur, zur Überwachung und Verbesserung der Menschenrechtslage sowie zur Begleitung der politischen Friedensbemühungen. Daher ist es wichtig, dass auch Deutschland sein Engagement in dieser wichtigen VN-Mission unverändert fortführt. Es ist, wie gesagt, eine kleine Mission; 50 Soldatinnen und Soldaten ist die Obergrenze. Wir sind mit Stabspersonal dort. Es ist eine wichtige Mission: humanitär und politisch. Es ist wichtig, dass wir unsere Solidarität nicht verweigern. Liebe Kolleginnen und Kollegen, bei allem, was noch zu tun ist, bei allen fortdauernden Herausforderungen und Katastrophen möchte ich daran erinnern, dass der damalige UN-Generalsekretär Kofi Annan zurzeit des Bürgerkrieges Darfur als den furchtbarsten Platz auf der Erde bezeichnete. Nun will ich nicht vorwegnehmen, was hier in dieser Debatte noch gesagt wird, aber wir haben die eine oder andere Debatte hinter uns. Manche mögen sagen: Der Westen ist schuld an der Katastrophe. Andere möchten vielleicht fragen: Was geht uns das an? Liebe Kolleginnen und Kollegen, beides ist und wäre falsch. Es ist Teil unserer Aufgabe als Bundesrepublik Deutschland, als Europäer, unseren Beitrag zu leisten, dass sich der Fortschritt weiter Bahn bricht und die humanitäre Katastrophe in Darfur, die humanitäre Katastrophe im Sudan ein Ende findet. Dazu sind wir verpflichtet. Dafür bitte ich namens der Bundesregierung um Ihre Unterstützung. Vielen Dank. Nächste Rednerin ist Dr. Bärbel Kofler für die Fraktion der SPD.'\n",
    "doc = nlp(text2)\n",
    "for sent in doc.sents:\n",
    "    for token in sent:\n",
    "        print(token.lemma_,token.pos_)\n"
   ]
  },
  {
   "cell_type": "code",
   "execution_count": null,
   "metadata": {},
   "outputs": [],
   "source": []
  }
 ],
 "metadata": {
  "kernelspec": {
   "display_name": "Python 3",
   "language": "python",
   "name": "python3"
  },
  "language_info": {
   "codemirror_mode": {
    "name": "ipython",
    "version": 3
   },
   "file_extension": ".py",
   "mimetype": "text/x-python",
   "name": "python",
   "nbconvert_exporter": "python",
   "pygments_lexer": "ipython3",
   "version": "3.7.3"
  }
 },
 "nbformat": 4,
 "nbformat_minor": 4
}
