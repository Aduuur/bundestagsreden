{
 "cells": [
  {
   "cell_type": "markdown",
   "id": "7e16f80a",
   "metadata": {},
   "source": [
    "# Einleitung\n",
    "Dieses Jupyter-Notebook dient dem Analysieren und Visualisieren der Kommentare in den Bundestagesreden im Plenarsaal.\n",
    "Im ersten Schritt wurden dahingehend die häufigsten wiederkehrenden Begriffe durch manuelle Suche herausgefiltert und im Gruppenplenum zur weiteren Verwertung für die angestrebte Webseite mittels verschiedener Funktionen in diesem Jupyter-Notebook aufbereitet.\n",
    "Die Funktionen sind zum einem die Tagesordnungspunkte anhand der Redner je Fraktion in die Parteinennungen zu überführen und anschließend je Partei eine statistische Auswertung von definierten Schlagworten zu untersuchen und nach quantitativen Merkmalen aufzuzeigen. \n",
    "Ziel ist somit eine erweiterte Klassifizierung von Zuspruch oder Ablehnung auf Fraktionsebene und somit je Themenbereich ein Meinungsbild für die Fraktionen abzubilden. Somit ist die erweiterte Informationsdarstellung je Thema hinsichtlich einer möglichen Themen-Koalition aufzeigbar. \n",
    "Als Datensatz werden die Plenarprotokolle des deutschen Bundestages für die 20. Wahlperiode https://www.bundestag.de/services/opendata zugrundegelegt. Dabei werden Listen für folgende Schlagworte erstellt:\n",
    "<li>Beifall = positiver Zuspruch und Zustimmung von Fraktionen und/oder einzelnen Personen einer Fraktion</li>\n",
    "<li>Zuruf = positive Wortmeldung einer Fraktionsperson zur Redner-Partei</li>\n",
    "<li>Gegenruf = kritische Wortmeldung einer Fraktionspartei zur Redner-Partei</li>\n",
    "<li>Lachen = situativ-abhängige positive oder negative Reaktion</li>\n",
    "<li>Widerspruch = gegenteilige Wortmeldung einer Fraktionsperson zur Redner-Partei</li>\n",
    "<li>Heiterkeit = positives Stimmungsbild einer Fraktion oder einzelnen Personen einer Fraktion</li>\n",
    "<li>Unsinn = negative Wortmeldung einer Fraktionsperson zur Redner-Partei</li>\n",
    "Außerdem sind mögliche Themen-Bündnisse klassifizierbar und auch die fraktionslosen Kandidaten werden in der Untersuchung mit berücksichtigt."
   ]
  },
  {
   "cell_type": "markdown",
   "id": "ff856405",
   "metadata": {},
   "source": [
    "# Module und Bibliotheken einbinden\n",
    "Es sind verschiedene Module und Bibliotheken notwendig, um bereits konzipierte Funktionen beginnend mit \"def\" aufrufen zu können. Als Softwareverzeichnis mit der jeweiligen Beschreibung sind die jeweiligen Links angegeben:\n",
    "\n",
    "<li><b>import collections</b> = dieses Modul importiert Standardbibliotheken von Python.\n",
    "(<a href=\"https://pypi.org/project/collection\">https://pypi.org/project/collection</a>)</li>\n",
    "\n",
    "<li><b>import json</b> = dieses Modul importiert <b>J</b>ava<b>S</b>cript <b>O</b>bject <b>N</b>otation-Format ins Jupyter-Notebook.\n",
    "(<a href=\"https://www.json.org/json-en.html\">https://www.json.org/json-en.html</a>)</li>\n",
    "\n",
    "<li><b>import matplotlib.pyplot</b> = diese Modul dient zur Visualisierung von mathematischen Zusammenhängen.\n",
    "(<a href=\"https://matplotlib.org\">https://matplotlib.org</a>)</li>\n",
    "\n",
    "<li><b>import numpy</b> oder kurz <b>np</b> = dieses Modul ermöglicht Python Objektzähler, Counter und Zählen von Wörtern.\n",
    "(<a href=\"https://numpy.org\">https://numpy.org</a>)</li>\n",
    "\n",
    "<li><b>import os</b> = dieses Modul ermöglicht Verzeichnisstrukturen verschiedener Betriebssystem zu nutzen.\n",
    "(<a href=\"https://docs.python.org/3/library/os.html\">https://docs.python.org/3/library/os.html</a>)</li>\n",
    "\n",
    "<li><b>import re</b> = dieses Modul ermöglicht reguläre Ausdruckssyntax anzuwenden, z.B. Verkettungen.\n",
    "(<a href=\"https://docs.python.org/3/library/re.html\">https://docs.python.org/3/library/re.html</a>)</li>\n",
    "\n",
    "<li><b>import request</b> = diese Modul ermöglicht die vereinfachte HTML-Anfrage für Python-Bibliotheken.\n",
    "(<a href=\"https://pypi.org/project/requests\">https://pypi.org/project/requests</a>)</li>\n",
    "\n",
    "<li><b>import sys</b> = diese Modul stellt mittels Python-Interpret, z.B. Funktion und Methoden, zur Verfügung.  \n",
    "(<a href=\"https://pypi.org/project/os-sys\">https://pypi.org/project/os-sys</a>)</li>"
   ]
  },
  {
   "cell_type": "code",
   "execution_count": 1,
   "id": "477012c9",
   "metadata": {},
   "outputs": [],
   "source": [
    "import collections\n",
    "import json\n",
    "import matplotlib.pyplot as plt\n",
    "from matplotlib.pyplot import figure\n",
    "import numpy as np\n",
    "import os\n",
    "import pandas as pd\n",
    "import re\n",
    "import requests\n",
    "import sys"
   ]
  },
  {
   "cell_type": "markdown",
   "id": "886d72b5",
   "metadata": {},
   "source": [
    "# Laden der Bundestagsreden\n",
    "Alle Reden des deutschen Bundetages für die 20. Wahlpersriode sind in den Plenarprotokollen auf der Webseite des deutschen Bundestages in xml-Dateien abgespeichert. Für einen schnellen Zugriff und zur weiteren Verarbeitungen und einfachen Darstellung von Zwischenschritten und Teilausgaben wird dies mittels des Jupyter-Notebook in das JSON-Format überführt.\n",
    "\n",
    "Die xml-Dateien der Plenarprotokolle sind in den Ordnern <b>bundestagsreden_parser\\data_19</b> und <b>bundestagsreden_parser\\data_20</b> abgelegt.\n",
    "Dazu wird im ersten Schritt mittels des CMD im Ordner <b>\"bundestagsreden_parser\"</b> das Kommando <b>\"python run.py\"</b> ausgeführt. Beim Ausführen der Python-Datei können die Reden für die Legislaturperiode 19 oder 20, sowie mit und ohne Kommentarfelder erfolgen.</p>\n",
    "Wir laden mit dem nachfolgenden Code alle Reden der ausgewählen Legislaturperiode. Die vom Parser erstellten Dateien befinden sich nun unter dem Pfad <b>bundestagsreden\\data</b>. Die vom Parser erstellte Datei heißt z.B. <b>speeches_20.jsonl</b> (ohne Kommentare) oder <b>speeches_20_with_comments.jsonl</b> (mit Kommentare)."
   ]
  },
  {
   "cell_type": "code",
   "execution_count": 2,
   "id": "a880ce7d",
   "metadata": {},
   "outputs": [],
   "source": [
    "with open('../../data/speeches_20_with_comments.jsonl', 'r', encoding = 'utf8') as fp:\n",
    "    data = list(fp)\n",
    "speeches = []\n",
    "for line in data:\n",
    "    speeches.append(json.loads(line))"
   ]
  },
  {
   "cell_type": "markdown",
   "id": "b7698d63",
   "metadata": {},
   "source": [
    "Mit dem Befehl <b>\"len\"</b> können wir die Anzahl der Argumente, in unserem Fall: <b>speeches</b> (alle Reden), aus den geladenen Plenarprotokollen ausgeben lassen."
   ]
  },
  {
   "cell_type": "code",
   "execution_count": 3,
   "id": "afe459db",
   "metadata": {},
   "outputs": [
    {
     "data": {
      "text/plain": [
       "5062"
      ]
     },
     "execution_count": 3,
     "metadata": {},
     "output_type": "execute_result"
    }
   ],
   "source": [
    "len(speeches)"
   ]
  },
  {
   "cell_type": "markdown",
   "id": "78c09497",
   "metadata": {},
   "source": [
    "Wir können nun mit dem Befehl <b>print</b> und dem Index <b>[0]</b> die erste Rede ausgeben. Die folgenden Attribute jeder Rede werden ausgeben:\n",
    "<table style=\"margin-left: 0; margin-right: 0;\">\n",
    "    <tr>\n",
    "        <th style=\"text-align: left;\">Attribut</th>\n",
    "        <th style=\"text-align: left;\">Beschreibung<th>\n",
    "    </tr>\n",
    "    <tr>\n",
    "        <td style=\"text-align: left;\">'text'</td>\n",
    "        <td style=\"text-align: left;\">Reden inklusive der Kommentare -> Kommentare werden mittels Parser in {(...)} dargestellt</td>\n",
    "    </tr>\n",
    "    <tr>\n",
    "        <td style=\"text-align: left;\">'id'</td>\n",
    "        <td style=\"text-align: left;\">zugewiesene ID der einzelnen Rede</td>\n",
    "    </tr>\n",
    "    <tr>\n",
    "        <td style=\"text-align: left;\">'period'</td>\n",
    "        <td style=\"text-align: left;\">Legislaturperiode in der die Rede gehalten wurde</td>\n",
    "    </tr>\n",
    "    <tr>\n",
    "        <td style=\"text-align: left;\">'date'</td>\n",
    "        <td style=\"text-align: left;\">Datum der Rede</td>\n",
    "    </tr>\n",
    "    <tr>\n",
    "        <td style=\"text-align: left;\">'name'</td>\n",
    "        <td style=\"text-align: left;\">Name des/r Redner/in</td>\n",
    "    </tr>\n",
    "    <tr>\n",
    "        <td style=\"text-align: left;\">'party'</td>\n",
    "        <td style=\"text-align: left;\">zugehörige Partei der/s Redner/in</td>\n",
    "    </tr>\n",
    "    <tr>\n",
    "        <td style=\"text-align: left;\">'redner_id'</td>\n",
    "        <td style=\"text-align: left;\">ID des/r Redner/in</td>\n",
    "    </tr>\n",
    "    <tr>\n",
    "        <td style=\"text-align: left;\">'discussion_title'</td>\n",
    "        <td style=\"text-align: left;\">Überschrift (mit Inhalt des Tagesordnungspunktes)</td>\n",
    "    </tr>\n",
    "</table></br>\n",
    "Die Attribute wurden bereits in der geladenen xml-Datei definiert und können durch geeignete Suchfunktion extrahiert werden."
   ]
  },
  {
   "cell_type": "code",
   "execution_count": 4,
   "id": "d10d7373",
   "metadata": {},
   "outputs": [
    {
     "name": "stdout",
     "output_type": "stream",
     "text": [
      "{'text': 'Herr Präsident! Liebe Kolleginnen und Kollegen! Die Konstituierung des Bundestages ist ein Festtag der Demokratie. Und wenn man sich auf der Welt mal umsieht und sich anschaut, wie die Situation anderswo ist, dann muss und darf man festhalten: Dass hier und heute ein unabhängiges, ein frei gewähltes, starkes Parlament zusammenkommt, ist ein Geschenk\\xa0– ein Geschenk, auf das wir stolz sein und für das wir dankbar sein können, liebe Kolleginnen und Kollegen. {(Beifall bei der CDU/CSU sowie bei Abgeordneten der SPD, des BÜNDNISSES\\xa090/DIE GRÜNEN und der FDP)} Ich sage das deswegen, weil Demokratie ja immer auch ein Streit nach Regeln ist, und diese Regeln geben wir uns mit der Geschäftsordnung, die wir gleich beschließen. Diese Geschäftsordnung hat sich insgesamt bewährt, unser parlamentarisches Miteinander zu organisieren; deswegen werden wir den Antrag der SPD auch unterstützen. Dieses Bewähren gilt insbesondere auch für die Kernaufgaben, die dieses Parlament hat, nämlich die Gesetzgebung und die Regierungskontrolle. Natürlich kann man der Auffassung sein, dass manche der Regeln, die schon einige Jahrzehnte alt sind\\xa0– die Geschäftsordnung ist, glaube ich, in den 80er-Jahren zum letzten Mal wirklich grundlegend überarbeitet worden\\xa0–, nicht mehr zeitgemäß sind; darüber herrscht, so denke ich jedenfalls, auch fraktionsübergreifend Übereinstimmung. Frau Kollegin Katzmarek hat es gerade angesprochen: Bundestagspräsident Wolfgang Schäuble hat vor Kurzem angeregt, diese Regeln einer Überarbeitung zu unterziehen. Dem Vorschlag, das im zuständigen Geschäftsordnungsausschuss zu tun, schließen wir uns ausdrücklich an. Nicht überarbeitungsbedürftig ist die Geschäftsordnung für uns allerdings bei der Wahl des Bundeskanzlers. Wir werden ja gleich auch über Änderungsanträge der AfD entscheiden; deswegen möchte ich dazu auch gerne Stellung nehmen und die Position der CDU/CSU hier vortragen. Wir glauben, diese Regelungen haben sich in der Vergangenheit bewährt. Um es in aller Klarheit zu sagen: Eine Kanzlerwahl dient nicht der persönlichen Profilierung einer Fraktion, sondern sie dient dazu, diesem Land eine stabile Regierung zu geben. Deshalb soll ja nach dem Willen der Mütter und Väter des Grundgesetzes eine solche Wahl nur auf die Tagesordnung dürfen, wenn erkennbar ist, dass sich für eine erfolgreiche Kanzlerwahl auch eine erkennbare Mehrheit im Bundestag organisiert hat. Daran orientiert sich auch unsere Geschäftsordnung: Der Bundespräsident macht einen Wahlvorschlag; scheitert dieser Vorschlag, muss ein neuer Vorschlag von mindestens einem Viertel der Abgeordneten im Bundestag unterzeichnet sein. Genau da setzt die AfD an, möchte das ändern, möchte gewissermaßen eine Sonderregel für sich selbst einführen. Man stellt sich die Frage, warum das jetzt ausgerechnet am heutigen Tag stattfindet, wo die Kanzlerwahl gar nicht zur Diskussion steht. {(Beatrix von Storch [AfD]: Aber die Geschäftsordnung!)} Wer sich einmal die letzte Wahlperiode anschaut, der weiß ganz genau: Es geht gar nicht um die Sache, sondern es geht darum, für Social Media die richtigen Videoclips zu produzieren. Es geht darum, hier die große politische Bühne zu haben, um sich inszenieren zu können; es geht um nicht mehr und nicht weniger. {(Beifall bei der CDU/CSU, der SPD, dem BÜNDNIS\\xa090/DIE GRÜNEN, der FDP und der LINKEN)} Die AfD versucht seit mittlerweile vier Jahren, die Bundestagssitzungen für ihren parteipolitischen Klamauk zu missbrauchen. Wir werden nicht zulassen, {(Zuruf von der AfD: Frechheit!)} dass Sie das auch bei der Kanzlerwahl so machen. Die AfD möchte als Fraktion Misstrauensanträge ohne Mindestzahl von Unterstützern stellen können. Hier gilt das Gleiche: Dies ist der Plenarsaal des Bundestages, nicht der Spielplatz für Ihre destruktive Propaganda. {(Beifall bei der CDU/CSU, der SPD, dem BÜNDNIS\\xa090/DIE GRÜNEN und der LINKEN sowie bei Abgeordneten der FDP)} Es würde Ihnen bei diesen Misstrauensanträgen nur darum gehen, permanentes Misstrauen in die Institutionen und in unseren Staat zu säen. Das werden wir nicht zulassen. Deswegen werden wir als CDU/CSU Ihre Anträge ablehnen. {(Beifall bei der CDU/CSU sowie bei Abgeordneten der SPD und der FDP\\xa0– Dr.\\xa0Alice Weidel [AfD]: Dafür haben Sie auch die Quittung gekriegt!\\xa0– Jan Korte [DIE LINKE]: Das war ganz gut!\\xa0– Gegenruf der Abg. Dr.\\xa0Alice Weidel [AfD]: Na ja!)} Britta Haßelmann, Bündnis\\xa090/Die Grünen, hat als Nächste das Wort. {(Beifall beim BÜNDNIS\\xa090/DIE GRÜNEN)} ', 'id': 'ID20100200', 'period': '18', 'date': '2021-10-26', 'name': 'Stefan Müller', 'party': 'CDU/CSU', 'redner_id': '11003597', 'discussion_title': 'Tagesordnungspunkt 2 2021-10-26'}\n"
     ]
    }
   ],
   "source": [
    "print(speeches[1])"
   ]
  },
  {
   "cell_type": "markdown",
   "id": "26abf76a",
   "metadata": {},
   "source": [
    "# Reden mit Kommentaren je Partei filtern\n",
    "Im ersten Schritt wollen wir alle Parteinamen des Attributs 'party' ausgeben lassen. Dazu erstellen wir die leere Liste <b>party_name</b>. Anschließend wird mittels einer for-Schleife jede Rede von allen Reden durchlaufen. Mittels der if-Bedingung wird verglichen, ob das gefundene Attribut bereits in der Liste <b>party_name</b> enthalten ist. Zwei Möglichkeiten sind hier definiert:</br>\n",
    "<li>Nein -> gefundene Partei wird in der Liste hinzugefügt</li>\n",
    "<li>Ja   -> \"passen\" und die for-Schleife erneut ausführen</li>\n",
    "Als Ausgabe erhalten wir die Liste <b>party_name</b> mit allen gefundenen Parteinamen im Attribut <b>party</b>."
   ]
  },
  {
   "cell_type": "code",
   "execution_count": 5,
   "id": "6f4c2be9",
   "metadata": {},
   "outputs": [
    {
     "data": {
      "text/plain": [
       "{'BÜNDNIS 90/DIE GRÜNEN': 813,\n",
       " 'CDU/CSU': 1122,\n",
       " 'Fraktionslos': 27,\n",
       " 'AfD': 674,\n",
       " 'SPD': 1186,\n",
       " 'FDP': 680,\n",
       " 'DIE LINKE': 394,\n",
       " 'unknown': 166}"
      ]
     },
     "execution_count": 5,
     "metadata": {},
     "output_type": "execute_result"
    }
   ],
   "source": [
    "party_names = []\n",
    "speeches_per_party = {'BÜNDNIS 90/DIE GRÜNEN': 0, \n",
    "                       'CDU/CSU'              : 0,\n",
    "                       'Fraktionslos'         : 0,\n",
    "                       'AfD'                  : 0,\n",
    "                       'SPD'                  : 0,\n",
    "                       'FDP'                  : 0,\n",
    "                       'DIE LINKE'            : 0,\n",
    "                       'unknown'              : 0 }\n",
    "for speech in speeches:\n",
    "    if speech['party'] in party_names:\n",
    "        speeches_per_party[speech['party']] = speeches_per_party[speech['party']] + 1\n",
    "    else:\n",
    "        party_names.append(speech['party'])\n",
    "        speeches_per_party[speech['party']] = 1\n",
    "party_names # hiermit wird die Liste ausgegeben\n",
    "speeches_per_party"
   ]
  },
  {
   "cell_type": "markdown",
   "id": "f0213fff",
   "metadata": {},
   "source": [
    "Zusätzlich zu den bekannten Parteinamen sehen wir die Bezeichnung <b>unknown</b>. Mittels des Parsers konnte jedoch die gefundene <b>redner_id</b> nicht einer Partei zugeordnet werden. D.h. in diesem Fall sprach der/die Redner/in nicht im Sinne der Fraktion, sondern im Sinne ihres Amtes (z.B. als Minister für Außenpolitik). In der xml-Dateien erhalten die Redner/in eine gesonderte <b>redner_id</b>, so dass die Fraktionszugehörig wegfällt und stattdessen eine Beschreibung der Minister-Position enthält."
   ]
  },
  {
   "cell_type": "markdown",
   "id": "c6663982",
   "metadata": {},
   "source": [
    "Im nächsten Schritt erstellen wir ein <b>Dictionary</b>. Dazu wird zum KEY: 'party' ein leeres Array zugewiesen. In dem jeweiligen Array sind je Partei alle Kommentare von allen Reden einzufügen. Bereits im <b>bundestagsreden parser</b> wurden mögliche verschiedene Schreibweisen von den Parteinamen bereinigt, sodass hier nur die folgenden Parteinamen auftauchen können. Die Schreibweisen im <b>Attribut 'party'</b> haben wir zudem im vorran gegangenen Schritt herausgefunden.<br>\n",
    "Wichtig ist dabei zu berücksichtigen, dass das Attribut bereits in der xml-Datei definiert wurde und die exakte Schreibweise übernommen werden muss."
   ]
  },
  {
   "cell_type": "code",
   "execution_count": 6,
   "id": "fa450ee8",
   "metadata": {},
   "outputs": [
    {
     "data": {
      "text/plain": [
       "{'BÜNDNIS 90/DIE GRÜNEN': ['all comments to Grüne'],\n",
       " 'CDU/CSU': ['all comments to CDU/CSU'],\n",
       " 'Fraktionslos': ['all comments to Fraktionslos'],\n",
       " 'AfD': ['all comments to AfD'],\n",
       " 'SPD': ['all comments to SPD'],\n",
       " 'FDP': ['all comments to FDP'],\n",
       " 'DIE LINKE': ['all comments to Linke'],\n",
       " 'unknown': ['all comments to unknown']}"
      ]
     },
     "execution_count": 6,
     "metadata": {},
     "output_type": "execute_result"
    }
   ],
   "source": [
    "comments_to = {'BÜNDNIS 90/DIE GRÜNEN': ['all comments to Grüne'], \n",
    "               'CDU/CSU'              : ['all comments to CDU/CSU'],\n",
    "               'Fraktionslos'         : ['all comments to Fraktionslos'],\n",
    "               'AfD'                  : ['all comments to AfD'],\n",
    "               'SPD'                  : ['all comments to SPD'],\n",
    "               'FDP'                  : ['all comments to FDP'],\n",
    "               'DIE LINKE'            : ['all comments to Linke'],\n",
    "               'unknown'              : ['all comments to unknown'] }\n",
    "comments_to # diese Ausgabe zeigt unser Dictionary und die zugehörigen leeren Arrays"
   ]
  },
  {
   "cell_type": "markdown",
   "id": "9410b99d",
   "metadata": {},
   "source": [
    "Die Kommentare sind in den xml-Dateien im Attribut <b>'text'</b> enthalten. Durch den Parser wurde bereits um jeden Kommentar Klammern <b>{(...)}</b> ergänzt.<br>\n",
    "Die nachfolgende Funktion <b>extract_comments</b> extrahiert nun alle Textstellen im Attribut <b>'text'</b> mit den Klammern <b>{(...)}</b> und deren Inhalt. Alle gefundenen Zeichenfolgen <b>{(...)}</b>, werden mit der Python-Operation re.findall in die Liste <b>'comments'</b> eingefügt.</br>\n",
    "Um das usprüngliche Attribut <b>'text'</b> nicht zu verändern, wird die Liste <b>'comments'</b> als neues Attribut 'comments' an die bestehende Rede angehängt."
   ]
  },
  {
   "cell_type": "code",
   "execution_count": 7,
   "id": "0c0c3429",
   "metadata": {},
   "outputs": [],
   "source": [
    "def extract_comments(speeches):\n",
    "    regex = \"{(.*?)}\" # hier steht die genaue Definition der Kommentare vom Parser\n",
    "    comments = []\n",
    "    modified_speeches = []\n",
    "    for speech in speeches:\n",
    "        text = speech['text']\n",
    "        matches = re.findall(regex,text)\n",
    "        speech['comments'] = matches\n",
    "        modified_speeches.append(speech)\n",
    "    return modified_speeches\n",
    "speeches_comments = extract_comments(speeches) # hier erfolgt der Funktionsaufruf"
   ]
  },
  {
   "cell_type": "markdown",
   "id": "03b2aae2",
   "metadata": {},
   "source": [
    "Jetzt haben wir zum einen alle Parteinamen herausgefiltert und außerdem die zu untersuchenden Kommentare aus der jeweiligen Rede extrahiert und als neues Attribut an die Rede angehängt.</br>\n",
    "Wir wollen nun die Arrays im erstellten Dictionary befüllen. Dazu iterieren wir mittels einer for-Schleife durch die Liste <b>party_name</b> und füllen das Key mit den gefundenen Parteinamen.\n",
    "Als nächstes iterieren wir mit der zweiten for-Schleife durch jede Rede. Dabei werden nur Reden mit mindestens einem Kommentaren berücksichtigt.<br>\n",
    "Desweiteren werden Kommentare die <b>' - '</b> enthalten durch dieses Minus getrennt. D.h. aus dem Kommentar <b>{(... - ...)}</b> wird <b>{(...)},{(...)}</b>. Das heißt der eine Kommentar wird in zwei Kommentare aufgeteilt.<br>\n",
    "<br>\n",
    "Als Beispiel folgender Auszug: "
   ]
  },
  {
   "cell_type": "code",
   "execution_count": 8,
   "id": "456f1db7",
   "metadata": {},
   "outputs": [
    {
     "data": {
      "text/plain": [
       "'(Beifall bei der CDU/CSU sowie bei Abgeordneten der SPD und der FDP\\xa0– Dr.\\xa0Alice Weidel [AfD]: Dafür haben Sie auch die Quittung gekriegt!\\xa0– Jan Korte [DIE LINKE]: Das war ganz gut!\\xa0– Gegenruf der Abg. Dr.\\xa0Alice Weidel [AfD]: Na ja!)'"
      ]
     },
     "execution_count": 8,
     "metadata": {},
     "output_type": "execute_result"
    }
   ],
   "source": [
    "speeches[1]['comments'][5]"
   ]
  },
  {
   "cell_type": "markdown",
   "id": "53bdd5ba",
   "metadata": {},
   "source": [
    "Wir sehen zum einen den Beifall von CDU/CSU, SPD und FDP.<br>\n",
    "Weiterhin durch <b>' - '</b> abgegrenzt die Wortmeldung von Alice Weidel.<br>\n",
    "Anschließen nach <b>' - '</b> die Wortmeldung von Jan Korte.<br>\n",
    "Nach einem erneuten <b>' - '</b> den Gegenruf von Alice Weidel.<br>\n",
    "\n",
    "D.h. es sind in diesem Auzug 4 Kommentare:\n",
    "<li>Beifall</li>\n",
    "<li>spezifische Wortmeldung</li>\n",
    "<li>spezifische Wortmeldung</li>\n",
    "<li>Gegenruf</li>\n",
    "enthalten. Diese werden mittels <b>split(' – ')</b> separiert und können anschließend einzeln ausgewertet werden."
   ]
  },
  {
   "cell_type": "code",
   "execution_count": 9,
   "id": "902db552",
   "metadata": {},
   "outputs": [],
   "source": [
    "comments_to = {}\n",
    "for party in party_names:\n",
    "    comments_to.update({ party : [] })\n",
    "for speech in speeches:\n",
    "    if len(speech['comments']) > 0:\n",
    "        for comment in speech['comments']:\n",
    "            for split_comment in comment.split(' – '):\n",
    "                comments_to[speech['party']].append(split_comment)"
   ]
  },
  {
   "cell_type": "markdown",
   "id": "2709b564",
   "metadata": {},
   "source": [
    "Die Dictionary's sind nun auf Grundlage der Liste <b>party_name</b> befüllt und können nun zur weiteren Analyse verwendet werden.\n",
    "# Kommtare auswerten\n",
    "Als erstes definieren wir eine Liste mit allen spezifischen Begriffen mit denen wir die erstellten Dictionary's untersuchen."
   ]
  },
  {
   "cell_type": "code",
   "execution_count": 10,
   "id": "13253847",
   "metadata": {},
   "outputs": [],
   "source": [
    "list_keywords = ['Beifall','Zuruf','lachen','Widerspruch','Heiterkeit','Unsinn','Gegenruf']"
   ]
  },
  {
   "cell_type": "markdown",
   "id": "820a4543",
   "metadata": {},
   "source": [
    "Desweiteren sind verschiedene Schreibweisen der jeweiligen Fraktionsnennungen in den Kommentaren der Plenarprotokolle vorzufinden. Somit ist es notwendig eine Liste des Wortstammes aller Parteinamen zu generieren.<br>"
   ]
  },
  {
   "cell_type": "code",
   "execution_count": 11,
   "id": "d306c498",
   "metadata": {},
   "outputs": [],
   "source": [
    "party_search_string = ['LINKE','SPD','GRÜNE','CDU','FDP','AfD','fraktionslos','unknown']"
   ]
  },
  {
   "cell_type": "markdown",
   "id": "de3345b1",
   "metadata": {},
   "source": [
    "Damit wir durch unsere Liste von den gefunden Parteinamen durch iterieren können, benötigen wir die Anzahl der gefundenen Parteneinamen."
   ]
  },
  {
   "cell_type": "code",
   "execution_count": 12,
   "id": "80bc7e8b",
   "metadata": {},
   "outputs": [],
   "source": [
    "nParties = len(party_names)"
   ]
  },
  {
   "cell_type": "markdown",
   "id": "30cbe934",
   "metadata": {},
   "source": [
    "Die  Funktion <b>matrix_per_Keyword</b> erstellt uns nun je nach Keyword eine 2x2-Matrix. Dabei wird als erstes eine 2x2-Matrix mit Null befüllt. Außerdem wird mittels des <b>dtype = np.int32</b> der Datentyp uint32 zugewiesen, d.h. es werden positive, natürliche Zahlen dargestellt.<br>\n",
    "Mittels der ersten for-schleife gehen wir nun in unser Dictionary <b>comments_to</b>. Dazu wird mittels der Python-Funktion <b>enumerate()</b> die Syntax <b>enumerate(iterable, start)</b> [1] gestartet. Hierbei wird <b>px</b> mit Null begonnen und 'start' ist xparty, d.h. der erste Parteiname aus unserem Dictionary. Sind die nachfolgenden for-Schleifen abgeschlossen wird <b>px</b> um Eins hoch gezählt.<br>\n",
    "Die zweite for-Schleife nimmt nun Zugriff auf das Array der vorran ausgewählten Partei.<br>\n",
    "Die dritte for-Schleife zählt wieder mittels <b>enumerate()</b> diesmal in unserer <b>party_search_string</b> hoch, weil  die Benennung der Partnamen innerhalb der Kommentare verschieden sind. Ist eine Benennung inklusive unseres Keyword innerhalb eines Kommentar's gefunden, so wird <b>py</b> um Eins hoch gezählt."
   ]
  },
  {
   "cell_type": "code",
   "execution_count": 16,
   "id": "c3bf5f8d",
   "metadata": {},
   "outputs": [],
   "source": [
    "def matrix_per_Keyword (keyword):\n",
    "    matrix_with_keyword = []\n",
    "    dimension = np.zeros((nParties,nParties),dtype = np.float16)\n",
    "    for px,xparty in enumerate(comments_to): # xparty ist der Partyname aus dem dict\n",
    "        for comment in comments_to[xparty]:  # Zugriff auf das Array der ausgewälten Partei\n",
    "            for py,yparty in enumerate(party_search_string):\n",
    "                if yparty in comment and keyword in comment:\n",
    "                    dimension[px,py] = dimension[px,py] + 1\n",
    "    return dimension\n",
    "    return matrix_with_keyword"
   ]
  },
  {
   "cell_type": "code",
   "execution_count": 23,
   "id": "643999ae",
   "metadata": {},
   "outputs": [
    {
     "name": "stdout",
     "output_type": "stream",
     "text": [
      "1186\n",
      "1122\n",
      "813\n",
      "680\n",
      "674\n",
      "394\n",
      "166\n",
      "27\n"
     ]
    },
    {
     "data": {
      "text/plain": [
       "array([[5.8203e-01, 1.7266e+00, 1.7266e+00, 1.1143e+00, 1.7266e+00,\n",
       "        5.5322e-01, 5.9013e-03, 0.0000e+00],\n",
       "       [2.5049e-01, 1.5664e+00, 1.5176e+00, 1.8252e+00, 1.3203e+00,\n",
       "        6.1035e-01, 8.9121e-04, 0.0000e+00],\n",
       "       [6.8164e-01, 2.5195e+00, 2.5195e+00, 1.1123e+00, 2.5195e+00,\n",
       "        4.8096e-01, 3.6907e-03, 0.0000e+00],\n",
       "       [6.0303e-01, 3.0117e+00, 3.0117e+00, 1.3975e+00, 3.0117e+00,\n",
       "        3.9697e-01, 1.4706e-03, 0.0000e+00],\n",
       "       [1.6614e-01, 1.1514e+00, 1.0625e+00, 1.8689e-01, 8.4277e-01,\n",
       "        3.0391e+00, 8.9050e-02, 0.0000e+00],\n",
       "       [5.1992e+00, 1.4443e+00, 1.3477e+00, 4.5435e-01, 1.0508e+00,\n",
       "        4.0356e-01, 0.0000e+00, 0.0000e+00],\n",
       "       [9.4580e-01, 3.0605e+00, 3.0234e+00, 8.6768e-01, 2.7891e+00,\n",
       "        2.4695e-01, 0.0000e+00, 0.0000e+00],\n",
       "       [1.1855e+00, 2.0742e+00, 1.8887e+00, 4.4434e-01, 1.4814e+00,\n",
       "        6.6650e-01, 7.4097e-02, 0.0000e+00]], dtype=float16)"
      ]
     },
     "execution_count": 23,
     "metadata": {},
     "output_type": "execute_result"
    }
   ],
   "source": [
    "normalize_count = np.zeros((nParties,nParties),dtype = np.float16)\n",
    "dimension = matrix_per_Keyword('Beifall')\n",
    "for px,xparty in enumerate(comments_to): # xparty ist der Partyname aus dem dict\n",
    "    print(speeches_per_party[xparty])\n",
    "    for py,yparty in enumerate(comments_to):\n",
    "        normalize_count[px,py] = dimension[px,py] / speeches_per_party[xparty]\n",
    "normalize_count"
   ]
  },
  {
   "cell_type": "markdown",
   "id": "b1ebaf63",
   "metadata": {},
   "source": [
    "Wir rufen nun die Funktion <b>matrix_per_Keyword</b> für das Keyword <b>Beifall</b> auf. Außerdem geben wir dann die 2x2-Matrix aus.<br>\n",
    "Die Matrix selbst kann dahingehend noch nicht aussagekräftig beurteilt werden, da uns die genaue Zurodnung von der Redner-Partei und den jeweiligen Reaktions-Parteien verborgen sind."
   ]
  },
  {
   "cell_type": "code",
   "execution_count": null,
   "id": "a1cb0b5f",
   "metadata": {},
   "outputs": [],
   "source": [
    "len(speeches)"
   ]
  },
  {
   "cell_type": "code",
   "execution_count": null,
   "id": "ab750fc2",
   "metadata": {},
   "outputs": [],
   "source": [
    "relations_Beifall = matrix_per_Keyword(list_keywords[0])\n",
    "print(relations_Beifall)"
   ]
  },
  {
   "cell_type": "markdown",
   "id": "25723d57",
   "metadata": {},
   "source": [
    "Wir definieren eine Print-Ausgabe, um die Beschreibung in Textform zu generieren. "
   ]
  },
  {
   "cell_type": "code",
   "execution_count": null,
   "id": "7e3144e9",
   "metadata": {
    "scrolled": true
   },
   "outputs": [],
   "source": [
    "def print_relation_per_Keyword(relations,parties):\n",
    "    for x,xparty in enumerate(parties):\n",
    "        for y,yparty in enumerate(parties):\n",
    "            print(f'{list_keywords[0]} für Redner {xparty} von Partei {yparty}: {relations[x,y]}')\n",
    "print_relation_per_Keyword(relations_Beifall,party_search_string)"
   ]
  },
  {
   "cell_type": "markdown",
   "id": "ad691655",
   "metadata": {},
   "source": [
    "Wir können nun die Textausgaben und die Matrix vergleichen und stellen fest, dass je Zeile die Redner-Partei dargestellt ist und je Spalte  die Anzahl der Reaktions-Partei abgelesen werden können. In diesem Fall sehen wir die Ausgabe für das <b>Keyword: Beifall</b>. Zur besseren Darstellung sind diese in Tabellenform dargestellt und die Nummerierung mittels Partei-Zuordnung ablesbar. "
   ]
  },
  {
   "cell_type": "code",
   "execution_count": null,
   "id": "5d74df16",
   "metadata": {},
   "outputs": [],
   "source": [
    "dataset = pd.DataFrame({f'0={party_search_string[0]}': relations_Beifall[:, 0],\n",
    "                        f'1={party_search_string[1]}': relations_Beifall[:, 1],\n",
    "                        f'2={party_search_string[2]}': relations_Beifall[:, 2],\n",
    "                        f'3={party_search_string[3]}': relations_Beifall[:, 3],\n",
    "                        f'4={party_search_string[4]}': relations_Beifall[:, 4],\n",
    "                        f'5={party_search_string[5]}': relations_Beifall[:, 5],\n",
    "                        f'6={party_search_string[6]}': relations_Beifall[:, 6],\n",
    "                        f'7={party_search_string[7]}': relations_Beifall[:, 7]})\n",
    "print(dataset)"
   ]
  },
  {
   "cell_type": "markdown",
   "id": "4b2e60c7",
   "metadata": {},
   "source": [
    "Wir können nun für alle Keywords diese in einer 2x2-Matrix ausgeben lassen und verstehen jeweils den Zusammenhang von Redner-Partei und der zugehören Anzahl der Reaktions-Parteien. Die folgenden Ausgabe sind auskommentiert, da wir im nächsten Schritt die Matrizen als Balkendiagramm ausgeben werden."
   ]
  },
  {
   "cell_type": "code",
   "execution_count": null,
   "id": "b7e65b0f",
   "metadata": {},
   "outputs": [],
   "source": [
    "relations_Zuruf = matrix_per_Keyword(list_keywords[1]) # Beifall,Zuruf,lachen,Widerspruch,Heiterkeit,Unsinn,Gegenruf\n",
    "# print(relations_Zuruf)"
   ]
  },
  {
   "cell_type": "code",
   "execution_count": null,
   "id": "44c9abd0",
   "metadata": {},
   "outputs": [],
   "source": [
    "relations_lachen = matrix_per_Keyword(list_keywords[2]) # Beifall,Zuruf,lachen,Widerspruch,Heiterkeit,Unsinn,Gegenruf\n",
    "# print(relations_lachen)"
   ]
  },
  {
   "cell_type": "code",
   "execution_count": null,
   "id": "ccec8fc0",
   "metadata": {},
   "outputs": [],
   "source": [
    "relations_Widerspruch = matrix_per_Keyword(list_keywords[3]) # Beifall,Zuruf,lachen,Widerspruch,Heiterkeit,Unsinn,Gegenruf\n",
    "# print(relations_Widerspruch)"
   ]
  },
  {
   "cell_type": "code",
   "execution_count": null,
   "id": "d7b3af93",
   "metadata": {
    "scrolled": true
   },
   "outputs": [],
   "source": [
    "relations_Heiterkeit = matrix_per_Keyword(list_keywords[4]) # Beifall,Zuruf,lachen,Widerspruch,Heiterkeit,Unsinn,Gegenruf\n",
    "# print(relations_Heiterkeit)"
   ]
  },
  {
   "cell_type": "code",
   "execution_count": null,
   "id": "c5580dc3",
   "metadata": {},
   "outputs": [],
   "source": [
    "relations_Unsinn = matrix_per_Keyword(list_keywords[5]) # Beifall,Zuruf,lachen,Widerspruch,Heiterkeit,Unsinn,Gegenruf\n",
    "# print(relations_Unsinn)"
   ]
  },
  {
   "cell_type": "code",
   "execution_count": null,
   "id": "9f834020",
   "metadata": {},
   "outputs": [],
   "source": [
    "relations_Gegenruf = matrix_per_Keyword(list_keywords[6]) # Beifall,Zuruf,lachen,Widerspruch,Heiterkeit,Unsinn,Gegenruf\n",
    "# print(relations_Gegenruf)"
   ]
  },
  {
   "cell_type": "markdown",
   "id": "f3bccefe",
   "metadata": {},
   "source": [
    "Zur besseren Lesbarkeit der Daten werden die voran erstellten Matrizen als Balkendiagramme dargestellt. Dazu definieren wir die Funktion <b>bar_plot</b> mit allen notwendigen Parametern."
   ]
  },
  {
   "cell_type": "code",
   "execution_count": 24,
   "id": "f7ce1148",
   "metadata": {},
   "outputs": [],
   "source": [
    "def bar_plot(keyword):\n",
    "    #data = matrix_per_Keyword(keyword); # Matrix je Keyword\n",
    "    data = normalize_count\n",
    "    index = np.arange(nParties);        # erstellt Array aufgrund Anz. Parteien bzw. untersch. Attribute 'Party' \n",
    "    fig,ax = plt.subplots();            # Definition für Fkt. .supplots()\n",
    "    fig.set_figheight(10);              # Höhe des gesamten Diagramms\n",
    "    fig.set_figwidth(15);               # Breite des gesamten Diagramms\n",
    "    width = (nParties/10)/nParties;     # Definition der allg. Breite aufgrund untersch. Anzahl 'Party'\n",
    "    edgecolor = 'black';                # Konturfarbe der einzelnen Balken\n",
    "    rects_0 = ax.bar(index - 6*width/2, data[:,0], color = 'magenta', edgecolor=edgecolor, width=width);\n",
    "    # Balkenposition, Balkenlänge, Balkenfarbe, Balkenbreite je Partei\n",
    "    rects_1 = ax.bar(index - 4*width/2, data[:,1], color = 'red'    , edgecolor=edgecolor, width=width);\n",
    "    rects_2 = ax.bar(index - 2*width/2, data[:,2], color = 'green'  , edgecolor=edgecolor, width=width);\n",
    "    rects_3 = ax.bar(index + 0*width/2, data[:,3], color = 'black'  , edgecolor=edgecolor, width=width);\n",
    "    rects_4 = ax.bar(index + 2*width/2, data[:,4], color = 'yellow' , edgecolor=edgecolor, width=width);\n",
    "    rects_5 = ax.bar(index + 4*width/2, data[:,5], color = 'blue'   , edgecolor=edgecolor, width=width);\n",
    "    rects_6 = ax.bar(index + 6*width/2, data[:,6], color = 'white'  , edgecolor=edgecolor, width=width);\n",
    "    ax.set_title(f'Häufigkeiten zum Keyword: {keyword}', fontsize = 18); # Diagramm-Titel\n",
    "    ax.set_xlabel('Redner-Partei', fontsize = 12);                       # Beschriftung x-Achse\n",
    "    ax.set_ylabel('Häufigkeit der Reaktion', fontsize = 12)              # Beschriftung y-Achse\n",
    "    ax.set_xticks(index);                                                # Array für Balkenschriftung\n",
    "    ax.set_xticklabels(party_search_string);                             # Array für Balkenschriftung Textinhalt\n",
    "    ax.legend(party_search_string);                                      # Diagramm Legende\n",
    "    rotation = 90;                                                       # Drehwinkel 90° für Texte\n",
    "    padding = 5;                                                         # Textabstand 5\n",
    "    ax.bar_label(rects_0, padding=padding, rotation=rotation); # Beschriftung des 1.Balken je Redner-Partei\n",
    "    ax.bar_label(rects_1, padding=padding, rotation=rotation);\n",
    "    ax.bar_label(rects_2, padding=padding, rotation=rotation);\n",
    "    ax.bar_label(rects_3, padding=padding, rotation=rotation);\n",
    "    ax.bar_label(rects_4, padding=padding, rotation=rotation);\n",
    "    ax.bar_label(rects_5, padding=padding, rotation=rotation);\n",
    "    ax.bar_label(rects_6, padding=padding, rotation=rotation); # Beschriftung des 7.Balken je Redner-Partei\n",
    "    fig.tight_layout();\n",
    "    return plt.show();"
   ]
  },
  {
   "cell_type": "code",
   "execution_count": 25,
   "id": "63a988c1",
   "metadata": {},
   "outputs": [
    {
     "data": {
      "image/png": "[encoded data removed]",
      "text/plain": [
       "<Figure size 1080x720 with 1 Axes>"
      ]
     },
     "metadata": {
      "needs_background": "light"
     },
     "output_type": "display_data"
    },
    {
     "name": "stdout",
     "output_type": "stream",
     "text": [
      "None\n"
     ]
    }
   ],
   "source": [
    "barplot_beifall = bar_plot(list_keywords[0]) # 0=Beifall 1=Zuruf 2=Lachen 3=Widerspruch 4=Heiterkeit 5=Unsinn 6=Gegenruf\n",
    "print(barplot_beifall);"
   ]
  },
  {
   "cell_type": "code",
   "execution_count": null,
   "id": "c5bbfcf3",
   "metadata": {},
   "outputs": [],
   "source": [
    "barplot_Zuruf = bar_plot(list_keywords[1]) # 0=Beifall 1=Zuruf 2=Lachen 3=Widerspruch 4=Heiterkeit 5=Unsinn 6=Gegenruf\n",
    "print(barplot_Zuruf)"
   ]
  },
  {
   "cell_type": "code",
   "execution_count": null,
   "id": "07842efc",
   "metadata": {},
   "outputs": [],
   "source": [
    "barplot_Lachen = bar_plot(list_keywords[2]) # 0=Beifall 1=Zuruf 2=Lachen 3=Widerspruch 4=Heiterkeit 5=Unsinn 6=Gegenruf\n",
    "print(barplot_Lachen)"
   ]
  },
  {
   "cell_type": "code",
   "execution_count": null,
   "id": "5ec398a0",
   "metadata": {
    "scrolled": false
   },
   "outputs": [],
   "source": [
    "barplot_Widerspruch = bar_plot(list_keywords[3])# 0=Beifall 1=Zuruf 2=Lachen 3=Widerspruch 4=Heiterkeit 5=Unsinn 6=Gegenruf\n",
    "print(barplot_Widerspruch)"
   ]
  },
  {
   "cell_type": "code",
   "execution_count": null,
   "id": "eaf8c223",
   "metadata": {},
   "outputs": [],
   "source": [
    "barplot_Heiterkeit = bar_plot(list_keywords[4])# 0=Beifall 1=Zuruf 2=Lachen 3=Widerspruch 4=Heiterkeit 5=Unsinn 6=Gegenruf\n",
    "print(barplot_Heiterkeit)"
   ]
  },
  {
   "cell_type": "code",
   "execution_count": null,
   "id": "613fdc88",
   "metadata": {},
   "outputs": [],
   "source": [
    "barplot_Unsinn = bar_plot(list_keywords[5])# 0=Beifall 1=Zuruf 2=Lachen 3=Widerspruch 4=Heiterkeit 5=Unsinn 6=Gegenruf\n",
    "print(barplot_Unsinn)"
   ]
  },
  {
   "cell_type": "code",
   "execution_count": null,
   "id": "f7da8766",
   "metadata": {},
   "outputs": [],
   "source": [
    "barplot_Gegenruf = bar_plot(list_keywords[6])# 0=Beifall 1=Zuruf 2=Lachen 3=Widerspruch 4=Heiterkeit 5=Unsinn 6=Gegenruf\n",
    "print(barplot_Gegenruf)"
   ]
  },
  {
   "cell_type": "markdown",
   "id": "74dd7fd5",
   "metadata": {},
   "source": [
    "Wir können aufgrund der visuellen Darstellungen nun auf einen Blick die Häufigkeiten der Reaktion für jede Redner-Partei ablesen. Es sind verschiedene Tendenzen bzgl. von Zustimmungen als auch Ablehnungen (je <b>Keyword</b>) ersichtlich. Daraus schlussfolgernd können nun Reden nach Themen gefiltert werden und daraus spezifische Koalitionen und Opposition abgebildet werden. D.h. es sind auch unabhängig \"Bündnisse\" von Regierungsparteien und Regierungsopposition als Stimmungsbilder von verschiedenen Themen darstellbar."
   ]
  },
  {
   "cell_type": "markdown",
   "id": "6fb9bbe7",
   "metadata": {},
   "source": [
    "# Literaturverzeichnis:\n",
    "[1] https://www.w3schools.com/python/ref_func_enumerate.asp"
   ]
  },
  {
   "cell_type": "code",
   "execution_count": null,
   "id": "ea0c1c55",
   "metadata": {},
   "outputs": [],
   "source": []
  }
 ],
 "metadata": {
  "kernelspec": {
   "display_name": "Python 3 (ipykernel)",
   "language": "python",
   "name": "python3"
  },
  "language_info": {
   "codemirror_mode": {
    "name": "ipython",
    "version": 3
   },
   "file_extension": ".py",
   "mimetype": "text/x-python",
   "name": "python",
   "nbconvert_exporter": "python",
   "pygments_lexer": "ipython3",
   "version": "3.9.7"
  }
 },
 "nbformat": 4,
 "nbformat_minor": 5
}
