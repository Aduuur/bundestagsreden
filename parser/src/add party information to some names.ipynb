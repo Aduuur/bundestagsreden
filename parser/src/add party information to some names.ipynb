{
 "cells": [
  {
   "cell_type": "code",
   "execution_count": 2,
   "metadata": {
    "ExecuteTime": {
     "end_time": "2023-04-28T17:23:09.862606Z",
     "start_time": "2023-04-28T17:23:09.850606Z"
    }
   },
   "outputs": [],
   "source": [
    "import jsonlines\n",
    "import json"
   ]
  },
  {
   "cell_type": "code",
   "execution_count": 9,
   "metadata": {
    "ExecuteTime": {
     "end_time": "2023-04-28T17:25:35.290353Z",
     "start_time": "2023-04-28T17:25:35.267356Z"
    },
    "collapsed": false,
    "jupyter": {
     "outputs_hidden": false
    }
   },
   "outputs": [],
   "source": [
    "# works with the already preprocessed speeches. Change the name of the file accordingly\n",
    "\n",
    "path = '../../data/'\n",
    "\n",
    "legis_period = 19\n",
    "#name_of_file = f'speeches_preprocessed_{legis_period}.json'\n",
    "name_of_file = f'speeches_{legis_period}.jsonl'\n"
   ]
  },
  {
   "cell_type": "code",
   "execution_count": 10,
   "metadata": {
    "ExecuteTime": {
     "end_time": "2023-04-28T17:25:41.172291Z",
     "start_time": "2023-04-28T17:25:36.063285Z"
    }
   },
   "outputs": [
    {
     "ename": "JSONDecodeError",
     "evalue": "Extra data: line 2 column 1 (char 9679)",
     "output_type": "error",
     "traceback": [
      "\u001b[0;31m---------------------------------------------------------------------------\u001b[0m",
      "\u001b[0;31mJSONDecodeError\u001b[0m                           Traceback (most recent call last)",
      "\u001b[0;32m<ipython-input-10-365c3fc5810b>\u001b[0m in \u001b[0;36m<module>\u001b[0;34m\u001b[0m\n\u001b[1;32m      1\u001b[0m \u001b[0;31m# use this way to import preprocessed data\u001b[0m\u001b[0;34m\u001b[0m\u001b[0;34m\u001b[0m\u001b[0;34m\u001b[0m\u001b[0m\n\u001b[1;32m      2\u001b[0m \u001b[0;32mwith\u001b[0m \u001b[0mopen\u001b[0m\u001b[0;34m(\u001b[0m\u001b[0;34mf\"{path}{name_of_file}\"\u001b[0m\u001b[0;34m,\u001b[0m \u001b[0;34m'r'\u001b[0m\u001b[0;34m)\u001b[0m \u001b[0;32mas\u001b[0m \u001b[0mfp\u001b[0m\u001b[0;34m:\u001b[0m\u001b[0;34m\u001b[0m\u001b[0;34m\u001b[0m\u001b[0m\n\u001b[0;32m----> 3\u001b[0;31m     \u001b[0mdata\u001b[0m \u001b[0;34m=\u001b[0m \u001b[0mjson\u001b[0m\u001b[0;34m.\u001b[0m\u001b[0mload\u001b[0m\u001b[0;34m(\u001b[0m\u001b[0mfp\u001b[0m\u001b[0;34m)\u001b[0m\u001b[0;34m\u001b[0m\u001b[0;34m\u001b[0m\u001b[0m\n\u001b[0m\u001b[1;32m      4\u001b[0m \u001b[0;34m\u001b[0m\u001b[0m\n\u001b[1;32m      5\u001b[0m \u001b[0mreden\u001b[0m \u001b[0;34m=\u001b[0m \u001b[0mdata\u001b[0m\u001b[0;34m.\u001b[0m\u001b[0mcopy\u001b[0m\u001b[0;34m(\u001b[0m\u001b[0;34m)\u001b[0m\u001b[0;34m\u001b[0m\u001b[0;34m\u001b[0m\u001b[0m\n",
      "\u001b[0;32m/Library/Developer/CommandLineTools/Library/Frameworks/Python3.framework/Versions/3.7/lib/python3.7/json/__init__.py\u001b[0m in \u001b[0;36mload\u001b[0;34m(fp, cls, object_hook, parse_float, parse_int, parse_constant, object_pairs_hook, **kw)\u001b[0m\n\u001b[1;32m    294\u001b[0m         \u001b[0mcls\u001b[0m\u001b[0;34m=\u001b[0m\u001b[0mcls\u001b[0m\u001b[0;34m,\u001b[0m \u001b[0mobject_hook\u001b[0m\u001b[0;34m=\u001b[0m\u001b[0mobject_hook\u001b[0m\u001b[0;34m,\u001b[0m\u001b[0;34m\u001b[0m\u001b[0;34m\u001b[0m\u001b[0m\n\u001b[1;32m    295\u001b[0m         \u001b[0mparse_float\u001b[0m\u001b[0;34m=\u001b[0m\u001b[0mparse_float\u001b[0m\u001b[0;34m,\u001b[0m \u001b[0mparse_int\u001b[0m\u001b[0;34m=\u001b[0m\u001b[0mparse_int\u001b[0m\u001b[0;34m,\u001b[0m\u001b[0;34m\u001b[0m\u001b[0;34m\u001b[0m\u001b[0m\n\u001b[0;32m--> 296\u001b[0;31m         parse_constant=parse_constant, object_pairs_hook=object_pairs_hook, **kw)\n\u001b[0m\u001b[1;32m    297\u001b[0m \u001b[0;34m\u001b[0m\u001b[0m\n\u001b[1;32m    298\u001b[0m \u001b[0;34m\u001b[0m\u001b[0m\n",
      "\u001b[0;32m/Library/Developer/CommandLineTools/Library/Frameworks/Python3.framework/Versions/3.7/lib/python3.7/json/__init__.py\u001b[0m in \u001b[0;36mloads\u001b[0;34m(s, encoding, cls, object_hook, parse_float, parse_int, parse_constant, object_pairs_hook, **kw)\u001b[0m\n\u001b[1;32m    346\u001b[0m             \u001b[0mparse_int\u001b[0m \u001b[0;32mis\u001b[0m \u001b[0;32mNone\u001b[0m \u001b[0;32mand\u001b[0m \u001b[0mparse_float\u001b[0m \u001b[0;32mis\u001b[0m \u001b[0;32mNone\u001b[0m \u001b[0;32mand\u001b[0m\u001b[0;34m\u001b[0m\u001b[0;34m\u001b[0m\u001b[0m\n\u001b[1;32m    347\u001b[0m             parse_constant is None and object_pairs_hook is None and not kw):\n\u001b[0;32m--> 348\u001b[0;31m         \u001b[0;32mreturn\u001b[0m \u001b[0m_default_decoder\u001b[0m\u001b[0;34m.\u001b[0m\u001b[0mdecode\u001b[0m\u001b[0;34m(\u001b[0m\u001b[0ms\u001b[0m\u001b[0;34m)\u001b[0m\u001b[0;34m\u001b[0m\u001b[0;34m\u001b[0m\u001b[0m\n\u001b[0m\u001b[1;32m    349\u001b[0m     \u001b[0;32mif\u001b[0m \u001b[0mcls\u001b[0m \u001b[0;32mis\u001b[0m \u001b[0;32mNone\u001b[0m\u001b[0;34m:\u001b[0m\u001b[0;34m\u001b[0m\u001b[0;34m\u001b[0m\u001b[0m\n\u001b[1;32m    350\u001b[0m         \u001b[0mcls\u001b[0m \u001b[0;34m=\u001b[0m \u001b[0mJSONDecoder\u001b[0m\u001b[0;34m\u001b[0m\u001b[0;34m\u001b[0m\u001b[0m\n",
      "\u001b[0;32m/Library/Developer/CommandLineTools/Library/Frameworks/Python3.framework/Versions/3.7/lib/python3.7/json/decoder.py\u001b[0m in \u001b[0;36mdecode\u001b[0;34m(self, s, _w)\u001b[0m\n\u001b[1;32m    338\u001b[0m         \u001b[0mend\u001b[0m \u001b[0;34m=\u001b[0m \u001b[0m_w\u001b[0m\u001b[0;34m(\u001b[0m\u001b[0ms\u001b[0m\u001b[0;34m,\u001b[0m \u001b[0mend\u001b[0m\u001b[0;34m)\u001b[0m\u001b[0;34m.\u001b[0m\u001b[0mend\u001b[0m\u001b[0;34m(\u001b[0m\u001b[0;34m)\u001b[0m\u001b[0;34m\u001b[0m\u001b[0;34m\u001b[0m\u001b[0m\n\u001b[1;32m    339\u001b[0m         \u001b[0;32mif\u001b[0m \u001b[0mend\u001b[0m \u001b[0;34m!=\u001b[0m \u001b[0mlen\u001b[0m\u001b[0;34m(\u001b[0m\u001b[0ms\u001b[0m\u001b[0;34m)\u001b[0m\u001b[0;34m:\u001b[0m\u001b[0;34m\u001b[0m\u001b[0;34m\u001b[0m\u001b[0m\n\u001b[0;32m--> 340\u001b[0;31m             \u001b[0;32mraise\u001b[0m \u001b[0mJSONDecodeError\u001b[0m\u001b[0;34m(\u001b[0m\u001b[0;34m\"Extra data\"\u001b[0m\u001b[0;34m,\u001b[0m \u001b[0ms\u001b[0m\u001b[0;34m,\u001b[0m \u001b[0mend\u001b[0m\u001b[0;34m)\u001b[0m\u001b[0;34m\u001b[0m\u001b[0;34m\u001b[0m\u001b[0m\n\u001b[0m\u001b[1;32m    341\u001b[0m         \u001b[0;32mreturn\u001b[0m \u001b[0mobj\u001b[0m\u001b[0;34m\u001b[0m\u001b[0;34m\u001b[0m\u001b[0m\n\u001b[1;32m    342\u001b[0m \u001b[0;34m\u001b[0m\u001b[0m\n",
      "\u001b[0;31mJSONDecodeError\u001b[0m: Extra data: line 2 column 1 (char 9679)"
     ]
    }
   ],
   "source": [
    "# use this way to import preprocessed data\n",
    "with open(f\"{path}{name_of_file}\", 'r') as fp:\n",
    "    data = json.load(fp)\n",
    "    \n",
    "reden = data.copy()"
   ]
  },
  {
   "cell_type": "code",
   "execution_count": 6,
   "metadata": {
    "ExecuteTime": {
     "end_time": "2023-04-28T17:25:44.310244Z",
     "start_time": "2023-04-28T17:25:44.234243Z"
    }
   },
   "outputs": [],
   "source": [
    "\n",
    "# bei manchen Redner*innen sind keine Parteiinformationen hinterlegt. Diese Fälle können hier (leider manuell)\n",
    "# behandelt werden\n",
    "for rede in reden:\n",
    "    rede['party']=rede['party'].replace(u'\\xa0', u' ')\n",
    "    if rede['party']=='Bündnis 90/Die Grünen':\n",
    "        rede['party']='BÜNDNIS 90/DIE GRÜNEN'\n",
    "    if rede['party']=='Fraktionslos':\n",
    "        rede['party']='fraktionslos'\n",
    "\n",
    "    if rede['name'] == 'Anne Spiegel':\n",
    "        rede['party'] = \"SPD\"\n",
    "    if rede['name'] == 'Christine Lambrecht':\n",
    "        rede['party'] = \"SPD\"\n",
    "    if rede['name'] == 'Svenja Schulze':\n",
    "        rede['party'] = \"SPD\"\n",
    "    if rede['name'] == 'Klara Geywitz':\n",
    "        rede['party'] = \"SPD\"\n",
    "    if rede['name'] == 'Wolfgang Schmidt':\n",
    "        rede['party'] = \"SPD\"\n",
    "    if rede['name'] == 'Nancy Faeser':\n",
    "        rede['party'] = \"SPD\"\n",
    "    if rede['name'] == 'Clara Bünger':\n",
    "        rede['party'] = \"DIE LINKE\"\n",
    "    if rede['name'] == 'Dr. Joachim Pfeiffer':\n",
    "        rede['party'] = \"CDU/CSU\"\n",
    "    if rede['name'] == 'Dr. Dietmar Bartsch':\n",
    "        rede['party'] = \"DIE LINKE\"\n",
    "    if rede['name'] == 'Dr. Eva Högl':\n",
    "        rede['party'] = \"DIE LINKE\"\n",
    "    if rede['name'] == 'Boris Pistorius':\n",
    "        rede['party'] = \"SPD\"\n",
    "    if rede['name'] == 'Sven Schulze':\n",
    "        rede['party'] = \"CDU/CSU\"\n",
    "    if rede['name'] == 'Dr. Reiner':\n",
    "        rede['party'] = \"AfD\"\n",
    "    if rede['name'] == 'Peter Beuth':\n",
    "        rede['party'] = \"CDU/CSU\"\n",
    "    if rede['name'] == 'Klaus Holetschek':\n",
    "        rede['party'] = \"CDU/CSU\"\n",
    "    if rede['name'] == 'Daniel Rinkert':\n",
    "        rede['party'] = \"SPD\"\n",
    "    if rede['name'] == 'Anke Rehlinger':\n",
    "        rede['party'] = \"SPD\"\n",
    "    if rede['name'] == 'Bettina Jarasch':\n",
    "        rede['party'] = 'BÜNDNIS 90/DIE GRÜNEN'\n",
    "    if rede['name'] == 'Emily Vontz':\n",
    "        rede['party'] = \"SPD\"\n",
    "    if rede['name'] == 'Dr. Dieter Romann':\n",
    "        rede['party'] = \"CDU/CSU\"\n",
    "    if rede['name'] == 'Alexander Bartz':\n",
    "        rede['party'] = \"SPD\"\n",
    "        \n",
    "    # manche Namen werden von Zeit zu Zeit unterschiedlich geschrieben. Diese Fälle können hier (leider auch manuell)\n",
    "    # behandelt werden.\n",
    "    if rede['name']=='Albert H. Weiler':\n",
    "        rede['name']='Albert Weiler'\n",
    "    if rede['name']=='Eva-Maria Elisabeth Schreiber':\n",
    "        rede['name']='Eva-Maria Schreiber'\n",
    "    if rede['name']=='Heidrun Bluhm-Förster':\n",
    "        rede['name']='Heidrun Bluhm'\n",
    "    if rede['name']==' in der Beek':\n",
    "        rede['name']='Olaf in der Beek'\n",
    "    if rede['name']==' ':\n",
    "        rede['name']='Unbekannt'\n",
    "    if rede['name']=='Eberhardt Alexander Gauland':\n",
    "        rede['name']='Alexander Gauland'\n",
    "    if rede['name']=='Joana Eleonora Cotar':\n",
    "        rede['name']='Joana Cotar'\n",
    "    if rede['name']=='Wolfgang Schäuble':\n",
    "        rede['name']='Dr. Wolfgang Schäuble'\n",
    "    if rede['name']=='Thomas de Maizière':\n",
    "        rede['name']='Thomas Maizière'\n",
    "    if rede['name']=='Alterspräsident Dr. Hermann Otto Solms':\n",
    "        rede['name']='Hermann Otto Solms'\n",
    "    if rede['name']=='Konstantin Elias Kuhle':\n",
    "        rede['name']='Konstantin Kuhle'\n",
    "    if rede['name']=='Konstantin Elias Kuhle':\n",
    "        rede['name']='Konstantin Kuhle'\n",
    "    if rede['name']=='Elvan Korkmaz':\n",
    "        rede['name']='Elvan Korkmaz-Emre'"
   ]
  },
  {
   "cell_type": "code",
   "execution_count": 7,
   "metadata": {
    "ExecuteTime": {
     "end_time": "2023-04-28T17:26:39.318406Z",
     "start_time": "2023-04-28T17:26:14.060546Z"
    }
   },
   "outputs": [],
   "source": [
    "with open(f\"{path}{name_of_file}\", 'w') as fp:\n",
    "    json.dump(reden, fp, sort_keys=True, indent=4)"
   ]
  },
  {
   "cell_type": "code",
   "execution_count": null,
   "metadata": {
    "collapsed": false,
    "jupyter": {
     "outputs_hidden": false
    }
   },
   "outputs": [],
   "source": []
  }
 ],
 "metadata": {
  "kernelspec": {
   "display_name": "Python 3",
   "language": "python",
   "name": "python3"
  },
  "language_info": {
   "codemirror_mode": {
    "name": "ipython",
    "version": 3
   },
   "file_extension": ".py",
   "mimetype": "text/x-python",
   "name": "python",
   "nbconvert_exporter": "python",
   "pygments_lexer": "ipython3",
   "version": "3.7.3"
  }
 },
 "nbformat": 4,
 "nbformat_minor": 5
}
