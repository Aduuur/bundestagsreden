{
 "cells": [
  {
   "cell_type": "code",
   "execution_count": 1,
   "id": "7f7941af-1f2e-4720-b3d7-35796e7b409a",
   "metadata": {},
   "outputs": [],
   "source": [
    "import os\n",
    "import json\n",
    "from datetime import datetime\n",
    "from lxml import etree"
   ]
  },
  {
   "cell_type": "code",
   "execution_count": 2,
   "id": "46459b0d-f36e-48d7-8788-d5d3873067b6",
   "metadata": {},
   "outputs": [],
   "source": [
    "def loadSpeeches(directory: str):\n",
    "    parser = etree.XMLParser(dtd_validation=False)\n",
    "    filenames = [os.path.join(directory, file) for file in os.listdir(directory)]\n",
    "    return [etree.parse(file, parser) for file in filenames]\n"
   ]
  },
  {
   "cell_type": "code",
   "execution_count": 3,
   "id": "26241ed0-6787-47d5-b9f9-e4034c04369f",
   "metadata": {},
   "outputs": [
    {
     "name": "stdout",
     "output_type": "stream",
     "text": [
      "42\n",
      "26.10.2021\n"
     ]
    }
   ],
   "source": [
    "legislative_period = 20\n",
    "\n",
    "speeches_path = f'../../data/data_{legislative_period}/speeches'\n",
    "\n",
    "speeches_xml = loadSpeeches(speeches_path)\n",
    "\n",
    "print(len(speeches_xml))\n",
    "print(speeches_xml[0].getroot().attrib.get('sitzung-datum'))"
   ]
  },
  {
   "cell_type": "code",
   "execution_count": null,
   "id": "0e315ee8-bc5e-47cd-99e3-a7149ea344ca",
   "metadata": {},
   "outputs": [],
   "source": []
  }
 ],
 "metadata": {
  "kernelspec": {
   "display_name": "Python 3",
   "language": "python",
   "name": "python3"
  },
  "language_info": {
   "codemirror_mode": {
    "name": "ipython",
    "version": 3
   },
   "file_extension": ".py",
   "mimetype": "text/x-python",
   "name": "python",
   "nbconvert_exporter": "python",
   "pygments_lexer": "ipython3",
   "version": "3.8.3"
  }
 },
 "nbformat": 4,
 "nbformat_minor": 5
}
